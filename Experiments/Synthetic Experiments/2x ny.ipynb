{
 "cells": [
  {
   "cell_type": "code",
   "execution_count": 1,
   "metadata": {},
   "outputs": [],
   "source": [
    "import os "
   ]
  },
  {
   "cell_type": "code",
   "execution_count": 3,
   "metadata": {},
   "outputs": [],
   "source": [
    "os.chdir('/home/yehudan/Desktop/DecisionTree/DecisionTree')"
   ]
  },
  {
   "cell_type": "code",
   "execution_count": 2,
   "metadata": {},
   "outputs": [],
   "source": [
    "import Trees\n",
    "import time\n",
    "import datetime\n",
    "from sklearn.model_selection import train_test_split\n",
    "import numpy as np\n",
    "import pandas as pd\n",
    "from sklearn.datasets import make_regression\n",
    "from sklearn.metrics import mean_squared_error\n",
    "import matplotlib.pyplot as plt\n",
    "from sklearn.model_selection import KFold\n",
    "from sklearn.model_selection import LeaveOneOut\n",
    "import numpy as np\n",
    "import pandas as pd\n",
    "import time\n",
    "from sklearn.model_selection import train_test_split\n",
    "from sklearn import tree\n",
    "from sklearn.model_selection import GridSearchCV\n",
    "from sklearn.multioutput import MultiOutputRegressor\n",
    "from tqdm import tqdm\n",
    "from sklearn.model_selection import train_test_split\n",
    "from sklearn.metrics import mean_squared_error\n",
    "import matplotlib.pyplot as plt\n",
    "plt.rcParams[\"figure.figsize\"] = (5,5)"
   ]
  },
  {
   "cell_type": "code",
   "execution_count": 6,
   "metadata": {},
   "outputs": [],
   "source": [
    "def prune(model, X, y, maximum_depth=5, cv = KFold(n_splits=5)):\n",
    "    if isinstance(X, pd.DataFrame):\n",
    "        X = X.to_numpy()\n",
    "    if isinstance(y, pd.DataFrame):\n",
    "        y = y.to_numpy()\n",
    "    lst_mse = []\n",
    "    # TODO: how to select max_depth\n",
    "    for max_depth in range(1, maximum_depth+1):\n",
    "        mse_max_depth_i = 0\n",
    "#         DT = Trees.CartDecisionTreeRegressor(max_depth=max_depth)\n",
    "        DT = model(max_depth=max_depth)\n",
    "        for train_index, test_index in cv.split(X):\n",
    "            X_train, x_test = pd.DataFrame(X[train_index]), X[test_index]\n",
    "            y_train, y_test = pd.DataFrame(y[train_index]), y[test_index]\n",
    "            DT.fit(X_train, y_train)\n",
    "            y_hat = DT.predict(x_test)\n",
    "            mse_max_depth_i += mean_squared_error(y_test, y_hat)\n",
    "        mse_max_depth_i = np.mean(mse_max_depth_i)\n",
    "        lst_mse.append(mse_max_depth_i)\n",
    "\n",
    "#     plt.plot(range(1, maximum_depth+1), lst_mse)\n",
    "\n",
    "#     # naming the x axis\n",
    "#     plt.xlabel('max depth')\n",
    "#     # naming the y axis\n",
    "#     plt.ylabel('MSE')\n",
    "\n",
    "#     # giving a title to my graph\n",
    "#     plt.title('MSE vs max depth')\n",
    "\n",
    "#     # function to show the plot\n",
    "#     plt.show()\n",
    "    return np.argmin(lst_mse) + 1"
   ]
  },
  {
   "cell_type": "markdown",
   "metadata": {},
   "source": [
    "#### Functions using to predict "
   ]
  },
  {
   "cell_type": "code",
   "execution_count": 7,
   "metadata": {},
   "outputs": [],
   "source": [
    "def predict_cut_only_for_all(X_train, X_test, Y_train, Y_test):\n",
    "    max_depth = prune(Trees.CartDecisionTreeRegressor,X_train, Y_train)\n",
    "    regressor_only_for_all = Trees.CartDecisionTreeRegressor(max_depth=max_depth)\n",
    "    regressor_only_for_all.fit(X_train, Y_train)\n",
    "    result_only_for_all = regressor_only_for_all.predict(X_test)\n",
    "    return result_only_for_all\n",
    "\n",
    "\n",
    "def predict_cut_only_for_individual(X_train, X_test, Y_train, Y_test):\n",
    "    result_only_for_individual = list()\n",
    "    for i in range(Y_train.shape[1]):\n",
    "        y_i = Y_train[i]  # Take only y_i\n",
    "#         print('pruning for individual')\n",
    "        max_depth = prune(Trees.CartDecisionTreeRegressor,X_train, y_i)\n",
    "        regressor_only_for_individual = Trees.CartDecisionTreeRegressor(max_depth=max_depth)\n",
    "        regressor_only_for_individual.fit(X_train, y_i)\n",
    "        predict_yi = regressor_only_for_individual.predict(X_test)\n",
    "        predict_yi = [item for sublist in predict_yi for item in sublist]  # create flat list\n",
    "        result_only_for_individual.append(predict_yi)\n",
    "    result_only_for_individual = np.array(result_only_for_individual)\n",
    "    result_only_for_individual = np.transpose(result_only_for_individual)\n",
    "    return result_only_for_individual  \n",
    "\n",
    "\n",
    "def predict_LOO(X_train, X_test, Y_train, Y_test,use_pruning, cv=KFold(n_splits=10)): # High max depth- used to stop when score decreas\n",
    "    if use_pruning:\n",
    "        max_depth = prune(Trees.LooDecisionTreeRegressor,X_train, Y_train)\n",
    "    else:\n",
    "        max_depth = np.inf\n",
    "    regressor_LOO = Trees.LooDecisionTreeRegressor(max_depth=max_depth, cv=cv)\n",
    "    regressor_LOO.fit(X_train, Y_train)\n",
    "    result_LOO = regressor_LOO.predict(X_test)\n",
    "    return result_LOO"
   ]
  },
  {
   "cell_type": "markdown",
   "metadata": {},
   "source": [
    "## Simulate data "
   ]
  },
  {
   "cell_type": "code",
   "execution_count": 8,
   "metadata": {},
   "outputs": [],
   "source": [
    "def create_y(X, alpha):\n",
    "    y = []\n",
    "    for row in X:\n",
    "        if row[0] > alpha[0]:\n",
    "            if row[1] > alpha[1]:\n",
    "                y.append(0)\n",
    "            else:\n",
    "                y.append(1)\n",
    "        else:\n",
    "            if row[1] > alpha[2]:\n",
    "                y.append(2)\n",
    "            else:\n",
    "                y.append(3)\n",
    "\n",
    "    return np.array(y).reshape(X.shape[0], -1)"
   ]
  },
  {
   "cell_type": "code",
   "execution_count": 9,
   "metadata": {},
   "outputs": [],
   "source": [
    "def create_X_y_corr(n_samples,n_targets,random_alpha, sd=1, seed=0):  \n",
    "    np.random.seed(seed)\n",
    "    x_1_2 = np.random.uniform(-10, 10, (n_samples, 2))\n",
    "    y = np.zeros((n_samples,n_targets)) \n",
    "    for n in range(n_targets):\n",
    "        np.random.seed(seed+n+1)\n",
    "        if random_alpha:\n",
    "            alpha = [np.random.uniform(-10,10)] * 3 \n",
    "#             print(alpha)\n",
    "        else: # Alpha is equel to 0 for all n targets\n",
    "            alpha = [0,0,0]\n",
    "        noise_n = np.random.normal(0, sd, (n_samples, 1))\n",
    "        y_n = create_y(x_1_2, alpha=alpha) + noise_n\n",
    "#         print(y_n)\n",
    "#         print('-------------')\n",
    "        y[:,n] = y_n.reshape(n_samples,)\n",
    "#     print(pd.DataFrame(y))\n",
    "\n",
    "    return x_1_2, y\n",
    "            \n",
    "        "
   ]
  },
  {
   "cell_type": "markdown",
   "metadata": {},
   "source": [
    "#### MSE depnding on correlation function (for each 3 models)"
   ]
  },
  {
   "cell_type": "code",
   "execution_count": 10,
   "metadata": {},
   "outputs": [],
   "source": [
    "def mse_depnding_on_correlation(n_targets, n_samples,random_alpha, sd, use_pruning, n_iter=50, cv=KFold(n_splits=10), n_features=1):\n",
    "    mse_for_all_mean = []\n",
    "    mse_for_individual_mean = []\n",
    "    mse_Loo_mean = []\n",
    "\n",
    "    for n in tqdm(range(2, n_targets+1), desc = 'n Progress Bar'):\n",
    "        #         print('**********************************************************')\n",
    "        #         print('alpha= ', alpha)\n",
    "        mse_for_all, mse_for_individual, mse_LOO = list(), list(), list()\n",
    "        for iteration in range(n_iter):\n",
    "#             print('iter:',iteration)\n",
    "            X, y = create_X_y_corr(n_samples=n_samples, n_targets=n,random_alpha=random_alpha, seed=iteration * 2, sd=sd)\n",
    "            X_train, X_test, Y_train, Y_test = train_test_split(X, y, test_size=0.2, random_state=iteration * 3)\n",
    "            X_train, Y_train = pd.DataFrame(X_train), pd.DataFrame(Y_train)\n",
    "\n",
    "            # Predict only for all\n",
    "            result_only_for_all = predict_cut_only_for_all(X_train, X_test, Y_train, Y_test)\n",
    "            mse_for_all.append(mean_squared_error(Y_test, result_only_for_all))\n",
    "\n",
    "            # Predict only for individual\n",
    "            result_only_for_individual = predict_cut_only_for_individual(X_train, X_test, Y_train, Y_test)\n",
    "            mse_for_individual.append(mean_squared_error(Y_test, result_only_for_individual))\n",
    "\n",
    "            # predict using LOO\n",
    "            result_LOO = predict_LOO(X_train, X_test, Y_train, Y_test,use_pruning=use_pruning, cv=cv)\n",
    "            mse_LOO.append(mean_squared_error(Y_test, result_LOO))\n",
    "\n",
    "        mse_for_all_mean.append(np.mean(mse_for_all))\n",
    "        print(f'mse_for_all_mean={mse_for_all_mean}')\n",
    "        mse_for_individual_mean.append(np.mean(mse_for_individual))\n",
    "        print(f'mse_for_individual_mean={mse_for_individual_mean}')\n",
    "        mse_Loo_mean.append(np.mean(mse_LOO))\n",
    "        print(f'mse_Loo_mean={mse_Loo_mean}')\n",
    "\n",
    "    return mse_for_all_mean, mse_for_individual_mean, mse_Loo_mean"
   ]
  },
  {
   "cell_type": "markdown",
   "metadata": {},
   "source": [
    "#### Plot function  "
   ]
  },
  {
   "cell_type": "code",
   "execution_count": 11,
   "metadata": {},
   "outputs": [],
   "source": [
    "def plot_dependencies(x_variable: range, mse_for_all: list, mse_for_individual: list, mse_LOO, x_label_text: str):\n",
    "    fig, ax = plt.subplots()\n",
    "    plt.figure(figsize=(6, 6))\n",
    "\n",
    "\n",
    "    ax.plot(x_variable, mse_for_all, linestyle='dashed', markersize=0.7, label=\"MT\")\n",
    "    ax.plot(x_variable, mse_for_individual, linestyle='dashed', markersize=0.7, label='ST')\n",
    "    ax.plot(x_variable, mse_LOO, linestyle='dashed', markersize=0.7, label='Suggested model')\n",
    "\n",
    "    ax.set_title('MSE as funcction of {}'.format(x_label_text))\n",
    "    ax.legend()\n",
    "    ax.xaxis.set_label_text(x_label_text)\n",
    "    ax.yaxis.set_label_text('MSE')\n",
    "    ax.grid()\n",
    "\n"
   ]
  },
  {
   "cell_type": "markdown",
   "metadata": {},
   "source": [
    "# -----------------------------------------------------------------------------------------------------------"
   ]
  },
  {
   "cell_type": "code",
   "execution_count": 12,
   "metadata": {},
   "outputs": [],
   "source": [
    "N_TARGETS = 7"
   ]
  },
  {
   "cell_type": "code",
   "execution_count": 13,
   "metadata": {},
   "outputs": [
    {
     "name": "stdout",
     "output_type": "stream",
     "text": [
      "Cell execution time: 2023-05-21 14:38:36.061350\n"
     ]
    },
    {
     "name": "stderr",
     "output_type": "stream",
     "text": [
      "n Progress Bar:  17%|█▋        | 1/6 [8:27:22<42:16:51, 30442.29s/it]"
     ]
    },
    {
     "name": "stdout",
     "output_type": "stream",
     "text": [
      "mse_for_all_mean=[1.0311456938815386]\n",
      "mse_for_individual_mean=[1.0412656179820696]\n",
      "mse_Loo_mean=[1.035332228423067]\n"
     ]
    },
    {
     "name": "stderr",
     "output_type": "stream",
     "text": [
      "n Progress Bar:  33%|███▎      | 2/6 [20:14:48<41:40:13, 37503.29s/it]"
     ]
    },
    {
     "name": "stdout",
     "output_type": "stream",
     "text": [
      "mse_for_all_mean=[1.0311456938815386, 1.0279038114266557]\n",
      "mse_for_individual_mean=[1.0412656179820696, 1.040236738066872]\n",
      "mse_Loo_mean=[1.035332228423067, 1.0328018327568942]\n"
     ]
    },
    {
     "name": "stderr",
     "output_type": "stream",
     "text": [
      "n Progress Bar:  50%|█████     | 3/6 [35:10:21<37:25:42, 44914.04s/it]"
     ]
    },
    {
     "name": "stdout",
     "output_type": "stream",
     "text": [
      "mse_for_all_mean=[1.0311456938815386, 1.0279038114266557, 1.0238032000632846]\n",
      "mse_for_individual_mean=[1.0412656179820696, 1.040236738066872, 1.0386716722625393]\n",
      "mse_Loo_mean=[1.035332228423067, 1.0328018327568942, 1.028218370144823]\n"
     ]
    },
    {
     "name": "stderr",
     "output_type": "stream",
     "text": [
      "n Progress Bar:  67%|██████▋   | 4/6 [53:12:39<29:20:38, 52819.38s/it]"
     ]
    },
    {
     "name": "stdout",
     "output_type": "stream",
     "text": [
      "mse_for_all_mean=[1.0311456938815386, 1.0279038114266557, 1.0238032000632846, 1.023086145382416]\n",
      "mse_for_individual_mean=[1.0412656179820696, 1.040236738066872, 1.0386716722625393, 1.0388160225385774]\n",
      "mse_Loo_mean=[1.035332228423067, 1.0328018327568942, 1.028218370144823, 1.0265683563063257]\n"
     ]
    },
    {
     "name": "stderr",
     "output_type": "stream",
     "text": [
      "n Progress Bar:  83%|████████▎ | 5/6 [74:17:09<16:58:51, 61131.47s/it]"
     ]
    },
    {
     "name": "stdout",
     "output_type": "stream",
     "text": [
      "mse_for_all_mean=[1.0311456938815386, 1.0279038114266557, 1.0238032000632846, 1.023086145382416, 1.020420929601315]\n",
      "mse_for_individual_mean=[1.0412656179820696, 1.040236738066872, 1.0386716722625393, 1.0388160225385774, 1.0375108572908747]\n",
      "mse_Loo_mean=[1.035332228423067, 1.0328018327568942, 1.028218370144823, 1.0265683563063257, 1.0237154909039778]\n"
     ]
    },
    {
     "name": "stderr",
     "output_type": "stream",
     "text": [
      "n Progress Bar: 100%|██████████| 6/6 [98:11:22<00:00, 58913.70s/it]   "
     ]
    },
    {
     "name": "stdout",
     "output_type": "stream",
     "text": [
      "mse_for_all_mean=[1.0311456938815386, 1.0279038114266557, 1.0238032000632846, 1.023086145382416, 1.020420929601315, 1.0207272812851191]\n",
      "mse_for_individual_mean=[1.0412656179820696, 1.040236738066872, 1.0386716722625393, 1.0388160225385774, 1.0375108572908747, 1.0390724427966906]\n",
      "mse_Loo_mean=[1.035332228423067, 1.0328018327568942, 1.028218370144823, 1.0265683563063257, 1.0237154909039778, 1.0234414782962724]\n"
     ]
    },
    {
     "name": "stderr",
     "output_type": "stream",
     "text": [
      "\n"
     ]
    }
   ],
   "source": [
    "start_time = time.time()\n",
    "print(f'Cell execution time: {datetime.datetime.now()}')\n",
    "mse_for_all, mse_for_individual, mse_LOO = mse_depnding_on_correlation(n_targets=N_TARGETS,random_alpha=False,\n",
    "                                                                       n_samples=600,use_pruning=True, n_iter=500,\n",
    "                                                                       sd=1)\n"
   ]
  },
  {
   "cell_type": "code",
   "execution_count": 14,
   "metadata": {},
   "outputs": [
    {
     "data": {
      "text/plain": [
       "([1.0311456938815386,\n",
       "  1.0279038114266557,\n",
       "  1.0238032000632846,\n",
       "  1.023086145382416,\n",
       "  1.020420929601315,\n",
       "  1.0207272812851191],\n",
       " [1.0412656179820696,\n",
       "  1.040236738066872,\n",
       "  1.0386716722625393,\n",
       "  1.0388160225385774,\n",
       "  1.0375108572908747,\n",
       "  1.0390724427966906],\n",
       " [1.035332228423067,\n",
       "  1.0328018327568942,\n",
       "  1.028218370144823,\n",
       "  1.0265683563063257,\n",
       "  1.0237154909039778,\n",
       "  1.0234414782962724])"
      ]
     },
     "execution_count": 14,
     "metadata": {},
     "output_type": "execute_result"
    }
   ],
   "source": [
    "mse_for_all, mse_for_individual, mse_LOO"
   ]
  },
  {
   "cell_type": "code",
   "execution_count": 15,
   "metadata": {},
   "outputs": [
    {
     "data": {
      "image/png": "[encoded data removed]",
      "text/plain": [
       "<Figure size 360x360 with 1 Axes>"
      ]
     },
     "metadata": {
      "needs_background": "light"
     },
     "output_type": "display_data"
    },
    {
     "data": {
      "text/plain": [
       "<Figure size 432x432 with 0 Axes>"
      ]
     },
     "metadata": {},
     "output_type": "display_data"
    },
    {
     "name": "stdout",
     "output_type": "stream",
     "text": [
      "--- 353482.44966077805 seconds ---\n"
     ]
    }
   ],
   "source": [
    "plot_dependencies(range(2, N_TARGETS+1), mse_for_all, mse_for_individual, mse_LOO, 'Number of targets')\n",
    "plt.show()\n",
    "print(\"--- %s seconds ---\" % (time.time() - start_time))"
   ]
  },
  {
   "cell_type": "code",
   "execution_count": 16,
   "metadata": {},
   "outputs": [
    {
     "name": "stdout",
     "output_type": "stream",
     "text": [
      "Cell execution time: 2023-05-25 16:49:58.516726\n"
     ]
    },
    {
     "name": "stderr",
     "output_type": "stream",
     "text": [
      "n Progress Bar:  17%|█▋        | 1/6 [3:41:47<18:28:55, 13307.05s/it]"
     ]
    },
    {
     "name": "stdout",
     "output_type": "stream",
     "text": [
      "mse_for_all_mean=[1.140521159006108]\n",
      "mse_for_individual_mean=[1.0869077522334696]\n",
      "mse_Loo_mean=[1.0843370153872507]\n"
     ]
    },
    {
     "name": "stderr",
     "output_type": "stream",
     "text": [
      "n Progress Bar:  33%|███▎      | 2/6 [8:53:35<18:18:58, 16484.53s/it]"
     ]
    },
    {
     "name": "stdout",
     "output_type": "stream",
     "text": [
      "mse_for_all_mean=[1.140521159006108, 1.1666613982884642]\n",
      "mse_for_individual_mean=[1.0869077522334696, 1.0866583262241112]\n",
      "mse_Loo_mean=[1.0843370153872507, 1.0810882369745918]\n"
     ]
    },
    {
     "name": "stderr",
     "output_type": "stream",
     "text": [
      "n Progress Bar:  50%|█████     | 3/6 [15:38:43<16:42:50, 20056.86s/it]"
     ]
    },
    {
     "name": "stdout",
     "output_type": "stream",
     "text": [
      "mse_for_all_mean=[1.140521159006108, 1.1666613982884642, 1.1890993388783981]\n",
      "mse_for_individual_mean=[1.0869077522334696, 1.0866583262241112, 1.0861526311544936]\n",
      "mse_Loo_mean=[1.0843370153872507, 1.0810882369745918, 1.080966500695697]\n"
     ]
    },
    {
     "name": "stderr",
     "output_type": "stream",
     "text": [
      "n Progress Bar:  67%|██████▋   | 4/6 [23:58:12<13:18:59, 23969.80s/it]"
     ]
    },
    {
     "name": "stdout",
     "output_type": "stream",
     "text": [
      "mse_for_all_mean=[1.140521159006108, 1.1666613982884642, 1.1890993388783981, 1.1991688334511796]\n",
      "mse_for_individual_mean=[1.0869077522334696, 1.0866583262241112, 1.0861526311544936, 1.0830868500248516]\n",
      "mse_Loo_mean=[1.0843370153872507, 1.0810882369745918, 1.080966500695697, 1.077971544029259]\n"
     ]
    },
    {
     "name": "stderr",
     "output_type": "stream",
     "text": [
      "n Progress Bar:  83%|████████▎ | 5/6 [33:51:07<7:49:15, 28155.01s/it] "
     ]
    },
    {
     "name": "stdout",
     "output_type": "stream",
     "text": [
      "mse_for_all_mean=[1.140521159006108, 1.1666613982884642, 1.1890993388783981, 1.1991688334511796, 1.207042821966672]\n",
      "mse_for_individual_mean=[1.0869077522334696, 1.0866583262241112, 1.0861526311544936, 1.0830868500248516, 1.0795046528715753]\n",
      "mse_Loo_mean=[1.0843370153872507, 1.0810882369745918, 1.080966500695697, 1.077971544029259, 1.0739118075855498]\n"
     ]
    },
    {
     "name": "stderr",
     "output_type": "stream",
     "text": [
      "n Progress Bar: 100%|██████████| 6/6 [45:17:52<00:00, 27178.76s/it]  "
     ]
    },
    {
     "name": "stdout",
     "output_type": "stream",
     "text": [
      "mse_for_all_mean=[1.140521159006108, 1.1666613982884642, 1.1890993388783981, 1.1991688334511796, 1.207042821966672, 1.220441987527623]\n",
      "mse_for_individual_mean=[1.0869077522334696, 1.0866583262241112, 1.0861526311544936, 1.0830868500248516, 1.0795046528715753, 1.0786675269598291]\n",
      "mse_Loo_mean=[1.0843370153872507, 1.0810882369745918, 1.080966500695697, 1.077971544029259, 1.0739118075855498, 1.0735767040428605]\n"
     ]
    },
    {
     "name": "stderr",
     "output_type": "stream",
     "text": [
      "\n"
     ]
    }
   ],
   "source": [
    "start_time = time.time()\n",
    "print(f'Cell execution time: {datetime.datetime.now()}')\n",
    "mse_for_all_ra, mse_for_individual_ra, mse_LOO_ra = mse_depnding_on_correlation(n_targets=N_TARGETS,random_alpha=True,\n",
    "                                                                       n_samples=6`00,use_pruning=True, n_iter=500,\n",
    "                                                                       sd=1)\n"
   ]
  },
  {
   "cell_type": "code",
   "execution_count": 17,
   "metadata": {},
   "outputs": [
    {
     "data": {
      "text/plain": [
       "([1.140521159006108,\n",
       "  1.1666613982884642,\n",
       "  1.1890993388783981,\n",
       "  1.1991688334511796,\n",
       "  1.207042821966672,\n",
       "  1.220441987527623],\n",
       " [1.0869077522334696,\n",
       "  1.0866583262241112,\n",
       "  1.0861526311544936,\n",
       "  1.0830868500248516,\n",
       "  1.0795046528715753,\n",
       "  1.0786675269598291],\n",
       " [1.0843370153872507,\n",
       "  1.0810882369745918,\n",
       "  1.080966500695697,\n",
       "  1.077971544029259,\n",
       "  1.0739118075855498,\n",
       "  1.0735767040428605])"
      ]
     },
     "execution_count": 17,
     "metadata": {},
     "output_type": "execute_result"
    }
   ],
   "source": [
    "mse_for_all_ra, mse_for_individual_ra, mse_LOO_ra"
   ]
  },
  {
   "cell_type": "code",
   "execution_count": 20,
   "metadata": {},
   "outputs": [
    {
     "data": {
      "image/png": "[encoded data removed]",
      "text/plain": [
       "<Figure size 360x360 with 1 Axes>"
      ]
     },
     "metadata": {
      "needs_background": "light"
     },
     "output_type": "display_data"
    },
    {
     "data": {
      "text/plain": [
       "<Figure size 432x432 with 0 Axes>"
      ]
     },
     "metadata": {},
     "output_type": "display_data"
    },
    {
     "name": "stdout",
     "output_type": "stream",
     "text": [
      "--- 190063.41204881668 seconds ---\n"
     ]
    }
   ],
   "source": [
    "plot_dependencies(range(2, N_TARGETS+1), mse_for_all_ra, mse_for_individual_ra, mse_LOO_ra, 'Number of targets')\n",
    "plt.show()\n",
    "print(\"--- %s seconds ---\" % (time.time() - start_time))"
   ]
  }
 ],
 "metadata": {
  "kernelspec": {
   "display_name": "Python 3 (ipykernel)",
   "language": "python",
   "name": "python3"
  },
  "language_info": {
   "codemirror_mode": {
    "name": "ipython",
    "version": 3
   },
   "file_extension": ".py",
   "mimetype": "text/x-python",
   "name": "python",
   "nbconvert_exporter": "python",
   "pygments_lexer": "ipython3",
   "version": "3.9.7"
  }
 },
 "nbformat": 4,
 "nbformat_minor": 4
}
