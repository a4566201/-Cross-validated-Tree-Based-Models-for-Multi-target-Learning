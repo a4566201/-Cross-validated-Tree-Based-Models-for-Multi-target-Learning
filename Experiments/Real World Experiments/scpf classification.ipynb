{
 "cells": [
  {
   "cell_type": "code",
   "execution_count": 1,
   "id": "e9714068",
   "metadata": {},
   "outputs": [],
   "source": [
    "import os "
   ]
  },
  {
   "cell_type": "code",
   "execution_count": 2,
   "id": "2c33b048",
   "metadata": {},
   "outputs": [],
   "source": [
    "os.chdir('/home/yehudan/Desktop/DecisionTree/DecisionTree')"
   ]
  },
  {
   "cell_type": "code",
   "execution_count": 1,
   "id": "94563be1",
   "metadata": {},
   "outputs": [],
   "source": [
    "import time\n",
    "from datasets import mse_comparison \n",
    "from scipy.io.arff import loadarff\n",
    "import pandas as pd\n",
    "import numpy as np"
   ]
  },
  {
   "cell_type": "code",
   "execution_count": 4,
   "id": "bd41cfdd",
   "metadata": {},
   "outputs": [
    {
     "data": {
      "text/plain": [
       "(1137, 26)"
      ]
     },
     "execution_count": 4,
     "metadata": {},
     "output_type": "execute_result"
    }
   ],
   "source": [
    "raw_data = loadarff('datasets/scpf.arff')\n",
    "df = pd.DataFrame(raw_data[0])\n",
    "df.shape"
   ]
  },
  {
   "cell_type": "code",
   "execution_count": 5,
   "id": "f084c116",
   "metadata": {},
   "outputs": [
    {
     "data": {
      "text/html": [
       "<div>\n",
       "<style scoped>\n",
       "    .dataframe tbody tr th:only-of-type {\n",
       "        vertical-align: middle;\n",
       "    }\n",
       "\n",
       "    .dataframe tbody tr th {\n",
       "        vertical-align: top;\n",
       "    }\n",
       "\n",
       "    .dataframe thead th {\n",
       "        text-align: right;\n",
       "    }\n",
       "</style>\n",
       "<table border=\"1\" class=\"dataframe\">\n",
       "  <thead>\n",
       "    <tr style=\"text-align: right;\">\n",
       "      <th></th>\n",
       "      <th>daysUntilLastIssue</th>\n",
       "      <th>source_city_initiated</th>\n",
       "      <th>source_android</th>\n",
       "      <th>source_remote_api_created</th>\n",
       "      <th>source_new_map_widget</th>\n",
       "      <th>source_iphone</th>\n",
       "      <th>tag_type_tree</th>\n",
       "      <th>tag_type_street_light</th>\n",
       "      <th>tag_type_graffiti</th>\n",
       "      <th>tag_type_pothole</th>\n",
       "      <th>...</th>\n",
       "      <th>latitude</th>\n",
       "      <th>longitude</th>\n",
       "      <th>city_Oakland</th>\n",
       "      <th>city_Chicago</th>\n",
       "      <th>city_NH</th>\n",
       "      <th>city_Richmond</th>\n",
       "      <th>distanceFromCenter</th>\n",
       "      <th>num_views</th>\n",
       "      <th>num_votes</th>\n",
       "      <th>num_comments</th>\n",
       "    </tr>\n",
       "  </thead>\n",
       "  <tbody>\n",
       "    <tr>\n",
       "      <th>count</th>\n",
       "      <td>1137.000000</td>\n",
       "      <td>874.000000</td>\n",
       "      <td>874.000000</td>\n",
       "      <td>874.000000</td>\n",
       "      <td>874.000000</td>\n",
       "      <td>874.00000</td>\n",
       "      <td>343.000000</td>\n",
       "      <td>343.00000</td>\n",
       "      <td>343.000000</td>\n",
       "      <td>343.000000</td>\n",
       "      <td>...</td>\n",
       "      <td>1137.000000</td>\n",
       "      <td>1137.000000</td>\n",
       "      <td>1137.000000</td>\n",
       "      <td>1137.000000</td>\n",
       "      <td>1137.000000</td>\n",
       "      <td>1137.000000</td>\n",
       "      <td>1137.000000</td>\n",
       "      <td>1137.000000</td>\n",
       "      <td>1137.000000</td>\n",
       "      <td>1137.000000</td>\n",
       "    </tr>\n",
       "    <tr>\n",
       "      <th>mean</th>\n",
       "      <td>349.966579</td>\n",
       "      <td>0.043478</td>\n",
       "      <td>0.025172</td>\n",
       "      <td>0.797483</td>\n",
       "      <td>0.046911</td>\n",
       "      <td>0.08238</td>\n",
       "      <td>0.186589</td>\n",
       "      <td>0.09621</td>\n",
       "      <td>0.049563</td>\n",
       "      <td>0.131195</td>\n",
       "      <td>...</td>\n",
       "      <td>40.330571</td>\n",
       "      <td>-88.028220</td>\n",
       "      <td>0.101143</td>\n",
       "      <td>0.607740</td>\n",
       "      <td>0.038698</td>\n",
       "      <td>0.252419</td>\n",
       "      <td>0.294861</td>\n",
       "      <td>12.656113</td>\n",
       "      <td>1.591029</td>\n",
       "      <td>0.104661</td>\n",
       "    </tr>\n",
       "    <tr>\n",
       "      <th>std</th>\n",
       "      <td>88.960590</td>\n",
       "      <td>0.204048</td>\n",
       "      <td>0.156736</td>\n",
       "      <td>0.402106</td>\n",
       "      <td>0.211569</td>\n",
       "      <td>0.27510</td>\n",
       "      <td>0.390150</td>\n",
       "      <td>0.29531</td>\n",
       "      <td>0.217357</td>\n",
       "      <td>0.338107</td>\n",
       "      <td>...</td>\n",
       "      <td>2.015765</td>\n",
       "      <td>12.476467</td>\n",
       "      <td>0.301651</td>\n",
       "      <td>0.488469</td>\n",
       "      <td>0.192960</td>\n",
       "      <td>0.434591</td>\n",
       "      <td>0.192724</td>\n",
       "      <td>37.764403</td>\n",
       "      <td>1.218558</td>\n",
       "      <td>0.787527</td>\n",
       "    </tr>\n",
       "    <tr>\n",
       "      <th>min</th>\n",
       "      <td>259.000000</td>\n",
       "      <td>0.000000</td>\n",
       "      <td>0.000000</td>\n",
       "      <td>0.000000</td>\n",
       "      <td>0.000000</td>\n",
       "      <td>0.00000</td>\n",
       "      <td>0.000000</td>\n",
       "      <td>0.00000</td>\n",
       "      <td>0.000000</td>\n",
       "      <td>0.000000</td>\n",
       "      <td>...</td>\n",
       "      <td>37.462115</td>\n",
       "      <td>-122.301062</td>\n",
       "      <td>0.000000</td>\n",
       "      <td>0.000000</td>\n",
       "      <td>0.000000</td>\n",
       "      <td>0.000000</td>\n",
       "      <td>0.003926</td>\n",
       "      <td>0.000000</td>\n",
       "      <td>1.000000</td>\n",
       "      <td>0.000000</td>\n",
       "    </tr>\n",
       "    <tr>\n",
       "      <th>25%</th>\n",
       "      <td>287.000000</td>\n",
       "      <td>0.000000</td>\n",
       "      <td>0.000000</td>\n",
       "      <td>1.000000</td>\n",
       "      <td>0.000000</td>\n",
       "      <td>0.00000</td>\n",
       "      <td>0.000000</td>\n",
       "      <td>0.00000</td>\n",
       "      <td>0.000000</td>\n",
       "      <td>0.000000</td>\n",
       "      <td>...</td>\n",
       "      <td>37.594639</td>\n",
       "      <td>-87.719467</td>\n",
       "      <td>0.000000</td>\n",
       "      <td>0.000000</td>\n",
       "      <td>0.000000</td>\n",
       "      <td>0.000000</td>\n",
       "      <td>0.133089</td>\n",
       "      <td>0.000000</td>\n",
       "      <td>1.000000</td>\n",
       "      <td>0.000000</td>\n",
       "    </tr>\n",
       "    <tr>\n",
       "      <th>50%</th>\n",
       "      <td>314.000000</td>\n",
       "      <td>0.000000</td>\n",
       "      <td>0.000000</td>\n",
       "      <td>1.000000</td>\n",
       "      <td>0.000000</td>\n",
       "      <td>0.00000</td>\n",
       "      <td>0.000000</td>\n",
       "      <td>0.00000</td>\n",
       "      <td>0.000000</td>\n",
       "      <td>0.000000</td>\n",
       "      <td>...</td>\n",
       "      <td>41.748126</td>\n",
       "      <td>-87.668350</td>\n",
       "      <td>0.000000</td>\n",
       "      <td>1.000000</td>\n",
       "      <td>0.000000</td>\n",
       "      <td>0.000000</td>\n",
       "      <td>0.273061</td>\n",
       "      <td>1.000000</td>\n",
       "      <td>1.000000</td>\n",
       "      <td>0.000000</td>\n",
       "    </tr>\n",
       "    <tr>\n",
       "      <th>75%</th>\n",
       "      <td>390.000000</td>\n",
       "      <td>0.000000</td>\n",
       "      <td>0.000000</td>\n",
       "      <td>1.000000</td>\n",
       "      <td>0.000000</td>\n",
       "      <td>0.00000</td>\n",
       "      <td>0.000000</td>\n",
       "      <td>0.00000</td>\n",
       "      <td>0.000000</td>\n",
       "      <td>0.000000</td>\n",
       "      <td>...</td>\n",
       "      <td>41.894196</td>\n",
       "      <td>-77.501002</td>\n",
       "      <td>0.000000</td>\n",
       "      <td>1.000000</td>\n",
       "      <td>0.000000</td>\n",
       "      <td>1.000000</td>\n",
       "      <td>0.413951</td>\n",
       "      <td>13.000000</td>\n",
       "      <td>2.000000</td>\n",
       "      <td>0.000000</td>\n",
       "    </tr>\n",
       "    <tr>\n",
       "      <th>max</th>\n",
       "      <td>623.000000</td>\n",
       "      <td>1.000000</td>\n",
       "      <td>1.000000</td>\n",
       "      <td>1.000000</td>\n",
       "      <td>1.000000</td>\n",
       "      <td>1.00000</td>\n",
       "      <td>1.000000</td>\n",
       "      <td>1.00000</td>\n",
       "      <td>1.000000</td>\n",
       "      <td>1.000000</td>\n",
       "      <td>...</td>\n",
       "      <td>42.020392</td>\n",
       "      <td>-72.866249</td>\n",
       "      <td>1.000000</td>\n",
       "      <td>1.000000</td>\n",
       "      <td>1.000000</td>\n",
       "      <td>1.000000</td>\n",
       "      <td>0.870937</td>\n",
       "      <td>938.000000</td>\n",
       "      <td>22.000000</td>\n",
       "      <td>20.000000</td>\n",
       "    </tr>\n",
       "  </tbody>\n",
       "</table>\n",
       "<p>8 rows × 26 columns</p>\n",
       "</div>"
      ],
      "text/plain": [
       "       daysUntilLastIssue  source_city_initiated  source_android  \\\n",
       "count         1137.000000             874.000000      874.000000   \n",
       "mean           349.966579               0.043478        0.025172   \n",
       "std             88.960590               0.204048        0.156736   \n",
       "min            259.000000               0.000000        0.000000   \n",
       "25%            287.000000               0.000000        0.000000   \n",
       "50%            314.000000               0.000000        0.000000   \n",
       "75%            390.000000               0.000000        0.000000   \n",
       "max            623.000000               1.000000        1.000000   \n",
       "\n",
       "       source_remote_api_created  source_new_map_widget  source_iphone  \\\n",
       "count                 874.000000             874.000000      874.00000   \n",
       "mean                    0.797483               0.046911        0.08238   \n",
       "std                     0.402106               0.211569        0.27510   \n",
       "min                     0.000000               0.000000        0.00000   \n",
       "25%                     1.000000               0.000000        0.00000   \n",
       "50%                     1.000000               0.000000        0.00000   \n",
       "75%                     1.000000               0.000000        0.00000   \n",
       "max                     1.000000               1.000000        1.00000   \n",
       "\n",
       "       tag_type_tree  tag_type_street_light  tag_type_graffiti  \\\n",
       "count     343.000000              343.00000         343.000000   \n",
       "mean        0.186589                0.09621           0.049563   \n",
       "std         0.390150                0.29531           0.217357   \n",
       "min         0.000000                0.00000           0.000000   \n",
       "25%         0.000000                0.00000           0.000000   \n",
       "50%         0.000000                0.00000           0.000000   \n",
       "75%         0.000000                0.00000           0.000000   \n",
       "max         1.000000                1.00000           1.000000   \n",
       "\n",
       "       tag_type_pothole  ...     latitude    longitude  city_Oakland  \\\n",
       "count        343.000000  ...  1137.000000  1137.000000   1137.000000   \n",
       "mean           0.131195  ...    40.330571   -88.028220      0.101143   \n",
       "std            0.338107  ...     2.015765    12.476467      0.301651   \n",
       "min            0.000000  ...    37.462115  -122.301062      0.000000   \n",
       "25%            0.000000  ...    37.594639   -87.719467      0.000000   \n",
       "50%            0.000000  ...    41.748126   -87.668350      0.000000   \n",
       "75%            0.000000  ...    41.894196   -77.501002      0.000000   \n",
       "max            1.000000  ...    42.020392   -72.866249      1.000000   \n",
       "\n",
       "       city_Chicago      city_NH  city_Richmond  distanceFromCenter  \\\n",
       "count   1137.000000  1137.000000    1137.000000         1137.000000   \n",
       "mean       0.607740     0.038698       0.252419            0.294861   \n",
       "std        0.488469     0.192960       0.434591            0.192724   \n",
       "min        0.000000     0.000000       0.000000            0.003926   \n",
       "25%        0.000000     0.000000       0.000000            0.133089   \n",
       "50%        1.000000     0.000000       0.000000            0.273061   \n",
       "75%        1.000000     0.000000       1.000000            0.413951   \n",
       "max        1.000000     1.000000       1.000000            0.870937   \n",
       "\n",
       "         num_views    num_votes  num_comments  \n",
       "count  1137.000000  1137.000000   1137.000000  \n",
       "mean     12.656113     1.591029      0.104661  \n",
       "std      37.764403     1.218558      0.787527  \n",
       "min       0.000000     1.000000      0.000000  \n",
       "25%       0.000000     1.000000      0.000000  \n",
       "50%       1.000000     1.000000      0.000000  \n",
       "75%      13.000000     2.000000      0.000000  \n",
       "max     938.000000    22.000000     20.000000  \n",
       "\n",
       "[8 rows x 26 columns]"
      ]
     },
     "execution_count": 5,
     "metadata": {},
     "output_type": "execute_result"
    }
   ],
   "source": [
    "df.describe()"
   ]
  },
  {
   "cell_type": "code",
   "execution_count": 6,
   "id": "a6fa46de",
   "metadata": {},
   "outputs": [
    {
     "data": {
      "text/html": [
       "<div>\n",
       "<style scoped>\n",
       "    .dataframe tbody tr th:only-of-type {\n",
       "        vertical-align: middle;\n",
       "    }\n",
       "\n",
       "    .dataframe tbody tr th {\n",
       "        vertical-align: top;\n",
       "    }\n",
       "\n",
       "    .dataframe thead th {\n",
       "        text-align: right;\n",
       "    }\n",
       "</style>\n",
       "<table border=\"1\" class=\"dataframe\">\n",
       "  <thead>\n",
       "    <tr style=\"text-align: right;\">\n",
       "      <th></th>\n",
       "      <th>num_views</th>\n",
       "      <th>num_votes</th>\n",
       "      <th>num_comments</th>\n",
       "    </tr>\n",
       "  </thead>\n",
       "  <tbody>\n",
       "    <tr>\n",
       "      <th>num_views</th>\n",
       "      <td>1.000000</td>\n",
       "      <td>0.736354</td>\n",
       "      <td>0.757549</td>\n",
       "    </tr>\n",
       "    <tr>\n",
       "      <th>num_votes</th>\n",
       "      <td>0.736354</td>\n",
       "      <td>1.000000</td>\n",
       "      <td>0.709683</td>\n",
       "    </tr>\n",
       "    <tr>\n",
       "      <th>num_comments</th>\n",
       "      <td>0.757549</td>\n",
       "      <td>0.709683</td>\n",
       "      <td>1.000000</td>\n",
       "    </tr>\n",
       "  </tbody>\n",
       "</table>\n",
       "</div>"
      ],
      "text/plain": [
       "              num_views  num_votes  num_comments\n",
       "num_views      1.000000   0.736354      0.757549\n",
       "num_votes      0.736354   1.000000      0.709683\n",
       "num_comments   0.757549   0.709683      1.000000"
      ]
     },
     "execution_count": 6,
     "metadata": {},
     "output_type": "execute_result"
    }
   ],
   "source": [
    "df.corr().iloc[-3:,-3:]"
   ]
  },
  {
   "cell_type": "code",
   "execution_count": 5,
   "id": "b7118d43",
   "metadata": {},
   "outputs": [],
   "source": [
    "def preprocessing(df):\n",
    "    df['num_views'] = df['num_views'].apply(lambda x: 0 if x<=1 else 1)\n",
    "    df['num_votes'] = df['num_votes'].apply(lambda x: 0 if x<=1 else 1)\n",
    "    df['num_comments'] = df['num_comments'].apply(lambda x: 0 if x<=0 else 1)\n",
    "    return df"
   ]
  },
  {
   "cell_type": "code",
   "execution_count": 6,
   "id": "26304500",
   "metadata": {},
   "outputs": [],
   "source": [
    "df_classification = preprocessing(df)"
   ]
  },
  {
   "cell_type": "code",
   "execution_count": 7,
   "id": "610c5f19",
   "metadata": {},
   "outputs": [],
   "source": [
    "# df_classification.head(2)"
   ]
  },
  {
   "cell_type": "code",
   "execution_count": 8,
   "id": "80494aed",
   "metadata": {},
   "outputs": [
    {
     "name": "stdout",
     "output_type": "stream",
     "text": [
      "0    0.524186\n",
      "1    0.475814\n",
      "Name: num_views, dtype: float64\n",
      "0    0.637643\n",
      "1    0.362357\n",
      "Name: num_votes, dtype: float64\n",
      "0    0.948109\n",
      "1    0.051891\n",
      "Name: num_comments, dtype: float64\n"
     ]
    }
   ],
   "source": [
    "for tar in ['num_views','num_votes','num_comments']:\n",
    "    print(df_classification[tar].value_counts(normalize=True))"
   ]
  },
  {
   "cell_type": "code",
   "execution_count": 9,
   "id": "9847cbfb",
   "metadata": {},
   "outputs": [],
   "source": [
    "df_classification_new  = df.fillna(df_classification.mode(axis=0).iloc[0])"
   ]
  },
  {
   "cell_type": "code",
   "execution_count": 12,
   "id": "3b343531",
   "metadata": {},
   "outputs": [
    {
     "data": {
      "text/plain": [
       "0"
      ]
     },
     "execution_count": 12,
     "metadata": {},
     "output_type": "execute_result"
    }
   ],
   "source": [
    "df_classification_new.isnull().sum().sum()"
   ]
  },
  {
   "cell_type": "markdown",
   "id": "f0f910f6",
   "metadata": {},
   "source": [
    "#  !!!!"
   ]
  },
  {
   "cell_type": "code",
   "execution_count": null,
   "id": "454b6f3d",
   "metadata": {},
   "outputs": [],
   "source": []
  },
  {
   "cell_type": "code",
   "execution_count": 13,
   "id": "3432bad4",
   "metadata": {
    "scrolled": true
   },
   "outputs": [
    {
     "name": "stdout",
     "output_type": "stream",
     "text": [
      "Cell execution time: 2023-03-28 12:33:44.454495\n",
      "cc\n"
     ]
    },
    {
     "name": "stderr",
     "output_type": "stream",
     "text": [
      "CV progress bar: 0it [00:00, ?it/s]"
     ]
    },
    {
     "name": "stdout",
     "output_type": "stream",
     "text": [
      "for all print:\n",
      "[0.08013231308783678, 0.08013231308783678]\n",
      "Root\n",
      "depth=0| Split rule- x_i to split:16, value to split:41.494\n",
      "   | Impurity of the node: 540.08\n",
      "   | Impurity of the best split: 0.14\n",
      "   | Count of observations in node: 1023\n",
      "depth=1   leaf node               | Count of observations in node: 398\n",
      "                                  | Prediction of node: [0.947 0.889 0.128]\n",
      "                                  | Impurity of the node: 103.49\n",
      "Leaf id: 1\n",
      "depth=1   leaf node               | Count of observations in node: 625\n",
      "                                  | Prediction of node: [0.182 0.016 0.003]\n",
      "                                  | Impurity of the node: 105.04\n",
      "Leaf id: 2\n",
      "runtime for all model:22.152089595794678 seconds\n",
      "for ind print:\n",
      "[0.21095169775227163, 0.13387852702056433, 0.13387852702056433]\n",
      "print for target number: 0\n",
      "Root\n",
      "depth=0| Split rule- x_i to split:19, value to split:1.0\n",
      "   | Impurity of the node: 255.34\n",
      "   | Impurity of the best split: 0.22\n",
      "   | Count of observations in node: 1023\n",
      "depth=1|-------- Split rule- x_i to split:16, value to split:41.33\n",
      "           | Impurity of the node: 255.11\n",
      "           | Impurity of the best split: 0.22\n",
      "           | Count of observations in node: 1022\n",
      "depth=2   leaf node                       | Count of observations in node: 396\n",
      "                                          | Prediction of node: [0.949]\n",
      "                                          | Impurity of the node: 18.99\n",
      "Leaf id: 1\n",
      "depth=2   leaf node                       | Count of observations in node: 626\n",
      "                                          | Prediction of node: [0.184]\n",
      "                                          | Impurity of the node: 93.87\n",
      "Leaf id: 2\n",
      "depth=1   leaf node               | Count of observations in node: 1\n",
      "                                  | Prediction of node: [0.]\n",
      "                                  | Impurity of the node: 0.0\n",
      "Leaf id: 3\n",
      "[0.054720229555236734, 0.05668101386896222, 0.05864179818268771, 0.052792922046867544, 0.05962697274031563, 0.05670014347202294, 0.05865136298421807, 0.06060258249641319, 0.06158297465327596, 0.064519368723099, 0.06549497847919657, 0.07038259206121474, 0.0713582018173123, 0.07038259206121474, 0.06842180774748925, 0.07330942132950741, 0.07526542324246771, 0.07721664275466283, 0.07721664275466283]\n",
      "print for target number: 1\n",
      "Root\n",
      "depth=0| Split rule- x_i to split:16, value to split:41.494\n",
      "   | Impurity of the node: 234.48\n",
      "   | Impurity of the best split: 0.1\n",
      "   | Count of observations in node: 1023\n",
      "depth=1|-------- Split rule- x_i to split:18, value to split:1.0\n",
      "           | Impurity of the node: 39.14\n",
      "           | Impurity of the best split: 0.14\n",
      "           | Count of observations in node: 398\n",
      "depth=2|---------------- Split rule- x_i to split:18, value to split:1.0\n",
      "                   | Impurity of the node: 38.34\n",
      "                   | Impurity of the best split: 0.15\n",
      "                   | Count of observations in node: 397\n",
      "depth=3|------------------------ Split rule- x_i to split:18, value to split:1.0\n",
      "                           | Impurity of the node: 38.33\n",
      "                           | Impurity of the best split: 0.14\n",
      "                           | Count of observations in node: 396\n",
      "depth=4   leaf node                                       | Count of observations in node: 395\n",
      "                                                          | Prediction of node: [0.891]\n",
      "                                                          | Impurity of the node: 38.32\n",
      "Leaf id: 1\n",
      "depth=4   leaf node                                       | Count of observations in node: 1\n",
      "                                                          | Prediction of node: [1.]\n",
      "                                                          | Impurity of the node: 0.0\n",
      "Leaf id: 2\n",
      "depth=3   leaf node                               | Count of observations in node: 1\n",
      "                                                  | Prediction of node: [1.]\n",
      "                                                  | Impurity of the node: 0.0\n",
      "Leaf id: 3\n",
      "depth=2   leaf node                       | Count of observations in node: 1\n",
      "                                          | Prediction of node: [0.]\n",
      "                                          | Impurity of the node: 0.0\n",
      "Leaf id: 4\n",
      "depth=1|-------- Split rule- x_i to split:0, value to split:411.5\n",
      "           | Impurity of the node: 9.84\n",
      "           | Impurity of the best split: 0.03\n",
      "           | Count of observations in node: 625\n",
      "depth=2|---------------- Split rule- x_i to split:3, value to split:0.5\n",
      "                   | Impurity of the node: 8.87\n",
      "                   | Impurity of the best split: 0.03\n",
      "                   | Count of observations in node: 624\n",
      "depth=3   leaf node                               | Count of observations in node: 1\n",
      "                                                  | Prediction of node: [1.]\n",
      "                                                  | Impurity of the node: 0.0\n",
      "Leaf id: 5\n",
      "depth=3|------------------------ Split rule- x_i to split:22, value to split:0.018\n",
      "                           | Impurity of the node: 7.9\n",
      "                           | Impurity of the best split: 0.02\n",
      "                           | Count of observations in node: 623\n",
      "depth=4   leaf node                                       | Count of observations in node: 4\n",
      "                                                          | Prediction of node: [0.25]\n",
      "                                                          | Impurity of the node: 0.75\n",
      "Leaf id: 6\n",
      "depth=4   leaf node                                       | Count of observations in node: 619\n",
      "                                                          | Prediction of node: [0.011]\n",
      "                                                          | Impurity of the node: 6.92\n",
      "Leaf id: 7\n",
      "depth=2   leaf node                       | Count of observations in node: 1\n",
      "                                          | Prediction of node: [1.]\n",
      "                                          | Impurity of the node: 0.0\n",
      "Leaf id: 8\n",
      "[0.05277857484457198, 0.05375896700143472, 0.052783357245337156, 0.05865136298421807, 0.05670014347202296, 0.05864658058345289, 0.06255858440937351, 0.06548541367766618, 0.06353419416547107, 0.06353419416547107]\n",
      "print for target number: 2\n",
      "Root\n",
      "depth=0| Split rule- x_i to split:5, value to split:1.0\n",
      "   | Impurity of the node: 50.25\n",
      "   | Impurity of the best split: 0.09\n",
      "   | Count of observations in node: 1023\n",
      "depth=1   leaf node               | Count of observations in node: 1022\n",
      "                                  | Prediction of node: [0.052]\n",
      "                                  | Impurity of the node: 50.25\n",
      "Leaf id: 1\n",
      "depth=1   leaf node               | Count of observations in node: 1\n",
      "                                  | Prediction of node: [0.]\n",
      "                                  | Impurity of the node: 0.0\n",
      "Leaf id: 2\n",
      "runtime for ind model:367.2053668498993 seconds\n",
      "LOO print:\n",
      "[0.10582336999840587, 0.08176630001594135, 0.08176789414952973, 0.08306870715765981, 0.08274509803921569, 0.08241830065359478, 0.08372070779531325, 0.08372070779531325]\n"
     ]
    },
    {
     "name": "stderr",
     "output_type": "stream",
     "text": [
      "CV progress bar: 1it [1:02:47, 3767.30s/it]"
     ]
    },
    {
     "name": "stdout",
     "output_type": "stream",
     "text": [
      "************************************************************sub tree number 0 ************************************************************\n",
      "Root\n",
      "depth=0| Split rule- x_i to split:19, value to split:1.0\n",
      "   | Impurity of the node: 255.34\n",
      "   | Impurity of the best split: 0.22\n",
      "   | Count of observations in node: 1023\n",
      "   |LOO score: 113.32092341895577\n",
      "depth=1|-------- Split rule- x_i to split:16, value to split:41.33\n",
      "           | Impurity of the node: 255.11\n",
      "           | Impurity of the best split: 0.22\n",
      "           | Count of observations in node: 1022\n",
      "           |LOO score: 113.35909781974954\n",
      "depth=2   leaf node                       | Count of observations in node: 396\n",
      "                                          | Prediction of node: [0.949]\n",
      "                                          | Impurity of the node: 18.99\n",
      "Leaf id: 1\n",
      "                                          | Loo score: 19.033\n",
      "depth=2   leaf node                       | Count of observations in node: 626\n",
      "                                          | Prediction of node: [0.184]\n",
      "                                          | Impurity of the node: 93.87\n",
      "Leaf id: 2\n",
      "                                          | Loo score: 93.975\n",
      "depth=1   leaf node               | Count of observations in node: 1\n",
      "                                  | Prediction of node: [0.]\n",
      "                                  | Impurity of the node: 0.0\n",
      "Leaf id: 3\n",
      "************************************************************sub tree number 1 ************************************************************\n",
      "Root\n",
      "depth=0| Split rule- x_i to split:16, value to split:41.494\n",
      "   | Impurity of the node: 234.48\n",
      "   | Impurity of the best split: 0.1\n",
      "   | Count of observations in node: 1023\n",
      "   |LOO score: 49.09899278839728\n",
      "depth=1|-------- Split rule- x_i to split:18, value to split:1.0\n",
      "           | Impurity of the node: 39.14\n",
      "           | Impurity of the best split: 0.14\n",
      "           | Count of observations in node: 398\n",
      "           |LOO score: 35.711242603550296\n",
      "depth=2   leaf node                       | Count of observations in node: 397\n",
      "                                          | Prediction of node: [0.892]\n",
      "                                          | Impurity of the node: 38.34\n",
      "Leaf id: 1\n",
      "                                          | Loo score: 35.068\n",
      "depth=2   leaf node                       | Count of observations in node: 1\n",
      "                                          | Prediction of node: [0.]\n",
      "                                          | Impurity of the node: 0.0\n",
      "Leaf id: 2\n",
      "depth=1   leaf node               | Count of observations in node: 625\n",
      "                                  | Prediction of node: [0.016]\n",
      "                                  | Impurity of the node: 9.84\n",
      "Leaf id: 3\n",
      "                                  | Loo score: 9.86\n",
      "************************************************************sub tree number 2 ************************************************************\n",
      "Root\n",
      "depth=0| Split rule- x_i to split:5, value to split:1.0\n",
      "   | Impurity of the node: 50.25\n",
      "   | Impurity of the best split: 0.09\n",
      "   | Count of observations in node: 1023\n",
      "   |LOO score: 46.44480587285252\n",
      "depth=1|-------- Split rule- x_i to split:17, value to split:-122.24\n",
      "           | Impurity of the node: 50.25\n",
      "           | Impurity of the best split: 0.09\n",
      "           | Count of observations in node: 1022\n",
      "           |LOO score: 46.30559089800517\n",
      "depth=2   leaf node                       | Count of observations in node: 69\n",
      "                                          | Prediction of node: [0.333]\n",
      "                                          | Impurity of the node: 15.33\n",
      "Leaf id: 1\n",
      "                                          | Loo score: 15.461\n",
      "depth=2   leaf node                       | Count of observations in node: 953\n",
      "                                          | Prediction of node: [0.031]\n",
      "                                          | Impurity of the node: 29.06\n",
      "Leaf id: 2\n",
      "                                          | Loo score: 27.731\n",
      "depth=1   leaf node               | Count of observations in node: 1\n",
      "                                  | Prediction of node: [0.]\n",
      "                                  | Impurity of the node: 0.0\n",
      "Leaf id: 3\n",
      "runtime for LOO model:3377.9330327510834 seconds\n",
      "Score for all:0.05263157894736842\n",
      "Score for ind:0.049707602339181284\n",
      "Score for loo model:0.05263157894736842\n",
      "****************************************************************************************************************************************************************\n",
      "for all print:\n",
      "[0.07755459907540252, 0.07755459907540252]\n",
      "Root\n",
      "depth=0| Split rule- x_i to split:16, value to split:41.494\n",
      "   | Impurity of the node: 542.34\n",
      "   | Impurity of the best split: 0.13\n",
      "   | Count of observations in node: 1023\n",
      "depth=1   leaf node               | Count of observations in node: 398\n",
      "                                  | Prediction of node: [0.942 0.905 0.128]\n",
      "                                  | Impurity of the node: 100.51\n",
      "Leaf id: 1\n",
      "depth=1   leaf node               | Count of observations in node: 625\n",
      "                                  | Prediction of node: [0.174 0.016 0.005]\n",
      "                                  | Impurity of the node: 102.82\n",
      "Leaf id: 2\n",
      "runtime for all model:21.12706685066223 seconds\n",
      "for ind print:\n",
      "[0.21392635102821617, 0.13197513151602105, 0.13197513151602105]\n",
      "print for target number: 0\n",
      "Root\n",
      "depth=0| Split rule- x_i to split:16, value to split:41.327\n",
      "   | Impurity of the node: 255.01\n",
      "   | Impurity of the best split: 0.22\n",
      "   | Count of observations in node: 1023\n",
      "depth=1|-------- Split rule- x_i to split:6, value to split:0.5\n",
      "           | Impurity of the node: 19.88\n",
      "           | Impurity of the best split: 0.1\n",
      "           | Count of observations in node: 394\n",
      "depth=2   leaf node                       | Count of observations in node: 337\n",
      "                                          | Prediction of node: [0.938]\n",
      "                                          | Impurity of the node: 19.69\n",
      "Leaf id: 1\n",
      "depth=2   leaf node                       | Count of observations in node: 57\n",
      "                                          | Prediction of node: [1.]\n",
      "                                          | Impurity of the node: 0.0\n",
      "Leaf id: 2\n",
      "depth=1|-------- Split rule- x_i to split:0, value to split:309.5\n",
      "           | Impurity of the node: 91.41\n",
      "           | Impurity of the best split: 0.28\n",
      "           | Count of observations in node: 629\n",
      "depth=2   leaf node                       | Count of observations in node: 409\n",
      "                                          | Prediction of node: [0.125]\n",
      "                                          | Impurity of the node: 44.64\n",
      "Leaf id: 3\n",
      "depth=2   leaf node                       | Count of observations in node: 220\n",
      "                                          | Prediction of node: [0.273]\n",
      "                                          | Impurity of the node: 43.64\n",
      "Leaf id: 4\n",
      "[0.04887613582018173, 0.047900526064084174, 0.04984696317551411, 0.04887135341941655, 0.04887135341941655]\n",
      "print for target number: 1\n",
      "Root\n",
      "depth=0| Split rule- x_i to split:16, value to split:41.494\n",
      "   | Impurity of the node: 236.18\n",
      "   | Impurity of the best split: 0.09\n",
      "   | Count of observations in node: 1023\n",
      "depth=1|-------- Split rule- x_i to split:18, value to split:1.0\n",
      "           | Impurity of the node: 34.37\n",
      "           | Impurity of the best split: 0.13\n",
      "           | Count of observations in node: 398\n",
      "depth=2   leaf node                       | Count of observations in node: 397\n",
      "                                          | Prediction of node: [0.907]\n",
      "                                          | Impurity of the node: 33.55\n",
      "Leaf id: 1\n",
      "depth=2   leaf node                       | Count of observations in node: 1\n",
      "                                          | Prediction of node: [0.]\n",
      "                                          | Impurity of the node: 0.0\n",
      "Leaf id: 2\n",
      "depth=1|-------- Split rule- x_i to split:3, value to split:0.5\n",
      "           | Impurity of the node: 9.84\n",
      "           | Impurity of the best split: 0.03\n",
      "           | Count of observations in node: 625\n",
      "depth=2   leaf node                       | Count of observations in node: 2\n",
      "                                          | Prediction of node: [1.]\n",
      "                                          | Impurity of the node: 0.0\n",
      "Leaf id: 3\n",
      "depth=2   leaf node                       | Count of observations in node: 623\n",
      "                                          | Prediction of node: [0.013]\n",
      "                                          | Impurity of the node: 7.9\n",
      "Leaf id: 4\n",
      "[0.05474414155906265, 0.05474414155906265]\n",
      "print for target number: 2\n",
      "Root\n",
      "depth=0| Split rule- x_i to split:5, value to split:1.0\n",
      "   | Impurity of the node: 51.15\n",
      "   | Impurity of the best split: 0.08\n",
      "   | Count of observations in node: 1023\n",
      "depth=1   leaf node               | Count of observations in node: 1022\n",
      "                                  | Prediction of node: [0.053]\n",
      "                                  | Impurity of the node: 51.15\n",
      "Leaf id: 1\n",
      "depth=1   leaf node               | Count of observations in node: 1\n",
      "                                  | Prediction of node: [0.]\n",
      "                                  | Impurity of the node: 0.0\n",
      "Leaf id: 2\n",
      "runtime for ind model:47.116127490997314 seconds\n",
      "LOO print:\n",
      "[0.10422126574206918, 0.07755459907540252, 0.08015622509166268, 0.0788554120835326, 0.07918061533556513, 0.07950741272118604, 0.0788538179499442, 0.07820022317870237, 0.0785254264307349, 0.0785254264307349]\n"
     ]
    },
    {
     "name": "stderr",
     "output_type": "stream",
     "text": [
      "CV progress bar: 2it [2:14:58, 4099.16s/it]"
     ]
    },
    {
     "name": "stdout",
     "output_type": "stream",
     "text": [
      "************************************************************sub tree number 0 ************************************************************\n",
      "Root\n",
      "depth=0| Split rule- x_i to split:16, value to split:41.327\n",
      "   | Impurity of the node: 255.01\n",
      "   | Impurity of the best split: 0.22\n",
      "   | Count of observations in node: 1023\n",
      "   |LOO score: 112.39270708065528\n",
      "depth=1|-------- Split rule- x_i to split:6, value to split:0.5\n",
      "           | Impurity of the node: 19.88\n",
      "           | Impurity of the best split: 0.1\n",
      "           | Count of observations in node: 394\n",
      "           |LOO score: 19.60254301865743\n",
      "depth=2   leaf node                       | Count of observations in node: 337\n",
      "                                          | Prediction of node: [0.938]\n",
      "                                          | Impurity of the node: 19.69\n",
      "Leaf id: 1\n",
      "                                          | Loo score: 19.206\n",
      "depth=2   leaf node                       | Count of observations in node: 57\n",
      "                                          | Prediction of node: [1.]\n",
      "                                          | Impurity of the node: 0.0\n",
      "Leaf id: 2\n",
      "depth=1|-------- Split rule- x_i to split:0, value to split:309.5\n",
      "           | Impurity of the node: 91.41\n",
      "           | Impurity of the best split: 0.28\n",
      "           | Count of observations in node: 629\n",
      "           |LOO score: 91.1327847204144\n",
      "depth=2   leaf node                       | Count of observations in node: 409\n",
      "                                          | Prediction of node: [0.125]\n",
      "                                          | Impurity of the node: 44.64\n",
      "Leaf id: 3\n",
      "                                          | Loo score: 44.721\n",
      "depth=2   leaf node                       | Count of observations in node: 220\n",
      "                                          | Prediction of node: [0.273]\n",
      "                                          | Impurity of the node: 43.64\n",
      "Leaf id: 4\n",
      "                                          | Loo score: 44.022\n",
      "************************************************************sub tree number 1 ************************************************************\n",
      "Root\n",
      "depth=0| Split rule- x_i to split:16, value to split:41.494\n",
      "   | Impurity of the node: 236.18\n",
      "   | Impurity of the best split: 0.09\n",
      "   | Count of observations in node: 1023\n",
      "   |LOO score: 44.32739205248446\n",
      "depth=1|-------- Split rule- x_i to split:18, value to split:1.0\n",
      "           | Impurity of the node: 34.37\n",
      "           | Impurity of the best split: 0.13\n",
      "           | Count of observations in node: 398\n",
      "           |LOO score: 32.02284074019025\n",
      "depth=2   leaf node                       | Count of observations in node: 397\n",
      "                                          | Prediction of node: [0.907]\n",
      "                                          | Impurity of the node: 33.55\n",
      "Leaf id: 1\n",
      "                                          | Loo score: 30.175\n",
      "depth=2   leaf node                       | Count of observations in node: 1\n",
      "                                          | Prediction of node: [0.]\n",
      "                                          | Impurity of the node: 0.0\n",
      "Leaf id: 2\n",
      "depth=1   leaf node               | Count of observations in node: 625\n",
      "                                  | Prediction of node: [0.016]\n",
      "                                  | Impurity of the node: 9.84\n",
      "Leaf id: 3\n",
      "                                  | Loo score: 9.856\n",
      "************************************************************sub tree number 2 ************************************************************\n",
      "Root\n",
      "depth=0| Split rule- x_i to split:5, value to split:1.0\n",
      "   | Impurity of the node: 51.15\n",
      "   | Impurity of the best split: 0.08\n",
      "   | Count of observations in node: 1023\n",
      "   |LOO score: 47.617780150303496\n",
      "depth=1|-------- Split rule- x_i to split:5, value to split:1.0\n",
      "           | Impurity of the node: 51.15\n",
      "           | Impurity of the best split: 0.09\n",
      "           | Count of observations in node: 1022\n",
      "           |LOO score: 47.472793602953544\n",
      "depth=2   leaf node                       | Count of observations in node: 1021\n",
      "                                          | Prediction of node: [0.052]\n",
      "                                          | Impurity of the node: 50.25\n",
      "Leaf id: 1\n",
      "                                          | Loo score: 47.48\n",
      "depth=2   leaf node                       | Count of observations in node: 1\n",
      "                                          | Prediction of node: [1.]\n",
      "                                          | Impurity of the node: 0.0\n",
      "Leaf id: 2\n",
      "depth=1   leaf node               | Count of observations in node: 1\n",
      "                                  | Prediction of node: [0.]\n",
      "                                  | Impurity of the node: 0.0\n",
      "Leaf id: 3\n",
      "runtime for LOO model:4263.209566116333 seconds\n",
      "Score for all:0.07602339181286549\n",
      "Score for ind:0.07602339181286549\n",
      "Score for loo model:0.07602339181286549\n",
      "****************************************************************************************************************************************************************\n",
      "for all print:\n",
      "[0.07688506296827674, 0.07688506296827674]\n",
      "Root\n",
      "depth=0| Split rule- x_i to split:19, value to split:1.0\n",
      "   | Impurity of the node: 542.37\n",
      "   | Impurity of the best split: 0.13\n",
      "   | Count of observations in node: 1023\n",
      "depth=1   leaf node               | Count of observations in node: 1022\n",
      "                                  | Prediction of node: [0.477 0.368 0.051]\n",
      "                                  | Impurity of the node: 542.0\n",
      "Leaf id: 1\n",
      "depth=1   leaf node               | Count of observations in node: 1\n",
      "                                  | Prediction of node: [0. 0. 0.]\n",
      "                                  | Impurity of the node: 0.0\n",
      "Leaf id: 2\n",
      "runtime for all model:20.805700063705444 seconds\n",
      "for ind print:\n",
      "[0.12998087039693926, 0.12998087039693926]\n",
      "print for target number: 0\n",
      "Root\n",
      "depth=0| Split rule- x_i to split:19, value to split:1.0\n",
      "   | Impurity of the node: 255.21\n",
      "   | Impurity of the best split: 0.22\n",
      "   | Count of observations in node: 1023\n",
      "depth=1   leaf node               | Count of observations in node: 1022\n",
      "                                  | Prediction of node: [0.477]\n",
      "                                  | Impurity of the node: 254.98\n",
      "Leaf id: 1\n",
      "depth=1   leaf node               | Count of observations in node: 1\n",
      "                                  | Prediction of node: [0.]\n",
      "                                  | Impurity of the node: 0.0\n",
      "Leaf id: 2\n",
      "[0.04983739837398374, 0.04983739837398374]\n",
      "print for target number: 1\n",
      "Root\n",
      "depth=0| Split rule- x_i to split:19, value to split:1.0\n",
      "   | Impurity of the node: 237.8\n",
      "   | Impurity of the best split: 0.09\n",
      "   | Count of observations in node: 1023\n",
      "depth=1   leaf node               | Count of observations in node: 1022\n",
      "                                  | Prediction of node: [0.368]\n",
      "                                  | Impurity of the node: 237.67\n",
      "Leaf id: 1\n",
      "depth=1   leaf node               | Count of observations in node: 1\n",
      "                                  | Prediction of node: [0.]\n",
      "                                  | Impurity of the node: 0.0\n",
      "Leaf id: 2\n",
      "[0.051812529890004774, 0.052788139646102336, 0.05082735533237685, 0.052788139646102336, 0.0537637494021999, 0.06449545671927306, 0.05375896700143472, 0.051807747489239594, 0.052788139646102336, 0.05279292204686753, 0.05279292204686753]\n",
      "print for target number: 2\n",
      "Root\n",
      "depth=0| Split rule- x_i to split:5, value to split:1.0\n",
      "   | Impurity of the node: 49.36\n",
      "   | Impurity of the best split: 0.09\n",
      "   | Count of observations in node: 1023\n",
      "depth=1|-------- Split rule- x_i to split:8, value to split:1.0\n",
      "           | Impurity of the node: 49.35\n",
      "           | Impurity of the best split: 0.08\n",
      "           | Count of observations in node: 1022\n",
      "depth=2|---------------- Split rule- x_i to split:8, value to split:0.5\n",
      "                   | Impurity of the node: 48.45\n",
      "                   | Impurity of the best split: 0.08\n",
      "                   | Count of observations in node: 1021\n",
      "depth=3   leaf node                               | Count of observations in node: 1008\n",
      "                                                  | Prediction of node: [0.043]\n",
      "                                                  | Impurity of the node: 41.17\n",
      "Leaf id: 1\n",
      "depth=3   leaf node                               | Count of observations in node: 13\n",
      "                                                  | Prediction of node: [0.615]\n",
      "                                                  | Impurity of the node: 3.08\n",
      "Leaf id: 2\n",
      "depth=2   leaf node                       | Count of observations in node: 1\n",
      "                                          | Prediction of node: [1.]\n",
      "                                          | Impurity of the node: 0.0\n",
      "Leaf id: 3\n",
      "depth=1   leaf node               | Count of observations in node: 1\n",
      "                                  | Prediction of node: [0.]\n",
      "                                  | Impurity of the node: 0.0\n",
      "Leaf id: 4\n",
      "runtime for ind model:115.50180053710938 seconds\n",
      "LOO print:\n",
      "[0.07655667144906744, 0.07720867208672086, 0.07688028056751155, 0.07720548381954406, 0.07720548381954406]\n"
     ]
    },
    {
     "name": "stderr",
     "output_type": "stream",
     "text": [
      "CV progress bar: 3it [2:48:56, 3158.08s/it]"
     ]
    },
    {
     "name": "stdout",
     "output_type": "stream",
     "text": [
      "************************************************************sub tree number 0 ************************************************************\n",
      "Root\n",
      "depth=0| Split rule- x_i to split:19, value to split:1.0\n",
      "   | Impurity of the node: 255.21\n",
      "   | Impurity of the best split: 0.22\n",
      "   | Count of observations in node: 1023\n",
      "   |LOO score: 111.60208959726553\n",
      "depth=1   leaf node               | Count of observations in node: 1022\n",
      "                                  | Prediction of node: [0.477]\n",
      "                                  | Impurity of the node: 254.98\n",
      "Leaf id: 1\n",
      "                                  | Loo score: 133.382\n",
      "depth=1   leaf node               | Count of observations in node: 1\n",
      "                                  | Prediction of node: [0.]\n",
      "                                  | Impurity of the node: 0.0\n",
      "Leaf id: 2\n",
      "************************************************************sub tree number 1 ************************************************************\n",
      "Root\n",
      "depth=0| Split rule- x_i to split:19, value to split:1.0\n",
      "   | Impurity of the node: 237.8\n",
      "   | Impurity of the best split: 0.09\n",
      "   | Count of observations in node: 1023\n",
      "   |LOO score: 45.26088329153482\n",
      "depth=1   leaf node               | Count of observations in node: 1022\n",
      "                                  | Prediction of node: [0.368]\n",
      "                                  | Impurity of the node: 237.67\n",
      "Leaf id: 1\n",
      "                                  | Loo score: 45.133\n",
      "depth=1   leaf node               | Count of observations in node: 1\n",
      "                                  | Prediction of node: [0.]\n",
      "                                  | Impurity of the node: 0.0\n",
      "Leaf id: 2\n",
      "************************************************************sub tree number 2 ************************************************************\n",
      "Root\n",
      "depth=0| Split rule- x_i to split:5, value to split:1.0\n",
      "   | Impurity of the node: 49.36\n",
      "   | Impurity of the best split: 0.09\n",
      "   | Count of observations in node: 1023\n",
      "   |LOO score: 46.506750479060955\n",
      "depth=1   leaf node               | Count of observations in node: 1022\n",
      "                                  | Prediction of node: [0.051]\n",
      "                                  | Impurity of the node: 49.35\n",
      "Leaf id: 1\n",
      "                                  | Loo score: 46.19\n",
      "depth=1   leaf node               | Count of observations in node: 1\n",
      "                                  | Prediction of node: [0.]\n",
      "                                  | Impurity of the node: 0.0\n",
      "Leaf id: 2\n",
      "runtime for LOO model:1901.8829145431519 seconds\n",
      "Score for all:0.2807017543859649\n",
      "Score for ind:0.2777777777777778\n",
      "Score for loo model:0.2807017543859649\n",
      "****************************************************************************************************************************************************************\n",
      "for all print:\n",
      "[0.11786067272437428, 0.11688028056751154, 0.07329985652797703, 0.07330304479515384, 0.07525745257452575, 0.07623625059780009, 0.07754025187310695, 0.08014187788936714, 0.08210106806950423, 0.08471225888729475, 0.08633827514745737, 0.08862426271321536, 0.08895106009883627, 0.09220309261916149, 0.09416865933365216, 0.09417184760082896, 0.09612784951378926, 0.09548063127690101, 0.09482384823848237, 0.09514586322333811, 0.09579626972740315, 0.09547106647537063, 0.09742228598756575, 0.0996987087517934, 0.0996987087517934]\n",
      "Root\n",
      "depth=0| Split rule- x_i to split:19, value to split:0.5\n",
      "   | Impurity of the node: 540.79\n",
      "   | Impurity of the best split: 0.13\n",
      "   | Count of observations in node: 1023\n",
      "depth=1|-------- Split rule- x_i to split:21, value to split:0.5\n",
      "           | Impurity of the node: 100.39\n",
      "           | Impurity of the best split: 0.15\n",
      "           | Count of observations in node: 394\n",
      "depth=2|---------------- Split rule- x_i to split:22, value to split:0.168\n",
      "                   | Impurity of the node: 67.26\n",
      "                   | Impurity of the best split: 0.29\n",
      "                   | Count of observations in node: 143\n",
      "depth=3   leaf node                               | Count of observations in node: 114\n",
      "                                                  | Prediction of node: [0.93  0.816 0.325]\n",
      "                                                  | Impurity of the node: 49.56\n",
      "Leaf id: 1\n",
      "depth=3   leaf node                               | Count of observations in node: 29\n",
      "                                                  | Prediction of node: [0.862 0.414 0.069]\n",
      "                                                  | Impurity of the node: 12.34\n",
      "Leaf id: 2\n",
      "depth=2|---------------- Split rule- x_i to split:0, value to split:370.5\n",
      "                   | Impurity of the node: 21.94\n",
      "                   | Impurity of the best split: 0.05\n",
      "                   | Count of observations in node: 251\n",
      "depth=3   leaf node                               | Count of observations in node: 54\n",
      "                                                  | Prediction of node: [0.796 1.    0.037]\n",
      "                                                  | Impurity of the node: 10.69\n",
      "Leaf id: 3\n",
      "depth=3   leaf node                               | Count of observations in node: 197\n",
      "                                                  | Prediction of node: [1.    1.    0.051]\n",
      "                                                  | Impurity of the node: 9.49\n",
      "Leaf id: 4\n",
      "depth=1|-------- Split rule- x_i to split:3, value to split:0.5\n",
      "           | Impurity of the node: 99.25\n",
      "           | Impurity of the best split: 0.1\n",
      "           | Count of observations in node: 629\n",
      "depth=2|---------------- Split rule- x_i to split:0, value to split:299.0\n",
      "                   | Impurity of the node: 0.0\n",
      "                   | Impurity of the best split: 0.0\n",
      "                   | Count of observations in node: 2\n",
      "depth=3   leaf node                               | Count of observations in node: 1\n",
      "                                                  | Prediction of node: [1. 1. 1.]\n",
      "                                                  | Impurity of the node: 0.0\n",
      "Leaf id: 5\n",
      "depth=3   leaf node                               | Count of observations in node: 1\n",
      "                                                  | Prediction of node: [1. 1. 1.]\n",
      "                                                  | Impurity of the node: 0.0\n",
      "Leaf id: 6\n",
      "depth=2|---------------- Split rule- x_i to split:0, value to split:309.5\n",
      "                   | Impurity of the node: 93.92\n",
      "                   | Impurity of the best split: 0.1\n",
      "                   | Count of observations in node: 627\n",
      "depth=3   leaf node                               | Count of observations in node: 405\n",
      "                                                  | Prediction of node: [0.109 0.015 0.   ]\n",
      "                                                  | Impurity of the node: 45.13\n",
      "Leaf id: 7\n",
      "depth=3   leaf node                               | Count of observations in node: 222\n",
      "                                                  | Prediction of node: [0.252 0.014 0.005]\n",
      "                                                  | Impurity of the node: 45.83\n",
      "Leaf id: 8\n",
      "runtime for all model:1159.2828993797302 seconds\n",
      "for ind print:\n",
      "[0.24996652319464369, 0.12411286465805835, 0.12607364897178383, 0.12607364897178383]\n",
      "print for target number: 0\n",
      "Root\n",
      "depth=0| Split rule- x_i to split:19, value to split:1.0\n",
      "   | Impurity of the node: 254.3\n",
      "   | Impurity of the best split: 0.21\n",
      "   | Count of observations in node: 1023\n",
      "depth=1|-------- Split rule- x_i to split:16, value to split:41.327\n",
      "           | Impurity of the node: 254.09\n",
      "           | Impurity of the best split: 0.21\n",
      "           | Count of observations in node: 1022\n",
      "depth=2   leaf node                       | Count of observations in node: 390\n",
      "                                          | Prediction of node: [0.946]\n",
      "                                          | Impurity of the node: 19.87\n",
      "Leaf id: 1\n",
      "depth=2   leaf node                       | Count of observations in node: 632\n",
      "                                          | Prediction of node: [0.165]\n",
      "                                          | Impurity of the node: 86.89\n",
      "Leaf id: 2\n",
      "depth=1   leaf node               | Count of observations in node: 1\n",
      "                                  | Prediction of node: [0.]\n",
      "                                  | Impurity of the node: 0.0\n",
      "Leaf id: 3\n",
      "[0.04887135341941655, 0.0478909612625538, 0.04886657101865136, 0.046915351506456246, 0.04789096126255381, 0.04690578670492587, 0.05080822572931611, 0.049837398373983745, 0.051788617886178855, 0.06354375896700144, 0.06158297465327596, 0.061582974653275946]\n",
      "print for target number: 1\n",
      "Root\n",
      "depth=0| Split rule- x_i to split:19, value to split:0.5\n",
      "   | Impurity of the node: 235.34\n",
      "   | Impurity of the best split: 0.09\n",
      "   | Count of observations in node: 1023\n",
      "depth=1|-------- Split rule- x_i to split:18, value to split:1.0\n",
      "           | Impurity of the node: 34.34\n",
      "           | Impurity of the best split: 0.14\n",
      "           | Count of observations in node: 394\n",
      "depth=2|---------------- Split rule- x_i to split:18, value to split:1.0\n",
      "                   | Impurity of the node: 33.52\n",
      "                   | Impurity of the best split: 0.14\n",
      "                   | Count of observations in node: 393\n",
      "depth=3|------------------------ Split rule- x_i to split:18, value to split:0.5\n",
      "                           | Impurity of the node: 33.51\n",
      "                           | Impurity of the best split: 0.14\n",
      "                           | Count of observations in node: 392\n",
      "depth=4|-------------------------------- Split rule- x_i to split:17, value to split:-72.932\n",
      "                                   | Impurity of the node: 4.91\n",
      "                                   | Impurity of the best split: 0.03\n",
      "                                   | Count of observations in node: 291\n",
      "depth=5|---------------------------------------- Split rule- x_i to split:0, value to split:266.0\n",
      "                                           | Impurity of the node: 0.0\n",
      "                                           | Impurity of the best split: 0.0\n",
      "                                           | Count of observations in node: 268\n",
      "depth=6   leaf node                                                       | Count of observations in node: 1\n",
      "                                                                          | Prediction of node: [1.]\n",
      "                                                                          | Impurity of the node: 0.0\n",
      "Leaf id: 1\n",
      "depth=6   leaf node                                                       | Count of observations in node: 267\n",
      "                                                                          | Prediction of node: [1.]\n",
      "                                                                          | Impurity of the node: 0.0\n",
      "Leaf id: 2\n",
      "depth=5|---------------------------------------- Split rule- x_i to split:1, value to split:0.5\n",
      "                                           | Impurity of the node: 3.91\n",
      "                                           | Impurity of the best split: 0.16\n",
      "                                           | Count of observations in node: 23\n",
      "depth=6   leaf node                                                       | Count of observations in node: 17\n",
      "                                                                          | Prediction of node: [0.706]\n",
      "                                                                          | Impurity of the node: 3.53\n",
      "Leaf id: 3\n",
      "depth=6   leaf node                                                       | Count of observations in node: 6\n",
      "                                                                          | Prediction of node: [1.]\n",
      "                                                                          | Impurity of the node: 0.0\n",
      "Leaf id: 4\n",
      "depth=4|-------------------------------- Split rule- x_i to split:17, value to split:-122.232\n",
      "                                   | Impurity of the node: 21.86\n",
      "                                   | Impurity of the best split: 0.34\n",
      "                                   | Count of observations in node: 101\n",
      "depth=5|---------------------------------------- Split rule- x_i to split:3, value to split:0.5\n",
      "                                           | Impurity of the node: 11.35\n",
      "                                           | Impurity of the best split: 0.23\n",
      "                                           | Count of observations in node: 74\n",
      "depth=6   leaf node                                                       | Count of observations in node: 54\n",
      "                                                                          | Prediction of node: [0.815]\n",
      "                                                                          | Impurity of the node: 8.15\n",
      "Leaf id: 5\n",
      "depth=6   leaf node                                                       | Count of observations in node: 20\n",
      "                                                                          | Prediction of node: [0.8]\n",
      "                                                                          | Impurity of the node: 3.2\n",
      "Leaf id: 6\n",
      "depth=5|---------------------------------------- Split rule- x_i to split:3, value to split:0.5\n",
      "                                           | Impurity of the node: 6.0\n",
      "                                           | Impurity of the best split: 0.34\n",
      "                                           | Count of observations in node: 27\n",
      "depth=6   leaf node                                                       | Count of observations in node: 19\n",
      "                                                                          | Prediction of node: [0.421]\n",
      "                                                                          | Impurity of the node: 4.63\n",
      "Leaf id: 7\n",
      "depth=6   leaf node                                                       | Count of observations in node: 8\n",
      "                                                                          | Prediction of node: [0.125]\n",
      "                                                                          | Impurity of the node: 0.88\n",
      "Leaf id: 8\n",
      "depth=3   leaf node                               | Count of observations in node: 1\n",
      "                                                  | Prediction of node: [1.]\n",
      "                                                  | Impurity of the node: 0.0\n",
      "Leaf id: 9\n",
      "depth=2   leaf node                       | Count of observations in node: 1\n",
      "                                          | Prediction of node: [0.]\n",
      "                                          | Impurity of the node: 0.0\n",
      "Leaf id: 10\n",
      "depth=1|-------- Split rule- x_i to split:3, value to split:0.5\n",
      "           | Impurity of the node: 10.81\n",
      "           | Impurity of the best split: 0.03\n",
      "           | Count of observations in node: 629\n",
      "depth=2|---------------- Split rule- x_i to split:0, value to split:299.0\n",
      "                   | Impurity of the node: 0.0\n",
      "                   | Impurity of the best split: 0.0\n",
      "                   | Count of observations in node: 2\n",
      "depth=3   leaf node                               | Count of observations in node: 1\n",
      "                                                  | Prediction of node: [1.]\n",
      "                                                  | Impurity of the node: 0.0\n",
      "Leaf id: 11\n",
      "depth=3   leaf node                               | Count of observations in node: 1\n",
      "                                                  | Prediction of node: [1.]\n",
      "                                                  | Impurity of the node: 0.0\n",
      "Leaf id: 12\n",
      "depth=2|---------------- Split rule- x_i to split:0, value to split:411.5\n",
      "                   | Impurity of the node: 8.87\n",
      "                   | Impurity of the best split: 0.03\n",
      "                   | Count of observations in node: 627\n",
      "depth=3|------------------------ Split rule- x_i to split:22, value to split:0.018\n",
      "                           | Impurity of the node: 7.9\n",
      "                           | Impurity of the best split: 0.02\n",
      "                           | Count of observations in node: 626\n",
      "depth=4|-------------------------------- Split rule- x_i to split:0, value to split:288.0\n",
      "                                   | Impurity of the node: 0.67\n",
      "                                   | Impurity of the best split: 0.0\n",
      "                                   | Count of observations in node: 3\n",
      "depth=5   leaf node                                               | Count of observations in node: 1\n",
      "                                                                  | Prediction of node: [1.]\n",
      "                                                                  | Impurity of the node: 0.0\n",
      "Leaf id: 13\n",
      "depth=5|---------------------------------------- Split rule- x_i to split:0, value to split:303.0\n",
      "                                           | Impurity of the node: 0.0\n",
      "                                           | Impurity of the best split: 0.0\n",
      "                                           | Count of observations in node: 2\n",
      "depth=6   leaf node                                                       | Count of observations in node: 1\n",
      "                                                                          | Prediction of node: [0.]\n",
      "                                                                          | Impurity of the node: 0.0\n",
      "Leaf id: 14\n",
      "depth=6   leaf node                                                       | Count of observations in node: 1\n",
      "                                                                          | Prediction of node: [0.]\n",
      "                                                                          | Impurity of the node: 0.0\n",
      "Leaf id: 15\n",
      "depth=4|-------------------------------- Split rule- x_i to split:17, value to split:-87.544\n",
      "                                   | Impurity of the node: 6.92\n",
      "                                   | Impurity of the best split: 0.02\n",
      "                                   | Count of observations in node: 623\n",
      "depth=5|---------------------------------------- Split rule- x_i to split:1, value to split:0.0\n",
      "                                           | Impurity of the node: 5.94\n",
      "                                           | Impurity of the best split: 0.02\n",
      "                                           | Count of observations in node: 614\n",
      "depth=6   leaf node                                                       | Count of observations in node: 613\n",
      "                                                                          | Prediction of node: [0.01]\n",
      "                                                                          | Impurity of the node: 5.94\n",
      "Leaf id: 16\n",
      "depth=6   leaf node                                                       | Count of observations in node: 1\n",
      "                                                                          | Prediction of node: [0.]\n",
      "                                                                          | Impurity of the node: 0.0\n",
      "Leaf id: 17\n",
      "depth=5|---------------------------------------- Split rule- x_i to split:1, value to split:0.0\n",
      "                                           | Impurity of the node: 0.89\n",
      "                                           | Impurity of the best split: 0.0\n",
      "                                           | Count of observations in node: 9\n",
      "depth=6   leaf node                                                       | Count of observations in node: 8\n",
      "                                                                          | Prediction of node: [0.125]\n",
      "                                                                          | Impurity of the node: 0.88\n",
      "Leaf id: 18\n",
      "depth=6   leaf node                                                       | Count of observations in node: 1\n",
      "                                                                          | Prediction of node: [0.]\n",
      "                                                                          | Impurity of the node: 0.0\n",
      "Leaf id: 19\n",
      "depth=3   leaf node                               | Count of observations in node: 1\n",
      "                                                  | Prediction of node: [1.]\n",
      "                                                  | Impurity of the node: 0.0\n",
      "Leaf id: 20\n",
      "[0.05376853180296508, 0.05376853180296508]\n",
      "print for target number: 2\n",
      "Root\n",
      "depth=0| Split rule- x_i to split:5, value to split:1.0\n",
      "   | Impurity of the node: 51.15\n",
      "   | Impurity of the best split: 0.08\n",
      "   | Count of observations in node: 1023\n",
      "depth=1   leaf node               | Count of observations in node: 1022\n",
      "                                  | Prediction of node: [0.053]\n",
      "                                  | Impurity of the node: 51.15\n",
      "Leaf id: 1\n",
      "depth=1   leaf node               | Count of observations in node: 1\n",
      "                                  | Prediction of node: [0.]\n",
      "                                  | Impurity of the node: 0.0\n",
      "Leaf id: 2\n",
      "runtime for ind model:145.04712390899658 seconds\n",
      "LOO print:\n",
      "[0.09542164833413039, 0.07558424996014666, 0.07688665710186512, 0.0785206440299697, 0.07884744141559062, 0.07982305117168818, 0.07982305117168818]\n"
     ]
    },
    {
     "name": "stderr",
     "output_type": "stream",
     "text": [
      "CV progress bar: 4it [4:03:32, 3678.08s/it]"
     ]
    },
    {
     "name": "stdout",
     "output_type": "stream",
     "text": [
      "Root\n",
      "depth=0| Split rule- x_i to split:19, value to split:0.5\n",
      "   | Impurity of the node: 540.79\n",
      "   | Impurity of the best split: 0.13\n",
      "   | Count of observations in node: 1023\n",
      "   |LOO score: 200.24329867366575\n",
      "************************************************************sub tree number 0 ************************************************************\n",
      "Root\n",
      "depth=0| Split rule- x_i to split:13, value to split:0.5\n",
      "   | Impurity of the node: 21.66\n",
      "   | Impurity of the best split: 0.1\n",
      "   | Count of observations in node: 394\n",
      "   |LOO score: 21.43200114846612\n",
      "depth=1   leaf node               | Count of observations in node: 282\n",
      "                                  | Prediction of node: [0.933]\n",
      "                                  | Impurity of the node: 17.72\n",
      "Leaf id: 1\n",
      "                                  | Loo score: 17.438\n",
      "depth=1   leaf node               | Count of observations in node: 112\n",
      "                                  | Prediction of node: [0.964]\n",
      "                                  | Impurity of the node: 3.86\n",
      "Leaf id: 2\n",
      "                                  | Loo score: 3.836\n",
      "************************************************************sub tree number 1 ************************************************************\n",
      "Root\n",
      "depth=0| Split rule- x_i to split:18, value to split:1.0\n",
      "   | Impurity of the node: 34.34\n",
      "   | Impurity of the best split: 0.14\n",
      "   | Count of observations in node: 394\n",
      "   |LOO score: 28.24894406539166\n",
      "depth=1   leaf node               | Count of observations in node: 393\n",
      "                                  | Prediction of node: [0.906]\n",
      "                                  | Impurity of the node: 33.52\n",
      "Leaf id: 1\n",
      "                                  | Loo score: 27.578\n",
      "depth=1   leaf node               | Count of observations in node: 1\n",
      "                                  | Prediction of node: [0.]\n",
      "                                  | Impurity of the node: 0.0\n",
      "Leaf id: 2\n",
      "************************************************************sub tree number 2 ************************************************************\n",
      "Root\n",
      "depth=0| Split rule- x_i to split:21, value to split:0.5\n",
      "   | Impurity of the node: 44.4\n",
      "   | Impurity of the best split: 0.2\n",
      "   | Count of observations in node: 394\n",
      "   |LOO score: 41.57837808066512\n",
      "depth=1   leaf node               | Count of observations in node: 143\n",
      "                                  | Prediction of node: [0.273]\n",
      "                                  | Impurity of the node: 28.36\n",
      "Leaf id: 1\n",
      "                                  | Loo score: 28.492\n",
      "depth=1   leaf node               | Count of observations in node: 251\n",
      "                                  | Prediction of node: [0.048]\n",
      "                                  | Impurity of the node: 11.43\n",
      "Leaf id: 2\n",
      "                                  | Loo score: 11.48\n",
      "************************************************************sub tree number 0 ************************************************************\n",
      "Root\n",
      "depth=0| Split rule- x_i to split:0, value to split:312.5\n",
      "   | Impurity of the node: 85.46\n",
      "   | Impurity of the best split: 0.26\n",
      "   | Count of observations in node: 629\n",
      "   |LOO score: 84.46529593468694\n",
      "depth=1   leaf node               | Count of observations in node: 433\n",
      "                                  | Prediction of node: [0.118]\n",
      "                                  | Impurity of the node: 44.99\n",
      "Leaf id: 1\n",
      "                                  | Loo score: 45.035\n",
      "depth=1   leaf node               | Count of observations in node: 196\n",
      "                                  | Prediction of node: [0.26]\n",
      "                                  | Impurity of the node: 37.73\n",
      "Leaf id: 2\n",
      "                                  | Loo score: 38.317\n",
      "************************************************************sub tree number 1 ************************************************************\n",
      "Root\n",
      "depth=0| Split rule- x_i to split:3, value to split:0.5\n",
      "   | Impurity of the node: 10.81\n",
      "   | Impurity of the best split: 0.03\n",
      "   | Count of observations in node: 629\n",
      "   |LOO score: 10.829393815177054\n",
      "depth=1   leaf node               | Count of observations in node: 2\n",
      "                                  | Prediction of node: [1.]\n",
      "                                  | Impurity of the node: 0.0\n",
      "Leaf id: 1\n",
      "depth=1   leaf node               | Count of observations in node: 627\n",
      "                                  | Prediction of node: [0.014]\n",
      "                                  | Impurity of the node: 8.87\n",
      "Leaf id: 2\n",
      "                                  | Loo score: 8.891\n",
      "************************************************************sub tree number 2 ************************************************************\n",
      "Root\n",
      "depth=0| Split rule- x_i to split:3, value to split:0.5\n",
      "   | Impurity of the node: 2.99\n",
      "   | Impurity of the best split: 0.0\n",
      "   | Count of observations in node: 629\n",
      "   |LOO score: 2.9855492251090263\n",
      "depth=1   leaf node               | Count of observations in node: 2\n",
      "                                  | Prediction of node: [1.]\n",
      "                                  | Impurity of the node: 0.0\n",
      "Leaf id: 1\n",
      "depth=1   leaf node               | Count of observations in node: 627\n",
      "                                  | Prediction of node: [0.002]\n",
      "                                  | Impurity of the node: 1.0\n",
      "Leaf id: 2\n",
      "                                  | Loo score: 1.0\n",
      "runtime for LOO model:3170.9065430164337 seconds\n",
      "Score for all:0.0935672514619883\n",
      "Score for ind:0.09649122807017543\n",
      "Score for loo model:0.0935672514619883\n",
      "****************************************************************************************************************************************************************\n",
      "for all print:\n",
      "[0.07787183165949307, 0.07689143950263032, 0.07591423561294437, 0.07721664275466285, 0.08243902439024389, 0.08275625697433445, 0.08503746213932727, 0.08894468356448271, 0.08991710505340347, 0.09187310696636378, 0.09317232584090548, 0.09446995058185877, 0.09707476486529572, 0.09675434401402837, 0.09805993942292364, 0.09676072054838196, 0.10165152239757691, 0.10588394707476485, 0.10849673202614381, 0.10751952813645782, 0.10849992029332059, 0.10849992029332059]\n",
      "Root\n",
      "depth=0| Split rule- x_i to split:16, value to split:41.327\n",
      "   | Impurity of the node: 541.32\n",
      "   | Impurity of the best split: 0.13\n",
      "   | Count of observations in node: 1023\n",
      "depth=1|-------- Split rule- x_i to split:16, value to split:37.666\n",
      "           | Impurity of the node: 98.82\n",
      "           | Impurity of the best split: 0.15\n",
      "           | Count of observations in node: 396\n",
      "depth=2|---------------- Split rule- x_i to split:0, value to split:370.5\n",
      "                   | Impurity of the node: 22.86\n",
      "                   | Impurity of the best split: 0.06\n",
      "                   | Count of observations in node: 260\n",
      "depth=3   leaf node                               | Count of observations in node: 57\n",
      "                                                  | Prediction of node: [0.825 1.    0.035]\n",
      "                                                  | Impurity of the node: 10.18\n",
      "Leaf id: 1\n",
      "depth=3   leaf node                               | Count of observations in node: 203\n",
      "                                                  | Prediction of node: [1.    1.    0.059]\n",
      "                                                  | Impurity of the node: 11.29\n",
      "Leaf id: 2\n",
      "depth=2|---------------- Split rule- x_i to split:22, value to split:0.124\n",
      "                   | Impurity of the node: 64.79\n",
      "                   | Impurity of the best split: 0.29\n",
      "                   | Count of observations in node: 136\n",
      "depth=3   leaf node                               | Count of observations in node: 95\n",
      "                                                  | Prediction of node: [0.937 0.842 0.337]\n",
      "                                                  | Impurity of the node: 39.47\n",
      "Leaf id: 3\n",
      "depth=3   leaf node                               | Count of observations in node: 41\n",
      "                                                  | Prediction of node: [0.854 0.439 0.098]\n",
      "                                                  | Impurity of the node: 18.83\n",
      "Leaf id: 4\n",
      "depth=1|-------- Split rule- x_i to split:3, value to split:0.5\n",
      "           | Impurity of the node: 106.43\n",
      "           | Impurity of the best split: 0.11\n",
      "           | Count of observations in node: 627\n",
      "depth=2|---------------- Split rule- x_i to split:0, value to split:299.0\n",
      "                   | Impurity of the node: 0.0\n",
      "                   | Impurity of the best split: 0.0\n",
      "                   | Count of observations in node: 2\n",
      "depth=3   leaf node                               | Count of observations in node: 1\n",
      "                                                  | Prediction of node: [1. 1. 1.]\n",
      "                                                  | Impurity of the node: 0.0\n",
      "Leaf id: 5\n",
      "depth=3   leaf node                               | Count of observations in node: 1\n",
      "                                                  | Prediction of node: [1. 1. 1.]\n",
      "                                                  | Impurity of the node: 0.0\n",
      "Leaf id: 6\n",
      "depth=2|---------------- Split rule- x_i to split:0, value to split:312.5\n",
      "                   | Impurity of the node: 101.16\n",
      "                   | Impurity of the best split: 0.1\n",
      "                   | Count of observations in node: 625\n",
      "depth=3   leaf node                               | Count of observations in node: 424\n",
      "                                                  | Prediction of node: [0.13  0.012 0.   ]\n",
      "                                                  | Impurity of the node: 52.81\n",
      "Leaf id: 7\n",
      "depth=3   leaf node                               | Count of observations in node: 201\n",
      "                                                  | Prediction of node: [0.279 0.02  0.005]\n",
      "                                                  | Impurity of the node: 45.31\n",
      "Leaf id: 8\n",
      "runtime for all model:920.8655986785889 seconds\n",
      "for ind print:\n",
      "[0.26857006217120993, 0.13296030607364898, 0.13296030607364898]\n",
      "print for target number: 0\n",
      "Root\n",
      "depth=0| Split rule- x_i to split:16, value to split:41.327\n",
      "   | Impurity of the node: 255.16\n",
      "   | Impurity of the best split: 0.22\n",
      "   | Count of observations in node: 1023\n",
      "depth=1|-------- Split rule- x_i to split:0, value to split:383.5\n",
      "           | Impurity of the node: 20.78\n",
      "           | Impurity of the best split: 0.1\n",
      "           | Count of observations in node: 396\n",
      "depth=2   leaf node                       | Count of observations in node: 134\n",
      "                                          | Prediction of node: [0.881]\n",
      "                                          | Impurity of the node: 14.09\n",
      "Leaf id: 1\n",
      "depth=2   leaf node                       | Count of observations in node: 262\n",
      "                                          | Prediction of node: [0.977]\n",
      "                                          | Impurity of the node: 5.86\n",
      "Leaf id: 2\n",
      "depth=1|-------- Split rule- x_i to split:0, value to split:309.5\n",
      "           | Impurity of the node: 92.63\n",
      "           | Impurity of the best split: 0.28\n",
      "           | Count of observations in node: 627\n",
      "depth=2   leaf node                       | Count of observations in node: 400\n",
      "                                          | Prediction of node: [0.125]\n",
      "                                          | Impurity of the node: 43.75\n",
      "Leaf id: 3\n",
      "depth=2   leaf node                       | Count of observations in node: 227\n",
      "                                          | Prediction of node: [0.278]\n",
      "                                          | Impurity of the node: 45.52\n",
      "Leaf id: 4\n",
      "[0.04885222381635581, 0.04787183165949306, 0.045920612147297944, 0.04690100430416069, 0.046896221903395506, 0.04690100430416069, 0.049837398373983745, 0.0537350549976088, 0.05471066475370636, 0.056681013868962224, 0.057656623625059786, 0.057656623625059786]\n",
      "print for target number: 1\n",
      "Root\n",
      "depth=0| Split rule- x_i to split:16, value to split:41.33\n",
      "   | Impurity of the node: 235.9\n",
      "   | Impurity of the best split: 0.09\n",
      "   | Count of observations in node: 1023\n",
      "depth=1|-------- Split rule- x_i to split:18, value to split:1.0\n",
      "           | Impurity of the node: 35.18\n",
      "           | Impurity of the best split: 0.13\n",
      "           | Count of observations in node: 398\n",
      "depth=2|---------------- Split rule- x_i to split:18, value to split:1.0\n",
      "                   | Impurity of the node: 34.36\n",
      "                   | Impurity of the best split: 0.14\n",
      "                   | Count of observations in node: 397\n",
      "depth=3   leaf node                               | Count of observations in node: 396\n",
      "                                                  | Prediction of node: [0.904]\n",
      "                                                  | Impurity of the node: 34.35\n",
      "Leaf id: 1\n",
      "depth=3   leaf node                               | Count of observations in node: 1\n",
      "                                                  | Prediction of node: [1.]\n",
      "                                                  | Impurity of the node: 0.0\n",
      "Leaf id: 2\n",
      "depth=2   leaf node                       | Count of observations in node: 1\n",
      "                                          | Prediction of node: [0.]\n",
      "                                          | Impurity of the node: 0.0\n",
      "Leaf id: 3\n",
      "depth=1|-------- Split rule- x_i to split:3, value to split:0.5\n",
      "           | Impurity of the node: 9.84\n",
      "           | Impurity of the best split: 0.03\n",
      "           | Count of observations in node: 625\n",
      "depth=2|---------------- Split rule- x_i to split:0, value to split:299.0\n",
      "                   | Impurity of the node: 0.0\n",
      "                   | Impurity of the best split: 0.0\n",
      "                   | Count of observations in node: 2\n",
      "depth=3   leaf node                               | Count of observations in node: 1\n",
      "                                                  | Prediction of node: [1.]\n",
      "                                                  | Impurity of the node: 0.0\n",
      "Leaf id: 4\n",
      "depth=3   leaf node                               | Count of observations in node: 1\n",
      "                                                  | Prediction of node: [1.]\n",
      "                                                  | Impurity of the node: 0.0\n",
      "Leaf id: 5\n",
      "depth=2|---------------- Split rule- x_i to split:0, value to split:407.5\n",
      "                   | Impurity of the node: 7.9\n",
      "                   | Impurity of the best split: 0.02\n",
      "                   | Count of observations in node: 623\n",
      "depth=3   leaf node                               | Count of observations in node: 621\n",
      "                                                  | Prediction of node: [0.011]\n",
      "                                                  | Impurity of the node: 6.92\n",
      "Leaf id: 6\n",
      "depth=3   leaf node                               | Count of observations in node: 2\n",
      "                                                  | Prediction of node: [0.5]\n",
      "                                                  | Impurity of the node: 0.5\n",
      "Leaf id: 7\n",
      "[0.051802965088474415, 0.051802965088474415]\n",
      "print for target number: 2\n",
      "Root\n",
      "depth=0| Split rule- x_i to split:5, value to split:1.0\n",
      "   | Impurity of the node: 50.25\n",
      "   | Impurity of the best split: 0.09\n",
      "   | Count of observations in node: 1023\n",
      "depth=1   leaf node               | Count of observations in node: 1022\n",
      "                                  | Prediction of node: [0.052]\n",
      "                                  | Impurity of the node: 50.25\n",
      "Leaf id: 1\n",
      "depth=1   leaf node               | Count of observations in node: 1\n",
      "                                  | Prediction of node: [0.]\n",
      "                                  | Impurity of the node: 0.0\n",
      "Leaf id: 2\n",
      "runtime for ind model:136.3316307067871 seconds\n",
      "LOO print:\n",
      "[0.12307508369201339, 0.07787183165949307, 0.07787183165949307]\n"
     ]
    },
    {
     "name": "stderr",
     "output_type": "stream",
     "text": [
      "CV progress bar: 5it [4:38:38, 3111.15s/it]"
     ]
    },
    {
     "name": "stdout",
     "output_type": "stream",
     "text": [
      "************************************************************sub tree number 0 ************************************************************\n",
      "Root\n",
      "depth=0| Split rule- x_i to split:16, value to split:41.327\n",
      "   | Impurity of the node: 255.16\n",
      "   | Impurity of the best split: 0.22\n",
      "   | Count of observations in node: 1023\n",
      "   |LOO score: 133.57549361069917\n",
      "depth=1|-------- Split rule- x_i to split:0, value to split:383.5\n",
      "           | Impurity of the node: 20.78\n",
      "           | Impurity of the best split: 0.1\n",
      "           | Count of observations in node: 396\n",
      "           |LOO score: 20.440509658733728\n",
      "depth=2   leaf node                       | Count of observations in node: 134\n",
      "                                          | Prediction of node: [0.881]\n",
      "                                          | Impurity of the node: 14.09\n",
      "Leaf id: 1\n",
      "                                          | Loo score: 13.894\n",
      "depth=2   leaf node                       | Count of observations in node: 262\n",
      "                                          | Prediction of node: [0.977]\n",
      "                                          | Impurity of the node: 5.86\n",
      "Leaf id: 2\n",
      "                                          | Loo score: 5.566\n",
      "depth=1   leaf node               | Count of observations in node: 627\n",
      "                                  | Prediction of node: [0.18]\n",
      "                                  | Impurity of the node: 92.63\n",
      "Leaf id: 3\n",
      "                                  | Loo score: 92.658\n",
      "************************************************************sub tree number 1 ************************************************************\n",
      "Root\n",
      "depth=0| Split rule- x_i to split:16, value to split:41.33\n",
      "   | Impurity of the node: 235.9\n",
      "   | Impurity of the best split: 0.09\n",
      "   | Count of observations in node: 1023\n",
      "   |LOO score: 46.49314399419782\n",
      "depth=1|-------- Split rule- x_i to split:18, value to split:1.0\n",
      "           | Impurity of the node: 35.18\n",
      "           | Impurity of the best split: 0.13\n",
      "           | Count of observations in node: 398\n",
      "           |LOO score: 31.749683784185496\n",
      "depth=2   leaf node                       | Count of observations in node: 397\n",
      "                                          | Prediction of node: [0.904]\n",
      "                                          | Impurity of the node: 34.36\n",
      "Leaf id: 1\n",
      "                                          | Loo score: 31.047\n",
      "depth=2   leaf node                       | Count of observations in node: 1\n",
      "                                          | Prediction of node: [0.]\n",
      "                                          | Impurity of the node: 0.0\n",
      "Leaf id: 2\n",
      "depth=1   leaf node               | Count of observations in node: 625\n",
      "                                  | Prediction of node: [0.016]\n",
      "                                  | Impurity of the node: 9.84\n",
      "Leaf id: 3\n",
      "                                  | Loo score: 9.855\n",
      "************************************************************sub tree number 2 ************************************************************\n",
      "Root\n",
      "depth=0| Split rule- x_i to split:5, value to split:1.0\n",
      "   | Impurity of the node: 50.25\n",
      "   | Impurity of the best split: 0.09\n",
      "   | Count of observations in node: 1023\n",
      "   |LOO score: 46.88080490660275\n",
      "depth=1|-------- Split rule- x_i to split:5, value to split:1.0\n",
      "           | Impurity of the node: 50.25\n",
      "           | Impurity of the best split: 0.09\n",
      "           | Count of observations in node: 1022\n",
      "           |LOO score: 46.868474588697396\n",
      "depth=2   leaf node                       | Count of observations in node: 1021\n",
      "                                          | Prediction of node: [0.051]\n",
      "                                          | Impurity of the node: 49.35\n",
      "Leaf id: 1\n",
      "                                          | Loo score: 46.314\n",
      "depth=2   leaf node                       | Count of observations in node: 1\n",
      "                                          | Prediction of node: [1.]\n",
      "                                          | Impurity of the node: 0.0\n",
      "Leaf id: 2\n",
      "depth=1   leaf node               | Count of observations in node: 1\n",
      "                                  | Prediction of node: [0.]\n",
      "                                  | Impurity of the node: 0.0\n",
      "Leaf id: 3\n",
      "runtime for LOO model:1048.7303173542023 seconds\n",
      "Score for all:0.07017543859649122\n",
      "Score for ind:0.06725146198830409\n",
      "Score for loo model:0.06725146198830409\n",
      "****************************************************************************************************************************************************************\n",
      "for all print:\n",
      "[0.07983261597321856, 0.07918220946915351, 0.07853499123226526, 0.07625059780009566, 0.08016100749242787, 0.0808161963972581, 0.07886178861788619, 0.08081938466443488, 0.08278335724533717, 0.08668898453690418, 0.08571975131516021, 0.08636537541846005, 0.08767097082735534, 0.08962537860672724, 0.08994898772517138, 0.0938562091503268, 0.0922301928901642, 0.09157978638609915, 0.09581539933046389, 0.09679260322014985, 0.0961421967160848, 0.09679419735373823, 0.09744460385780328, 0.09744460385780328]\n",
      "Root\n",
      "depth=0| Split rule- x_i to split:16, value to split:41.327\n",
      "   | Impurity of the node: 544.46\n",
      "   | Impurity of the best split: 0.13\n",
      "   | Count of observations in node: 1023\n",
      "depth=1|-------- Split rule- x_i to split:16, value to split:37.666\n",
      "           | Impurity of the node: 101.31\n",
      "           | Impurity of the best split: 0.15\n",
      "           | Count of observations in node: 404\n",
      "depth=2|---------------- Split rule- x_i to split:0, value to split:370.5\n",
      "                   | Impurity of the node: 21.05\n",
      "                   | Impurity of the best split: 0.05\n",
      "                   | Count of observations in node: 262\n",
      "depth=3|------------------------ Split rule- x_i to split:16, value to split:37.471\n",
      "                           | Impurity of the node: 9.56\n",
      "                           | Impurity of the best split: 0.1\n",
      "                           | Count of observations in node: 59\n",
      "depth=4   leaf node                                       | Count of observations in node: 1\n",
      "                                                          | Prediction of node: [0. 1. 0.]\n",
      "                                                          | Impurity of the node: 0.0\n",
      "Leaf id: 1\n",
      "depth=4   leaf node                                       | Count of observations in node: 58\n",
      "                                                          | Prediction of node: [0.862 1.    0.034]\n",
      "                                                          | Impurity of the node: 8.83\n",
      "Leaf id: 2\n",
      "depth=3|------------------------ Split rule- x_i to split:8, value to split:0.5\n",
      "                           | Impurity of the node: 10.4\n",
      "                           | Impurity of the best split: 0.03\n",
      "                           | Count of observations in node: 203\n",
      "depth=4   leaf node                                       | Count of observations in node: 202\n",
      "                                                          | Prediction of node: [1.   1.   0.05]\n",
      "                                                          | Impurity of the node: 9.5\n",
      "Leaf id: 3\n",
      "depth=4   leaf node                                       | Count of observations in node: 1\n",
      "                                                          | Prediction of node: [1. 1. 1.]\n",
      "                                                          | Impurity of the node: 0.0\n",
      "Leaf id: 4\n",
      "depth=2|---------------- Split rule- x_i to split:22, value to split:0.124\n",
      "                   | Impurity of the node: 67.98\n",
      "                   | Impurity of the best split: 0.28\n",
      "                   | Count of observations in node: 142\n",
      "depth=3|------------------------ Split rule- x_i to split:0, value to split:514.5\n",
      "                           | Impurity of the node: 43.92\n",
      "                           | Impurity of the best split: 0.25\n",
      "                           | Count of observations in node: 103\n",
      "depth=4   leaf node                                       | Count of observations in node: 88\n",
      "                                                          | Prediction of node: [0.943 0.795 0.261]\n",
      "                                                          | Impurity of the node: 36.02\n",
      "Leaf id: 5\n",
      "depth=4   leaf node                                       | Count of observations in node: 15\n",
      "                                                          | Prediction of node: [0.933 1.    0.867]\n",
      "                                                          | Impurity of the node: 2.67\n",
      "Leaf id: 6\n",
      "depth=3|------------------------ Split rule- x_i to split:5, value to split:0.5\n",
      "                           | Impurity of the node: 16.41\n",
      "                           | Impurity of the best split: 0.22\n",
      "                           | Count of observations in node: 39\n",
      "depth=4   leaf node                                       | Count of observations in node: 21\n",
      "                                                          | Prediction of node: [0.714 0.333 0.   ]\n",
      "                                                          | Impurity of the node: 8.95\n",
      "Leaf id: 7\n",
      "depth=4   leaf node                                       | Count of observations in node: 18\n",
      "                                                          | Prediction of node: [1.    0.5   0.111]\n",
      "                                                          | Impurity of the node: 6.28\n",
      "Leaf id: 8\n",
      "depth=1|-------- Split rule- x_i to split:3, value to split:0.5\n",
      "           | Impurity of the node: 104.26\n",
      "           | Impurity of the best split: 0.11\n",
      "           | Count of observations in node: 619\n",
      "depth=2|---------------- Split rule- x_i to split:0, value to split:299.0\n",
      "                   | Impurity of the node: 0.0\n",
      "                   | Impurity of the best split: 0.0\n",
      "                   | Count of observations in node: 2\n",
      "depth=3   leaf node                               | Count of observations in node: 1\n",
      "                                                  | Prediction of node: [1. 1. 1.]\n",
      "                                                  | Impurity of the node: 0.0\n",
      "Leaf id: 9\n",
      "depth=3   leaf node                               | Count of observations in node: 1\n",
      "                                                  | Prediction of node: [1. 1. 1.]\n",
      "                                                  | Impurity of the node: 0.0\n",
      "Leaf id: 10\n",
      "depth=2|---------------- Split rule- x_i to split:0, value to split:312.5\n",
      "                   | Impurity of the node: 98.99\n",
      "                   | Impurity of the best split: 0.1\n",
      "                   | Count of observations in node: 617\n",
      "depth=3|------------------------ Split rule- x_i to split:1, value to split:0.0\n",
      "                           | Impurity of the node: 51.48\n",
      "                           | Impurity of the best split: 0.08\n",
      "                           | Count of observations in node: 419\n",
      "depth=4   leaf node                                       | Count of observations in node: 418\n",
      "                                                          | Prediction of node: [0.124 0.012 0.002]\n",
      "                                                          | Impurity of the node: 51.47\n",
      "Leaf id: 11\n",
      "depth=4   leaf node                                       | Count of observations in node: 1\n",
      "                                                          | Prediction of node: [0. 0. 0.]\n",
      "                                                          | Impurity of the node: 0.0\n",
      "Leaf id: 12\n",
      "depth=3|------------------------ Split rule- x_i to split:0, value to split:329.5\n",
      "                           | Impurity of the node: 44.11\n",
      "                           | Impurity of the best split: 0.14\n",
      "                           | Count of observations in node: 198\n",
      "depth=4   leaf node                                       | Count of observations in node: 156\n",
      "                                                          | Prediction of node: [0.346 0.013 0.   ]\n",
      "                                                          | Impurity of the node: 37.28\n",
      "Leaf id: 13\n",
      "depth=4   leaf node                                       | Count of observations in node: 42\n",
      "                                                          | Prediction of node: [0.048 0.024 0.024]\n",
      "                                                          | Impurity of the node: 3.86\n",
      "Leaf id: 14\n",
      "runtime for all model:1053.0254108905792 seconds\n",
      "for ind print:\n",
      "[0.1983165949306552, 0.13197513151602105, 0.13295074127211862, 0.133921568627451, 0.13686752749880443, 0.14174079387852703, 0.1397991391678623, 0.144701099952176, 0.15154471544715448, 0.15154949784791966, 0.1515399330463893, 0.157403156384505, 0.16131516021042563, 0.16229555236728838, 0.16229555236728838]\n",
      "print for target number: 0\n",
      "Root\n",
      "depth=0| Split rule- x_i to split:16, value to split:41.327\n",
      "   | Impurity of the node: 255.42\n",
      "   | Impurity of the best split: 0.22\n",
      "   | Count of observations in node: 1023\n",
      "depth=1|-------- Split rule- x_i to split:4, value to split:0.5\n",
      "           | Impurity of the node: 19.91\n",
      "           | Impurity of the best split: 0.09\n",
      "           | Count of observations in node: 404\n",
      "depth=2   leaf node                       | Count of observations in node: 368\n",
      "                                          | Prediction of node: [0.948]\n",
      "                                          | Impurity of the node: 18.02\n",
      "Leaf id: 1\n",
      "depth=2   leaf node                       | Count of observations in node: 36\n",
      "                                          | Prediction of node: [0.944]\n",
      "                                          | Impurity of the node: 1.89\n",
      "Leaf id: 2\n",
      "depth=1|-------- Split rule- x_i to split:0, value to split:313.5\n",
      "           | Impurity of the node: 90.45\n",
      "           | Impurity of the best split: 0.28\n",
      "           | Count of observations in node: 619\n",
      "depth=2   leaf node                       | Count of observations in node: 432\n",
      "                                          | Prediction of node: [0.139]\n",
      "                                          | Impurity of the node: 51.67\n",
      "Leaf id: 3\n",
      "depth=2   leaf node                       | Count of observations in node: 187\n",
      "                                          | Prediction of node: [0.267]\n",
      "                                          | Impurity of the node: 36.63\n",
      "Leaf id: 4\n",
      "[0.05373983739837398, 0.05080822572931611, 0.04787661406025825, 0.04887135341941655, 0.04593017694882832, 0.05082735533237685, 0.052783357245337156, 0.04887135341941655, 0.05083213773314203, 0.05181731229076997, 0.05181252989000479, 0.0537637494021999, 0.05474414155906264, 0.05474892395982785, 0.05670014347202296, 0.05670014347202296]\n",
      "print for target number: 1\n",
      "Root\n",
      "depth=0| Split rule- x_i to split:16, value to split:41.327\n",
      "   | Impurity of the node: 237.0\n",
      "   | Impurity of the best split: 0.09\n",
      "   | Count of observations in node: 1023\n",
      "depth=1|-------- Split rule- x_i to split:18, value to split:1.0\n",
      "           | Impurity of the node: 36.84\n",
      "           | Impurity of the best split: 0.13\n",
      "           | Count of observations in node: 404\n",
      "depth=2|---------------- Split rule- x_i to split:18, value to split:0.5\n",
      "                   | Impurity of the node: 36.83\n",
      "                   | Impurity of the best split: 0.14\n",
      "                   | Count of observations in node: 403\n",
      "depth=3|------------------------ Split rule- x_i to split:17, value to split:-72.91\n",
      "                           | Impurity of the node: 3.95\n",
      "                           | Impurity of the best split: 0.02\n",
      "                           | Count of observations in node: 299\n",
      "depth=4|-------------------------------- Split rule- x_i to split:22, value to split:0.018\n",
      "                                   | Impurity of the node: 1.0\n",
      "                                   | Impurity of the best split: 0.01\n",
      "                                   | Count of observations in node: 291\n",
      "depth=5   leaf node                                               | Count of observations in node: 4\n",
      "                                                                  | Prediction of node: [0.75]\n",
      "                                                                  | Impurity of the node: 0.75\n",
      "Leaf id: 1\n",
      "depth=5   leaf node                                               | Count of observations in node: 287\n",
      "                                                                  | Prediction of node: [1.]\n",
      "                                                                  | Impurity of the node: 0.0\n",
      "Leaf id: 2\n",
      "depth=4|-------------------------------- Split rule- x_i to split:1, value to split:0.5\n",
      "                                   | Impurity of the node: 1.88\n",
      "                                   | Impurity of the best split: 0.0\n",
      "                                   | Count of observations in node: 8\n",
      "depth=5   leaf node                                               | Count of observations in node: 4\n",
      "                                                                  | Prediction of node: [0.25]\n",
      "                                                                  | Impurity of the node: 0.75\n",
      "Leaf id: 3\n",
      "depth=5   leaf node                                               | Count of observations in node: 4\n",
      "                                                                  | Prediction of node: [1.]\n",
      "                                                                  | Impurity of the node: 0.0\n",
      "Leaf id: 4\n",
      "depth=3|------------------------ Split rule- x_i to split:22, value to split:0.121\n",
      "                           | Impurity of the node: 23.84\n",
      "                           | Impurity of the best split: 0.36\n",
      "                           | Count of observations in node: 104\n",
      "depth=4|-------------------------------- Split rule- x_i to split:1, value to split:0.0\n",
      "                                   | Impurity of the node: 11.2\n",
      "                                   | Impurity of the best split: 0.25\n",
      "                                   | Count of observations in node: 70\n",
      "depth=5   leaf node                                               | Count of observations in node: 69\n",
      "                                                                  | Prediction of node: [0.797]\n",
      "                                                                  | Impurity of the node: 11.16\n",
      "Leaf id: 5\n",
      "depth=5   leaf node                                               | Count of observations in node: 1\n",
      "                                                                  | Prediction of node: [1.]\n",
      "                                                                  | Impurity of the node: 0.0\n",
      "Leaf id: 6\n",
      "depth=4|-------------------------------- Split rule- x_i to split:5, value to split:0.5\n",
      "                                   | Impurity of the node: 7.44\n",
      "                                   | Impurity of the best split: 0.32\n",
      "                                   | Count of observations in node: 34\n",
      "depth=5   leaf node                                               | Count of observations in node: 17\n",
      "                                                                  | Prediction of node: [0.176]\n",
      "                                                                  | Impurity of the node: 2.47\n",
      "Leaf id: 7\n",
      "depth=5   leaf node                                               | Count of observations in node: 17\n",
      "                                                                  | Prediction of node: [0.471]\n",
      "                                                                  | Impurity of the node: 4.24\n",
      "Leaf id: 8\n",
      "depth=2   leaf node                       | Count of observations in node: 1\n",
      "                                          | Prediction of node: [1.]\n",
      "                                          | Impurity of the node: 0.0\n",
      "Leaf id: 9\n",
      "depth=1|-------- Split rule- x_i to split:3, value to split:0.5\n",
      "           | Impurity of the node: 9.84\n",
      "           | Impurity of the best split: 0.03\n",
      "           | Count of observations in node: 619\n",
      "depth=2|---------------- Split rule- x_i to split:0, value to split:299.0\n",
      "                   | Impurity of the node: 0.0\n",
      "                   | Impurity of the best split: 0.0\n",
      "                   | Count of observations in node: 2\n",
      "depth=3   leaf node                               | Count of observations in node: 1\n",
      "                                                  | Prediction of node: [1.]\n",
      "                                                  | Impurity of the node: 0.0\n",
      "Leaf id: 10\n",
      "depth=3   leaf node                               | Count of observations in node: 1\n",
      "                                                  | Prediction of node: [1.]\n",
      "                                                  | Impurity of the node: 0.0\n",
      "Leaf id: 11\n",
      "depth=2|---------------- Split rule- x_i to split:12, value to split:0.5\n",
      "                   | Impurity of the node: 7.9\n",
      "                   | Impurity of the best split: 0.02\n",
      "                   | Count of observations in node: 617\n",
      "depth=3|------------------------ Split rule- x_i to split:0, value to split:411.5\n",
      "                           | Impurity of the node: 6.92\n",
      "                           | Impurity of the best split: 0.02\n",
      "                           | Count of observations in node: 616\n",
      "depth=4|-------------------------------- Split rule- x_i to split:22, value to split:0.018\n",
      "                                   | Impurity of the node: 5.94\n",
      "                                   | Impurity of the best split: 0.02\n",
      "                                   | Count of observations in node: 614\n",
      "depth=5   leaf node                                               | Count of observations in node: 4\n",
      "                                                                  | Prediction of node: [0.25]\n",
      "                                                                  | Impurity of the node: 0.75\n",
      "Leaf id: 12\n",
      "depth=5   leaf node                                               | Count of observations in node: 610\n",
      "                                                                  | Prediction of node: [0.008]\n",
      "                                                                  | Impurity of the node: 4.96\n",
      "Leaf id: 13\n",
      "depth=4|-------------------------------- Split rule- x_i to split:0, value to split:437.5\n",
      "                                   | Impurity of the node: 0.5\n",
      "                                   | Impurity of the best split: 0.0\n",
      "                                   | Count of observations in node: 2\n",
      "depth=5   leaf node                                               | Count of observations in node: 1\n",
      "                                                                  | Prediction of node: [1.]\n",
      "                                                                  | Impurity of the node: 0.0\n",
      "Leaf id: 14\n",
      "depth=5   leaf node                                               | Count of observations in node: 1\n",
      "                                                                  | Prediction of node: [0.]\n",
      "                                                                  | Impurity of the node: 0.0\n",
      "Leaf id: 15\n",
      "depth=3   leaf node                               | Count of observations in node: 1\n",
      "                                                  | Prediction of node: [1.]\n",
      "                                                  | Impurity of the node: 0.0\n",
      "Leaf id: 16\n",
      "[0.053782879005260645, 0.06355810616929698, 0.063558106169297]\n",
      "print for target number: 2\n",
      "Root\n",
      "depth=0| Split rule- x_i to split:5, value to split:1.0\n",
      "   | Impurity of the node: 52.04\n",
      "   | Impurity of the best split: 0.09\n",
      "   | Count of observations in node: 1023\n",
      "depth=1   leaf node               | Count of observations in node: 1022\n",
      "                                  | Prediction of node: [0.053]\n",
      "                                  | Impurity of the node: 51.15\n",
      "Leaf id: 1\n",
      "depth=1   leaf node               | Count of observations in node: 1\n",
      "                                  | Prediction of node: [1.]\n",
      "                                  | Impurity of the node: 0.0\n",
      "Leaf id: 2\n",
      "runtime for ind model:375.5201814174652 seconds\n",
      "LOO print:\n",
      "[0.10194643711142995, 0.08309102502789734, 0.08309261916148573, 0.08309261916148573]\n"
     ]
    },
    {
     "name": "stderr",
     "output_type": "stream",
     "text": [
      "CV progress bar: 6it [5:26:09, 3022.98s/it]"
     ]
    },
    {
     "name": "stdout",
     "output_type": "stream",
     "text": [
      "************************************************************sub tree number 0 ************************************************************\n",
      "Root\n",
      "depth=0| Split rule- x_i to split:16, value to split:41.327\n",
      "   | Impurity of the node: 255.42\n",
      "   | Impurity of the best split: 0.22\n",
      "   | Count of observations in node: 1023\n",
      "   |LOO score: 114.85419699371072\n",
      "depth=1|-------- Split rule- x_i to split:4, value to split:0.5\n",
      "           | Impurity of the node: 19.91\n",
      "           | Impurity of the best split: 0.09\n",
      "           | Count of observations in node: 404\n",
      "           |LOO score: 19.856746984275212\n",
      "depth=2   leaf node                       | Count of observations in node: 368\n",
      "                                          | Prediction of node: [0.948]\n",
      "                                          | Impurity of the node: 18.02\n",
      "Leaf id: 1\n",
      "                                          | Loo score: 17.759\n",
      "depth=2   leaf node                       | Count of observations in node: 36\n",
      "                                          | Prediction of node: [0.944]\n",
      "                                          | Impurity of the node: 1.89\n",
      "Leaf id: 2\n",
      "                                          | Loo score: 1.899\n",
      "depth=1   leaf node               | Count of observations in node: 619\n",
      "                                  | Prediction of node: [0.178]\n",
      "                                  | Impurity of the node: 90.45\n",
      "Leaf id: 3\n",
      "                                  | Loo score: 90.488\n",
      "************************************************************sub tree number 1 ************************************************************\n",
      "Root\n",
      "depth=0| Split rule- x_i to split:16, value to split:41.327\n",
      "   | Impurity of the node: 237.0\n",
      "   | Impurity of the best split: 0.09\n",
      "   | Count of observations in node: 1023\n",
      "   |LOO score: 47.422832994852556\n",
      "depth=1|-------- Split rule- x_i to split:18, value to split:1.0\n",
      "           | Impurity of the node: 36.84\n",
      "           | Impurity of the best split: 0.13\n",
      "           | Count of observations in node: 404\n",
      "           |LOO score: 35.730001551192146\n",
      "depth=2   leaf node                       | Count of observations in node: 403\n",
      "                                          | Prediction of node: [0.898]\n",
      "                                          | Impurity of the node: 36.83\n",
      "Leaf id: 1\n",
      "                                          | Loo score: 34.194\n",
      "depth=2   leaf node                       | Count of observations in node: 1\n",
      "                                          | Prediction of node: [1.]\n",
      "                                          | Impurity of the node: 0.0\n",
      "Leaf id: 2\n",
      "depth=1   leaf node               | Count of observations in node: 619\n",
      "                                  | Prediction of node: [0.016]\n",
      "                                  | Impurity of the node: 9.84\n",
      "Leaf id: 3\n",
      "                                  | Loo score: 9.845\n",
      "************************************************************sub tree number 2 ************************************************************\n",
      "Root\n",
      "depth=0| Split rule- x_i to split:5, value to split:1.0\n",
      "   | Impurity of the node: 52.04\n",
      "   | Impurity of the best split: 0.09\n",
      "   | Count of observations in node: 1023\n",
      "   |LOO score: 48.395641787812295\n",
      "depth=1|-------- Split rule- x_i to split:22, value to split:0.104\n",
      "           | Impurity of the node: 51.15\n",
      "           | Impurity of the best split: 0.09\n",
      "           | Count of observations in node: 1022\n",
      "           |LOO score: 47.92735098124841\n",
      "depth=2   leaf node                       | Count of observations in node: 199\n",
      "                                          | Prediction of node: [0.206]\n",
      "                                          | Impurity of the node: 32.55\n",
      "Leaf id: 1\n",
      "                                          | Loo score: 31.15\n",
      "depth=2   leaf node                       | Count of observations in node: 823\n",
      "                                          | Prediction of node: [0.016]\n",
      "                                          | Impurity of the node: 12.79\n",
      "Leaf id: 2\n",
      "                                          | Loo score: 12.649\n",
      "depth=1   leaf node               | Count of observations in node: 1\n",
      "                                  | Prediction of node: [1.]\n",
      "                                  | Impurity of the node: 0.0\n",
      "Leaf id: 3\n",
      "runtime for LOO model:1423.272093296051 seconds\n",
      "Score for all:0.08187134502923976\n",
      "Score for ind:0.07602339181286549\n",
      "Score for loo model:0.06725146198830409\n",
      "****************************************************************************************************************************************************************\n",
      "for all print:\n",
      "[0.11905467878208191, 0.07787820819384664, 0.07917583293479993, 0.0785254264307349, 0.07787501992666987, 0.08016897816036983, 0.0791869918699187, 0.08146660290132314, 0.08831181252989, 0.08798820341144588, 0.08928742228598756, 0.09124820659971307, 0.08961103140443169, 0.09221903395504542, 0.09254423720707797, 0.09451139805515703, 0.09483500717360115, 0.09516180455922206, 0.09646580583452893, 0.09646739996811733, 0.09646899410170573, 0.09711940060577076, 0.09679260322014985, 0.09971943248844253, 0.09971943248844253]\n",
      "Root\n",
      "depth=0| Split rule- x_i to split:19, value to split:1.0\n",
      "   | Impurity of the node: 543.84\n",
      "   | Impurity of the best split: 0.13\n",
      "   | Count of observations in node: 1023\n",
      "depth=1|-------- Split rule- x_i to split:16, value to split:41.494\n",
      "           | Impurity of the node: 543.47\n",
      "           | Impurity of the best split: 0.13\n",
      "           | Count of observations in node: 1022\n",
      "depth=2|---------------- Split rule- x_i to split:21, value to split:0.5\n",
      "                   | Impurity of the node: 101.17\n",
      "                   | Impurity of the best split: 0.15\n",
      "                   | Count of observations in node: 401\n",
      "depth=3|------------------------ Split rule- x_i to split:22, value to split:0.124\n",
      "                           | Impurity of the node: 66.61\n",
      "                           | Impurity of the best split: 0.27\n",
      "                           | Count of observations in node: 147\n",
      "depth=4|-------------------------------- Split rule- x_i to split:0, value to split:513.0\n",
      "                                   | Impurity of the node: 40.82\n",
      "                                   | Impurity of the best split: 0.24\n",
      "                                   | Count of observations in node: 103\n",
      "depth=5   leaf node                                               | Count of observations in node: 87\n",
      "                                                                  | Prediction of node: [0.954 0.805 0.264]\n",
      "                                                                  | Impurity of the node: 34.41\n",
      "Leaf id: 1\n",
      "depth=5   leaf node                                               | Count of observations in node: 16\n",
      "                                                                  | Prediction of node: [1.    1.    0.688]\n",
      "                                                                  | Impurity of the node: 3.44\n",
      "Leaf id: 2\n",
      "depth=4|-------------------------------- Split rule- x_i to split:5, value to split:0.5\n",
      "                                   | Impurity of the node: 19.8\n",
      "                                   | Impurity of the best split: 0.25\n",
      "                                   | Count of observations in node: 44\n",
      "depth=5   leaf node                                               | Count of observations in node: 23\n",
      "                                                                  | Prediction of node: [0.739 0.391 0.043]\n",
      "                                                                  | Impurity of the node: 10.87\n",
      "Leaf id: 3\n",
      "depth=5   leaf node                                               | Count of observations in node: 21\n",
      "                                                                  | Prediction of node: [1.    0.571 0.143]\n",
      "                                                                  | Impurity of the node: 7.71\n",
      "Leaf id: 4\n",
      "depth=3|------------------------ Split rule- x_i to split:1, value to split:1.0\n",
      "                           | Impurity of the node: 23.75\n",
      "                           | Impurity of the best split: 0.06\n",
      "                           | Count of observations in node: 254\n",
      "depth=4|-------------------------------- Split rule- x_i to split:0, value to split:370.5\n",
      "                                   | Impurity of the node: 22.83\n",
      "                                   | Impurity of the best split: 0.06\n",
      "                                   | Count of observations in node: 253\n",
      "depth=5   leaf node                                               | Count of observations in node: 56\n",
      "                                                                  | Prediction of node: [0.821 1.    0.036]\n",
      "                                                                  | Impurity of the node: 10.14\n",
      "Leaf id: 5\n",
      "depth=5   leaf node                                               | Count of observations in node: 197\n",
      "                                                                  | Prediction of node: [1.    1.    0.061]\n",
      "                                                                  | Impurity of the node: 11.27\n",
      "Leaf id: 6\n",
      "depth=4   leaf node                                       | Count of observations in node: 1\n",
      "                                                          | Prediction of node: [0. 1. 0.]\n",
      "                                                          | Impurity of the node: 0.0\n",
      "Leaf id: 7\n",
      "depth=2|---------------- Split rule- x_i to split:3, value to split:0.5\n",
      "                   | Impurity of the node: 103.98\n",
      "                   | Impurity of the best split: 0.11\n",
      "                   | Count of observations in node: 621\n",
      "depth=3|------------------------ Split rule- x_i to split:0, value to split:299.0\n",
      "                           | Impurity of the node: 0.0\n",
      "                           | Impurity of the best split: 0.0\n",
      "                           | Count of observations in node: 2\n",
      "depth=4   leaf node                                       | Count of observations in node: 1\n",
      "                                                          | Prediction of node: [1. 1. 1.]\n",
      "                                                          | Impurity of the node: 0.0\n",
      "Leaf id: 8\n",
      "depth=4   leaf node                                       | Count of observations in node: 1\n",
      "                                                          | Prediction of node: [1. 1. 1.]\n",
      "                                                          | Impurity of the node: 0.0\n",
      "Leaf id: 9\n",
      "depth=3|------------------------ Split rule- x_i to split:0, value to split:310.5\n",
      "                           | Impurity of the node: 98.7\n",
      "                           | Impurity of the best split: 0.1\n",
      "                           | Count of observations in node: 619\n",
      "depth=4|-------------------------------- Split rule- x_i to split:1, value to split:0.0\n",
      "                                   | Impurity of the node: 48.0\n",
      "                                   | Impurity of the best split: 0.07\n",
      "                                   | Count of observations in node: 404\n",
      "depth=5   leaf node                                               | Count of observations in node: 403\n",
      "                                                                  | Prediction of node: [0.119 0.012 0.   ]\n",
      "                                                                  | Impurity of the node: 47.22\n",
      "Leaf id: 10\n",
      "depth=5   leaf node                                               | Count of observations in node: 1\n",
      "                                                                  | Prediction of node: [1. 0. 0.]\n",
      "                                                                  | Impurity of the node: 0.0\n",
      "Leaf id: 11\n",
      "depth=4|-------------------------------- Split rule- x_i to split:0, value to split:329.5\n",
      "                                   | Impurity of the node: 47.21\n",
      "                                   | Impurity of the best split: 0.14\n",
      "                                   | Count of observations in node: 215\n",
      "depth=5   leaf node                                               | Count of observations in node: 174\n",
      "                                                                  | Prediction of node: [0.333 0.011 0.   ]\n",
      "                                                                  | Impurity of the node: 40.64\n",
      "Leaf id: 12\n",
      "depth=5   leaf node                                               | Count of observations in node: 41\n",
      "                                                                  | Prediction of node: [0.049 0.024 0.024]\n",
      "                                                                  | Impurity of the node: 3.85\n",
      "Leaf id: 13\n",
      "depth=1   leaf node               | Count of observations in node: 1\n",
      "                                  | Prediction of node: [0. 0. 0.]\n",
      "                                  | Impurity of the node: 0.0\n",
      "Leaf id: 14\n",
      "runtime for all model:1124.6777460575104 seconds\n",
      "for ind print:\n",
      "[0.19373027259684364, 0.13098517455762795, 0.13098517455762795]\n",
      "print for target number: 0\n",
      "Root\n",
      "depth=0| Split rule- x_i to split:19, value to split:1.0\n",
      "   | Impurity of the node: 255.34\n",
      "   | Impurity of the best split: 0.22\n",
      "   | Count of observations in node: 1023\n",
      "depth=1|-------- Split rule- x_i to split:16, value to split:41.494\n",
      "           | Impurity of the node: 255.11\n",
      "           | Impurity of the best split: 0.22\n",
      "           | Count of observations in node: 1022\n",
      "depth=2   leaf node                       | Count of observations in node: 401\n",
      "                                          | Prediction of node: [0.948]\n",
      "                                          | Impurity of the node: 19.9\n",
      "Leaf id: 1\n",
      "depth=2   leaf node                       | Count of observations in node: 621\n",
      "                                          | Prediction of node: [0.179]\n",
      "                                          | Impurity of the node: 91.16\n",
      "Leaf id: 2\n",
      "depth=1   leaf node               | Count of observations in node: 1\n",
      "                                  | Prediction of node: [0.]\n",
      "                                  | Impurity of the node: 0.0\n",
      "Leaf id: 3\n",
      "[0.10967957914873268, 0.04889526542324246, 0.05278813964610235, 0.05768053562888571, 0.05376853180296509, 0.04985652797704447, 0.04888091822094691, 0.04986131037780966, 0.05183165949306552, 0.05279770444763271, 0.049866092778574844, 0.0488857006217121, 0.0488857006217121]\n",
      "print for target number: 1\n",
      "Root\n",
      "depth=0| Split rule- x_i to split:19, value to split:1.0\n",
      "   | Impurity of the node: 236.45\n",
      "   | Impurity of the best split: 0.09\n",
      "   | Count of observations in node: 1023\n",
      "depth=1|-------- Split rule- x_i to split:16, value to split:41.494\n",
      "           | Impurity of the node: 236.32\n",
      "           | Impurity of the best split: 0.09\n",
      "           | Count of observations in node: 1022\n",
      "depth=2|---------------- Split rule- x_i to split:21, value to split:0.5\n",
      "                   | Impurity of the node: 36.01\n",
      "                   | Impurity of the best split: 0.14\n",
      "                   | Count of observations in node: 401\n",
      "depth=3|------------------------ Split rule- x_i to split:22, value to split:0.203\n",
      "                           | Impurity of the node: 29.12\n",
      "                           | Impurity of the best split: 0.34\n",
      "                           | Count of observations in node: 147\n",
      "depth=4|-------------------------------- Split rule- x_i to split:4, value to split:0.5\n",
      "                                   | Impurity of the node: 19.28\n",
      "                                   | Impurity of the best split: 0.29\n",
      "                                   | Count of observations in node: 122\n",
      "depth=5|---------------------------------------- Split rule- x_i to split:7, value to split:0.5\n",
      "                                           | Impurity of the node: 18.63\n",
      "                                           | Impurity of the best split: 0.28\n",
      "                                           | Count of observations in node: 121\n",
      "depth=6|------------------------------------------------ Split rule- x_i to split:18, value to split:1.0\n",
      "                                                   | Impurity of the node: 16.46\n",
      "                                                   | Impurity of the best split: 0.25\n",
      "                                                   | Count of observations in node: 113\n",
      "depth=7   leaf node                                                               | Count of observations in node: 112\n",
      "                                                                                  | Prediction of node: [0.83]\n",
      "                                                                                  | Impurity of the node: 15.78\n",
      "Leaf id: 1\n",
      "depth=7   leaf node                                                               | Count of observations in node: 1\n",
      "                                                                                  | Prediction of node: [0.]\n",
      "                                                                                  | Impurity of the node: 0.0\n",
      "Leaf id: 2\n",
      "depth=6|------------------------------------------------ Split rule- x_i to split:5, value to split:0.5\n",
      "                                                   | Impurity of the node: 1.88\n",
      "                                                   | Impurity of the best split: 0.21\n",
      "                                                   | Count of observations in node: 8\n",
      "depth=7   leaf node                                                               | Count of observations in node: 7\n",
      "                                                                                  | Prediction of node: [0.714]\n",
      "                                                                                  | Impurity of the node: 1.43\n",
      "Leaf id: 3\n",
      "depth=7   leaf node                                                               | Count of observations in node: 1\n",
      "                                                                                  | Prediction of node: [0.]\n",
      "                                                                                  | Impurity of the node: 0.0\n",
      "Leaf id: 4\n",
      "depth=5   leaf node                                               | Count of observations in node: 1\n",
      "                                                                  | Prediction of node: [0.]\n",
      "                                                                  | Impurity of the node: 0.0\n",
      "Leaf id: 5\n",
      "depth=4|-------------------------------- Split rule- x_i to split:5, value to split:1.0\n",
      "                                   | Impurity of the node: 5.76\n",
      "                                   | Impurity of the best split: 0.26\n",
      "                                   | Count of observations in node: 25\n",
      "depth=5|---------------------------------------- Split rule- x_i to split:5, value to split:1.0\n",
      "                                           | Impurity of the node: 5.33\n",
      "                                           | Impurity of the best split: 0.32\n",
      "                                           | Count of observations in node: 24\n",
      "depth=6|------------------------------------------------ Split rule- x_i to split:3, value to split:0.5\n",
      "                                                   | Impurity of the node: 4.87\n",
      "                                                   | Impurity of the best split: 0.23\n",
      "                                                   | Count of observations in node: 23\n",
      "depth=7   leaf node                                                               | Count of observations in node: 13\n",
      "                                                                                  | Prediction of node: [0.462]\n",
      "                                                                                  | Impurity of the node: 3.23\n",
      "Leaf id: 6\n",
      "depth=7   leaf node                                                               | Count of observations in node: 10\n",
      "                                                                                  | Prediction of node: [0.1]\n",
      "                                                                                  | Impurity of the node: 0.9\n",
      "Leaf id: 7\n",
      "depth=6   leaf node                                                       | Count of observations in node: 1\n",
      "                                                                          | Prediction of node: [1.]\n",
      "                                                                          | Impurity of the node: 0.0\n",
      "Leaf id: 8\n",
      "depth=5   leaf node                                               | Count of observations in node: 1\n",
      "                                                                  | Prediction of node: [1.]\n",
      "                                                                  | Impurity of the node: 0.0\n",
      "Leaf id: 9\n",
      "depth=3|------------------------ Split rule- x_i to split:0, value to split:269.5\n",
      "                           | Impurity of the node: 0.0\n",
      "                           | Impurity of the best split: 0.0\n",
      "                           | Count of observations in node: 254\n",
      "depth=4|-------------------------------- Split rule- x_i to split:0, value to split:269.0\n",
      "                                   | Impurity of the node: 0.0\n",
      "                                   | Impurity of the best split: 0.0\n",
      "                                   | Count of observations in node: 2\n",
      "depth=5   leaf node                                               | Count of observations in node: 1\n",
      "                                                                  | Prediction of node: [1.]\n",
      "                                                                  | Impurity of the node: 0.0\n",
      "Leaf id: 10\n",
      "depth=5   leaf node                                               | Count of observations in node: 1\n",
      "                                                                  | Prediction of node: [1.]\n",
      "                                                                  | Impurity of the node: 0.0\n",
      "Leaf id: 11\n",
      "depth=4|-------------------------------- Split rule- x_i to split:0, value to split:270.5\n",
      "                                   | Impurity of the node: 0.0\n",
      "                                   | Impurity of the best split: 0.0\n",
      "                                   | Count of observations in node: 252\n",
      "depth=5   leaf node                                               | Count of observations in node: 1\n",
      "                                                                  | Prediction of node: [1.]\n",
      "                                                                  | Impurity of the node: 0.0\n",
      "Leaf id: 12\n",
      "depth=5|---------------------------------------- Split rule- x_i to split:0, value to split:272.0\n",
      "                                           | Impurity of the node: 0.0\n",
      "                                           | Impurity of the best split: 0.0\n",
      "                                           | Count of observations in node: 251\n",
      "depth=6   leaf node                                                       | Count of observations in node: 1\n",
      "                                                                          | Prediction of node: [1.]\n",
      "                                                                          | Impurity of the node: 0.0\n",
      "Leaf id: 13\n",
      "depth=6|------------------------------------------------ Split rule- x_i to split:0, value to split:275.0\n",
      "                                                   | Impurity of the node: 0.0\n",
      "                                                   | Impurity of the best split: 0.0\n",
      "                                                   | Count of observations in node: 250\n",
      "depth=7   leaf node                                                               | Count of observations in node: 1\n",
      "                                                                                  | Prediction of node: [1.]\n",
      "                                                                                  | Impurity of the node: 0.0\n",
      "Leaf id: 14\n",
      "depth=7   leaf node                                                               | Count of observations in node: 249\n",
      "                                                                                  | Prediction of node: [1.]\n",
      "                                                                                  | Impurity of the node: 0.0\n",
      "Leaf id: 15\n",
      "depth=2|---------------- Split rule- x_i to split:3, value to split:0.5\n",
      "                   | Impurity of the node: 9.84\n",
      "                   | Impurity of the best split: 0.03\n",
      "                   | Count of observations in node: 621\n",
      "depth=3|------------------------ Split rule- x_i to split:0, value to split:299.0\n",
      "                           | Impurity of the node: 0.0\n",
      "                           | Impurity of the best split: 0.0\n",
      "                           | Count of observations in node: 2\n",
      "depth=4   leaf node                                       | Count of observations in node: 1\n",
      "                                                          | Prediction of node: [1.]\n",
      "                                                          | Impurity of the node: 0.0\n",
      "Leaf id: 16\n",
      "depth=4   leaf node                                       | Count of observations in node: 1\n",
      "                                                          | Prediction of node: [1.]\n",
      "                                                          | Impurity of the node: 0.0\n",
      "Leaf id: 17\n",
      "depth=3|------------------------ Split rule- x_i to split:0, value to split:411.5\n",
      "                           | Impurity of the node: 7.9\n",
      "                           | Impurity of the best split: 0.02\n",
      "                           | Count of observations in node: 619\n",
      "depth=4|-------------------------------- Split rule- x_i to split:22, value to split:0.018\n",
      "                                   | Impurity of the node: 6.92\n",
      "                                   | Impurity of the best split: 0.02\n",
      "                                   | Count of observations in node: 618\n",
      "depth=5|---------------------------------------- Split rule- x_i to split:0, value to split:284.5\n",
      "                                           | Impurity of the node: 0.75\n",
      "                                           | Impurity of the best split: 0.0\n",
      "                                           | Count of observations in node: 4\n",
      "depth=6   leaf node                                                       | Count of observations in node: 1\n",
      "                                                                          | Prediction of node: [1.]\n",
      "                                                                          | Impurity of the node: 0.0\n",
      "Leaf id: 18\n",
      "depth=6|------------------------------------------------ Split rule- x_i to split:0, value to split:288.5\n",
      "                                                   | Impurity of the node: 0.0\n",
      "                                                   | Impurity of the best split: 0.0\n",
      "                                                   | Count of observations in node: 3\n",
      "depth=7   leaf node                                                               | Count of observations in node: 1\n",
      "                                                                                  | Prediction of node: [0.]\n",
      "                                                                                  | Impurity of the node: 0.0\n",
      "Leaf id: 19\n",
      "depth=7   leaf node                                                               | Count of observations in node: 2\n",
      "                                                                                  | Prediction of node: [0.]\n",
      "                                                                                  | Impurity of the node: 0.0\n",
      "Leaf id: 20\n",
      "depth=5|---------------------------------------- Split rule- x_i to split:17, value to split:-87.544\n",
      "                                           | Impurity of the node: 5.94\n",
      "                                           | Impurity of the best split: 0.02\n",
      "                                           | Count of observations in node: 614\n",
      "depth=6|------------------------------------------------ Split rule- x_i to split:1, value to split:0.0\n",
      "                                                   | Impurity of the node: 4.96\n",
      "                                                   | Impurity of the best split: 0.02\n",
      "                                                   | Count of observations in node: 605\n",
      "depth=7   leaf node                                                               | Count of observations in node: 604\n",
      "                                                                                  | Prediction of node: [0.008]\n",
      "                                                                                  | Impurity of the node: 4.96\n",
      "Leaf id: 21\n",
      "depth=7   leaf node                                                               | Count of observations in node: 1\n",
      "                                                                                  | Prediction of node: [0.]\n",
      "                                                                                  | Impurity of the node: 0.0\n",
      "Leaf id: 22\n",
      "depth=6|------------------------------------------------ Split rule- x_i to split:1, value to split:0.0\n",
      "                                                   | Impurity of the node: 0.89\n",
      "                                                   | Impurity of the best split: 0.0\n",
      "                                                   | Count of observations in node: 9\n",
      "depth=7   leaf node                                                               | Count of observations in node: 8\n",
      "                                                                                  | Prediction of node: [0.125]\n",
      "                                                                                  | Impurity of the node: 0.88\n",
      "Leaf id: 23\n",
      "depth=7   leaf node                                                               | Count of observations in node: 1\n",
      "                                                                                  | Prediction of node: [0.]\n",
      "                                                                                  | Impurity of the node: 0.0\n",
      "Leaf id: 24\n",
      "depth=4   leaf node                                       | Count of observations in node: 1\n",
      "                                                          | Prediction of node: [1.]\n",
      "                                                          | Impurity of the node: 0.0\n",
      "Leaf id: 25\n",
      "depth=1   leaf node               | Count of observations in node: 1\n",
      "                                  | Prediction of node: [0.]\n",
      "                                  | Impurity of the node: 0.0\n",
      "Leaf id: 26\n",
      "[0.05277857484457197, 0.05277857484457197]\n",
      "print for target number: 2\n",
      "Root\n",
      "depth=0| Split rule- x_i to split:5, value to split:1.0\n",
      "   | Impurity of the node: 52.04\n",
      "   | Impurity of the best split: 0.09\n",
      "   | Count of observations in node: 1023\n",
      "depth=1   leaf node               | Count of observations in node: 1022\n",
      "                                  | Prediction of node: [0.054]\n",
      "                                  | Impurity of the node: 52.04\n",
      "Leaf id: 1\n",
      "depth=1   leaf node               | Count of observations in node: 1\n",
      "                                  | Prediction of node: [0.]\n",
      "                                  | Impurity of the node: 0.0\n",
      "Leaf id: 2\n",
      "runtime for ind model:154.9134759902954 seconds\n",
      "LOO print:\n",
      "[0.11840427227801689, 0.07722780168978159, 0.08016419575960465, 0.08212019767256495, 0.08146979116849992, 0.08179499442053244, 0.08439662043679261, 0.08212019767256495, 0.08212019767256495]\n"
     ]
    },
    {
     "name": "stderr",
     "output_type": "stream",
     "text": [
      "CV progress bar: 7it [6:56:48, 3812.61s/it]"
     ]
    },
    {
     "name": "stdout",
     "output_type": "stream",
     "text": [
      "Root\n",
      "depth=0| Split rule- x_i to split:19, value to split:1.0\n",
      "   | Impurity of the node: 543.84\n",
      "   | Impurity of the best split: 0.13\n",
      "   | Count of observations in node: 1023\n",
      "   |LOO score: 206.1168125277586\n",
      "************************************************************sub tree number 0 ************************************************************\n",
      "Root\n",
      "depth=0| Split rule- x_i to split:16, value to split:41.494\n",
      "   | Impurity of the node: 255.11\n",
      "   | Impurity of the best split: 0.22\n",
      "   | Count of observations in node: 1022\n",
      "   |LOO score: 134.2517607634336\n",
      "depth=1   leaf node               | Count of observations in node: 401\n",
      "                                  | Prediction of node: [0.948]\n",
      "                                  | Impurity of the node: 19.9\n",
      "Leaf id: 1\n",
      "                                  | Loo score: 19.873\n",
      "depth=1   leaf node               | Count of observations in node: 621\n",
      "                                  | Prediction of node: [0.179]\n",
      "                                  | Impurity of the node: 91.16\n",
      "Leaf id: 2\n",
      "                                  | Loo score: 91.231\n",
      "************************************************************sub tree number 1 ************************************************************\n",
      "Root\n",
      "depth=0| Split rule- x_i to split:16, value to split:41.494\n",
      "   | Impurity of the node: 236.32\n",
      "   | Impurity of the best split: 0.09\n",
      "   | Count of observations in node: 1022\n",
      "   |LOO score: 45.88294901320236\n",
      "depth=1   leaf node               | Count of observations in node: 401\n",
      "                                  | Prediction of node: [0.9]\n",
      "                                  | Impurity of the node: 36.01\n",
      "Leaf id: 1\n",
      "                                  | Loo score: 32.086\n",
      "depth=1   leaf node               | Count of observations in node: 621\n",
      "                                  | Prediction of node: [0.016]\n",
      "                                  | Impurity of the node: 9.84\n",
      "Leaf id: 2\n",
      "                                  | Loo score: 9.854\n",
      "************************************************************sub tree number 2 ************************************************************\n",
      "Root\n",
      "depth=0| Split rule- x_i to split:5, value to split:0.5\n",
      "   | Impurity of the node: 52.04\n",
      "   | Impurity of the best split: 0.09\n",
      "   | Count of observations in node: 1022\n",
      "   |LOO score: 49.273109644871326\n",
      "depth=1   leaf node               | Count of observations in node: 956\n",
      "                                  | Prediction of node: [0.033]\n",
      "                                  | Impurity of the node: 30.93\n",
      "Leaf id: 1\n",
      "                                  | Loo score: 29.155\n",
      "depth=1   leaf node               | Count of observations in node: 66\n",
      "                                  | Prediction of node: [0.348]\n",
      "                                  | Impurity of the node: 14.98\n",
      "Leaf id: 2\n",
      "                                  | Loo score: 15.017\n",
      "depth=1   leaf node               | Count of observations in node: 1\n",
      "                                  | Prediction of node: [0. 0. 0.]\n",
      "                                  | Impurity of the node: 0.0\n",
      "Leaf id: 13\n",
      "runtime for LOO model:4158.706469297409 seconds\n",
      "Score for all:0.06140350877192982\n",
      "Score for ind:0.06725146198830409\n",
      "Score for loo model:0.06725146198830409\n",
      "****************************************************************************************************************************************************************\n",
      "for all print:\n",
      "[0.07681332695679897, 0.07681332695679897]\n",
      "Root\n",
      "depth=0| Split rule- x_i to split:19, value to split:1.0\n",
      "   | Impurity of the node: 541.43\n",
      "   | Impurity of the best split: 0.13\n",
      "   | Count of observations in node: 1024\n",
      "depth=1   leaf node               | Count of observations in node: 1023\n",
      "                                  | Prediction of node: [0.479 0.366 0.05 ]\n",
      "                                  | Impurity of the node: 541.02\n",
      "Leaf id: 1\n",
      "depth=1   leaf node               | Count of observations in node: 1\n",
      "                                  | Prediction of node: [1. 0. 0.]\n",
      "                                  | Impurity of the node: 0.0\n",
      "Leaf id: 2\n",
      "runtime for all model:21.105191469192505 seconds\n",
      "for ind print:\n",
      "[0.2703395504543281, 0.12692491630798658, 0.1288761358201817, 0.13570540411286464, 0.13472979435676707, 0.14645624103299856, 0.1484074605451937, 0.14742706838833095, 0.14938785270205643, 0.14842180774748923, 0.15136298421807748, 0.15915829746532761, 0.16111429937828792, 0.16601147776183645, 0.16697752271640365, 0.16893352462936395, 0.17088474414155908, 0.17771879483500716, 0.17772835963653755, 0.18455762792922048, 0.18553323768531804, 0.18846006695361073, 0.19041128646580585, 0.1913916786226686, 0.1913916786226686]\n",
      "print for target number: 0\n",
      "Root\n",
      "depth=0| Split rule- x_i to split:19, value to split:1.0\n",
      "   | Impurity of the node: 255.57\n",
      "   | Impurity of the best split: 0.21\n",
      "   | Count of observations in node: 1024\n",
      "depth=1|-------- Split rule- x_i to split:16, value to split:41.327\n",
      "           | Impurity of the node: 255.3\n",
      "           | Impurity of the best split: 0.21\n",
      "           | Count of observations in node: 1023\n",
      "depth=2   leaf node                       | Count of observations in node: 402\n",
      "                                          | Prediction of node: [0.95]\n",
      "                                          | Impurity of the node: 19.0\n",
      "Leaf id: 1\n",
      "depth=2   leaf node                       | Count of observations in node: 621\n",
      "                                          | Prediction of node: [0.174]\n",
      "                                          | Impurity of the node: 89.22\n",
      "Leaf id: 2\n",
      "depth=1   leaf node               | Count of observations in node: 1\n",
      "                                  | Prediction of node: [1.]\n",
      "                                  | Impurity of the node: 0.0\n",
      "Leaf id: 3\n",
      "[0.05369679579148732, 0.052721186035389764, 0.05174079387852702, 0.056623625059780004, 0.05564801530368244, 0.05956480153036825, 0.06347680535628886, 0.06347680535628886]\n",
      "print for target number: 1\n",
      "Root\n",
      "depth=0| Split rule- x_i to split:16, value to split:41.494\n",
      "   | Impurity of the node: 237.4\n",
      "   | Impurity of the best split: 0.1\n",
      "   | Count of observations in node: 1024\n",
      "depth=1|-------- Split rule- x_i to split:21, value to split:0.5\n",
      "           | Impurity of the node: 38.45\n",
      "           | Impurity of the best split: 0.14\n",
      "           | Count of observations in node: 406\n",
      "depth=2|---------------- Split rule- x_i to split:7, value to split:0.5\n",
      "                   | Impurity of the node: 30.07\n",
      "                   | Impurity of the best split: 0.35\n",
      "                   | Count of observations in node: 143\n",
      "depth=3   leaf node                               | Count of observations in node: 136\n",
      "                                                  | Prediction of node: [0.706]\n",
      "                                                  | Impurity of the node: 28.24\n",
      "Leaf id: 1\n",
      "depth=3   leaf node                               | Count of observations in node: 7\n",
      "                                                  | Prediction of node: [0.571]\n",
      "                                                  | Impurity of the node: 1.71\n",
      "Leaf id: 2\n",
      "depth=2|---------------- Split rule- x_i to split:0, value to split:266.0\n",
      "                   | Impurity of the node: 0.0\n",
      "                   | Impurity of the best split: 0.0\n",
      "                   | Count of observations in node: 263\n",
      "depth=3   leaf node                               | Count of observations in node: 1\n",
      "                                                  | Prediction of node: [1.]\n",
      "                                                  | Impurity of the node: 0.0\n",
      "Leaf id: 3\n",
      "depth=3   leaf node                               | Count of observations in node: 262\n",
      "                                                  | Prediction of node: [1.]\n",
      "                                                  | Impurity of the node: 0.0\n",
      "Leaf id: 4\n",
      "depth=1|-------- Split rule- x_i to split:3, value to split:0.5\n",
      "           | Impurity of the node: 10.8\n",
      "           | Impurity of the best split: 0.03\n",
      "           | Count of observations in node: 618\n",
      "depth=2|---------------- Split rule- x_i to split:0, value to split:299.0\n",
      "                   | Impurity of the node: 0.0\n",
      "                   | Impurity of the best split: 0.0\n",
      "                   | Count of observations in node: 2\n",
      "depth=3   leaf node                               | Count of observations in node: 1\n",
      "                                                  | Prediction of node: [1.]\n",
      "                                                  | Impurity of the node: 0.0\n",
      "Leaf id: 5\n",
      "depth=3   leaf node                               | Count of observations in node: 1\n",
      "                                                  | Prediction of node: [1.]\n",
      "                                                  | Impurity of the node: 0.0\n",
      "Leaf id: 6\n",
      "depth=2|---------------- Split rule- x_i to split:0, value to split:411.5\n",
      "                   | Impurity of the node: 8.87\n",
      "                   | Impurity of the best split: 0.03\n",
      "                   | Count of observations in node: 616\n",
      "depth=3   leaf node                               | Count of observations in node: 615\n",
      "                                                  | Prediction of node: [0.013]\n",
      "                                                  | Impurity of the node: 7.9\n",
      "Leaf id: 7\n",
      "depth=3   leaf node                               | Count of observations in node: 1\n",
      "                                                  | Prediction of node: [1.]\n",
      "                                                  | Impurity of the node: 0.0\n",
      "Leaf id: 8\n",
      "[0.05079387852702057, 0.06153036824485891, 0.05860353897656624, 0.057627929220468666, 0.05274031563845051, 0.054696317551410814, 0.05664753706360594, 0.055671927307508376, 0.055671927307508376]\n",
      "print for target number: 2\n",
      "Root\n",
      "depth=0| Split rule- x_i to split:5, value to split:1.0\n",
      "   | Impurity of the node: 48.46\n",
      "   | Impurity of the best split: 0.08\n",
      "   | Count of observations in node: 1024\n",
      "depth=1   leaf node               | Count of observations in node: 1023\n",
      "                                  | Prediction of node: [0.049]\n",
      "                                  | Impurity of the node: 47.56\n",
      "Leaf id: 1\n",
      "depth=1   leaf node               | Count of observations in node: 1\n",
      "                                  | Prediction of node: [1.]\n",
      "                                  | Impurity of the node: 0.0\n",
      "Leaf id: 2\n",
      "runtime for ind model:535.3369760513306 seconds\n",
      "LOO print:\n",
      "[0.10380519687549816, 0.08006535947712418, 0.08039534512992189, 0.08299697114618206, 0.08234815877570542, 0.08234815877570542]\n"
     ]
    },
    {
     "name": "stderr",
     "output_type": "stream",
     "text": [
      "CV progress bar: 8it [7:49:34, 3606.96s/it]"
     ]
    },
    {
     "name": "stdout",
     "output_type": "stream",
     "text": [
      "Root\n",
      "depth=0| Split rule- x_i to split:19, value to split:1.0\n",
      "   | Impurity of the node: 541.43\n",
      "   | Impurity of the best split: 0.13\n",
      "   | Count of observations in node: 1024\n",
      "   |LOO score: 204.81218924878925\n",
      "************************************************************sub tree number 0 ************************************************************\n",
      "Root\n",
      "depth=0| Split rule- x_i to split:16, value to split:41.327\n",
      "   | Impurity of the node: 255.3\n",
      "   | Impurity of the best split: 0.21\n",
      "   | Count of observations in node: 1023\n",
      "   |LOO score: 128.16100354723207\n",
      "depth=1   leaf node               | Count of observations in node: 402\n",
      "                                  | Prediction of node: [0.95]\n",
      "                                  | Impurity of the node: 19.0\n",
      "Leaf id: 1\n",
      "                                  | Loo score: 18.907\n",
      "depth=1   leaf node               | Count of observations in node: 621\n",
      "                                  | Prediction of node: [0.174]\n",
      "                                  | Impurity of the node: 89.22\n",
      "Leaf id: 2\n",
      "                                  | Loo score: 89.278\n",
      "************************************************************sub tree number 1 ************************************************************\n",
      "Root\n",
      "depth=0| Split rule- x_i to split:16, value to split:41.494\n",
      "   | Impurity of the node: 237.27\n",
      "   | Impurity of the best split: 0.1\n",
      "   | Count of observations in node: 1023\n",
      "   |LOO score: 89.12556739500428\n",
      "depth=1   leaf node               | Count of observations in node: 406\n",
      "                                  | Prediction of node: [0.894]\n",
      "                                  | Impurity of the node: 38.45\n",
      "Leaf id: 1\n",
      "                                  | Loo score: 33.622\n",
      "depth=1   leaf node               | Count of observations in node: 617\n",
      "                                  | Prediction of node: [0.018]\n",
      "                                  | Impurity of the node: 10.8\n",
      "Leaf id: 2\n",
      "                                  | Loo score: 10.839\n",
      "************************************************************sub tree number 2 ************************************************************\n",
      "Root\n",
      "depth=0| Split rule- x_i to split:8, value to split:0.5\n",
      "   | Impurity of the node: 48.46\n",
      "   | Impurity of the best split: 0.08\n",
      "   | Count of observations in node: 1023\n",
      "   |LOO score: 46.91155820465854\n",
      "depth=1   leaf node               | Count of observations in node: 1006\n",
      "                                  | Prediction of node: [0.04]\n",
      "                                  | Impurity of the node: 38.41\n",
      "Leaf id: 1\n",
      "                                  | Loo score: 36.113\n",
      "depth=1   leaf node               | Count of observations in node: 17\n",
      "                                  | Prediction of node: [0.647]\n",
      "                                  | Impurity of the node: 3.88\n",
      "Leaf id: 2\n",
      "                                  | Loo score: 3.745\n",
      "depth=1   leaf node               | Count of observations in node: 1\n",
      "                                  | Prediction of node: [1. 0. 0.]\n",
      "                                  | Impurity of the node: 0.0\n",
      "Leaf id: 13\n",
      "runtime for LOO model:2610.1771924495697 seconds\n",
      "Score for all:0.2831858407079646\n",
      "Score for ind:0.07669616519174041\n",
      "Score for loo model:0.07669616519174041\n",
      "****************************************************************************************************************************************************************\n",
      "for all print:\n",
      "[0.12290451139805517, 0.07552367288378767, 0.07649928263988523, 0.07682608002550614, 0.07943248844253148, 0.08105850470269409, 0.08365853658536584, 0.083012912482066, 0.08626016260162601, 0.08788458472820024, 0.0875593814761677, 0.09081779053084649, 0.09342579308146022, 0.09342738721504862, 0.09473457675753227, 0.09897178383548541, 0.10059939422923643, 0.1015734098517456, 0.10059461182847125, 0.10059620596205962, 0.1018986131037781, 0.10222381635581061, 0.10320261437908496, 0.10417822413518252, 0.10385302088315, 0.10352781763111749, 0.10417822413518252, 0.10483022477283596, 0.10515542802486848, 0.10515542802486848]\n",
      "Root\n",
      "depth=0| Split rule- x_i to split:16, value to split:41.495\n",
      "   | Impurity of the node: 546.04\n",
      "   | Impurity of the best split: 0.13\n",
      "   | Count of observations in node: 1024\n",
      "depth=1|-------- Split rule- x_i to split:21, value to split:0.5\n",
      "           | Impurity of the node: 99.75\n",
      "           | Impurity of the best split: 0.15\n",
      "           | Count of observations in node: 405\n",
      "depth=2   leaf node                       | Count of observations in node: 141\n",
      "                                          | Prediction of node: [0.915 0.738 0.27 ]\n",
      "                                          | Impurity of the node: 66.03\n",
      "Leaf id: 1\n",
      "depth=2   leaf node                       | Count of observations in node: 264\n",
      "                                          | Prediction of node: [0.962 1.    0.053]\n",
      "                                          | Impurity of the node: 22.88\n",
      "Leaf id: 2\n",
      "depth=1|-------- Split rule- x_i to split:3, value to split:0.5\n",
      "           | Impurity of the node: 101.33\n",
      "           | Impurity of the best split: 0.1\n",
      "           | Count of observations in node: 619\n",
      "depth=2   leaf node                       | Count of observations in node: 2\n",
      "                                          | Prediction of node: [1. 1. 1.]\n",
      "                                          | Impurity of the node: 0.0\n",
      "Leaf id: 3\n",
      "depth=2   leaf node                       | Count of observations in node: 617\n",
      "                                          | Prediction of node: [0.17  0.013 0.002]\n",
      "                                          | Impurity of the node: 96.03\n",
      "Leaf id: 4\n",
      "runtime for all model:1541.0038270950317 seconds\n",
      "for ind print:\n",
      "[0.12793878527020563, 0.12793878527020563]\n",
      "print for target number: 0\n",
      "Root\n",
      "depth=0| Split rule- x_i to split:16, value to split:41.327\n",
      "   | Impurity of the node: 255.53\n",
      "   | Impurity of the best split: 0.21\n",
      "   | Count of observations in node: 1024\n",
      "depth=1   leaf node               | Count of observations in node: 401\n",
      "                                  | Prediction of node: [0.95]\n",
      "                                  | Impurity of the node: 19.0\n",
      "Leaf id: 1\n",
      "depth=1   leaf node               | Count of observations in node: 623\n",
      "                                  | Prediction of node: [0.175]\n",
      "                                  | Impurity of the node: 89.93\n",
      "Leaf id: 2\n",
      "[0.11353897656623624, 0.046877092300334766, 0.046877092300334766]\n",
      "print for target number: 1\n",
      "Root\n",
      "depth=0| Split rule- x_i to split:16, value to split:41.495\n",
      "   | Impurity of the node: 238.46\n",
      "   | Impurity of the best split: 0.08\n",
      "   | Count of observations in node: 1024\n",
      "depth=1|-------- Split rule- x_i to split:18, value to split:1.0\n",
      "           | Impurity of the node: 33.62\n",
      "           | Impurity of the best split: 0.13\n",
      "           | Count of observations in node: 405\n",
      "depth=2   leaf node                       | Count of observations in node: 404\n",
      "                                          | Prediction of node: [0.911]\n",
      "                                          | Impurity of the node: 32.79\n",
      "Leaf id: 1\n",
      "depth=2   leaf node                       | Count of observations in node: 1\n",
      "                                          | Prediction of node: [0.]\n",
      "                                          | Impurity of the node: 0.0\n",
      "Leaf id: 2\n",
      "depth=1|-------- Split rule- x_i to split:3, value to split:0.5\n",
      "           | Impurity of the node: 9.84\n",
      "           | Impurity of the best split: 0.03\n",
      "           | Count of observations in node: 619\n",
      "depth=2   leaf node                       | Count of observations in node: 2\n",
      "                                          | Prediction of node: [1.]\n",
      "                                          | Impurity of the node: 0.0\n",
      "Leaf id: 3\n",
      "depth=2   leaf node                       | Count of observations in node: 617\n",
      "                                          | Prediction of node: [0.013]\n",
      "                                          | Impurity of the node: 7.9\n",
      "Leaf id: 4\n",
      "[0.05468197034911526, 0.05468197034911526]\n",
      "print for target number: 2\n",
      "Root\n",
      "depth=0| Split rule- x_i to split:5, value to split:1.0\n",
      "   | Impurity of the node: 52.05\n",
      "   | Impurity of the best split: 0.09\n",
      "   | Count of observations in node: 1024\n",
      "depth=1   leaf node               | Count of observations in node: 1023\n",
      "                                  | Prediction of node: [0.054]\n",
      "                                  | Impurity of the node: 52.04\n",
      "Leaf id: 1\n",
      "depth=1   leaf node               | Count of observations in node: 1\n",
      "                                  | Prediction of node: [0.]\n",
      "                                  | Impurity of the node: 0.0\n",
      "Leaf id: 2\n",
      "runtime for ind model:27.10161542892456 seconds\n",
      "LOO print:\n",
      "[0.09871991072851904, 0.07682448589191773, 0.07747489239598279, 0.0761740793878527, 0.07747489239598279, 0.07780487804878047, 0.07715128327753865, 0.07747648652957118, 0.0778016897816037, 0.0778016897816037]\n"
     ]
    },
    {
     "name": "stderr",
     "output_type": "stream",
     "text": [
      "CV progress bar: 9it [9:23:01, 4232.13s/it]"
     ]
    },
    {
     "name": "stdout",
     "output_type": "stream",
     "text": [
      "Root\n",
      "depth=0| Split rule- x_i to split:19, value to split:0.5\n",
      "   | Impurity of the node: 546.04\n",
      "   | Impurity of the best split: 0.13\n",
      "   | Count of observations in node: 1024\n",
      "   |LOO score: 201.73439729841533\n",
      "************************************************************sub tree number 0 ************************************************************\n",
      "Root\n",
      "depth=0| Split rule- x_i to split:20, value to split:1.0\n",
      "   | Impurity of the node: 20.8\n",
      "   | Impurity of the best split: 0.1\n",
      "   | Count of observations in node: 405\n",
      "   |LOO score: 20.34237383268012\n",
      "depth=1|-------- Split rule- x_i to split:4, value to split:1.0\n",
      "           | Impurity of the node: 20.8\n",
      "           | Impurity of the best split: 0.1\n",
      "           | Count of observations in node: 404\n",
      "           |LOO score: 20.725812576073757\n",
      "depth=2|---------------- Split rule- x_i to split:16, value to split:41.327\n",
      "                   | Impurity of the node: 19.91\n",
      "                   | Impurity of the best split: 0.09\n",
      "                   | Count of observations in node: 403\n",
      "                   |LOO score: 19.771582857439274\n",
      "depth=3   leaf node                               | Count of observations in node: 399\n",
      "                                                  | Prediction of node: [0.952]\n",
      "                                                  | Impurity of the node: 18.1\n",
      "Leaf id: 1\n",
      "                                                  | Loo score: 17.996\n",
      "depth=3   leaf node                               | Count of observations in node: 4\n",
      "                                                  | Prediction of node: [0.5]\n",
      "                                                  | Impurity of the node: 1.0\n",
      "Leaf id: 2\n",
      "                                                  | Loo score: 1.0\n",
      "depth=2   leaf node                       | Count of observations in node: 1\n",
      "                                          | Prediction of node: [0.]\n",
      "                                          | Impurity of the node: 0.0\n",
      "Leaf id: 3\n",
      "depth=1   leaf node               | Count of observations in node: 1\n",
      "                                  | Prediction of node: [1.]\n",
      "                                  | Impurity of the node: 0.0\n",
      "Leaf id: 4\n",
      "************************************************************sub tree number 1 ************************************************************\n",
      "Root\n",
      "depth=0| Split rule- x_i to split:18, value to split:1.0\n",
      "   | Impurity of the node: 33.62\n",
      "   | Impurity of the best split: 0.13\n",
      "   | Count of observations in node: 405\n",
      "   |LOO score: 27.340506401463195\n",
      "depth=1|-------- Split rule- x_i to split:17, value to split:-99.86\n",
      "           | Impurity of the node: 33.61\n",
      "           | Impurity of the best split: 0.13\n",
      "           | Count of observations in node: 404\n",
      "           |LOO score: 27.236488576631366\n",
      "depth=2|---------------- Split rule- x_i to split:6, value to split:0.5\n",
      "                   | Impurity of the node: 21.66\n",
      "                   | Impurity of the best split: 0.37\n",
      "                   | Count of observations in node: 99\n",
      "                   |LOO score: 19.97934661379835\n",
      "depth=3   leaf node                               | Count of observations in node: 96\n",
      "                                                  | Prediction of node: [0.667]\n",
      "                                                  | Impurity of the node: 21.33\n",
      "Leaf id: 1\n",
      "                                                  | Loo score: 20.644\n",
      "depth=3   leaf node                               | Count of observations in node: 3\n",
      "                                                  | Prediction of node: [1.]\n",
      "                                                  | Impurity of the node: 0.0\n",
      "Leaf id: 2\n",
      "depth=2|---------------- Split rule- x_i to split:17, value to split:-72.932\n",
      "                   | Impurity of the node: 4.92\n",
      "                   | Impurity of the best split: 0.03\n",
      "                   | Count of observations in node: 305\n",
      "                   |LOO score: 4.900523415977963\n",
      "depth=3   leaf node                               | Count of observations in node: 281\n",
      "                                                  | Prediction of node: [1.]\n",
      "                                                  | Impurity of the node: 0.0\n",
      "Leaf id: 3\n",
      "depth=3   leaf node                               | Count of observations in node: 24\n",
      "                                                  | Prediction of node: [0.792]\n",
      "                                                  | Impurity of the node: 3.96\n",
      "Leaf id: 4\n",
      "                                                  | Loo score: 4.007\n",
      "depth=1   leaf node               | Count of observations in node: 1\n",
      "                                  | Prediction of node: [1.]\n",
      "                                  | Impurity of the node: 0.0\n",
      "Leaf id: 5\n",
      "************************************************************sub tree number 2 ************************************************************\n",
      "Root\n",
      "depth=0| Split rule- x_i to split:16, value to split:37.785\n",
      "   | Impurity of the node: 45.32\n",
      "   | Impurity of the best split: 0.2\n",
      "   | Count of observations in node: 405\n",
      "   |LOO score: 41.934220649358444\n",
      "depth=1|-------- Split rule- x_i to split:0, value to split:622.0\n",
      "           | Impurity of the node: 14.19\n",
      "           | Impurity of the best split: 0.1\n",
      "           | Count of observations in node: 279\n",
      "           |LOO score: 14.145234676741847\n",
      "depth=2   leaf node                       | Count of observations in node: 278\n",
      "                                          | Prediction of node: [0.05]\n",
      "                                          | Impurity of the node: 13.29\n",
      "Leaf id: 1\n",
      "                                          | Loo score: 13.303\n",
      "depth=2   leaf node                       | Count of observations in node: 1\n",
      "                                          | Prediction of node: [1.]\n",
      "                                          | Impurity of the node: 0.0\n",
      "Leaf id: 2\n",
      "depth=1|-------- Split rule- x_i to split:2, value to split:0.5\n",
      "           | Impurity of the node: 26.13\n",
      "           | Impurity of the best split: 0.37\n",
      "           | Count of observations in node: 126\n",
      "           |LOO score: 25.52292663657916\n",
      "depth=2|---------------- Split rule- x_i to split:17, value to split:-122.276\n",
      "                   | Impurity of the node: 23.76\n",
      "                   | Impurity of the best split: 0.39\n",
      "                   | Count of observations in node: 109\n",
      "                   |LOO score: 23.459214848394765\n",
      "depth=3   leaf node                               | Count of observations in node: 21\n",
      "                                                  | Prediction of node: [0.619]\n",
      "                                                  | Impurity of the node: 4.95\n",
      "Leaf id: 3\n",
      "                                                  | Loo score: 4.656\n",
      "depth=3   leaf node                               | Count of observations in node: 88\n",
      "                                                  | Prediction of node: [0.25]\n",
      "                                                  | Impurity of the node: 16.5\n",
      "Leaf id: 4\n",
      "                                                  | Loo score: 16.072\n",
      "depth=2   leaf node                       | Count of observations in node: 17\n",
      "                                          | Prediction of node: [0.118]\n",
      "                                          | Impurity of the node: 1.76\n",
      "Leaf id: 5\n",
      "                                          | Loo score: 1.878\n",
      "************************************************************sub tree number 0 ************************************************************\n",
      "Root\n",
      "depth=0| Split rule- x_i to split:0, value to split:310.5\n",
      "   | Impurity of the node: 88.5\n",
      "   | Impurity of the best split: 0.28\n",
      "   | Count of observations in node: 619\n",
      "   |LOO score: 88.60176558072843\n",
      "depth=1   leaf node               | Count of observations in node: 394\n",
      "                                  | Prediction of node: [0.124]\n",
      "                                  | Impurity of the node: 42.91\n",
      "Leaf id: 1\n",
      "                                  | Loo score: 43.051\n",
      "depth=1|-------- Split rule- x_i to split:0, value to split:329.5\n",
      "           | Impurity of the node: 43.05\n",
      "           | Impurity of the best split: 0.36\n",
      "           | Count of observations in node: 225\n",
      "           |LOO score: 42.979638354712705\n",
      "depth=2   leaf node                       | Count of observations in node: 181\n",
      "                                          | Prediction of node: [0.309]\n",
      "                                          | Impurity of the node: 38.67\n",
      "Leaf id: 2\n",
      "                                          | Loo score: 38.793\n",
      "depth=2   leaf node                       | Count of observations in node: 44\n",
      "                                          | Prediction of node: [0.045]\n",
      "                                          | Impurity of the node: 1.91\n",
      "Leaf id: 3\n",
      "                                          | Loo score: 2.023\n",
      "************************************************************sub tree number 1 ************************************************************\n",
      "Root\n",
      "depth=0| Split rule- x_i to split:3, value to split:0.5\n",
      "   | Impurity of the node: 9.84\n",
      "   | Impurity of the best split: 0.03\n",
      "   | Count of observations in node: 619\n",
      "   |LOO score: 9.866028086810296\n",
      "depth=1   leaf node               | Count of observations in node: 2\n",
      "                                  | Prediction of node: [1.]\n",
      "                                  | Impurity of the node: 0.0\n",
      "Leaf id: 1\n",
      "depth=1   leaf node               | Count of observations in node: 617\n",
      "                                  | Prediction of node: [0.013]\n",
      "                                  | Impurity of the node: 7.9\n",
      "Leaf id: 2\n",
      "                                  | Loo score: 7.92\n",
      "************************************************************sub tree number 2 ************************************************************\n",
      "Root\n",
      "depth=0| Split rule- x_i to split:3, value to split:0.5\n",
      "   | Impurity of the node: 2.99\n",
      "   | Impurity of the best split: 0.0\n",
      "   | Count of observations in node: 619\n",
      "   |LOO score: 2.984692661301759\n",
      "depth=1   leaf node               | Count of observations in node: 2\n",
      "                                  | Prediction of node: [1.]\n",
      "                                  | Impurity of the node: 0.0\n",
      "Leaf id: 1\n",
      "depth=1   leaf node               | Count of observations in node: 617\n",
      "                                  | Prediction of node: [0.002]\n",
      "                                  | Impurity of the node: 1.0\n",
      "Leaf id: 2\n",
      "                                  | Loo score: 1.0\n",
      "runtime for LOO model:4038.669749736786 seconds\n",
      "Score for all:0.0855457227138643\n",
      "Score for ind:0.0855457227138643\n",
      "Score for loo model:0.09144542772861357\n",
      "****************************************************************************************************************************************************************\n",
      "for all print:\n",
      "[0.07422126574206919, 0.07422126574206919]\n",
      "Root\n",
      "depth=0| Split rule- x_i to split:16, value to split:41.494\n",
      "   | Impurity of the node: 536.9\n",
      "   | Impurity of the best split: 0.13\n",
      "   | Count of observations in node: 1024\n",
      "depth=1   leaf node               | Count of observations in node: 401\n",
      "                                  | Prediction of node: [0.945 0.893 0.12 ]\n",
      "                                  | Impurity of the node: 101.44\n",
      "Leaf id: 1\n",
      "depth=1   leaf node               | Count of observations in node: 623\n",
      "                                  | Prediction of node: [0.164 0.013 0.002]\n",
      "                                  | Impurity of the node: 94.2\n",
      "Leaf id: 2\n",
      "runtime for all model:20.786945104599 seconds\n",
      "for ind print:\n",
      "[0.196207556193209, 0.196207556193209]\n",
      "print for target number: 0\n",
      "Root\n",
      "depth=0| Split rule- x_i to split:16, value to split:41.327\n",
      "   | Impurity of the node: 255.06\n",
      "   | Impurity of the best split: 0.21\n",
      "   | Count of observations in node: 1024\n",
      "depth=1   leaf node               | Count of observations in node: 397\n",
      "                                  | Prediction of node: [0.95]\n",
      "                                  | Impurity of the node: 18.99\n",
      "Leaf id: 1\n",
      "depth=1   leaf node               | Count of observations in node: 627\n",
      "                                  | Prediction of node: [0.166]\n",
      "                                  | Impurity of the node: 86.75\n",
      "Leaf id: 2\n",
      "[0.051755141080822575, 0.051755141080822575]\n",
      "print for target number: 1\n",
      "Root\n",
      "depth=0| Split rule- x_i to split:16, value to split:41.494\n",
      "   | Impurity of the node: 235.18\n",
      "   | Impurity of the best split: 0.09\n",
      "   | Count of observations in node: 1024\n",
      "depth=1   leaf node               | Count of observations in node: 401\n",
      "                                  | Prediction of node: [0.893]\n",
      "                                  | Impurity of the node: 38.39\n",
      "Leaf id: 1\n",
      "depth=1   leaf node               | Count of observations in node: 623\n",
      "                                  | Prediction of node: [0.013]\n",
      "                                  | Impurity of the node: 7.9\n",
      "Leaf id: 2\n",
      "[0.04787183165949306, 0.04884744141559062, 0.04787661406025825, 0.04591582974653276, 0.04982783357245337, 0.04982305117168819, 0.04982305117168819]\n",
      "print for target number: 2\n",
      "Root\n",
      "depth=0| Split rule- x_i to split:5, value to split:1.0\n",
      "   | Impurity of the node: 46.66\n",
      "   | Impurity of the best split: 0.08\n",
      "   | Count of observations in node: 1024\n",
      "depth=1|-------- Split rule- x_i to split:17, value to split:-122.24\n",
      "           | Impurity of the node: 46.65\n",
      "           | Impurity of the best split: 0.08\n",
      "           | Count of observations in node: 1023\n",
      "depth=2|---------------- Split rule- x_i to split:0, value to split:513.5\n",
      "                   | Impurity of the node: 16.32\n",
      "                   | Impurity of the best split: 0.39\n",
      "                   | Count of observations in node: 72\n",
      "depth=3|------------------------ Split rule- x_i to split:8, value to split:1.0\n",
      "                           | Impurity of the node: 11.66\n",
      "                           | Impurity of the best split: 0.32\n",
      "                           | Count of observations in node: 59\n",
      "depth=4   leaf node                                       | Count of observations in node: 58\n",
      "                                                          | Prediction of node: [0.259]\n",
      "                                                          | Impurity of the node: 11.12\n",
      "Leaf id: 1\n",
      "depth=4   leaf node                                       | Count of observations in node: 1\n",
      "                                                          | Prediction of node: [1.]\n",
      "                                                          | Impurity of the node: 0.0\n",
      "Leaf id: 2\n",
      "depth=3|------------------------ Split rule- x_i to split:3, value to split:1.0\n",
      "                           | Impurity of the node: 2.77\n",
      "                           | Impurity of the best split: 0.25\n",
      "                           | Count of observations in node: 13\n",
      "depth=4   leaf node                                       | Count of observations in node: 12\n",
      "                                                          | Prediction of node: [0.75]\n",
      "                                                          | Impurity of the node: 2.25\n",
      "Leaf id: 3\n",
      "depth=4   leaf node                                       | Count of observations in node: 1\n",
      "                                                          | Prediction of node: [0.]\n",
      "                                                          | Impurity of the node: 0.0\n",
      "Leaf id: 4\n",
      "depth=2|---------------- Split rule- x_i to split:17, value to split:-72.958\n",
      "                   | Impurity of the node: 23.39\n",
      "                   | Impurity of the best split: 0.04\n",
      "                   | Count of observations in node: 951\n",
      "depth=3|------------------------ Split rule- x_i to split:5, value to split:1.0\n",
      "                           | Impurity of the node: 11.84\n",
      "                           | Impurity of the best split: 0.02\n",
      "                           | Count of observations in node: 916\n",
      "depth=4   leaf node                                       | Count of observations in node: 915\n",
      "                                                          | Prediction of node: [0.012]\n",
      "                                                          | Impurity of the node: 10.87\n",
      "Leaf id: 5\n",
      "depth=4   leaf node                                       | Count of observations in node: 1\n",
      "                                                          | Prediction of node: [1.]\n",
      "                                                          | Impurity of the node: 0.0\n",
      "Leaf id: 6\n",
      "depth=3|------------------------ Split rule- x_i to split:0, value to split:460.5\n",
      "                           | Impurity of the node: 7.89\n",
      "                           | Impurity of the best split: 0.32\n",
      "                           | Count of observations in node: 35\n",
      "depth=4   leaf node                                       | Count of observations in node: 28\n",
      "                                                          | Prediction of node: [0.214]\n",
      "                                                          | Impurity of the node: 4.71\n",
      "Leaf id: 7\n",
      "depth=4   leaf node                                       | Count of observations in node: 7\n",
      "                                                          | Prediction of node: [0.857]\n",
      "                                                          | Impurity of the node: 0.86\n",
      "Leaf id: 8\n",
      "depth=1   leaf node               | Count of observations in node: 1\n",
      "                                  | Prediction of node: [0.]\n",
      "                                  | Impurity of the node: 0.0\n",
      "Leaf id: 9\n",
      "runtime for ind model:62.14627385139465 seconds\n",
      "LOO print:\n",
      "[0.09796110314044316, 0.0982863063924757, 0.09861310377809661, 0.07389446835644828, 0.07584887613582017, 0.07584887613582018]\n"
     ]
    },
    {
     "name": "stderr",
     "output_type": "stream",
     "text": [
      "CV progress bar: 10it [10:04:25, 3626.56s/it]"
     ]
    },
    {
     "name": "stdout",
     "output_type": "stream",
     "text": [
      "************************************************************sub tree number 0 ************************************************************\n",
      "Root\n",
      "depth=0| Split rule- x_i to split:16, value to split:41.327\n",
      "   | Impurity of the node: 255.06\n",
      "   | Impurity of the best split: 0.21\n",
      "   | Count of observations in node: 1024\n",
      "   |LOO score: 106.71362697908823\n",
      "depth=1|-------- Split rule- x_i to split:13, value to split:1.0\n",
      "           | Impurity of the node: 18.99\n",
      "           | Impurity of the best split: 0.09\n",
      "           | Count of observations in node: 397\n",
      "           |LOO score: 18.857415140975004\n",
      "depth=2|---------------- Split rule- x_i to split:20, value to split:0.5\n",
      "                   | Impurity of the node: 18.09\n",
      "                   | Impurity of the best split: 0.08\n",
      "                   | Count of observations in node: 396\n",
      "                   |LOO score: 18.086834497255783\n",
      "depth=3|------------------------ Split rule- x_i to split:8, value to split:0.5\n",
      "                           | Impurity of the node: 16.19\n",
      "                           | Impurity of the best split: 0.08\n",
      "                           | Count of observations in node: 359\n",
      "                           |LOO score: 15.739295740217573\n",
      "depth=4   leaf node                                       | Count of observations in node: 347\n",
      "                                                          | Prediction of node: [0.951]\n",
      "                                                          | Impurity of the node: 16.17\n",
      "Leaf id: 1\n",
      "                                                          | Loo score: 15.702\n",
      "depth=4   leaf node                                       | Count of observations in node: 12\n",
      "                                                          | Prediction of node: [1.]\n",
      "                                                          | Impurity of the node: 0.0\n",
      "Leaf id: 2\n",
      "depth=3|------------------------ Split rule- x_i to split:3, value to split:1.0\n",
      "                           | Impurity of the node: 1.89\n",
      "                           | Impurity of the best split: 0.05\n",
      "                           | Count of observations in node: 37\n",
      "                           |LOO score: 1.6963265306122453\n",
      "depth=4   leaf node                                       | Count of observations in node: 36\n",
      "                                                          | Prediction of node: [0.944]\n",
      "                                                          | Impurity of the node: 1.89\n",
      "Leaf id: 3\n",
      "                                                          | Loo score: 1.875\n",
      "depth=4   leaf node                                       | Count of observations in node: 1\n",
      "                                                          | Prediction of node: [1.]\n",
      "                                                          | Impurity of the node: 0.0\n",
      "Leaf id: 4\n",
      "depth=2   leaf node                       | Count of observations in node: 1\n",
      "                                          | Prediction of node: [0.]\n",
      "                                          | Impurity of the node: 0.0\n",
      "Leaf id: 5\n",
      "depth=1   leaf node               | Count of observations in node: 627\n",
      "                                  | Prediction of node: [0.166]\n",
      "                                  | Impurity of the node: 86.75\n",
      "Leaf id: 6\n",
      "                                  | Loo score: 86.855\n",
      "************************************************************sub tree number 1 ************************************************************\n",
      "Root\n",
      "depth=0| Split rule- x_i to split:16, value to split:41.494\n",
      "   | Impurity of the node: 235.18\n",
      "   | Impurity of the best split: 0.09\n",
      "   | Count of observations in node: 1024\n",
      "   |LOO score: 46.3782810121879\n",
      "depth=1|-------- Split rule- x_i to split:21, value to split:0.5\n",
      "           | Impurity of the node: 38.39\n",
      "           | Impurity of the best split: 0.15\n",
      "           | Count of observations in node: 401\n",
      "           |LOO score: 33.431275338282425\n",
      "depth=2|---------------- Split rule- x_i to split:22, value to split:0.204\n",
      "                   | Impurity of the node: 30.75\n",
      "                   | Impurity of the best split: 0.36\n",
      "                   | Count of observations in node: 151\n",
      "                   |LOO score: 29.57807847977194\n",
      "depth=3   leaf node                               | Count of observations in node: 126\n",
      "                                                  | Prediction of node: [0.786]\n",
      "                                                  | Impurity of the node: 21.21\n",
      "Leaf id: 1\n",
      "                                                  | Loo score: 21.271\n",
      "depth=3   leaf node                               | Count of observations in node: 25\n",
      "                                                  | Prediction of node: [0.36]\n",
      "                                                  | Impurity of the node: 5.76\n",
      "Leaf id: 2\n",
      "                                                  | Loo score: 5.808\n",
      "depth=2   leaf node                       | Count of observations in node: 250\n",
      "                                          | Prediction of node: [1.]\n",
      "                                          | Impurity of the node: 0.0\n",
      "Leaf id: 3\n",
      "depth=1   leaf node               | Count of observations in node: 623\n",
      "                                  | Prediction of node: [0.013]\n",
      "                                  | Impurity of the node: 7.9\n",
      "Leaf id: 4\n",
      "                                  | Loo score: 7.918\n",
      "************************************************************sub tree number 2 ************************************************************\n",
      "Root\n",
      "depth=0| Split rule- x_i to split:5, value to split:1.0\n",
      "   | Impurity of the node: 46.66\n",
      "   | Impurity of the best split: 0.08\n",
      "   | Count of observations in node: 1024\n",
      "   |LOO score: 43.00973930500041\n",
      "depth=1|-------- Split rule- x_i to split:17, value to split:-122.24\n",
      "           | Impurity of the node: 46.65\n",
      "           | Impurity of the best split: 0.08\n",
      "           | Count of observations in node: 1023\n",
      "           |LOO score: 42.81280391402953\n",
      "depth=2|---------------- Split rule- x_i to split:0, value to split:513.5\n",
      "                   | Impurity of the node: 16.32\n",
      "                   | Impurity of the best split: 0.39\n",
      "                   | Count of observations in node: 72\n",
      "                   |LOO score: 16.239833410280088\n",
      "depth=3|------------------------ Split rule- x_i to split:8, value to split:1.0\n",
      "                           | Impurity of the node: 11.66\n",
      "                           | Impurity of the best split: 0.32\n",
      "                           | Count of observations in node: 59\n",
      "                           |LOO score: 10.69269841269841\n",
      "depth=4   leaf node                                       | Count of observations in node: 58\n",
      "                                                          | Prediction of node: [0.259]\n",
      "                                                          | Impurity of the node: 11.12\n",
      "Leaf id: 1\n",
      "                                                          | Loo score: 10.253\n",
      "depth=4   leaf node                                       | Count of observations in node: 1\n",
      "                                                          | Prediction of node: [1.]\n",
      "                                                          | Impurity of the node: 0.0\n",
      "Leaf id: 2\n",
      "depth=3|------------------------ Split rule- x_i to split:3, value to split:1.0\n",
      "                           | Impurity of the node: 2.77\n",
      "                           | Impurity of the best split: 0.25\n",
      "                           | Count of observations in node: 13\n",
      "                           |LOO score: 2.74\n",
      "depth=4   leaf node                                       | Count of observations in node: 12\n",
      "                                                          | Prediction of node: [0.75]\n",
      "                                                          | Impurity of the node: 2.25\n",
      "Leaf id: 3\n",
      "                                                          | Loo score: 2.424\n",
      "depth=4   leaf node                                       | Count of observations in node: 1\n",
      "                                                          | Prediction of node: [0.]\n",
      "                                                          | Impurity of the node: 0.0\n",
      "Leaf id: 4\n",
      "depth=2|---------------- Split rule- x_i to split:17, value to split:-72.958\n",
      "                   | Impurity of the node: 23.39\n",
      "                   | Impurity of the best split: 0.04\n",
      "                   | Count of observations in node: 951\n",
      "                   |LOO score: 22.612779647897966\n",
      "depth=3|------------------------ Split rule- x_i to split:5, value to split:1.0\n",
      "                           | Impurity of the node: 11.84\n",
      "                           | Impurity of the best split: 0.02\n",
      "                           | Count of observations in node: 916\n",
      "                           |LOO score: 11.628665787243008\n",
      "depth=4   leaf node                                       | Count of observations in node: 915\n",
      "                                                          | Prediction of node: [0.012]\n",
      "                                                          | Impurity of the node: 10.87\n",
      "Leaf id: 5\n",
      "                                                          | Loo score: 10.733\n",
      "depth=4   leaf node                                       | Count of observations in node: 1\n",
      "                                                          | Prediction of node: [1.]\n",
      "                                                          | Impurity of the node: 0.0\n",
      "Leaf id: 6\n",
      "depth=3|------------------------ Split rule- x_i to split:0, value to split:460.5\n",
      "                           | Impurity of the node: 7.89\n",
      "                           | Impurity of the best split: 0.32\n",
      "                           | Count of observations in node: 35\n",
      "                           |LOO score: 6.329428067523306\n",
      "depth=4   leaf node                                       | Count of observations in node: 28\n",
      "                                                          | Prediction of node: [0.214]\n",
      "                                                          | Impurity of the node: 4.71\n",
      "Leaf id: 7\n",
      "                                                          | Loo score: 3.997\n",
      "depth=4   leaf node                                       | Count of observations in node: 7\n",
      "                                                          | Prediction of node: [0.857]\n",
      "                                                          | Impurity of the node: 0.86\n",
      "Leaf id: 8\n",
      "                                                          | Loo score: 1.0\n",
      "depth=1   leaf node               | Count of observations in node: 1\n",
      "                                  | Prediction of node: [0.]\n",
      "                                  | Impurity of the node: 0.0\n",
      "Leaf id: 9\n",
      "runtime for LOO model:2400.963527202606 seconds\n",
      "Score for all:0.10619469026548672\n",
      "Score for ind:0.10914454277286136\n",
      "Score for loo model:0.10619469026548672\n",
      "****************************************************************************************************************************************************************\n",
      "MSE for all model:   0.11913005226931635\n",
      "MSE for ind model:   0.09819127464679397\n",
      "MSE LOO model:       0.09790146457589402\n",
      "Total runtime: 604.4262348135312 minutes\n",
      "Total runtime: 604.4262437780698 minutes\n"
     ]
    },
    {
     "name": "stderr",
     "output_type": "stream",
     "text": [
      "\n"
     ]
    }
   ],
   "source": [
    "start = time.time()\n",
    "mse_all, mse_ind, mse_loo, mse_choose = mse_comparison.mse_comparison(path=None,df=df_classification_new,\n",
    "                                                                      n_features=23,max_depth=np.inf,\n",
    "                              use_pruning_for_loo=True,\n",
    "                              use_pruning_2_models=True, n_splits=10,regression=False,\n",
    "                                  random_state=42)\n",
    "print(f'Total runtime: {(time.time()-start)/60} minutes')"
   ]
  },
  {
   "cell_type": "code",
   "execution_count": 14,
   "id": "2749a507",
   "metadata": {},
   "outputs": [
    {
     "name": "stdout",
     "output_type": "stream",
     "text": [
      "for all stdev 0.08715615273184008\n",
      "for ind stdev 0.06518705274974868\n",
      "for loo stdev 0.06611533245653906\n"
     ]
    }
   ],
   "source": [
    "import statistics\n",
    "print(f'for all stdev {statistics.stdev(mse_all)}')\n",
    "print(f'for ind stdev {statistics.stdev(mse_ind)}')\n",
    "print(f'for loo stdev {statistics.stdev(mse_loo)}')"
   ]
  },
  {
   "cell_type": "code",
   "execution_count": 15,
   "id": "09acc4f0",
   "metadata": {},
   "outputs": [
    {
     "name": "stdout",
     "output_type": "stream",
     "text": [
      "Cell execution time: 2023-03-28 22:38:10.040100\n",
      "cc\n"
     ]
    },
    {
     "name": "stderr",
     "output_type": "stream",
     "text": [
      "CV progress bar: 0it [00:00, ?it/s]"
     ]
    },
    {
     "name": "stdout",
     "output_type": "stream",
     "text": [
      "starting choose one model\n"
     ]
    },
    {
     "name": "stderr",
     "output_type": "stream",
     "text": [
      "\n",
      "Choose one progress bar: 0it [00:00, ?it/s]\u001b[A"
     ]
    },
    {
     "name": "stdout",
     "output_type": "stream",
     "text": [
      "Starting all\n",
      "[0.0786231884057971, 0.0786231884057971]\n",
      "runtime for all model:18.712144374847412 seconds\n",
      "Finish all\n",
      "Starting ind\n",
      "[0.1358695652173913, 0.1358695652173913]\n",
      "[0.05217391304347826, 0.05217391304347826]\n",
      "[0.05326086956521738, 0.056521739130434775, 0.06304347826086956, 0.06413043478260869, 0.06413043478260869]\n"
     ]
    },
    {
     "name": "stderr",
     "output_type": "stream",
     "text": [
      "\n",
      "Choose one progress bar: 1it [00:55, 55.77s/it]\u001b[A"
     ]
    },
    {
     "name": "stdout",
     "output_type": "stream",
     "text": [
      "runtime for ind model:37.0518364906311 seconds\n",
      "Finish ind\n",
      "Starting all\n",
      "[0.0789855072463768, 0.0789855072463768]\n",
      "runtime for all model:18.9064040184021 seconds\n",
      "Finish all\n",
      "Starting ind\n",
      "[0.20760869565217394, 0.1358695652173913, 0.14782608695652175, 0.14565217391304347, 0.1467391304347826, 0.14021739130434782, 0.14782608695652175, 0.1576086956521739, 0.15217391304347827, 0.15543478260869564, 0.16630434782608694, 0.16956521739130434, 0.16956521739130434]\n",
      "[0.05217391304347826, 0.05217391304347826]\n",
      "[0.053260869565217396, 0.05217391304347826, 0.057608695652173914, 0.05543478260869565, 0.056521739130434775, 0.05869565217391304, 0.0608695652173913, 0.06413043478260869, 0.06304347826086956, 0.06413043478260869, 0.06739130434782609, 0.06739130434782609]\n"
     ]
    },
    {
     "name": "stderr",
     "output_type": "stream",
     "text": [
      "\n",
      "Choose one progress bar: 2it [05:05, 170.12s/it]\u001b[A"
     ]
    },
    {
     "name": "stdout",
     "output_type": "stream",
     "text": [
      "runtime for ind model:231.25021958351135 seconds\n",
      "Finish ind\n",
      "Starting all\n",
      "[0.07681159420289854, 0.07681159420289854]\n",
      "runtime for all model:18.682263374328613 seconds\n",
      "Finish all\n",
      "Starting ind\n",
      "[0.19130434782608696, 0.1282608695652174, 0.1282608695652174]\n",
      "[0.04891304347826087, 0.04891304347826087]\n",
      "[0.056521739130434775, 0.056521739130434775]\n"
     ]
    },
    {
     "name": "stderr",
     "output_type": "stream",
     "text": [
      "\n",
      "Choose one progress bar: 3it [05:49, 112.12s/it]\u001b[A"
     ]
    },
    {
     "name": "stdout",
     "output_type": "stream",
     "text": [
      "runtime for ind model:24.40870690345764 seconds\n",
      "Finish ind\n",
      "Starting all\n",
      "[0.08036036036036036, 0.08036036036036036]\n",
      "runtime for all model:18.6790132522583 seconds\n",
      "Finish all\n",
      "Starting ind\n",
      "[0.13680963572267918, 0.1411574618096357, 0.1357285546415981, 0.13356639247943597, 0.14334900117508814, 0.15638660399529963, 0.15529964747356054, 0.16071680376028202, 0.1628672150411281, 0.16723266745005877, 0.17158049353701527, 0.17484723854289075, 0.17266745005875445, 0.17809048178613396, 0.18026439482961223, 0.18027027027027026, 0.178096357226792, 0.18027027027027026, 0.18025851938895418, 0.18351351351351353, 0.1824265569917744, 0.1824265569917744]\n",
      "[0.05755581668625147, 0.05755581668625147]\n",
      "[0.04888954171562867, 0.04888954171562867]\n"
     ]
    },
    {
     "name": "stderr",
     "output_type": "stream",
     "text": [
      "\n",
      "Choose one progress bar: 4it [11:11, 195.08s/it]\u001b[A"
     ]
    },
    {
     "name": "stdout",
     "output_type": "stream",
     "text": [
      "runtime for ind model:303.57008624076843 seconds\n",
      "Finish ind\n",
      "Starting all\n",
      "[0.08142185663924795, 0.08250881316098707, 0.0817822169996083, 0.08467293380336859, 0.0886427732079906, 0.08792009400705053, 0.09227379553466511, 0.09553466509988248, 0.09697218958088523, 0.09733059146102625, 0.09914022718370544, 0.09914022718370544]\n",
      "runtime for all model:295.4397876262665 seconds\n",
      "Finish all\n",
      "Starting ind\n",
      "[0.3765628672150411, 0.2178672150411281, 0.13571092831962397, 0.13462397179788485, 0.14114571092831965, 0.1476321974148061, 0.15848413631022326, 0.1660810810810811, 0.1649882491186839, 0.17148648648648648, 0.17041128084606344, 0.1714982373678026, 0.17475323149236194, 0.18236192714453586, 0.18779083431257343, 0.19105757931844888, 0.1888836662749706, 0.18997062279670976, 0.18887779083431258, 0.19213866039952995, 0.20189776733254994, 0.20189776733254994]\n",
      "[0.05753819036427732, 0.05862514688601646, 0.0618801410105758, 0.06077555816686251, 0.06512338425381903, 0.06187426556991774, 0.07165687426556991, 0.0673090481786134, 0.07381316098707404, 0.07273795534665099, 0.07165687426556991, 0.07382491186839013, 0.07273795534665099, 0.07817273795534666, 0.07817273795534666]\n",
      "[0.056451233842538195, 0.053202115158636896, 0.05537602820211516, 0.05646298472385429, 0.05428907168037602, 0.057549941245593414, 0.05537602820211516, 0.05646298472385429, 0.05646298472385429]\n"
     ]
    },
    {
     "name": "stderr",
     "output_type": "stream",
     "text": [
      "\n",
      "Choose one progress bar: 5it [24:39, 416.28s/it]\u001b[A"
     ]
    },
    {
     "name": "stdout",
     "output_type": "stream",
     "text": [
      "runtime for ind model:513.0603311061859 seconds\n",
      "Finish ind\n",
      "Starting all\n",
      "[0.1192518605562084, 0.07889150019584802, 0.07925381903642774, 0.07781041911476697, 0.08034469251860557, 0.0821484528006267, 0.08324128476302389, 0.08469056012534273, 0.08360164512338426, 0.08360164512338426]\n",
      "runtime for all model:220.60257148742676 seconds\n",
      "Finish all\n",
      "Starting ind\n",
      "[0.13136310223266742, 0.13136310223266742]\n",
      "[0.10724441833137485, 0.05427144535840188, 0.05753231492361928, 0.055358401880141, 0.05428319623971798, 0.056451233842538195, 0.05536427732079906, 0.05644535840188014, 0.05535840188014102, 0.058619271445358404, 0.0531903642773208, 0.058613396004700356, 0.05969447708578144, 0.05969447708578144]\n",
      "[0.05212690951821386, 0.058648648648648646, 0.05212103407755582, 0.058642773207990606, 0.05756756756756757, 0.05863689776733255, 0.059735605170387784, 0.06081668625146887, 0.06081668625146887]\n"
     ]
    },
    {
     "name": "stderr",
     "output_type": "stream",
     "text": [
      "\n",
      "Choose one progress bar: 6it [31:50, 421.15s/it]\u001b[A"
     ]
    },
    {
     "name": "stdout",
     "output_type": "stream",
     "text": [
      "runtime for ind model:210.00460720062256 seconds\n",
      "Finish ind\n",
      "Starting all\n",
      "[0.0814316490403447, 0.0814316490403447]\n",
      "runtime for all model:18.646075010299683 seconds\n",
      "Finish all\n",
      "Starting ind\n",
      "[0.1335487661574618, 0.1335487661574618]\n",
      "[0.05753231492361928, 0.05753231492361928]\n",
      "[0.053213866039953, 0.054294947121034075, 0.05212103407755582, 0.05646298472385429, 0.05971210340775558, 0.059717978848413636, 0.056457109283196236, 0.059706227967097535, 0.05971210340775558, 0.06514688601645123, 0.06623384253819035, 0.06732079905992949, 0.06732079905992949]\n"
     ]
    },
    {
     "name": "stderr",
     "output_type": "stream",
     "text": [
      "\n",
      "Choose one progress bar: 7it [34:23, 333.46s/it]\u001b[A"
     ]
    },
    {
     "name": "stdout",
     "output_type": "stream",
     "text": [
      "runtime for ind model:134.24943494796753 seconds\n",
      "Finish ind\n",
      "Starting all\n",
      "[0.07781041911476694, 0.07781041911476694]\n",
      "runtime for all model:18.641356468200684 seconds\n",
      "Finish all\n",
      "Starting ind\n",
      "[0.13571092831962397, 0.13571092831962397]\n",
      "[0.04776733254994124, 0.04776733254994124]\n",
      "[0.051039952996474736, 0.052126909518213874, 0.0499412455934195, 0.053202115158636896, 0.05428319623971798, 0.05428319623971798]\n"
     ]
    },
    {
     "name": "stderr",
     "output_type": "stream",
     "text": [
      "\n",
      "Choose one progress bar: 8it [35:27, 247.76s/it]\u001b[A"
     ]
    },
    {
     "name": "stdout",
     "output_type": "stream",
     "text": [
      "runtime for ind model:45.612061977386475 seconds\n",
      "Finish ind\n",
      "Starting all\n",
      "[0.12467097532314923, 0.07926556991774383, 0.0814394829612221, 0.08035252643948296, 0.08396788092440266, 0.0857794751273012, 0.08758323540932236, 0.08867215041128085, 0.09156874265569918, 0.08867019193106149, 0.09664316490403448, 0.09954171562867216, 0.10280258519388955, 0.10244026635330983, 0.10316098707403054, 0.10425186055620839, 0.10352918135526831, 0.10388758323540932, 0.10533294163728946, 0.10605757931844888, 0.10930865648256953, 0.10858597728162944, 0.10894829612220916, 0.10822561692126909, 0.10822561692126909]\n",
      "runtime for all model:1004.3921301364899 seconds\n",
      "Finish all\n",
      "Starting ind\n",
      "[0.20601645123384255, 0.132502937720329, 0.132502937720329]\n",
      "[0.11371915393654523, 0.05101645123384254, 0.05536427732079906, 0.052103407755581664, 0.05210928319623972, 0.049935370152761456, 0.05102232667450059, 0.05102232667450059]\n",
      "[0.05753819036427732, 0.058625146886016444, 0.06405992949471209, 0.05862514688601646, 0.058619271445358404, 0.057532314923619265, 0.05753231492361928]\n"
     ]
    },
    {
     "name": "stderr",
     "output_type": "stream",
     "text": [
      "\n",
      "Choose one progress bar: 9it [53:59, 518.02s/it]\u001b[A"
     ]
    },
    {
     "name": "stdout",
     "output_type": "stream",
     "text": [
      "runtime for ind model:107.87154173851013 seconds\n",
      "Finish ind\n",
      "Starting all\n",
      "[0.07997062279670974, 0.07997062279670974]\n",
      "runtime for all model:18.58375906944275 seconds\n",
      "Finish all\n",
      "Starting ind\n",
      "[0.20961809635722678, 0.13027027027027024, 0.1313572267920094, 0.12918331374853112, 0.13353113983548764, 0.13570505287896592, 0.13787309048178614, 0.14874265569917744, 0.1585252643948296, 0.15961222091656874, 0.16286721504112806, 0.1693654524089307, 0.17480023501762634, 0.17697414806110456, 0.1780611045828437, 0.1748061104582844, 0.1769741480611046, 0.18023501762632202, 0.18567567567567567, 0.18783783783783786, 0.1932843713278496, 0.19002350176263222, 0.19111045828437132, 0.1900235017626322, 0.18894242068155112, 0.1922032902467685, 0.1922032902467685]\n",
      "[0.05646886016451234, 0.05646886016451234]\n",
      "[0.05317273795534665, 0.055334900117508815, 0.05532902467685077, 0.05641010575793184, 0.05641010575793184]\n"
     ]
    },
    {
     "name": "stderr",
     "output_type": "stream",
     "text": [
      "\n",
      "Choose one progress bar: 10it [1:01:37, 369.74s/it]\u001b[A"
     ]
    },
    {
     "name": "stdout",
     "output_type": "stream",
     "text": [
      "runtime for ind model:438.9814016819 seconds\n",
      "Finish ind\n",
      "MSE all: 0.804556126657783\n",
      "MSE ind: 0\n",
      "for ind was chosen\n"
     ]
    },
    {
     "name": "stderr",
     "output_type": "stream",
     "text": [
      "\n"
     ]
    },
    {
     "name": "stdout",
     "output_type": "stream",
     "text": [
      "[0.21095169775227163, 0.13387852702056433, 0.13387852702056433]\n",
      "[0.054720229555236734, 0.05668101386896222, 0.05864179818268771, 0.052792922046867544, 0.05962697274031563, 0.05670014347202294, 0.05865136298421807, 0.06060258249641319, 0.06158297465327596, 0.064519368723099, 0.06549497847919657, 0.07038259206121474, 0.0713582018173123, 0.07038259206121474, 0.06842180774748925, 0.07330942132950741, 0.07526542324246771, 0.07721664275466283, 0.07721664275466283]\n",
      "[0.05277857484457198, 0.05375896700143472, 0.052783357245337156, 0.05865136298421807, 0.05670014347202296, 0.05864658058345289, 0.06255858440937351, 0.06548541367766618, 0.06353419416547107, 0.06353419416547107]\n"
     ]
    },
    {
     "name": "stderr",
     "output_type": "stream",
     "text": [
      "CV progress bar: 1it [1:07:36, 4056.08s/it]"
     ]
    },
    {
     "name": "stdout",
     "output_type": "stream",
     "text": [
      "runtime for ind model:358.69120955467224 seconds\n",
      "runtime for choose one model:4056.080812692642 seconds\n",
      "starting choose one model\n"
     ]
    },
    {
     "name": "stderr",
     "output_type": "stream",
     "text": [
      "\n",
      "Choose one progress bar: 0it [00:00, ?it/s]\u001b[A"
     ]
    },
    {
     "name": "stdout",
     "output_type": "stream",
     "text": [
      "Starting all\n",
      "[0.0789855072463768, 0.07826086956521738, 0.08115942028985507, 0.08188405797101449, 0.0822463768115942, 0.08514492753623187, 0.08659420289855072, 0.08659420289855072]\n",
      "runtime for all model:149.85710787773132 seconds\n",
      "Finish all\n",
      "Starting ind\n",
      "[0.19891304347826083, 0.13152173913043477, 0.13369565217391305, 0.13478260869565215, 0.14239130434782607, 0.13695652173913045, 0.14021739130434785, 0.1489130434782609, 0.14891304347826087]\n",
      "[0.05108695652173913, 0.05, 0.048913043478260865, 0.04565217391304348, 0.04782608695652174, 0.048913043478260865, 0.04891304347826087]\n",
      "[0.047826086956521734, 0.0467391304347826, 0.05217391304347826, 0.05108695652173913, 0.051086956521739134]\n"
     ]
    },
    {
     "name": "stderr",
     "output_type": "stream",
     "text": [
      "\n",
      "Choose one progress bar: 1it [04:40, 280.29s/it]\u001b[A"
     ]
    },
    {
     "name": "stdout",
     "output_type": "stream",
     "text": [
      "runtime for ind model:130.4304940700531 seconds\n",
      "Finish ind\n",
      "Starting all\n",
      "[0.12282608695652172, 0.0782608695652174, 0.07898550724637682, 0.07934782608695654, 0.08550724637681159, 0.08731884057971015, 0.09057971014492754, 0.09239130434782608, 0.09311594202898552, 0.0967391304347826, 0.09492753623188406, 0.09782608695652174, 0.10108695652173913, 0.09927536231884057, 0.10144927536231885, 0.1, 0.10144927536231885, 0.10253623188405796, 0.10398550724637681, 0.10543478260869565, 0.10543478260869565]\n",
      "runtime for all model:769.4506328105927 seconds\n",
      "Finish all\n",
      "Starting ind\n",
      "[0.19782608695652176, 0.13804347826086957, 0.13804347826086957]\n",
      "[0.11630434782608697, 0.04782608695652174, 0.05, 0.05]\n",
      "[0.056521739130434775, 0.056521739130434775]\n"
     ]
    },
    {
     "name": "stderr",
     "output_type": "stream",
     "text": [
      "\n",
      "Choose one progress bar: 2it [18:04, 588.72s/it]\u001b[A"
     ]
    },
    {
     "name": "stdout",
     "output_type": "stream",
     "text": [
      "runtime for ind model:35.16758346557617 seconds\n",
      "Finish ind\n",
      "Starting all\n",
      "[0.07717391304347826, 0.07717391304347826]\n",
      "runtime for all model:18.63428521156311 seconds\n",
      "Finish all\n",
      "Starting ind\n",
      "[0.13152173913043477, 0.13152173913043477]\n",
      "[0.04565217391304348, 0.04565217391304348]\n",
      "[0.05434782608695652, 0.057608695652173914, 0.06086956521739131, 0.06086956521739131]\n"
     ]
    },
    {
     "name": "stderr",
     "output_type": "stream",
     "text": [
      "\n",
      "Choose one progress bar: 3it [18:53, 342.05s/it]\u001b[A"
     ]
    },
    {
     "name": "stdout",
     "output_type": "stream",
     "text": [
      "runtime for ind model:29.868330478668213 seconds\n",
      "Finish ind\n",
      "Starting all\n",
      "[0.0781668625146886, 0.0781668625146886]\n",
      "runtime for all model:18.640366077423096 seconds\n",
      "Finish all\n",
      "Starting ind\n",
      "[0.13352526439482962, 0.13461222091656877, 0.13678613396004702, 0.13678613396004702]\n",
      "[0.04886016451233842, 0.04777908343125734, 0.04669212690951822, 0.04669212690951822]\n",
      "[0.05212103407755582, 0.05212103407755582]\n"
     ]
    },
    {
     "name": "stderr",
     "output_type": "stream",
     "text": [
      "\n",
      "Choose one progress bar: 4it [19:53, 230.61s/it]\u001b[A"
     ]
    },
    {
     "name": "stdout",
     "output_type": "stream",
     "text": [
      "runtime for ind model:41.1236526966095 seconds\n",
      "Finish ind\n",
      "Starting all\n",
      "[0.1277888758323541, 0.07452800626713671, 0.07416568742655699, 0.07597532314923619, 0.07525068546807677, 0.07741676459067763, 0.07525460242851548, 0.0766960438699569, 0.0814042303172738, 0.08465922444183313, 0.08791030160595378, 0.08899921660791225, 0.09334704269486879, 0.09189776733254994, 0.09550920485703095, 0.09731688209949078, 0.09985115550332942, 0.10093419506462986, 0.1009322365844105, 0.10129651390520955, 0.10238542890716804, 0.10564629847238542, 0.1063728946337642, 0.10745789267528398, 0.10890716803760284, 0.10963180571876223, 0.10926948687818254, 0.10745985115550334, 0.10890912651782217, 0.10745985115550334, 0.10854680767724245, 0.10963376419898159, 0.10890912651782217, 0.10890912651782217]\n",
      "runtime for all model:1651.554852962494 seconds\n",
      "Finish all\n",
      "Starting ind\n",
      "[0.21175675675675673, 0.12697414806110457, 0.12805522914218567, 0.13457696827262045, 0.13564629847238543, 0.1356521739130435, 0.14760282021151588, 0.15303172737955348, 0.15737955346650997, 0.15629259694477088, 0.16063454759106932, 0.16821386603995298, 0.17039952996474736, 0.17366627497062279, 0.18015863689776732, 0.18449471210340776, 0.1834077555816686, 0.186668625146886, 0.1845005875440658, 0.1888484136310223, 0.1888484136310223]\n",
      "[0.11951233842538192, 0.046686251468860164, 0.04559929494712103, 0.046686251468860164, 0.04886016451233842, 0.04559929494712103, 0.04559929494712104]\n",
      "[0.052097532314923624, 0.05644535840188014, 0.059706227967097535, 0.06404230317273796, 0.06295534665099882, 0.061868390129259695, 0.06294947121034078, 0.061868390129259695, 0.0586075205640423, 0.05643360752056405, 0.06295534665099882, 0.058613396004700356, 0.060799059929494706, 0.05971210340775558, 0.05971210340775558]\n"
     ]
    },
    {
     "name": "stderr",
     "output_type": "stream",
     "text": [
      "\n",
      "Choose one progress bar: 5it [55:16, 913.28s/it]\u001b[A"
     ]
    },
    {
     "name": "stdout",
     "output_type": "stream",
     "text": [
      "runtime for ind model:472.1756408214569 seconds\n",
      "Finish ind\n",
      "Starting all\n",
      "[0.07564629847238542, 0.07564629847238542]\n",
      "runtime for all model:18.963900089263916 seconds\n",
      "Finish all\n",
      "Starting ind\n",
      "[0.12702702702702703, 0.12811398354876619, 0.1292009400705053, 0.13246180963572268, 0.13678025851938896, 0.15088719153936545, 0.15524676850763805, 0.15740893066980025, 0.1693537015276146, 0.16935957696827264, 0.16826674500587543, 0.16718566392479434, 0.1693537015276146, 0.17694477085781435, 0.18454171562867216, 0.18020564042303172, 0.18237367802585194, 0.18346063454759107, 0.18998237367802584, 0.18889541715628672, 0.19650411280846064, 0.1986780258519389, 0.1986780258519389]\n",
      "[0.047761457109283194, 0.04884841363102233, 0.051010575793184486, 0.05427144535840188, 0.0618801410105758, 0.058619271445358404, 0.05753231492361928, 0.06188014101057578, 0.06188014101057578]\n",
      "[0.053237367802585187, 0.053237367802585187]\n"
     ]
    },
    {
     "name": "stderr",
     "output_type": "stream",
     "text": [
      "\n",
      "Choose one progress bar: 6it [1:01:55, 738.43s/it]\u001b[A"
     ]
    },
    {
     "name": "stdout",
     "output_type": "stream",
     "text": [
      "runtime for ind model:380.03173756599426 seconds\n",
      "Finish ind\n",
      "Starting all\n",
      "[0.08071092831962398, 0.07926165295730513, 0.07926165295730513]\n",
      "runtime for all model:32.987311124801636 seconds\n",
      "Finish all\n",
      "Starting ind\n",
      "[0.1951762632197415, 0.13463572267920093, 0.13463572267920093]\n",
      "[0.04994124559341951, 0.047773207990599295, 0.051034077555816695, 0.051034077555816695]\n",
      "[0.05537602820211516, 0.05538190364277321, 0.05537602820211516, 0.05427732079905993, 0.057532314923619265, 0.05753231492361928]\n"
     ]
    },
    {
     "name": "stderr",
     "output_type": "stream",
     "text": [
      "\n",
      "Choose one progress bar: 7it [1:03:30, 528.00s/it]\u001b[A"
     ]
    },
    {
     "name": "stdout",
     "output_type": "stream",
     "text": [
      "runtime for ind model:61.768251180648804 seconds\n",
      "Finish ind\n",
      "Starting all\n",
      "[0.07671954563258912, 0.07671954563258912]\n",
      "runtime for all model:18.672628164291382 seconds\n",
      "Finish all\n",
      "Starting ind\n",
      "[0.277021151586369, 0.1346298472385429, 0.1346298472385429]\n",
      "[0.04777908343125734, 0.04777908343125734]\n",
      "[0.051010575793184486, 0.051010575793184486]\n"
     ]
    },
    {
     "name": "stderr",
     "output_type": "stream",
     "text": [
      "\n",
      "Choose one progress bar: 8it [1:04:13, 373.63s/it]\u001b[A"
     ]
    },
    {
     "name": "stdout",
     "output_type": "stream",
     "text": [
      "runtime for ind model:24.413055419921875 seconds\n",
      "Finish ind\n",
      "Starting all\n",
      "[0.07420289855072464, 0.07203486094790443, 0.07203486094790443]\n",
      "runtime for all model:32.961669921875 seconds\n",
      "Finish all\n",
      "Starting ind\n",
      "[0.26682138660399535, 0.1281316098707403, 0.1324853113983549, 0.133572267920094, 0.13031139835487662, 0.14878965922444184, 0.13792009400705055, 0.15094594594594596, 0.14985898942420683, 0.14551703877790834, 0.15312573443008226, 0.1574794359576968, 0.15964159811985898, 0.1607285546415981, 0.16615158636897767, 0.16938895417156288, 0.17266157461809636, 0.17807873090481788, 0.1813454759106933, 0.18135135135135133, 0.18461222091656876, 0.18896004700352526, 0.19004112808460633, 0.1911339600470035, 0.1911339600470035]\n",
      "[0.045622796709753236, 0.043454759106933014, 0.043454759106933014]\n",
      "[0.04992949471210341, 0.049935370152761456, 0.047761457109283194, 0.05428319623971798, 0.0499412455934195, 0.055370152761457105, 0.05319623971797884, 0.05319623971797884]\n"
     ]
    },
    {
     "name": "stderr",
     "output_type": "stream",
     "text": [
      "\n",
      "Choose one progress bar: 9it [1:12:00, 402.83s/it]\u001b[A"
     ]
    },
    {
     "name": "stdout",
     "output_type": "stream",
     "text": [
      "runtime for ind model:434.07918429374695 seconds\n",
      "Finish ind\n",
      "Starting all\n",
      "[0.11949862906384645, 0.07566588327457893, 0.07385428907168037, 0.0745789267528398, 0.07349588719153936, 0.07674892283587935, 0.07820015667841754, 0.0821719545632589, 0.08470818644731688, 0.08542303172737956, 0.08795534665099883, 0.08759498629063846, 0.09012925969447708, 0.08867802585193889, 0.0912162162162162, 0.09193497845671758, 0.09338229533881708, 0.09338229533881708]\n",
      "runtime for all model:599.287605047226 seconds\n",
      "Finish all\n",
      "Starting ind\n",
      "[0.13142185663924794, 0.1303349001175088, 0.13142185663924794, 0.13466509988249117, 0.13575205640423033, 0.1444300822561692, 0.1487485311398355, 0.15199177438307873, 0.15958284371327852, 0.16934782608695653, 0.16610458284371327, 0.16176850763807285, 0.16501762632197417, 0.1628437132784959, 0.17153936545240894, 0.17153936545240894]\n",
      "[0.04995887191539365, 0.047790834312573444, 0.049964747356051706, 0.05106345475910693, 0.055399529964747354, 0.04997649823736779, 0.04888954171562867, 0.05106345475910694, 0.05756169212690952, 0.05433019976498238, 0.057591069330199765, 0.0554171562867215, 0.0554171562867215]\n",
      "[0.04886603995299647, 0.049952996474735605, 0.05645123384253818, 0.06079905992949471, 0.06082256169212691, 0.061897767332549945, 0.06299059929494713, 0.06299059929494713]\n"
     ]
    },
    {
     "name": "stderr",
     "output_type": "stream",
     "text": [
      "\n",
      "Choose one progress bar: 10it [1:27:44, 526.47s/it]\u001b[A"
     ]
    },
    {
     "name": "stdout",
     "output_type": "stream",
     "text": [
      "runtime for ind model:344.55143690109253 seconds\n",
      "Finish ind\n",
      "MSE all: 0.7887873596040359\n",
      "MSE ind: 0\n",
      "for ind was chosen\n"
     ]
    },
    {
     "name": "stderr",
     "output_type": "stream",
     "text": [
      "\n"
     ]
    },
    {
     "name": "stdout",
     "output_type": "stream",
     "text": [
      "[0.21392635102821617, 0.13197513151602105, 0.13197513151602105]\n",
      "[0.04887613582018173, 0.047900526064084174, 0.04984696317551411, 0.04887135341941655, 0.04887135341941655]\n",
      "[0.05474414155906265, 0.05474414155906265]\n"
     ]
    },
    {
     "name": "stderr",
     "output_type": "stream",
     "text": [
      "CV progress bar: 2it [2:36:07, 4794.64s/it]"
     ]
    },
    {
     "name": "stdout",
     "output_type": "stream",
     "text": [
      "runtime for ind model:46.96493101119995 seconds\n",
      "runtime for choose one model:5311.630655765533 seconds\n",
      "starting choose one model\n"
     ]
    },
    {
     "name": "stderr",
     "output_type": "stream",
     "text": [
      "\n",
      "Choose one progress bar: 0it [00:00, ?it/s]\u001b[A"
     ]
    },
    {
     "name": "stdout",
     "output_type": "stream",
     "text": [
      "Starting all\n",
      "[0.07391304347826086, 0.07391304347826086]\n",
      "runtime for all model:18.617935180664062 seconds\n",
      "Finish all\n",
      "Starting ind\n",
      "[0.2717391304347826, 0.19782608695652174, 0.12173913043478261, 0.12717391304347828, 0.12173913043478261, 0.13260869565217392, 0.13695652173913045, 0.14347826086956522, 0.14347826086956522]\n",
      "[0.04891304347826087, 0.04891304347826087]\n",
      "[0.049999999999999996, 0.04891304347826087, 0.05434782608695652, 0.059782608695652176, 0.06739130434782609, 0.07065217391304349, 0.06847826086956522, 0.06847826086956522]\n"
     ]
    },
    {
     "name": "stderr",
     "output_type": "stream",
     "text": [
      "\n",
      "Choose one progress bar: 1it [02:21, 141.23s/it]\u001b[A"
     ]
    },
    {
     "name": "stdout",
     "output_type": "stream",
     "text": [
      "runtime for ind model:122.61231684684753 seconds\n",
      "Finish ind\n",
      "Starting all\n",
      "[0.07789855072463767, 0.07681159420289854, 0.07789855072463768, 0.0786231884057971, 0.0789855072463768, 0.08115942028985507, 0.08405797101449278, 0.0858695652173913, 0.08985507246376813, 0.09239130434782608, 0.09384057971014494, 0.09746376811594204, 0.0963768115942029, 0.09818840579710145, 0.10072463768115943, 0.10181159420289856, 0.1032608695652174, 0.10652173913043479, 0.10724637681159421, 0.10833333333333332, 0.10978260869565218, 0.10978260869565219]\n",
      "runtime for all model:836.8486342430115 seconds\n",
      "Finish all\n",
      "Starting ind\n",
      "[0.2956521739130435, 0.22391304347826088, 0.13369565217391305, 0.13478260869565215, 0.13478260869565215]\n",
      "[0.05108695652173913, 0.051086956521739134]\n",
      "[0.05217391304347826, 0.05217391304347826]\n"
     ]
    },
    {
     "name": "stderr",
     "output_type": "stream",
     "text": [
      "\n",
      "Choose one progress bar: 2it [16:55, 572.56s/it]\u001b[A"
     ]
    },
    {
     "name": "stdout",
     "output_type": "stream",
     "text": [
      "runtime for ind model:37.633803844451904 seconds\n",
      "Finish ind\n",
      "Starting all\n",
      "[0.0753623188405797, 0.07499999999999998, 0.07717391304347826, 0.07753623188405798, 0.08260869565217391, 0.08333333333333333, 0.08514492753623189, 0.08731884057971015, 0.09166666666666666, 0.0927536231884058, 0.09492753623188407, 0.09782608695652174, 0.09963768115942029, 0.09963768115942029]\n",
      "runtime for all model:388.06822752952576 seconds\n",
      "Finish all\n",
      "Starting ind\n",
      "[0.12826086956521737, 0.12826086956521737]\n",
      "[0.048913043478260865, 0.04782608695652174, 0.047826086956521734]\n",
      "[0.05108695652173913, 0.05, 0.053260869565217396, 0.05652173913043479, 0.05869565217391305, 0.05652173913043479, 0.05869565217391305, 0.05869565217391305]\n"
     ]
    },
    {
     "name": "stderr",
     "output_type": "stream",
     "text": [
      "\n",
      "Choose one progress bar: 3it [24:34, 520.54s/it]\u001b[A"
     ]
    },
    {
     "name": "stdout",
     "output_type": "stream",
     "text": [
      "runtime for ind model:70.56067967414856 seconds\n",
      "Finish ind\n",
      "Starting all\n",
      "[0.07637485311398355, 0.07637485311398355]\n",
      "runtime for all model:18.921501874923706 seconds\n",
      "Finish all\n",
      "Starting ind\n",
      "[0.26904817861339597, 0.20491774383078729, 0.13356639247943597, 0.14008813160987074, 0.14008813160987071]\n",
      "[0.046686251468860164, 0.0445123384253819, 0.04559929494712103, 0.04559929494712103]\n",
      "[0.05103407755581668, 0.051034077555816695]\n"
     ]
    },
    {
     "name": "stderr",
     "output_type": "stream",
     "text": [
      "\n",
      "Choose one progress bar: 4it [25:42, 341.81s/it]\u001b[A"
     ]
    },
    {
     "name": "stdout",
     "output_type": "stream",
     "text": [
      "runtime for ind model:48.89253044128418 seconds\n",
      "Finish ind\n",
      "Starting all\n",
      "[0.07711124167645908, 0.0742126909518214, 0.0778319623971798, 0.07927536231884058, 0.08, 0.08252839796318057, 0.08433999216607913, 0.08614962788875832, 0.08831962397179789, 0.09121817469643556, 0.09049157853505681, 0.09700156678417549, 0.09844496670583627, 0.10061104582843713, 0.10206815511163339, 0.10279279279279281, 0.10314923619271446, 0.10568546807677244, 0.1045985115550333, 0.1045985115550333]\n",
      "runtime for all model:698.5754539966583 seconds\n",
      "Finish all\n",
      "Starting ind\n",
      "[0.20816686251468858, 0.13249118683901293, 0.13249118683901293]\n",
      "[0.046703877790834306, 0.04452996474735605, 0.044524089306698, 0.04776733254994125, 0.043443008225616926, 0.04561692126909518, 0.04561692126909518]\n",
      "[0.05105170387779083, 0.053213866039953, 0.057544065804935374, 0.05646298472385429, 0.05646298472385429]\n"
     ]
    },
    {
     "name": "stderr",
     "output_type": "stream",
     "text": [
      "\n",
      "Choose one progress bar: 5it [38:38, 498.64s/it]\u001b[A"
     ]
    },
    {
     "name": "stdout",
     "output_type": "stream",
     "text": [
      "runtime for ind model:78.13167715072632 seconds\n",
      "Finish ind\n",
      "Starting all\n",
      "[0.07927536231884057, 0.07927536231884057]\n",
      "runtime for all model:18.69028878211975 seconds\n",
      "Finish all\n",
      "Starting ind\n",
      "[0.20528789659224445, 0.13572267920094006, 0.13572267920094006]\n",
      "[0.0499764982373678, 0.0499764982373678]\n",
      "[0.054294947121034075, 0.05320799059929495, 0.05864277320799059, 0.058648648648648646, 0.06188601645123385, 0.06080493537015277, 0.06189189189189189, 0.05863689776733255, 0.05863689776733255]\n"
     ]
    },
    {
     "name": "stderr",
     "output_type": "stream",
     "text": [
      "\n",
      "Choose one progress bar: 6it [40:19, 363.18s/it]\u001b[A"
     ]
    },
    {
     "name": "stdout",
     "output_type": "stream",
     "text": [
      "runtime for ind model:81.55446028709412 seconds\n",
      "Finish ind\n",
      "Starting all\n",
      "[0.07816882099490796, 0.07924990207598903, 0.07744222483352918, 0.0803309831570701, 0.08141793967880925, 0.0839541715628672, 0.08576576576576575, 0.08721308264786526, 0.08830395613004309, 0.09554445750097924, 0.09879945162553858, 0.09988640814727771, 0.10566784175479829, 0.10965139052095574, 0.10820015667841754, 0.10856247551899725, 0.10928515471993734, 0.11001370936153546, 0.11110066588327458, 0.11218762240501372, 0.11399921660791226, 0.11399921660791226]\n",
      "runtime for all model:819.8012747764587 seconds\n",
      "Finish all\n",
      "Starting ind\n",
      "[0.20309048178613395, 0.20309048178613395]\n",
      "[0.05103407755581668, 0.05102820211515864, 0.04885428907168038, 0.054294947121034075, 0.05646886016451234, 0.054294947121034075, 0.053202115158636896, 0.05212103407755582, 0.054294947121034075, 0.05103407755581668, 0.05103407755581668]\n",
      "[0.054294947121034075, 0.054294947121034075]\n"
     ]
    },
    {
     "name": "stderr",
     "output_type": "stream",
     "text": [
      "\n",
      "Choose one progress bar: 7it [55:41, 546.00s/it]\u001b[A"
     ]
    },
    {
     "name": "stdout",
     "output_type": "stream",
     "text": [
      "runtime for ind model:102.5752158164978 seconds\n",
      "Finish ind\n",
      "Starting all\n",
      "[0.07744418331374853, 0.07744418331374853]\n",
      "runtime for all model:18.78770399093628 seconds\n",
      "Finish all\n",
      "Starting ind\n",
      "[0.1951410105757932, 0.1313572267920094, 0.13027027027027027, 0.13027027027027027]\n",
      "[0.0499529964747356, 0.0499529964747356]\n",
      "[0.048848413631022325, 0.04993537015276146, 0.05102232667450059, 0.04993537015276146, 0.053196239717978856, 0.05646298472385429, 0.057549941245593414, 0.06189776733254994, 0.06297297297297297, 0.06297297297297297]\n"
     ]
    },
    {
     "name": "stderr",
     "output_type": "stream",
     "text": [
      "\n",
      "Choose one progress bar: 8it [57:40, 410.15s/it]\u001b[A"
     ]
    },
    {
     "name": "stdout",
     "output_type": "stream",
     "text": [
      "runtime for ind model:100.4835033416748 seconds\n",
      "Finish ind\n",
      "Starting all\n",
      "[0.07925773599686643, 0.07636897767332548, 0.07818057187622404, 0.07890520955738348, 0.07854484919702312, 0.08541519780650215, 0.08758911084998042, 0.08613983548766156, 0.08687034860947904, 0.08831570701135918, 0.08940266353309831, 0.09157461809635722, 0.09266157461809635, 0.09483157070113593, 0.09410497453975715, 0.09519193106149629, 0.09953388170779476, 0.09844692518605562, 0.09953388170779476, 0.09989620054837448, 0.10098119858989425, 0.10170583627105367, 0.1027888758323541, 0.10279083431257345, 0.10279083431257345]\n",
      "runtime for all model:1011.833291053772 seconds\n",
      "Finish all\n",
      "Starting ind\n",
      "[0.2737602820211516, 0.20854289071680374, 0.21180376028202116, 0.13462984723854288, 0.14656874265569916, 0.14981786133960046, 0.16391304347826088, 0.1606639247943596, 0.16501762632197417, 0.16176850763807288, 0.16827849588719154, 0.16937720329024678, 0.17047003525264395, 0.16938307873090483, 0.17264394829612223, 0.17373090481786133, 0.17481786133960048, 0.1759048178613396, 0.17699177438307873, 0.18460047003525265, 0.1856874265569918, 0.1867743830787309, 0.18677438307873093]\n",
      "[0.051039952996474736, 0.04670975323149236, 0.04670975323149236]\n",
      "[0.0531903642773208, 0.05536427732079906, 0.05536427732079906]\n"
     ]
    },
    {
     "name": "stderr",
     "output_type": "stream",
     "text": [
      "\n",
      "Choose one progress bar: 9it [1:20:14, 705.12s/it]\u001b[A"
     ]
    },
    {
     "name": "stdout",
     "output_type": "stream",
     "text": [
      "runtime for ind model:341.87259006500244 seconds\n",
      "Finish ind\n",
      "Starting all\n",
      "[0.11671171171171171, 0.07490990990990991, 0.07599099099099098, 0.0763572267920094, 0.07853113983548766, 0.07816882099490795, 0.07924990207598903, 0.08215041128084608, 0.08396004700352527, 0.08540736388562475, 0.0872150411280846, 0.08829612220916569, 0.08648452800626713, 0.08937328632980808, 0.09154915785350567, 0.0944418331374853, 0.09335879357618489, 0.09517038777908343, 0.09553270661966315, 0.09517038777908343, 0.09480806893850371, 0.0958930669800235, 0.09625342734038386, 0.09661574618096357, 0.09697806502154328, 0.09842734038386212, 0.09915197806502155, 0.09915197806502155]\n",
      "runtime for all model:1215.075621843338 seconds\n",
      "Finish all\n",
      "Starting ind\n",
      "[0.2690540540540541, 0.12702115158636898, 0.12702115158636898]\n",
      "[0.10940070505287898, 0.04885428907168038, 0.04993537015276146, 0.047773207990599295, 0.047773207990599295]\n",
      "[0.04994124559341952, 0.04994124559341952]\n"
     ]
    },
    {
     "name": "stderr",
     "output_type": "stream",
     "text": [
      "\n",
      "Choose one progress bar: 10it [1:41:12, 607.24s/it]\u001b[A"
     ]
    },
    {
     "name": "stdout",
     "output_type": "stream",
     "text": [
      "runtime for ind model:42.82437467575073 seconds\n",
      "Finish ind\n",
      "MSE all: 0.7720032997017577\n",
      "MSE ind: 0\n",
      "for ind was chosen\n"
     ]
    },
    {
     "name": "stderr",
     "output_type": "stream",
     "text": [
      "\n"
     ]
    },
    {
     "name": "stdout",
     "output_type": "stream",
     "text": [
      "[0.12998087039693926, 0.12998087039693926]\n",
      "[0.04983739837398374, 0.04983739837398374]\n",
      "[0.051812529890004774, 0.052788139646102336, 0.05082735533237685, 0.052788139646102336, 0.0537637494021999, 0.06449545671927306, 0.05375896700143472, 0.051807747489239594, 0.052788139646102336, 0.05279292204686753, 0.05279292204686753]\n"
     ]
    },
    {
     "name": "stderr",
     "output_type": "stream",
     "text": [
      "CV progress bar: 3it [4:19:15, 5430.57s/it]"
     ]
    },
    {
     "name": "stdout",
     "output_type": "stream",
     "text": [
      "runtime for ind model:114.93054413795471 seconds\n",
      "runtime for choose one model:6187.33279466629 seconds\n",
      "starting choose one model\n"
     ]
    },
    {
     "name": "stderr",
     "output_type": "stream",
     "text": [
      "\n",
      "Choose one progress bar: 0it [00:00, ?it/s]\u001b[A"
     ]
    },
    {
     "name": "stdout",
     "output_type": "stream",
     "text": [
      "Starting all\n",
      "[0.07246376811594203, 0.07246376811594203]\n",
      "runtime for all model:18.6482412815094 seconds\n",
      "Finish all\n",
      "Starting ind\n",
      "[0.17717391304347824, 0.1173913043478261, 0.1173913043478261]\n",
      "[0.04565217391304348, 0.04565217391304348]\n",
      "[0.053260869565217396, 0.053260869565217396]\n"
     ]
    },
    {
     "name": "stderr",
     "output_type": "stream",
     "text": [
      "\n",
      "Choose one progress bar: 1it [00:43, 43.04s/it]\u001b[A"
     ]
    },
    {
     "name": "stdout",
     "output_type": "stream",
     "text": [
      "runtime for ind model:24.39114546775818 seconds\n",
      "Finish ind\n",
      "Starting all\n",
      "[0.07355072463768117, 0.07355072463768117]\n",
      "runtime for all model:18.63189125061035 seconds\n",
      "Finish all\n",
      "Starting ind\n",
      "[0.12065217391304348, 0.12065217391304348]\n",
      "[0.047826086956521734, 0.047826086956521734]\n",
      "[0.05217391304347826, 0.05326086956521738, 0.05434782608695652, 0.05543478260869565, 0.05434782608695652, 0.053260869565217396, 0.05217391304347826, 0.05217391304347826]\n"
     ]
    },
    {
     "name": "stderr",
     "output_type": "stream",
     "text": [
      "\n",
      "Choose one progress bar: 2it [02:06, 66.81s/it]\u001b[A"
     ]
    },
    {
     "name": "stdout",
     "output_type": "stream",
     "text": [
      "runtime for ind model:64.81057929992676 seconds\n",
      "Finish ind\n",
      "Starting all\n",
      "[0.07536231884057971, 0.075, 0.07391304347826087, 0.07427536231884058, 0.075, 0.07934782608695652, 0.08260869565217391, 0.08297101449275363, 0.08550724637681158, 0.08550724637681159]\n",
      "runtime for all model:220.27336072921753 seconds\n",
      "Finish all\n",
      "Starting ind\n",
      "[0.20217391304347826, 0.20217391304347826]\n",
      "[0.05108695652173913, 0.05, 0.05]\n",
      "[0.05217391304347826, 0.053260869565217396, 0.051086956521739134, 0.05, 0.051086956521739134, 0.051086956521739134]\n"
     ]
    },
    {
     "name": "stderr",
     "output_type": "stream",
     "text": [
      "\n",
      "Choose one progress bar: 3it [06:38, 160.38s/it]\u001b[A"
     ]
    },
    {
     "name": "stdout",
     "output_type": "stream",
     "text": [
      "runtime for ind model:51.449002504348755 seconds\n",
      "Finish ind\n",
      "Starting all\n",
      "[0.07637093615354486, 0.07600861731296514, 0.07781825303564434, 0.08034469251860557, 0.08143752448100275, 0.0868723070896984, 0.09012730121425774, 0.09591852722287504, 0.09229142185663924, 0.09265569917743832, 0.09084018801410106, 0.09156090873482178, 0.09554249902075988, 0.09554054054054054, 0.0940912651782217, 0.09554445750097924, 0.09880532706619663, 0.09373090481786135, 0.09481786133960048, 0.09735605170387779, 0.09735409322365843, 0.0995201723462593, 0.10060712886799843, 0.10024481002741872, 0.10096553074813944, 0.10096553074813944]\n",
      "runtime for all model:1082.0967490673065 seconds\n",
      "Finish all\n",
      "Starting ind\n",
      "[0.12704465334900117, 0.12704465334900117]\n",
      "[0.04886603995299647, 0.04886603995299647]\n",
      "[0.05319623971797884, 0.05103407755581668, 0.05319623971797884, 0.06298472385428908, 0.0640716803760282, 0.06514688601645123, 0.06297297297297297, 0.06079905992949471, 0.06949471210340775, 0.06949471210340775]\n"
     ]
    },
    {
     "name": "stderr",
     "output_type": "stream",
     "text": [
      "\n",
      "Choose one progress bar: 4it [26:10, 559.68s/it]\u001b[A"
     ]
    },
    {
     "name": "stdout",
     "output_type": "stream",
     "text": [
      "runtime for ind model:89.70673489570618 seconds\n",
      "Finish ind\n",
      "Starting all\n",
      "[0.0741735213474344, 0.0741735213474344]\n",
      "runtime for all model:18.643018007278442 seconds\n",
      "Finish all\n",
      "Starting ind\n",
      "[0.12266157461809638, 0.12266157461809638]\n",
      "[0.049935370152761456, 0.049935370152761456]\n",
      "[0.049923619271445355, 0.049923619271445355]\n"
     ]
    },
    {
     "name": "stderr",
     "output_type": "stream",
     "text": [
      "\n",
      "Choose one progress bar: 5it [26:48, 371.57s/it]\u001b[A"
     ]
    },
    {
     "name": "stdout",
     "output_type": "stream",
     "text": [
      "runtime for ind model:19.383201122283936 seconds\n",
      "Finish ind\n",
      "Starting all\n",
      "[0.07564042303172738, 0.07455934195064631, 0.07528593811202507, 0.07782021151586369, 0.07854289071680376, 0.0781864473168821, 0.07782608695652174, 0.08035840188014101, 0.08253231492361927, 0.08398746572659617, 0.08652369761065412, 0.0894183313748531, 0.08761065413239327, 0.0894222483352918, 0.09050920485703096, 0.09014492753623189, 0.09086956521739131, 0.09412651782216999, 0.09412847630238934, 0.09485311398354876, 0.09521151586368978, 0.09484919702311008, 0.09484919702311008]\n",
      "runtime for all model:881.6322646141052 seconds\n",
      "Finish all\n",
      "Starting ind\n",
      "[0.19118096357226794, 0.12487661574618096, 0.12487661574618096]\n",
      "[0.047773207990599295, 0.046686251468860164, 0.05538777908343125, 0.052126909518213874, 0.051039952996474736, 0.05756169212690952, 0.05538777908343125, 0.057561692126909515, 0.06082256169212691, 0.06841363102232667, 0.07058754406580495, 0.06950646298472385, 0.06733842538190364, 0.06842538190364277, 0.06842538190364277]\n",
      "[0.05427144535840188, 0.05427144535840188]\n"
     ]
    },
    {
     "name": "stderr",
     "output_type": "stream",
     "text": [
      "\n",
      "Choose one progress bar: 6it [44:23, 604.04s/it]\u001b[A"
     ]
    },
    {
     "name": "stdout",
     "output_type": "stream",
     "text": [
      "runtime for ind model:173.6590178012848 seconds\n",
      "Finish ind\n",
      "Starting all\n",
      "[0.07707403055229142, 0.07707403055229142]\n",
      "runtime for all model:18.58832621574402 seconds\n",
      "Finish all\n",
      "Starting ind\n",
      "[0.3244770857814336, 0.1280846063454759, 0.12917156286721504, 0.13673913043478259, 0.13455346650998826, 0.14327849588719155, 0.14218566392479434, 0.1530493537015276, 0.14326674500587544, 0.1508695652173913, 0.1552232667450059, 0.16283196239717979, 0.165, 0.1726086956521739, 0.16391891891891894, 0.16717978848413634, 0.17478260869565218, 0.17478260869565215]\n",
      "[0.05102820211515864, 0.05102820211515864]\n",
      "[0.05319623971797884, 0.052115158636897765, 0.060810810810810814, 0.06296122209165686, 0.06188014101057578, 0.06297297297297297, 0.06622796709753231, 0.0673090481786134, 0.0673090481786134]\n"
     ]
    },
    {
     "name": "stderr",
     "output_type": "stream",
     "text": [
      "\n",
      "Choose one progress bar: 7it [49:22, 504.33s/it]\u001b[A"
     ]
    },
    {
     "name": "stdout",
     "output_type": "stream",
     "text": [
      "runtime for ind model:280.4700117111206 seconds\n",
      "Finish ind\n",
      "Starting all\n",
      "[0.0745436741088915, 0.0745436741088915]\n",
      "runtime for all model:18.59991145133972 seconds\n",
      "Finish all\n",
      "Starting ind\n",
      "[0.1259048178613396, 0.12914806110458282, 0.1280611045828437, 0.13130434782608696, 0.1291421856639248, 0.12804935370152762, 0.13455934195064628, 0.13673325499412453, 0.14651586368977673, 0.14325499412455933, 0.1454289071680376, 0.14651586368977673, 0.15521151586368978, 0.1476086956521739, 0.15304347826086956, 0.1497826086956522, 0.15519976498237367, 0.15519976498237367]\n",
      "[0.047755581668625154, 0.047755581668625154]\n",
      "[0.053231492361927146, 0.04997062279670975, 0.053231492361927146, 0.05214453584018801, 0.05540540540540541, 0.05756756756756757, 0.057579318448883664, 0.05757344300822561, 0.06407755581668625, 0.0640834312573443, 0.06408930669800236, 0.06517038777908343, 0.06733254994124559, 0.06733254994124559]\n"
     ]
    },
    {
     "name": "stderr",
     "output_type": "stream",
     "text": [
      "\n",
      "Choose one progress bar: 8it [55:37, 463.22s/it]\u001b[A"
     ]
    },
    {
     "name": "stdout",
     "output_type": "stream",
     "text": [
      "runtime for ind model:356.5927743911743 seconds\n",
      "Finish ind\n",
      "Starting all\n",
      "[0.0785370152761457, 0.07962397179788484, 0.07925773599686643, 0.08396788092440266, 0.07962593027810419, 0.0817939678809244, 0.08324324324324325, 0.08433019976498238, 0.08541128084606345, 0.08686251468860165, 0.08903642773207991, 0.09193889541715629, 0.09302781041911476, 0.09809635722679201, 0.09664904034469252, 0.0995475910693302, 0.10099686643164904, 0.10207990599294947, 0.10207990599294947]\n",
      "runtime for all model:641.9618604183197 seconds\n",
      "Finish all\n",
      "Starting ind\n",
      "[0.2063807285546416, 0.12594594594594594, 0.12594594594594594]\n",
      "[0.05320799059929495, 0.05320799059929495]\n",
      "[0.056457109283196236, 0.056457109283196236]\n"
     ]
    },
    {
     "name": "stderr",
     "output_type": "stream",
     "text": [
      "\n",
      "Choose one progress bar: 9it [1:06:43, 526.74s/it]\u001b[A"
     ]
    },
    {
     "name": "stdout",
     "output_type": "stream",
     "text": [
      "runtime for ind model:24.425498247146606 seconds\n",
      "Finish ind\n",
      "Starting all\n",
      "[0.07527222875048961, 0.07527222875048961]\n",
      "runtime for all model:18.630611181259155 seconds\n",
      "Finish all\n",
      "Starting ind\n",
      "[0.18786721504112808, 0.18895417156286723, 0.1269976498237368, 0.13351938895417156, 0.13568742655699179, 0.14111633372502938, 0.13568742655699179, 0.13678025851938896, 0.14329612220916568, 0.1498119858989424, 0.15850763807285545, 0.16611633372502937, 0.16394242068155113, 0.16718566392479436, 0.17804347826086958, 0.17696239717978846, 0.18022326674500583, 0.18022326674500583]\n",
      "[0.04994712103407756, 0.04886016451233842, 0.04777908343125734, 0.04886603995299647, 0.04886603995299647]\n",
      "[0.04995887191539365, 0.04995887191539365]\n"
     ]
    },
    {
     "name": "stderr",
     "output_type": "stream",
     "text": [
      "\n",
      "Choose one progress bar: 10it [1:11:05, 426.52s/it]\u001b[A"
     ]
    },
    {
     "name": "stdout",
     "output_type": "stream",
     "text": [
      "runtime for ind model:242.59552025794983 seconds\n",
      "Finish ind\n",
      "MSE all: 0.7490640269052604\n",
      "MSE ind: 0\n",
      "for ind was chosen\n"
     ]
    },
    {
     "name": "stderr",
     "output_type": "stream",
     "text": [
      "\n"
     ]
    },
    {
     "name": "stdout",
     "output_type": "stream",
     "text": [
      "[0.24996652319464369, 0.12411286465805835, 0.12607364897178383, 0.12607364897178383]\n",
      "[0.04887135341941655, 0.0478909612625538, 0.04886657101865136, 0.046915351506456246, 0.04789096126255381, 0.04690578670492587, 0.05080822572931611, 0.049837398373983745, 0.051788617886178855, 0.06354375896700144, 0.06158297465327596, 0.061582974653275946]\n",
      "[0.05376853180296508, 0.05376853180296508]\n"
     ]
    },
    {
     "name": "stderr",
     "output_type": "stream",
     "text": [
      "CV progress bar: 4it [5:32:44, 5027.34s/it]"
     ]
    },
    {
     "name": "stdout",
     "output_type": "stream",
     "text": [
      "runtime for ind model:143.94493913650513 seconds\n",
      "runtime for choose one model:4409.1763162612915 seconds\n",
      "starting choose one model\n"
     ]
    },
    {
     "name": "stderr",
     "output_type": "stream",
     "text": [
      "\n",
      "Choose one progress bar: 0it [00:00, ?it/s]\u001b[A"
     ]
    },
    {
     "name": "stdout",
     "output_type": "stream",
     "text": [
      "Starting all\n",
      "[0.07644927536231885, 0.07427536231884058, 0.07536231884057971, 0.0786231884057971, 0.08152173913043478, 0.07971014492753623, 0.08297101449275361, 0.08695652173913042, 0.09021739130434783, 0.08985507246376812, 0.08876811594202899, 0.0894927536231884, 0.09094202898550724, 0.09239130434782608, 0.09528985507246378, 0.09492753623188406, 0.09891304347826087, 0.09927536231884057, 0.09855072463768115, 0.10144927536231885, 0.10217391304347827, 0.10108695652173913, 0.10217391304347825, 0.10181159420289854, 0.10181159420289854]\n",
      "runtime for all model:1023.8321969509125 seconds\n",
      "Finish all\n",
      "Starting ind\n",
      "[0.21304347826086958, 0.13369565217391305, 0.13369565217391305]\n",
      "[0.04565217391304348, 0.043478260869565216, 0.04456521739130435, 0.04565217391304348, 0.04565217391304348]\n",
      "[0.05326086956521738, 0.05217391304347826, 0.05217391304347826]\n"
     ]
    },
    {
     "name": "stderr",
     "output_type": "stream",
     "text": [
      "\n",
      "Choose one progress bar: 1it [17:51, 1071.03s/it]\u001b[A"
     ]
    },
    {
     "name": "stdout",
     "output_type": "stream",
     "text": [
      "runtime for ind model:47.19404363632202 seconds\n",
      "Finish ind\n",
      "Starting all\n",
      "[0.07826086956521738, 0.07826086956521738]\n",
      "runtime for all model:18.6555814743042 seconds\n",
      "Finish all\n",
      "Starting ind\n",
      "[0.19456521739130433, 0.1358695652173913, 0.1358695652173913]\n",
      "[0.04891304347826087, 0.04782608695652174, 0.041304347826086954, 0.04565217391304348, 0.04673913043478261, 0.04565217391304348, 0.04565217391304348]\n",
      "[0.053260869565217396, 0.053260869565217396]\n"
     ]
    },
    {
     "name": "stderr",
     "output_type": "stream",
     "text": [
      "\n",
      "Choose one progress bar: 2it [19:09, 487.40s/it] \u001b[A"
     ]
    },
    {
     "name": "stdout",
     "output_type": "stream",
     "text": [
      "runtime for ind model:60.20247745513916 seconds\n",
      "Finish ind\n",
      "Starting all\n",
      "[0.08007246376811594, 0.0789855072463768, 0.07789855072463767, 0.07826086956521741, 0.07789855072463767, 0.07572463768115942, 0.07753623188405796, 0.0786231884057971, 0.08079710144927536, 0.08731884057971015, 0.0891304347826087, 0.09202898550724639, 0.09202898550724638]\n",
      "runtime for all model:345.6596636772156 seconds\n",
      "Finish all\n",
      "Starting ind\n",
      "[0.1358695652173913, 0.1358695652173913]\n",
      "[0.051086956521739134, 0.048913043478260865, 0.05217391304347826, 0.0467391304347826, 0.04782608695652174, 0.04347826086956521, 0.048913043478260865, 0.04456521739130435, 0.047826086956521734, 0.04565217391304348, 0.051086956521739134, 0.05, 0.05]\n",
      "[0.05869565217391304, 0.0576086956521739, 0.05543478260869565, 0.05326086956521738, 0.05869565217391304, 0.05326086956521738, 0.05543478260869565, 0.05652173913043479, 0.05434782608695652, 0.059782608695652176, 0.06304347826086956, 0.06304347826086956]\n"
     ]
    },
    {
     "name": "stderr",
     "output_type": "stream",
     "text": [
      "\n",
      "Choose one progress bar: 3it [28:48, 528.92s/it]\u001b[A"
     ]
    },
    {
     "name": "stdout",
     "output_type": "stream",
     "text": [
      "runtime for ind model:232.65897488594055 seconds\n",
      "Finish ind\n",
      "Starting all\n",
      "[0.07962593027810419, 0.07853897375636505, 0.08107324716020367, 0.08324716020368193, 0.08759106933019975, 0.09121229925577752, 0.09338817077947513, 0.09375244810027418, 0.09918723070896984, 0.09882099490795142, 0.10134155895025461, 0.101707794751273, 0.10351155503329416, 0.10387387387387388, 0.1045985115550333, 0.10785742264003133, 0.10677830003916959, 0.10894046220133176, 0.10750293772032901, 0.1089424206815511, 0.10930473952213082, 0.10930473952213082]\n",
      "runtime for all model:814.1374957561493 seconds\n",
      "Finish all\n",
      "Starting ind\n",
      "[0.13356051703877792, 0.13356051703877792]\n",
      "[0.05105170387779083, 0.049964747356051706, 0.05104582843713279, 0.052132784958871914, 0.052132784958871914]\n",
      "[0.05535252643948296, 0.05427144535840188, 0.06188601645123385, 0.05971210340775558, 0.06188601645123384, 0.06297297297297297, 0.06514101057579319, 0.06621621621621622, 0.058613396004700356, 0.05861339600470035]\n"
     ]
    },
    {
     "name": "stderr",
     "output_type": "stream",
     "text": [
      "\n",
      "Choose one progress bar: 4it [44:09, 683.81s/it]\u001b[A"
     ]
    },
    {
     "name": "stdout",
     "output_type": "stream",
     "text": [
      "runtime for ind model:107.12631726264954 seconds\n",
      "Finish ind\n",
      "Starting all\n",
      "[0.07745201723462594, 0.07745201723462594]\n",
      "runtime for all model:18.636646032333374 seconds\n",
      "Finish all\n",
      "Starting ind\n",
      "[0.13572855464159814, 0.13897179788484137, 0.13572855464159814, 0.15093419506462985, 0.15310223266745007, 0.1672267920094007, 0.16180376028202118, 0.1574500587544066, 0.16396592244418332, 0.16180376028202115, 0.17264982373678026, 0.17373678025851938, 0.1867743830787309, 0.18460047003525265, 0.18569330199764983, 0.18678025851938895, 0.19002937720329025, 0.19544653349001176, 0.19760869565217393, 0.19977085781433607, 0.20194477085781432, 0.20412455934195065, 0.20629847238542892, 0.20738542890716802, 0.20846650998824914, 0.20846650998824914]\n",
      "[0.04668037602820212, 0.0445123384253819, 0.045593419506462986, 0.043431257344300825, 0.043431257344300825]\n",
      "[0.04994712103407756, 0.04994712103407756]\n"
     ]
    },
    {
     "name": "stderr",
     "output_type": "stream",
     "text": [
      "\n",
      "Choose one progress bar: 5it [51:14, 590.57s/it]\u001b[A"
     ]
    },
    {
     "name": "stdout",
     "output_type": "stream",
     "text": [
      "runtime for ind model:406.60659098625183 seconds\n",
      "Finish ind\n",
      "Starting all\n",
      "[0.07852330591461026, 0.07852330591461026]\n",
      "runtime for all model:18.621609449386597 seconds\n",
      "Finish all\n",
      "Starting ind\n",
      "[0.13242068155111633, 0.13242068155111633]\n",
      "[0.04992361927144536, 0.04992361927144536]\n",
      "[0.053225616921269106, 0.053225616921269106]\n"
     ]
    },
    {
     "name": "stderr",
     "output_type": "stream",
     "text": [
      "\n",
      "Choose one progress bar: 6it [51:52, 402.71s/it]\u001b[A"
     ]
    },
    {
     "name": "stdout",
     "output_type": "stream",
     "text": [
      "runtime for ind model:19.4036705493927 seconds\n",
      "Finish ind\n",
      "Starting all\n",
      "[0.07454367410889151, 0.07454367410889151]\n",
      "runtime for all model:18.633832693099976 seconds\n",
      "Finish all\n",
      "Starting ind\n",
      "[0.2074735605170388, 0.12486486486486485, 0.12486486486486485]\n",
      "[0.05101645123384254, 0.0531903642773208, 0.052103407755581664, 0.04559929494712104, 0.04559929494712104]\n",
      "[0.04883666274970623, 0.04883666274970623]\n"
     ]
    },
    {
     "name": "stderr",
     "output_type": "stream",
     "text": [
      "\n",
      "Choose one progress bar: 7it [52:54, 291.21s/it]\u001b[A"
     ]
    },
    {
     "name": "stdout",
     "output_type": "stream",
     "text": [
      "runtime for ind model:43.01530647277832 seconds\n",
      "Finish ind\n",
      "Starting all\n",
      "[0.08033294163728946, 0.07960830395613006, 0.0796063454759107, 0.07851938895417157, 0.07924402663533099, 0.08213474343909126, 0.08467097532314924, 0.08394242068155112, 0.08937720329024676, 0.0901018409714062, 0.09553074813944379, 0.09444575009792402, 0.09480806893850371, 0.09698002350176263, 0.09951037994516254, 0.09878965922444183, 0.10096553074813945, 0.099882491186839, 0.10132784958871917, 0.1053113983548766, 0.10567175871523697, 0.10639639639639639, 0.10857030943987464, 0.10893262828045436, 0.10820799059929494, 0.10820799059929494]\n",
      "runtime for all model:1085.0970385074615 seconds\n",
      "Finish all\n",
      "Starting ind\n",
      "[0.13675675675675675, 0.13675675675675675]\n",
      "[0.051022326674500594, 0.051022326674500594]\n",
      "[0.05104582843713279, 0.051045828437132776]\n"
     ]
    },
    {
     "name": "stderr",
     "output_type": "stream",
     "text": [
      "\n",
      "Choose one progress bar: 8it [1:11:19, 550.21s/it]\u001b[A"
     ]
    },
    {
     "name": "stdout",
     "output_type": "stream",
     "text": [
      "runtime for ind model:19.67369818687439 seconds\n",
      "Finish ind\n",
      "Starting all\n",
      "[0.07855072463768115, 0.07891500195848021, 0.07999804151978064, 0.08325695260477868, 0.08289463376419899, 0.08797297297297298, 0.08978456717587152, 0.09340383862122993, 0.0963063063063063, 0.0959439874657266, 0.09920485703094399, 0.10028985507246377, 0.1028202115158637, 0.1028280454367411, 0.10499804151978065, 0.10608303956130043, 0.1086153544849197, 0.1086153544849197]\n",
      "runtime for all model:589.7231764793396 seconds\n",
      "Finish all\n",
      "Starting ind\n",
      "[0.20094007050528787, 0.13680963572267918, 0.13680963572267918]\n",
      "[0.048877790834312575, 0.048877790834312575]\n",
      "[0.051057579318448884, 0.051057579318448884]\n"
     ]
    },
    {
     "name": "stderr",
     "output_type": "stream",
     "text": [
      "\n",
      "Choose one progress bar: 9it [1:21:33, 570.18s/it]\u001b[A"
     ]
    },
    {
     "name": "stdout",
     "output_type": "stream",
     "text": [
      "runtime for ind model:24.37327289581299 seconds\n",
      "Finish ind\n",
      "Starting all\n",
      "[0.07996670583627105, 0.07888562475518997, 0.07744026635330983, 0.08250881316098709, 0.08830591461026245, 0.08830395613004308, 0.09192322757540147, 0.09047786917352134, 0.09518018018018018, 0.0962671367019193, 0.09771249510379945, 0.0977066196631414, 0.09807089698394045, 0.10060125342734039, 0.10458088523305915, 0.10422640031335684, 0.10277516647081864, 0.10386016451233841, 0.10494712103407755, 0.10567175871523697, 0.10530943987465727, 0.10639639639639639, 0.10675871523697611, 0.10784567175871525, 0.10784567175871525]\n",
      "runtime for all model:1007.7462692260742 seconds\n",
      "Finish all\n",
      "Starting ind\n",
      "[0.135716803760282, 0.14006462984723853, 0.1346298472385429, 0.14440658049353702, 0.14222679200940072, 0.15959459459459457, 0.1508930669800235, 0.15088719153936545, 0.1508930669800235, 0.16175675675675674, 0.1585017626321974, 0.15740893066980025, 0.15742068155111633, 0.1595945945945946, 0.16611045828437132, 0.16719741480611044, 0.16611045828437135, 0.17045828437132787, 0.17045828437132787]\n",
      "[0.053178613396004694, 0.051010575793184486, 0.053184488836662755, 0.052097532314923624, 0.05318448883666275, 0.058619271445358404, 0.06188014101057578, 0.058625146886016444, 0.06295534665099882, 0.06186839012925969, 0.06295534665099882, 0.06296709753231491, 0.064048178613396, 0.07057579318448884, 0.07383666274970623, 0.07383666274970623]\n",
      "[0.051004700352526446, 0.04991774383078731, 0.0531786133960047, 0.05535252643948296, 0.05535252643948296]\n"
     ]
    },
    {
     "name": "stderr",
     "output_type": "stream",
     "text": [
      "\n",
      "Choose one progress bar: 10it [1:45:27, 632.73s/it]\u001b[A"
     ]
    },
    {
     "name": "stdout",
     "output_type": "stream",
     "text": [
      "runtime for ind model:426.3018248081207 seconds\n",
      "Finish ind\n",
      "MSE all: 0.7982422742559806\n",
      "MSE ind: 0\n",
      "for ind was chosen\n"
     ]
    },
    {
     "name": "stderr",
     "output_type": "stream",
     "text": [
      "\n"
     ]
    },
    {
     "name": "stdout",
     "output_type": "stream",
     "text": [
      "[0.26857006217120993, 0.13296030607364898, 0.13296030607364898]\n",
      "[0.04885222381635581, 0.04787183165949306, 0.045920612147297944, 0.04690100430416069, 0.046896221903395506, 0.04690100430416069, 0.049837398373983745, 0.0537350549976088, 0.05471066475370636, 0.056681013868962224, 0.057656623625059786, 0.057656623625059786]\n",
      "[0.051802965088474415, 0.051802965088474415]\n"
     ]
    },
    {
     "name": "stderr",
     "output_type": "stream",
     "text": [
      "CV progress bar: 5it [7:20:27, 5545.26s/it]"
     ]
    },
    {
     "name": "stdout",
     "output_type": "stream",
     "text": [
      "runtime for ind model:136.23646759986877 seconds\n",
      "runtime for choose one model:6463.579143285751 seconds\n",
      "starting choose one model\n"
     ]
    },
    {
     "name": "stderr",
     "output_type": "stream",
     "text": [
      "\n",
      "Choose one progress bar: 0it [00:00, ?it/s]\u001b[A"
     ]
    },
    {
     "name": "stdout",
     "output_type": "stream",
     "text": [
      "Starting all\n",
      "[0.07934782608695652, 0.0789855072463768, 0.0782608695652174, 0.07717391304347826, 0.07934782608695654, 0.08260869565217392, 0.08405797101449276, 0.08659420289855072, 0.08985507246376813, 0.09275362318840578, 0.09565217391304348, 0.09565217391304348]\n",
      "runtime for all model:299.15649914741516 seconds\n",
      "Finish all\n",
      "Starting ind\n",
      "[0.12608695652173912, 0.12608695652173912]\n",
      "[0.05434782608695652, 0.053260869565217396, 0.05, 0.05]\n",
      "[0.057608695652173914, 0.05869565217391305, 0.05869565217391305]\n"
     ]
    },
    {
     "name": "stderr",
     "output_type": "stream",
     "text": [
      "\n",
      "Choose one progress bar: 1it [05:34, 334.30s/it]\u001b[A"
     ]
    },
    {
     "name": "stdout",
     "output_type": "stream",
     "text": [
      "runtime for ind model:35.13937592506409 seconds\n",
      "Finish ind\n",
      "Starting all\n",
      "[0.08115942028985508, 0.08115942028985508]\n",
      "runtime for all model:18.652940034866333 seconds\n",
      "Finish all\n",
      "Starting ind\n",
      "[0.13478260869565217, 0.13478260869565217]\n",
      "[0.05217391304347826, 0.05217391304347826]\n",
      "[0.05652173913043479, 0.057608695652173914, 0.057608695652173914]\n"
     ]
    },
    {
     "name": "stderr",
     "output_type": "stream",
     "text": [
      "\n",
      "Choose one progress bar: 2it [06:17, 162.79s/it]\u001b[A"
     ]
    },
    {
     "name": "stdout",
     "output_type": "stream",
     "text": [
      "runtime for ind model:24.070558309555054 seconds\n",
      "Finish ind\n",
      "Starting all\n",
      "[0.07934782608695652, 0.07934782608695652]\n",
      "runtime for all model:18.66641616821289 seconds\n",
      "Finish all\n",
      "Starting ind\n",
      "[0.1315217391304348, 0.1315217391304348]\n",
      "[0.05434782608695652, 0.05434782608695652]\n",
      "[0.05217391304347826, 0.051086956521739134, 0.053260869565217396, 0.04891304347826087, 0.05, 0.04456521739130435, 0.04782608695652174, 0.0467391304347826, 0.0467391304347826]\n"
     ]
    },
    {
     "name": "stderr",
     "output_type": "stream",
     "text": [
      "\n",
      "Choose one progress bar: 3it [07:53, 132.64s/it]\u001b[A"
     ]
    },
    {
     "name": "stdout",
     "output_type": "stream",
     "text": [
      "runtime for ind model:78.09922170639038 seconds\n",
      "Finish ind\n",
      "Starting all\n",
      "[0.07674696435566, 0.07674696435566]\n",
      "runtime for all model:18.62714147567749 seconds\n",
      "Finish all\n",
      "Starting ind\n",
      "[0.12924206815511163, 0.12924206815511163]\n",
      "[0.04670387779083431, 0.04670387779083431]\n",
      "[0.05320799059929495, 0.06299059929494713, 0.06623971797884842, 0.06515276145710927, 0.0640716803760282, 0.0640716803760282]\n"
     ]
    },
    {
     "name": "stderr",
     "output_type": "stream",
     "text": [
      "\n",
      "Choose one progress bar: 4it [08:57, 105.44s/it]\u001b[A"
     ]
    },
    {
     "name": "stdout",
     "output_type": "stream",
     "text": [
      "runtime for ind model:45.106465578079224 seconds\n",
      "Finish ind\n",
      "Starting all\n",
      "[0.07563454759106933, 0.07563454759106933]\n",
      "runtime for all model:18.69240665435791 seconds\n",
      "Finish all\n",
      "Starting ind\n",
      "[0.12592831962397177, 0.12592831962397177]\n",
      "[0.0499529964747356, 0.0499529964747356]\n",
      "[0.05102232667450059, 0.05102232667450059]\n"
     ]
    },
    {
     "name": "stderr",
     "output_type": "stream",
     "text": [
      "\n",
      "Choose one progress bar: 5it [09:35, 81.17s/it] \u001b[A"
     ]
    },
    {
     "name": "stdout",
     "output_type": "stream",
     "text": [
      "runtime for ind model:19.442466497421265 seconds\n",
      "Finish ind\n",
      "Starting all\n",
      "[0.07779475127301214, 0.07671367019193107, 0.07671758715236977, 0.07744810027418722, 0.08034273403838621, 0.08106737171954563, 0.08613787700744222, 0.08649823736780259, 0.08432432432432432, 0.08577359968664316, 0.087222875048962, 0.08975714845280063, 0.09120250685468076, 0.09337446141793967, 0.09482373678025852, 0.0977222875048962, 0.09952800626713669, 0.09989032510771641, 0.1035135135135135, 0.10568742655699177, 0.10604974539757148, 0.10785546415981198, 0.10785546415981198]\n",
      "runtime for all model:872.5441408157349 seconds\n",
      "Finish all\n",
      "Starting ind\n",
      "[0.1313454759106933, 0.1313454759106933]\n",
      "[0.04668037602820212, 0.0445123384253819, 0.0445123384253819]\n",
      "[0.05427732079905993, 0.05427732079905993]\n"
     ]
    },
    {
     "name": "stderr",
     "output_type": "stream",
     "text": [
      "\n",
      "Choose one progress bar: 6it [24:32, 358.57s/it]\u001b[A"
     ]
    },
    {
     "name": "stdout",
     "output_type": "stream",
     "text": [
      "runtime for ind model:24.51230216026306 seconds\n",
      "Finish ind\n",
      "Starting all\n",
      "[0.07924206815511163, 0.07924206815511163]\n",
      "runtime for all model:18.652965784072876 seconds\n",
      "Finish all\n",
      "Starting ind\n",
      "[0.1907873090481786, 0.1907873090481786]\n",
      "[0.05101645123384254, 0.04992949471210341, 0.049935370152761456, 0.05102232667450059, 0.049935370152761456, 0.049935370152761456]\n",
      "[0.05754406580493536, 0.05971797884841362, 0.0586310223266745, 0.05971210340775558, 0.05971210340775558]\n"
     ]
    },
    {
     "name": "stderr",
     "output_type": "stream",
     "text": [
      "\n",
      "Choose one progress bar: 7it [25:54, 268.08s/it]\u001b[A"
     ]
    },
    {
     "name": "stdout",
     "output_type": "stream",
     "text": [
      "runtime for ind model:63.12265372276306 seconds\n",
      "Finish ind\n",
      "Starting all\n",
      "[0.07670779475127301, 0.07562083822953389, 0.07525851938895417, 0.07598511555033294, 0.07924010967489228, 0.08213866039952997, 0.07851938895417157, 0.07744026635330983, 0.07888954171562867, 0.08070309439874658, 0.08105757931844888, 0.08358989424206814, 0.08649236192714453, 0.08939287113200156, 0.09228750489620055, 0.09156286721504113, 0.09301018409714061, 0.09228554641598119, 0.09373678025851939, 0.09409322365844106, 0.09735409322365844, 0.09735409322365844]\n",
      "runtime for all model:821.6683034896851 seconds\n",
      "Finish all\n",
      "Starting ind\n",
      "[0.19076968272620448, 0.19076968272620448]\n",
      "[0.05319623971797884, 0.05210928319623972, 0.0499412455934195, 0.04342538190364278, 0.05211515863689777, 0.04885428907168038, 0.05210928319623972, 0.0531903642773208, 0.05645123384253818, 0.05427144535840188, 0.05535252643948296, 0.05861339600470035, 0.05861339600470035]\n",
      "[0.05102820211515864, 0.05102820211515864]\n"
     ]
    },
    {
     "name": "stderr",
     "output_type": "stream",
     "text": [
      "\n",
      "Choose one progress bar: 8it [41:49, 486.71s/it]\u001b[A"
     ]
    },
    {
     "name": "stdout",
     "output_type": "stream",
     "text": [
      "runtime for ind model:133.1421604156494 seconds\n",
      "Finish ind\n",
      "Starting all\n",
      "[0.08108303956130045, 0.07927144535840189, 0.07855464159811987, 0.08290050920485703, 0.08362514688601645, 0.08252839796318057, 0.08940658049353702, 0.08796318057187621, 0.09049353701527614, 0.09302976889933412, 0.08940266353309831, 0.0926635330983157, 0.09446925186055621, 0.09628280454367412, 0.0973678025851939, 0.09628476302389345, 0.0991696043869957, 0.10026047786917354, 0.10134743439091265, 0.10243243243243243, 0.10351938895417154, 0.10315707011359185, 0.10388170779475128, 0.10424402663533097, 0.10424402663533097]\n",
      "runtime for all model:1003.1708338260651 seconds\n",
      "Finish all\n",
      "Starting ind\n",
      "[0.1292126909518214, 0.1292126909518214]\n",
      "[0.056457109283196236, 0.053196239717978856, 0.05210928319623972, 0.05321974148061104, 0.058648648648648646, 0.06190364277320799, 0.0640716803760282, 0.06732667450058755, 0.06515863689776732, 0.06623384253819037, 0.06623384253819037]\n",
      "[0.057579318448883664, 0.0586662749706228, 0.06084018801410106, 0.06735605170387779, 0.06843713278495887, 0.06626321974148061, 0.06735605170387779, 0.06518801410105758, 0.06735605170387779, 0.06626909518213867, 0.06518801410105758, 0.06519388954171564, 0.06628672150411281, 0.07062279670975323, 0.07602820211515864, 0.07602820211515864]\n"
     ]
    },
    {
     "name": "stderr",
     "output_type": "stream",
     "text": [
      "\n",
      "Choose one progress bar: 9it [1:03:01, 732.40s/it]\u001b[A"
     ]
    },
    {
     "name": "stdout",
     "output_type": "stream",
     "text": [
      "runtime for ind model:269.47041630744934 seconds\n",
      "Finish ind\n",
      "Starting all\n",
      "[0.0781707794751273, 0.0781707794751273]\n",
      "runtime for all model:18.659860134124756 seconds\n",
      "Finish all\n",
      "Starting ind\n",
      "[0.1994888366627497, 0.1994888366627497]\n",
      "[0.052115158636897765, 0.052115158636897765]\n",
      "[0.052103407755581664, 0.054277320799059926, 0.05209165687426557, 0.05644535840188014, 0.05971210340775557, 0.05646298472385429, 0.05754994124559343, 0.05754994124559343]\n"
     ]
    },
    {
     "name": "stderr",
     "output_type": "stream",
     "text": [
      "\n",
      "Choose one progress bar: 10it [1:04:25, 386.59s/it]\u001b[A"
     ]
    },
    {
     "name": "stdout",
     "output_type": "stream",
     "text": [
      "runtime for ind model:65.27572321891785 seconds\n",
      "Finish ind\n",
      "MSE all: 0.7856780252554095\n",
      "MSE ind: 0\n",
      "for ind was chosen\n"
     ]
    },
    {
     "name": "stderr",
     "output_type": "stream",
     "text": [
      "\n"
     ]
    },
    {
     "name": "stdout",
     "output_type": "stream",
     "text": [
      "[0.1983165949306552, 0.13197513151602105, 0.13295074127211862, 0.133921568627451, 0.13686752749880443, 0.14174079387852703, 0.1397991391678623, 0.144701099952176, 0.15154471544715448, 0.15154949784791966, 0.1515399330463893, 0.157403156384505, 0.16131516021042563, 0.16229555236728838, 0.16229555236728838]\n",
      "[0.05373983739837398, 0.05080822572931611, 0.04787661406025825, 0.04887135341941655, 0.04593017694882832, 0.05082735533237685, 0.052783357245337156, 0.04887135341941655, 0.05083213773314203, 0.05181731229076997, 0.05181252989000479, 0.0537637494021999, 0.05474414155906264, 0.05474892395982785, 0.05670014347202296, 0.05670014347202296]\n",
      "[0.053782879005260645, 0.06355810616929698, 0.063558106169297]\n"
     ]
    },
    {
     "name": "stderr",
     "output_type": "stream",
     "text": [
      "CV progress bar: 6it [8:31:08, 5101.87s/it]"
     ]
    },
    {
     "name": "stdout",
     "output_type": "stream",
     "text": [
      "runtime for ind model:375.2470808029175 seconds\n",
      "runtime for choose one model:4241.162899255753 seconds\n",
      "starting choose one model\n"
     ]
    },
    {
     "name": "stderr",
     "output_type": "stream",
     "text": [
      "\n",
      "Choose one progress bar: 0it [00:00, ?it/s]\u001b[A"
     ]
    },
    {
     "name": "stdout",
     "output_type": "stream",
     "text": [
      "Starting all\n",
      "[0.07753623188405796, 0.07753623188405796]\n",
      "runtime for all model:18.59260082244873 seconds\n",
      "Finish all\n",
      "Starting ind\n",
      "[0.3141304347826087, 0.12934782608695652, 0.12934782608695652]\n",
      "[0.048913043478260865, 0.048913043478260865]\n",
      "[0.05326086956521738, 0.053260869565217396]\n"
     ]
    },
    {
     "name": "stderr",
     "output_type": "stream",
     "text": [
      "\n",
      "Choose one progress bar: 1it [00:43, 43.14s/it]\u001b[A"
     ]
    },
    {
     "name": "stdout",
     "output_type": "stream",
     "text": [
      "runtime for ind model:24.543845176696777 seconds\n",
      "Finish ind\n",
      "Starting all\n",
      "[0.08043478260869566, 0.08043478260869566]\n",
      "runtime for all model:18.589627981185913 seconds\n",
      "Finish all\n",
      "Starting ind\n",
      "[0.20217391304347826, 0.13478260869565215, 0.13478260869565215]\n",
      "[0.05, 0.048913043478260865, 0.05, 0.05]\n",
      "[0.057608695652173914, 0.057608695652173914]\n"
     ]
    },
    {
     "name": "stderr",
     "output_type": "stream",
     "text": [
      "\n",
      "Choose one progress bar: 2it [01:36, 49.38s/it]\u001b[A"
     ]
    },
    {
     "name": "stdout",
     "output_type": "stream",
     "text": [
      "runtime for ind model:35.155553102493286 seconds\n",
      "Finish ind\n",
      "Starting all\n",
      "[0.075, 0.075]\n",
      "runtime for all model:18.607266664505005 seconds\n",
      "Finish all\n",
      "Starting ind\n",
      "[0.12391304347826086, 0.12608695652173912, 0.12608695652173912]\n",
      "[0.04565217391304348, 0.04565217391304348]\n",
      "[0.05543478260869565, 0.05543478260869565]\n"
     ]
    },
    {
     "name": "stderr",
     "output_type": "stream",
     "text": [
      "\n",
      "Choose one progress bar: 3it [02:19, 46.41s/it]\u001b[A"
     ]
    },
    {
     "name": "stdout",
     "output_type": "stream",
     "text": [
      "runtime for ind model:24.265310287475586 seconds\n",
      "Finish ind\n",
      "Starting all\n",
      "[0.07817273795534666, 0.07817273795534666]\n",
      "runtime for all model:18.8149573802948 seconds\n",
      "Finish all\n",
      "Starting ind\n",
      "[0.20527027027027028, 0.1313572267920094, 0.1313572267920094]\n",
      "[0.05104582843713279, 0.05104582843713279]\n",
      "[0.05211515863689777, 0.06841950646298471, 0.0586310223266745, 0.059717978848413636, 0.057549941245593414, 0.05428907168037602, 0.05537602820211516, 0.05537602820211516]\n"
     ]
    },
    {
     "name": "stderr",
     "output_type": "stream",
     "text": [
      "\n",
      "Choose one progress bar: 4it [03:48, 63.06s/it]\u001b[A"
     ]
    },
    {
     "name": "stdout",
     "output_type": "stream",
     "text": [
      "runtime for ind model:69.75598287582397 seconds\n",
      "Finish ind\n",
      "Starting all\n",
      "[0.07598119858989424, 0.07598119858989424]\n",
      "runtime for all model:18.640840768814087 seconds\n",
      "Finish all\n",
      "Starting ind\n",
      "[0.18969447708578144, 0.12699177438307874, 0.1259048178613396, 0.130235017626322, 0.13132197414806113, 0.14434195064629848, 0.14542890716803758, 0.15520564042303175, 0.15300235017626324, 0.15412455934195066, 0.1475969447708578, 0.1606462984723854, 0.1584782608695652, 0.15521151586368978, 0.15521151586368975]\n",
      "[0.04668037602820212, 0.04668037602820212]\n",
      "[0.054277320799059926, 0.057544065804935374, 0.05428319623971798, 0.05537015276145711, 0.061891891891891884, 0.06623971797884842, 0.06515276145710927, 0.06190951821386603, 0.06299059929494713, 0.0640716803760282, 0.06515863689776732, 0.06298472385428906, 0.06623384253819035, 0.06732079905992949, 0.06840775558166863, 0.06840775558166863]\n"
     ]
    },
    {
     "name": "stderr",
     "output_type": "stream",
     "text": [
      "\n",
      "Choose one progress bar: 5it [09:41, 167.62s/it]\u001b[A"
     ]
    },
    {
     "name": "stdout",
     "output_type": "stream",
     "text": [
      "runtime for ind model:334.3842947483063 seconds\n",
      "Finish ind\n",
      "Starting all\n",
      "[0.07853505679592637, 0.07853505679592637]\n",
      "runtime for all model:18.634868144989014 seconds\n",
      "Finish all\n",
      "Starting ind\n",
      "[0.26834900117508814, 0.13356639247943597, 0.13464747356051704, 0.13465922444183315, 0.13356639247943597, 0.1368096357226792, 0.1324676850763807, 0.13898354876615746, 0.14115746180963573, 0.1454994124559342, 0.1509165687426557, 0.15636310223266742, 0.15853113983548767, 0.16288484136310222, 0.17158636897767332, 0.17484136310223267, 0.17592244418331376, 0.1770094007050529, 0.17917156286721503, 0.18133960047003525, 0.18460047003525265, 0.1835135135135135, 0.1835135135135135]\n",
      "[0.04774970622796709, 0.04774970622796709]\n",
      "[0.054289071680376035, 0.06944770857814336, 0.06837250293772033, 0.05972972972972973, 0.06298472385428908, 0.06188601645123385, 0.06296709753231493, 0.06296709753231493]\n"
     ]
    },
    {
     "name": "stderr",
     "output_type": "stream",
     "text": [
      "\n",
      "Choose one progress bar: 6it [16:22, 246.96s/it]\u001b[A"
     ]
    },
    {
     "name": "stdout",
     "output_type": "stream",
     "text": [
      "runtime for ind model:382.3212876319885 seconds\n",
      "Finish ind\n",
      "Starting all\n",
      "[0.08141010575793185, 0.08141010575793185]\n",
      "runtime for all model:18.64485478401184 seconds\n",
      "Finish all\n",
      "Starting ind\n",
      "[0.1367626321974148, 0.1367626321974148]\n",
      "[0.052103407755581664, 0.052103407755581664]\n",
      "[0.0564394829612221, 0.0564394829612221]\n"
     ]
    },
    {
     "name": "stderr",
     "output_type": "stream",
     "text": [
      "\n",
      "Choose one progress bar: 7it [17:00, 178.70s/it]\u001b[A"
     ]
    },
    {
     "name": "stdout",
     "output_type": "stream",
     "text": [
      "runtime for ind model:19.51761269569397 seconds\n",
      "Finish ind\n",
      "Starting all\n",
      "[0.07672346259302781, 0.07672346259302781]\n",
      "runtime for all model:18.597177267074585 seconds\n",
      "Finish all\n",
      "Starting ind\n",
      "[0.13353701527614573, 0.13353701527614573]\n",
      "[0.04777908343125735, 0.04777908343125735]\n",
      "[0.047773207990599295, 0.04885428907168037, 0.05101645123384254, 0.04884253819036428, 0.04775558166862515, 0.04775558166862515]\n"
     ]
    },
    {
     "name": "stderr",
     "output_type": "stream",
     "text": [
      "\n",
      "Choose one progress bar: 8it [18:05, 142.45s/it]\u001b[A"
     ]
    },
    {
     "name": "stdout",
     "output_type": "stream",
     "text": [
      "runtime for ind model:46.24578928947449 seconds\n",
      "Finish ind\n",
      "Starting all\n",
      "[0.07926948687818251, 0.07926948687818251]\n",
      "runtime for all model:18.61023449897766 seconds\n",
      "Finish all\n",
      "Starting ind\n",
      "[0.18866627497062277, 0.18866627497062277]\n",
      "[0.052138660399529954, 0.04997062279670975, 0.04670975323149236, 0.04887191539365453, 0.056480611045828445, 0.05538777908343127, 0.060822561692126895, 0.05756756756756757, 0.05756756756756757]\n",
      "[0.05430082256169213, 0.052126909518213874, 0.052126909518213874]\n"
     ]
    },
    {
     "name": "stderr",
     "output_type": "stream",
     "text": [
      "\n",
      "Choose one progress bar: 9it [19:45, 129.38s/it]\u001b[A"
     ]
    },
    {
     "name": "stdout",
     "output_type": "stream",
     "text": [
      "runtime for ind model:82.00978946685791 seconds\n",
      "Finish ind\n",
      "Starting all\n",
      "[0.07564433999216608, 0.0760066588327458, 0.07745593419506462, 0.07890520955738348, 0.07890129259694477, 0.08469839404622012, 0.08868390129259693, 0.09048962005483743, 0.09193106149627889, 0.0922816294555425, 0.09373286329808068, 0.0959048178613396, 0.09735017626321973, 0.10023305914610262, 0.10023697610654132, 0.0998746572659616, 0.0998746572659616]\n",
      "runtime for all model:535.4622809886932 seconds\n",
      "Finish all\n",
      "Starting ind\n",
      "[0.19945358401880142, 0.1259400705052879, 0.13028789659224443, 0.13246180963572268, 0.13572267920094006, 0.14550528789659226, 0.14550528789659226]\n",
      "[0.04779670975323149, 0.04779670975323149]\n",
      "[0.0531903642773208, 0.05427732079905993, 0.05102232667450059, 0.05536427732079906, 0.06079905992949471, 0.05971210340775559, 0.05862514688601646, 0.06079905992949471, 0.05971210340775558, 0.06514688601645124, 0.06514688601645124]\n"
     ]
    },
    {
     "name": "stderr",
     "output_type": "stream",
     "text": [
      "\n",
      "Choose one progress bar: 10it [31:00, 186.04s/it]\u001b[A"
     ]
    },
    {
     "name": "stdout",
     "output_type": "stream",
     "text": [
      "runtime for ind model:138.97047805786133 seconds\n",
      "Finish ind\n",
      "MSE all: 0.778697886921759\n",
      "MSE ind: 0\n",
      "for ind was chosen\n"
     ]
    },
    {
     "name": "stderr",
     "output_type": "stream",
     "text": [
      "\n"
     ]
    },
    {
     "name": "stdout",
     "output_type": "stream",
     "text": [
      "[0.19373027259684364, 0.13098517455762795, 0.13098517455762795]\n",
      "[0.10967957914873268, 0.04889526542324246, 0.05278813964610235, 0.05768053562888571, 0.05376853180296509, 0.04985652797704447, 0.04888091822094691, 0.04986131037780966, 0.05183165949306552, 0.05279770444763271, 0.049866092778574844, 0.0488857006217121, 0.0488857006217121]\n",
      "[0.05277857484457197, 0.05277857484457197]\n"
     ]
    },
    {
     "name": "stderr",
     "output_type": "stream",
     "text": [
      "CV progress bar: 7it [9:04:43, 4092.66s/it]"
     ]
    },
    {
     "name": "stdout",
     "output_type": "stream",
     "text": [
      "runtime for ind model:154.4721074104309 seconds\n",
      "runtime for choose one model:2014.8801794052124 seconds\n",
      "starting choose one model\n"
     ]
    },
    {
     "name": "stderr",
     "output_type": "stream",
     "text": [
      "\n",
      "Choose one progress bar: 0it [00:00, ?it/s]\u001b[A"
     ]
    },
    {
     "name": "stdout",
     "output_type": "stream",
     "text": [
      "Starting all\n",
      "[0.0774422248335292, 0.07526831179005092, 0.07563063063063064, 0.07671562867215041, 0.08178809244026634, 0.08358206032119075, 0.08575989032510771, 0.08866039952996474, 0.08395025460242853, 0.08468468468468468, 0.08432628280454367, 0.08613396004700354, 0.08576968272620447, 0.08794163728946339, 0.08793967880924403, 0.0901135918527223, 0.09156678417547984, 0.09265178221699961, 0.09410105757931844, 0.09446337641989815, 0.09482569526047788, 0.09518801410105757, 0.09446337641989816, 0.095912651782217, 0.095912651782217]\n",
      "runtime for all model:1029.1745455265045 seconds\n",
      "Finish all\n",
      "Starting ind\n",
      "[0.1281081081081081, 0.12702115158636898, 0.13137485311398353, 0.1367978848413631, 0.13897767332549943, 0.14223854289071683, 0.14984136310223267, 0.15092831962397182, 0.1574500587544066, 0.16071092831962397, 0.15962397179788484, 0.16179200940070504, 0.169400705052879, 0.17265569917743834, 0.17482961222091659, 0.17700352526439483, 0.1780846063454759, 0.1813454759106933, 0.18351938895417158, 0.18243243243243243, 0.18243243243243243]\n",
      "[0.053213866039953, 0.051039952996474736, 0.051039952996474736]\n",
      "[0.052085781433607516, 0.05099882491186839, 0.05316098707403055, 0.054247943595769677, 0.056421856639247946, 0.054259694477085785, 0.05534665099882492, 0.057514688601645124, 0.057514688601645124]\n"
     ]
    },
    {
     "name": "stderr",
     "output_type": "stream",
     "text": [
      "\n",
      "Choose one progress bar: 1it [22:56, 1376.93s/it]\u001b[A"
     ]
    },
    {
     "name": "stdout",
     "output_type": "stream",
     "text": [
      "runtime for ind model:347.75686478614807 seconds\n",
      "Finish ind\n",
      "Starting all\n",
      "[0.08107520564042303, 0.08071288679984333, 0.07998824911868391, 0.08071092831962398, 0.0796220133176655, 0.08324324324324325, 0.08433411672542107, 0.08759106933019976, 0.08360360360360361, 0.08505287896592244, 0.0850548374461418, 0.08939287113200158, 0.09047395221308265, 0.09156678417547982, 0.0912044653349001, 0.09338425381903644, 0.09302389345867608, 0.09518997258127693, 0.09483352918135526, 0.09663924794359577, 0.09844888366627498, 0.09917352134743439, 0.10026047786917351, 0.10134351743047394, 0.10206815511163336, 0.10206815511163336]\n",
      "runtime for all model:1088.7128055095673 seconds\n",
      "Finish all\n",
      "Starting ind\n",
      "[0.2042244418331375, 0.13248531139835487, 0.13247943595769682, 0.13572267920094006, 0.14224441833137486, 0.14875440658049352, 0.14874265569917747, 0.14440070505287897, 0.15198002350176262, 0.14984136310223267, 0.1563337250293772, 0.15525264394829613, 0.15742655699177438, 0.1639189189189189, 0.16283783783783784, 0.1617508813160987, 0.1671797884841363, 0.17478848413631023, 0.17587544065804936, 0.1758813160987074, 0.1758813160987074]\n",
      "[0.1249412455934195, 0.059723854289071676, 0.06298472385428908, 0.05972972972972973, 0.053207990599294944, 0.057549941245593414, 0.05646298472385428, 0.05755581668625147, 0.05755581668625147]\n",
      "[0.05753231492361928, 0.055358401880141, 0.052103407755581664, 0.04884253819036428, 0.05427144535840188, 0.05427732079905993, 0.05536427732079906, 0.0531903642773208, 0.054277320799059926, 0.0531903642773208, 0.05427732079905993, 0.05971210340775558, 0.05971210340775558]\n"
     ]
    },
    {
     "name": "stderr",
     "output_type": "stream",
     "text": [
      "\n",
      "Choose one progress bar: 2it [48:43, 1476.47s/it]\u001b[A"
     ]
    },
    {
     "name": "stdout",
     "output_type": "stream",
     "text": [
      "runtime for ind model:457.4209599494934 seconds\n",
      "Finish ind\n",
      "Starting all\n",
      "[0.0745593419506463, 0.07420289855072464, 0.07818840579710146, 0.07529181355268312, 0.07891108499804152, 0.08035252643948296, 0.08469447708578144, 0.08650019584802195, 0.08613983548766158, 0.08505875440658048, 0.08759498629063847, 0.08577751664708186, 0.08976302389345867, 0.08940070505287896, 0.09266157461809635, 0.09447316882099491, 0.09338425381903644, 0.09519584802193497, 0.0962828045436741, 0.09664512338425382, 0.09592048570309439, 0.09664512338425382, 0.09736584410497454, 0.09808852330591461, 0.09917939678809244, 0.09917939678809244]\n",
      "runtime for all model:1078.4436185359955 seconds\n",
      "Finish all\n",
      "Starting ind\n",
      "[0.20096357226792008, 0.20096357226792008]\n",
      "[0.05316686251468859, 0.052085781433607516, 0.05317273795534665, 0.052085781433607516, 0.057514688601645124, 0.057514688601645124]\n",
      "[0.05646298472385429, 0.05322561692126909, 0.054289071680376035, 0.0499647473560517, 0.05105170387779083, 0.051045828437132776, 0.05321974148061104, 0.05648061104582843, 0.05648061104582843]\n"
     ]
    },
    {
     "name": "stderr",
     "output_type": "stream",
     "text": [
      "\n",
      "Choose one progress bar: 3it [1:08:24, 1341.84s/it]\u001b[A"
     ]
    },
    {
     "name": "stdout",
     "output_type": "stream",
     "text": [
      "runtime for ind model:103.19680261611938 seconds\n",
      "Finish ind\n",
      "Starting all\n",
      "[0.0745593419506463, 0.07238542890716804, 0.07021151586368977, 0.07129651390520955, 0.07383274578926753, 0.07599294947121034, 0.0763572267920094, 0.0778045436741089, 0.0785213474343909, 0.07996866431649041, 0.07924402663533099, 0.07888170779475127, 0.08249706227967098, 0.08429886408147277, 0.08430473952213083, 0.08539169604386995, 0.0893791617704661, 0.08974148061104582, 0.09010379945162553, 0.09046611829220524, 0.09191539365452409, 0.09372698785742264, 0.094087348217783, 0.09553662358010184, 0.09517430473952214, 0.09481198589894242, 0.09553662358010184, 0.09481198589894244, 0.09481198589894244]\n",
      "runtime for all model:1290.799256324768 seconds\n",
      "Finish all\n",
      "Starting ind\n",
      "[0.28099294947121034, 0.12596944770857815, 0.12705640423031728, 0.13683901292596945, 0.13792009400705052, 0.14441245593419508, 0.14442420681551116, 0.14548766157461812, 0.1487132784958872, 0.15631609870740307, 0.15305522914218567, 0.15957696827262044, 0.15631609870740307, 0.1574030552291422, 0.16175088131609872, 0.16390716803760283, 0.1639071680376028]\n",
      "[0.05101645123384254, 0.04884253819036428, 0.04775558166862515, 0.0531786133960047, 0.05534665099882491, 0.05534665099882491]\n",
      "[0.04669212690951822, 0.04560517038777908, 0.05103407755581668, 0.04668625146886017, 0.04994124559341951, 0.05429494712103409, 0.056468860164512344, 0.05538190364277321, 0.05538190364277321]\n"
     ]
    },
    {
     "name": "stderr",
     "output_type": "stream",
     "text": [
      "\n",
      "Choose one progress bar: 4it [1:34:43, 1435.39s/it]\u001b[A"
     ]
    },
    {
     "name": "stdout",
     "output_type": "stream",
     "text": [
      "runtime for ind model:287.9911558628082 seconds\n",
      "Finish ind\n",
      "Starting all\n",
      "[0.07882295338817077, 0.07882295338817077]\n",
      "runtime for all model:18.685336112976074 seconds\n",
      "Finish all\n",
      "Starting ind\n",
      "[0.126903642773208, 0.126903642773208]\n",
      "[0.0564042303172738, 0.05531727379553466, 0.05532314923619271, 0.05641598119858989, 0.05749118683901292, 0.05966509988249118, 0.05966509988249118]\n",
      "[0.05099294947121034, 0.05099294947121034]\n"
     ]
    },
    {
     "name": "stderr",
     "output_type": "stream",
     "text": [
      "\n",
      "Choose one progress bar: 5it [1:35:56, 944.26s/it] \u001b[A"
     ]
    },
    {
     "name": "stdout",
     "output_type": "stream",
     "text": [
      "runtime for ind model:54.76092028617859 seconds\n",
      "Finish ind\n",
      "Starting all\n",
      "[0.07952604778691735, 0.07952604778691735]\n",
      "runtime for all model:18.682501077651978 seconds\n",
      "Finish all\n",
      "Starting ind\n",
      "[0.13120446533490013, 0.13120446533490013]\n",
      "[0.05749118683901293, 0.05531727379553467, 0.05531727379553466]\n",
      "[0.04988249118683901, 0.0509635722679201, 0.0531316098707403, 0.04988249118683901, 0.054230317273795535, 0.05096944770857814, 0.04988249118683901, 0.04988249118683901]\n"
     ]
    },
    {
     "name": "stderr",
     "output_type": "stream",
     "text": [
      "\n",
      "Choose one progress bar: 6it [1:37:25, 653.44s/it]\u001b[A"
     ]
    },
    {
     "name": "stdout",
     "output_type": "stream",
     "text": [
      "runtime for ind model:70.21561241149902 seconds\n",
      "Finish ind\n",
      "Starting all\n",
      "[0.0777262044653349, 0.07663924794359578, 0.08061692126909518, 0.0780806893850372, 0.08061887974931452, 0.08532510771641207, 0.08568155111633372, 0.08748139443791617, 0.08748139443791617]\n",
      "runtime for all model:183.17815923690796 seconds\n",
      "Finish all\n",
      "Starting ind\n",
      "[0.129048178613396, 0.129048178613396]\n",
      "[0.05423619271445359, 0.05314923619271446, 0.05532314923619271, 0.05532314923619271]\n",
      "[0.05420681551116334, 0.05638660399529964, 0.054212690951821386, 0.054212690951821386]\n"
     ]
    },
    {
     "name": "stderr",
     "output_type": "stream",
     "text": [
      "\n",
      "Choose one progress bar: 7it [1:41:09, 513.04s/it]\u001b[A"
     ]
    },
    {
     "name": "stdout",
     "output_type": "stream",
     "text": [
      "runtime for ind model:40.80609893798828 seconds\n",
      "Finish ind\n",
      "Starting all\n",
      "[0.07556012534273404, 0.0744731688209949, 0.07194085389737563, 0.07482765374069722, 0.0744653349001175, 0.07662553858206031, 0.07700156678417547, 0.07916764590677634, 0.08132393262828046, 0.08024285154719937, 0.08241284763023894, 0.08784763023893458, 0.08821190755973364, 0.0867626321974148, 0.08784567175871523, 0.08857226792009401, 0.09038190364277321, 0.09218958088523306, 0.09146886016451233, 0.0918331374853114, 0.09255189972581276, 0.09291617704661184, 0.09291617704661184]\n",
      "runtime for all model:890.1337282657623 seconds\n",
      "Finish all\n",
      "Starting ind\n",
      "[0.26387779083431256, 0.18887779083431258, 0.18779083431257343, 0.12692126909518214, 0.1312514688601645, 0.1377497062279671, 0.1399177438307873, 0.1464159811985899, 0.14858989424206817, 0.15183313748531138, 0.15942420681551117, 0.1561633372502938, 0.16484136310223269, 0.15836075205640424, 0.1616216216216216, 0.17353113983548768, 0.16595182138660397, 0.16811398354876617, 0.1681081081081081, 0.16918918918918918, 0.16810223266745006, 0.17353113983548768, 0.176786133960047, 0.17787309048178615, 0.176786133960047, 0.18004112808460634, 0.18004112808460634]\n",
      "[0.05206227967097532, 0.050975323149236196, 0.048801410105757934, 0.048801410105757934]\n",
      "[0.04660987074030552, 0.047696827262044654, 0.04227379553466511, 0.0455111633372503, 0.046603995299647476, 0.05204465334900117, 0.05310810810810811, 0.05310810810810811]\n"
     ]
    },
    {
     "name": "stderr",
     "output_type": "stream",
     "text": [
      "\n",
      "Choose one progress bar: 8it [2:04:12, 789.75s/it]\u001b[A"
     ]
    },
    {
     "name": "stdout",
     "output_type": "stream",
     "text": [
      "runtime for ind model:492.0991761684418 seconds\n",
      "Finish ind\n",
      "Starting all\n",
      "[0.07556012534273404, 0.07556012534273404]\n",
      "runtime for all model:18.630634307861328 seconds\n",
      "Finish all\n",
      "Starting ind\n",
      "[0.28840188014101054, 0.20407755581668624, 0.2062514688601645, 0.13886016451233846, 0.14534077555816688, 0.14535252643948296, 0.15184488836662752, 0.1529318448883666, 0.1637720329024677, 0.16813748531139838, 0.17247943595769683, 0.17899529964747357, 0.1866039952996475, 0.1844300822561692, 0.18767332549941246, 0.18876028202115158, 0.1995945945945946, 0.19309048178613394, 0.19525264394829614, 0.19525851938895417, 0.19417743830787307, 0.193096357226792, 0.19201527614571093, 0.18985311398354873, 0.19201527614571093, 0.193096357226792, 0.193096357226792]\n",
      "[0.05098707403055229, 0.05098707403055229]\n",
      "[0.05529964747356051, 0.05529964747356051]\n"
     ]
    },
    {
     "name": "stderr",
     "output_type": "stream",
     "text": [
      "\n",
      "Choose one progress bar: 9it [2:11:36, 681.76s/it]\u001b[A"
     ]
    },
    {
     "name": "stdout",
     "output_type": "stream",
     "text": [
      "runtime for ind model:425.6680545806885 seconds\n",
      "Finish ind\n",
      "Starting all\n",
      "[0.12119858989424208, 0.07916960438699569, 0.08061104582843713, 0.083135526831179, 0.08241284763023894, 0.08132784958871916, 0.08277908343125735, 0.07698785742264003, 0.08061300430865648, 0.08241088915001958, 0.08205640423031726, 0.08458871915393655, 0.08386016451233844, 0.08639052095573835, 0.08856639247943596, 0.09073051312181749, 0.09289855072463768, 0.09398354876615746, 0.09614962788875833, 0.09831766549157853, 0.0990364277320799, 0.10047591069330201, 0.10120054837446142, 0.10120054837446142]\n",
      "runtime for all model:974.2582755088806 seconds\n",
      "Finish all\n",
      "Starting ind\n",
      "[0.1301527614571093, 0.1301527614571093]\n",
      "[0.11293184488836663, 0.05641010575793185, 0.05641010575793185]\n",
      "[0.05744418331374853, 0.06284958871915394, 0.055276145710928315, 0.05636310223266745, 0.06288484136310224, 0.05528789659224442, 0.05420681551116334, 0.05962984723854289, 0.053113983548766154, 0.05528789659224442, 0.054200940070505285, 0.05528789659224442, 0.05528789659224442]\n"
     ]
    },
    {
     "name": "stderr",
     "output_type": "stream",
     "text": [
      "\n",
      "Choose one progress bar: 10it [2:30:11, 901.18s/it]\u001b[A"
     ]
    },
    {
     "name": "stdout",
     "output_type": "stream",
     "text": [
      "runtime for ind model:141.13034892082214 seconds\n",
      "Finish ind\n",
      "MSE all: 0.7746684434291515\n",
      "MSE ind: 0\n",
      "for ind was chosen\n"
     ]
    },
    {
     "name": "stderr",
     "output_type": "stream",
     "text": [
      "\n"
     ]
    },
    {
     "name": "stdout",
     "output_type": "stream",
     "text": [
      "[0.2703395504543281, 0.12692491630798658, 0.1288761358201817, 0.13570540411286464, 0.13472979435676707, 0.14645624103299856, 0.1484074605451937, 0.14742706838833095, 0.14938785270205643, 0.14842180774748923, 0.15136298421807748, 0.15915829746532761, 0.16111429937828792, 0.16601147776183645, 0.16697752271640365, 0.16893352462936395, 0.17088474414155908, 0.17771879483500716, 0.17772835963653755, 0.18455762792922048, 0.18553323768531804, 0.18846006695361073, 0.19041128646580585, 0.1913916786226686, 0.1913916786226686]\n",
      "[0.05369679579148732, 0.052721186035389764, 0.05174079387852702, 0.056623625059780004, 0.05564801530368244, 0.05956480153036825, 0.06347680535628886, 0.06347680535628886]\n",
      "[0.05079387852702057, 0.06153036824485891, 0.05860353897656624, 0.057627929220468666, 0.05274031563845051, 0.054696317551410814, 0.05664753706360594, 0.055671927307508376, 0.055671927307508376]\n"
     ]
    },
    {
     "name": "stderr",
     "output_type": "stream",
     "text": [
      "CV progress bar: 8it [11:43:49, 5828.73s/it]"
     ]
    },
    {
     "name": "stdout",
     "output_type": "stream",
     "text": [
      "runtime for ind model:534.1685311794281 seconds\n",
      "runtime for choose one model:9545.953236341476 seconds\n",
      "starting choose one model\n"
     ]
    },
    {
     "name": "stderr",
     "output_type": "stream",
     "text": [
      "\n",
      "Choose one progress bar: 0it [00:00, ?it/s]\u001b[A"
     ]
    },
    {
     "name": "stdout",
     "output_type": "stream",
     "text": [
      "Starting all\n",
      "[0.0778319623971798, 0.07710732471602037, 0.0785566000783392, 0.08252448100274187, 0.0832491186839013, 0.08505679592636115, 0.08795338817077948, 0.08867019193106149, 0.09084410497453975, 0.09157265961613788, 0.09664120642381513, 0.0970054837446142, 0.0991774383078731, 0.0970054837446142, 0.09773403838621228, 0.10027027027027027, 0.09990795142969054, 0.10243830787309047, 0.10388758323540932, 0.10388758323540932]\n",
      "runtime for all model:707.70982670784 seconds\n",
      "Finish all\n",
      "Starting ind\n",
      "[0.19769682726204466, 0.13574030552291422, 0.14008813160987074, 0.1390011750881316, 0.1487485311398355, 0.14443595769682727, 0.15313160987074032, 0.15529377203290246, 0.15745593419506462, 0.16941245593419507, 0.17701527614571094, 0.17376615746180965, 0.17919506462984724, 0.18897767332549942, 0.1835487661574618, 0.19006462984723854, 0.1922444183313749, 0.19115746180963572, 0.19550528789659222, 0.1976792009400705, 0.1976792009400705]\n",
      "[0.04670975323149236, 0.04670975323149236]\n",
      "[0.04995887191539365, 0.04995887191539365]\n"
     ]
    },
    {
     "name": "stderr",
     "output_type": "stream",
     "text": [
      "\n",
      "Choose one progress bar: 1it [16:31, 991.45s/it]\u001b[A"
     ]
    },
    {
     "name": "stdout",
     "output_type": "stream",
     "text": [
      "runtime for ind model:283.7388138771057 seconds\n",
      "Finish ind\n",
      "Starting all\n",
      "[0.07455542499020759, 0.07346846846846847, 0.07346650998824912, 0.07527614571092832, 0.07925381903642773, 0.08287504896200548, 0.08432432432432432, 0.08504896200548376, 0.09083235409322366, 0.0872150411280846, 0.09048570309439874, 0.0922972972972973, 0.09157070113591853, 0.095912651782217, 0.09518997258127693, 0.09772620446533489, 0.09989815902859381, 0.10315902859381121, 0.10605170387779084, 0.10677634155895026, 0.10858401880141008, 0.10822561692126909, 0.11003721112416764, 0.11148648648648649, 0.11112416764590678, 0.11148648648648649, 0.11257344300822561, 0.11257344300822561]\n",
      "runtime for all model:1214.0547835826874 seconds\n",
      "Finish all\n",
      "Starting ind\n",
      "[0.13028202115158635, 0.13352526439482962, 0.12919506462984723, 0.12919506462984723]\n",
      "[0.04451821386603995, 0.04451821386603995]\n",
      "[0.04886603995299647, 0.04886603995299647]\n"
     ]
    },
    {
     "name": "stderr",
     "output_type": "stream",
     "text": [
      "\n",
      "Choose one progress bar: 2it [37:16, 1140.35s/it]\u001b[A"
     ]
    },
    {
     "name": "stdout",
     "output_type": "stream",
     "text": [
      "runtime for ind model:30.529460906982422 seconds\n",
      "Finish ind\n",
      "Starting all\n",
      "[0.07383862122992559, 0.07383862122992559]\n",
      "runtime for all model:18.624584197998047 seconds\n",
      "Finish all\n",
      "Starting ind\n",
      "[0.12160399529964747, 0.12160399529964747]\n",
      "[0.04452996474735606, 0.04452996474735606]\n",
      "[0.0553819036427732, 0.05430082256169212, 0.05646298472385429, 0.054294947121034075, 0.05646298472385429, 0.05972385428907169, 0.061897767332549945, 0.060810810810810814, 0.06624559341950646, 0.06841950646298471, 0.06733254994124559, 0.07168037602820213, 0.07276733254994125, 0.07276733254994125]\n"
     ]
    },
    {
     "name": "stderr",
     "output_type": "stream",
     "text": [
      "\n",
      "Choose one progress bar: 3it [40:05, 696.90s/it] \u001b[A"
     ]
    },
    {
     "name": "stdout",
     "output_type": "stream",
     "text": [
      "runtime for ind model:150.556804895401 seconds\n",
      "Finish ind\n",
      "Starting all\n",
      "[0.07527027027027026, 0.07599099099099099, 0.07598315707011358, 0.07562279670975322, 0.07888170779475127, 0.07779670975323148, 0.07670975323149236, 0.0781590285938112, 0.08069526047786917, 0.08395808852330591, 0.0890285938112025, 0.08793772032902468, 0.09119663141402272, 0.09626517822169996, 0.10060908734821779, 0.10060908734821779]\n",
      "runtime for all model:488.1074810028076 seconds\n",
      "Finish all\n",
      "Starting ind\n",
      "[0.1983783783783784, 0.13027614571092833, 0.12918331374853112, 0.13787896592244417, 0.13570505287896592, 0.1378437132784959, 0.14110458284371327, 0.14111045828437135, 0.14763807285546415, 0.1476439482961222, 0.1443830787309048, 0.14979435957696827, 0.1519623971797885, 0.15741480611045827, 0.16067567567567567, 0.16285546415981197, 0.16502937720329025, 0.17045828437132787, 0.17045828437132787]\n",
      "[0.04777908343125735, 0.04777908343125735]\n",
      "[0.048842538190364285, 0.048842538190364285]\n"
     ]
    },
    {
     "name": "stderr",
     "output_type": "stream",
     "text": [
      "\n",
      "Choose one progress bar: 4it [52:18, 711.10s/it]\u001b[A"
     ]
    },
    {
     "name": "stdout",
     "output_type": "stream",
     "text": [
      "runtime for ind model:244.75961232185364 seconds\n",
      "Finish ind\n",
      "Starting all\n",
      "[0.0773756365060713, 0.0762945554249902, 0.07918135526831178, 0.07738151194672933, 0.0799138268703486, 0.08316882099490794, 0.08497845671758715, 0.0918566392479436, 0.0904014884449667, 0.08860752056404231, 0.0904093223658441, 0.0918488053270662, 0.099087348217783, 0.1027066196631414, 0.10559929494712103, 0.10704073638856249, 0.10776341558950256, 0.10993928711320015, 0.10848609479044262, 0.10921269095182137, 0.10957305131218176, 0.11065609087348219, 0.1117391304347826, 0.11210144927536232, 0.11174108891500197, 0.11246180963572268, 0.11246376811594203, 0.11246180963572268, 0.11282412847630238, 0.11282412847630238]\n",
      "runtime for all model:1344.1815576553345 seconds\n",
      "Finish all\n",
      "Starting ind\n",
      "[0.20620446533490014, 0.12576968272620448, 0.12576380728554643, 0.12685076380728555, 0.12685076380728555]\n",
      "[0.052115158636897765, 0.04886016451233842, 0.047773207990599295, 0.05101645123384254, 0.052097532314923624, 0.049935370152761456, 0.049935370152761456]\n",
      "[0.05532902467685077, 0.06185076380728555, 0.06293772032902469, 0.06076380728554641, 0.0586075205640423, 0.06294359576968273, 0.0618566392479436, 0.06186251468860164, 0.059688601645123386, 0.059688601645123386]\n"
     ]
    },
    {
     "name": "stderr",
     "output_type": "stream",
     "text": [
      "\n",
      "Choose one progress bar: 5it [1:17:05, 991.01s/it]\u001b[A"
     ]
    },
    {
     "name": "stdout",
     "output_type": "stream",
     "text": [
      "runtime for ind model:143.13747596740723 seconds\n",
      "Finish ind\n",
      "Starting all\n",
      "[0.12154524089306698, 0.07879161770466118, 0.07987661574618095, 0.08492949471210341, 0.0917978848413631, 0.09034077555816686, 0.0899764982373678, 0.0954132393262828, 0.09613396004700352, 0.09648844496670583, 0.10009988249118684, 0.09974148061104582, 0.10407951429690558, 0.10407755581668625, 0.10697610654132395, 0.10877790834312576, 0.10661770466118292, 0.10877399138268704, 0.10876615746180965, 0.1094927536231884, 0.11021739130434782, 0.10769291030160595, 0.10913631022326675, 0.10913826870348611, 0.11058754406580493, 0.11131218174696436, 0.11167450058754406, 0.11203681942812378, 0.11239913826870349, 0.11239913826870349]\n",
      "runtime for all model:1348.902261018753 seconds\n",
      "Finish all\n",
      "Starting ind\n",
      "[0.26272032902467685, 0.1322855464159812, 0.1322855464159812]\n",
      "[0.10750293772032904, 0.04662749706227967, 0.04446533490011751, 0.04447121034077556, 0.04555816686251469, 0.0477262044653349, 0.05098707403055229, 0.0531551116333725, 0.05423619271445359, 0.054242068155111636, 0.05747943595769682, 0.05856051703877792, 0.0618213866039953, 0.05856639247943596, 0.05856639247943596]\n",
      "[0.05636897767332551, 0.05854289071680376, 0.05854876615746181, 0.05962984723854289, 0.057461809635722685, 0.057461809635722685]\n"
     ]
    },
    {
     "name": "stderr",
     "output_type": "stream",
     "text": [
      "\n",
      "Choose one progress bar: 6it [1:42:52, 1180.09s/it]\u001b[A"
     ]
    },
    {
     "name": "stdout",
     "output_type": "stream",
     "text": [
      "runtime for ind model:198.2246401309967 seconds\n",
      "Finish ind\n",
      "Starting all\n",
      "[0.07628280454367412, 0.07520172346259303, 0.07519584802193499, 0.07628084606345477, 0.07628084606345477]\n",
      "runtime for all model:70.84933543205261 seconds\n",
      "Finish all\n",
      "Starting ind\n",
      "[0.12578143360752056, 0.12578143360752056]\n",
      "[0.04881316098707403, 0.047732079905992944, 0.049888366627497065, 0.048801410105757934, 0.05097532314923618, 0.05314923619271446, 0.04881316098707403, 0.05207403055229143, 0.049900117508813166, 0.05314923619271446, 0.05314336075205641, 0.055323149236192706, 0.05314923619271446, 0.05531727379553466, 0.05639835487661575, 0.05639835487661575]\n",
      "[0.055334900117508815, 0.055334900117508815]\n"
     ]
    },
    {
     "name": "stderr",
     "output_type": "stream",
     "text": [
      "\n",
      "Choose one progress bar: 7it [1:47:08, 878.11s/it] \u001b[A"
     ]
    },
    {
     "name": "stdout",
     "output_type": "stream",
     "text": [
      "runtime for ind model:185.528573513031 seconds\n",
      "Finish ind\n",
      "Starting all\n",
      "[0.07412455934195064, 0.07412455934195064]\n",
      "runtime for all model:18.64904022216797 seconds\n",
      "Finish all\n",
      "Starting ind\n",
      "[0.263448883666275, 0.12253231492361927, 0.12253231492361927]\n",
      "[0.04665687426556992, 0.04665687426556992]\n",
      "[0.05427144535840188, 0.05427144535840188]\n"
     ]
    },
    {
     "name": "stderr",
     "output_type": "stream",
     "text": [
      "\n",
      "Choose one progress bar: 8it [1:47:51, 612.26s/it]\u001b[A"
     ]
    },
    {
     "name": "stdout",
     "output_type": "stream",
     "text": [
      "runtime for ind model:24.38901448249817 seconds\n",
      "Finish ind\n",
      "Starting all\n",
      "[0.07917547982765374, 0.07808852330591462, 0.07881120250685468, 0.08062279670975322, 0.08278495887191539, 0.08603016059537798, 0.09110262436349394, 0.08892675283979631, 0.09362122992557775, 0.09941245593419507, 0.10410105757931845, 0.10555620838229536, 0.10554837446141793, 0.1080846063454759, 0.10772228750489621, 0.11025264394829612, 0.11170191931061497, 0.11169408538973755, 0.10988249118683899, 0.1120544457500979, 0.11350372111241676, 0.11241676459067762, 0.1145906776341559, 0.11494907951429689, 0.11603603603603603, 0.11531139835487661, 0.11603603603603603, 0.11603603603603603]\n",
      "runtime for all model:1236.2492501735687 seconds\n",
      "Finish all\n",
      "Starting ind\n",
      "[0.1312044653349001, 0.13336662749706227, 0.13337250293772035, 0.13229142185663925, 0.1322855464159812, 0.1355346650998825, 0.13878965922444184, 0.14965922444183313, 0.14965334900117508, 0.15292009400705053, 0.16700940070505288, 0.17025851938895414, 0.1680669800235018, 0.17025851938895417, 0.18979435957696827, 0.1941304347826087, 0.18760869565217392, 0.19302585193889543, 0.19302585193889543]\n",
      "[0.04883666274970623, 0.04774970622796709, 0.04666862514688601, 0.04774383078730905, 0.04990599294947121, 0.05098707403055229, 0.05207990599294947, 0.05748531139835489, 0.05531727379553467, 0.05749706227967098, 0.05532902467685077, 0.057485311398354874, 0.057485311398354874]\n",
      "[0.057485311398354874, 0.057485311398354874]\n"
     ]
    },
    {
     "name": "stderr",
     "output_type": "stream",
     "text": [
      "\n",
      "Choose one progress bar: 9it [2:14:26, 919.26s/it]\u001b[A"
     ]
    },
    {
     "name": "stdout",
     "output_type": "stream",
     "text": [
      "runtime for ind model:358.03742694854736 seconds\n",
      "Finish ind\n",
      "Starting all\n",
      "[0.07557383470426948, 0.07557383470426948]\n",
      "runtime for all model:18.651889085769653 seconds\n",
      "Finish all\n",
      "Starting ind\n",
      "[0.12584018801410107, 0.12584018801410107]\n",
      "[0.045564042303172736, 0.045564042303172736]\n",
      "[0.0564042303172738, 0.05531727379553466, 0.05531139835487662, 0.05423619271445359, 0.05531139835487662, 0.05314336075205641, 0.052050528789659226, 0.05203290246768507, 0.053113983548766154, 0.053113983548766154]\n"
     ]
    },
    {
     "name": "stderr",
     "output_type": "stream",
     "text": [
      "\n",
      "Choose one progress bar: 10it [2:16:15, 817.59s/it]\u001b[A"
     ]
    },
    {
     "name": "stdout",
     "output_type": "stream",
     "text": [
      "runtime for ind model:90.97908735275269 seconds\n",
      "Finish ind\n",
      "MSE all: 0.7647058823529412\n",
      "MSE ind: 0\n",
      "for ind was chosen\n"
     ]
    },
    {
     "name": "stderr",
     "output_type": "stream",
     "text": [
      "\n"
     ]
    },
    {
     "name": "stdout",
     "output_type": "stream",
     "text": [
      "[0.12793878527020563, 0.12793878527020563]\n",
      "[0.11353897656623624, 0.046877092300334766, 0.046877092300334766]\n",
      "[0.05468197034911526, 0.05468197034911526]\n"
     ]
    },
    {
     "name": "stderr",
     "output_type": "stream",
     "text": [
      "CV progress bar: 9it [14:00:32, 6570.97s/it]"
     ]
    },
    {
     "name": "stdout",
     "output_type": "stream",
     "text": [
      "runtime for ind model:27.108417987823486 seconds\n",
      "runtime for choose one model:8203.01145029068 seconds\n",
      "starting choose one model\n"
     ]
    },
    {
     "name": "stderr",
     "output_type": "stream",
     "text": [
      "\n",
      "Choose one progress bar: 0it [00:00, ?it/s]\u001b[A"
     ]
    },
    {
     "name": "stdout",
     "output_type": "stream",
     "text": [
      "Starting all\n",
      "[0.07672737955346651, 0.07636701919310615, 0.07745201723462594, 0.07781041911476694, 0.0835957696827262, 0.0835996866431649, 0.08939287113200158, 0.09121034077555816, 0.09120642381511948, 0.09482177830003917, 0.09808460634547592, 0.10241872307089697, 0.10205444575009792, 0.10205640423031728, 0.10422640031335684, 0.10350567959263612, 0.10386799843321581, 0.10494712103407755, 0.10422640031335684, 0.10603211907559733, 0.10639443791617705, 0.10566980023501762, 0.10639443791617705, 0.106030160595378, 0.106030160595378]\n",
      "runtime for all model:983.3047602176666 seconds\n",
      "Finish all\n",
      "Starting ind\n",
      "[0.3396827262044654, 0.1324383078730905, 0.1324383078730905]\n",
      "[0.05212103407755582, 0.051039952996474736, 0.051039952996474736]\n",
      "[0.04888366627497062, 0.04888366627497062]\n"
     ]
    },
    {
     "name": "stderr",
     "output_type": "stream",
     "text": [
      "\n",
      "Choose one progress bar: 1it [16:52, 1012.68s/it]\u001b[A"
     ]
    },
    {
     "name": "stdout",
     "output_type": "stream",
     "text": [
      "runtime for ind model:29.37655806541443 seconds\n",
      "Finish ind\n",
      "Starting all\n",
      "[0.07382099490795144, 0.073096357226792, 0.07165099882491187, 0.07707794751273012, 0.07780258519388954, 0.08178025851938896, 0.08431844888366627, 0.08685468076772425, 0.08431844888366627, 0.08613004308656483, 0.08613004308656483]\n",
      "runtime for all model:257.17763113975525 seconds\n",
      "Finish all\n",
      "Starting ind\n",
      "[0.12377203290246767, 0.12485898942420678, 0.12485898942420678]\n",
      "[0.05317273795534666, 0.05099882491186839, 0.049923619271445355, 0.056427732079906, 0.05860164512338425, 0.059688601645123386, 0.06076968272620446, 0.060781433607520564, 0.061868390129259695, 0.05970035252643948, 0.05970035252643948]\n",
      "[0.04451821386603995, 0.04886016451233842, 0.047773207990599295, 0.04668625146886017, 0.04560517038777909, 0.04560517038777909]\n"
     ]
    },
    {
     "name": "stderr",
     "output_type": "stream",
     "text": [
      "\n",
      "Choose one progress bar: 2it [23:22, 646.37s/it] \u001b[A"
     ]
    },
    {
     "name": "stdout",
     "output_type": "stream",
     "text": [
      "runtime for ind model:132.7742624282837 seconds\n",
      "Finish ind\n",
      "Starting all\n",
      "[0.07308852330591462, 0.07308852330591462]\n",
      "runtime for all model:18.58259153366089 seconds\n",
      "Finish all\n",
      "Starting ind\n",
      "[0.19183313748531136, 0.11723854289071681, 0.11940070505287896, 0.11831962397179789, 0.119406580493537, 0.13245005875440657, 0.12701527614571093, 0.1291891891891892, 0.13135135135135134, 0.13571092831962397, 0.1433078730904818, 0.1400470035252644, 0.14222091656874267, 0.1465687426556992, 0.1617743830787309, 0.15091069330199763, 0.15633960047003528, 0.15742655699177438, 0.15958871915393655, 0.15850176263219742, 0.15958871915393655, 0.16284958871915395, 0.1595945945945946, 0.16284958871915395, 0.16284958871915395]\n",
      "[0.05425381903642773, 0.05425381903642773]\n",
      "[0.054294947121034075, 0.054294947121034075]\n"
     ]
    },
    {
     "name": "stderr",
     "output_type": "stream",
     "text": [
      "\n",
      "Choose one progress bar: 3it [29:59, 532.24s/it]\u001b[A"
     ]
    },
    {
     "name": "stdout",
     "output_type": "stream",
     "text": [
      "runtime for ind model:377.8425064086914 seconds\n",
      "Finish ind\n",
      "Starting all\n",
      "[0.07202506854680767, 0.07202506854680767]\n",
      "runtime for all model:18.62027907371521 seconds\n",
      "Finish all\n",
      "Starting ind\n",
      "[0.27700352526439487, 0.12481786133960049, 0.1302232667450059, 0.13024089306698003, 0.13022914218566392, 0.1324030552291422, 0.1324030552291422]\n",
      "[0.04669212690951822, 0.04669212690951822]\n",
      "[0.0467273795534665, 0.049988249118683895, 0.05433607520564042, 0.054324324324324325, 0.0532373678025852, 0.054324324324324325, 0.061897767332549945, 0.0640716803760282, 0.06624559341950646, 0.0640716803760282, 0.06515276145710928, 0.06189189189189189, 0.06189189189189189]\n"
     ]
    },
    {
     "name": "stderr",
     "output_type": "stream",
     "text": [
      "\n",
      "Choose one progress bar: 4it [33:06, 396.16s/it]\u001b[A"
     ]
    },
    {
     "name": "stdout",
     "output_type": "stream",
     "text": [
      "runtime for ind model:168.92330622673035 seconds\n",
      "Finish ind\n",
      "Starting all\n",
      "[0.07338229533881707, 0.07338229533881707]\n",
      "runtime for all model:18.633498430252075 seconds\n",
      "Finish all\n",
      "Starting ind\n",
      "[0.25410693301997644, 0.11823736780258517, 0.11823736780258517]\n",
      "[0.09988836662749707, 0.05206227967097532, 0.05747356051703878, 0.057467685076380726, 0.058554641598119864, 0.05313748531139835, 0.05422444183313748, 0.056392479435957696, 0.0531316098707403, 0.05529377203290246, 0.060693301997649815, 0.06179200940070505, 0.06287896592244419, 0.06289659224441833, 0.06613396004700353, 0.06613396004700353]\n",
      "[0.05093419506462985, 0.052021151586368976, 0.052021151586368976]\n"
     ]
    },
    {
     "name": "stderr",
     "output_type": "stream",
     "text": [
      "\n",
      "Choose one progress bar: 5it [36:40, 330.29s/it]\u001b[A"
     ]
    },
    {
     "name": "stdout",
     "output_type": "stream",
     "text": [
      "runtime for ind model:194.8615653514862 seconds\n",
      "Finish ind\n",
      "Starting all\n",
      "[0.07517822169996083, 0.07517822169996083]\n",
      "runtime for all model:18.672654628753662 seconds\n",
      "Finish all\n",
      "Starting ind\n",
      "[0.26813748531139836, 0.1300940070505288, 0.1300940070505288]\n",
      "[0.05208578143360752, 0.05208578143360752]\n",
      "[0.04552291421856639, 0.04552291421856639]\n"
     ]
    },
    {
     "name": "stderr",
     "output_type": "stream",
     "text": [
      "\n",
      "Choose one progress bar: 6it [37:23, 232.65s/it]\u001b[A"
     ]
    },
    {
     "name": "stdout",
     "output_type": "stream",
     "text": [
      "runtime for ind model:24.422547101974487 seconds\n",
      "Finish ind\n",
      "Starting all\n",
      "[0.1081903642773208, 0.07340775558166862, 0.07702311006658832, 0.08027222875048963, 0.07954759106933021, 0.08389150019584801, 0.08714453584018801, 0.08860164512338425, 0.09293184488836663, 0.09256952604778693, 0.09293380336858598, 0.09293184488836662, 0.09473756365060712, 0.097262044653349, 0.1008852330591461, 0.10377594986290639, 0.10341754798276537, 0.10449862906384647, 0.10449862906384647]\n",
      "runtime for all model:634.7872376441956 seconds\n",
      "Finish all\n",
      "Starting ind\n",
      "[0.17696827262044654, 0.17696827262044654]\n",
      "[0.09881316098707402, 0.04881316098707403, 0.04881903642773208, 0.04773207990599295, 0.04881903642773208, 0.05315511163337251, 0.054242068155111636, 0.0564042303172738, 0.0564042303172738]\n",
      "[0.04878965922444184, 0.04878965922444184]\n"
     ]
    },
    {
     "name": "stderr",
     "output_type": "stream",
     "text": [
      "\n",
      "Choose one progress bar: 7it [49:15, 389.31s/it]\u001b[A"
     ]
    },
    {
     "name": "stdout",
     "output_type": "stream",
     "text": [
      "runtime for ind model:77.04690790176392 seconds\n",
      "Finish ind\n",
      "Starting all\n",
      "[0.07484332158245202, 0.07484332158245202]\n",
      "runtime for all model:18.61298966407776 seconds\n",
      "Finish all\n",
      "Starting ind\n",
      "[0.20364277320799062, 0.12797884841363102, 0.12797884841363102]\n",
      "[0.05207403055229143, 0.05207403055229143]\n",
      "[0.04881316098707403, 0.0477262044653349, 0.05098707403055229, 0.05856051703877792, 0.05964747356051704, 0.05856051703877792, 0.06072267920094008, 0.06288484136310224, 0.06071092831962397, 0.06071092831962397]\n"
     ]
    },
    {
     "name": "stderr",
     "output_type": "stream",
     "text": [
      "\n",
      "Choose one progress bar: 8it [51:07, 301.27s/it]\u001b[A"
     ]
    },
    {
     "name": "stdout",
     "output_type": "stream",
     "text": [
      "runtime for ind model:94.16122817993164 seconds\n",
      "Finish ind\n",
      "Starting all\n",
      "[0.07373873873873873, 0.07373873873873873]\n",
      "runtime for all model:18.612502098083496 seconds\n",
      "Finish all\n",
      "Starting ind\n",
      "[0.264524089306698, 0.12149236192714455, 0.12149236192714455]\n",
      "[0.05095182138660399, 0.05095182138660399]\n",
      "[0.04877203290246769, 0.04877790834312574, 0.049858989424206815, 0.04877203290246769, 0.050945945945945946, 0.05312573443008226, 0.05420681551116334, 0.049870740305522916, 0.05421856639247944, 0.05529964747356052, 0.05529964747356052]\n"
     ]
    },
    {
     "name": "stderr",
     "output_type": "stream",
     "text": [
      "\n",
      "Choose one progress bar: 9it [53:14, 246.74s/it]\u001b[A"
     ]
    },
    {
     "name": "stdout",
     "output_type": "stream",
     "text": [
      "runtime for ind model:108.23090243339539 seconds\n",
      "Finish ind\n",
      "Starting all\n",
      "[0.07306502154328241, 0.07306502154328241]\n",
      "runtime for all model:18.63108730316162 seconds\n",
      "Finish all\n",
      "Starting ind\n",
      "[0.19394829612220915, 0.12151586368977674, 0.12151586368977674]\n",
      "[0.049935370152761456, 0.049935370152761456]\n",
      "[0.05099294947121034, 0.05207403055229143, 0.05098119858989425, 0.04989424206815511, 0.054247943595769677, 0.054247943595769677]\n"
     ]
    },
    {
     "name": "stderr",
     "output_type": "stream",
     "text": [
      "\n",
      "Choose one progress bar: 10it [54:24, 326.45s/it]\u001b[A"
     ]
    },
    {
     "name": "stdout",
     "output_type": "stream",
     "text": [
      "runtime for ind model:51.190895557403564 seconds\n",
      "Finish ind\n",
      "MSE all: 0.7516657148296211\n",
      "MSE ind: 0\n",
      "for ind was chosen\n"
     ]
    },
    {
     "name": "stderr",
     "output_type": "stream",
     "text": [
      "\n"
     ]
    },
    {
     "name": "stdout",
     "output_type": "stream",
     "text": [
      "[0.196207556193209, 0.196207556193209]\n",
      "[0.051755141080822575, 0.051755141080822575]\n",
      "[0.04787183165949306, 0.04884744141559062, 0.04787661406025825, 0.04591582974653276, 0.04982783357245337, 0.04982305117168819, 0.04982305117168819]\n"
     ]
    },
    {
     "name": "stderr",
     "output_type": "stream",
     "text": [
      "CV progress bar: 10it [14:55:58, 5375.87s/it]"
     ]
    },
    {
     "name": "stdout",
     "output_type": "stream",
     "text": [
      "runtime for ind model:61.34733700752258 seconds\n",
      "runtime for choose one model:3325.856533765793 seconds\n",
      "MSE for all model:   nan\n",
      "MSE for ind model:   nan\n",
      "MSE LOO model:       nan\n",
      "MSE choose one model:0.09819127464679397\n",
      "stdev choose one model:0.06518705274974868\n",
      "Total runtime: 895.9782652616501 minutes\n",
      "Total runtime: 895.9782735784848 minutes\n"
     ]
    },
    {
     "name": "stderr",
     "output_type": "stream",
     "text": [
      "\n",
      "/home/yehudan/Desktop/DecisionTree/DecisionTree/datasets/mse_comparison.py:276: RuntimeWarning: Mean of empty slice.\n",
      "  print(f'MSE for all model:   {np.array(mse_all).mean()}')\n",
      "/data/anaconda3/lib/python3.9/site-packages/numpy/core/_methods.py:188: RuntimeWarning: invalid value encountered in double_scalars\n",
      "  ret = ret.dtype.type(ret / rcount)\n",
      "/home/yehudan/Desktop/DecisionTree/DecisionTree/datasets/mse_comparison.py:277: RuntimeWarning: Mean of empty slice.\n",
      "  print(f'MSE for ind model:   {np.array(mse_ind).mean()}')\n",
      "/home/yehudan/Desktop/DecisionTree/DecisionTree/datasets/mse_comparison.py:278: RuntimeWarning: Mean of empty slice.\n",
      "  print(f'MSE LOO model:       {np.array(mse_loo).mean()}')\n"
     ]
    }
   ],
   "source": [
    "start = time.time()\n",
    "mse_comparison.mse_comparison(path=None,df=df_classification_new, n_features=23,max_depth=np.inf,\n",
    "                         only_choose_one=True, n_splits=10,regression=False,\n",
    "                                  random_state=42)\n",
    "print(f'Total runtime: {(time.time()-start)/60} minutes')"
   ]
  },
  {
   "cell_type": "code",
   "execution_count": 10,
   "id": "9617cfde",
   "metadata": {},
   "outputs": [
    {
     "name": "stdout",
     "output_type": "stream",
     "text": [
      "Cell execution time: 2023-05-31 11:13:54.450892\n"
     ]
    },
    {
     "name": "stderr",
     "output_type": "stream",
     "text": [
      "CV progress bar: 1it [10:41, 641.56s/it]"
     ]
    },
    {
     "name": "stdout",
     "output_type": "stream",
     "text": [
      "List MSE chains: [0.05263157894736842]\n",
      "List MSE stacked: [0.05263157894736842]\n"
     ]
    },
    {
     "name": "stderr",
     "output_type": "stream",
     "text": [
      "CV progress bar: 2it [18:21, 534.55s/it]"
     ]
    },
    {
     "name": "stdout",
     "output_type": "stream",
     "text": [
      "List MSE chains: [0.05263157894736842, 0.07602339181286549]\n",
      "List MSE stacked: [0.05263157894736842, 0.2046783625730994]\n"
     ]
    },
    {
     "name": "stderr",
     "output_type": "stream",
     "text": [
      "CV progress bar: 3it [23:46, 439.18s/it]"
     ]
    },
    {
     "name": "stdout",
     "output_type": "stream",
     "text": [
      "List MSE chains: [0.05263157894736842, 0.07602339181286549, 0.19298245614035087]\n",
      "List MSE stacked: [0.05263157894736842, 0.2046783625730994, 0.2777777777777778]\n"
     ]
    },
    {
     "name": "stderr",
     "output_type": "stream",
     "text": [
      "CV progress bar: 4it [30:15, 419.04s/it]"
     ]
    },
    {
     "name": "stdout",
     "output_type": "stream",
     "text": [
      "List MSE chains: [0.05263157894736842, 0.07602339181286549, 0.19298245614035087, 0.09649122807017543]\n",
      "List MSE stacked: [0.05263157894736842, 0.2046783625730994, 0.2777777777777778, 0.09649122807017543]\n"
     ]
    },
    {
     "name": "stderr",
     "output_type": "stream",
     "text": [
      "CV progress bar: 5it [40:58, 499.80s/it]"
     ]
    },
    {
     "name": "stdout",
     "output_type": "stream",
     "text": [
      "List MSE chains: [0.05263157894736842, 0.07602339181286549, 0.19298245614035087, 0.09649122807017543, 0.06725146198830409]\n",
      "List MSE stacked: [0.05263157894736842, 0.2046783625730994, 0.2777777777777778, 0.09649122807017543, 0.06725146198830409]\n"
     ]
    },
    {
     "name": "stderr",
     "output_type": "stream",
     "text": [
      "CV progress bar: 6it [1:00:35, 730.20s/it]"
     ]
    },
    {
     "name": "stdout",
     "output_type": "stream",
     "text": [
      "List MSE chains: [0.05263157894736842, 0.07602339181286549, 0.19298245614035087, 0.09649122807017543, 0.06725146198830409, 0.07309941520467836]\n",
      "List MSE stacked: [0.05263157894736842, 0.2046783625730994, 0.2777777777777778, 0.09649122807017543, 0.06725146198830409, 0.07602339181286549]\n"
     ]
    },
    {
     "name": "stderr",
     "output_type": "stream",
     "text": [
      "CV progress bar: 7it [1:05:15, 583.11s/it]"
     ]
    },
    {
     "name": "stdout",
     "output_type": "stream",
     "text": [
      "List MSE chains: [0.05263157894736842, 0.07602339181286549, 0.19298245614035087, 0.09649122807017543, 0.06725146198830409, 0.07309941520467836, 0.06725146198830409]\n",
      "List MSE stacked: [0.05263157894736842, 0.2046783625730994, 0.2777777777777778, 0.09649122807017543, 0.06725146198830409, 0.07602339181286549, 0.07017543859649122]\n"
     ]
    },
    {
     "name": "stderr",
     "output_type": "stream",
     "text": [
      "CV progress bar: 8it [1:23:21, 742.99s/it]"
     ]
    },
    {
     "name": "stdout",
     "output_type": "stream",
     "text": [
      "List MSE chains: [0.05263157894736842, 0.07602339181286549, 0.19298245614035087, 0.09649122807017543, 0.06725146198830409, 0.07309941520467836, 0.06725146198830409, 0.07669616519174041]\n",
      "List MSE stacked: [0.05263157894736842, 0.2046783625730994, 0.2777777777777778, 0.09649122807017543, 0.06725146198830409, 0.07602339181286549, 0.07017543859649122, 0.07669616519174041]\n"
     ]
    },
    {
     "name": "stderr",
     "output_type": "stream",
     "text": [
      "CV progress bar: 9it [1:32:52, 689.41s/it]"
     ]
    },
    {
     "name": "stdout",
     "output_type": "stream",
     "text": [
      "List MSE chains: [0.05263157894736842, 0.07602339181286549, 0.19298245614035087, 0.09649122807017543, 0.06725146198830409, 0.07309941520467836, 0.06725146198830409, 0.07669616519174041, 0.0855457227138643]\n",
      "List MSE stacked: [0.05263157894736842, 0.2046783625730994, 0.2777777777777778, 0.09649122807017543, 0.06725146198830409, 0.07602339181286549, 0.07017543859649122, 0.07669616519174041, 0.0855457227138643]\n"
     ]
    },
    {
     "name": "stderr",
     "output_type": "stream",
     "text": [
      "CV progress bar: 10it [1:35:45, 574.51s/it]"
     ]
    },
    {
     "name": "stdout",
     "output_type": "stream",
     "text": [
      "List MSE chains: [0.05263157894736842, 0.07602339181286549, 0.19298245614035087, 0.09649122807017543, 0.06725146198830409, 0.07309941520467836, 0.06725146198830409, 0.07669616519174041, 0.0855457227138643, 0.10914454277286136]\n",
      "List MSE stacked: [0.05263157894736842, 0.2046783625730994, 0.2777777777777778, 0.09649122807017543, 0.06725146198830409, 0.07602339181286549, 0.07017543859649122, 0.07669616519174041, 0.0855457227138643, 0.10914454277286136]\n",
      "------------------------------------------------------------------------------------------\n",
      "MSE chains : 0.08971174248305128\n",
      "MSE stacked: 0.1116415670444548\n",
      "stdev choose chains model 0.039612573359524166\n",
      "stdev choose stacked model 0.07213858751635564\n",
      "MSE for all model:   nan\n",
      "MSE for ind model:   nan\n",
      "MSE LOO model:       nan\n",
      "Total runtime: 95.75167050758998 minutes\n",
      "Total runtime: 95.7516821106275 minutes\n"
     ]
    },
    {
     "name": "stderr",
     "output_type": "stream",
     "text": [
      "\n",
      "/home/yehudan/Desktop/DecisionTree/DecisionTree/datasets/mse_comparison.py:305: RuntimeWarning: Mean of empty slice.\n",
      "  print(f'MSE for all model:   {np.array(mse_all).mean()}')\n",
      "/data/anaconda3/lib/python3.9/site-packages/numpy/core/_methods.py:188: RuntimeWarning: invalid value encountered in double_scalars\n",
      "  ret = ret.dtype.type(ret / rcount)\n",
      "/home/yehudan/Desktop/DecisionTree/DecisionTree/datasets/mse_comparison.py:306: RuntimeWarning: Mean of empty slice.\n",
      "  print(f'MSE for ind model:   {np.array(mse_ind).mean()}')\n",
      "/home/yehudan/Desktop/DecisionTree/DecisionTree/datasets/mse_comparison.py:307: RuntimeWarning: Mean of empty slice.\n",
      "  print(f'MSE LOO model:       {np.array(mse_loo).mean()}')\n"
     ]
    }
   ],
   "source": [
    "start = time.time()\n",
    "mse_comparison.mse_comparison(path=None,df=df_classification_new, n_features=23,\n",
    "                         only_related_works=True, n_splits=10,regression=False,\n",
    "                                  random_state=42)\n",
    "print(f'Total runtime: {(time.time()-start)/60} minutes')"
   ]
  }
 ],
 "metadata": {
  "kernelspec": {
   "display_name": "Python 3 (ipykernel)",
   "language": "python",
   "name": "python3"
  },
  "language_info": {
   "codemirror_mode": {
    "name": "ipython",
    "version": 3
   },
   "file_extension": ".py",
   "mimetype": "text/x-python",
   "name": "python",
   "nbconvert_exporter": "python",
   "pygments_lexer": "ipython3",
   "version": "3.9.7"
  }
 },
 "nbformat": 4,
 "nbformat_minor": 5
}
