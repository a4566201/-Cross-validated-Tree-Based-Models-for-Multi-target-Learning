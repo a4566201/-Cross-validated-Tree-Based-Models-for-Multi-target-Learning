{
 "cells": [
  {
   "cell_type": "code",
   "execution_count": 1,
   "id": "e9714068",
   "metadata": {},
   "outputs": [],
   "source": [
    "import os "
   ]
  },
  {
   "cell_type": "code",
   "execution_count": 2,
   "id": "2c33b048",
   "metadata": {},
   "outputs": [],
   "source": [
    "os.chdir('/home/yehudan/Desktop/DecisionTree/DecisionTree')"
   ]
  },
  {
   "cell_type": "code",
   "execution_count": 1,
   "id": "94563be1",
   "metadata": {},
   "outputs": [],
   "source": [
    "import time\n",
    "from datasets import mse_comparison \n",
    "from scipy.io.arff import loadarff\n",
    "import pandas as pd\n",
    "import numpy as np\n",
    "from sklearn.preprocessing import MinMaxScaler"
   ]
  },
  {
   "cell_type": "code",
   "execution_count": 4,
   "id": "fb9947b6",
   "metadata": {},
   "outputs": [
    {
     "name": "stderr",
     "output_type": "stream",
     "text": [
      "/data/anaconda3/lib/python3.9/site-packages/IPython/core/interactiveshell.py:3444: DtypeWarning: Columns (1,2,3,7,8,9,11,12,13,14,17,18,19) have mixed types.Specify dtype option on import or set low_memory=False.\n",
      "  exec(code_obj, self.user_global_ns, self.user_ns)\n"
     ]
    }
   ],
   "source": [
    "df = pd.read_csv('datasets/Pakistan_Largest_Ecommerce_Dataset.csv')"
   ]
  },
  {
   "cell_type": "code",
   "execution_count": 5,
   "id": "c1bf984c",
   "metadata": {},
   "outputs": [
    {
     "data": {
      "text/html": [
       "<div>\n",
       "<style scoped>\n",
       "    .dataframe tbody tr th:only-of-type {\n",
       "        vertical-align: middle;\n",
       "    }\n",
       "\n",
       "    .dataframe tbody tr th {\n",
       "        vertical-align: top;\n",
       "    }\n",
       "\n",
       "    .dataframe thead th {\n",
       "        text-align: right;\n",
       "    }\n",
       "</style>\n",
       "<table border=\"1\" class=\"dataframe\">\n",
       "  <thead>\n",
       "    <tr style=\"text-align: right;\">\n",
       "      <th></th>\n",
       "      <th>item_id</th>\n",
       "      <th>status</th>\n",
       "      <th>created_at</th>\n",
       "      <th>sku</th>\n",
       "      <th>price</th>\n",
       "      <th>qty_ordered</th>\n",
       "      <th>grand_total</th>\n",
       "      <th>increment_id</th>\n",
       "      <th>category_name_1</th>\n",
       "      <th>sales_commission_code</th>\n",
       "      <th>...</th>\n",
       "      <th>Month</th>\n",
       "      <th>Customer Since</th>\n",
       "      <th>M-Y</th>\n",
       "      <th>FY</th>\n",
       "      <th>Customer ID</th>\n",
       "      <th>Unnamed: 21</th>\n",
       "      <th>Unnamed: 22</th>\n",
       "      <th>Unnamed: 23</th>\n",
       "      <th>Unnamed: 24</th>\n",
       "      <th>Unnamed: 25</th>\n",
       "    </tr>\n",
       "  </thead>\n",
       "  <tbody>\n",
       "    <tr>\n",
       "      <th>0</th>\n",
       "      <td>211131.0</td>\n",
       "      <td>complete</td>\n",
       "      <td>7/1/2016</td>\n",
       "      <td>kreations_YI 06-L</td>\n",
       "      <td>1950.0</td>\n",
       "      <td>1.0</td>\n",
       "      <td>1950.0</td>\n",
       "      <td>100147443</td>\n",
       "      <td>Women's Fashion</td>\n",
       "      <td>\\N</td>\n",
       "      <td>...</td>\n",
       "      <td>7.0</td>\n",
       "      <td>2016-7</td>\n",
       "      <td>7-2016</td>\n",
       "      <td>FY17</td>\n",
       "      <td>1.0</td>\n",
       "      <td>NaN</td>\n",
       "      <td>NaN</td>\n",
       "      <td>NaN</td>\n",
       "      <td>NaN</td>\n",
       "      <td>NaN</td>\n",
       "    </tr>\n",
       "    <tr>\n",
       "      <th>1</th>\n",
       "      <td>211133.0</td>\n",
       "      <td>canceled</td>\n",
       "      <td>7/1/2016</td>\n",
       "      <td>kcc_Buy 2 Frey Air Freshener &amp; Get 1 Kasual Bo...</td>\n",
       "      <td>240.0</td>\n",
       "      <td>1.0</td>\n",
       "      <td>240.0</td>\n",
       "      <td>100147444</td>\n",
       "      <td>Beauty &amp; Grooming</td>\n",
       "      <td>\\N</td>\n",
       "      <td>...</td>\n",
       "      <td>7.0</td>\n",
       "      <td>2016-7</td>\n",
       "      <td>7-2016</td>\n",
       "      <td>FY17</td>\n",
       "      <td>2.0</td>\n",
       "      <td>NaN</td>\n",
       "      <td>NaN</td>\n",
       "      <td>NaN</td>\n",
       "      <td>NaN</td>\n",
       "      <td>NaN</td>\n",
       "    </tr>\n",
       "    <tr>\n",
       "      <th>2</th>\n",
       "      <td>211134.0</td>\n",
       "      <td>canceled</td>\n",
       "      <td>7/1/2016</td>\n",
       "      <td>Ego_UP0017-999-MR0</td>\n",
       "      <td>2450.0</td>\n",
       "      <td>1.0</td>\n",
       "      <td>2450.0</td>\n",
       "      <td>100147445</td>\n",
       "      <td>Women's Fashion</td>\n",
       "      <td>\\N</td>\n",
       "      <td>...</td>\n",
       "      <td>7.0</td>\n",
       "      <td>2016-7</td>\n",
       "      <td>7-2016</td>\n",
       "      <td>FY17</td>\n",
       "      <td>3.0</td>\n",
       "      <td>NaN</td>\n",
       "      <td>NaN</td>\n",
       "      <td>NaN</td>\n",
       "      <td>NaN</td>\n",
       "      <td>NaN</td>\n",
       "    </tr>\n",
       "    <tr>\n",
       "      <th>3</th>\n",
       "      <td>211135.0</td>\n",
       "      <td>complete</td>\n",
       "      <td>7/1/2016</td>\n",
       "      <td>kcc_krone deal</td>\n",
       "      <td>360.0</td>\n",
       "      <td>1.0</td>\n",
       "      <td>60.0</td>\n",
       "      <td>100147446</td>\n",
       "      <td>Beauty &amp; Grooming</td>\n",
       "      <td>R-FSD-52352</td>\n",
       "      <td>...</td>\n",
       "      <td>7.0</td>\n",
       "      <td>2016-7</td>\n",
       "      <td>7-2016</td>\n",
       "      <td>FY17</td>\n",
       "      <td>4.0</td>\n",
       "      <td>NaN</td>\n",
       "      <td>NaN</td>\n",
       "      <td>NaN</td>\n",
       "      <td>NaN</td>\n",
       "      <td>NaN</td>\n",
       "    </tr>\n",
       "    <tr>\n",
       "      <th>4</th>\n",
       "      <td>211136.0</td>\n",
       "      <td>order_refunded</td>\n",
       "      <td>7/1/2016</td>\n",
       "      <td>BK7010400AG</td>\n",
       "      <td>555.0</td>\n",
       "      <td>2.0</td>\n",
       "      <td>1110.0</td>\n",
       "      <td>100147447</td>\n",
       "      <td>Soghaat</td>\n",
       "      <td>\\N</td>\n",
       "      <td>...</td>\n",
       "      <td>7.0</td>\n",
       "      <td>2016-7</td>\n",
       "      <td>7-2016</td>\n",
       "      <td>FY17</td>\n",
       "      <td>5.0</td>\n",
       "      <td>NaN</td>\n",
       "      <td>NaN</td>\n",
       "      <td>NaN</td>\n",
       "      <td>NaN</td>\n",
       "      <td>NaN</td>\n",
       "    </tr>\n",
       "  </tbody>\n",
       "</table>\n",
       "<p>5 rows × 26 columns</p>\n",
       "</div>"
      ],
      "text/plain": [
       "    item_id          status created_at  \\\n",
       "0  211131.0        complete   7/1/2016   \n",
       "1  211133.0        canceled   7/1/2016   \n",
       "2  211134.0        canceled   7/1/2016   \n",
       "3  211135.0        complete   7/1/2016   \n",
       "4  211136.0  order_refunded   7/1/2016   \n",
       "\n",
       "                                                 sku   price  qty_ordered  \\\n",
       "0                                  kreations_YI 06-L  1950.0          1.0   \n",
       "1  kcc_Buy 2 Frey Air Freshener & Get 1 Kasual Bo...   240.0          1.0   \n",
       "2                                 Ego_UP0017-999-MR0  2450.0          1.0   \n",
       "3                                     kcc_krone deal   360.0          1.0   \n",
       "4                                        BK7010400AG   555.0          2.0   \n",
       "\n",
       "   grand_total increment_id    category_name_1 sales_commission_code  ...  \\\n",
       "0       1950.0    100147443    Women's Fashion                    \\N  ...   \n",
       "1        240.0    100147444  Beauty & Grooming                    \\N  ...   \n",
       "2       2450.0    100147445    Women's Fashion                    \\N  ...   \n",
       "3         60.0    100147446  Beauty & Grooming           R-FSD-52352  ...   \n",
       "4       1110.0    100147447            Soghaat                    \\N  ...   \n",
       "\n",
       "   Month Customer Since     M-Y    FY Customer ID  Unnamed: 21  Unnamed: 22  \\\n",
       "0    7.0         2016-7  7-2016  FY17         1.0          NaN          NaN   \n",
       "1    7.0         2016-7  7-2016  FY17         2.0          NaN          NaN   \n",
       "2    7.0         2016-7  7-2016  FY17         3.0          NaN          NaN   \n",
       "3    7.0         2016-7  7-2016  FY17         4.0          NaN          NaN   \n",
       "4    7.0         2016-7  7-2016  FY17         5.0          NaN          NaN   \n",
       "\n",
       "  Unnamed: 23 Unnamed: 24 Unnamed: 25  \n",
       "0         NaN         NaN         NaN  \n",
       "1         NaN         NaN         NaN  \n",
       "2         NaN         NaN         NaN  \n",
       "3         NaN         NaN         NaN  \n",
       "4         NaN         NaN         NaN  \n",
       "\n",
       "[5 rows x 26 columns]"
      ]
     },
     "execution_count": 5,
     "metadata": {},
     "output_type": "execute_result"
    }
   ],
   "source": [
    "df.head()"
   ]
  },
  {
   "cell_type": "code",
   "execution_count": 6,
   "id": "1ee79b40",
   "metadata": {},
   "outputs": [],
   "source": [
    "def move_columns_to_end(df,col1,col2=None):\n",
    "    cols = list(df.columns.values) #Make a list of all of the columns in the df\n",
    "    cols.pop(cols.index(col1)) #Remove col1 from list\n",
    "    if col2:\n",
    "        cols.pop(cols.index(col2)) #Remove col2 from list\n",
    "    if col2:\n",
    "        df = df[cols+[col1,col2]] #Create new dataframe with columns in the order you want\n",
    "    else:\n",
    "        df = df[cols+[col1]]\n",
    "    return df"
   ]
  },
  {
   "cell_type": "code",
   "execution_count": 7,
   "id": "abde5357",
   "metadata": {},
   "outputs": [],
   "source": [
    "pakistan_columns = ['grand_total', 'category_name_1', 'payment_method', 'Customer ID']\n",
    "pakistan_filtered = df[pakistan_columns]\n",
    "grouped_data = pakistan_filtered.groupby(by=['category_name_1', 'Customer ID'], as_index=False).agg({'grand_total': 'sum'})\n",
    "pivoted = grouped_data.pivot(index='Customer ID', columns='category_name_1', values='grand_total')\n",
    "pivoted = pivoted.reset_index().rename_axis(None, axis=1)"
   ]
  },
  {
   "cell_type": "code",
   "execution_count": 8,
   "id": "72045054",
   "metadata": {},
   "outputs": [
    {
     "data": {
      "text/html": [
       "<div>\n",
       "<style scoped>\n",
       "    .dataframe tbody tr th:only-of-type {\n",
       "        vertical-align: middle;\n",
       "    }\n",
       "\n",
       "    .dataframe tbody tr th {\n",
       "        vertical-align: top;\n",
       "    }\n",
       "\n",
       "    .dataframe thead th {\n",
       "        text-align: right;\n",
       "    }\n",
       "</style>\n",
       "<table border=\"1\" class=\"dataframe\">\n",
       "  <thead>\n",
       "    <tr style=\"text-align: right;\">\n",
       "      <th></th>\n",
       "      <th>Customer ID</th>\n",
       "      <th>Appliances</th>\n",
       "      <th>Beauty &amp; Grooming</th>\n",
       "      <th>Books</th>\n",
       "      <th>Computing</th>\n",
       "      <th>Entertainment</th>\n",
       "      <th>Health &amp; Sports</th>\n",
       "      <th>Home &amp; Living</th>\n",
       "      <th>Kids &amp; Baby</th>\n",
       "      <th>Men's Fashion</th>\n",
       "      <th>Mobiles &amp; Tablets</th>\n",
       "      <th>Others</th>\n",
       "      <th>School &amp; Education</th>\n",
       "      <th>Soghaat</th>\n",
       "      <th>Superstore</th>\n",
       "      <th>Women's Fashion</th>\n",
       "      <th>\\N</th>\n",
       "    </tr>\n",
       "  </thead>\n",
       "  <tbody>\n",
       "    <tr>\n",
       "      <th>0</th>\n",
       "      <td>1.0</td>\n",
       "      <td>NaN</td>\n",
       "      <td>NaN</td>\n",
       "      <td>NaN</td>\n",
       "      <td>NaN</td>\n",
       "      <td>NaN</td>\n",
       "      <td>NaN</td>\n",
       "      <td>NaN</td>\n",
       "      <td>NaN</td>\n",
       "      <td>NaN</td>\n",
       "      <td>NaN</td>\n",
       "      <td>NaN</td>\n",
       "      <td>NaN</td>\n",
       "      <td>NaN</td>\n",
       "      <td>NaN</td>\n",
       "      <td>1950.0</td>\n",
       "      <td>NaN</td>\n",
       "    </tr>\n",
       "    <tr>\n",
       "      <th>1</th>\n",
       "      <td>2.0</td>\n",
       "      <td>NaN</td>\n",
       "      <td>240.0</td>\n",
       "      <td>NaN</td>\n",
       "      <td>NaN</td>\n",
       "      <td>NaN</td>\n",
       "      <td>NaN</td>\n",
       "      <td>NaN</td>\n",
       "      <td>NaN</td>\n",
       "      <td>NaN</td>\n",
       "      <td>NaN</td>\n",
       "      <td>NaN</td>\n",
       "      <td>NaN</td>\n",
       "      <td>270.0</td>\n",
       "      <td>NaN</td>\n",
       "      <td>NaN</td>\n",
       "      <td>NaN</td>\n",
       "    </tr>\n",
       "    <tr>\n",
       "      <th>2</th>\n",
       "      <td>3.0</td>\n",
       "      <td>NaN</td>\n",
       "      <td>NaN</td>\n",
       "      <td>NaN</td>\n",
       "      <td>NaN</td>\n",
       "      <td>NaN</td>\n",
       "      <td>NaN</td>\n",
       "      <td>NaN</td>\n",
       "      <td>NaN</td>\n",
       "      <td>2490.00</td>\n",
       "      <td>2490.00</td>\n",
       "      <td>NaN</td>\n",
       "      <td>NaN</td>\n",
       "      <td>NaN</td>\n",
       "      <td>NaN</td>\n",
       "      <td>2450.0</td>\n",
       "      <td>NaN</td>\n",
       "    </tr>\n",
       "    <tr>\n",
       "      <th>3</th>\n",
       "      <td>4.0</td>\n",
       "      <td>285592.7</td>\n",
       "      <td>34219.3</td>\n",
       "      <td>NaN</td>\n",
       "      <td>99.0</td>\n",
       "      <td>593501.2</td>\n",
       "      <td>999.0</td>\n",
       "      <td>22185.0</td>\n",
       "      <td>2250.0</td>\n",
       "      <td>97804.55</td>\n",
       "      <td>1257478.35</td>\n",
       "      <td>1249.0</td>\n",
       "      <td>495.0</td>\n",
       "      <td>32990.0</td>\n",
       "      <td>94530.0</td>\n",
       "      <td>29158.5</td>\n",
       "      <td>115044.85</td>\n",
       "    </tr>\n",
       "    <tr>\n",
       "      <th>4</th>\n",
       "      <td>5.0</td>\n",
       "      <td>NaN</td>\n",
       "      <td>NaN</td>\n",
       "      <td>NaN</td>\n",
       "      <td>NaN</td>\n",
       "      <td>NaN</td>\n",
       "      <td>NaN</td>\n",
       "      <td>NaN</td>\n",
       "      <td>NaN</td>\n",
       "      <td>NaN</td>\n",
       "      <td>NaN</td>\n",
       "      <td>NaN</td>\n",
       "      <td>NaN</td>\n",
       "      <td>1110.0</td>\n",
       "      <td>NaN</td>\n",
       "      <td>NaN</td>\n",
       "      <td>NaN</td>\n",
       "    </tr>\n",
       "    <tr>\n",
       "      <th>...</th>\n",
       "      <td>...</td>\n",
       "      <td>...</td>\n",
       "      <td>...</td>\n",
       "      <td>...</td>\n",
       "      <td>...</td>\n",
       "      <td>...</td>\n",
       "      <td>...</td>\n",
       "      <td>...</td>\n",
       "      <td>...</td>\n",
       "      <td>...</td>\n",
       "      <td>...</td>\n",
       "      <td>...</td>\n",
       "      <td>...</td>\n",
       "      <td>...</td>\n",
       "      <td>...</td>\n",
       "      <td>...</td>\n",
       "      <td>...</td>\n",
       "    </tr>\n",
       "    <tr>\n",
       "      <th>115306</th>\n",
       "      <td>115322.0</td>\n",
       "      <td>NaN</td>\n",
       "      <td>NaN</td>\n",
       "      <td>NaN</td>\n",
       "      <td>NaN</td>\n",
       "      <td>NaN</td>\n",
       "      <td>NaN</td>\n",
       "      <td>NaN</td>\n",
       "      <td>NaN</td>\n",
       "      <td>2596.00</td>\n",
       "      <td>NaN</td>\n",
       "      <td>NaN</td>\n",
       "      <td>NaN</td>\n",
       "      <td>NaN</td>\n",
       "      <td>NaN</td>\n",
       "      <td>NaN</td>\n",
       "      <td>NaN</td>\n",
       "    </tr>\n",
       "    <tr>\n",
       "      <th>115307</th>\n",
       "      <td>115323.0</td>\n",
       "      <td>44499.0</td>\n",
       "      <td>NaN</td>\n",
       "      <td>NaN</td>\n",
       "      <td>NaN</td>\n",
       "      <td>NaN</td>\n",
       "      <td>NaN</td>\n",
       "      <td>NaN</td>\n",
       "      <td>NaN</td>\n",
       "      <td>NaN</td>\n",
       "      <td>NaN</td>\n",
       "      <td>NaN</td>\n",
       "      <td>NaN</td>\n",
       "      <td>NaN</td>\n",
       "      <td>NaN</td>\n",
       "      <td>NaN</td>\n",
       "      <td>NaN</td>\n",
       "    </tr>\n",
       "    <tr>\n",
       "      <th>115308</th>\n",
       "      <td>115324.0</td>\n",
       "      <td>NaN</td>\n",
       "      <td>NaN</td>\n",
       "      <td>NaN</td>\n",
       "      <td>NaN</td>\n",
       "      <td>NaN</td>\n",
       "      <td>NaN</td>\n",
       "      <td>NaN</td>\n",
       "      <td>NaN</td>\n",
       "      <td>549.00</td>\n",
       "      <td>NaN</td>\n",
       "      <td>NaN</td>\n",
       "      <td>NaN</td>\n",
       "      <td>NaN</td>\n",
       "      <td>NaN</td>\n",
       "      <td>NaN</td>\n",
       "      <td>NaN</td>\n",
       "    </tr>\n",
       "    <tr>\n",
       "      <th>115309</th>\n",
       "      <td>115325.0</td>\n",
       "      <td>NaN</td>\n",
       "      <td>NaN</td>\n",
       "      <td>NaN</td>\n",
       "      <td>NaN</td>\n",
       "      <td>NaN</td>\n",
       "      <td>NaN</td>\n",
       "      <td>NaN</td>\n",
       "      <td>NaN</td>\n",
       "      <td>NaN</td>\n",
       "      <td>NaN</td>\n",
       "      <td>NaN</td>\n",
       "      <td>NaN</td>\n",
       "      <td>NaN</td>\n",
       "      <td>NaN</td>\n",
       "      <td>1199.0</td>\n",
       "      <td>NaN</td>\n",
       "    </tr>\n",
       "    <tr>\n",
       "      <th>115310</th>\n",
       "      <td>115326.0</td>\n",
       "      <td>NaN</td>\n",
       "      <td>NaN</td>\n",
       "      <td>NaN</td>\n",
       "      <td>NaN</td>\n",
       "      <td>NaN</td>\n",
       "      <td>NaN</td>\n",
       "      <td>NaN</td>\n",
       "      <td>NaN</td>\n",
       "      <td>NaN</td>\n",
       "      <td>35899.00</td>\n",
       "      <td>NaN</td>\n",
       "      <td>NaN</td>\n",
       "      <td>NaN</td>\n",
       "      <td>NaN</td>\n",
       "      <td>NaN</td>\n",
       "      <td>NaN</td>\n",
       "    </tr>\n",
       "  </tbody>\n",
       "</table>\n",
       "<p>115311 rows × 17 columns</p>\n",
       "</div>"
      ],
      "text/plain": [
       "        Customer ID  Appliances  Beauty & Grooming  Books  Computing  \\\n",
       "0               1.0         NaN                NaN    NaN        NaN   \n",
       "1               2.0         NaN              240.0    NaN        NaN   \n",
       "2               3.0         NaN                NaN    NaN        NaN   \n",
       "3               4.0    285592.7            34219.3    NaN       99.0   \n",
       "4               5.0         NaN                NaN    NaN        NaN   \n",
       "...             ...         ...                ...    ...        ...   \n",
       "115306     115322.0         NaN                NaN    NaN        NaN   \n",
       "115307     115323.0     44499.0                NaN    NaN        NaN   \n",
       "115308     115324.0         NaN                NaN    NaN        NaN   \n",
       "115309     115325.0         NaN                NaN    NaN        NaN   \n",
       "115310     115326.0         NaN                NaN    NaN        NaN   \n",
       "\n",
       "        Entertainment  Health & Sports  Home & Living  Kids & Baby  \\\n",
       "0                 NaN              NaN            NaN          NaN   \n",
       "1                 NaN              NaN            NaN          NaN   \n",
       "2                 NaN              NaN            NaN          NaN   \n",
       "3            593501.2            999.0        22185.0       2250.0   \n",
       "4                 NaN              NaN            NaN          NaN   \n",
       "...               ...              ...            ...          ...   \n",
       "115306            NaN              NaN            NaN          NaN   \n",
       "115307            NaN              NaN            NaN          NaN   \n",
       "115308            NaN              NaN            NaN          NaN   \n",
       "115309            NaN              NaN            NaN          NaN   \n",
       "115310            NaN              NaN            NaN          NaN   \n",
       "\n",
       "        Men's Fashion  Mobiles & Tablets  Others  School & Education  Soghaat  \\\n",
       "0                 NaN                NaN     NaN                 NaN      NaN   \n",
       "1                 NaN                NaN     NaN                 NaN    270.0   \n",
       "2             2490.00            2490.00     NaN                 NaN      NaN   \n",
       "3            97804.55         1257478.35  1249.0               495.0  32990.0   \n",
       "4                 NaN                NaN     NaN                 NaN   1110.0   \n",
       "...               ...                ...     ...                 ...      ...   \n",
       "115306        2596.00                NaN     NaN                 NaN      NaN   \n",
       "115307            NaN                NaN     NaN                 NaN      NaN   \n",
       "115308         549.00                NaN     NaN                 NaN      NaN   \n",
       "115309            NaN                NaN     NaN                 NaN      NaN   \n",
       "115310            NaN           35899.00     NaN                 NaN      NaN   \n",
       "\n",
       "        Superstore  Women's Fashion         \\N  \n",
       "0              NaN           1950.0        NaN  \n",
       "1              NaN              NaN        NaN  \n",
       "2              NaN           2450.0        NaN  \n",
       "3          94530.0          29158.5  115044.85  \n",
       "4              NaN              NaN        NaN  \n",
       "...            ...              ...        ...  \n",
       "115306         NaN              NaN        NaN  \n",
       "115307         NaN              NaN        NaN  \n",
       "115308         NaN              NaN        NaN  \n",
       "115309         NaN           1199.0        NaN  \n",
       "115310         NaN              NaN        NaN  \n",
       "\n",
       "[115311 rows x 17 columns]"
      ]
     },
     "execution_count": 8,
     "metadata": {},
     "output_type": "execute_result"
    }
   ],
   "source": [
    "pivoted"
   ]
  },
  {
   "cell_type": "code",
   "execution_count": 9,
   "id": "0985cda4",
   "metadata": {},
   "outputs": [
    {
     "data": {
      "text/plain": [
       "(1325, 17)"
      ]
     },
     "execution_count": 9,
     "metadata": {},
     "output_type": "execute_result"
    }
   ],
   "source": [
    "pivoted[pivoted.notnull().sum(axis=1)>=9].shape"
   ]
  },
  {
   "cell_type": "code",
   "execution_count": 10,
   "id": "347dc47e",
   "metadata": {},
   "outputs": [
    {
     "data": {
      "text/plain": [
       "(1325, 16)"
      ]
     },
     "execution_count": 10,
     "metadata": {},
     "output_type": "execute_result"
    }
   ],
   "source": [
    "final_df = pivoted[pivoted.notnull().sum(axis=1)>=9]\n",
    "final_df = final_df.drop(['Customer ID'], axis='columns')\n",
    "final_df = final_df.fillna(0)\n",
    "final_df.shape"
   ]
  },
  {
   "cell_type": "code",
   "execution_count": 11,
   "id": "92984d19",
   "metadata": {},
   "outputs": [
    {
     "data": {
      "text/html": [
       "<div>\n",
       "<style scoped>\n",
       "    .dataframe tbody tr th:only-of-type {\n",
       "        vertical-align: middle;\n",
       "    }\n",
       "\n",
       "    .dataframe tbody tr th {\n",
       "        vertical-align: top;\n",
       "    }\n",
       "\n",
       "    .dataframe thead th {\n",
       "        text-align: right;\n",
       "    }\n",
       "</style>\n",
       "<table border=\"1\" class=\"dataframe\">\n",
       "  <thead>\n",
       "    <tr style=\"text-align: right;\">\n",
       "      <th></th>\n",
       "      <th>Customer ID</th>\n",
       "      <th>Appliances</th>\n",
       "      <th>Beauty &amp; Grooming</th>\n",
       "      <th>Books</th>\n",
       "      <th>Computing</th>\n",
       "      <th>Entertainment</th>\n",
       "      <th>Health &amp; Sports</th>\n",
       "      <th>Home &amp; Living</th>\n",
       "      <th>Kids &amp; Baby</th>\n",
       "      <th>Men's Fashion</th>\n",
       "      <th>Mobiles &amp; Tablets</th>\n",
       "      <th>Others</th>\n",
       "      <th>School &amp; Education</th>\n",
       "      <th>Soghaat</th>\n",
       "      <th>Superstore</th>\n",
       "      <th>Women's Fashion</th>\n",
       "      <th>\\N</th>\n",
       "    </tr>\n",
       "  </thead>\n",
       "  <tbody>\n",
       "    <tr>\n",
       "      <th>Customer ID</th>\n",
       "      <td>1.000000</td>\n",
       "      <td>0.003700</td>\n",
       "      <td>-0.016565</td>\n",
       "      <td>-0.030022</td>\n",
       "      <td>0.061213</td>\n",
       "      <td>0.023333</td>\n",
       "      <td>0.006154</td>\n",
       "      <td>0.009600</td>\n",
       "      <td>0.026787</td>\n",
       "      <td>-0.021875</td>\n",
       "      <td>0.037296</td>\n",
       "      <td>0.041667</td>\n",
       "      <td>-0.031247</td>\n",
       "      <td>0.023158</td>\n",
       "      <td>0.003918</td>\n",
       "      <td>-0.013441</td>\n",
       "      <td>-0.113714</td>\n",
       "    </tr>\n",
       "    <tr>\n",
       "      <th>Appliances</th>\n",
       "      <td>0.003700</td>\n",
       "      <td>1.000000</td>\n",
       "      <td>0.193731</td>\n",
       "      <td>0.043866</td>\n",
       "      <td>0.263430</td>\n",
       "      <td>0.479368</td>\n",
       "      <td>0.163356</td>\n",
       "      <td>0.223021</td>\n",
       "      <td>0.100470</td>\n",
       "      <td>0.255954</td>\n",
       "      <td>0.238027</td>\n",
       "      <td>0.150902</td>\n",
       "      <td>0.016345</td>\n",
       "      <td>0.184994</td>\n",
       "      <td>0.116739</td>\n",
       "      <td>0.195529</td>\n",
       "      <td>0.386124</td>\n",
       "    </tr>\n",
       "    <tr>\n",
       "      <th>Beauty &amp; Grooming</th>\n",
       "      <td>-0.016565</td>\n",
       "      <td>0.193731</td>\n",
       "      <td>1.000000</td>\n",
       "      <td>0.228900</td>\n",
       "      <td>0.224303</td>\n",
       "      <td>0.181270</td>\n",
       "      <td>0.285552</td>\n",
       "      <td>0.338150</td>\n",
       "      <td>0.226007</td>\n",
       "      <td>0.325817</td>\n",
       "      <td>0.135062</td>\n",
       "      <td>0.074352</td>\n",
       "      <td>0.185756</td>\n",
       "      <td>0.410663</td>\n",
       "      <td>0.276384</td>\n",
       "      <td>0.235186</td>\n",
       "      <td>0.151909</td>\n",
       "    </tr>\n",
       "    <tr>\n",
       "      <th>Books</th>\n",
       "      <td>-0.030022</td>\n",
       "      <td>0.043866</td>\n",
       "      <td>0.228900</td>\n",
       "      <td>1.000000</td>\n",
       "      <td>-0.034992</td>\n",
       "      <td>0.000291</td>\n",
       "      <td>0.505895</td>\n",
       "      <td>0.107125</td>\n",
       "      <td>0.076643</td>\n",
       "      <td>0.104159</td>\n",
       "      <td>0.018155</td>\n",
       "      <td>0.523970</td>\n",
       "      <td>0.349240</td>\n",
       "      <td>0.341190</td>\n",
       "      <td>0.188083</td>\n",
       "      <td>0.039935</td>\n",
       "      <td>0.046394</td>\n",
       "    </tr>\n",
       "    <tr>\n",
       "      <th>Computing</th>\n",
       "      <td>0.061213</td>\n",
       "      <td>0.263430</td>\n",
       "      <td>0.224303</td>\n",
       "      <td>-0.034992</td>\n",
       "      <td>1.000000</td>\n",
       "      <td>0.388337</td>\n",
       "      <td>0.251279</td>\n",
       "      <td>0.460664</td>\n",
       "      <td>0.304751</td>\n",
       "      <td>0.287602</td>\n",
       "      <td>0.367950</td>\n",
       "      <td>0.226793</td>\n",
       "      <td>0.220149</td>\n",
       "      <td>0.054836</td>\n",
       "      <td>0.040121</td>\n",
       "      <td>0.120232</td>\n",
       "      <td>0.206217</td>\n",
       "    </tr>\n",
       "    <tr>\n",
       "      <th>Entertainment</th>\n",
       "      <td>0.023333</td>\n",
       "      <td>0.479368</td>\n",
       "      <td>0.181270</td>\n",
       "      <td>0.000291</td>\n",
       "      <td>0.388337</td>\n",
       "      <td>1.000000</td>\n",
       "      <td>0.154749</td>\n",
       "      <td>0.222534</td>\n",
       "      <td>0.105686</td>\n",
       "      <td>0.403240</td>\n",
       "      <td>0.533759</td>\n",
       "      <td>0.093190</td>\n",
       "      <td>0.078790</td>\n",
       "      <td>0.170628</td>\n",
       "      <td>0.238944</td>\n",
       "      <td>0.151672</td>\n",
       "      <td>0.343105</td>\n",
       "    </tr>\n",
       "    <tr>\n",
       "      <th>Health &amp; Sports</th>\n",
       "      <td>0.006154</td>\n",
       "      <td>0.163356</td>\n",
       "      <td>0.285552</td>\n",
       "      <td>0.505895</td>\n",
       "      <td>0.251279</td>\n",
       "      <td>0.154749</td>\n",
       "      <td>1.000000</td>\n",
       "      <td>0.509007</td>\n",
       "      <td>0.386683</td>\n",
       "      <td>0.395933</td>\n",
       "      <td>0.030326</td>\n",
       "      <td>0.240040</td>\n",
       "      <td>0.260905</td>\n",
       "      <td>0.246042</td>\n",
       "      <td>0.265342</td>\n",
       "      <td>0.326598</td>\n",
       "      <td>0.115837</td>\n",
       "    </tr>\n",
       "    <tr>\n",
       "      <th>Home &amp; Living</th>\n",
       "      <td>0.009600</td>\n",
       "      <td>0.223021</td>\n",
       "      <td>0.338150</td>\n",
       "      <td>0.107125</td>\n",
       "      <td>0.460664</td>\n",
       "      <td>0.222534</td>\n",
       "      <td>0.509007</td>\n",
       "      <td>1.000000</td>\n",
       "      <td>0.923793</td>\n",
       "      <td>0.313366</td>\n",
       "      <td>0.123085</td>\n",
       "      <td>0.209012</td>\n",
       "      <td>0.098967</td>\n",
       "      <td>0.268564</td>\n",
       "      <td>0.127837</td>\n",
       "      <td>0.368711</td>\n",
       "      <td>0.232064</td>\n",
       "    </tr>\n",
       "    <tr>\n",
       "      <th>Kids &amp; Baby</th>\n",
       "      <td>0.026787</td>\n",
       "      <td>0.100470</td>\n",
       "      <td>0.226007</td>\n",
       "      <td>0.076643</td>\n",
       "      <td>0.304751</td>\n",
       "      <td>0.105686</td>\n",
       "      <td>0.386683</td>\n",
       "      <td>0.923793</td>\n",
       "      <td>1.000000</td>\n",
       "      <td>0.380593</td>\n",
       "      <td>0.053844</td>\n",
       "      <td>0.257818</td>\n",
       "      <td>0.301744</td>\n",
       "      <td>0.162648</td>\n",
       "      <td>0.098026</td>\n",
       "      <td>0.427298</td>\n",
       "      <td>0.025691</td>\n",
       "    </tr>\n",
       "    <tr>\n",
       "      <th>Men's Fashion</th>\n",
       "      <td>-0.021875</td>\n",
       "      <td>0.255954</td>\n",
       "      <td>0.325817</td>\n",
       "      <td>0.104159</td>\n",
       "      <td>0.287602</td>\n",
       "      <td>0.403240</td>\n",
       "      <td>0.395933</td>\n",
       "      <td>0.313366</td>\n",
       "      <td>0.380593</td>\n",
       "      <td>1.000000</td>\n",
       "      <td>0.161870</td>\n",
       "      <td>0.054365</td>\n",
       "      <td>0.138849</td>\n",
       "      <td>0.278682</td>\n",
       "      <td>0.194423</td>\n",
       "      <td>0.339410</td>\n",
       "      <td>0.263474</td>\n",
       "    </tr>\n",
       "    <tr>\n",
       "      <th>Mobiles &amp; Tablets</th>\n",
       "      <td>0.037296</td>\n",
       "      <td>0.238027</td>\n",
       "      <td>0.135062</td>\n",
       "      <td>0.018155</td>\n",
       "      <td>0.367950</td>\n",
       "      <td>0.533759</td>\n",
       "      <td>0.030326</td>\n",
       "      <td>0.123085</td>\n",
       "      <td>0.053844</td>\n",
       "      <td>0.161870</td>\n",
       "      <td>1.000000</td>\n",
       "      <td>0.014512</td>\n",
       "      <td>-0.003076</td>\n",
       "      <td>0.064659</td>\n",
       "      <td>0.037827</td>\n",
       "      <td>0.070298</td>\n",
       "      <td>0.084520</td>\n",
       "    </tr>\n",
       "    <tr>\n",
       "      <th>Others</th>\n",
       "      <td>0.041667</td>\n",
       "      <td>0.150902</td>\n",
       "      <td>0.074352</td>\n",
       "      <td>0.523970</td>\n",
       "      <td>0.226793</td>\n",
       "      <td>0.093190</td>\n",
       "      <td>0.240040</td>\n",
       "      <td>0.209012</td>\n",
       "      <td>0.257818</td>\n",
       "      <td>0.054365</td>\n",
       "      <td>0.014512</td>\n",
       "      <td>1.000000</td>\n",
       "      <td>-0.042407</td>\n",
       "      <td>0.120554</td>\n",
       "      <td>0.063695</td>\n",
       "      <td>0.133543</td>\n",
       "      <td>0.055455</td>\n",
       "    </tr>\n",
       "    <tr>\n",
       "      <th>School &amp; Education</th>\n",
       "      <td>-0.031247</td>\n",
       "      <td>0.016345</td>\n",
       "      <td>0.185756</td>\n",
       "      <td>0.349240</td>\n",
       "      <td>0.220149</td>\n",
       "      <td>0.078790</td>\n",
       "      <td>0.260905</td>\n",
       "      <td>0.098967</td>\n",
       "      <td>0.301744</td>\n",
       "      <td>0.138849</td>\n",
       "      <td>-0.003076</td>\n",
       "      <td>-0.042407</td>\n",
       "      <td>1.000000</td>\n",
       "      <td>0.140403</td>\n",
       "      <td>0.187934</td>\n",
       "      <td>0.087700</td>\n",
       "      <td>0.001890</td>\n",
       "    </tr>\n",
       "    <tr>\n",
       "      <th>Soghaat</th>\n",
       "      <td>0.023158</td>\n",
       "      <td>0.184994</td>\n",
       "      <td>0.410663</td>\n",
       "      <td>0.341190</td>\n",
       "      <td>0.054836</td>\n",
       "      <td>0.170628</td>\n",
       "      <td>0.246042</td>\n",
       "      <td>0.268564</td>\n",
       "      <td>0.162648</td>\n",
       "      <td>0.278682</td>\n",
       "      <td>0.064659</td>\n",
       "      <td>0.120554</td>\n",
       "      <td>0.140403</td>\n",
       "      <td>1.000000</td>\n",
       "      <td>0.315900</td>\n",
       "      <td>0.134456</td>\n",
       "      <td>0.100223</td>\n",
       "    </tr>\n",
       "    <tr>\n",
       "      <th>Superstore</th>\n",
       "      <td>0.003918</td>\n",
       "      <td>0.116739</td>\n",
       "      <td>0.276384</td>\n",
       "      <td>0.188083</td>\n",
       "      <td>0.040121</td>\n",
       "      <td>0.238944</td>\n",
       "      <td>0.265342</td>\n",
       "      <td>0.127837</td>\n",
       "      <td>0.098026</td>\n",
       "      <td>0.194423</td>\n",
       "      <td>0.037827</td>\n",
       "      <td>0.063695</td>\n",
       "      <td>0.187934</td>\n",
       "      <td>0.315900</td>\n",
       "      <td>1.000000</td>\n",
       "      <td>0.051083</td>\n",
       "      <td>0.061129</td>\n",
       "    </tr>\n",
       "    <tr>\n",
       "      <th>Women's Fashion</th>\n",
       "      <td>-0.013441</td>\n",
       "      <td>0.195529</td>\n",
       "      <td>0.235186</td>\n",
       "      <td>0.039935</td>\n",
       "      <td>0.120232</td>\n",
       "      <td>0.151672</td>\n",
       "      <td>0.326598</td>\n",
       "      <td>0.368711</td>\n",
       "      <td>0.427298</td>\n",
       "      <td>0.339410</td>\n",
       "      <td>0.070298</td>\n",
       "      <td>0.133543</td>\n",
       "      <td>0.087700</td>\n",
       "      <td>0.134456</td>\n",
       "      <td>0.051083</td>\n",
       "      <td>1.000000</td>\n",
       "      <td>0.245912</td>\n",
       "    </tr>\n",
       "    <tr>\n",
       "      <th>\\N</th>\n",
       "      <td>-0.113714</td>\n",
       "      <td>0.386124</td>\n",
       "      <td>0.151909</td>\n",
       "      <td>0.046394</td>\n",
       "      <td>0.206217</td>\n",
       "      <td>0.343105</td>\n",
       "      <td>0.115837</td>\n",
       "      <td>0.232064</td>\n",
       "      <td>0.025691</td>\n",
       "      <td>0.263474</td>\n",
       "      <td>0.084520</td>\n",
       "      <td>0.055455</td>\n",
       "      <td>0.001890</td>\n",
       "      <td>0.100223</td>\n",
       "      <td>0.061129</td>\n",
       "      <td>0.245912</td>\n",
       "      <td>1.000000</td>\n",
       "    </tr>\n",
       "  </tbody>\n",
       "</table>\n",
       "</div>"
      ],
      "text/plain": [
       "                    Customer ID  Appliances  Beauty & Grooming     Books  \\\n",
       "Customer ID            1.000000    0.003700          -0.016565 -0.030022   \n",
       "Appliances             0.003700    1.000000           0.193731  0.043866   \n",
       "Beauty & Grooming     -0.016565    0.193731           1.000000  0.228900   \n",
       "Books                 -0.030022    0.043866           0.228900  1.000000   \n",
       "Computing              0.061213    0.263430           0.224303 -0.034992   \n",
       "Entertainment          0.023333    0.479368           0.181270  0.000291   \n",
       "Health & Sports        0.006154    0.163356           0.285552  0.505895   \n",
       "Home & Living          0.009600    0.223021           0.338150  0.107125   \n",
       "Kids & Baby            0.026787    0.100470           0.226007  0.076643   \n",
       "Men's Fashion         -0.021875    0.255954           0.325817  0.104159   \n",
       "Mobiles & Tablets      0.037296    0.238027           0.135062  0.018155   \n",
       "Others                 0.041667    0.150902           0.074352  0.523970   \n",
       "School & Education    -0.031247    0.016345           0.185756  0.349240   \n",
       "Soghaat                0.023158    0.184994           0.410663  0.341190   \n",
       "Superstore             0.003918    0.116739           0.276384  0.188083   \n",
       "Women's Fashion       -0.013441    0.195529           0.235186  0.039935   \n",
       "\\N                    -0.113714    0.386124           0.151909  0.046394   \n",
       "\n",
       "                    Computing  Entertainment  Health & Sports  Home & Living  \\\n",
       "Customer ID          0.061213       0.023333         0.006154       0.009600   \n",
       "Appliances           0.263430       0.479368         0.163356       0.223021   \n",
       "Beauty & Grooming    0.224303       0.181270         0.285552       0.338150   \n",
       "Books               -0.034992       0.000291         0.505895       0.107125   \n",
       "Computing            1.000000       0.388337         0.251279       0.460664   \n",
       "Entertainment        0.388337       1.000000         0.154749       0.222534   \n",
       "Health & Sports      0.251279       0.154749         1.000000       0.509007   \n",
       "Home & Living        0.460664       0.222534         0.509007       1.000000   \n",
       "Kids & Baby          0.304751       0.105686         0.386683       0.923793   \n",
       "Men's Fashion        0.287602       0.403240         0.395933       0.313366   \n",
       "Mobiles & Tablets    0.367950       0.533759         0.030326       0.123085   \n",
       "Others               0.226793       0.093190         0.240040       0.209012   \n",
       "School & Education   0.220149       0.078790         0.260905       0.098967   \n",
       "Soghaat              0.054836       0.170628         0.246042       0.268564   \n",
       "Superstore           0.040121       0.238944         0.265342       0.127837   \n",
       "Women's Fashion      0.120232       0.151672         0.326598       0.368711   \n",
       "\\N                   0.206217       0.343105         0.115837       0.232064   \n",
       "\n",
       "                    Kids & Baby  Men's Fashion  Mobiles & Tablets    Others  \\\n",
       "Customer ID            0.026787      -0.021875           0.037296  0.041667   \n",
       "Appliances             0.100470       0.255954           0.238027  0.150902   \n",
       "Beauty & Grooming      0.226007       0.325817           0.135062  0.074352   \n",
       "Books                  0.076643       0.104159           0.018155  0.523970   \n",
       "Computing              0.304751       0.287602           0.367950  0.226793   \n",
       "Entertainment          0.105686       0.403240           0.533759  0.093190   \n",
       "Health & Sports        0.386683       0.395933           0.030326  0.240040   \n",
       "Home & Living          0.923793       0.313366           0.123085  0.209012   \n",
       "Kids & Baby            1.000000       0.380593           0.053844  0.257818   \n",
       "Men's Fashion          0.380593       1.000000           0.161870  0.054365   \n",
       "Mobiles & Tablets      0.053844       0.161870           1.000000  0.014512   \n",
       "Others                 0.257818       0.054365           0.014512  1.000000   \n",
       "School & Education     0.301744       0.138849          -0.003076 -0.042407   \n",
       "Soghaat                0.162648       0.278682           0.064659  0.120554   \n",
       "Superstore             0.098026       0.194423           0.037827  0.063695   \n",
       "Women's Fashion        0.427298       0.339410           0.070298  0.133543   \n",
       "\\N                     0.025691       0.263474           0.084520  0.055455   \n",
       "\n",
       "                    School & Education   Soghaat  Superstore  Women's Fashion  \\\n",
       "Customer ID                  -0.031247  0.023158    0.003918        -0.013441   \n",
       "Appliances                    0.016345  0.184994    0.116739         0.195529   \n",
       "Beauty & Grooming             0.185756  0.410663    0.276384         0.235186   \n",
       "Books                         0.349240  0.341190    0.188083         0.039935   \n",
       "Computing                     0.220149  0.054836    0.040121         0.120232   \n",
       "Entertainment                 0.078790  0.170628    0.238944         0.151672   \n",
       "Health & Sports               0.260905  0.246042    0.265342         0.326598   \n",
       "Home & Living                 0.098967  0.268564    0.127837         0.368711   \n",
       "Kids & Baby                   0.301744  0.162648    0.098026         0.427298   \n",
       "Men's Fashion                 0.138849  0.278682    0.194423         0.339410   \n",
       "Mobiles & Tablets            -0.003076  0.064659    0.037827         0.070298   \n",
       "Others                       -0.042407  0.120554    0.063695         0.133543   \n",
       "School & Education            1.000000  0.140403    0.187934         0.087700   \n",
       "Soghaat                       0.140403  1.000000    0.315900         0.134456   \n",
       "Superstore                    0.187934  0.315900    1.000000         0.051083   \n",
       "Women's Fashion               0.087700  0.134456    0.051083         1.000000   \n",
       "\\N                            0.001890  0.100223    0.061129         0.245912   \n",
       "\n",
       "                          \\N  \n",
       "Customer ID        -0.113714  \n",
       "Appliances          0.386124  \n",
       "Beauty & Grooming   0.151909  \n",
       "Books               0.046394  \n",
       "Computing           0.206217  \n",
       "Entertainment       0.343105  \n",
       "Health & Sports     0.115837  \n",
       "Home & Living       0.232064  \n",
       "Kids & Baby         0.025691  \n",
       "Men's Fashion       0.263474  \n",
       "Mobiles & Tablets   0.084520  \n",
       "Others              0.055455  \n",
       "School & Education  0.001890  \n",
       "Soghaat             0.100223  \n",
       "Superstore          0.061129  \n",
       "Women's Fashion     0.245912  \n",
       "\\N                  1.000000  "
      ]
     },
     "execution_count": 11,
     "metadata": {},
     "output_type": "execute_result"
    }
   ],
   "source": [
    "pivoted.corr()"
   ]
  },
  {
   "cell_type": "code",
   "execution_count": 12,
   "id": "af71b1bc",
   "metadata": {},
   "outputs": [],
   "source": [
    "final_df = move_columns_to_end(final_df,'Mobiles & Tablets','Beauty & Grooming')"
   ]
  },
  {
   "cell_type": "code",
   "execution_count": 13,
   "id": "57d7bab6",
   "metadata": {},
   "outputs": [
    {
     "data": {
      "text/html": [
       "<div>\n",
       "<style scoped>\n",
       "    .dataframe tbody tr th:only-of-type {\n",
       "        vertical-align: middle;\n",
       "    }\n",
       "\n",
       "    .dataframe tbody tr th {\n",
       "        vertical-align: top;\n",
       "    }\n",
       "\n",
       "    .dataframe thead th {\n",
       "        text-align: right;\n",
       "    }\n",
       "</style>\n",
       "<table border=\"1\" class=\"dataframe\">\n",
       "  <thead>\n",
       "    <tr style=\"text-align: right;\">\n",
       "      <th></th>\n",
       "      <th>Appliances</th>\n",
       "      <th>Books</th>\n",
       "      <th>Computing</th>\n",
       "      <th>Entertainment</th>\n",
       "      <th>Health &amp; Sports</th>\n",
       "      <th>Home &amp; Living</th>\n",
       "      <th>Kids &amp; Baby</th>\n",
       "      <th>Men's Fashion</th>\n",
       "      <th>Others</th>\n",
       "      <th>School &amp; Education</th>\n",
       "      <th>Soghaat</th>\n",
       "      <th>Superstore</th>\n",
       "      <th>Women's Fashion</th>\n",
       "      <th>\\N</th>\n",
       "      <th>Mobiles &amp; Tablets</th>\n",
       "      <th>Beauty &amp; Grooming</th>\n",
       "    </tr>\n",
       "  </thead>\n",
       "  <tbody>\n",
       "    <tr>\n",
       "      <th>3</th>\n",
       "      <td>285592.7</td>\n",
       "      <td>0.0</td>\n",
       "      <td>99.0</td>\n",
       "      <td>593501.2</td>\n",
       "      <td>999.0</td>\n",
       "      <td>22185.0</td>\n",
       "      <td>2250.0</td>\n",
       "      <td>97804.55</td>\n",
       "      <td>1249.0</td>\n",
       "      <td>495.0</td>\n",
       "      <td>32990.0</td>\n",
       "      <td>94530.0</td>\n",
       "      <td>29158.5</td>\n",
       "      <td>115044.85</td>\n",
       "      <td>1257478.35</td>\n",
       "      <td>34219.3</td>\n",
       "    </tr>\n",
       "    <tr>\n",
       "      <th>12</th>\n",
       "      <td>207775.3</td>\n",
       "      <td>0.0</td>\n",
       "      <td>3230.0</td>\n",
       "      <td>53644.0</td>\n",
       "      <td>0.0</td>\n",
       "      <td>130560.0</td>\n",
       "      <td>3018.0</td>\n",
       "      <td>27770.00</td>\n",
       "      <td>0.0</td>\n",
       "      <td>720.0</td>\n",
       "      <td>38498.0</td>\n",
       "      <td>0.0</td>\n",
       "      <td>41868.0</td>\n",
       "      <td>12974.00</td>\n",
       "      <td>30886.00</td>\n",
       "      <td>66022.0</td>\n",
       "    </tr>\n",
       "  </tbody>\n",
       "</table>\n",
       "</div>"
      ],
      "text/plain": [
       "    Appliances  Books  Computing  Entertainment  Health & Sports  \\\n",
       "3     285592.7    0.0       99.0       593501.2            999.0   \n",
       "12    207775.3    0.0     3230.0        53644.0              0.0   \n",
       "\n",
       "    Home & Living  Kids & Baby  Men's Fashion  Others  School & Education  \\\n",
       "3         22185.0       2250.0       97804.55  1249.0               495.0   \n",
       "12       130560.0       3018.0       27770.00     0.0               720.0   \n",
       "\n",
       "    Soghaat  Superstore  Women's Fashion         \\N  Mobiles & Tablets  \\\n",
       "3   32990.0     94530.0          29158.5  115044.85         1257478.35   \n",
       "12  38498.0         0.0          41868.0   12974.00           30886.00   \n",
       "\n",
       "    Beauty & Grooming  \n",
       "3             34219.3  \n",
       "12            66022.0  "
      ]
     },
     "execution_count": 13,
     "metadata": {},
     "output_type": "execute_result"
    }
   ],
   "source": [
    "final_df.head(2)"
   ]
  },
  {
   "cell_type": "markdown",
   "id": "6f043f1f",
   "metadata": {},
   "source": [
    "1325 rows (more than 9 not nulls)"
   ]
  },
  {
   "cell_type": "code",
   "execution_count": 14,
   "id": "048ef7d6",
   "metadata": {},
   "outputs": [
    {
     "data": {
      "text/html": [
       "<div>\n",
       "<style scoped>\n",
       "    .dataframe tbody tr th:only-of-type {\n",
       "        vertical-align: middle;\n",
       "    }\n",
       "\n",
       "    .dataframe tbody tr th {\n",
       "        vertical-align: top;\n",
       "    }\n",
       "\n",
       "    .dataframe thead th {\n",
       "        text-align: right;\n",
       "    }\n",
       "</style>\n",
       "<table border=\"1\" class=\"dataframe\">\n",
       "  <thead>\n",
       "    <tr style=\"text-align: right;\">\n",
       "      <th></th>\n",
       "      <th>Appliances</th>\n",
       "      <th>Books</th>\n",
       "      <th>Computing</th>\n",
       "      <th>Entertainment</th>\n",
       "      <th>Health &amp; Sports</th>\n",
       "      <th>Home &amp; Living</th>\n",
       "      <th>Kids &amp; Baby</th>\n",
       "      <th>Men's Fashion</th>\n",
       "      <th>Others</th>\n",
       "      <th>School &amp; Education</th>\n",
       "      <th>Soghaat</th>\n",
       "      <th>Superstore</th>\n",
       "      <th>Women's Fashion</th>\n",
       "      <th>\\N</th>\n",
       "      <th>Mobiles &amp; Tablets</th>\n",
       "      <th>Beauty &amp; Grooming</th>\n",
       "    </tr>\n",
       "  </thead>\n",
       "  <tbody>\n",
       "    <tr>\n",
       "      <th>3</th>\n",
       "      <td>285592.7</td>\n",
       "      <td>0.0</td>\n",
       "      <td>99.0</td>\n",
       "      <td>593501.2</td>\n",
       "      <td>999.0</td>\n",
       "      <td>22185.0</td>\n",
       "      <td>2250.0</td>\n",
       "      <td>97804.55</td>\n",
       "      <td>1249.0</td>\n",
       "      <td>495.0</td>\n",
       "      <td>32990.0</td>\n",
       "      <td>94530.0</td>\n",
       "      <td>29158.5</td>\n",
       "      <td>115044.85</td>\n",
       "      <td>0.017497</td>\n",
       "      <td>0.027410</td>\n",
       "    </tr>\n",
       "    <tr>\n",
       "      <th>12</th>\n",
       "      <td>207775.3</td>\n",
       "      <td>0.0</td>\n",
       "      <td>3230.0</td>\n",
       "      <td>53644.0</td>\n",
       "      <td>0.0</td>\n",
       "      <td>130560.0</td>\n",
       "      <td>3018.0</td>\n",
       "      <td>27770.00</td>\n",
       "      <td>0.0</td>\n",
       "      <td>720.0</td>\n",
       "      <td>38498.0</td>\n",
       "      <td>0.0</td>\n",
       "      <td>41868.0</td>\n",
       "      <td>12974.00</td>\n",
       "      <td>0.000430</td>\n",
       "      <td>0.052884</td>\n",
       "    </tr>\n",
       "  </tbody>\n",
       "</table>\n",
       "</div>"
      ],
      "text/plain": [
       "    Appliances  Books  Computing  Entertainment  Health & Sports  \\\n",
       "3     285592.7    0.0       99.0       593501.2            999.0   \n",
       "12    207775.3    0.0     3230.0        53644.0              0.0   \n",
       "\n",
       "    Home & Living  Kids & Baby  Men's Fashion  Others  School & Education  \\\n",
       "3         22185.0       2250.0       97804.55  1249.0               495.0   \n",
       "12       130560.0       3018.0       27770.00     0.0               720.0   \n",
       "\n",
       "    Soghaat  Superstore  Women's Fashion         \\N  Mobiles & Tablets  \\\n",
       "3   32990.0     94530.0          29158.5  115044.85           0.017497   \n",
       "12  38498.0         0.0          41868.0   12974.00           0.000430   \n",
       "\n",
       "    Beauty & Grooming  \n",
       "3            0.027410  \n",
       "12           0.052884  "
      ]
     },
     "execution_count": 14,
     "metadata": {},
     "output_type": "execute_result"
    }
   ],
   "source": [
    "final_df_scaled = mse_comparison.scale_df(df=final_df,n_targets=2,scale_method='min_max')\n",
    "final_df_scaled.head(2)"
   ]
  },
  {
   "cell_type": "code",
   "execution_count": 21,
   "id": "ddf37732",
   "metadata": {},
   "outputs": [
    {
     "name": "stdout",
     "output_type": "stream",
     "text": [
      "Cell execution time: 2023-04-20 05:34:45.538958\n"
     ]
    },
    {
     "name": "stderr",
     "output_type": "stream",
     "text": [
      "CV progress bar: 0it [00:00, ?it/s]"
     ]
    },
    {
     "name": "stdout",
     "output_type": "stream",
     "text": [
      "starting choose one model\n"
     ]
    },
    {
     "name": "stderr",
     "output_type": "stream",
     "text": [
      "\n",
      "Choose one progress bar: 0it [00:00, ?it/s]\u001b[A"
     ]
    },
    {
     "name": "stdout",
     "output_type": "stream",
     "text": [
      "Starting all\n",
      "[0.0028050086329988915, 0.0029814447611815073, 0.002739249862235058, 0.002851009512715355, 0.0028595558268116345, 0.002939350361205158, 0.0029567112093737665, 0.0030670582317592855, 0.003345517892453452, 0.003389842630527864, 0.003390355673249329, 0.0034606721514733934, 0.003488166047657543, 0.003506721182421794, 0.0035122664210613047, 0.003511427848387397, 0.0035164715353928288, 0.0035224904775301583, 0.0035261020722436114, 0.0035280966079892138, 0.00353288475916663, 0.0035400051657585667, 0.0035410907920268367, 0.0035448595518481965, 0.003546188343910117, 0.003547301558959568, 0.003551516115903664, 0.0035518827356047942, 0.0035519011776731823, 0.003551956536422626, 0.0035519950497213265, 0.0035519922653434537, 0.003552058879226784, 0.003552089896891354, 0.003552101779229583, 0.0035521447426258962, 0.0035522228280325625, 0.0035522823105294697, 0.0035523324821523663, 0.0035523364133531014, 0.003552357438129683, 0.00355242649254161, 0.003552479066200304, 0.003552634032140898, 0.003552845367935009, 0.0035527030518121725, 0.0035528372468886745, 0.00355344671745667, 0.003554456332026516, 0.0035631695119939756, 0.003563443663748743, 0.0035635156140873883, 0.0035635156140873883]\n",
      "runtime for all model:756.311437368393 seconds\n",
      "Finish all\n",
      "Starting ind\n",
      "[0.0011170828922110517, 0.001191619841538485, 0.0011751041158717674, 0.001186598124538218, 0.0012212005406217925, 0.0012469210117839239, 0.0012930784787686385, 0.0013569482356134653, 0.003157773596952533, 0.003277456393372473, 0.003356189573052079, 0.003881850140903738, 0.006668713064136271, 0.0066691685200917505, 0.006669552002295166, 0.0066687483834400344, 0.006668548894897289, 0.00666875468089676, 0.006668756741581887, 0.006668990109942939, 0.006668985442011652, 0.006668972684277477, 0.006668989404394074, 0.0066690005447992955, 0.006669006267548358, 0.006669011558579951, 0.006669017224163745, 0.006669023250466784, 0.0066690424969399085, 0.00666905499939343, 0.00666909839258623, 0.006669113587601185, 0.006669126686920111, 0.0066691309516175344, 0.006669141795026758, 0.006669147004378759, 0.006669156768204244, 0.006669188778870979, 0.006669203119636244, 0.006669207599646608, 0.006669225718384411, 0.006669258899323335, 0.00666925961838694, 0.006669307008546246, 0.006670753294739104, 0.006670753472371081]\n",
      "[0.004558007771002896, 0.0049434895509718035, 0.0041589343930785875, 0.004253125286607846, 0.0042838876143266565, 0.004416199294364562, 0.004409191667412602, 0.004426735714011134, 0.004436065797033877, 0.004415564123360103, 0.004396772806768119, 0.004450309291280687, 0.004486673443250617, 0.004501508096373253, 0.004514170660605057, 0.0045309511206989605, 0.004530885028396589, 0.004530526069980476, 0.004558618507568478, 0.0045632399277287326, 0.00456321392783114, 0.004563620359695038, 0.0045646700436537575, 0.004565013747739317, 0.004565594642960068, 0.004568391879620886, 0.004580340971550002, 0.004580912708422168, 0.0045805292335565646, 0.004591360215164709, 0.004592713860773767, 0.004592745977552934, 0.004592727448479644, 0.0045927547057802165, 0.004598811860418491, 0.004599262257198904, 0.004599759278217193, 0.004599482112581117, 0.004604462718376283, 0.004604585037417587, 0.00460445802905292, 0.004604468726714545, 0.004604512985307831, 0.004604504383558653, 0.00460451399517413, 0.0046045165055109355, 0.004604523333654686, 0.004604534614558246, 0.004604549345103158, 0.0046045705363054095, 0.004604667819867644, 0.004605122826980852, 0.004605122826980852]\n"
     ]
    },
    {
     "name": "stderr",
     "output_type": "stream",
     "text": [
      "\n",
      "Choose one progress bar: 1it [36:55, 2215.19s/it]\u001b[A"
     ]
    },
    {
     "name": "stdout",
     "output_type": "stream",
     "text": [
      "runtime for ind model:1458.872228384018 seconds\n",
      "Finish ind\n",
      "Starting all\n",
      "[0.0025669284487816286, 0.0030853445601276243, 0.003447227680708609, 0.0038721823633056387, 0.0038549794784492352, 0.00432491149193686, 0.004725109512816475, 0.004758569649049863, 0.004769097195724491, 0.004797972557732487, 0.004810031040242359, 0.004825217704846505, 0.004837640484732061, 0.004842058362033451, 0.0048427968758794635, 0.004846025516615964, 0.004856686972171932, 0.0048636333036435764, 0.004868441014808033, 0.004866924910840351, 0.004871887842881032, 0.004872498119764474, 0.00487446879328249, 0.004876150708134928, 0.004892993193278508, 0.004893223936054755, 0.004893608869847134, 0.004893778360981838, 0.004894610408475379, 0.004898082766843508, 0.004900818043359794, 0.0049008951829886535, 0.004900898757231385, 0.004900943098282248, 0.004900981267298545, 0.004900971151878963, 0.004900968759206729, 0.004900963294764043, 0.004900602689577642, 0.004900602978826784]\n",
      "runtime for all model:523.7728519439697 seconds\n",
      "Finish all\n",
      "Starting ind\n",
      "[0.001116129713739261, 0.0011788614268341167, 0.0011820036845751687, 0.001214988108532483, 0.001255519803315171, 0.001295295107500665, 0.0030720070342805197, 0.003144680815071499, 0.004041393220457915, 0.004196913827263041, 0.0038896797450453566, 0.004749986926067772, 0.004750166156678815, 0.004751086281778767, 0.004751046564087371, 0.004751190211768422, 0.004751274976909645, 0.004751334825783078, 0.004751442743965588, 0.00475156168634327, 0.004751677347817595, 0.004751730852754178, 0.004751771532104221, 0.004751786447959631, 0.004751804269500755, 0.004751801048339712, 0.004751691633869412, 0.004751659365202249, 0.004751664064198872, 0.0047516661228830534, 0.004751686661564764, 0.004751610560325888, 0.004751620185307605, 0.00475161955548799]\n",
      "[0.0042220785329484135, 0.005362395770378801, 0.005080545575862154, 0.005094261181682879, 0.0051739138073805075, 0.0052770597502409195, 0.005222463392273335, 0.005278374156208164, 0.005388319905773775, 0.005417422056209663, 0.005454808488928634, 0.0054126041791656, 0.005436276141104717, 0.005442986276496096, 0.0054450913028586765, 0.005455720817086588, 0.005455111878767001, 0.005457288065243488, 0.005458863100381795, 0.005460011878220028, 0.005465944200088816, 0.005465012839888269, 0.005468413378907368, 0.005500608127094619, 0.005500350168082051, 0.005500048603681216, 0.005500522476766948, 0.005501435852218896, 0.005500260802416053, 0.005500348153554941, 0.0055024878101556035, 0.005502517305361025, 0.005502347923009437, 0.00550220879547461, 0.00550755207408336, 0.005507676871924578, 0.005507641429888191, 0.005507562759893946, 0.005507958540961431, 0.005507869160779484, 0.005507788158378125, 0.0055079531062660276, 0.005508068525189511, 0.0055079607250571065, 0.005507762723312262, 0.005507527937185544, 0.005505822511122452, 0.005505619246713166, 0.005505480776784096, 0.005504937522811124, 0.005504829417233759, 0.00550436600158204, 0.005503930343737116, 0.005503732862303335, 0.005503508808122218, 0.005503500845062696, 0.0055036036529192344, 0.005504308667379793, 0.005529262714484603, 0.0055295580918880444, 0.005529371355746108, 0.005529385489067901, 0.005529210543327172, 0.005529562904650089, 0.0055294128107768025, 0.005529356154897751, 0.005529324935533668, 0.005529889121638969, 0.005529792337413999, 0.005529582018097103, 0.0055295578390763215, 0.005529348335433141, 0.005529109414176088, 0.005529039780811013, 0.005528780831375956, 0.005528653068053421, 0.005528795171473274, 0.005529002158678973, 0.005528810128327719, 0.005528636501929543, 0.005528429718384338, 0.00552810854317758, 0.005528015612400204, 0.005528609926818006, 0.005528701293225381, 0.005523697019250922, 0.005540416870803611, 0.005541563254632368, 0.005541941212594555, 0.005543021593117875, 0.005544833790117116, 0.005547712525076851, 0.005548289939324192, 0.0055610815774777425, 0.005560631867539186, 0.0055606193834043536, 0.005560619766961315]\n"
     ]
    },
    {
     "name": "stderr",
     "output_type": "stream",
     "text": [
      "\n",
      "Choose one progress bar: 2it [1:21:00, 2468.18s/it]\u001b[A"
     ]
    },
    {
     "name": "stdout",
     "output_type": "stream",
     "text": [
      "runtime for ind model:2121.500551700592 seconds\n",
      "Finish ind\n",
      "Starting all\n",
      "[0.0032295986178472362, 0.0032939543964014923, 0.0031097548520006165, 0.0043143877505919664, 0.004411851131142332, 0.0044026729455285225, 0.004449352956533002, 0.004836461932684057, 0.0049252312172214305, 0.005063380483454854, 0.005661583261562679, 0.005668101262139829, 0.005678127958808141, 0.005705298746241251, 0.005874866878095912, 0.005874457945662775, 0.005896144353677406, 0.005899486323488498, 0.005900958834316878, 0.005902439461377418, 0.0059027321348563075, 0.005903734001720305, 0.005904806158395257, 0.005905217737265323, 0.005904892481649859, 0.005906267083814051, 0.005908250988378441, 0.005909129406093635, 0.005910024559158513, 0.005917323372494734, 0.005917338114271407, 0.005917357313684401, 0.005918006195667907, 0.0059181420882414276, 0.005918211992354301, 0.005918034505863361, 0.005918051946138828, 0.00591805515986818, 0.005918067384670855, 0.005918092995533827, 0.005918096039687873, 0.005918198449148079, 0.005918279226749647, 0.005918278546430927, 0.00591832092238638, 0.005918289829511378, 0.005918251857245286, 0.005918232351109163, 0.005918198629994753, 0.005918189992688274, 0.0059182864025993445, 0.0059186808051033685, 0.005922464854998116, 0.005922464854998116]\n",
      "runtime for all model:791.5203518867493 seconds\n",
      "Finish all\n",
      "Starting ind\n",
      "[0.0011231186694379395, 0.001196021212798183, 0.0012110122984300513, 0.0012285520291340796, 0.0012496604888142956, 0.0012937923136879799, 0.0013630804620691005, 0.0014764286560223986, 0.0016691637563205797, 0.0020581160616653755, 0.0032558155519780843, 0.004913002066930203, 0.004966276766139333, 0.004881549324263738, 0.004927932118291131, 0.004822017112882891, 0.0048222252055142, 0.004822378719150818, 0.004822505429038076, 0.004822506306406804]\n",
      "[0.0054151185004853355, 0.005599142087364712, 0.004900479211606448, 0.005688775862508771, 0.006180825577547179, 0.006084721789993437, 0.006287700098007819, 0.006387705795790771, 0.00639066873044669, 0.006396961735507456, 0.006402401218819938, 0.006418430858717683, 0.006419159878867052, 0.006468596779161545, 0.006807129200529885, 0.006878401505444154, 0.006891343759818003, 0.006915767423255448, 0.006921287316342402, 0.006919308426671031, 0.0069221021790828174, 0.006923510458084941, 0.006927253765657898, 0.006929010935650832, 0.006936303371559482, 0.006939788640160005, 0.006940368965811528, 0.006940947637829595, 0.006941425684833613, 0.0069420403211619295, 0.006943080814514016, 0.0069462164185218975, 0.006952510872042299, 0.0069560517086956555, 0.006955981232775399, 0.006955840413683083, 0.006955911796955945, 0.006956253930826481, 0.006956446138943533, 0.006956013440444224, 0.0069561237578552645, 0.0069561744311442434, 0.006956174854000135]\n"
     ]
    },
    {
     "name": "stderr",
     "output_type": "stream",
     "text": [
      "\n",
      "Choose one progress bar: 3it [1:47:25, 2064.72s/it]\u001b[A"
     ]
    },
    {
     "name": "stdout",
     "output_type": "stream",
     "text": [
      "runtime for ind model:793.071769952774 seconds\n",
      "Finish ind\n",
      "Starting all\n",
      "[0.0023609608747345895, 0.0030792945037016175, 0.0031266934852825536, 0.003519843217798327, 0.0037239498870841594, 0.0038492295848355394, 0.003915917335307616, 0.0041065408096080305, 0.0048168048604326505, 0.004808493437294887, 0.004816805128815936, 0.004821870878471819, 0.004828566769416223, 0.004837179215551218, 0.004840548488078524, 0.00485372815772424, 0.004863668041521639, 0.004865556828499118, 0.004868932067485336, 0.004869279759357118, 0.004871547448473399, 0.004872311806805865, 0.0048725579693795, 0.00487440764592392, 0.0048788257387451265, 0.004878724906648936, 0.004878769094272162, 0.0048788013659582085, 0.004878981214081192, 0.004879199815341436, 0.004879647006397989, 0.004880210644731117, 0.004886485835397721, 0.004886584194652405, 0.004886583854534837]\n",
      "runtime for all model:436.82616329193115 seconds\n",
      "Finish all\n",
      "Starting ind\n",
      "[0.001113558923317941, 0.0011737014325860732, 0.0011748693939719666, 0.0011937193495698167, 0.0012212253756835267, 0.001268939039983345, 0.001342405875995427, 0.0014569353476945406, 0.0016575983572546618, 0.005317633600023909, 0.008418160649178488, 0.008412766988573147, 0.008412542933883705, 0.00841168215853887, 0.008411291945026537, 0.008416621405608584, 0.008415974627660274, 0.008416203766276447, 0.008416313543955547, 0.008416374636241217, 0.00841640557558899, 0.008416435732696884, 0.008416462568973472, 0.008416487299090909, 0.008416538429870942, 0.008416513895328678, 0.008416518870736448, 0.008416521345444605, 0.00841652663852403, 0.008416524858217464, 0.008416528109930547, 0.008416530626753752, 0.008416532645290112, 0.00841653271578297]\n",
      "[0.0036891105013235983, 0.00534072004353665, 0.005352221803603325, 0.005629915888574292, 0.005878540126277111, 0.005994274449940136, 0.006318509612217797, 0.006604099376620995, 0.006620212054315472, 0.006595327498085253, 0.006590319992865632, 0.006576870004488965, 0.006559400022757908, 0.006615412997557436, 0.006641480106869821, 0.006646006272028254, 0.006651180388323618, 0.0066663322118625055, 0.006673152982103, 0.006671987361973564, 0.0066722759891099225, 0.006674746203211219, 0.006676240833065228, 0.006677553435256766, 0.006681366515323113, 0.006690916322499324, 0.0066914890573629105, 0.0066916467134477174, 0.006691875263411411, 0.006692164168067722, 0.006692508575243931, 0.0066924204279529805, 0.006698284613194977, 0.00669763597290029, 0.006697242686184707, 0.0066972440495882924, 0.006697214527510313, 0.006697221339981891, 0.006697242371323906, 0.006697264189815759, 0.006697264189815759]\n"
     ]
    },
    {
     "name": "stderr",
     "output_type": "stream",
     "text": [
      "\n",
      "Choose one progress bar: 4it [2:11:09, 1811.99s/it]\u001b[A"
     ]
    },
    {
     "name": "stdout",
     "output_type": "stream",
     "text": [
      "runtime for ind model:987.724582195282 seconds\n",
      "Finish ind\n",
      "Starting all\n",
      "[0.002809140663996919, 0.0037133707067378537, 0.0037572786994530087, 0.003950963951716563, 0.004336424655247294, 0.004446456139464436, 0.0055123057450521245, 0.005581247092904837, 0.0059543178308207375, 0.005981358179415862, 0.005946797157528786, 0.0060244694388173195, 0.006087090062128335, 0.006155852865369908, 0.0063745633300855056, 0.006461733120319865, 0.006464059930703217, 0.006465666451023096, 0.006470162153071729, 0.006470714557125346, 0.0064727318560226345, 0.006474369716239418, 0.0064759098685495285, 0.006477075359423561, 0.006475785956377864, 0.006476124735368535, 0.006476130974063009, 0.006476073908901746, 0.006476095490100852, 0.006476026013009416, 0.006476243309907448, 0.006476331953412663, 0.006476264660027038, 0.0064761043834204975, 0.006476076475409026, 0.006476072489772125, 0.006476096694916939, 0.006476165448095639, 0.006476056594826879, 0.006476067118059851, 0.006476092168754538, 0.006476067887502189, 0.006476066968302137, 0.006476083635392982, 0.0064760867787015276, 0.0064761135796973, 0.006476158543161954, 0.006476210644617687, 0.006479012145291572, 0.006479038941301532, 0.006479042350422326, 0.006479040973608988, 0.006479040973608988]\n",
      "runtime for all model:750.9119162559509 seconds\n",
      "Finish all\n",
      "Starting ind\n",
      "[0.0010849712981608527, 0.0012365341346404844, 0.0020068129164198642, 0.0020286849857967418, 0.002074974325365052, 0.002085151436674445, 0.0020940370323267515, 0.002114712474705883, 0.002145553980178856, 0.0021910347080374495, 0.0030953561617044255, 0.003182587493099081, 0.004798815913082949, 0.0047973533761757736, 0.004797198126705289, 0.004797364028776794, 0.004797476107755422, 0.004797714681211892, 0.004797753037261423, 0.004798015249213278, 0.004798095118503148, 0.004798179983173641, 0.004798138775674437, 0.004798140944829726, 0.004798214288800162, 0.004799640159554619, 0.004803597347064515, 0.004805016859382087, 0.004805103203476481, 0.004805074778798131, 0.004805211634202019, 0.004805175763396431, 0.004805090956767822, 0.004805089898562072]\n",
      "[0.004598680851989329, 0.006226740677912479, 0.00598159001692825, 0.00691655603383812, 0.007189421393348608, 0.007139120012266545, 0.007138625323119976, 0.007125399834290022, 0.007119304736497065, 0.007195300806900598, 0.007073844030020997, 0.007165778907047386, 0.007203338184003033, 0.0072154675780802865, 0.007227113312615897, 0.007233879972267878, 0.007240845402113586, 0.007248832390433184, 0.007250766352308776, 0.00725280679198879, 0.007253151167793183, 0.0072540539875641016, 0.007254766876456159, 0.007254944623075001, 0.007254890857624513, 0.007254884550400716, 0.007254811945349238, 0.007254772459980842, 0.007254758478003026, 0.007255365285899346, 0.0072556034808918535, 0.00725567031221605, 0.0072560973819701825, 0.007256960079521357, 0.007255355508053098, 0.0072557133872958365, 0.00725571142498953, 0.007256954790788575, 0.007256953813264222]\n"
     ]
    },
    {
     "name": "stderr",
     "output_type": "stream",
     "text": [
      "\n",
      "Choose one progress bar: 5it [2:39:54, 1780.47s/it]\u001b[A"
     ]
    },
    {
     "name": "stdout",
     "output_type": "stream",
     "text": [
      "runtime for ind model:973.6659550666809 seconds\n",
      "Finish ind\n",
      "Starting all\n",
      "[0.0024912592190279277, 0.002777018167645951, 0.002833585010957073, 0.0029618945653834415, 0.0035375287162070653, 0.004384118690746864, 0.004411426370315684, 0.0048897805677442, 0.004941967402178715, 0.004978948632042002, 0.004997678536194565, 0.005021768905457821, 0.005087010063409688, 0.00543737027523624, 0.005455407561787187, 0.005458960698972267, 0.005459361430741302, 0.005464735586517823, 0.005470231274766837, 0.005473897076252802, 0.00547804298126959, 0.00548485901852591, 0.005486946111936327, 0.005489658560329276, 0.005490029191929374, 0.00549055313874599, 0.005491316080064648, 0.005493994378180428, 0.005494356312586623, 0.0054942937637061234, 0.00549420851792613, 0.005494229768949563, 0.005494239666856571, 0.005494304906550486, 0.005494408172865647, 0.005494396630750187, 0.005494517472441518, 0.005495257458941301, 0.005495389067621967, 0.005495413657584789, 0.0054955207339060595, 0.0054955439730576235, 0.005500065400717404, 0.005500051223682003, 0.005500050309834435, 0.005500050549866743]\n",
      "runtime for all model:621.8642239570618 seconds\n",
      "Finish all\n",
      "Starting ind\n",
      "[0.0010970762911687942, 0.0011511725170035903, 0.0011620424761125973, 0.001168507395110625, 0.0011776769742234943, 0.0012050491677537312, 0.0012354219028859674, 0.0012852511300622369, 0.003941229015724158, 0.003998204221082613, 0.004090415375238496, 0.0049543088734690975, 0.005143630976447126, 0.006567056039509686, 0.006567176918775408, 0.006567352886760451, 0.006567391871065589, 0.0065674654346785395, 0.00656748822710831, 0.006567587062520325, 0.006567616383182792, 0.006567633860706421, 0.006567663976131814, 0.006567665769853485, 0.006567705098465683, 0.0065677967126815135, 0.006567553768175467, 0.006567464041302218, 0.006567482162791209, 0.006567466553439876, 0.006567475464448384, 0.0065674431172300166, 0.006567468068917538, 0.006567510867178684, 0.006567546669960464, 0.006567572702596664, 0.006567590120670375, 0.006567595934977015, 0.00656759587300978]\n",
      "[0.004093764714308056, 0.004590454928718195, 0.004691992747325786, 0.005475964806799988, 0.00558606584654482, 0.0053819488009115585, 0.005451921370933625, 0.005466461303552039, 0.005490542673644129, 0.005492498792759119, 0.0055351400364117105, 0.005601436393611122, 0.005620383493531053, 0.005638143390422244, 0.005651484233726607, 0.005664951998851234, 0.005676413091941603, 0.005688905421662643, 0.0056938659506455755, 0.005701790495048582, 0.005701347769985721, 0.005702824668624223, 0.005701679576234264, 0.005703404746159979, 0.005705485518220347, 0.00571452350203735, 0.005714509869636524, 0.0057149132322459354, 0.005722877633783713, 0.005729169424641574, 0.005741865564445574, 0.005757244597547022, 0.00580466479972428, 0.005804500456889949, 0.005804745437231319, 0.005806485481882067, 0.005806459879550532, 0.0058064631646695345, 0.005806463499378664]\n"
     ]
    },
    {
     "name": "stderr",
     "output_type": "stream",
     "text": [
      "\n",
      "Choose one progress bar: 6it [3:08:21, 1755.61s/it]\u001b[A"
     ]
    },
    {
     "name": "stdout",
     "output_type": "stream",
     "text": [
      "runtime for ind model:1085.4825429916382 seconds\n",
      "Finish ind\n",
      "Starting all\n",
      "[0.00249022672412438, 0.0025712206163229, 0.002655440632928026, 0.002756215704956971, 0.0030397095365258297, 0.00303349375887862, 0.0030403366304224523, 0.003062800094010898, 0.0030572685483523, 0.0030657150683244404, 0.00307548024154707, 0.0030791471959789995, 0.003087335911556805, 0.003081479002972413, 0.0030752918274427983, 0.0030891943601863855, 0.0030924931596679264, 0.0030975469201528346, 0.0030999820191892507, 0.0031135625721672613, 0.0031142507136022518, 0.003114512136720308, 0.003114856732018052, 0.003117572303217208, 0.003117846237327103, 0.0031179240846296134, 0.0031185938698874926, 0.0031181002804280353, 0.0031182272303339883, 0.003118264897589435, 0.003118267746642231, 0.0031182155384444766, 0.003118262816404449, 0.0031183253965538517, 0.0031183175973551135, 0.0031180667420245725, 0.0031181376088391744, 0.0031180410089763732, 0.003118057247396352, 0.0031181967306556655, 0.0031182125801721937, 0.003118212432967643]\n",
      "runtime for all model:531.6146805286407 seconds\n",
      "Finish all\n",
      "Starting ind\n",
      "[6.89492480692258e-05, 5.698366067517378e-05, 5.540715045403129e-05, 6.344763746494404e-05, 6.417853969013088e-05, 6.84800630599616e-05, 7.149966937879863e-05, 7.300387972666796e-05, 7.454451860488458e-05, 7.58616100894263e-05, 7.591593004111101e-05, 7.611419173059967e-05, 7.619150353958297e-05, 7.632924079042526e-05, 7.629126669540867e-05, 7.641340845186164e-05, 7.646468227602273e-05, 7.647263652743467e-05, 7.647760897376653e-05, 7.659108574610363e-05, 7.65446411716741e-05, 7.657065326054214e-05, 7.657727368947665e-05, 7.658907608378986e-05, 7.661447494442181e-05, 7.662982581087979e-05, 7.666479135068142e-05, 7.661179747469419e-05, 7.661684640602648e-05, 7.662037554006604e-05, 7.662016624071307e-05]\n",
      "[0.004910036727231874, 0.0050898569967213515, 0.005495380201407921, 0.0052564667155562276, 0.005895186392985375, 0.005900834204416632, 0.005948679579470624, 0.00595147570153379, 0.005957812040999039, 0.005987478056272901, 0.0060184850383185, 0.006040394021855757, 0.006062028495573441, 0.006035491970884851, 0.006043662917338513, 0.006050739206346382, 0.0060532295894516145, 0.006060275513576195, 0.006059742653267036, 0.006059235680118691, 0.0060593755774058355, 0.006061691215945185, 0.0060622865992740775, 0.00606227091556488, 0.006061404325903975, 0.006061283114159904, 0.006061387113099083, 0.006062232882697683, 0.006062745831240051, 0.006063019346779851, 0.006063021072110852, 0.0060632542372165135, 0.006063125286054916, 0.0060629387792276905, 0.006062890916323295, 0.006062800306515667, 0.0060628056870468405, 0.006063060953626584, 0.006063274112240424, 0.006064042921401324, 0.006062572562670048, 0.006062716422588281, 0.006062680427129271, 0.006062844099203039, 0.006063114523155756, 0.006063677994571376, 0.0060649764308030605, 0.00606413681940249, 0.006064170243287185, 0.006064188238037742, 0.006064138765853903, 0.006064157519011234, 0.006064219481014085, 0.006064303486535723, 0.006064374985611933, 0.0060645344479671095, 0.006064650045999241, 0.00606441786577528, 0.006064642222445314, 0.006064723980197168, 0.006064966593803971, 0.006064884974046667, 0.006065259520039828, 0.006066619152907375, 0.0060700696073566485, 0.006075934784802438, 0.006120558682133834, 0.006120558682133834]\n"
     ]
    },
    {
     "name": "stderr",
     "output_type": "stream",
     "text": [
      "\n",
      "Choose one progress bar: 7it [3:40:28, 1811.48s/it]\u001b[A"
     ]
    },
    {
     "name": "stdout",
     "output_type": "stream",
     "text": [
      "runtime for ind model:1394.8953247070312 seconds\n",
      "Finish ind\n",
      "Starting all\n",
      "[0.002316730619630538, 0.002354853637101214, 0.0024503020991994235, 0.0033531977198137846, 0.003434031805650061, 0.003330557716252272, 0.0033855760761751135, 0.0034266020865162798, 0.0034291469091699113, 0.0034291119778261715, 0.0034282001230526034, 0.003440850132900534, 0.003452419520022129, 0.003458690295925789, 0.0034583295709938746, 0.0034596664847890493, 0.0034609535967759465, 0.0034617694082241363, 0.003464065980302372, 0.003466897835234989, 0.0034667534807146898, 0.003467319991111703, 0.003468355134699369, 0.0034691624259572174, 0.0034687972000802926, 0.0034689141475468333, 0.0034690644174288666, 0.0034688665884931823, 0.003468701409139292, 0.0034691368553090712, 0.003469125922764321, 0.0034692799394149577, 0.003469263015779568, 0.0034692427694062123, 0.0034679514435636575, 0.003467872948723938, 0.003468781613457378, 0.0034678908469782457, 0.003468185183105979, 0.0034679930985626354, 0.0034678226487627126, 0.0034709068205126883, 0.003471417643276255, 0.00347080442696219, 0.003470974550850546, 0.003470857515491352, 0.003470857515491352]\n",
      "runtime for all model:647.035765171051 seconds\n",
      "Finish all\n",
      "Starting ind\n",
      "[0.0011292633249144605, 0.0012077978091829277, 0.0012205293933056844, 0.001235648507652781, 0.001287845055776588, 0.0013751696133285519, 0.004104016069706588, 0.004394515401340187, 0.006540765929344851, 0.006560217848350147, 0.006586588983289591, 0.00662881782954626, 0.006723527766673924, 0.007439960302834736, 0.007439467524049609, 0.007439668731398663, 0.007439787841434434, 0.007440061023457524, 0.007440146596082257, 0.007440335887724275, 0.007440405273879671, 0.007440579668590611, 0.007440609484282774, 0.007440649712561131, 0.007440731342325524, 0.007440732174514244]\n",
      "[0.0036061788881026472, 0.0033852119842343762, 0.0037163819035744296, 0.004198689493168747, 0.004123204884472918, 0.0041248460002646275, 0.004107569495222214, 0.00413606864088206, 0.004191345940358784, 0.004207545468971975, 0.004215288004557211, 0.004224905047804038, 0.004249896166293154, 0.004264649649045313, 0.004714354009081933, 0.004689383478452483, 0.004683300441646035, 0.00468668537989464, 0.004690857501977787, 0.004700876267436446, 0.004708911456270006, 0.004709529007712346, 0.004710576307580122, 0.004710782877528301, 0.004710861513178868, 0.00471111533894492, 0.0047116177365592515, 0.004711087498209028, 0.004711191583391677, 0.004711205858787581, 0.004711416638520531, 0.00471157591170899, 0.0047116622957240825, 0.004711674124162233, 0.004711669829246956, 0.004711731588872429, 0.0047117469384723954, 0.004711791760517877, 0.0047118149089300536, 0.004711852228738357, 0.004717236375840046, 0.004717302489924313, 0.004717385600697545, 0.004717282534062639, 0.004717497244300748, 0.004717556382084477, 0.004717554367833908, 0.004717563700256664, 0.004717563700256664]\n"
     ]
    },
    {
     "name": "stderr",
     "output_type": "stream",
     "text": [
      "\n",
      "Choose one progress bar: 8it [4:07:51, 1758.14s/it]\u001b[A"
     ]
    },
    {
     "name": "stdout",
     "output_type": "stream",
     "text": [
      "runtime for ind model:996.880202293396 seconds\n",
      "Finish ind\n",
      "Starting all\n",
      "[0.003102799856736535, 0.0030056140257298577, 0.0029509810715309575, 0.004644980450238524, 0.005550189903168303, 0.0054213408830644395, 0.005472462358201759, 0.005407690583454601, 0.005404971071568668, 0.0054012870010458226, 0.005409924504424008, 0.0054342315971180315, 0.005455278007105958, 0.005463407334788722, 0.005502681237616255, 0.00551876638206264, 0.0055208963891555714, 0.0055283812798471495, 0.005529868746987232, 0.0055243750741305895, 0.005526786909698675, 0.005531560645271553, 0.005534311743156068, 0.005538993736075278, 0.0055390528994252045, 0.005539615640468365, 0.005539181114642714, 0.005539630306667279, 0.0055392921750505655, 0.005539879636400941, 0.005539885788269706, 0.005539601553842107, 0.005538595223022335, 0.0055374162533436974, 0.005536782820933109, 0.00554363484350599, 0.0055436392218076915, 0.005543703057692738, 0.005543751678300764, 0.005543919696751088, 0.005543921803907682, 0.00554392545960194, 0.00554392545960194]\n",
      "runtime for all model:595.0696604251862 seconds\n",
      "Finish all\n",
      "Starting ind\n",
      "[0.0011494624421241697, 0.001145480529824432, 0.0011966438384457098, 0.0012054114629618307, 0.0012259169008693126, 0.0012488757455597567, 0.0021354928851309, 0.002174553792674889, 0.003028129494349824, 0.003091072070291541, 0.0032018566063722435, 0.004751446920075602, 0.0047533365265608335, 0.004753551854309871, 0.0047535662030261236, 0.004753828340129798, 0.004753916239130506, 0.004754226737224351, 0.0047547120295826336, 0.004754740774973125, 0.0047552238011309075, 0.004755267454824311, 0.0047553350091034926, 0.004755349508371751, 0.004755372174217662, 0.00475537474161902, 0.004755395232705923, 0.004755403163825016, 0.004755414770669148, 0.004755413321273254]\n",
      "[0.0051664378509339946, 0.0051797708875724975, 0.0052859974126382, 0.005432028705058417, 0.005693939027633001, 0.005426310467856553, 0.005280525577115393, 0.005296724137861665, 0.005244193320676318, 0.00525700094656593, 0.005279195535072493, 0.005298095920999581, 0.0053706481277840615, 0.0053717799641653866, 0.005374697516074778, 0.0053797418993619135, 0.005382075055090791, 0.005384503512096796, 0.005386895230243053, 0.00538932020957719, 0.00538733628962121, 0.005389515712685527, 0.0053895083142535575, 0.005390883426345276, 0.005391686515797821, 0.005391871459770908, 0.005391977423946295, 0.005391489087156942, 0.0053915482765393595, 0.0053916833062024345, 0.005391563094446731, 0.005391536733587626, 0.005391589879986812, 0.005391649513936018, 0.005391607584363474, 0.005429297971537743, 0.005431166100317061, 0.005447820181460264, 0.005448892777690234, 0.005449181038690187, 0.005449153030151444, 0.0054492530874527805, 0.005449245955252878, 0.005449237086678345, 0.005449250443879414, 0.005449385378318483, 0.005449691855983858, 0.00545176894355031, 0.00545176894355031]\n"
     ]
    },
    {
     "name": "stderr",
     "output_type": "stream",
     "text": [
      "\n",
      "Choose one progress bar: 9it [4:35:50, 1733.28s/it]\u001b[A"
     ]
    },
    {
     "name": "stdout",
     "output_type": "stream",
     "text": [
      "runtime for ind model:1083.5435409545898 seconds\n",
      "Finish ind\n",
      "Starting all\n",
      "[0.0033191683921368086, 0.0034927508995611853, 0.0035866123057661887, 0.0037419311008896595, 0.0038656203373064087, 0.0042710100257016825, 0.004918850273150881, 0.004915241174960816, 0.004976746250444796, 0.004985611259240106, 0.0050032926001009025, 0.004990662743198983, 0.004996699834012338, 0.005005943819672121, 0.005009185707125263, 0.00501290109002415, 0.005016521257811756, 0.005018624042178338, 0.005026901808346827, 0.005030471034676805, 0.0050343129747924915, 0.005036482766755139, 0.005036879269942175, 0.005037499516070197, 0.0050378015825784245, 0.005039311786080645, 0.005039943248213618, 0.005039872291388399, 0.0050396614673864385, 0.005039945691283828, 0.005040052926570511, 0.005040225201087957, 0.00504047806539452, 0.005043128999593675, 0.005045843491787254, 0.005044135431121284, 0.005044159471767679, 0.005044281306510724, 0.005044368053729664, 0.005044266040608181, 0.005044046589995524, 0.0050439991201738366, 0.0050439814537774465, 0.005043975223676668, 0.005044052522950581, 0.005043998077000814, 0.005044027403398944, 0.005044041146692988, 0.005044059948046842, 0.005044067982352468, 0.005044122529710591, 0.005044330524771061, 0.005044554317968643, 0.005044623245368246, 0.005044621536119662, 0.005044620413035249, 0.005044621237100727, 0.0050446188887506484, 0.005044617967972391]\n",
      "runtime for all model:883.6290519237518 seconds\n",
      "Finish all\n",
      "Starting ind\n",
      "[0.0011105297295839064, 0.0014080029795568402, 0.002011656807265921, 0.0037804572287130204, 0.0037977097076294488, 0.003812014030202112, 0.003827109483879209, 0.003850639149261501, 0.003890000575855348, 0.003953885644174657, 0.004066356220960418, 0.004689705348767102, 0.004702544871492734, 0.00472153509238989, 0.0047686908959935215, 0.004662181825797123, 0.004662557360670906, 0.004662600786007458, 0.004662711253047668, 0.004662860425297355, 0.00466269383619381, 0.004662838382252242, 0.004662897516785185, 0.0046631399450263455, 0.004663220482873485, 0.004663322105247478, 0.004663376883991287, 0.004663233679564064, 0.004663225449564199, 0.00466323719044087, 0.004663259005182082, 0.004663308368327036, 0.0046633277733246605, 0.004663344428288087, 0.004663358497038009, 0.004663392358572303, 0.004663394325995723, 0.004663462201157717, 0.004663560017101302, 0.0046636722701301585, 0.004663979865208663, 0.00466479368585216, 0.004670040876553841, 0.0046700427440170165, 0.00467004514493475, 0.004670047914483494, 0.004670047498762936]\n",
      "[0.00558462347965581, 0.005797922634179102, 0.006285501351886849, 0.006676962739617587, 0.006775763429180147, 0.00664018696097466, 0.006614409650356772, 0.006627784763876393, 0.006660776970234096, 0.006687689762015482, 0.0066701356842380575, 0.0066665063564554355, 0.006699161521422597, 0.006720258658245606, 0.0067262920735063235, 0.006748107401221307, 0.0067415537521862134, 0.006747147475552296, 0.0067541137102644835, 0.00676332266444625, 0.006763781820533378, 0.0067633699882767686, 0.006762082250200923, 0.006759796076251287, 0.006774010121006782, 0.0067743205606181234, 0.006775437128888906, 0.006776032999860379, 0.006776021674627784, 0.006776150734570699, 0.00677647059342833, 0.006776889557853154, 0.00678214989008036, 0.0067876666222715975, 0.006784377514668025, 0.006784721527313147, 0.00678478070141921, 0.006784807038295082, 0.00678480542727585, 0.006784848531765766, 0.00678489134134119, 0.006784917148303174, 0.006786788002319688, 0.006786786362775433, 0.006786782733710833, 0.006786780729445052, 0.006786780115902244]\n"
     ]
    },
    {
     "name": "stderr",
     "output_type": "stream",
     "text": [
      "\n",
      "Choose one progress bar: 10it [5:13:11, 1879.16s/it]\u001b[A"
     ]
    },
    {
     "name": "stdout",
     "output_type": "stream",
     "text": [
      "runtime for ind model:1357.3701839447021 seconds\n",
      "Finish ind\n",
      "MSE all: 0.028411094009027693\n",
      "MSE ind: 0\n",
      "for ind was chosen\n"
     ]
    },
    {
     "name": "stderr",
     "output_type": "stream",
     "text": [
      "\n"
     ]
    },
    {
     "name": "stdout",
     "output_type": "stream",
     "text": [
      "[0.000996287331801691, 0.0010904071278196395, 0.0010641780167316309, 0.0010718925208052128, 0.0010945648679660147, 0.001144474751572604, 0.0010788909331706773, 0.0011177676409915905, 0.0011727113322588458, 0.0012649500202632634, 0.0014175486185307282, 0.0017367543742751398, 0.003242838661672672, 0.005921697184531995, 0.005921288824271717, 0.00592129510175612, 0.005921608514998219, 0.005921793575902373, 0.005922501551228863, 0.005924767200398034, 0.005922985962596182, 0.005923121847203261, 0.005923508658185814, 0.005923138720274025, 0.005922921452086264, 0.005922986747499129, 0.00592298904646141, 0.005922992580879191, 0.005922989648215769, 0.005922988902559619, 0.005922990814547529, 0.0059230261173119645, 0.005923030438421291, 0.00592303204454326, 0.00592303983195906, 0.005923039956811051]\n",
      "[0.004312091742752975, 0.0057600640570185675, 0.005412269143974651, 0.0054728670130490395, 0.007418233233136539, 0.007472247179887245, 0.0076206880626198455, 0.00768244291768891, 0.007716011061870441, 0.007729093600699809, 0.0077545893202687274, 0.007751042362795492, 0.007764588125101626, 0.007773710241245904, 0.00777851879257048, 0.00778473299449593, 0.007789081618105572, 0.00779158688023796, 0.00778922598887555, 0.007791021666021659, 0.007791324409271524, 0.007788521504739144, 0.0077883416556239525, 0.007789759981993455, 0.007791658502674939, 0.007792981748364238, 0.007793096044182953, 0.007793202542758238, 0.007793133163719414, 0.007793282977327602, 0.007793335001652887, 0.00781147639737807, 0.007811628048139845, 0.007811708907032701, 0.007811765276751338, 0.007811752802731396, 0.007811887188730669, 0.007811892822346761, 0.0078120137569376805, 0.007812101405877439, 0.007811974038614641, 0.007812065363898507, 0.007811854274903424, 0.007811901162972379, 0.007811921550510468, 0.007811949864747927, 0.0078120379919141255, 0.007811897403229987, 0.007812024432639134, 0.0078121940895569, 0.007812448855967881, 0.0078114546837365975, 0.007811493273033607, 0.007811493987332778]\n"
     ]
    },
    {
     "name": "stderr",
     "output_type": "stream",
     "text": [
      "CV progress bar: 1it [5:36:48, 20208.07s/it]"
     ]
    },
    {
     "name": "stdout",
     "output_type": "stream",
     "text": [
      "runtime for ind model:1416.4673500061035 seconds\n",
      "runtime for choose one model:20208.071364879608 seconds\n",
      "starting choose one model\n"
     ]
    },
    {
     "name": "stderr",
     "output_type": "stream",
     "text": [
      "\n",
      "Choose one progress bar: 0it [00:00, ?it/s]\u001b[A"
     ]
    },
    {
     "name": "stdout",
     "output_type": "stream",
     "text": [
      "Starting all\n",
      "[0.0033196721453079467, 0.0035922582995435563, 0.0036084364101337794, 0.004178756942028884, 0.004122209273376164, 0.00541108122502026, 0.005455996971320058, 0.005430713381696263, 0.005432620163856428, 0.00543918274091869, 0.005463938536975208, 0.0054667083662668535, 0.005486591576490569, 0.005490159596392507, 0.0055025001943456355, 0.005501815731397141, 0.005505374042310967, 0.005506540886612218, 0.005506909085064288, 0.005512536232836581, 0.005518744643873317, 0.005519249184624163, 0.005520115437878358, 0.005521041857996938, 0.005521276946638837, 0.005521309399158058, 0.005521517603329257, 0.005521451273040811, 0.005521630096248783, 0.005522382330861884, 0.005522868421122072, 0.005523383998072211, 0.00552562570699926, 0.0055262465792678805, 0.005526348725035831, 0.00552692901983116, 0.005529607247072981, 0.005529654230315008, 0.005529859965100378, 0.005530203220632496, 0.005530224017027017, 0.005530221499293718, 0.005530219198341452, 0.005530241945807114, 0.005530235592067079, 0.005530228402590127, 0.005530213078915528, 0.005530213323990519]\n",
      "runtime for all model:680.9045848846436 seconds\n",
      "Finish all\n",
      "Starting ind\n",
      "[0.0011355639845685964, 0.0021246082340772047, 0.003965557252531309, 0.003991223028707301, 0.0057200220939084764, 0.005718762283727593, 0.005721512566278996, 0.005722512295866081, 0.005725437492971887, 0.005724766068834795, 0.0057258079960692656, 0.005726072223646468, 0.005726057686178223, 0.005726208270226907, 0.005727214399468805, 0.00572775243552564, 0.005727812368287303, 0.005728183531516692, 0.005728163823720524, 0.0057282058197144605, 0.005728313003891298, 0.0057283462944507325, 0.005728277487134198, 0.00572843870507061, 0.0057283959172973855, 0.005728735305836519, 0.0057287520761784075, 0.005728823415055572, 0.0057288804401659675, 0.005728897981266815, 0.005728899675931244, 0.005728987757511042, 0.005728987731669406]\n",
      "[0.005607954410359982, 0.006132432271973824, 0.006220768090631218, 0.006508809416331319, 0.007210294746493056, 0.007203226835059288, 0.007219600452271586, 0.007083738721092203, 0.007058154724472514, 0.007103635532275469, 0.0071313368049231735, 0.007173999512538045, 0.007167233310302159, 0.007168728364887404, 0.007171322526373114, 0.007166924698621053, 0.007169186320701038, 0.0071732274234875895, 0.007173804388352814, 0.007176792887913697, 0.007178801149763925, 0.007186259455487865, 0.007190686410497096, 0.007200865787258891, 0.007201248409249905, 0.007211286233892898, 0.007213040161238704, 0.0072131875415602205, 0.007213166430831053, 0.007213163087984087, 0.007213177863416476, 0.007213227951210033, 0.007213211771590997, 0.007213220099326438, 0.00721322629527536, 0.007213240749028118, 0.007213295670199167, 0.007213284907016254, 0.007213284784439557]\n"
     ]
    },
    {
     "name": "stderr",
     "output_type": "stream",
     "text": [
      "\n",
      "Choose one progress bar: 1it [27:26, 1646.45s/it]\u001b[A"
     ]
    },
    {
     "name": "stdout",
     "output_type": "stream",
     "text": [
      "runtime for ind model:965.5450358390808 seconds\n",
      "Finish ind\n",
      "Starting all\n",
      "[0.0024486994986164514, 0.002466030547845594, 0.003402192205205095, 0.0033896764464085606, 0.0034052904403913203, 0.003404595663317417, 0.0033786118176019086, 0.003442981520918495, 0.0034563153302312874, 0.0034597408815400634, 0.0034665395306274125, 0.003490837797744735, 0.0034947545193645727, 0.0035103921366017054, 0.0035167105654463557, 0.0035209036413559915, 0.0035208278722845834, 0.0035254012668687303, 0.0035270689819980475, 0.003528099635619908, 0.003528850871731585, 0.0035292118951068354, 0.003530165908178608, 0.003531220415624813, 0.0035313598766674413, 0.003531878755303262, 0.0035323275107970336, 0.0035332910285857193, 0.0035333213396274697, 0.003533399475457644, 0.0035334038690459425, 0.0035333959183129655, 0.003534553199274182, 0.0035359463801267143, 0.0035369691063605836, 0.0035361955446551866, 0.003537066702943184, 0.003537066151205535]\n",
      "runtime for all model:479.30220890045166 seconds\n",
      "Finish all\n",
      "Starting ind\n",
      "[0.0011552566667907562, 0.0029534682634652486, 0.002952432863448612, 0.0029422320843748547, 0.0029386029242111813, 0.0029334217594776846, 0.002932981961540533, 0.0029348314931779804, 0.0029355663282581404, 0.002936118806351147, 0.00293598364417144, 0.0029366949144338838, 0.002936723246029108, 0.0029370762433424875, 0.00293720656855937, 0.002937174320506829, 0.002937304499716613, 0.002937332494553054, 0.002937196052432195, 0.0029370425039398278, 0.0029356611392807276, 0.0029357915219722355, 0.002935962980344654, 0.002936074416420008, 0.0029360933705578013, 0.0029361129930412498, 0.0029361451669459256, 0.002936173048437967, 0.00293617448788352]\n",
      "[0.0037382079250173374, 0.003748146722376339, 0.003869749912346313, 0.003667162400933735, 0.0037304742964738512, 0.00390618678877819, 0.0039869840870782195, 0.004054537647986651, 0.004049784795166116, 0.004080612284957796, 0.004095468522146007, 0.004099682089486889, 0.004106159333548779, 0.004112552557327831, 0.004113023160637966, 0.004114092945197312, 0.0041213502386936406, 0.004125305907516648, 0.004129311518241385, 0.004131425207815309, 0.004133583965994162, 0.004136037813603841, 0.004139270823053662, 0.004144974503018577, 0.004148996107532675, 0.004149211675155469, 0.004150266685420545, 0.0041511298701526695, 0.004150760118044673, 0.004150539617594049, 0.004150661284185308, 0.00415101693572493, 0.004151088151943888, 0.004152596023599043, 0.004157097928297151, 0.004166047432023913, 0.004166186038406046, 0.004166316852283676, 0.004166591148114567, 0.004169569607009591, 0.004169493474458262, 0.004170780913403871, 0.0041709955167823064, 0.004170982291844259, 0.00417097843529882, 0.004170994511777789, 0.0041710220448053234, 0.004171147033500601, 0.004171196170468162, 0.004171448310079978, 0.004171449390629734, 0.004171449390629734]\n"
     ]
    },
    {
     "name": "stderr",
     "output_type": "stream",
     "text": [
      "\n",
      "Choose one progress bar: 2it [53:49, 1608.98s/it]\u001b[A"
     ]
    },
    {
     "name": "stdout",
     "output_type": "stream",
     "text": [
      "runtime for ind model:1103.4503424167633 seconds\n",
      "Finish ind\n",
      "Starting all\n",
      "[0.0026348516684882414, 0.002869972716210885, 0.0037666555556898004, 0.0039689986358763, 0.004216858482176197, 0.005091638961449792, 0.0060324630604930065, 0.006073388530802175, 0.006097556584638659, 0.006100482421489773, 0.006130822654484915, 0.00614069065252669, 0.006153537873699969, 0.006167713329885459, 0.006167668388387605, 0.006170508448464727, 0.00617063291830257, 0.006176381411461437, 0.006175658776869525, 0.0061781077188200985, 0.006179095800370428, 0.0061787877300578335, 0.006180251002037829, 0.006179735763015932, 0.0061800087994806725, 0.006179935740441467, 0.006179959778999702, 0.006179891667263815, 0.006180595684641984, 0.006180583720659312, 0.0061805289084678385, 0.006180625722350086, 0.006181290177348449, 0.006182898867337169, 0.006182894812934038, 0.006182977184660957, 0.006182931650962361, 0.006182899765553564, 0.006182861115918816, 0.00618290649444167, 0.006183110584699486, 0.006183107616712848, 0.0061831092170212725, 0.006183106040845973, 0.00618310761448688, 0.0061831072399611805]\n",
      "runtime for all model:625.7975690364838 seconds\n",
      "Finish all\n",
      "Starting ind\n",
      "[0.0011107019164627546, 0.00212716836202941, 0.002136677954532039, 0.002206831826000448, 0.0022918249429604277, 0.003807777630658403, 0.0038093958713827565, 0.003810222687751662, 0.0038110031247075467, 0.003811835376202638, 0.00381253087111404, 0.003814309247072355, 0.0038146869785849954, 0.003814878909245615, 0.0038148905535384894, 0.003815009187464645, 0.0038150938004704272, 0.003815263265948364, 0.003815350744134141, 0.0038154813771706735, 0.003815454465719151, 0.003815396252668083, 0.0038155776316838182, 0.0038155906558039058, 0.0038154480466979558, 0.0038153590818900116, 0.0038156044661257693, 0.0038156525868150186, 0.0038156543007735826, 0.0038156596873957825, 0.003815659234465253]\n",
      "[0.0042267577256701536, 0.004699187122108863, 0.00551544846102754, 0.006287485001214313, 0.007140762190678722, 0.007045905432127531, 0.007093498355457406, 0.007156628821065417, 0.00713894399346539, 0.0071833686996231, 0.007194867895942999, 0.007216794267175303, 0.007232883079450375, 0.007248709991007985, 0.007245015832414918, 0.007229496418498044, 0.007249870524136765, 0.00725304367177647, 0.007253739352662542, 0.007251809524186697, 0.007241784307933446, 0.007274482869862842, 0.007305084636793119, 0.007309554414599588, 0.007309256991330336, 0.007309541230522454, 0.007311802937146029, 0.007311669425087934, 0.0073117114018571875, 0.007311772136293142, 0.007311706619760905, 0.007311769836256253, 0.00731185411388702, 0.007311866997004715, 0.007311879519247863, 0.007311903233862435, 0.007311873983816169, 0.007311869495846952, 0.007311816281229992, 0.007311843786614473, 0.007311842498101688, 0.007311876399108623, 0.007311839134115915, 0.007311841176473011, 0.007311844437510135, 0.007311845987387061, 0.007311882501782814, 0.007311890450108218, 0.007311916330772339, 0.007311924746312007, 0.007311962558668518, 0.0073120111227714946, 0.007312056938631678, 0.00731205420596172, 0.00731207634478769, 0.007312104441879555, 0.007312133229178895, 0.007312173244703929, 0.007312208386182137, 0.0073122586861324, 0.007311776452132515, 0.007311738860797895, 0.007312174830931538, 0.007313167161342527, 0.007313181530076235, 0.00731318667397163, 0.007313180375884495, 0.007313164398814109, 0.007313146061348563, 0.007313143370001921, 0.007313139275544202, 0.007313128603116807, 0.007313132018497074, 0.0073131262965386344, 0.007313113227872386, 0.007313100094546878, 0.007313086896138012, 0.007313088310526574, 0.007313081994505116, 0.007313076225450912, 0.007313124964118472, 0.007313130025289644, 0.007313122139673114, 0.007313127663312102, 0.007313176629838781, 0.007313164875295724, 0.007313160782631919, 0.007313147185640261, 0.007313133518031284, 0.007313119779316542, 0.007313131129382484, 0.007313186186674212, 0.007313192327496996, 0.0073131851151367906, 0.0073132106708324995, 0.007313198044869661, 0.007313188349085338, 0.007313231905174504, 0.007313244823303182, 0.007313231430243071, 0.007313231719613099]\n"
     ]
    },
    {
     "name": "stderr",
     "output_type": "stream",
     "text": [
      "\n",
      "Choose one progress bar: 3it [1:41:23, 2177.81s/it]\u001b[A"
     ]
    },
    {
     "name": "stdout",
     "output_type": "stream",
     "text": [
      "runtime for ind model:2228.9078624248505 seconds\n",
      "Finish ind\n",
      "Starting all\n",
      "[0.002473992357609773, 0.0026081647543118695, 0.0028735793389259067, 0.0032097183259052046, 0.003117279831117543, 0.0031592914147556225, 0.003158645305021944, 0.0031735133839873664, 0.00320101713619137, 0.003201476883921743, 0.0032068663410114396, 0.0032176064622541608, 0.0032200646447911956, 0.0032288349380684097, 0.0032379096851207546, 0.0032485687458351452, 0.003253037996785008, 0.003253830266233707, 0.003253319041417012, 0.0032552566761132494, 0.0032579534479870455, 0.003258312049744946, 0.0032585673195069907, 0.0032602166932905684, 0.0032616267776409908, 0.003261941399857784, 0.0032620400054939836, 0.003262259009282216, 0.003262641665327199, 0.0032645290827371916, 0.0032645730701113436, 0.0032670632295491984, 0.0032672496254005866, 0.0032673225686310897, 0.003267283926240312, 0.0032672440956287426, 0.0032671814510078874, 0.0032671276955560714, 0.00326708215501237, 0.003267146988031684, 0.0032674651970508615, 0.003267382254385358, 0.0032674160685709558, 0.003267413928730744, 0.00326741387581224]\n",
      "runtime for all model:609.5311162471771 seconds\n",
      "Finish all\n",
      "Starting ind\n",
      "[0.001125917518333143, 0.0011199035783781156, 0.0011442320979888894, 0.0011467160319953915, 0.0028582175335682726, 0.0028709734864884795, 0.0028979696471336195, 0.0028063257933827216, 0.002808129732503021, 0.002808461695870728, 0.002809942777545977, 0.0028096978155846344, 0.0028108465731732806, 0.0028111960959531163, 0.002811532698997984, 0.0028115695098636455, 0.0028116424109262033, 0.0028116649526156653, 0.002811763622775888, 0.0028117823855047645, 0.002811817296103807, 0.0028118422580037964, 0.002812132472009691, 0.0028122355700922674, 0.0028123331822799457, 0.002812325134714436, 0.0028123327207375337, 0.0028123348560086794, 0.002812297117081515, 0.0028122768352168417, 0.0028122979269645547, 0.002812327786360676, 0.002812365045565069, 0.00281245102746205, 0.002812235355590456, 0.0028122424857584165, 0.0028122446975623917, 0.002812248098797419, 0.002812249342478577, 0.0028122524589687713, 0.002812255719539007, 0.0028122615084063118, 0.002812266211730067, 0.002812270771023791, 0.0028122801166378724, 0.002812288453584474, 0.0028123036836784137, 0.0028152681077971368, 0.0028152903820501196, 0.0028153076822911407, 0.002815311675796616, 0.0028153219680620034, 0.0028153345787837953, 0.0028153230298608935, 0.0028153311376552547, 0.0028153316543157686]\n",
      "[0.003908288006855847, 0.004162930124356472, 0.004011161446106395, 0.0042334646583407475, 0.004214700680850979, 0.004301925622890275, 0.004250076257300543, 0.004282374211275301, 0.004291670647673067, 0.004311280057298762, 0.00435541191881479, 0.004416556049745444, 0.004437538756037235, 0.00447216126300809, 0.004491970915449235, 0.004496857684048325, 0.004496809745336129, 0.00449831969957709, 0.004498731508073784, 0.004498919125898825, 0.004500618708745202, 0.004500914196942184, 0.004501688971364905, 0.00450180081681104, 0.00450195123896331, 0.004501917840349928, 0.004503717556533194, 0.004502857350124458, 0.004502190689454559, 0.0045021871742223305, 0.004502377961599578, 0.0045025335654165265, 0.004502644200028235, 0.0045026536089186765, 0.004502634684505999, 0.004502634758963285]\n"
     ]
    },
    {
     "name": "stderr",
     "output_type": "stream",
     "text": [
      "\n",
      "Choose one progress bar: 4it [2:13:58, 2089.64s/it]\u001b[A"
     ]
    },
    {
     "name": "stdout",
     "output_type": "stream",
     "text": [
      "runtime for ind model:1344.9374392032623 seconds\n",
      "Finish ind\n",
      "Starting all\n",
      "[0.0029597314456967587, 0.0029337195393268787, 0.0032709806590656984, 0.003272890104403677, 0.0033889471932133804, 0.0034240145013094228, 0.0034347119427116726, 0.0034861451737200886, 0.003467770168920426, 0.0034758833713432586, 0.003494635140424093, 0.0035095887035995537, 0.0035239124443362663, 0.003540164061775798, 0.0035440773322275992, 0.003549052517365165, 0.0035566229618243447, 0.0035574555313484905, 0.003558767183999255, 0.003559773433924616, 0.003567794555613376, 0.003563999249394241, 0.0035641205635990694, 0.003565245405637678, 0.0035669322894736747, 0.0035683966477254524, 0.003568426195736216, 0.003568564670693608, 0.0035685181080389247, 0.003568211477842827, 0.003568388715318524, 0.00356816677450712, 0.0035681734506196007, 0.0035683418226570224, 0.0035683299243840345, 0.0035687834035238674, 0.003568732563658078, 0.003568543263343647, 0.003568875294039183, 0.00356989387367737, 0.0035707182566417036, 0.0035721722795986335, 0.0035721718856773035]\n",
      "runtime for all model:572.9864408969879 seconds\n",
      "Finish all\n",
      "Starting ind\n",
      "[0.0011906449493250732, 0.0020219164269934735, 0.002014881376414364, 0.0020179518962561128, 0.0020470821507147805, 0.002102175238450595, 0.0019625877262909107, 0.001971115958674177, 0.0019436544343143219, 0.001943995934990422, 0.0019457172180176014, 0.0019481170805852866, 0.001948533452208094, 0.0019488075790327283, 0.0019488776944225545, 0.0019489829036147626, 0.0019492719126899924, 0.001949141496083035, 0.0019492174057961422, 0.0019492488010014633, 0.0019493944044113257, 0.0019495191965777363, 0.001949556054502426, 0.0019496360409201378, 0.0019496389541601184, 0.001949674854984241, 0.0019501588776137412, 0.001950176054708359, 0.0019501713516504881, 0.0019501711842067695]\n",
      "[0.004882625903233752, 0.004588396389332247, 0.00472860451971451, 0.004532875699757843, 0.004333832036588074, 0.004475066382984021, 0.004540822709885721, 0.004580071514287948, 0.00457838686087883, 0.00463562171896256, 0.004666617318955205, 0.0046948200106455736, 0.004724987001237485, 0.004742148093903142, 0.004749412501625985, 0.004750652348419359, 0.004752429636211723, 0.004761009304328362, 0.004761714346168418, 0.004762010089862306, 0.004761977672861665, 0.004763576104922245, 0.0047907490149617605, 0.004793902127693505, 0.00479453064398024, 0.004794425553308701, 0.004794396769996999, 0.00479441362004974, 0.004794455712863702, 0.004794463101636448, 0.004795634926577122, 0.0047958677658156475, 0.004795810955737943, 0.004795774168358536, 0.004795790865488031, 0.004795803377265009, 0.004795766648666903, 0.0047957806999774375, 0.004795706475209572, 0.004795712033416226, 0.004800182630920282, 0.004801643052157881, 0.0048016685823498275, 0.004801738306104064, 0.004801584925885527, 0.004801306761626496, 0.004801286106772303, 0.004801293441741619, 0.0048016513613438686, 0.004801846093397568, 0.004801855610467863, 0.0048018596135041, 0.004801859933107005]\n"
     ]
    },
    {
     "name": "stderr",
     "output_type": "stream",
     "text": [
      "\n",
      "Choose one progress bar: 5it [2:42:16, 1948.48s/it]\u001b[A"
     ]
    },
    {
     "name": "stdout",
     "output_type": "stream",
     "text": [
      "runtime for ind model:1125.2038960456848 seconds\n",
      "Finish ind\n",
      "Starting all\n",
      "[0.00269975229775399, 0.0026966654572144226, 0.0030101311329797918, 0.0031213668851592055, 0.0031219952370842704, 0.0030831462386094995, 0.0030751048313252373, 0.003084472878613063, 0.0030544634730158876, 0.0030576079998190044, 0.0030657043833065833, 0.00307976489157863, 0.003092470088196796, 0.003109874945625821, 0.0031145293535531277, 0.0031377536311933346, 0.003146968895666001, 0.003150730110796688, 0.0031513270408318897, 0.0031516237599230764, 0.003157403504903319, 0.0031573039173663246, 0.00315754001394015, 0.0031576494580589877, 0.0031597046441867284, 0.0031600838694571054, 0.0031607970587013727, 0.003161902329751, 0.0031626865862886934, 0.003163371106477043, 0.003163420130154339, 0.003163418029173165, 0.0031634433963108437, 0.003163436469534322, 0.0031634136845875268, 0.0031634226766527355, 0.0031634193022627988, 0.003163418624357679, 0.003163416097906159, 0.0031633670804927056, 0.0031633668641334128, 0.0031633668954429415]\n",
      "runtime for all model:555.2738838195801 seconds\n",
      "Finish all\n",
      "Starting ind\n",
      "[0.0011073259725480592, 0.00206593550046682, 0.002050640108992575, 0.0020646920872607636, 0.002047250306976867, 0.002064390390754295, 0.0020903651204472267, 0.002011582845970372, 0.002014989770825297, 0.00201664384262531, 0.002017387224591634, 0.002017958881050241, 0.0020179209902598033, 0.0020182635545182626, 0.0020182713225500937, 0.0020183809102862446, 0.0020185008070134993, 0.002018833607498394, 0.0020182677360404922, 0.0020189188803949416, 0.0020191645794155146, 0.0020193047059593903, 0.002019308463384608, 0.0020193104833923837, 0.0020193071500547543, 0.0020192897822836993, 0.00201929530408028, 0.0020194207643678417, 0.0020194760644449035, 0.0020195063691831813, 0.0020195135582094645, 0.002019516986887821, 0.0020195214110507224, 0.00201952878879953, 0.002019532427324258, 0.002019535391523632, 0.002019542197605976, 0.002019549884556698, 0.0020195555965565356, 0.0020195652315630865, 0.0020195754786596397, 0.002019584292743526, 0.0020195987459096956, 0.002019623974967194, 0.002019626195762599, 0.002019660686999932, 0.0020197100508958293, 0.002019752547608485, 0.002019842686836008, 0.0020199633050824997, 0.002020180431121084, 0.002022725446197324, 0.0020236475133357276, 0.0020236508436659124, 0.002023650942113903]\n",
      "[0.004358364223828225, 0.004538689071773726, 0.0049203650140266075, 0.00498925358030524, 0.004115881767147384, 0.004076992668684504, 0.0040718321128530525, 0.004148644974395065, 0.004123163415723477, 0.0041751762417886916, 0.00418632906195813, 0.00420159797799073, 0.004213861346631173, 0.004224085385762281, 0.004249860542107898, 0.004271686149941995, 0.00428703333941675, 0.004289839183415434, 0.004293165946899304, 0.004302860845856439, 0.004307477442209632, 0.004308891184317437, 0.004315568692858196, 0.004316307478859509, 0.0043165840793499095, 0.004316457370638553, 0.004315846023937929, 0.004315407614850662, 0.004315420809817212, 0.004315482505017826, 0.004315451469976042, 0.004315463127258973, 0.0043154594291961055, 0.0043155073136413235, 0.00431550884750388]\n"
     ]
    },
    {
     "name": "stderr",
     "output_type": "stream",
     "text": [
      "\n",
      "Choose one progress bar: 6it [3:13:16, 1918.35s/it]\u001b[A"
     ]
    },
    {
     "name": "stdout",
     "output_type": "stream",
     "text": [
      "runtime for ind model:1304.5828649997711 seconds\n",
      "Finish ind\n",
      "Starting all\n",
      "[0.0013123910130431226, 0.001299076346328205, 0.0011989426077820844, 0.0012187974613787872, 0.0012886552288885302, 0.0013202027405773275, 0.0012975577820685065, 0.0013238371583205535, 0.001330219074878385, 0.0013623647163655199, 0.001379938929789957, 0.0013986594891538862, 0.001415557339139026, 0.0014142555132947527, 0.0014156494738045606, 0.0014189347943434447, 0.0014210239439183734, 0.0014224424970802803, 0.0014240549094050997, 0.0014253662363566274, 0.0014273953623263826, 0.0014283166708364803, 0.0014329690253084798, 0.0014324641656452996, 0.0014323752222033387, 0.001432230312011421, 0.0014322049635857811, 0.0014321713386520104, 0.0014321201060857112, 0.0014320077637391168, 0.0014324074077146196, 0.0014324919149064465, 0.0014324842302586836, 0.0014326274439239836, 0.0014324720919376725, 0.001432440730052658, 0.0014324262717317917, 0.001432409597601184, 0.0014334767238178548, 0.0014337809121672547, 0.0014340945329926595, 0.001434127838899378, 0.0014344407795159136, 0.0014346004406983574, 0.001439491357754523, 0.0014378488060383123, 0.0014377123886555195, 0.0014376966283610778, 0.0014376914228757254, 0.0014376957695722962, 0.0014377389814532713, 0.0014378561544683582, 0.0014379454350267316, 0.0014378512876450909, 0.0014378001709945392, 0.0014378269709834782, 0.0014378139101253074, 0.0014378014652061493, 0.0014377775953306573, 0.001437736496197175, 0.0014376893244842245, 0.0014376420396676934, 0.001437604251690759, 0.0014375367261231153, 0.0014377581361668206, 0.0014382173919500756, 0.0014381312538798714, 0.0014381590404835478, 0.0014381601801292754]\n",
      "runtime for all model:988.0235259532928 seconds\n",
      "Finish all\n",
      "Starting ind\n",
      "[0.00015097838328436108, 0.00013351684180238534, 0.00010585879530487728, 0.00010241457328097155, 0.00010601595097656305, 0.00010802680897193475, 0.00010835453217969181, 0.00010772049786170923, 0.00011583769272533126, 0.00011589269891068232, 0.00011714950870102988, 0.00011736047574796166, 0.00011734925562040214, 0.00011758530586551291, 0.00011772986613161798, 0.00011785151532364563, 0.00011805688065656798, 0.00011818108996436941, 0.00011822153528114492, 0.00011827992899494752, 0.00011847695859050253, 0.00011851658623775725, 0.00011849927734285404, 0.0001185089414256255, 0.00011855280163491466, 0.00011859872671539408, 0.00011883329543450076, 0.00011883380632618668]\n",
      "[0.0024350872515754, 0.0026506078680403663, 0.0026652679787735386, 0.002647277926047052, 0.003288895087398239, 0.0032950550483835453, 0.0033078595109907903, 0.0033346380614239167, 0.0034343943184944707, 0.0034586434936338057, 0.003467878581542786, 0.0034810992811090055, 0.0034888680573255614, 0.0034923715275411078, 0.003498374703556855, 0.003499761708979251, 0.0034958458819907058, 0.0035058200913638897, 0.003506770733935223, 0.0035089439903429076, 0.0035216822486684165, 0.0035194515950853463, 0.0035228415150742624, 0.0035288720044866677, 0.003524786625557834, 0.0035235238940854127, 0.0035236123563778823, 0.0035236806844935594, 0.003523837586888802, 0.003523977634543237, 0.0035239886356664184, 0.003523985287672518, 0.0035239987869777186, 0.003524019080072113, 0.0035240795146552263, 0.0035242600504872337, 0.0035244038702824153, 0.0035245367490406125, 0.0035243501740251674, 0.003524446237710506, 0.003523010609603792, 0.003523840143125771, 0.0035224339780341877, 0.0035224438066197615, 0.003522457637904104, 0.0035224558642984066, 0.0035224513578155587, 0.003522453012606561, 0.0035224465740988655, 0.0035224400256361247, 0.0035224385821791917, 0.0035224454034341835, 0.0035224395918463784, 0.0035224481055833286, 0.0035224906918575197, 0.003522496752658845, 0.0035224916705753674, 0.003522496867873633, 0.003522492035877496, 0.0035224846305063097, 0.003522477049334574, 0.0035224855560941474, 0.0035225048292667712, 0.0035224975387671818, 0.003522494703200861, 0.003522486146463572, 0.003522477642615361, 0.003522469201022764, 0.003522461902325048, 0.0035224632205993465, 0.0035224595884743777, 0.0035224518659240527, 0.0035224446140179624, 0.0035224408241080795, 0.003522440547732088]\n"
     ]
    },
    {
     "name": "stderr",
     "output_type": "stream",
     "text": [
      "\n",
      "Choose one progress bar: 7it [3:54:36, 2101.83s/it]\u001b[A"
     ]
    },
    {
     "name": "stdout",
     "output_type": "stream",
     "text": [
      "runtime for ind model:1491.5541851520538 seconds\n",
      "Finish ind\n",
      "Starting all\n",
      "[0.003073830649415692, 0.0032935933544504504, 0.0042382896908109355, 0.004307926293496155, 0.005360977724519312, 0.00510087399254807, 0.005171362157765427, 0.005193175196883275, 0.005212268376227421, 0.00524483230387888, 0.005253402216138646, 0.005265323990584179, 0.005264828060211505, 0.005270893728973286, 0.00527528385010046, 0.005285910406963023, 0.005294261304893194, 0.005302060201958615, 0.005302990236952854, 0.005303444149045836, 0.00530714079561692, 0.005308489634324018, 0.0053121345684381165, 0.00531354098335599, 0.005315690223116298, 0.00531625293400922, 0.005315784065741661, 0.005316908116760536, 0.005317223897484649, 0.005317388616742359, 0.005319289740570906, 0.005319413135172371, 0.005319395938673312, 0.005319038787281976, 0.005319091590187083, 0.005319096998502592, 0.005319102835426365, 0.005319100860441047, 0.005319099364685999]\n",
      "runtime for all model:499.95549392700195 seconds\n",
      "Finish all\n",
      "Starting ind\n",
      "[0.001083930327366298, 0.0029415444174939894, 0.0029569885531877337, 0.0029956779403362394, 0.004655514520247802, 0.004657540475908427, 0.004667231937530951, 0.004627354878686832, 0.0046273244966440665, 0.004627144975011098, 0.004628361544379498, 0.0046284107643561065, 0.004628658591855873, 0.0046290201772135175, 0.0046291974299285206, 0.004629306081646625, 0.004629466906943097, 0.004629527714561319, 0.004629637609382092, 0.00462974421099374, 0.004629743036514851]\n",
      "[0.005160381827188006, 0.005580543332967991, 0.005701248311398235, 0.005492651652534238, 0.005392283628330613, 0.005369704251495683, 0.005451655161599052, 0.005432729468045387, 0.0054976976751323885, 0.005528937293835135, 0.005549728122859743, 0.005562340046174964, 0.0055659773977334796, 0.005589953677210046, 0.0055902255610341236, 0.005585806050315797, 0.005587261944286234, 0.005604804084696464, 0.0056090901027931826, 0.005620811609467807, 0.0056232760435308655, 0.005624614755771314, 0.005626851160571962, 0.005631359901980601, 0.005633646356572448, 0.005635991298556184, 0.0056386862960178235, 0.0056477045836399765, 0.0056544127863906125, 0.005712084719903477, 0.005745644881955279, 0.005756033537793167, 0.005758674961081167, 0.005759274619718816, 0.005758678734757051, 0.005758733948842068, 0.005758682320440205, 0.005758647105638321, 0.0057586523153800575, 0.005758636512783221, 0.005758636512783221]\n"
     ]
    },
    {
     "name": "stderr",
     "output_type": "stream",
     "text": [
      "\n",
      "Choose one progress bar: 8it [4:15:40, 1835.41s/it]\u001b[A"
     ]
    },
    {
     "name": "stdout",
     "output_type": "stream",
     "text": [
      "runtime for ind model:764.9861452579498 seconds\n",
      "Finish ind\n",
      "Starting all\n",
      "[0.002420636539328181, 0.0028352714920883942, 0.0028442685223024045, 0.0033386873361781035, 0.0033543188830171848, 0.0033713986086218875, 0.0037067434174330323, 0.0037576602793601595, 0.004573025431073913, 0.004609730432462392, 0.004603224160075682, 0.004626409861629981, 0.0046377758955783496, 0.004644379464103287, 0.0046501975480900916, 0.004658311870382948, 0.004666578772557475, 0.004679686470065519, 0.004680217400434792, 0.004680181177145698, 0.00467705406375329, 0.004678114906621745, 0.004680703374396339, 0.004681184928635363, 0.004681771389974768, 0.004681868861053614, 0.004681856978689298, 0.004682063883503513, 0.004681679143439857, 0.004681656041695548, 0.004681732190513389, 0.0046846631575489985, 0.004684907623796931, 0.004687155164805423, 0.004687156204944708]\n",
      "runtime for all model:441.34810042381287 seconds\n",
      "Finish all\n",
      "Starting ind\n",
      "[0.0010933251468163777, 0.002017302679634654, 0.0020107573816411906, 0.002033743386809651, 0.0020712068694921314, 0.0021266548057545026, 0.002084619929635196, 0.00378187984005363, 0.00378335982858327, 0.003783802807188768, 0.003783823481060153, 0.00378319612559661, 0.0037832966054451023, 0.0037832490057289176, 0.0037832921039388906, 0.0037833648811087723, 0.003783392511636642, 0.0037833422951996467, 0.0037834096047676354, 0.0037834750407721184, 0.0037835988057774274, 0.0037836390345216105, 0.003783645590261981, 0.003783635405109435, 0.003783709404703643, 0.003783674909967447, 0.0037829529663885144, 0.0037832204942253866, 0.003783225283578043, 0.0037832728440963413, 0.003783269572626871, 0.0037832704851980302]\n",
      "[0.0038295375561654436, 0.004654700661020295, 0.004621641297425628, 0.004578367940203574, 0.004475455594303936, 0.005167411047570255, 0.005207468905528952, 0.005263080457875532, 0.005334195596947155, 0.005335302267876421, 0.005350990751047444, 0.005376153438316193, 0.005378522688152622, 0.0054025661482793395, 0.0054380416898551645, 0.005445365144899762, 0.005475376785717752, 0.005478302886688796, 0.005496836621854843, 0.005497473096646963, 0.005499115701699319, 0.005502327786072967, 0.005505580739015987, 0.005507413963525767, 0.005509927834474102, 0.0055152711792073724, 0.005516205572417379, 0.005516022529406139, 0.005529921457889133, 0.005529891055740572, 0.0055299891129571, 0.005530098291747472, 0.00553025453948958, 0.005534701177011182, 0.00553475593194302, 0.005541509764273906, 0.005542550720077276, 0.005542504111621359, 0.005542490993782736, 0.005542490289082428]\n"
     ]
    },
    {
     "name": "stderr",
     "output_type": "stream",
     "text": [
      "\n",
      "Choose one progress bar: 9it [4:39:13, 1703.35s/it]\u001b[A"
     ]
    },
    {
     "name": "stdout",
     "output_type": "stream",
     "text": [
      "runtime for ind model:971.6393077373505 seconds\n",
      "Finish ind\n",
      "Starting all\n",
      "[0.0022075270224764494, 0.002187627707737247, 0.0031570660845971045, 0.003183782420020022, 0.003162286921140066, 0.0031466826033714436, 0.0032422460041888436, 0.003251716872092556, 0.0032686433273444483, 0.0032660134647790155, 0.0032720465220223206, 0.0032808057120683617, 0.003292846685606977, 0.0032936128198809166, 0.0032956257600492015, 0.003296446437723552, 0.003295975864139757, 0.0033229289820639572, 0.003324896370076047, 0.003329082903552845, 0.003334934991535444, 0.0033405490899623123, 0.003342580900756629, 0.003345686320060103, 0.003346810216957062, 0.0033472675325123035, 0.003351732480392969, 0.003353122078313882, 0.0033539523645506808, 0.003365440242841556, 0.0033673449450996643, 0.003366882376781801, 0.003372984890071917, 0.0033756133253183434, 0.003380017321958342, 0.0033794281249638846, 0.0033790410664062396, 0.003379114479772524, 0.0033789178428074427, 0.0033789601928099267, 0.0033791190304322954, 0.003380633691482717, 0.003381475318674076, 0.0033819014156850737, 0.0033826810929874487, 0.003387639515041322, 0.003387675780614064, 0.003387303401362102, 0.003387302447808485, 0.0033872895064937713, 0.003387273771541069, 0.0033873044042716815, 0.0033873044042716815]\n",
      "runtime for all model:775.8460478782654 seconds\n",
      "Finish all\n",
      "Starting ind\n",
      "[0.0011357910698273873, 0.00113513502966671, 0.0011877100260967621, 0.001199377434259613, 0.0012186858221716165, 0.0012386678037101875, 0.0012547557567976822, 0.002956131486665314, 0.0029552204255112843, 0.0029549592899921285, 0.002955470611607911, 0.0029553670769821997, 0.0029556414972045043, 0.0029560238983055917, 0.002956393504173471, 0.0029564141186343455, 0.0029564747633655615, 0.0029565731928485705, 0.002956636688637718, 0.002956696356386869, 0.0029565366675001225, 0.002956718195805067, 0.002956495083299757, 0.002956130617924928, 0.002956345896502929, 0.002956357690152989, 0.002956367529838084, 0.002956371060156013, 0.0029563779257346452, 0.0029563779775601236]\n",
      "[0.0033769358256147118, 0.0033483274275917046, 0.00314585395179019, 0.0032172508612736835, 0.0031993993702402143, 0.003146545632003871, 0.0033068000786791694, 0.003413043335084584, 0.003400666016955999, 0.0034195222928981466, 0.0034192765602212307, 0.003425296359677399, 0.0034374413184616996, 0.003450397230880562, 0.0034553590616869393, 0.0034549862763136644, 0.003458816182876071, 0.003460312752786302, 0.0034640290033134116, 0.003468141019374328, 0.00346856108498514, 0.0034701413558658337, 0.0034722944712219017, 0.003473059618123924, 0.0034698141249013383, 0.003470282867972302, 0.003470216754672001, 0.0034707345489325336, 0.003470819051025706, 0.0034707352713485087, 0.0034708754054680845, 0.003470637827261537, 0.0034705672539958555, 0.003470491129130946, 0.0034705846371836367, 0.003470421549845098, 0.003470735220181276, 0.0034717557959432774, 0.0034723011696703313, 0.0034721755957329258, 0.003472053271546386, 0.003471922693306803, 0.0034718367362335453, 0.003471710641215499, 0.0034716336607804954, 0.0034713904800270667, 0.003471186599270993, 0.0034713394988013816, 0.003471190028464996, 0.0034719574725039703, 0.0034841497400390025, 0.0034842713935818266, 0.0034842488799344774, 0.0034842488799344774]\n"
     ]
    },
    {
     "name": "stderr",
     "output_type": "stream",
     "text": [
      "\n",
      "Choose one progress bar: 10it [5:11:29, 1868.91s/it]\u001b[A"
     ]
    },
    {
     "name": "stdout",
     "output_type": "stream",
     "text": [
      "runtime for ind model:1159.3328456878662 seconds\n",
      "Finish ind\n",
      "MSE all: 0.028233741920279998\n",
      "MSE ind: 0\n",
      "for ind was chosen\n"
     ]
    },
    {
     "name": "stderr",
     "output_type": "stream",
     "text": [
      "\n"
     ]
    },
    {
     "name": "stdout",
     "output_type": "stream",
     "text": [
      "[0.0009986310245315958, 0.0010541347787089588, 0.001071297135989736, 0.0010763670886234163, 0.0011143473650441693, 0.0011629302960257965, 0.001197872508642895, 0.0033657976140017845, 0.0033687153807916382, 0.0033703573246780206, 0.0033722324079201596, 0.0033735807562469042, 0.0033740935050830994, 0.003374271081361765, 0.0033743216154850293, 0.003374315477690944, 0.003374394532860896, 0.003374564102195466, 0.0033746828830359494, 0.0033747605611856484, 0.003374830101932247, 0.0033748740574201276, 0.0033749446718297563, 0.0033750154175224882, 0.0033750020353005505, 0.0033750367852926053, 0.0033750822541577137, 0.0033751089415020737, 0.003375104696203319, 0.003375106274642442, 0.0033751086918710435, 0.0033751129602425057, 0.003375120854197721, 0.0033751258983165055, 0.0033751388489801234, 0.0033751714945326173, 0.003375161148926233, 0.0033751518177636925, 0.0033751547137271846, 0.003375156825559421, 0.0033751614621575247, 0.003375165014594959, 0.003375170152152639, 0.003375176168036967, 0.00337518329747198, 0.0033751896716048045, 0.0033751947606168848, 0.003375201335133942, 0.0033752121220134235, 0.0033752253365949086, 0.0033751780339328517, 0.0033751761078541186, 0.0033751863920123753, 0.0033752004485935816, 0.003375219694646375, 0.003375201329596038, 0.0033752254169485733, 0.0033752196570688785, 0.003375248503744919, 0.0033752902662903144, 0.0033753554866160643, 0.003375494291725232, 0.0033757648402435525, 0.0033760325098471265, 0.0033774747327184546, 0.0033849310477474157, 0.003384930762310489, 0.0033849304800290998]\n",
      "[0.004050149720163262, 0.004378715410645594, 0.004329499705974876, 0.004898068424871318, 0.006746726804372734, 0.006691861652728272, 0.006783573802985926, 0.006743120181986928, 0.006741242488314024, 0.006757296784702753, 0.006806941495547616, 0.00682464870183216, 0.006835693666530723, 0.006837161524321333, 0.006840459398061521, 0.006853198750760047, 0.006864111248527008, 0.0068666633701404715, 0.00687040603232972, 0.006873834929432177, 0.006881794641871432, 0.006883879465001803, 0.006901777195574973, 0.006902204791114789, 0.006905340324621531, 0.006904747837497021, 0.0069047081554026325, 0.006913736001494075, 0.0069137611256850345, 0.0069148205546660565, 0.006914326965952332, 0.006914509153300634, 0.006914993836116693, 0.006914181681182419, 0.006914493520008623, 0.006915280937901289, 0.006915607963924014, 0.006915652997259297, 0.006915722423604572, 0.006915777929239683, 0.006915676134164939, 0.00691570255487454, 0.006915948834711383, 0.006916304222590578, 0.006914200468528758, 0.0069167726958323916, 0.0069167640738491245, 0.006916758221426328, 0.006916753867645486, 0.0069167464185247276, 0.006916750736730082, 0.006916800878436259, 0.0069170086182010065, 0.006917583182874709, 0.006920531650746076, 0.006920531650746076]\n"
     ]
    },
    {
     "name": "stderr",
     "output_type": "stream",
     "text": [
      "CV progress bar: 2it [11:25:33, 20630.28s/it]"
     ]
    },
    {
     "name": "stdout",
     "output_type": "stream",
     "text": [
      "runtime for ind model:2236.6800694465637 seconds\n",
      "runtime for choose one model:20925.83017539978 seconds\n",
      "starting choose one model\n"
     ]
    },
    {
     "name": "stderr",
     "output_type": "stream",
     "text": [
      "\n",
      "Choose one progress bar: 0it [00:00, ?it/s]\u001b[A"
     ]
    },
    {
     "name": "stdout",
     "output_type": "stream",
     "text": [
      "Starting all\n",
      "[0.0031264376635188064, 0.0030032633959239776, 0.0030030739122642956, 0.0036233358081188606, 0.004017319377168064, 0.004060122468411532, 0.004527244555447336, 0.004559726716782929, 0.004958974567841266, 0.0054079919394299115, 0.00541234739150138, 0.00543360474547881, 0.005452979761745244, 0.005458923305311153, 0.005461063927690567, 0.005464396301082132, 0.005467807304052616, 0.005469568927518919, 0.005470813016198471, 0.005476040180729025, 0.0054816391871683485, 0.005482796623301206, 0.005484755654975672, 0.005486154513894668, 0.005488962288995096, 0.005493969585585848, 0.005502057349362002, 0.005501296842389961, 0.005502388432355531, 0.005503291583702221, 0.005503502943079183, 0.005503547450589321, 0.00550386433675048, 0.005506343889070328, 0.005512020017614786, 0.005513204570854476, 0.005511915689691838, 0.005511862949942177, 0.005511934894250582, 0.005511964477305456, 0.0055119486770326635, 0.00551196923201847, 0.005512299251483358, 0.0055123432074008615, 0.005517733819376852, 0.0055181355002057505, 0.0055186485638454115, 0.005518406410517569, 0.00551886710948524, 0.005520134912779172, 0.005524758201023147, 0.005553113289247418, 0.005557971278416701, 0.005559198989681151, 0.005559920984706585, 0.005559918991281433, 0.005559941486396546, 0.005560220436526549, 0.005560179480914527, 0.005560356559633562, 0.005560311111710358, 0.005560427892074798, 0.005560402125514127, 0.005560344392779222, 0.005560295874114425, 0.005560246727114639, 0.005560242659476496, 0.005560226205043612, 0.005560220645583634, 0.005560165162514371, 0.005560118216009984, 0.0055600588453810565, 0.005560123675819026, 0.005560089682215111, 0.005560026667998464, 0.005559966341127402, 0.005559927250091048, 0.005560030940156032, 0.005560067510394967, 0.005559997013858307, 0.005559902632671256, 0.005559797882585818, 0.005559720088030964, 0.005559662391677723, 0.005559669348634307, 0.005559636267207417, 0.005559598451190912, 0.005559545024177984, 0.005559532072740439, 0.005559579262148531, 0.005559812198585093, 0.005573760585782949, 0.005582837787395023, 0.005580791796449942, 0.0055800490096568345, 0.005580492592756819, 0.005580432171027076, 0.0055804321796120975]\n",
      "runtime for all model:1661.8562915325165 seconds\n",
      "Finish all\n",
      "Starting ind\n",
      "[0.0011145336001758437, 0.0011283933842639174, 0.001142001357642902, 0.001152108718368273, 0.001176785445638928, 0.0012047638958844573, 0.0029914261011858186, 0.004753753056549642, 0.004765933506711869, 0.00479078596532752, 0.004830813973836743, 0.005656959504465572, 0.005666846154148513, 0.005688600933402081, 0.005629483094434899, 0.005629645494188441, 0.005629464300896023, 0.005629677232535297, 0.005629945990099387, 0.0056300063942700766, 0.005630050563971245, 0.005630160324753372, 0.005630050419986554, 0.005630135788040723, 0.005630217209989127, 0.005630380631029245, 0.005630400371666254, 0.0056310798605303655, 0.005631101945569783, 0.005631116616395293, 0.0056311501647849805, 0.005631134256158204, 0.005631128072053524, 0.005631128645749687]\n",
      "[0.005200280611027121, 0.0049443453045723285, 0.004762048613389827, 0.005070032406117307, 0.005439177319124031, 0.005502359166293701, 0.005487914065224978, 0.005508919868754847, 0.0055458026830193345, 0.0055341548691675655, 0.005556137970669971, 0.005567995976332029, 0.00557083328070712, 0.00557587359992822, 0.005585990063443804, 0.005582772232907521, 0.005589902953412608, 0.005605513658937496, 0.005607012188144951, 0.005608836620593482, 0.0056075481182647526, 0.00561299111959922, 0.005621671088328195, 0.005620351980551991, 0.005617055981512096, 0.005616508796815427, 0.005619515486096243, 0.005621261977690048, 0.00562207760618751, 0.00562325502596387, 0.005623750799932589, 0.005624117291925234, 0.005644617820659522, 0.005645130874737188, 0.005645334879201288, 0.005645484734624384, 0.005645672673188597, 0.0056458660085507385, 0.005645446630274484, 0.00564529460296455, 0.005645441948512809, 0.00564550242742848, 0.005645290995012588, 0.005645543715591684, 0.005645873647296298, 0.005645838932542202, 0.005645844282282031, 0.005645877615881083, 0.005645926791672355, 0.005645918521829238, 0.005645887848742969, 0.005645844071587224, 0.005645834829130718, 0.005645819885614656, 0.005645831248798196, 0.005645823032074758, 0.00564584087746148, 0.005646479645005839, 0.005646532354669459, 0.005646521513154454, 0.0056465242103605736, 0.005646525549271826, 0.005646527429632772, 0.005646527429632772]\n"
     ]
    },
    {
     "name": "stderr",
     "output_type": "stream",
     "text": [
      "\n",
      "Choose one progress bar: 1it [51:05, 3065.14s/it]\u001b[A"
     ]
    },
    {
     "name": "stdout",
     "output_type": "stream",
     "text": [
      "runtime for ind model:1403.281019449234 seconds\n",
      "Finish ind\n",
      "Starting all\n",
      "[0.0028583011705998586, 0.0026868219951105693, 0.00442531298051557, 0.004965183393162027, 0.00493173487672815, 0.0050621716205483044, 0.005065648531808749, 0.005097671903829405, 0.00511417853043726, 0.0051248340831285145, 0.005143161415516204, 0.005145993248014236, 0.005150789852598918, 0.00515299813617588, 0.005158293172086337, 0.005159849314316194, 0.005161216375937665, 0.0051631011906619565, 0.005162922221075128, 0.005162611088120197, 0.005164435523256568, 0.005165337854890651, 0.005165914983673305, 0.00516628998613093, 0.005166569632780675, 0.005166899945103625, 0.005167119918545028, 0.005167185487959738, 0.005167156427638722, 0.005167217005928088, 0.005167402064540953, 0.005167451876290728, 0.0051674630557166975, 0.005167426397966772, 0.005167349188710637, 0.0051673034259419924, 0.005167363787252634, 0.005168389407714073, 0.005169073071718755, 0.005169057560926312, 0.005169057560926312]\n",
      "runtime for all model:535.5932154655457 seconds\n",
      "Finish all\n",
      "Starting ind\n",
      "[0.0010918233445000008, 0.004738162556519645, 0.004739610177654466, 0.004750207467432712, 0.0047614599192104924, 0.004772101084263137, 0.00478468213006961, 0.004804700178991647, 0.004831697140723348, 0.0048693292632414256, 0.004937564014558108, 0.005754255373365378, 0.0055869055195291815, 0.005588314441650385, 0.005588410011997072, 0.005588608389669928, 0.005588836340793486, 0.0055888646959068675, 0.005588913086717173, 0.0055887682236303166, 0.005588610967814172, 0.005588786292246432, 0.005588715686533992, 0.00558867347630538, 0.005588822417003596, 0.005588846782991399, 0.005588770145619658, 0.0055887709465842475]\n",
      "[0.004716348255775442, 0.004332063583388173, 0.0041079150999148075, 0.004199165142662165, 0.004447161827248093, 0.004878732447670203, 0.0049796463271576455, 0.005007099315880982, 0.005009618608704331, 0.00503751108799183, 0.005046136905915416, 0.005047820437391789, 0.005059156080131838, 0.005059417123741571, 0.005060919567692784, 0.005063508813717131, 0.0050714758418344, 0.005071914884934288, 0.005076805509614927, 0.00507919030570209, 0.005081089625458066, 0.005088019249908248, 0.005088728547025317, 0.005089565541598498, 0.005090369192623473, 0.005090886023353936, 0.005091116006677196, 0.00509116201781625, 0.0050912500544082005, 0.005091207317961378, 0.005091240926174718, 0.0050912522668458025, 0.005091279198496934, 0.005091276308416222, 0.005091299776186024, 0.005091322026123168, 0.005091351629453997, 0.005091341228100885, 0.0050913665401701655, 0.005091405309353737, 0.005091445018488927, 0.00509148333759174, 0.005091531645965833, 0.005091590752451, 0.005091626500540925, 0.0050914896263604984, 0.005091184144237697, 0.0050921500661204894, 0.0050916732015618, 0.005091898848421615, 0.00509212976620039, 0.005092111201380971, 0.005092140723880208, 0.00509217759922775, 0.005092205300618211, 0.005092167360142496, 0.00509218633907667, 0.005092208858599912, 0.005092225193579792, 0.005092254412868718, 0.0050922994266867985, 0.00509234830550043, 0.005092408075226438, 0.005092462273253972, 0.00509249462388998, 0.005092524662415591, 0.005092573204206465, 0.005092614364956722, 0.005092716024030057, 0.005092828489387175, 0.005092847014670718, 0.005092952041840101, 0.005092941794652887, 0.005093033810990956, 0.00509321478006116, 0.005093469270683484, 0.005093609940143287, 0.0051096871291756414, 0.005105785931686081, 0.0051095817505658735, 0.0051114778961789935, 0.005113313277545379, 0.0051172453586336136, 0.005115691818104369, 0.005115702925242822, 0.005115714625713449, 0.005115720562510684, 0.005115728928258517, 0.005115730254350826, 0.005115741116830726, 0.00511575473911628, 0.005115745285680333, 0.005115719261478323, 0.005115724106568323, 0.005115717099732187, 0.0051157270982153, 0.005115740621294068, 0.005115752175493253, 0.005115765124247032, 0.005115720510683565, 0.005115734320853246, 0.005115750315784417, 0.005115763993499667, 0.0051157791076497094, 0.005115778310578719, 0.005115758739649856, 0.005115768781572848, 0.005115785530979999, 0.005115786809336015]\n"
     ]
    },
    {
     "name": "stderr",
     "output_type": "stream",
     "text": [
      "\n",
      "Choose one progress bar: 2it [1:37:21, 2895.53s/it]\u001b[A"
     ]
    },
    {
     "name": "stdout",
     "output_type": "stream",
     "text": [
      "runtime for ind model:2241.206140756607 seconds\n",
      "Finish ind\n",
      "Starting all\n",
      "[0.002679647372099214, 0.002775057876765065, 0.002810091992064217, 0.003271978157954228, 0.0034361222167772604, 0.003574044620105645, 0.00409742493688217, 0.004150175888797756, 0.004274390448291379, 0.0049851730822649725, 0.00499766141559832, 0.005006713438585655, 0.005021373589891657, 0.005038582895898953, 0.00503656429738271, 0.005044692254835307, 0.0050521213185670075, 0.005057978946944706, 0.0050628693817533306, 0.005067853844219999, 0.00506889542570633, 0.005070254904462812, 0.005077857520026034, 0.005083818850250348, 0.005084062554421581, 0.005084288119154986, 0.00508437476646877, 0.0050837003755809605, 0.005083973546295975, 0.00508415033778609, 0.0050842054072742435, 0.005084416884769318, 0.005084596196699792, 0.0050847350425244795, 0.005085047406439406, 0.005085568854357962, 0.005086445066822105, 0.005086759975121761, 0.005088303578579272, 0.005093929436994643, 0.0051140692771684025, 0.005114066440023862, 0.0051140635879892956, 0.005114060939713655, 0.0051140688587297655, 0.005114073239398663, 0.005114071246953261, 0.005114068295554705, 0.0051140653223688505, 0.005114062364167655, 0.005114064433625572, 0.0051140618372375974, 0.005114059176139432, 0.005114057052258467, 0.0051140584506198655]\n",
      "runtime for all model:774.8264517784119 seconds\n",
      "Finish all\n",
      "Starting ind\n",
      "[0.0010962112199803906, 0.0012021552396715867, 0.0020255952202062858, 0.002009520262385478, 0.0020388088330002673, 0.0020713562578606555, 0.0020992978999701817, 0.002153177127713651, 0.002244481748552584, 0.0024025492089055104, 0.0027156411273489165, 0.0025466387931296847, 0.0044706425409273285, 0.006506394064017933, 0.006505287504869961, 0.006505467018447879, 0.0065055570390572266, 0.006505609685561256, 0.006505744779827088, 0.0065057736200365476, 0.006505812191286128, 0.0065058145677810274, 0.006505798917470031, 0.0065057973889851945]\n",
      "[0.004312664715332603, 0.004632252062343108, 0.00430605962767192, 0.0042434377940325065, 0.004214479555415001, 0.00433139004489151, 0.0043501696425658105, 0.0047016622856049925, 0.004748980334023703, 0.004766375090960212, 0.00478528129550264, 0.00483957525035068, 0.004879937778776755, 0.0048854419206777015, 0.004913938710034571, 0.004945348617504274, 0.004953580328999977, 0.004955745787176136, 0.00495720955879386, 0.004957853594257858, 0.004957785114136177, 0.004958776118985403, 0.004960009626461419, 0.004959727685460197, 0.0049606404049699505, 0.00496075780741593, 0.004960983527491118, 0.004962859730014882, 0.004968745324165652, 0.004979562810867923, 0.004979635061930328, 0.004979607749239367, 0.004979595894914485, 0.004979555023363868, 0.004979567290335902, 0.004979570831779793, 0.004980739198540055, 0.004980778098002199, 0.004980843583958788, 0.0049809345763359054, 0.004981125211008273, 0.004981282786111874, 0.004981361320202883, 0.004981381212925661, 0.004981694711004216, 0.0049819327879955504, 0.00500268654570248, 0.005002692759762048, 0.005002630954936192, 0.005002592873687413, 0.005002610826941035, 0.005002566522373944, 0.005002521310001242, 0.005002505942710279, 0.005002495292554386, 0.0050024579015626605, 0.005002463238690989, 0.005002428296489362, 0.0050024282136317075]\n"
     ]
    },
    {
     "name": "stderr",
     "output_type": "stream",
     "text": [
      "\n",
      "Choose one progress bar: 3it [2:08:28, 2425.59s/it]\u001b[A"
     ]
    },
    {
     "name": "stdout",
     "output_type": "stream",
     "text": [
      "runtime for ind model:1091.533106803894 seconds\n",
      "Finish ind\n",
      "Starting all\n",
      "[0.0026649016790127504, 0.002563700509462, 0.0026716936135517144, 0.002746696024508813, 0.002745623066324759, 0.002787173056051399, 0.002866335169650082, 0.0029347818134634494, 0.002968381467958679, 0.002983636720300013, 0.0029936684603092075, 0.0029998619243764074, 0.002999460429763486, 0.003002230224023436, 0.0030091944134453654, 0.003014835253477879, 0.0030299174225323117, 0.0030330453792633337, 0.0030354492458700287, 0.0030363009870800275, 0.0030438546892849103, 0.0030475912458981062, 0.0030479258847419307, 0.0030488338499874896, 0.0030490876599562266, 0.003049680364588069, 0.0030493358944306526, 0.003049799002529289, 0.003050035390303813, 0.003050223085348406, 0.0030505335806901577, 0.003050517345605533, 0.003050520570984358, 0.0030505198735477483]\n",
      "runtime for all model:429.32495403289795 seconds\n",
      "Finish all\n",
      "Starting ind\n",
      "[0.00010859767757714647, 9.95824606008655e-05, 9.121628614536165e-05, 8.08205944278563e-05, 9.127690026934446e-05, 9.090029731987181e-05, 9.606581794695436e-05, 9.725562691586135e-05, 9.912331346870651e-05, 9.997677025051091e-05, 0.00010075211428684419, 0.00010104709407666322, 0.00010111918446410114, 0.00010123106151829463, 0.00010139114613574968, 0.00010153748543495454, 0.00010152798788808887, 0.0001015266631657453, 0.0001014944510176105, 0.00010152327960485312, 0.00010154647830432434, 0.00010155781389750288, 0.00010157883799790906, 0.0001016018905329122, 0.00010166245014202591, 0.000101695268846751, 0.000101747690571356, 0.00010174397290808773, 0.00010174535735224745, 0.00010175505474095208, 0.00010176454672075235, 0.00010178822417526704, 0.00010178608947114485, 0.00010178769613838929, 0.00010179955677038902, 0.00010180619977323774, 0.0001018100856767954, 0.00010180949682055209]\n",
      "[0.005211248866903224, 0.00481530488120483, 0.005073920864178241, 0.005071364011786414, 0.005204511486070503, 0.005026030317093473, 0.005117478847428699, 0.005224645205156061, 0.0052653774974391245, 0.005277569871132983, 0.005293897152290625, 0.005301012905010749, 0.005318017282726695, 0.005334182657391975, 0.005335020977964964, 0.005346579520994979, 0.005353741570745344, 0.005353775558947446, 0.00536511989504212, 0.005394221256107526, 0.005393339505216128, 0.005405159934441843, 0.005406561593630383, 0.005406905909728341, 0.005407890885409752, 0.005410506683846827, 0.005410908867307272, 0.005410909694750916, 0.005410824896274604, 0.005410838399526581, 0.005410932147949606, 0.005411029378750991, 0.005410932442393252, 0.005411876691750803, 0.005411888051486459, 0.0054118313457989665, 0.005411948899043967, 0.00541198692120011, 0.005412033965490561, 0.005412071744905251, 0.005412139760085456, 0.005412166043068848, 0.0054122676183443585, 0.005412369684683499, 0.005412480429046599, 0.005412627509029236, 0.0054128746647546825, 0.005413104426402615, 0.005413178130636652, 0.0054136901397781375, 0.005414419445874405, 0.005427237257000557, 0.005427867141763351, 0.005431479674820505, 0.005431531419139856, 0.005431552924269186, 0.005431570285244812, 0.005431595012066931, 0.005431613947260975, 0.005431646606025629, 0.0054316897229137896, 0.0054317383908071325, 0.005431645687772521, 0.005431685378828016, 0.0054316974783798645, 0.005431749215354451, 0.005431773186223997, 0.005431860047706743, 0.0054319571268980574, 0.005432089317447345, 0.005432133592081808, 0.005432305977694951, 0.005432480467872874, 0.0054327353890750146, 0.0054328456047306834, 0.005433316487635895, 0.005433934997114418, 0.005432359235991518, 0.005432735336025597, 0.005432679005481202, 0.005433181765895611, 0.00543437004165967, 0.0054350155487212694, 0.005438302834208218, 0.005513080855066459, 0.005513150229483128, 0.005513431059306203, 0.005513431059306203]\n"
     ]
    },
    {
     "name": "stderr",
     "output_type": "stream",
     "text": [
      "\n",
      "Choose one progress bar: 4it [2:48:31, 2416.62s/it]\u001b[A"
     ]
    },
    {
     "name": "stdout",
     "output_type": "stream",
     "text": [
      "runtime for ind model:1973.5468032360077 seconds\n",
      "Finish ind\n",
      "Starting all\n",
      "[0.002957257916705009, 0.003016977664460984, 0.003010121529176871, 0.003502497990622457, 0.004031898688495463, 0.004435298663092345, 0.004448703583361641, 0.004454666566608868, 0.004469711669813225, 0.00449413104097465, 0.004531546074461901, 0.004566138993933462, 0.004618907284456009, 0.004967412746576065, 0.004928297732666454, 0.004930329994258186, 0.004931397518922048, 0.004933247092371333, 0.0049346638263023405, 0.004935130485335148, 0.004936129428819438, 0.0049387186913480655, 0.004939826885498097, 0.004941923262346619, 0.004943080986702257, 0.004944767302094791, 0.004944621121700762, 0.004944586249183372, 0.004945451732854592, 0.004946382270268481, 0.004946573436579535, 0.004947023605853533, 0.004947769057299957, 0.004952495668032747, 0.004950591473713751, 0.004950706122623962, 0.004951031013382035, 0.004950270659464259, 0.004949372616306594, 0.004944314736660992, 0.004944519211244823, 0.004944765432690613, 0.004945017750627631, 0.004945091707785174, 0.004944983827304722, 0.0049449962959193525, 0.004945033816691302, 0.004945022152571537, 0.004945001871787437, 0.004945008018014908, 0.004945016081933397, 0.004945026273283265, 0.00494503476570021, 0.004945043577246941, 0.004945055790584847, 0.004945066902665949, 0.004945071435136487, 0.0049450870861094485, 0.004945103080913474, 0.004945123204230272, 0.004945146588057707, 0.004945134478643122, 0.004945160505955802, 0.004945159286797562]\n",
      "runtime for all model:974.8796494007111 seconds\n",
      "Finish all\n",
      "Starting ind\n",
      "[0.00112128854927774, 0.0011301664925259896, 0.00114645297814931, 0.0011575680805847427, 0.0011907066328613243, 0.0012210433449778573, 0.0012621952116011292, 0.001319100575991384, 0.0031015274667915566, 0.0032132566365978615, 0.003404413605192947, 0.003787976202468528, 0.004317372826605303, 0.007410010010173123, 0.007411145131653201, 0.007411590735601492, 0.0074115928195930825, 0.007411653201950375, 0.007411798727538358, 0.007411583085318552, 0.007411923227207665, 0.007412163794634474, 0.007412220338136766, 0.007413482706910798, 0.007413500507063931, 0.007413506946928475, 0.007413522397644814, 0.007413525381213695, 0.007413520366751887, 0.007413523090322238, 0.007413523843884599]\n",
      "[0.004860480098923545, 0.0051999629635172805, 0.005296042349718628, 0.005452092014355202, 0.0058715923990141205, 0.005946955637523123, 0.005959072476812604, 0.00603087365008838, 0.006330002752136944, 0.006449519595157193, 0.00649359685986442, 0.0065397997731451, 0.006552854806567166, 0.006566967382254543, 0.00657403393487199, 0.006586107376133981, 0.006587870240346553, 0.006589481088348772, 0.006590082025003207, 0.006591555144916754, 0.006592494777897455, 0.006593087449823717, 0.006594381595681945, 0.006595087737317077, 0.006595424834755564, 0.006595553214214078, 0.006595686090241258, 0.006595640062390089, 0.006595864545922947, 0.0065959530835890704, 0.0065959303911053025, 0.006597272307411852, 0.006598265395112988, 0.006598357284021752, 0.006598300774790769, 0.006598349283294161, 0.006598347041316922, 0.00659842126535371, 0.00659842757514633, 0.006598497210553195, 0.00659882887522307, 0.006598814035644554, 0.006598795367311708, 0.006598486885711713, 0.0065984911567106746, 0.006598496995718535, 0.006598494116376409, 0.0065984935597436425]\n"
     ]
    },
    {
     "name": "stderr",
     "output_type": "stream",
     "text": [
      "\n",
      "Choose one progress bar: 5it [3:22:19, 2276.64s/it]\u001b[A"
     ]
    },
    {
     "name": "stdout",
     "output_type": "stream",
     "text": [
      "runtime for ind model:1053.5546822547913 seconds\n",
      "Finish ind\n",
      "Starting all\n",
      "[0.0025331331086688386, 0.0023501526357843005, 0.0026859345217438275, 0.0025952891320981473, 0.002718392201551436, 0.0027588228526635823, 0.002793557028447561, 0.0028253410974011513, 0.0032914440571769218, 0.003296878820445172, 0.0033167638182564547, 0.0033390802809094614, 0.0033950365419956633, 0.0033779722704476633, 0.0033846628621843717, 0.0033900416721676673, 0.0033961700888877335, 0.003401625363988111, 0.003404983462112948, 0.003411406280993648, 0.003413170144485603, 0.0034151605776967346, 0.0034145189036081484, 0.0034157582373920714, 0.003417681272193755, 0.00341936892209027, 0.003422283159839988, 0.0034222862626227487, 0.003421643075347293, 0.0034214078392314287, 0.003421392128563588, 0.0034213806370630177, 0.003421363889189212, 0.0034213640749340434]\n",
      "runtime for all model:420.6297252178192 seconds\n",
      "Finish all\n",
      "Starting ind\n",
      "[0.0011314280055751173, 0.0011764843492123827, 0.0011285247955759145, 0.0011318089792772472, 0.0011614599785018356, 0.0011986421229903156, 0.0012466636708730124, 0.001337572240992378, 0.0022783355179145956, 0.004729097054861695, 0.004743031920467763, 0.004766963028194035, 0.004811546305785479, 0.004905180165539445, 0.004690758400981446, 0.004691632195005469, 0.004691872270839073, 0.0046921588617347505, 0.004692171295907708, 0.004692227664264773, 0.0046924251703721, 0.004692474832608936, 0.00469251554675947, 0.004692537983773093, 0.004692533041469508, 0.004692434006223378, 0.004692301651959216, 0.004692350671370398, 0.00469454781325822, 0.004694552629708368, 0.004694572408404518, 0.004694582088541515, 0.004694584091111513, 0.004694587913302131, 0.0046945885174837654]\n",
      "[0.00401380602031898, 0.003793299938326322, 0.0033760892485681427, 0.00331671838416528, 0.0033322410569572797, 0.003323185465395126, 0.003372920011731278, 0.003442311534989118, 0.003458083790015909, 0.003651646953393086, 0.003688013613585427, 0.003748834641368695, 0.0038715955155112967, 0.0038216100321678452, 0.0038285859706788266, 0.003828441379178539, 0.003832070472093362, 0.0038377465474776227, 0.003838620447339792, 0.003839282938214264, 0.003840733987947666, 0.0038419811731083935, 0.0038541960188231174, 0.003856118279909903, 0.0038566619909176543, 0.003857179458594398, 0.003859114638822258, 0.0038596774931598113, 0.003859789082266149, 0.003860016003799102, 0.0038606004155613744, 0.003862016259524924, 0.0038637685006305267, 0.0038642723235587434, 0.0038634646816022833, 0.003864115093868441, 0.003864324908833644, 0.003878761875858475, 0.0038787028828676366, 0.0038787321304712, 0.0038787224088859054, 0.0038787220135859135]\n"
     ]
    },
    {
     "name": "stderr",
     "output_type": "stream",
     "text": [
      "\n",
      "Choose one progress bar: 6it [3:47:07, 2008.48s/it]\u001b[A"
     ]
    },
    {
     "name": "stdout",
     "output_type": "stream",
     "text": [
      "runtime for ind model:1067.3045227527618 seconds\n",
      "Finish ind\n",
      "Starting all\n",
      "[0.0030491398852828698, 0.0029875442329103047, 0.003062193128982915, 0.0032546771245743054, 0.0034813332982233172, 0.004605793951520425, 0.004529170593013045, 0.004571027220048472, 0.004567686861321647, 0.004577939462864276, 0.00458941928899125, 0.004620808759221616, 0.004628857336535992, 0.004630338911067607, 0.004634386463377377, 0.004635293949721774, 0.004640756675325574, 0.0046409938116575965, 0.0046438373126344475, 0.004646072525790072, 0.00464787189678763, 0.0046480478276981945, 0.004652243123513614, 0.00465572339511377, 0.00465657229790922, 0.004656007499300169, 0.00465507495203883, 0.0046558410068106935, 0.004656676963526308, 0.0046572345560082565, 0.004656478739836116, 0.004655764482382603, 0.004655544817583217, 0.00465797052722281, 0.0046574335315963805, 0.004636831348664964, 0.004637788216875735, 0.004638235016586964, 0.004639618467002397, 0.004644465267220855, 0.0046478575857871384, 0.004647847090287478, 0.004647850638845659, 0.0046478447909500675, 0.004647847004854275, 0.004647851316757897, 0.004647852887997214]\n",
      "runtime for all model:671.7453331947327 seconds\n",
      "Finish all\n",
      "Starting ind\n",
      "[0.0010967238306106432, 0.0010957367338412937, 0.0011074358502011275, 0.0011133691115246301, 0.0011414789024164233, 0.0011584808832422857, 0.0011848363431500998, 0.0012223505184403977, 0.0012792889264068648, 0.0013718186813024566, 0.001527205321248812, 0.004837451978673277, 0.004914347709849176, 0.005082615031228808, 0.005810943995488273, 0.0056071875447228055, 0.0056074214447905035, 0.0056076793037523566, 0.005607719470889805, 0.005607823650710557, 0.005607890000386405, 0.005608004067753374, 0.005607966721898705, 0.005607993749043747, 0.005608011318459511, 0.005607770582666962, 0.0056076890198966806, 0.005607689933167344]\n",
      "[0.005057176643575306, 0.0047599930956917415, 0.0050564424404353405, 0.005545354749599279, 0.005605791998130851, 0.005583091952855867, 0.005605548291383645, 0.005620254290470904, 0.005661948914478722, 0.0056845031275488105, 0.005718151257801582, 0.00573174190456421, 0.005732572723203116, 0.005740321914134591, 0.005746366784731937, 0.005753004770683172, 0.005760676160242529, 0.005767857333558032, 0.005769476599716483, 0.005771301778470049, 0.005777955068017286, 0.005782200475966, 0.005782959756961469, 0.005783850172365422, 0.005784498778348705, 0.005786350867324334, 0.005793084751378926, 0.005794109191455095, 0.005794099394822434, 0.005794446712590401, 0.005794186175689117, 0.005794550262909993, 0.0058024426903597855, 0.005802751983258805, 0.005799355532262435, 0.0057989766298806675, 0.005799359557417611, 0.0057999116089299686, 0.005800755675030217, 0.0058059406803982454, 0.005806364436743289, 0.005806329572146234, 0.005806311851585762, 0.005806311851585762]\n"
     ]
    },
    {
     "name": "stderr",
     "output_type": "stream",
     "text": [
      "\n",
      "Choose one progress bar: 7it [4:13:37, 1871.80s/it]\u001b[A"
     ]
    },
    {
     "name": "stdout",
     "output_type": "stream",
     "text": [
      "runtime for ind model:918.655446767807 seconds\n",
      "Finish ind\n",
      "Starting all\n",
      "[0.002440964855000051, 0.0026025119765390003, 0.002644025060541718, 0.0028082445256862798, 0.003660688068240802, 0.0036852779182202913, 0.0036976698274182006, 0.0036933821608932695, 0.0036794400090824574, 0.0036943007623714426, 0.003710810208964268, 0.0037321065455407296, 0.003759892351914617, 0.003769291184345319, 0.0037730620982504236, 0.0037777432510320815, 0.0037850217377916884, 0.0037857925623680346, 0.003786101377029464, 0.0037829767797666843, 0.003784621550445108, 0.0037829945136687386, 0.0037828581509271814, 0.0037836806427415325, 0.0037841202664506907, 0.0037844502531576333, 0.0037839253499836524, 0.0037837641789753296, 0.0037844057793763528, 0.003784182713958107, 0.003784282230679791, 0.003783855605546906, 0.003788019615573976, 0.0037883604532415417, 0.003788310436902508, 0.0037884166426361485, 0.003788521317376657, 0.003788653755344111, 0.00378876987453821, 0.0037889399918314944, 0.003789281972952162, 0.0038046779567769496, 0.003804741182747392, 0.0038047939312993856, 0.00380474662737785, 0.003804698905403768, 0.003804697639351211]\n",
      "runtime for all model:650.0274178981781 seconds\n",
      "Finish all\n",
      "Starting ind\n",
      "[0.0010952845113502128, 0.0011050849819879206, 0.0011066155623199849, 0.0011131217288638125, 0.001119130769706698, 0.0011418875695796207, 0.0011703153631149605, 0.001206965158077952, 0.0012525933129144133, 0.001321036823838768, 0.0014449966500021656, 0.0016614427492145773, 0.001669382369936173, 0.0014482264884190697, 0.0021842527615600566, 0.0019702848279680597, 0.001970372016891109, 0.001970417326709592, 0.0019704864111382715, 0.001970376913591106, 0.001970408361745163, 0.0019705590339952803, 0.001970642415629663, 0.0019706930319193664, 0.0019707103492818323, 0.0019707520892571933, 0.001971579421340425, 0.0019722241522464297, 0.0019722338688181887, 0.001972238633799906, 0.0019722369985733347, 0.001972241118039898, 0.0019722427950755275]\n",
      "[0.003834292446898061, 0.004222227748919009, 0.004017813556843096, 0.004109890273873336, 0.004189499114291736, 0.004256404856503351, 0.00422677479183961, 0.004231300261951207, 0.004361019501439895, 0.004478640360219556, 0.004521516285876973, 0.004599062685564341, 0.0046161065298609754, 0.004627004730013703, 0.004630565664621404, 0.004639404737922449, 0.004653545029946927, 0.004658973482724723, 0.004659076369942734, 0.004649633640300759, 0.004651363831686873, 0.004654311047672518, 0.004665510523279448, 0.004646179280134323, 0.004644657761021883, 0.00464578132159975, 0.004646347775312934, 0.0046460651938899766, 0.004648230375124918, 0.00464792572187993, 0.00465284834095903, 0.004653034126384353, 0.004654185558187054, 0.0046567470065405694, 0.004673282126926906, 0.004689425486549133, 0.004689635170251407, 0.004689984966381971, 0.004690063242794215, 0.004690047819949661, 0.004690083271213362, 0.004689992576588547, 0.004690009824453523, 0.004690045881136961, 0.004690034591769571, 0.004690085924354869, 0.004690120458270718, 0.004690182782723681, 0.004690149289537364, 0.0046901184895424206, 0.004690193536223894, 0.004690277057378694, 0.004690297358752061, 0.004692594097275353, 0.004691690932188987, 0.004691252722616884, 0.004691262676173778, 0.004691297464822573, 0.004691292705403459, 0.004691295778140139, 0.004691293007118606, 0.004691293051537158]\n"
     ]
    },
    {
     "name": "stderr",
     "output_type": "stream",
     "text": [
      "\n",
      "Choose one progress bar: 8it [4:47:04, 1914.79s/it]\u001b[A"
     ]
    },
    {
     "name": "stdout",
     "output_type": "stream",
     "text": [
      "runtime for ind model:1356.8078117370605 seconds\n",
      "Finish ind\n",
      "Starting all\n",
      "[0.00107143732795711, 0.0020034322923047814, 0.0020673341838402305, 0.002122100543526602, 0.002315746017657443, 0.002380877762335331, 0.0027535052948043834, 0.0027918078056098764, 0.0028432863814283854, 0.0029394730208176442, 0.0030761951641786844, 0.0034101531555302987, 0.004148965369407405, 0.0041598898268466146, 0.004169136233983367, 0.00418295800734492, 0.004184493444076239, 0.004186022971066914, 0.004189342250156944, 0.004193521180384309, 0.0041970390962899175, 0.004197468504644102, 0.004198006548271764, 0.004198433180000927, 0.004198476435046352, 0.004199258873151754, 0.004199440699557071, 0.004199852576317923, 0.004199854753294121, 0.004199796140274742, 0.004199841184023284, 0.004199868166813713, 0.004199846769320806, 0.004202173851883223, 0.004202150767591778, 0.004202204122785926, 0.00420214192228765, 0.004202139262681729, 0.004202137770997072, 0.004202127239322824, 0.004202119782317552, 0.004202109726053569, 0.004202095937599374, 0.004202168599494694, 0.0042021711756447715, 0.004202174603987481, 0.004202177833668106, 0.004202179890143099, 0.0042021861827932425, 0.00420219277715918, 0.004202200129190174, 0.004202214660218516, 0.004202233268429332, 0.004202263037008797, 0.004202291026579093, 0.004202365230621982, 0.004202503491421818, 0.004202759990693817, 0.0042038624956532815, 0.004203859098397945, 0.004203859098397945]\n",
      "runtime for all model:842.2928168773651 seconds\n",
      "Finish all\n",
      "Starting ind\n",
      "[0.001097539151074035, 0.0029423289660350017, 0.00295308969438868, 0.002952560101685712, 0.002973038870301034, 0.0029941980769504126, 0.003021148485350768, 0.003073744771769765, 0.003160496518046372, 0.003315202094023196, 0.004340754964777026, 0.005054175611527935, 0.006500817264585866, 0.006501629556267405, 0.006502425860941671, 0.006502774955637325, 0.00650303748260341, 0.0065035320992552215, 0.0065037724209081466, 0.006504074768755963, 0.006504189699801643, 0.0065043141066462905, 0.00650429732077649, 0.006504307687424045, 0.006505146105476228, 0.0065051522641097785, 0.00650516033474859, 0.006505239704446421, 0.006505232364239599, 0.006505259118473969, 0.006505285161862706, 0.006505304924649841, 0.00650533339661398, 0.006505401577975448, 0.0065059777699420975, 0.006505987038899213, 0.006505996192574378, 0.006506009020677298, 0.006506019820790557, 0.006506041010625778, 0.00650606149114293, 0.006506092032085149, 0.006506148642934739, 0.00650863257176654, 0.006509249277304503, 0.006509249272759065]\n",
      "[0.001089314090650224, 0.0012724374311433137, 0.0011734210537202223, 0.0014271574856826146, 0.0021908286539547807, 0.0024649383119675207, 0.002561891689234927, 0.002845102022066432, 0.002859238582658757, 0.0028730329298829863, 0.002870969511961516, 0.0028769016911549816, 0.0028806595563610586, 0.002892371153801651, 0.0028920347395757304, 0.0028945913005750832, 0.002903960684618721, 0.002905711601263977, 0.0029027469005432015, 0.002902798351667954, 0.0029023589382510756, 0.0029035945695732547, 0.0029042755345572934, 0.0029048622000165825, 0.0029046995786422567, 0.0029049353698284426, 0.0029053973803392745, 0.0029056560730292176, 0.002905887856116845, 0.002906009869429558, 0.0029060128987657965, 0.002906874676624001, 0.002910681642062032, 0.002910657263067705, 0.0029106312556623033, 0.0029106737879075425, 0.002910736533519704, 0.002910710159154522, 0.002910679058294436, 0.002910728100988786, 0.0029107551192626394, 0.0029108003261315626, 0.0029112288016368932, 0.0029111293104954433, 0.002911113565534072, 0.002911075387183238, 0.002911455246365254, 0.0029117203412068323, 0.0029116542627392354, 0.002911608141061759, 0.0029115851685685124, 0.0029115770050235543, 0.0029116046705381883, 0.0029116046705381883]\n"
     ]
    },
    {
     "name": "stderr",
     "output_type": "stream",
     "text": [
      "\n",
      "Choose one progress bar: 9it [5:24:53, 2025.45s/it]\u001b[A"
     ]
    },
    {
     "name": "stdout",
     "output_type": "stream",
     "text": [
      "runtime for ind model:1426.4811568260193 seconds\n",
      "Finish ind\n",
      "Starting all\n",
      "[0.0018359229937642372, 0.0021396681495918658, 0.0021908856124851816, 0.0022487734241921063, 0.0022206045834567115, 0.0026991408566334196, 0.0027055251750819913, 0.002717790039243135, 0.002770880564741872, 0.003603672843589447, 0.003603539481183509, 0.0036289050919266425, 0.0036497907796594386, 0.004049398953345177, 0.004050733863411367, 0.00405345448534523, 0.0040532997920187126, 0.004054259154821105, 0.004055056898978298, 0.00405704262867672, 0.004063064543645139, 0.0040639234181012755, 0.004068737557434613, 0.0040688129458655705, 0.004072272148109622, 0.004073225520764192, 0.0040734903960445296, 0.004073800364220235, 0.004074865273127598, 0.004074978089274632, 0.004074832926898557, 0.004075114301942356, 0.004075659961371961, 0.004076031821084897, 0.004076035933831583, 0.004075966479367009, 0.00407608481728003, 0.004076157671885127, 0.004076207800046286, 0.004076243724920482, 0.004076239092925025, 0.004076213450832787, 0.004076217035572172, 0.0040762452456747115, 0.004076221211667537, 0.004076518857456589, 0.004076854919714995, 0.004076992816678647, 0.004077072750449569, 0.00407712274238224, 0.004077209758519601, 0.00407737939963401, 0.004076816360048103, 0.004076964508452757, 0.0040770180854417725, 0.004077020784306213, 0.004077017825084865, 0.004077017825084865]\n",
      "runtime for all model:851.1627261638641 seconds\n",
      "Finish all\n",
      "Starting ind\n",
      "[0.0010982061331252552, 0.0010951622534496358, 0.0010939884185739708, 0.0010941179748827049, 0.0011114404546732847, 0.0011363665092372103, 0.0011716427063415025, 0.0012207649038854303, 0.0037770094422641307, 0.0037924866835614287, 0.003816609735061317, 0.0038544530758036176, 0.003911374558374295, 0.004054309614489051, 0.0046513476057225426, 0.004651398639598008, 0.004651516302918903, 0.004651631733211829, 0.00465164897564197, 0.0046517475474450645, 0.004651692225584704, 0.004651747209028156, 0.004651901007532255, 0.004651938465464955, 0.004651849683138537, 0.0046519236919985146, 0.004652089641895437, 0.0046521600914552624, 0.004652164752530751, 0.004652166181341273, 0.0046521645151390316, 0.0046521648381675955]\n",
      "[0.0026385443680098657, 0.0032458569617901446, 0.003319770319380397, 0.0032822222129872207, 0.003163014218279325, 0.003207062619405221, 0.0031812051017152815, 0.0032133008732065536, 0.0032917346089251383, 0.0033286945560101963, 0.00334291002431273, 0.0033469364806233436, 0.0033568246951508674, 0.0033609372164443664, 0.0033593798479373766, 0.003363766125909679, 0.003372108171807868, 0.0033780777428751934, 0.003379290198429532, 0.0033802270335887203, 0.0033831303705668773, 0.003384317104562834, 0.003384350939753058, 0.00338454811408182, 0.0033846991015900594, 0.0033846768844876646, 0.003384906898096669, 0.0033848685500542097, 0.0033849053139554746, 0.0033852387950005737, 0.003385629320806543, 0.0033870391141627132, 0.003388306251467993, 0.003388297907794889, 0.0033883664607450665, 0.0033884603895878392, 0.0033886075419717943, 0.0033897443602214734, 0.0033900215905269945, 0.003392853216688245, 0.0034135748145881968, 0.003413747947426541, 0.0034138007027936937, 0.0034138934830422268, 0.003413844765391439, 0.0034139765196677927, 0.003414118726495426, 0.00341428329406495, 0.0034145024087312787, 0.003414877164098314, 0.0034153661701282457, 0.003416181895844042, 0.0034172813234829786, 0.0034164539434307487, 0.0034176230016948056, 0.003413378197499344, 0.0034136117739036465, 0.0034136047425684934, 0.0034136047425684934]\n"
     ]
    },
    {
     "name": "stderr",
     "output_type": "stream",
     "text": [
      "\n",
      "Choose one progress bar: 10it [6:00:07, 2160.74s/it]\u001b[A"
     ]
    },
    {
     "name": "stdout",
     "output_type": "stream",
     "text": [
      "runtime for ind model:1262.6182265281677 seconds\n",
      "Finish ind\n",
      "MSE all: 0.025071929908109837\n",
      "MSE ind: 0\n",
      "for ind was chosen\n"
     ]
    },
    {
     "name": "stderr",
     "output_type": "stream",
     "text": [
      "\n"
     ]
    },
    {
     "name": "stdout",
     "output_type": "stream",
     "text": [
      "[0.0009831750209348894, 0.0009876412948497156, 0.000987066351165224, 0.0009823372934126783, 0.001005101766377714, 0.0010185690431750087, 0.001035845630828689, 0.001062414430057251, 0.001096050595832464, 0.0011407408067664086, 0.0012242228038408846, 0.0013679780798141017, 0.002725517778432394, 0.0028129674715825594, 0.004357166612392961, 0.004457584601227735, 0.0051465781187609305, 0.005267033643979421, 0.005050497460174424, 0.005050338892488265, 0.005052766124108884, 0.005052764084812654, 0.005052581933839993, 0.0050526177566825245, 0.005052648381812112, 0.005052601922848192, 0.005052422285933088, 0.005052556825812857, 0.00505264424401357, 0.0050526500192476995, 0.0050526537874218905, 0.005052685490298967, 0.005052683737488937, 0.005052692132085108, 0.0050527028329228115, 0.005052840950519983, 0.005052824992790106, 0.005052844589580716, 0.005052842240620591, 0.005052842820659735]\n",
      "[0.004831097971058114, 0.004747266275173896, 0.00466813370742041, 0.0047265185508336815, 0.004739207102594634, 0.0047479805782569984, 0.004810270944458476, 0.004839866228470971, 0.004912856256345511, 0.00492536790487374, 0.004931233190726266, 0.004996666533207089, 0.005007561552373866, 0.005011117375603033, 0.005013704517679661, 0.005030845844581253, 0.005035626228674143, 0.005039986621040911, 0.005038890278628519, 0.005043397902376982, 0.00504520499654894, 0.0050456158451134825, 0.005046403180234324, 0.005046669272265148, 0.0050470914658608266, 0.005047648080483041, 0.005048639333971239, 0.005052323927867511, 0.005070767470055908, 0.005070867844813776, 0.005070717519837181, 0.005070992085948667, 0.0050708223693316234, 0.005070707920623684, 0.0050706419026548, 0.005070585202217438, 0.005070548425636914, 0.005070549322907852, 0.005071035008194932, 0.00507076767952971, 0.005071165019173504, 0.005070739710717001, 0.0050709419031037, 0.005070975060835476, 0.005071362856879917, 0.005071745465625525, 0.005071472513028376, 0.005071559670672616, 0.005072024357367945, 0.005074164304788425, 0.005076282460277685, 0.0050878911540472044, 0.0051226401869445565, 0.005122641890314802, 0.005122643625767009, 0.005122644059240452]\n"
     ]
    },
    {
     "name": "stderr",
     "output_type": "stream",
     "text": [
      "CV progress bar: 3it [17:52:19, 21806.01s/it]"
     ]
    },
    {
     "name": "stdout",
     "output_type": "stream",
     "text": [
      "runtime for ind model:1597.7452838420868 seconds\n",
      "runtime for choose one model:23205.114531993866 seconds\n",
      "starting choose one model\n"
     ]
    },
    {
     "name": "stderr",
     "output_type": "stream",
     "text": [
      "\n",
      "Choose one progress bar: 0it [00:00, ?it/s]\u001b[A"
     ]
    },
    {
     "name": "stdout",
     "output_type": "stream",
     "text": [
      "Starting all\n",
      "[0.0022342727956202674, 0.0025101796678121185, 0.0026257190601334923, 0.0030151691982688677, 0.003120011114141985, 0.0031725490085540717, 0.003172679272270984, 0.003169408875584004, 0.003187433830038903, 0.003207347603553284, 0.0032178116825920394, 0.003214835472160448, 0.0032230542777438816, 0.0032235398897513283, 0.0032233220525312014, 0.003229571512362609, 0.0032365653545499027, 0.003242571876167239, 0.0032436750642405076, 0.003245292697321809, 0.0032476073274157087, 0.0032484366072156865, 0.0032480806448712124, 0.00325202646654063, 0.003262994277501955, 0.0032642011112649235, 0.0032656638262463767, 0.003267128611116476, 0.003267536074034737, 0.0032676673884201807, 0.003267839603428707, 0.0032679744727642803, 0.003266938575385017, 0.0032670457251218247, 0.0032671446563251813, 0.003267285105044971, 0.003267451805429817, 0.0032675396466550787, 0.003267733662615773, 0.003268078850101387, 0.003267440698038563, 0.0032675716572402925, 0.0032676952932215106, 0.0032678498393240553, 0.003267996296699187, 0.003268176824665224, 0.0032683752713532368, 0.00326833570709808, 0.003268532088112672, 0.0032687623626398744, 0.0032690049812872705, 0.003269167586262905, 0.003269462326469135, 0.0032697815854723137, 0.0032701557200237874, 0.0032705764673113744, 0.003271033490754734, 0.003271533494448458, 0.003272081593567574, 0.003272518212502691, 0.003272955967517788, 0.003272823494590159, 0.0032735643267345375, 0.0032744824887423704, 0.0032755497116258936, 0.003276483957390007, 0.0032779217765316294, 0.0032796433116125934, 0.0032816210470663527, 0.0032840149648211644, 0.0032868674982387902, 0.0036226086098974384, 0.0036215369131532955, 0.0036215061839850447, 0.003621681833536844, 0.003621677136366475, 0.0036216556601356706, 0.003621673078131797, 0.003621689597258364, 0.003621689597258364]\n",
      "runtime for all model:1177.9616405963898 seconds\n",
      "Finish all\n",
      "Starting ind\n",
      "[5.851845017194302e-05, 6.615222790679111e-05, 5.8636823596374286e-05, 6.267858285827885e-05, 6.0758474765845334e-05, 5.940918562075381e-05, 6.0230769481015694e-05, 6.1027340682050886e-05, 6.0834343850476786e-05, 6.174082692784768e-05, 6.321048517119255e-05, 6.456416781809384e-05, 6.502036264284216e-05, 6.674690741321904e-05, 6.692989689880212e-05, 6.756024511299752e-05, 6.80355371608954e-05, 6.806913783991014e-05, 6.806020555487493e-05, 6.810682270271985e-05, 6.815866103786787e-05, 6.818622863297524e-05, 6.820186052540687e-05, 6.818276467326358e-05, 6.817454326611539e-05, 6.817183657132611e-05, 7.053577380349983e-05, 7.054145212529348e-05, 7.054388908636087e-05, 7.054394635035881e-05]\n",
      "[0.004402909421650964, 0.00495520880061036, 0.005161970666377697, 0.0059503531065125265, 0.006192086882595222, 0.00636771905622948, 0.0063131087231403805, 0.006302474421889091, 0.006312968560613646, 0.006344114038738363, 0.006383450493616815, 0.006400232607696145, 0.006440839067973869, 0.006448980959567499, 0.006456668624292216, 0.00646006263501103, 0.006461945571890506, 0.00646447125620603, 0.006465808116095822, 0.006468781638737221, 0.006472987876750847, 0.0064768792870032454, 0.006488647445468704, 0.006507949738117881, 0.00650845192824837, 0.0065094767474979335, 0.006511386161379909, 0.006514076188394209, 0.006518323251370466, 0.006518753215872862, 0.006519080432401102, 0.006519849480280557, 0.0065174897564027985, 0.006518060681231144, 0.0065215456920798736, 0.006521732601453216, 0.0065219772129948075, 0.006522126563206163, 0.006522420462494548, 0.006522706796578891, 0.006518118574046461, 0.006517862445340757, 0.0065177583270053085, 0.00651900357156555, 0.006518038429627927, 0.006518539194787678, 0.006517846330551918, 0.006518025617748965, 0.0065180261395712865]\n"
     ]
    },
    {
     "name": "stderr",
     "output_type": "stream",
     "text": [
      "\n",
      "Choose one progress bar: 1it [37:29, 2249.35s/it]\u001b[A"
     ]
    },
    {
     "name": "stdout",
     "output_type": "stream",
     "text": [
      "runtime for ind model:1071.3871805667877 seconds\n",
      "Finish ind\n",
      "Starting all\n",
      "[0.0020036926490051427, 0.002795360757157876, 0.0029156797099271375, 0.003345532704215352, 0.003363575528173087, 0.0033709056160516155, 0.0033793000238696, 0.0033587097044317908, 0.003350350728670267, 0.0033586398027450766, 0.003375367238108005, 0.003396143319472596, 0.0034782546111437793, 0.0035958781128591264, 0.003603694246370431, 0.0036167535452239037, 0.003622479503885804, 0.0036210709543472927, 0.003627646775735431, 0.0036294870058559844, 0.003635534535644255, 0.0036367893437403522, 0.0036368964722430634, 0.003637519509263861, 0.00363781311406161, 0.003638321106779261, 0.0036384237470696535, 0.0036386471384182244, 0.003638889845173418, 0.003639004938062617, 0.00363934832629087, 0.00363953223471047, 0.0036392649521033464, 0.003639011133362964, 0.0036395247170515335, 0.003639883136919558, 0.0036398833241434144]\n",
      "runtime for all model:481.28211522102356 seconds\n",
      "Finish all\n",
      "Starting ind\n",
      "[0.0001400442742770016, 0.0001360585010344521, 0.0001303731659209371, 0.0001256355796528629, 0.00012889647571703307, 0.00013137128599767097, 0.00013133506988552982, 0.00013361637097135355, 0.0001328049314926323, 0.0001335949298502822, 0.0001339312209182254, 0.00013401484276157044, 0.0001339916506804684, 0.000134048277805481, 0.00013424798849511691, 0.00013431472928318488, 0.0001343540293574441, 0.00013446307218962505, 0.00013440534795335825, 0.00013483959910524029, 0.00013469026161643172, 0.00013489837872654936, 0.00013486794927495028, 0.00013489063664994693, 0.00013490449562413834, 0.0001349111000133271, 0.0001349098125152391, 0.00013496070882294055, 0.00013495569607365165, 0.0001349589449364621, 0.0001349588848784985]\n",
      "[0.003908043307594868, 0.005492625900831163, 0.00573357759802688, 0.00870967743356187, 0.008670663435041739, 0.008647982930616463, 0.008639694616384624, 0.00869850293212621, 0.008759235320071961, 0.008791397223177885, 0.008815570654856905, 0.00886423805012818, 0.008986048290164575, 0.009280014177605943, 0.009296363600151202, 0.009285326096802647, 0.009291613675771937, 0.009284310837718034, 0.009290897453396412, 0.009296542312747612, 0.009298437812269892, 0.009299148769349242, 0.009300379535490271, 0.009300523485271075, 0.00930086940914632, 0.009301049885210095, 0.009301107034391003, 0.009301703128770773, 0.009301609005099336, 0.00930152302158091, 0.009302075523190413, 0.009302673373061036, 0.009302498880011521, 0.009302509636698694, 0.009302709982234394, 0.00930261995227868, 0.009302616817545389, 0.00930264812936013, 0.00930263703318995, 0.009302649695780894, 0.009302672378665815, 0.009303232943363075, 0.009303752416951699, 0.009303844751184998, 0.009303859870826079, 0.00930382011193925, 0.009303863479189486, 0.009304689427761484, 0.009304072007517277, 0.009304073599515527, 0.00930407259426069, 0.009304071556060011]\n"
     ]
    },
    {
     "name": "stderr",
     "output_type": "stream",
     "text": [
      "\n",
      "Choose one progress bar: 2it [1:04:46, 1888.96s/it]\u001b[A"
     ]
    },
    {
     "name": "stdout",
     "output_type": "stream",
     "text": [
      "runtime for ind model:1155.4072194099426 seconds\n",
      "Finish ind\n",
      "Starting all\n",
      "[0.00251128987349041, 0.002433053553512193, 0.00245539915115109, 0.00246266727740901, 0.002513448037001778, 0.002581641924710206, 0.0027445607322841552, 0.0027670734360607167, 0.002826629361043378, 0.0029203657365161166, 0.0030373512327297927, 0.0028917870324990363, 0.002889136175180129, 0.002906705414190565, 0.0029081293815820153, 0.002917580941964565, 0.002918903076056588, 0.002920642770456555, 0.0029255558050733685, 0.0029266160711290167, 0.0029299380167245206, 0.0029442752297301985, 0.0029456557375839585, 0.0029474449245761158, 0.00295147722853156, 0.0029591065937089314, 0.002965568094950163, 0.002965469029543305, 0.0036453382291163003, 0.00364457316709746, 0.003648272095863432, 0.003647698502040903, 0.00364845419767125, 0.0036499136044318473, 0.003652028705546544, 0.003656524474167919, 0.0036582646226737264, 0.0036582937149928453, 0.003658888657664267, 0.0036584306555968006, 0.0036584195204426143, 0.003658423955407028, 0.0036585151188753655, 0.003658550615875699, 0.0036585630389874254, 0.003658573108256259, 0.0036585373917421673, 0.0036589594558570763, 0.0036589985609701533, 0.003659039351776523, 0.0036591141217364653, 0.003659127524375686, 0.0036712575420232104, 0.003671271363108293, 0.003671262124195005, 0.003671264105350127, 0.00367126990672087, 0.0036712721721100607, 0.003671268585973281, 0.0036716351290612508, 0.0036716421337891513, 0.003671641666869366]\n",
      "runtime for all model:955.3418922424316 seconds\n",
      "Finish all\n",
      "Starting ind\n",
      "[0.00016655965860323503, 0.0001681495045809512, 0.0001637641823413616, 0.00015949441211323271, 0.00015797220280440956, 0.00015535383660397327, 0.00015414148345840192, 0.0001547945214973119, 0.00015351316062062745, 0.000155418409687217, 0.00015706438158415276, 0.0001567980070497594, 0.0001569565572020197, 0.0001574383742562858, 0.00015771392501438445, 0.0001591608744311844, 0.00015926317185730853, 0.00015928626701860175, 0.00015932994455667657, 0.00015934152285887901, 0.00015936622866512625, 0.00015940827045876838, 0.00015941610159617655, 0.00015942843538063956, 0.00015942944797313747, 0.00015943483695473782, 0.0001594398323824595, 0.00015944509467002882, 0.0001594972263405691, 0.0001594951536594628, 0.00015951755131210594, 0.0001595797446332265, 0.00015961804805395902, 0.00015961770979756163]\n",
      "[0.004906655316913919, 0.00475154589596942, 0.004800001345014718, 0.0048279687321615946, 0.004961657577486872, 0.005176839884662564, 0.005552463270993906, 0.005599199374930268, 0.005708153725330382, 0.005906010269563231, 0.006155013906536002, 0.005834894044586085, 0.005841649222873937, 0.005852177565924767, 0.005844506010401908, 0.005840477144893415, 0.005853155534334193, 0.005861935053822429, 0.005869234100113709, 0.005879018858688728, 0.005892190782503238, 0.005926665648138733, 0.005926579620535317, 0.00593037645522222, 0.005932873053033252, 0.005937060016214972, 0.005946764491353541, 0.0073043049730031505, 0.007303082395331914, 0.007297604907453991, 0.007298083459905137, 0.00729984311822119, 0.007299861673742275, 0.007299881246873035, 0.007299978281128999, 0.007299907069757886, 0.007299927960720917, 0.00730007068299828, 0.007300149263246253, 0.007300290781652764, 0.0073004630180265265, 0.0073005969027701385, 0.007300869860675849, 0.007300727345657563, 0.007301216915724787, 0.0073013936471359705, 0.00730197570495057, 0.00730341682544583, 0.007305870556807916, 0.007311571418543844, 0.0073137521465969565, 0.0073141437407906905, 0.0073141437407906905]\n"
     ]
    },
    {
     "name": "stderr",
     "output_type": "stream",
     "text": [
      "\n",
      "Choose one progress bar: 3it [1:41:08, 2022.90s/it]\u001b[A"
     ]
    },
    {
     "name": "stdout",
     "output_type": "stream",
     "text": [
      "runtime for ind model:1226.941931962967 seconds\n",
      "Finish ind\n",
      "Starting all\n",
      "[0.0016821356310660264, 0.0017507668788886883, 0.002167161842901683, 0.0022401166233986794, 0.0022383379371652863, 0.002260327582276812, 0.0022890863193829837, 0.0023734748349019327, 0.0023797666494515765, 0.002387984002257706, 0.0024124230932252755, 0.0024366307837155095, 0.002453686269102791, 0.002454408855309979, 0.0024549780220356867, 0.0024590533498064604, 0.0024659445984257277, 0.0024723237497093205, 0.002476123058042527, 0.0024764615305009935, 0.0024762837833778766, 0.0024771585615584305, 0.0024779249946642176, 0.0024784607244694354, 0.0024788919838328407, 0.0024790794679237288, 0.002479272366884531, 0.002479351701397487, 0.0024794105644987607, 0.002479465612388374, 0.0024794507913173634, 0.002479456244528005, 0.0024795020595572, 0.002479983694519287, 0.0024799981652025003, 0.002480001736550979, 0.002480006008027561, 0.002480012622970875, 0.0024800158797295773, 0.002480020545364782, 0.0024800303497884016, 0.002480032289044099, 0.002480024916433964, 0.0024800327166669906, 0.002480040727699541, 0.002480043480184923, 0.0024800550581935794, 0.0024800638453913947, 0.0024800843122405104, 0.0024800897282777974, 0.002480316765103177, 0.0024805295935109014, 0.002480546195613533, 0.0024805725337456327, 0.0024806053699465255, 0.0024806411007229686, 0.0024806703946026803, 0.0024806728997063456, 0.002480740838860209, 0.0024808123949648913, 0.002483410863399391, 0.0024845770778678384, 0.002484566491674146, 0.002484567133010866, 0.002484997925745604, 0.0024849404918892907, 0.0024849657656604604, 0.0024849657656604604]\n",
      "runtime for all model:992.3379578590393 seconds\n",
      "Finish all\n",
      "Starting ind\n",
      "[0.00011248037568935753, 0.00010986449874832572, 9.736361983427442e-05, 0.00010256925666621268, 0.00010401761356094327, 0.00010932848686781617, 0.00010752779889562256, 0.000108780859015971, 0.00010892822729786462, 0.00010930482087697143, 0.00010966452542938377, 0.0001100455288411208, 0.00011090075080152429, 0.00011152746297643967, 0.00011106542530469358, 0.00011117637780825027, 0.00011121055199229981, 0.00011122498841616801, 0.00011121941003056791, 0.00011128667774123471, 0.000111315046025624, 0.0001113260386993579, 0.00011132416526615304, 0.00011132851782377949, 0.00011133559109648349, 0.00011135398221099762, 0.00011136242039644907, 0.00011136483083321787, 0.00011136599566198579, 0.00011136656789197885]\n",
      "[0.003248688385665871, 0.003396243304004764, 0.004154583786456849, 0.00423043807632524, 0.00441694869843223, 0.004469648051550155, 0.004500859176052603, 0.0043751282759703445, 0.004409824730355497, 0.004322695802701227, 0.004383963142342982, 0.004413445312811022, 0.004435021209764293, 0.0044519634916698825, 0.0044600518114927415, 0.004464859065799483, 0.0044823529146929475, 0.004481509607693913, 0.004488550083388924, 0.004491102966453276, 0.0044899757851509, 0.004490760184241859, 0.004494688602519338, 0.004496021209620041, 0.004503629769192213, 0.004504000519522296, 0.004505618954000935, 0.004505848780978553, 0.004506017961590515, 0.004505999995077439, 0.0045060026856831, 0.004506000221469255, 0.0045059993647810345]\n"
     ]
    },
    {
     "name": "stderr",
     "output_type": "stream",
     "text": [
      "\n",
      "Choose one progress bar: 4it [2:10:28, 1919.31s/it]\u001b[A"
     ]
    },
    {
     "name": "stdout",
     "output_type": "stream",
     "text": [
      "runtime for ind model:768.1626591682434 seconds\n",
      "Finish ind\n",
      "Starting all\n",
      "[0.0023546461245913587, 0.00283828788313199, 0.0029258099118315917, 0.002941602867720027, 0.0028923253475747574, 0.0028255455800789238, 0.0029099727978190416, 0.0029358802779607266, 0.002946147706191467, 0.0029605516582863933, 0.0029845194569538625, 0.0029956361352649983, 0.0030167445220144903, 0.003027102868038034, 0.0030429021059595325, 0.003042976575646752, 0.0030423717646963907, 0.003047041981635347, 0.0030511179944333238, 0.0030558164324942074, 0.0030569472817197157, 0.0030600951390406016, 0.003058403675922916, 0.0030585222375176207, 0.003058961805861152, 0.0030595012146694385, 0.0030608789069937747, 0.0030613904973512684, 0.0030631214275603593, 0.0030625344815742436, 0.003061677666005546, 0.003060952603304982, 0.003060932885864782, 0.0030619946788539485, 0.0030620116921268254, 0.0030620324732552034, 0.0030620931382441844, 0.003062130111925132, 0.003062301906212141, 0.0030623540395598977, 0.003062376202527975, 0.0030623780416888444, 0.00306236707711755, 0.0030623678786354048]\n",
      "runtime for all model:597.3274478912354 seconds\n",
      "Finish all\n",
      "Starting ind\n",
      "[0.00016492038627490183, 0.0001556433333046359, 0.00014172687002542272, 0.00013778583865288439, 0.00013614080602869977, 0.00013611222573074944, 0.0001403076428406807, 0.000147772795884317, 0.00014768571661619655, 0.00014810893974584753, 0.00014811283054327453, 0.00014834517932727778, 0.00014842482966738444, 0.000148641753624508, 0.00014865842519230272, 0.00014870301363905243, 0.0001488119228779551, 0.00014884831007865124, 0.00014889791133703068, 0.000148923549484758, 0.00014897213227585995, 0.0001489882644805347, 0.0001490555630296345, 0.0001490364536281014, 0.00014904589392837796, 0.00014905521380000766, 0.00014906513168111475, 0.00014906036454187448, 0.0001490836013486278, 0.00014909430943100678, 0.00014909043254107034, 0.0001491058637268206, 0.00014903268560661508, 0.00014903981863270013, 0.00014903625778592142, 0.00014903586711473223]\n",
      "[0.004593212449404682, 0.00555944580279217, 0.005671033742441459, 0.005729926895945374, 0.0055160049490472225, 0.00549597772838996, 0.005681078219623354, 0.00571807922978484, 0.005765543872384728, 0.005867271505765899, 0.0058559390502856195, 0.005867042358397003, 0.0058856967015063376, 0.005894059225849095, 0.005897240584197291, 0.005898534699762945, 0.0059021808842196375, 0.005901452060534034, 0.005905069285063994, 0.005908825343715538, 0.005909664789030726, 0.005910004898088185, 0.005909995125342655, 0.005911459354641661, 0.005913229552125736, 0.005912167257402174, 0.005914185782384281, 0.005914439765558851, 0.005914874067016404, 0.005918143395570291, 0.0059199969950657644, 0.005923413198142967, 0.005931724679749452, 0.005935024713306406, 0.005935702506145736, 0.005935609200788795, 0.005935521354790585, 0.005935499112519821, 0.005935525491465442, 0.005935498964414744, 0.0059355529496183, 0.005935537324083936, 0.005935515857888004, 0.005935492311699905, 0.00593546339468768, 0.00593543026675004, 0.005935856285935614, 0.0059367759692368115, 0.005936674070041339, 0.00593642294135147, 0.0059365446314436215, 0.005936513192126823, 0.005936786990894669, 0.005936530103770599, 0.005937024033689865, 0.005936942351466861, 0.0059372489648461275, 0.005937556832249951, 0.00593807317992485, 0.005940023155555281, 0.0059466182872581165, 0.005948586369407313, 0.005948601882018435, 0.0059485905418242375, 0.005948576238354248, 0.005948585066669708, 0.005948602491487131, 0.00594862863240056, 0.0059486595302231425, 0.005948711544551785, 0.005948713116604856, 0.0059487639324391816, 0.0059488640911949334, 0.005948897539607796, 0.005949061852824021, 0.0059492142130400435, 0.005949459776499468, 0.005949784134523737, 0.005949187998194158, 0.005949633300247196, 0.005950364969895048, 0.005951808673648265, 0.005954706822360144, 0.005968198369720344, 0.0059683880253528845, 0.005968731789432739, 0.005968731789432739]\n"
     ]
    },
    {
     "name": "stderr",
     "output_type": "stream",
     "text": [
      "\n",
      "Choose one progress bar: 5it [2:51:33, 2115.82s/it]\u001b[A"
     ]
    },
    {
     "name": "stdout",
     "output_type": "stream",
     "text": [
      "runtime for ind model:1866.9323165416718 seconds\n",
      "Finish ind\n",
      "Starting all\n",
      "[0.0018696806988842455, 0.0026519176831236472, 0.0034032166951648117, 0.0035635231732482537, 0.0034856631735690133, 0.0035399544873749218, 0.003579767597062122, 0.0036172204262761277, 0.0035996865150007646, 0.0036000808806515064, 0.003709474844341483, 0.003725263429941784, 0.003720294030638495, 0.003736162411790125, 0.0037393598849898547, 0.0037380657944280893, 0.0037430390812159342, 0.0037509565645226063, 0.0037581461711573344, 0.003759144226225796, 0.003759622673992478, 0.0037607296926483124, 0.003761048393438339, 0.003762154851180048, 0.0037641863799208154, 0.0037727553824103573, 0.0037728064574359386, 0.0037728438277466587, 0.003773098296090044, 0.003773205043117657, 0.0037732531116389115, 0.0037733811698868495, 0.0037737147017215824, 0.0037766924035783677, 0.003776309135763198, 0.0037763087120788416, 0.0037763397106123633, 0.003776313591329566, 0.0037763043708989716, 0.0037765704240216038, 0.0037765908267712424, 0.003776598348102186, 0.0037766115923908465, 0.00377660018850162, 0.0037765989065039877, 0.003776599105626602, 0.003776599105626602]\n",
      "runtime for all model:639.8795878887177 seconds\n",
      "Finish all\n",
      "Starting ind\n",
      "[0.00016544708476050977, 0.00014900686670381365, 0.0001463000592305029, 0.0001404426190159104, 0.00015504888330516723, 0.00015865062543794846, 0.0001606067163940175, 0.00016093654127830276, 0.00016197120044279952, 0.00016235692645390605, 0.00016335746176457272, 0.00016356780472189834, 0.0001635496347879691, 0.00016350976914899612, 0.00016349513630519529, 0.00016318823011836383, 0.0001629997576991075, 0.00016446407068453414, 0.0001645108019388268, 0.00016457210492998165, 0.000164608086210341, 0.00016468460211673653, 0.00016466174437362275, 0.00016472562791820848, 0.00016472712878605358, 0.00016472995309752602, 0.00016473399389825964, 0.00016474373576996017, 0.00016474709773318063, 0.0001647495020929897, 0.0001647568145519307, 0.00016477409588846098, 0.00016480433116966502, 0.00016491173681251574, 0.00016491300246773675, 0.00016491453466781317]\n",
      "[0.003623551424589178, 0.005197192538913343, 0.006571833298034903, 0.0068554075729976545, 0.006736998517768225, 0.006850740570642421, 0.006953224606762819, 0.006990301388152707, 0.0069891523320316975, 0.007035390642046826, 0.007237357387359251, 0.007284480058119713, 0.007283628172920555, 0.0072907840943722034, 0.00730240796422663, 0.0073098973424771995, 0.007322661196235786, 0.007325455922277029, 0.0073345099191515425, 0.00733686450731479, 0.007338361543948629, 0.007338608841668206, 0.007339202785175325, 0.0073403374899590505, 0.007347401552720126, 0.0073513095847173, 0.007351568551110371, 0.0073588552468486935, 0.007358216725458876, 0.00735931243324376, 0.007359586370178144, 0.007359603277730742, 0.007359613808125954, 0.007359628187714744, 0.007359641698936889, 0.0073596432086956405, 0.007359653177460871, 0.007359661891046201, 0.00735967995131572, 0.00735961143563591, 0.007359621430062561, 0.007359668924697112, 0.007359725836209592, 0.007359739722969651, 0.007359751495193241, 0.0073597519444633715]\n"
     ]
    },
    {
     "name": "stderr",
     "output_type": "stream",
     "text": [
      "\n",
      "Choose one progress bar: 6it [3:20:30, 1987.07s/it]\u001b[A"
     ]
    },
    {
     "name": "stdout",
     "output_type": "stream",
     "text": [
      "runtime for ind model:1097.240935087204 seconds\n",
      "Finish ind\n",
      "Starting all\n",
      "[0.0016326601686225614, 0.001700111085607927, 0.0017525754056655028, 0.0020753078832941455, 0.0022242640744827057, 0.0022346394774938505, 0.002257911740861052, 0.0022836650371180823, 0.0022935871583683104, 0.0023043763565764154, 0.0023111747383403425, 0.0023190660709241973, 0.002323661072333744, 0.002323297536206395, 0.002319085978070218, 0.0024279422659229674, 0.002443853889770872, 0.0024921833085632832, 0.0025079060386519526, 0.002510540151802563, 0.00251149933524557, 0.002513254394395978, 0.00252207159138666, 0.002523512498388827, 0.0025242321861507966, 0.0025244424912062207, 0.0025244625880719387, 0.0025242771322516264, 0.0025244584518154707, 0.002524628879465167, 0.002524680293487293, 0.002524692126015877, 0.0025247126798701443, 0.0025247230811827467, 0.002524709424011304, 0.002524710191360787]\n",
      "runtime for all model:447.2863223552704 seconds\n",
      "Finish all\n",
      "Starting ind\n",
      "[0.00016737196339605367, 0.0001594375281585868, 0.00014127603047335243, 0.00013787312786614432, 0.00013476974245316391, 0.00013733952742230678, 0.00013827011406240686, 0.00014037144103993437, 0.00014016768019162467, 0.0001401142616256038, 0.00014048742401664359, 0.00014078304849168827, 0.00014089519750558967, 0.00014157267960318768, 0.00014193292975941849, 0.00014197058838732652, 0.0001420339613496831, 0.0001421140791527387, 0.0001423298160067258, 0.00014235997653898967, 0.0001424094106281773, 0.0001424176615755257, 0.00014243403722221916, 0.0001424342766417628]\n",
      "[0.0031478850802080086, 0.0032356233460280118, 0.003334026634477368, 0.003968938143254779, 0.004039714231713927, 0.0040768353504583256, 0.004078257730204126, 0.004170462664209536, 0.004134953710142712, 0.004196621438309784, 0.004188713131482953, 0.00421833244668786, 0.004212397065542635, 0.004200583103548884, 0.00438864084101463, 0.004417033367582401, 0.004512303911968032, 0.004536142969832427, 0.004549506191731081, 0.004550716802109545, 0.004553122052554027, 0.004553757499781137, 0.004554348455899484, 0.004554227474478221, 0.004554883877342217, 0.004555110867728872, 0.004555326123574547, 0.004554150591009927, 0.004554297915530852, 0.0045546463572908044, 0.0045546356284433525, 0.004554803087132299, 0.00455500284564216, 0.004554976394473905, 0.004554969838310742, 0.004554973613688558, 0.004554979252131877, 0.004554977835745553, 0.004554977738872782]\n"
     ]
    },
    {
     "name": "stderr",
     "output_type": "stream",
     "text": [
      "\n",
      "Choose one progress bar: 7it [3:40:53, 1737.32s/it]\u001b[A"
     ]
    },
    {
     "name": "stdout",
     "output_type": "stream",
     "text": [
      "runtime for ind model:775.8521752357483 seconds\n",
      "Finish ind\n",
      "Starting all\n",
      "[0.0027314518630652046, 0.0036659306156067635, 0.003679154137787649, 0.004385067377904255, 0.004376488708507661, 0.004367858536962087, 0.004388298369131571, 0.0043927302989207025, 0.004387677362082966, 0.004369537841716256, 0.004382318026431284, 0.004392478930396243, 0.0043952628561571404, 0.004410297598021486, 0.004418152883093126, 0.004423806329187448, 0.0044272628220472805, 0.0044302275166142584, 0.0044373390074361726, 0.004439932366788571, 0.0044427936660900525, 0.0044496687355349345, 0.004451296437597052, 0.004461056320884503, 0.004461663908357218, 0.004461299713390816, 0.004462479115827965, 0.004462023865696689, 0.00446198900296651, 0.00446198852114277, 0.004461703153792581, 0.004461570467399374, 0.004461310918167955, 0.004461717256685276, 0.004461474172679122, 0.004461689039750877, 0.0044616964701842165, 0.004461676038362112, 0.004461687421293379, 0.0044616861072886375, 0.0044616685492088835, 0.004461657991081472, 0.004461737917516842, 0.004461866971810296, 0.004462126041125735, 0.004463246193058472, 0.004467591715478468, 0.00446759505806014, 0.0044676373459799565, 0.004467639571537398, 0.004467668593946797, 0.0044676597229672665, 0.004467650822537671, 0.004467661526938327, 0.004467631939004774, 0.004467636221569657, 0.004467649751340475, 0.004467709904389265, 0.0044676115629057765, 0.004467655653172848, 0.004467750076793104, 0.004468062887890966, 0.004469126451723946, 0.0044697669948720676, 0.004469796065068804, 0.004469749209122458, 0.004469755805185436, 0.004469713072555743, 0.00446964689236166, 0.004469624591360743, 0.004469618002182544, 0.004470340052677562, 0.004470404379534166, 0.0044704106656281, 0.0044704106656281]\n",
      "runtime for all model:1154.2379760742188 seconds\n",
      "Finish all\n",
      "Starting ind\n",
      "[0.00014575108468236746, 0.00013680489265597754, 0.00013586649495992247, 0.0001317692124097002, 0.00013074576280505475, 0.00013241934912814826, 0.00013120931334738992, 0.0001317655032950712, 0.0001315429989417123, 0.00013260035415385012, 0.000132481574624157, 0.0001328449751567854, 0.00013318364395936488, 0.00013321490071150488, 0.00013366739026876768, 0.00013383164934290006, 0.00013388646953900083, 0.000134038904573291, 0.0001343824039491962, 0.0001344941583478035, 0.0001345359770347474, 0.00013456736889261674, 0.00013465940388760308, 0.0001346760332857489, 0.0001346101402428397, 0.0001347200283666467, 0.0001347706549861305, 0.00013482021597510375, 0.00013486636445428352, 0.00013494114220757625, 0.00013496938073753723, 0.00013513923871486964, 0.00013549132104917862, 0.00013661640441388546, 0.0001380213359182718, 0.00013802118501574545]\n",
      "[0.005351785622526346, 0.007223013061419539, 0.007253697273622464, 0.008637791353707552, 0.008568828797686119, 0.008425525318727142, 0.008540159193605987, 0.008574847085407254, 0.008588537688048485, 0.008624919764195802, 0.008641899456703146, 0.008650746848279814, 0.008658095946900306, 0.008659450912508065, 0.008658782780838915, 0.008666134389231597, 0.00866987566512879, 0.008675385494839802, 0.008680513252663094, 0.00868578052864025, 0.008692838761233872, 0.008709954405816438, 0.008711326759760073, 0.008712239712870124, 0.008712063786598489, 0.00871165571269795, 0.008711514947329475, 0.008716725151690283, 0.008718064745927637, 0.008718616977970366, 0.008719062799832651, 0.008720236628823753, 0.008739652257502116, 0.008743441340538852, 0.008736757571400253, 0.008736865073809073, 0.008737154531432083, 0.00873703615788055, 0.008736993622127091, 0.008736958360302824, 0.00873693818499716, 0.00873691932221201, 0.008736926779861126, 0.008736925282143043]\n"
     ]
    },
    {
     "name": "stderr",
     "output_type": "stream",
     "text": [
      "\n",
      "Choose one progress bar: 8it [4:18:19, 1899.30s/it]\u001b[A"
     ]
    },
    {
     "name": "stdout",
     "output_type": "stream",
     "text": [
      "runtime for ind model:1091.894289970398 seconds\n",
      "Finish ind\n",
      "Starting all\n",
      "[0.0029140702417049086, 0.0029105106064121356, 0.0029784137674917196, 0.0031052104541889943, 0.0030022089358683617, 0.0030692229276423934, 0.0030183418315238575, 0.0030429096948543536, 0.003076112090038952, 0.0032519246098830423, 0.003246866637058276, 0.0032464046421253044, 0.003249404035130188, 0.0032553103176141277, 0.003262780024792346, 0.0032654042603209215, 0.0032699350943809326, 0.003272999457171205, 0.0032724492345741736, 0.003275370199041283, 0.0032760757973321905, 0.003276351241437359, 0.0032770246450867908, 0.0032770018892572536, 0.0032773305759230945, 0.0032773476896432187, 0.003278109927893659, 0.0032780253156715023, 0.0032784417577937457, 0.003278462785144866, 0.00327975437526029, 0.003289846327825782, 0.003289716470701927, 0.0032896648142530954, 0.003289614295287075, 0.0032896040316210185, 0.0032895622464501144, 0.0032895324684295195, 0.003289533964645995, 0.003289547066090276, 0.0032901735735305056, 0.003290306033924959, 0.003290547414097332, 0.003290567816199641, 0.003290405182970102, 0.0032904269184378574, 0.0032904269184378574]\n",
      "runtime for all model:638.4875528812408 seconds\n",
      "Finish all\n",
      "Starting ind\n",
      "[0.00013866744077564572, 0.00013816616234298886, 0.00012846962291207298, 0.00012058756750115264, 0.00012404454515973357, 0.0001272785171961286, 0.00012871298431505311, 0.00013025995624817117, 0.0001302088244633243, 0.00013086365157926287, 0.000131271614446173, 0.00013274912952882472, 0.00013212772218359337, 0.00013218691964536188, 0.00013305234366387252, 0.00013303904775736018, 0.0001331297558728812, 0.00013323054942725898, 0.00013342919115302205, 0.0001335025616735505, 0.00013382437610713087, 0.0001338685826013162, 0.00013386364183392841, 0.00013689072361239906, 0.00013687270957973716, 0.00013686553337224642, 0.00013688035456000362, 0.0001368913075736887, 0.000136932301098956, 0.000136929079938578, 0.00013693324146384382, 0.00013694044131280656, 0.00013694915136083018, 0.00013696317749478578, 0.0001370056623352967, 0.00013703602774261262, 0.00013705272369575111, 0.0001370741334734065, 0.00013710313543918338, 0.00013713526548264518, 0.00013718415870642313, 0.00013723111691700315, 0.0001373141201615002, 0.00013783514669774388, 0.00013803707031499992, 0.00013804018491479414, 0.00013803648772275665, 0.00013803706418339211, 0.00013803706418339211]\n",
      "[0.005726645721377011, 0.005720864404744448, 0.005840393663456358, 0.0059274615588613844, 0.005759906441264652, 0.005970287622848681, 0.005917301188695056, 0.0059975294027923825, 0.006105851691281134, 0.00642618454669701, 0.006437771696267833, 0.0064511017410788084, 0.006492463336886227, 0.006521279872214731, 0.006527779760701893, 0.006528973503913934, 0.00653146050604186, 0.0065331525799700125, 0.0065349202293799495, 0.006535254570001184, 0.0065388856393935515, 0.006539383087232729, 0.006539750603603597, 0.006539771186970024, 0.006539930656204719, 0.0065399141992990625, 0.006540035149937291, 0.0065400712710845885, 0.006539974192326969, 0.0065400862425334175, 0.0065401067730177925, 0.006540149843736501, 0.006540347838528434, 0.006540433480232204, 0.006540452875127977, 0.006540456165233198, 0.0065404548196250165, 0.006540451365021321, 0.006540407091847791, 0.0065404135530197065, 0.006540425457437689, 0.006540442125968081, 0.006540466029325695, 0.006540500134411234, 0.0065405267082339815, 0.0065405714362898925, 0.006540619743293327, 0.006540642851760518, 0.0065408031700705015, 0.006541352876256209, 0.006542155659466817, 0.006542155659466817]\n"
     ]
    },
    {
     "name": "stderr",
     "output_type": "stream",
     "text": [
      "\n",
      "Choose one progress bar: 9it [4:53:14, 1960.61s/it]\u001b[A"
     ]
    },
    {
     "name": "stdout",
     "output_type": "stream",
     "text": [
      "runtime for ind model:1456.9239468574524 seconds\n",
      "Finish ind\n",
      "Starting all\n",
      "[0.0025617786290942626, 0.0022591523140385868, 0.0021867517949610274, 0.002202480245038337, 0.0021811060025672797, 0.0021959986572518088, 0.0021900993479269416, 0.0022059769936747624, 0.002220323404951831, 0.002227935018730203, 0.002256836708797876, 0.0022594286981068275, 0.002263760450091308, 0.0022755077267312923, 0.0022740390485197133, 0.002276455054306637, 0.00227699284790661, 0.0022786474128360127, 0.0022793008062632837, 0.00228144095231111, 0.002281291914569563, 0.0022827727382787573, 0.002287694868264013, 0.00228887846666491, 0.0022924777160889575, 0.0022964316424118206, 0.002297288112139576, 0.0022973628842965286, 0.0022975944254753017, 0.002298021948818787, 0.0022990822724697517, 0.0022998672259057916, 0.002303145824685905, 0.0023031468747995456]\n",
      "runtime for all model:425.71406269073486 seconds\n",
      "Finish all\n",
      "Starting ind\n",
      "[0.0001652402593595895, 0.00016550003888140074, 0.0001601379067244061, 0.00015643198419212207, 0.00016051968964541906, 0.00016079669286424362, 0.00016169828803444032, 0.00016266983051779182, 0.00016245810028735867, 0.00016270197894823285, 0.0001623179393017305, 0.00016416221258930595, 0.00016524701586401885, 0.00016567577712112762, 0.0001666107478117958, 0.00016670336567231435, 0.00016702838721848568, 0.000167142405884739, 0.00016723448975317822, 0.00016727871306843495, 0.00016732381599125954, 0.00016737750517085477, 0.00016737635873696467, 0.00016737777940406247, 0.00016738124927624182, 0.00016737988905455027, 0.00016737735491103737, 0.00016737835769162972]\n",
      "[0.005004824517273364, 0.004400512589079207, 0.00425483287460921, 0.004219328072932406, 0.004156190823245679, 0.004185282391076997, 0.004165226067649267, 0.004206701284895965, 0.004208891546012665, 0.004234480335885617, 0.004263363018015817, 0.004296693039438095, 0.004324986337413045, 0.004333347889156425, 0.004340302789326043, 0.004342076711582633, 0.004360407859922722, 0.004359230181357775, 0.0043608021019098785, 0.004359132738744326, 0.004361252761194616, 0.004367913426127733, 0.004370373702765414, 0.004372727151947388, 0.004373090816043757, 0.004373567053812021, 0.004374302666788836, 0.004374740497887193, 0.004375683880648179, 0.004375634958742407, 0.004375835810278017, 0.004376037112091914, 0.004376278421994796, 0.0043764770931040385, 0.004376585247249044, 0.004376967042431664, 0.0043770882737572715, 0.004377796289818046, 0.004378360184167493, 0.004378916487801034, 0.004379393665597372, 0.004379308017652076, 0.004376992030299587, 0.004376599464210743, 0.004377299455691801, 0.004377774677118792, 0.004377745728400474, 0.004377741134847646, 0.004377741606862809]\n"
     ]
    },
    {
     "name": "stderr",
     "output_type": "stream",
     "text": [
      "\n",
      "Choose one progress bar: 10it [5:17:18, 1903.84s/it]\u001b[A"
     ]
    },
    {
     "name": "stdout",
     "output_type": "stream",
     "text": [
      "runtime for ind model:1017.7921953201294 seconds\n",
      "Finish ind\n",
      "MSE all: 0.03027357117137098\n",
      "MSE ind: 0\n",
      "for ind was chosen\n"
     ]
    },
    {
     "name": "stderr",
     "output_type": "stream",
     "text": [
      "\n"
     ]
    },
    {
     "name": "stdout",
     "output_type": "stream",
     "text": [
      "[0.00015732193172484767, 0.00013502657565240165, 0.00012898005029354488, 0.00013134069026293706, 0.00012649642804916667, 0.0001375054755564157, 0.00014026310573898214, 0.00014133893520416936, 0.0001412223737685132, 0.00014269971096691613, 0.00014230677025185774, 0.00014150740508331335, 0.00014253532541027295, 0.0001424433453982126, 0.00014212967453331864, 0.00014239103905466406, 0.0001425611767589838, 0.00014264320814133492, 0.00014275115565898246, 0.00014345481007238927, 0.0001436272560757705, 0.00014369228365943744, 0.00014368225087611238, 0.00014370278873901122, 0.0001437153233071766, 0.0001437139478605708, 0.00014371694371310964, 0.00014372581239809304, 0.00014373016239248155, 0.00014374043661162088, 0.00014376851164645655, 0.00014384355645343183, 0.00014384283152928278, 0.0001438427140207515]\n",
      "[0.0038931526509891497, 0.004293070493072554, 0.004710475803128634, 0.005567283751636296, 0.005663704662484714, 0.006026010697926664, 0.006131220430628378, 0.00611804793569762, 0.006143741974235778, 0.006194539676680622, 0.006261941739194643, 0.006286351714093336, 0.0062995479205885194, 0.0063038774200441195, 0.00633773363647473, 0.006331138053161422, 0.00633960192806871, 0.006349403167098205, 0.006354444652766205, 0.006361588101603655, 0.006362933839833007, 0.006362672334140844, 0.00636702192284958, 0.0063657217838722965, 0.006368585016387254, 0.00636925388820406, 0.006368245606363748, 0.006368646013188239, 0.006368678532491347, 0.006368691407330549, 0.006368918560421248, 0.006369387304741787, 0.0063742784903684496, 0.006374267327949039, 0.006374355836841042, 0.006374457659693707, 0.00637445750472871]\n"
     ]
    },
    {
     "name": "stderr",
     "output_type": "stream",
     "text": [
      "CV progress bar: 4it [23:27:13, 21130.23s/it]"
     ]
    },
    {
     "name": "stdout",
     "output_type": "stream",
     "text": [
      "runtime for ind model:1055.8200414180756 seconds\n",
      "runtime for choose one model:20094.25472187996 seconds\n",
      "starting choose one model\n"
     ]
    },
    {
     "name": "stderr",
     "output_type": "stream",
     "text": [
      "\n",
      "Choose one progress bar: 0it [00:00, ?it/s]\u001b[A"
     ]
    },
    {
     "name": "stdout",
     "output_type": "stream",
     "text": [
      "Starting all\n",
      "[0.002136543232096259, 0.002198664898067472, 0.002321119885355552, 0.002488781803822518, 0.0028129782826781967, 0.0028803879751180266, 0.0034040048797455377, 0.004141440804518448, 0.004241054936216028, 0.004607285842710185, 0.004611056858877052, 0.004640993372786702, 0.00464742443714382, 0.00465299735423218, 0.0046523714779102155, 0.004653071312372156, 0.004657299725397672, 0.004660552314718602, 0.004664550170749451, 0.004665851961235819, 0.004667063392981705, 0.004668542806802218, 0.0046712817501879215, 0.004675341907240291, 0.004682744304048489, 0.004683814392223359, 0.0046843582044894996, 0.0046847225173095326, 0.00468697018450177, 0.004688733130347737, 0.004690983476887263, 0.004696568197839197, 0.0047077317684154395, 0.0047641346007739034, 0.004764304729362653, 0.004764375617581865, 0.004764618777461505, 0.0047646855771229435, 0.004764959857963701, 0.004765663943288179, 0.004766280331166873, 0.004766822174790527, 0.004769968303711834, 0.004777361643361392, 0.0047770889397603135, 0.0047770889397603135]\n",
      "runtime for all model:637.6978149414062 seconds\n",
      "Finish all\n",
      "Starting ind\n",
      "[0.0011299456081266927, 0.0011844446603215422, 0.0012096571405637582, 0.0012288103368326415, 0.0012674836497916537, 0.0013262755153010239, 0.0014248444656088052, 0.002493431560058037, 0.0028318977138429603, 0.0049611867211295764, 0.005046991107978449, 0.005734884868040576, 0.0057372094990902, 0.005739098583384085, 0.005739785654564922, 0.005740619875799013, 0.005740535505270061, 0.005740439084053644, 0.005740545700229395, 0.00574067823407213, 0.005740908816560804, 0.005740941461956327, 0.005740274659445108, 0.005740320002312044, 0.005740278343607462, 0.0057403355821135605, 0.005740422327694351, 0.005740417613175447, 0.005740415389064312, 0.00574042689756102, 0.005740437128427598, 0.005740450958630237, 0.00574047678568305, 0.005740482692208247, 0.005740509800306884, 0.005740530501700472, 0.005740549049858412, 0.005740559359315042, 0.005740565015224018, 0.005740568760440666, 0.005740564919772387, 0.005740575500983924, 0.005740568898244466, 0.005740511536623244, 0.00574051314594907, 0.005740502390195695, 0.0057405002582091025, 0.005740502601049878, 0.005740502176188425]\n",
      "[0.0032678279297206174, 0.0032552637524505385, 0.003337199407785276, 0.0039979231857521485, 0.003898492199806774, 0.0038679770985687485, 0.0038909704515964496, 0.0039264490959540115, 0.003947055624416391, 0.003958434105070838, 0.003984319144486834, 0.004005554480436451, 0.003995085355735342, 0.004004511383427949, 0.003996674755624789, 0.0040036275703621985, 0.004008979216818591, 0.0040105760109469596, 0.004008964440428409, 0.004017479830894587, 0.004021056800319318, 0.004008107038718471, 0.00400741504873689, 0.004007978681552804, 0.004008036449084091, 0.004009356762403403, 0.00400922670709786, 0.004010084343683082, 0.0040101204411094205, 0.004010165822362458, 0.004010032046045721, 0.004009908416938903, 0.004010231640727337, 0.004009736601911366, 0.00400971752556328, 0.004009719409546227, 0.00400970597658702, 0.004009686049837827, 0.004009679636853556, 0.004009691760614616, 0.004009668653469381, 0.004009657771283059, 0.004009646166876337, 0.004009848535444713, 0.004009902397764229, 0.004009882224985251, 0.004009864704263436, 0.004009852046283253, 0.004009840308311079, 0.004009820796451671, 0.004009897825031408, 0.004009894277495403, 0.0040098801762664315, 0.004009886950489863, 0.004009869738729735, 0.004009856922766289, 0.004009858931061126, 0.004009845281181529, 0.004009832841012094, 0.004009845737328502, 0.004009868267919348, 0.004009856312042216, 0.004009816465705436, 0.004009815906056789]\n"
     ]
    },
    {
     "name": "stderr",
     "output_type": "stream",
     "text": [
      "\n",
      "Choose one progress bar: 1it [39:58, 2398.50s/it]\u001b[A"
     ]
    },
    {
     "name": "stdout",
     "output_type": "stream",
     "text": [
      "runtime for ind model:1760.796247959137 seconds\n",
      "Finish ind\n",
      "Starting all\n",
      "[0.0031569198915134475, 0.0030967857489755573, 0.0032285005334027977, 0.004130867277701305, 0.004898821109279724, 0.00518195042544176, 0.005296035766798697, 0.005319151484102217, 0.005777124829005177, 0.005822126763871318, 0.005838177552221686, 0.00585028560559001, 0.0058656556698424, 0.005863385010300514, 0.005859412961177387, 0.005816731601298001, 0.00583324972931506, 0.005834262176069866, 0.005835817710534985, 0.005836723785839573, 0.0058366112092380264, 0.00583774854806403, 0.005838416579593414, 0.0058406117638780146, 0.005849438936944791, 0.005849854289146768, 0.005859130224355184, 0.005859082422100736, 0.005859102422929005, 0.005859127535605441, 0.005859109474239137, 0.005859060978483824, 0.005858954556246887, 0.005861736138236937, 0.005861909695895036, 0.00586179214318859, 0.005861743788973096, 0.005861674402041077, 0.00586160014615176, 0.005861516780688856, 0.00586142527740418, 0.005861321042147246, 0.005863820357958931, 0.0058633132333488075, 0.005863396742219, 0.0058633933300676275, 0.005863395758941045, 0.005863396995475556]\n",
      "runtime for all model:645.4117150306702 seconds\n",
      "Finish all\n",
      "Starting ind\n",
      "[0.0010761541174381846, 0.0011299481395429724, 0.0011371442993408773, 0.001142365056766053, 0.0011594349804813283, 0.0011837992261604397, 0.0012220653120654818, 0.0012682993045415216, 0.004842468496615483, 0.0049027205642289875, 0.005010874250146844, 0.0047070522901864285, 0.00470941786876931, 0.004709547828824297, 0.004709779297733903, 0.004709966132079337, 0.004710160176433255, 0.004710348942694049, 0.004710557981476451, 0.0047105785661071585, 0.0047105951869252285, 0.00471063099446304, 0.004710707432857418, 0.0047108095742990795, 0.004710788259314467, 0.004710758677545274, 0.004710758590183869]\n",
      "[0.00528919110762497, 0.00509595105736165, 0.005044196117549799, 0.005490209817695964, 0.005149054584773177, 0.0052456883140305196, 0.005403267936839396, 0.005405754992327458, 0.005441553937772388, 0.005327038218831999, 0.005325863410664421, 0.0053312569808534, 0.005338458713910511, 0.005342947053964671, 0.005345476716317625, 0.005347968281821025, 0.0053596529602229276, 0.005359606846086814, 0.005365221038935914, 0.0053577830784677545, 0.005365770490726695, 0.00535822423676563, 0.00536078922827207, 0.0053624621962254345, 0.00536690962981253, 0.0053670868997352465, 0.005367610066233758, 0.005369426144738215, 0.005371189506290422, 0.005371091995941569, 0.005371076708561803, 0.005371082096446008, 0.005371066526496556, 0.005371077708429458, 0.005371078354473263]\n"
     ]
    },
    {
     "name": "stderr",
     "output_type": "stream",
     "text": [
      "\n",
      "Choose one progress bar: 2it [1:03:18, 1811.18s/it]\u001b[A"
     ]
    },
    {
     "name": "stdout",
     "output_type": "stream",
     "text": [
      "runtime for ind model:754.6388211250305 seconds\n",
      "Finish ind\n",
      "Starting all\n",
      "[0.003536497800444407, 0.003464230709678627, 0.003679703022739118, 0.004631518066251401, 0.004936375363208614, 0.005046449741762699, 0.006155951804684864, 0.00615934993686169, 0.006144314246262594, 0.006143700297878398, 0.0061462731233870305, 0.006157511416611297, 0.006180192410642998, 0.006182738944407162, 0.006193034243388421, 0.006195012035537715, 0.006196336285928127, 0.006199037727721267, 0.006197010463075423, 0.006208282239779479, 0.006210033526737876, 0.006210047411189178, 0.0062107077800427355, 0.006211757469603266, 0.00621215532760494, 0.006212154571648998, 0.0062122027475528235, 0.006212006211033598, 0.00621179438436723, 0.006211464973751507, 0.006211242264573738, 0.0062107397133024395, 0.006210756279104529, 0.006210780807409189, 0.006212601954186138, 0.006212776012280537, 0.006212813968506769, 0.006212812895239285, 0.006212818861446782, 0.006212803559122739, 0.006212809853485983, 0.0062128194174295905, 0.006212806129270793, 0.006212804816905173, 0.00621281571053998, 0.006212825803236615, 0.006212825665906682]\n",
      "runtime for all model:692.1069464683533 seconds\n",
      "Finish all\n",
      "Starting ind\n",
      "[0.0010968248259522438, 0.0011638555760231728, 0.0011822457925698814, 0.0011891638401718974, 0.0011916143406621323, 0.003850060400392497, 0.0038711219865534274, 0.0038967957938769613, 0.003940034135338404, 0.0039956412170944955, 0.004091016273469951, 0.004268099644167476, 0.007513534542824915, 0.007526209945524542, 0.007548236576252737, 0.007594708260685298, 0.007489110373902605, 0.007489103606544393, 0.007489214070783547, 0.007489241504300739, 0.007489369614278515, 0.007489386559795927, 0.007489390808301889, 0.007489406679761548, 0.007489441629159576, 0.007489466324297851, 0.00748950480048559, 0.00748946416173041, 0.00748945908662917, 0.0074894787115777324, 0.007489498767553951, 0.007489499835978719, 0.007489506192123868, 0.007489530725655937, 0.007489570524742783, 0.007489607175240992, 0.007489657082693199, 0.007489705131624613, 0.007489705742461827]\n",
      "[0.006021125749475564, 0.005839230020483102, 0.005971767522944465, 0.006128095709817341, 0.00736047418533588, 0.007347666041814392, 0.007333946043081563, 0.0073479610616088275, 0.007345723210259879, 0.007377333477030038, 0.007428570973739784, 0.007436616769523225, 0.007435087569822268, 0.0074374484170017015, 0.00744053438971265, 0.007458560840695992, 0.007444140396596036, 0.007450753213440046, 0.007453229879647233, 0.007451611013015775, 0.007451762719116144, 0.007452074217199098, 0.007452433875629419, 0.0074525054673085095, 0.007452509909002732, 0.007452534813474183, 0.0074529809642803115, 0.007452839150439472, 0.007452695001386983, 0.007452670157015846, 0.007452664123355472, 0.007452696258542481, 0.0074516483729126625, 0.007451644963892496, 0.0074516029373097705, 0.007451573653557407, 0.0074515309621135005, 0.0074518865436545515, 0.007452054318217399, 0.007452112564152983, 0.007452179486393784, 0.0074521915909479906, 0.007452172737076705, 0.007452175729773416, 0.0074521926561803425, 0.007452208622134851, 0.007452207855789025]\n"
     ]
    },
    {
     "name": "stderr",
     "output_type": "stream",
     "text": [
      "\n",
      "Choose one progress bar: 3it [1:36:03, 1881.23s/it]\u001b[A"
     ]
    },
    {
     "name": "stdout",
     "output_type": "stream",
     "text": [
      "runtime for ind model:1272.486599445343 seconds\n",
      "Finish ind\n",
      "Starting all\n",
      "[0.0023858551628423525, 0.0021899172823026587, 0.002527882136870372, 0.003224557661008323, 0.0031595071406099297, 0.003606031440434366, 0.0036435916631819207, 0.0036537627038936613, 0.0036548351111340195, 0.003668438283405657, 0.0036552336670522823, 0.0036595377752988477, 0.003667702832299928, 0.003677444591984128, 0.003678063754475867, 0.0036808169879498044, 0.0036837361450263355, 0.0036864162275120774, 0.003687464051180498, 0.0036844833685775054, 0.0036795388092818347, 0.003691253654273361, 0.003692526299506193, 0.0036937428314945523, 0.003694502495720424, 0.003695399340732629, 0.003695471754445889, 0.0036954170010916067, 0.003695580730267445, 0.0036970339716654553, 0.003699994875001655, 0.003702373828005194, 0.003702700037021927, 0.0037029299253544513, 0.0037033849585531146, 0.003704550866539703, 0.0037058407768615223, 0.003711269722525788, 0.0037115356082534218, 0.0037117038174060645, 0.003711833413885522, 0.0037124780024816216, 0.0037135060717650077, 0.003715550795835953, 0.003718030156288403, 0.0037184835370341895, 0.003718666348351373, 0.003718384719849864, 0.003718585061260457, 0.0037188518444981116, 0.003719152009373331, 0.0037192530453825827, 0.0037197429458484207, 0.003720336435202208, 0.0037210941507853494, 0.0037218228427119138, 0.003723245452972665, 0.003724898787845833, 0.003729275466086747, 0.003735463536976358, 0.003750783335437804, 0.003841537444699848, 0.003841630152627235, 0.0038419512547760706, 0.0038419336266364928, 0.003841975061237508, 0.003841973601980612, 0.003841985569671834, 0.003841969434552012, 0.00384210415200884, 0.0038420678743444027, 0.0038420416923067094, 0.0038420475527638385, 0.0038420465828510725, 0.0038420465828510725]\n",
      "runtime for all model:1194.1729362010956 seconds\n",
      "Finish all\n",
      "Starting ind\n",
      "[0.0011190112666701693, 0.002071761293715341, 0.0037953678517025887, 0.003794338756325522, 0.003807581944504073, 0.0038206099660324246, 0.003847102993380795, 0.0038893691878851464, 0.004709543954356689, 0.00471124406537919, 0.004711913772661352, 0.004712684671877653, 0.004714931196886733, 0.004715131561444168, 0.004715452457052294, 0.004715745687367052, 0.004716430598847574, 0.004716522385533365, 0.004716586840237317, 0.0047166695420457275, 0.00471680210000961, 0.004716884780669655, 0.004716926301786105, 0.004716997463131245, 0.004717052015379776, 0.00471704453298267, 0.004717067008342147, 0.004717096217586737, 0.004717158354644644, 0.004717202185271727, 0.004717239427566613, 0.004717221433265344, 0.004717220376855897, 0.0047172242608467235, 0.004717226751947028, 0.004717226766026077]\n",
      "[0.00372354443148279, 0.003598733403025938, 0.0036798131861383735, 0.004432249761172434, 0.004335945498772746, 0.004455140552299244, 0.004408917259441036, 0.0044862530098521555, 0.004514823524276211, 0.004589394418603734, 0.004610411988967208, 0.004618781295954698, 0.004631325407983577, 0.004644580092102415, 0.004641825043690161, 0.004653579016936195, 0.00465749997148157, 0.0046624513693414565, 0.004676495447167425, 0.00467646172238366, 0.004677561768512198, 0.0046796933867189515, 0.004683434355461359, 0.004684712057619036, 0.004689617463569709, 0.004687613011800912, 0.004686911671545139, 0.0046901645547222995, 0.004690235360605024, 0.004690208459751837, 0.004690842464200035, 0.004695274056283591, 0.00469527346516579]\n"
     ]
    },
    {
     "name": "stderr",
     "output_type": "stream",
     "text": [
      "\n",
      "Choose one progress bar: 4it [2:11:17, 1973.19s/it]\u001b[A"
     ]
    },
    {
     "name": "stdout",
     "output_type": "stream",
     "text": [
      "runtime for ind model:919.9724080562592 seconds\n",
      "Finish ind\n",
      "Starting all\n",
      "[0.0028276448334749226, 0.002552163501500692, 0.002604961102825934, 0.002899364427757709, 0.003610125711342752, 0.0035069623448886118, 0.0035387667976343926, 0.003959162573725467, 0.0039703880753374655, 0.004155013654630513, 0.004172087369320878, 0.004192440623427206, 0.004180076257750827, 0.004189308512527002, 0.004205173680979775, 0.00420903264147719, 0.004217162300068983, 0.004233938738764608, 0.004237316927411509, 0.004235810057993431, 0.0042358996118901805, 0.004237444716992923, 0.004238412340733489, 0.004238900145567934, 0.004240395996439359, 0.00424084569448858, 0.004241454063129041, 0.004241266596129393, 0.004241373213138065, 0.00424158740032516, 0.004241535970210134, 0.00424160447595318, 0.0042418997701379555, 0.004241999678889297, 0.004241974773857371, 0.0042422834556332875, 0.004242508639840409, 0.004243109547284838, 0.0042440451490306985, 0.004244850539900166, 0.004245196427082749, 0.004246015720602323, 0.004246217068961676, 0.004251430306804696, 0.004252024627506684, 0.004252024531417433]\n",
      "runtime for all model:633.9702000617981 seconds\n",
      "Finish all\n",
      "Starting ind\n",
      "[0.0011103833521588003, 0.0011607795607019964, 0.0011739313179914698, 0.001188200451736527, 0.0012103590477491077, 0.0012405772385492661, 0.0012826209490385892, 0.0013470788501957892, 0.0014511651017859691, 0.0016286910944970142, 0.001975673562048093, 0.005756757877785031, 0.005847833468278391, 0.006013291308334841, 0.006542039611481064, 0.008335567646719184, 0.008335706101412547, 0.008335870067905295, 0.008337321383284458, 0.008337405986267647, 0.008337380041377416, 0.008337415021238406, 0.00833751300154911, 0.008337529646503045, 0.008337532962635117, 0.00833754902930069, 0.008337554951262134, 0.00833731549188056, 0.00833731410082363, 0.008337315310680299, 0.008337327566075754, 0.008337331212804184, 0.008337324635376188, 0.008337322406373287, 0.008337332562521201, 0.008337342022049202, 0.008337342256457148]\n",
      "[0.004605564635859853, 0.004062498478568789, 0.004040665556094068, 0.003961949379616446, 0.0045943363968338514, 0.0045433950536693645, 0.004397062932936656, 0.004500341872699175, 0.004590385480571528, 0.0049588630905990205, 0.0049735037488338645, 0.0049869059567641, 0.005033400309955698, 0.005038228032858709, 0.00503715454588533, 0.0050406603767371595, 0.005044495265259803, 0.005050697928351333, 0.005051540512958803, 0.005051937352439283, 0.005051736741004146, 0.005054309041400145, 0.0050538738094999865, 0.00505437545642661, 0.005054400502780982, 0.005054429598457326, 0.005054824321322443, 0.005376352622945134, 0.005378926118350145, 0.005380850013972173, 0.005382568477543605, 0.0053824782347361684, 0.005383039825416905, 0.005383421239731715, 0.005383555472613805, 0.005385237620083754, 0.005387370089475284, 0.005387997804420117, 0.00538989480101916, 0.005394952937196001, 0.005406848344395658, 0.0054564982230008215, 0.00545664908967214, 0.005456678792572084, 0.0054568709557058295, 0.005456705144784063, 0.005456560800285152, 0.005460900954135267, 0.005460806519471155, 0.005461359993013019, 0.005461631172145845, 0.005466743973409133, 0.005517377700340858, 0.005516108820985607, 0.005527200227647881, 0.0055282583432646245, 0.005530845299239962, 0.005529995939350523, 0.005530695715050974, 0.005531597401965726, 0.005531820473010335, 0.005532340897460692, 0.005532535458946398, 0.005532614634154447, 0.005532577929100763, 0.005532595165545236, 0.0055326642666918635, 0.005532642588779085, 0.005532839334653133, 0.00553339347992404, 0.0055331058920280686, 0.005533101797448026, 0.005533111784216581, 0.005533119753966505, 0.005533115301234042, 0.005533126099914771, 0.0055331352596331655, 0.005533141586566658, 0.0055331548512099525, 0.005533171578030287, 0.005533190255863892, 0.005533202610460228, 0.0055332211235734645, 0.005533246157408552, 0.005533262506758383, 0.005533292924806285, 0.005533327564696404, 0.005533337481716436, 0.005533376472304433, 0.005533417726440453, 0.005533437814425458, 0.005533479448047855, 0.005533534008236173, 0.005533604127172939, 0.005533671014204521, 0.005533765047298355, 0.0055337416905111, 0.00553366157460382, 0.00553367511101637, 0.005533699857071861, 0.005540600251257493, 0.005541180062530941, 0.005540851656661809, 0.00554176624513927, 0.005541778034940863, 0.005541799467404442, 0.005541793092674217, 0.005541791807154093, 0.005541791807154093]\n"
     ]
    },
    {
     "name": "stderr",
     "output_type": "stream",
     "text": [
      "\n",
      "Choose one progress bar: 5it [3:01:46, 2354.01s/it]\u001b[A"
     ]
    },
    {
     "name": "stdout",
     "output_type": "stream",
     "text": [
      "runtime for ind model:2395.278247356415 seconds\n",
      "Finish ind\n",
      "Starting all\n",
      "[0.0023712173216101336, 0.0022216483923072046, 0.0022375243053211003, 0.003756644098500363, 0.003790303628551028, 0.00374183970660765, 0.0037501405395862623, 0.0037874689348876937, 0.0038037191818224235, 0.0038249842501722046, 0.0038321913364976284, 0.00384951486773131, 0.0038537756653583876, 0.0038608183801506156, 0.003868218821406312, 0.0038743452171885865, 0.0038734002653961937, 0.00387213740601286, 0.0038773412863744353, 0.003876818806993676, 0.0038782421616570285, 0.003878787120133961, 0.0038795539831616454, 0.0038802929183160426, 0.0038854237511148936, 0.00389134258477439, 0.0038912744597482756, 0.003891298613495, 0.0038913228674921805, 0.0038913366132109625, 0.003891359200920261, 0.00389145184271885, 0.0038914720727200197, 0.0038914445252438055, 0.003891411980226471, 0.0038913848702182958, 0.0038914403847326758, 0.0038915650402849265, 0.0038914731687654906, 0.0038916312023050035, 0.0038919534090066975, 0.0038925606026189987, 0.0039015345662381353, 0.0039024194362579636, 0.003902844167844486, 0.003903012108473128, 0.0039030884495915275, 0.0039030894088657184, 0.0039030910386532837, 0.0039030924575827464]\n",
      "runtime for all model:700.791677236557 seconds\n",
      "Finish all\n",
      "Starting ind\n",
      "[0.0011063477050514234, 0.001178627364642975, 0.002022035862694653, 0.0020533290824520252, 0.00207401192127687, 0.0021020768690414643, 0.0021370670789992996, 0.0021994038468046645, 0.002958914174436988, 0.0030145567569880628, 0.0031226943418374803, 0.0033516098003166907, 0.0037678521431114428, 0.0037675997453361066, 0.0037677792844203516, 0.0037678433757637997, 0.0037679378599196644, 0.003768010503135245, 0.003768375409022502, 0.0037684711383065735, 0.0037685095093768542, 0.003768554435914616, 0.0037685727940542832, 0.003768566916215725, 0.0037686242449071657, 0.003768644190410851, 0.00376864627189923, 0.0037686547712269757, 0.0037686904303805583, 0.003768640405141454, 0.0037686288260845024, 0.003768675584509297, 0.0037686768239058076]\n",
      "[0.0037127508193745495, 0.0034104452551547842, 0.003272430441846859, 0.003272605070275319, 0.0034624278694281698, 0.0035926036088845827, 0.0036157439931632568, 0.003657726852851567, 0.00380212052914219, 0.0037602039564867047, 0.0037561446637082926, 0.003764651579250991, 0.0037797315675263017, 0.0037880696853914682, 0.003792418008531369, 0.0037983649069234285, 0.003860711491941531, 0.0038608978519183213, 0.0038608663678680022, 0.0038679447655751214, 0.0038739856914848493, 0.003874466704843842, 0.003874401355357307, 0.003874824978742461, 0.003875610762494982, 0.00387616672575893, 0.0038775042357474267, 0.0038904976694612405, 0.00389043448954447, 0.003890479310216849, 0.0038906674918649646, 0.003890656416654473, 0.00389065467019768, 0.0038907037575422647, 0.0038907080500832844, 0.0038907081018299482]\n"
     ]
    },
    {
     "name": "stderr",
     "output_type": "stream",
     "text": [
      "\n",
      "Choose one progress bar: 6it [3:28:01, 2088.99s/it]\u001b[A"
     ]
    },
    {
     "name": "stdout",
     "output_type": "stream",
     "text": [
      "runtime for ind model:873.7365801334381 seconds\n",
      "Finish ind\n",
      "Starting all\n",
      "[0.0019015747471562046, 0.002038641973681047, 0.0018285954282735138, 0.0019731912791858845, 0.0018145188185987346, 0.0018389713093184706, 0.001870690714268242, 0.0018667532854730346, 0.0018519401664425811, 0.0018392339379855553, 0.0018550732091570943, 0.00185906376488317, 0.0018642196357947498, 0.001870148043758902, 0.001872275023585366, 0.0018736731992946016, 0.0018765026937427383, 0.001880087109738251, 0.001887262829027415, 0.0018928904051508013, 0.0018942218331760026, 0.00189456475945917, 0.0018945076664432076, 0.0018951695616508588, 0.0019060974668918024, 0.0019062545232696507, 0.0019058556242294432, 0.0019060370512593724, 0.001906667400071195, 0.0019066368875835485, 0.0019066061107321918, 0.0019066352984691173, 0.0019066928885170756, 0.0019065022543352794, 0.0019065269133629783, 0.0019065560245335096, 0.0019065378782585566, 0.0019065175866508645, 0.0019065529204481172, 0.0019065709181246635, 0.001906554739744118, 0.001906539206534253, 0.0019065302728708462, 0.001906498676067831, 0.001906469672359103, 0.0019064401321073482, 0.0019063962366967248, 0.001909448467412121, 0.0019094249195361166, 0.0019094700737121416, 0.0019094714193040375, 0.001909474052081355, 0.0019094768761036614, 0.0019094768682134913]\n",
      "runtime for all model:702.4242458343506 seconds\n",
      "Finish all\n",
      "Starting ind\n",
      "[5.9552489818013e-05, 5.896295338918788e-05, 6.269519549260508e-05, 7.61498099563375e-05, 8.158503002923143e-05, 8.400308022995236e-05, 8.542163073841992e-05, 8.511614056824128e-05, 8.575914061686988e-05, 8.600770624864955e-05, 8.64200699277727e-05, 8.659715965000698e-05, 8.702783993281626e-05, 8.71641663597108e-05, 8.728078082312997e-05, 8.723343838396353e-05, 8.98435899758509e-05, 8.944679990677332e-05, 8.949190692001615e-05, 8.952042356089043e-05, 8.953211283393384e-05, 8.953562614486103e-05, 8.955126305308718e-05, 8.955466263303559e-05, 8.954696751575855e-05, 8.954897912575708e-05, 8.953454641947915e-05, 8.954177256811967e-05, 8.954418306698108e-05, 8.953417827989592e-05, 8.954178380670144e-05, 8.955084125668897e-05, 8.956136246609944e-05, 8.957846320482147e-05, 8.961686400511297e-05, 8.964312847908198e-05, 8.967330794215936e-05, 8.966853084407553e-05, 8.964247521381312e-05, 8.967561420190651e-05, 9.11849103652913e-05, 9.305590276629241e-05, 9.295926538706222e-05, 9.295843933714578e-05, 9.295890354806211e-05]\n",
      "[0.003736790670968818, 0.0037856984251856745, 0.0034782382936793172, 0.003970235799118462, 0.0038964512443414355, 0.0038807769034720383, 0.0039345602419153065, 0.0039060264066595545, 0.0038947898125067876, 0.00392946400608183, 0.003943552582915947, 0.003956088832242946, 0.003958702872390187, 0.003981141049185233, 0.00399034835128796, 0.0039937239474259496, 0.003994845552996816, 0.00399696400901372, 0.003998264148518474, 0.003998360328410829, 0.003998297390177263, 0.00399858768633238, 0.00400057174907376, 0.004022286786009778, 0.004022996116643482, 0.004023316961403749, 0.004023343611602359, 0.004023336274850828, 0.004023350352002022, 0.004023331084341839, 0.00402327557226073, 0.004023496070670732, 0.004023805931823387, 0.004022842364633545, 0.004022308699766173, 0.004023240081082755, 0.004028376436953375, 0.00402839223832962, 0.0040283605730986076, 0.00402834308169405, 0.004028331481073661, 0.004028320966538403, 0.0040283209407524405]\n"
     ]
    },
    {
     "name": "stderr",
     "output_type": "stream",
     "text": [
      "\n",
      "Choose one progress bar: 7it [3:59:20, 2020.34s/it]\u001b[A"
     ]
    },
    {
     "name": "stdout",
     "output_type": "stream",
     "text": [
      "runtime for ind model:1176.569857597351 seconds\n",
      "Finish ind\n",
      "Starting all\n",
      "[0.0031209842993702645, 0.0030669412813371993, 0.0032856439208280796, 0.00401755650269611, 0.004075298034955954, 0.0041433922676371695, 0.004645244207958944, 0.004733038109256667, 0.005124150425108073, 0.005142038600025352, 0.005147626260393028, 0.005145350463083009, 0.0051498588654549, 0.0051597488977678345, 0.005165675007723176, 0.005171523986973617, 0.005167630258922956, 0.0051686080216595395, 0.005169572886789047, 0.005170085849490526, 0.005172906284257485, 0.005173359990082898, 0.00517387909577583, 0.005174415848737166, 0.0051744573212327925, 0.005174810938300804, 0.005174733035325595, 0.005174758180176001, 0.005174884498677059, 0.005175206177575804, 0.00517510036807448, 0.00517522993009775, 0.005175267397292799, 0.005175293852918574, 0.005175429983029401, 0.005175785922125713, 0.005175793550627224, 0.005178290143016379, 0.005178306896520232, 0.005178285621740771, 0.00517830161904744, 0.005178316305165171, 0.005178341849221195, 0.005178377315903943, 0.0051803771689914605, 0.0051856239434299265, 0.005185659060292665, 0.00518578696723602, 0.005185942330385525, 0.005186128314682027, 0.005186047243765772, 0.005186395296991659, 0.005186418538838763, 0.005186398074146373, 0.005186451890209596, 0.0051864322529163055, 0.005186440951275991, 0.005186439416848631]\n",
      "runtime for all model:815.7861273288727 seconds\n",
      "Finish all\n",
      "Starting ind\n",
      "[0.0010787194441485761, 0.0010889177113072226, 0.0010840379925504005, 0.0011058810270333714, 0.001117209578582152, 0.0011361923856515984, 0.0029862593353336187, 0.0030127996937984354, 0.003054761904312444, 0.00475246759112781, 0.0047725903003509535, 0.0047490101057566705, 0.004770268683478731, 0.004816752065143805, 0.0046928603399210055, 0.004693389564118721, 0.004694249042369024, 0.004694491433902055, 0.0046945359578039105, 0.0046946016989808685, 0.004694663227526654, 0.00469631696237507, 0.004696330351228283, 0.004696352429401303, 0.00469641157940748, 0.004696053802348404, 0.0046960802123525375, 0.0046960932847924216, 0.004696093064377053]\n",
      "[0.005198879987361913, 0.005062499921966756, 0.005601353137752602, 0.005935255668660258, 0.005899125933291943, 0.005956006846575842, 0.005987817421725059, 0.006131836166446811, 0.0061796743281697635, 0.006345176272749185, 0.0063686771122098956, 0.006349779697390643, 0.0063611055058665055, 0.006366028458551385, 0.006364526828711856, 0.00637020589598176, 0.006407911248744645, 0.006410228224145278, 0.006411321498030283, 0.006438749777997542, 0.006439409254007725, 0.006438718352616705, 0.0064403052264511125, 0.006441835319471739, 0.006441489010071059, 0.0064437592072462, 0.006449352344612529, 0.00648548090695777, 0.006482966965408799, 0.006483127781239795, 0.006483134107765645, 0.0064831329201122485, 0.0064831329201122485]\n"
     ]
    },
    {
     "name": "stderr",
     "output_type": "stream",
     "text": [
      "\n",
      "Choose one progress bar: 8it [4:25:29, 1876.78s/it]\u001b[A"
     ]
    },
    {
     "name": "stdout",
     "output_type": "stream",
     "text": [
      "runtime for ind model:753.6131882667542 seconds\n",
      "Finish ind\n",
      "Starting all\n",
      "[0.0027667541742194745, 0.002687229553105712, 0.002787936618255832, 0.0033136134793387466, 0.004119589272591962, 0.004128278197194071, 0.004163925982663434, 0.004163498141285211, 0.005107734399171079, 0.0051729268163387, 0.005196801825125089, 0.005190699471889131, 0.005199588294628011, 0.00520336135515031, 0.0052090416784180095, 0.005205438611468273, 0.005201907095171139, 0.005202564377447737, 0.005204313552553465, 0.005204183701500685, 0.005204814644680781, 0.005203850574529976, 0.005203505930608869, 0.0052034576687833515, 0.005203694512695526, 0.0052038031017569725, 0.005203851929160947, 0.005203783771705236, 0.005203709875232209, 0.005204036761739238, 0.005203962407770143, 0.005205386156193958, 0.005206788792302798, 0.005205403124975881, 0.0052059045851333375, 0.005205920462751966, 0.005206381153525931, 0.0052063965639202875, 0.0052064078166704775, 0.005206420885503141, 0.005206419607838344]\n",
      "runtime for all model:522.321967124939 seconds\n",
      "Finish all\n",
      "Starting ind\n",
      "[0.0010987600303812106, 0.001160213957957592, 0.0011670525432406478, 0.0011787083333898777, 0.0011998025904948846, 0.0012168401867486205, 0.0012366662332283281, 0.001267678498903991, 0.0013079707863850958, 0.0013668137122480899, 0.0014564999947493582, 0.001597573588337933, 0.0018390665522907204, 0.002828274086977559, 0.006593618323656546, 0.005680444597360763, 0.0056801502475586855, 0.005679701401200654, 0.005679179619989745, 0.005679441152910175, 0.005679908518734287, 0.005682377046307106, 0.005682316579885323, 0.005682406952557212, 0.005682760817717381, 0.005682808436326388, 0.005682824778864924, 0.005682843374524125, 0.0056828566911056805, 0.005682869755045073, 0.005682851043234258, 0.005682851883484279]\n",
      "[0.0044860712294180136, 0.004371857016365092, 0.004401726177876566, 0.0051685784084690095, 0.006309546512667111, 0.006326220090817232, 0.006389390008720982, 0.006494668227882691, 0.006531846232256657, 0.006616167838428622, 0.006833633225700689, 0.006834082566126351, 0.006841509694505317, 0.0068389774095313355, 0.00684216726680337, 0.00683896813041531, 0.007162738397724877, 0.007200824680310044, 0.007205489726909768, 0.007250276548486948, 0.007258639329218072, 0.007246082572174716, 0.007246248847188973, 0.007247050652821602, 0.007247218985107625, 0.007247477464804121, 0.007248160228929193, 0.007248630599234538, 0.007249061382338709, 0.007256307510640041, 0.007257067085924028, 0.007257077726517002, 0.007257049425440564, 0.0072570366488259085, 0.0072570300961731105, 0.0072570435980407935, 0.0072570605482841204, 0.0072570504797893325, 0.007257061297002263, 0.007257070451388301, 0.007257089414221485, 0.007257126288096158, 0.007256455856794915, 0.007256575034123809, 0.007256715670134506, 0.007256652959160599, 0.00725671149268179, 0.00725665203021054, 0.007256574956756068, 0.007256692322671529, 0.007256718629669567, 0.007256739789556735, 0.007256779081739224, 0.0072567882052689105, 0.007256827772639344, 0.007256823895233566, 0.007256885406862056, 0.007256943010049517, 0.007257013956873053, 0.007257111081406234, 0.0072572869224361665, 0.007257504405919849, 0.007257918835384514, 0.007259212336967154, 0.007267305453639597, 0.007266992539298122, 0.007266905673259584, 0.00726693249474937, 0.007267174181922851, 0.007267210441767896, 0.007267245421444584, 0.007267394443436206, 0.007267428093195603, 0.007267383778774672, 0.007267428630382627, 0.007267528538768124, 0.007267638893323772, 0.007267565449153836, 0.0072670349546796, 0.007277583987611904, 0.007276508496765545, 0.00730613543145813, 0.007307448382218741, 0.007307281369075276, 0.007308367366953364, 0.0073095837927097, 0.0073102919952370855, 0.007310432021991735, 0.007310432021991735]\n"
     ]
    },
    {
     "name": "stderr",
     "output_type": "stream",
     "text": [
      "\n",
      "Choose one progress bar: 9it [5:04:47, 2027.31s/it]\u001b[A"
     ]
    },
    {
     "name": "stdout",
     "output_type": "stream",
     "text": [
      "runtime for ind model:1835.9848926067352 seconds\n",
      "Finish ind\n",
      "Starting all\n",
      "[0.0022364896445052187, 0.0022738162058034512, 0.002345472348806739, 0.002460393753291176, 0.0028847022212694085, 0.003018515601418218, 0.003101318697794308, 0.003145921967216493, 0.0034442736504152693, 0.003479463725597022, 0.0034947853232087456, 0.0034959602838471352, 0.003507007959154762, 0.003507962791506972, 0.0035103864982583568, 0.0035164428227456484, 0.0035193631274898795, 0.0035196588121248567, 0.0035226756986965245, 0.003524298592452588, 0.0035302088892279508, 0.0035318286810253384, 0.0035323483399887236, 0.0035342533343215056, 0.0035342925739249706, 0.0035346777132249595, 0.003533754559452379, 0.0035341434929106116, 0.0035337199646278566, 0.003534096822839422, 0.0035343025771718815, 0.003535722440930445, 0.003535668142193825, 0.003535694323690822, 0.003536059958389545, 0.0035365515605027486, 0.003536553536672632, 0.0035365706246865704, 0.003536667486025335, 0.003536697650475245, 0.003536731153118245, 0.0035367302182222797, 0.0035367312385941917, 0.0035367280545323884, 0.0035367263429939627, 0.0035367300213532105, 0.0035367452853472723, 0.0035367731553850104, 0.0035368214837834073, 0.0035373744537725944, 0.0035373600215590772, 0.0035373679336166337, 0.003537366732152931, 0.0035373678984016318, 0.0035373695365468727, 0.0035373705427321337]\n",
      "runtime for all model:817.641280412674 seconds\n",
      "Finish all\n",
      "Starting ind\n",
      "[0.0010922253596199311, 0.001150976935510893, 0.0011509705223518817, 0.0011554706247937905, 0.0011772557100065645, 0.0011967061069449987, 0.0012228476739869318, 0.0020891518303165118, 0.0021214165554312987, 0.002171575886449492, 0.0022600180990035466, 0.0024373108863265875, 0.0029007573086767603, 0.0058841730380608135, 0.005679318704096696, 0.005680040358010131, 0.005681308187931968, 0.0056811322531023665, 0.005681173398136671, 0.005681535256778167, 0.005681481774495406, 0.005681325178416442, 0.005681361920923793, 0.005681349831483847, 0.005681361031672525, 0.005681387138282623, 0.005681374127292189, 0.00568138126951369, 0.0056813669982467285, 0.005681336196250462, 0.0056813307606974435, 0.005681314557665936, 0.005681316907504592, 0.005681287825263252, 0.005681227898223182, 0.005681198657987675, 0.005681234198661679, 0.005681529914248182, 0.005683199155259614, 0.00568308419977174, 0.0056836821595157745, 0.005683930076951388, 0.005683541363873857, 0.005683719826965894, 0.00568372065213968]\n",
      "[0.003414701566522081, 0.0033484475913156423, 0.0034679726179504488, 0.0034473790545205855, 0.0036924029919433443, 0.003785082090392757, 0.0038898940042821615, 0.003912193750312563, 0.004013157936310538, 0.004370379782942837, 0.004360796662277176, 0.004392767454430907, 0.0044299658397745694, 0.004490361149650657, 0.004328670685569297, 0.004329335580482691, 0.004328341814584578, 0.004329712839264971, 0.004330805693913359, 0.004334517647041004, 0.004337271359921053, 0.004341574668332524, 0.004341800112862111, 0.004343285619637942, 0.004341996330602438, 0.004344208732267782, 0.004345736608016432, 0.004383299485135377, 0.004382957923566909, 0.004382221019251431, 0.00438192964090975, 0.004381632292218086, 0.004380845978990716, 0.004381196573641491, 0.004381156876325226, 0.004381153257291873, 0.004381154699998999]\n"
     ]
    },
    {
     "name": "stderr",
     "output_type": "stream",
     "text": [
      "\n",
      "Choose one progress bar: 10it [5:37:47, 2026.77s/it]\u001b[A"
     ]
    },
    {
     "name": "stdout",
     "output_type": "stream",
     "text": [
      "runtime for ind model:1162.21644449234 seconds\n",
      "Finish ind\n",
      "MSE all: 0.02431821358117201\n",
      "MSE ind: 0\n",
      "for ind was chosen\n"
     ]
    },
    {
     "name": "stderr",
     "output_type": "stream",
     "text": [
      "\n"
     ]
    },
    {
     "name": "stdout",
     "output_type": "stream",
     "text": [
      "[0.0010048280102357065, 0.003465851264601704, 0.003472079339848823, 0.0034763887533391193, 0.0034941798470364146, 0.0035098516423142934, 0.0035257700723991085, 0.0035492389438984565, 0.0035790192905231963, 0.003620154695778912, 0.0036873249540851096, 0.0037744705027374288, 0.003955071077169319, 0.005561795770249701, 0.006195536607641106, 0.008511793655870356, 0.008351862000469848, 0.008351399945997609, 0.008351467858014923, 0.008351576583116216, 0.008351647853666915, 0.008351654177029358, 0.008351667664772407, 0.008351662926961101, 0.00835169777505518, 0.00835172700970248, 0.008351698783404051, 0.008351688703343942, 0.008351690100705078, 0.008351689536535558]\n",
      "[0.0038906666505639682, 0.0038923238793357137, 0.003977302133570477, 0.005909047120378822, 0.00595728862546587, 0.005867181997648418, 0.005914241828926986, 0.006039523331261777, 0.006029836067528967, 0.006030190806038268, 0.006032269356802437, 0.006043782756333443, 0.006058379643271052, 0.006083440428372619, 0.006087592707140565, 0.006086627890616271, 0.006090353689176063, 0.0060921205673666375, 0.006097616612417116, 0.006098377916396252, 0.006099261149525563, 0.006099468269649937, 0.006107857125799677, 0.006110545533854849, 0.006113312336547709, 0.006113840108471965, 0.006113346307505612, 0.006114973368146814, 0.006115174296713926, 0.006115431370748404, 0.006115443185352571, 0.006115474689298713, 0.006115497819294695, 0.006115530308422738, 0.006115583581432851, 0.006115652098462704, 0.006115630000166098, 0.0061156465207518745, 0.006116050522481134, 0.006116078186623816, 0.0061160978975427546, 0.006116123217757246, 0.006116155925343264, 0.006145222726147369, 0.006145577019799323, 0.006146252385657242, 0.006146185676726792, 0.006146179260992535, 0.006146182804347298, 0.006146235856280506, 0.006146364825685052, 0.006146370257660022, 0.006146370155928659]\n"
     ]
    },
    {
     "name": "stderr",
     "output_type": "stream",
     "text": [
      "CV progress bar: 5it [29:25:48, 21269.08s/it]"
     ]
    },
    {
     "name": "stdout",
     "output_type": "stream",
     "text": [
      "runtime for ind model:1247.6193850040436 seconds\n",
      "runtime for choose one model:21515.281614542007 seconds\n",
      "starting choose one model\n"
     ]
    },
    {
     "name": "stderr",
     "output_type": "stream",
     "text": [
      "\n",
      "Choose one progress bar: 0it [00:00, ?it/s]\u001b[A"
     ]
    },
    {
     "name": "stdout",
     "output_type": "stream",
     "text": [
      "Starting all\n",
      "[0.002402476482169462, 0.0021253199685702844, 0.0021610890618346734, 0.0021755871881050963, 0.002145291498899048, 0.0022188777772208026, 0.002326726738885948, 0.002731699043252703, 0.003546805843215087, 0.0035842857764201872, 0.0036407646117991668, 0.0036863513898356647, 0.004021712748184835, 0.003987621906788301, 0.0039858992341054635, 0.0039864979582375235, 0.003989024417615434, 0.00399110141764448, 0.003992487749653183, 0.003993676534646226, 0.003994106800807351, 0.003995394072386407, 0.003995446282379149, 0.003995554122222015, 0.003995870657138163, 0.003996727408075552, 0.003997879528207333, 0.003998845203939146, 0.004001578384815069, 0.004008933723952982, 0.004019231390123551, 0.004019372958697082, 0.004019429187586808, 0.004019541448562329, 0.004019548370759994, 0.00401975971202324, 0.0040198963561311595, 0.004020032107014933, 0.004020261530576064, 0.004020457903125696, 0.004020159895143377, 0.004041459866287072, 0.004041568419563636, 0.004042485966504526, 0.00404213754315051, 0.004042100402832661, 0.0040426124798621284, 0.004042742307183744, 0.0040427587824611606, 0.004042771832628172, 0.004042795508829022, 0.004042840118253756, 0.00404281051925205, 0.004042837831920653, 0.00404284709308963, 0.004042866829175851, 0.004042898126700432, 0.004042947575839457, 0.004043059496648736, 0.004043262842099164, 0.00404302929629611, 0.004043104397601102, 0.0040433914007937544, 0.004044717191982179, 0.0040522658291074366, 0.004052236065583436, 0.004052229983798543, 0.004052234421308946, 0.004052242302510794, 0.004052249581305846, 0.004052270514599771, 0.004052267490189945, 0.004052304691601911, 0.004052284380520963, 0.004052364247655384, 0.004052393124710643, 0.0040525991531594665, 0.00405273543026837, 0.0040532436011456235, 0.0040544489561302535, 0.0040572686138442005, 0.004062558533768405, 0.0040723600571691086, 0.0040723600571691086]\n",
      "runtime for all model:1304.6442098617554 seconds\n",
      "Finish all\n",
      "Starting ind\n",
      "[0.001046060980344458, 0.0010467757214863527, 0.0010443391459322988, 0.0010626241511025125, 0.0010795822005809357, 0.0010964225599249594, 0.0011246292662782326, 0.0011592590009054517, 0.0012089070113788301, 0.0012983676670484238, 0.0022757824544591136, 0.0025597641747535484, 0.003809565506811641, 0.005625105933521892, 0.0056728310004207525, 0.005566936623726511, 0.005567261573434986, 0.0055672363257453445, 0.005567250313215138, 0.005567239124761608, 0.005566952911899089, 0.0055671063906532715, 0.005567196102794179, 0.005567178759080605, 0.0055668603127976765, 0.005566893664772403, 0.005567099893771218, 0.005567181703783422, 0.005567164868470483, 0.005567166305680665, 0.005567184874492652, 0.005567144064332505, 0.005567110445037835, 0.005567037026159115, 0.005567041500067796, 0.005567033109833652, 0.005567026491361755, 0.005567016837824983, 0.005567003966930476, 0.005566989842607766, 0.005566986090240275, 0.005567042867097916, 0.005567634616898457, 0.0055676347323729775]\n",
      "[0.003796250971501361, 0.003339116454219402, 0.003377011001300356, 0.003359719970573398, 0.003502994112829896, 0.0036496828121349426, 0.003651418607685534, 0.003622297242175606, 0.0035896231546429917, 0.003627033973980235, 0.00362664247342831, 0.0036630307307969926, 0.0036669321559176836, 0.0036660207036825774, 0.0036757542071037637, 0.0036785419948257847, 0.0036915540181005476, 0.0036925625769691113, 0.003693424295812868, 0.003694457378274793, 0.003695683551481063, 0.003697329725909166, 0.003699382543171318, 0.003700741783344191, 0.003699952441085101, 0.003700829074461359, 0.0037016824763929463, 0.003701382180447151, 0.0037016952111468314, 0.00370188686186146, 0.003701884907240357, 0.0037019528119536954, 0.003702122803456891, 0.00370235924456188, 0.0037028935705184203, 0.003703035990693545, 0.003703182796427615, 0.0037029307815105196, 0.0037029865938637612, 0.0037030307838640543, 0.0037030402222712885, 0.003703103336145422, 0.0037034456129757974, 0.0037036681497607206, 0.003703445499515218, 0.0037036835571618875, 0.003703409900468561, 0.003703369308622495, 0.0037027483332689667, 0.0037028634359685952, 0.0037029972521182646, 0.0037029923992036515, 0.003702992108841557]\n"
     ]
    },
    {
     "name": "stderr",
     "output_type": "stream",
     "text": [
      "\n",
      "Choose one progress bar: 1it [45:38, 2738.08s/it]\u001b[A"
     ]
    },
    {
     "name": "stdout",
     "output_type": "stream",
     "text": [
      "runtime for ind model:1433.4312126636505 seconds\n",
      "Finish ind\n",
      "Starting all\n",
      "[0.002581879686779041, 0.002593373074373289, 0.002923832321291475, 0.004039727123651441, 0.005028185776216896, 0.005005892290704166, 0.004998385728013242, 0.00504702479579311, 0.00509281919285617, 0.005102322403363337, 0.005108098973663438, 0.005106022062741552, 0.005114205258392275, 0.005117435983611881, 0.005130390984989161, 0.005134871060029098, 0.005135440818247011, 0.00513553995111146, 0.005135546882361077, 0.005137448330907123, 0.005136700123622254, 0.005138317020065365, 0.005138918898324805, 0.005138546720814257, 0.005141152240112608, 0.005147808565960948, 0.005151033721603233, 0.005151973774195742, 0.005152131870598199, 0.00515186126598103, 0.005151958964845103, 0.005152613177038029, 0.005155310054134082, 0.005155591240411772, 0.005155570473287605, 0.005155523155100298, 0.005155526472374521, 0.005155640961926621, 0.00515565404154205, 0.005155630837657058, 0.005155697202143233, 0.005155709331603924, 0.005155628299849868, 0.005155822839611142, 0.005155889940536648, 0.005155889019306206]\n",
      "runtime for all model:631.0505602359772 seconds\n",
      "Finish all\n",
      "Starting ind\n",
      "[0.0011198440577712973, 0.001217287099243028, 0.0020732364123141867, 0.0021143756620568555, 0.00384989257747151, 0.0038711740049670812, 0.0038925213536914844, 0.003935233415113318, 0.004008293540203809, 0.00413986681519214, 0.004421526993989807, 0.004521536755407235, 0.005639792341795906, 0.005641126075172148, 0.005641249795649418, 0.005641288872755251, 0.0056421879430693525, 0.005642403690622633, 0.005642754106438418, 0.005642785087251847, 0.005642893644915738, 0.005642731712676204, 0.005642982254303473, 0.005643282474149671, 0.005643320591144472, 0.005643390647448693, 0.005643405261254472, 0.00564346840740455, 0.005643454721805268, 0.005643465207074276, 0.0056434588050948194, 0.005643457278851852]\n",
      "[0.004347218006044212, 0.004463068565359168, 0.00481523395820428, 0.004703268141010594, 0.004651375860804691, 0.004638108319548848, 0.004660451804860612, 0.004663395954375047, 0.0047012016641722765, 0.004709624193331604, 0.004719131647571254, 0.004725822269375931, 0.00476906569174139, 0.004776027368019097, 0.0047772933900291515, 0.0047914853198814875, 0.004801368669390857, 0.004797483906801511, 0.004800666216150916, 0.004805555022972906, 0.0048110852744945665, 0.004826163735288157, 0.004825155855853181, 0.0048253735983044815, 0.004829051596601196, 0.004833538133525479, 0.004835093090663851, 0.004839486884642488, 0.004839956773048492, 0.004843709466911973, 0.004843514251426087, 0.004843403326606111, 0.004843450641713686, 0.004843335558098616, 0.004843268378667329, 0.00484325116454009, 0.004843259877172451, 0.004844039535746704, 0.004844030930701111, 0.0048440242671481185, 0.00484397210559631, 0.00484398642610869, 0.00484398642610869]\n"
     ]
    },
    {
     "name": "stderr",
     "output_type": "stream",
     "text": [
      "\n",
      "Choose one progress bar: 2it [1:12:43, 2083.64s/it]\u001b[A"
     ]
    },
    {
     "name": "stdout",
     "output_type": "stream",
     "text": [
      "runtime for ind model:994.480968952179 seconds\n",
      "Finish ind\n",
      "Starting all\n",
      "[0.00257092936549139, 0.002601287832541508, 0.004880248495645524, 0.005635388083615791, 0.005729948459111391, 0.005754401570849523, 0.005763005529125182, 0.005821135015365865, 0.005914842979573022, 0.00612985561791797, 0.0066553357586349865, 0.006640930179700097, 0.006592199264060723, 0.006614833208100914, 0.006622566191530554, 0.006622305505988453, 0.006626843804235974, 0.006633410871437916, 0.00665741543608821, 0.0066594298126539195, 0.006660582822356452, 0.006661762654509629, 0.006661988826887602, 0.006661010344382465, 0.006661633905620407, 0.006661730734444732, 0.006661770444491659, 0.006661214290128591, 0.006660709174588464, 0.006660877535391493, 0.006660747694810806, 0.006660207121624453, 0.006659480291810819, 0.00665853881452551, 0.0066468434691319715, 0.0066539355140772085, 0.006654442417906544, 0.006654410992200874, 0.00665445879765376, 0.006654469204584411, 0.00665448672076144, 0.006654478666956854, 0.006654458145178561, 0.0066544133086782874, 0.006654430112232898, 0.0066544138661917855, 0.006654418316150294, 0.006654425836483953, 0.006654456344714371, 0.0066544958308505835, 0.0066544800214913295, 0.006654427803552329, 0.006654449685784667, 0.006654450838590715]\n",
      "runtime for all model:749.6010489463806 seconds\n",
      "Finish all\n",
      "Starting ind\n",
      "[0.0010589108875338218, 0.0029048323342596065, 0.0029086898131123165, 0.002925544499920358, 0.0029606040978107403, 0.0030039227949911623, 0.003070898368305924, 0.003200589384669261, 0.0034572840992794967, 0.004141912966361674, 0.006571219168081846, 0.006616449467980279, 0.0065166943649954566, 0.006517107171357011, 0.006517325924693837, 0.006517643510033736, 0.0065175151934494385, 0.006517569084111288, 0.0065176451723063635, 0.006517713478382006, 0.006517955009577463, 0.006517909110543199, 0.006517922408563725, 0.006517929925246515, 0.006517929860519671]\n",
      "[0.004151973437927904, 0.004455429931463056, 0.004240216594797086, 0.0059260127826009385, 0.005867234412500206, 0.005858504138687147, 0.005849502974024962, 0.005870012570092475, 0.0059104522242044, 0.005935506229758076, 0.005949898949634533, 0.005954098047567984, 0.0059490300775105085, 0.005960673608296425, 0.005972502781543898, 0.005971718895598574, 0.005984870984239816, 0.005988963148292307, 0.005995906981147667, 0.005992430684247545, 0.0059921267674664476, 0.005991232654306966, 0.005992121334342663, 0.005992960939330369, 0.005993251389286217, 0.005993063730152093, 0.005990258840053765, 0.005990537055126937, 0.005990632475722837, 0.0059906383658184514, 0.005992311477361054, 0.005992268737910596, 0.005992372707145273, 0.005992300963363832, 0.005992453479928108, 0.0059968024652452346, 0.005985829683431633, 0.0059749493467393085, 0.005974898219023165, 0.005974926467586965, 0.005975073378621401, 0.005975048053407778, 0.005975152952889484, 0.005975241893761215, 0.005975340864791781, 0.005975460793528349, 0.005975567257998396, 0.0059758220378749866, 0.005974891078074017, 0.005974859936803761, 0.005975248500552181, 0.00597519919557721, 0.005975229524019299, 0.005975219290547057, 0.005975219290547057]\n"
     ]
    },
    {
     "name": "stderr",
     "output_type": "stream",
     "text": [
      "\n",
      "Choose one progress bar: 3it [1:43:09, 1965.76s/it]\u001b[A"
     ]
    },
    {
     "name": "stdout",
     "output_type": "stream",
     "text": [
      "runtime for ind model:1075.885682106018 seconds\n",
      "Finish ind\n",
      "Starting all\n",
      "[0.0016657633862405211, 0.0016944505484256197, 0.0018178261090590598, 0.0019641397199468016, 0.002151740893478299, 0.003278501964002363, 0.0033156441331480225, 0.00339641991120051, 0.004159927307839089, 0.004203151089154021, 0.004154282277325756, 0.004153055017195506, 0.0041562227616472195, 0.004163979226294587, 0.0041658760229601865, 0.004167748785132068, 0.00417323858852383, 0.00417600344218521, 0.004184813102468164, 0.004187735428142171, 0.004188717510489849, 0.004189352882631168, 0.0041897344943688155, 0.00419050845565683, 0.004190668878405147, 0.004190683164113069, 0.004190273409140211, 0.004190296686703921, 0.004190821103886752, 0.0041906203466988085, 0.004190439122061855, 0.0041902881873344235, 0.004190357942103014, 0.004190358048481108]\n",
      "runtime for all model:408.95890045166016 seconds\n",
      "Finish all\n",
      "Starting ind\n",
      "[0.001061479566278376, 0.0010677407570495489, 0.001081102727300311, 0.001101548600611519, 0.0011301927067766838, 0.0011707811214453664, 0.0012259636032733898, 0.0013278662345190526, 0.0037925941239883966, 0.0038157124010394492, 0.003858258982789308, 0.003948702875753823, 0.0042087139235208355, 0.0055898144217138715, 0.005590025588338087, 0.005590317271324397, 0.005590526359112695, 0.005588618055015364, 0.005590599740335102, 0.005590892785682078, 0.00559092092731636, 0.005590947704279693, 0.005590945094250078, 0.005590931464106937, 0.005590927551761503, 0.005590941556163359, 0.005590924186813969, 0.0055908866095030225, 0.005590878909251643, 0.005590878907444782]\n",
      "[0.00232048803702791, 0.002230875709620388, 0.0023736422573992387, 0.002298958283207305, 0.0022279637578193445, 0.0022451318272314015, 0.002236932106961894, 0.002249035825698481, 0.0022476389800174857, 0.002237653608573551, 0.002229098992611201, 0.0022298473692014256, 0.002237625596392988, 0.0022419311007719394, 0.0022491046857049625, 0.0022523327655322688, 0.0022529317060483627, 0.002257539509576794, 0.002262034585892676, 0.002262890274896446, 0.002265012166788828, 0.0022639473210560846, 0.0022640267995245058, 0.002264389747320893, 0.0022642818906361984, 0.0022643617160442555, 0.002264792187230161, 0.0022649531134041117, 0.002264911486752338, 0.002265054275950007, 0.0022651526097881756, 0.0022653811038954993, 0.0022654907069511827, 0.0022658159650958084, 0.0022664417250065566, 0.002267530930940361, 0.0022683241021065, 0.002271072969708506, 0.002274232209426102, 0.002286453578677325, 0.0023136830611727097, 0.002313673856013603, 0.0023136692452739673, 0.002313661613095157, 0.002313651937364744, 0.002313641591100692, 0.002313634392173856, 0.002313629524240706, 0.0023138102337796535, 0.002313820660246148, 0.002313812496323415, 0.0023138085653411156, 0.002313807883290179]\n"
     ]
    },
    {
     "name": "stderr",
     "output_type": "stream",
     "text": [
      "\n",
      "Choose one progress bar: 4it [2:09:00, 1802.27s/it]\u001b[A"
     ]
    },
    {
     "name": "stdout",
     "output_type": "stream",
     "text": [
      "runtime for ind model:1142.66095662117 seconds\n",
      "Finish ind\n",
      "Starting all\n",
      "[0.0014038218646649971, 0.0014424113062501429, 0.002135693167512267, 0.0021623933740533867, 0.002110611059850861, 0.0021158449922636328, 0.002161730825617183, 0.0021551875201701555, 0.0021578184288406524, 0.0021607006350938584, 0.002213617989642955, 0.0022167960232817112, 0.002220364323240533, 0.0022188252781729224, 0.002216790946995924, 0.0022221719206322824, 0.0022247852077140915, 0.0022252708699628176, 0.002227928590734476, 0.0022279994086185076, 0.0022293285177693682, 0.002229937044581513, 0.002230859413472295, 0.0022329155241054915, 0.0022358755024828028, 0.0022363027575885573, 0.002236639183226598, 0.0022370307313250874, 0.0022375459548986108, 0.002248259764774491, 0.0022490729894470264, 0.0022490704178432046, 0.002249107703798868, 0.002249166451251146, 0.0022491669815709815]\n",
      "runtime for all model:421.573867559433 seconds\n",
      "Finish all\n",
      "Starting ind\n",
      "[6.250175390162126e-05, 6.243328142366076e-05, 5.297835679286014e-05, 5.526441328971304e-05, 5.398867918256391e-05, 5.500157020810581e-05, 5.73518374422722e-05, 5.886331103383801e-05, 5.9402482596745875e-05, 6.037346386428545e-05, 5.975881972192993e-05, 5.854459422388785e-05, 5.674805615982001e-05, 5.756614354820237e-05, 5.772913248125155e-05, 5.779556865651357e-05, 5.784229265972305e-05, 5.7796706948980916e-05, 5.784382933163953e-05, 5.783409842586254e-05, 5.784811186212161e-05, 5.787510220416882e-05, 5.8636097393161284e-05, 5.8638600415784125e-05, 5.86691096958532e-05, 5.867687596202581e-05, 5.868267073861794e-05, 5.867940850551944e-05, 5.8679860869016045e-05]\n",
      "[0.002741758447185022, 0.0028255939286514313, 0.004212858341658157, 0.00426076872797013, 0.004144691853067857, 0.0041223610200478425, 0.004195005538099385, 0.004144362026829324, 0.00414710315466196, 0.004148559813771579, 0.004257971002377394, 0.004276110731698776, 0.004273750789039807, 0.004281153706426721, 0.004297958302797598, 0.004298486627690806, 0.00430140136749548, 0.004303948516180019, 0.004305817065844578, 0.004307801371194942, 0.0043087848221602, 0.004309140243939672, 0.004311086172946141, 0.0043114834812708345, 0.004314151850771471, 0.0043183030982568, 0.004319102790916534, 0.004320508503348745, 0.004325066507526566, 0.004333286410332824, 0.004333309869024433, 0.004333335073295136, 0.004333343781622098, 0.004333595998265538, 0.004333649681124129, 0.004333701152678877, 0.0043336734355545695, 0.0043336276182343045, 0.004333630379591748, 0.004333632738685131, 0.004333636616836266, 0.004333640879924806, 0.0043336313102837485, 0.004333618154445271, 0.004333622284211322, 0.004333637549512974, 0.0043336485936936115, 0.004333645668221441, 0.004333662388015967, 0.004333636198252558, 0.004333656020753517, 0.004333670348978741, 0.00433372859627084, 0.004333865422034279, 0.004333922864278524, 0.004334005778306121, 0.004334494939106343, 0.004366796597604536, 0.004366948691142023, 0.004366917167956205, 0.004366895170236118, 0.004366895367359173]\n"
     ]
    },
    {
     "name": "stderr",
     "output_type": "stream",
     "text": [
      "\n",
      "Choose one progress bar: 5it [2:36:42, 1751.52s/it]\u001b[A"
     ]
    },
    {
     "name": "stdout",
     "output_type": "stream",
     "text": [
      "runtime for ind model:1239.9606952667236 seconds\n",
      "Finish ind\n",
      "Starting all\n",
      "[0.0021274516048098075, 0.0022178445201032184, 0.0022561670064577422, 0.002835162996912266, 0.003545081939683712, 0.003640308398228379, 0.0037330144641065668, 0.0038777904348448076, 0.003938259319877368, 0.004084793437670676, 0.004797454934785058, 0.004811046870090211, 0.004818824582988357, 0.004826473131075413, 0.004828417252125272, 0.004832306755427447, 0.0048333124804607165, 0.00483763490676301, 0.004843114140332477, 0.004842983271792103, 0.004844103266260976, 0.004847182682938341, 0.004850518080072623, 0.004857791388227764, 0.004867710655139872, 0.004867887428698795, 0.004868130537534297, 0.004868807597181486, 0.004869597157953291, 0.0048724088317131575, 0.004874251124058522, 0.004874269562110201, 0.004874245316316366, 0.004874248419229778, 0.004874263570647154, 0.004874394842410984, 0.004874395516521092, 0.004874449579155814, 0.004874464193008794, 0.004874455580161971, 0.0048744760603389396, 0.004874516353966454, 0.00487458651876564, 0.004874763405808992, 0.004875648494790172, 0.0048759860265180505, 0.0048761792212591104, 0.004876062606144984, 0.004875929725156638, 0.004875933826803596, 0.004875937585660203, 0.004875979657472694, 0.004875976182819786, 0.0048759797227933025, 0.004875979086388456]\n",
      "runtime for all model:759.8075294494629 seconds\n",
      "Finish all\n",
      "Starting ind\n",
      "[0.001099727262111634, 0.0011320418695218713, 0.0019755265088272104, 0.0019957840067994425, 0.0020187201282489855, 0.0020473163838430216, 0.0021008604712280743, 0.0021883686540986715, 0.0023466195205940005, 0.0026635340053914065, 0.004195042453916213, 0.0047384030182201515, 0.005672720258920809, 0.005721570667317678, 0.005611047347123884, 0.005611293212957524, 0.005611472413344059, 0.005612270063685805, 0.005612319808972752, 0.005612449344632136, 0.0056125145815117015, 0.00561256055923051, 0.0056125640755451695, 0.005612551191523557, 0.005612540066119097, 0.0056125247971032955, 0.0056126397633282825, 0.005612650984593024, 0.005612646900305794, 0.005612643043115316, 0.005612644350229239]\n",
      "[0.003385152983304304, 0.0034682899999738475, 0.004229664469284364, 0.0042076973497686574, 0.004260528600026685, 0.004391826506662403, 0.004603039305460789, 0.004910860529460051, 0.004931883936933999, 0.004977738221037998, 0.004999612244503633, 0.004999265039622135, 0.0050140298721023015, 0.005019016985002149, 0.005014115499036652, 0.005011261479865777, 0.005017201586203761, 0.005015450330281932, 0.005026709062005799, 0.0050303142267383765, 0.005031922103564499, 0.0050401182478404674, 0.005040811166279277, 0.005044821770112314, 0.005043455920007519, 0.005043395370001201, 0.0050438422636554115, 0.0050445880167957645, 0.0050450104258623766, 0.005045442993018995, 0.005048034230342303, 0.005048106389274826, 0.005048196354583009, 0.005048711538981697, 0.005043383196757579, 0.005043383176867214]\n"
     ]
    },
    {
     "name": "stderr",
     "output_type": "stream",
     "text": [
      "\n",
      "Choose one progress bar: 6it [3:03:26, 1701.39s/it]\u001b[A"
     ]
    },
    {
     "name": "stdout",
     "output_type": "stream",
     "text": [
      "runtime for ind model:844.2693927288055 seconds\n",
      "Finish ind\n",
      "Starting all\n",
      "[0.0014194084794814377, 0.0015884837364752644, 0.0018732335776053782, 0.0019861598740937543, 0.002374703172216357, 0.002468637037265797, 0.0025039691618463124, 0.003312269741621116, 0.0033200069491795318, 0.0033242495641342836, 0.0033413177508444013, 0.003356605751226157, 0.0033516638338136596, 0.0033535688414363606, 0.0033546795387336863, 0.0033563928229857626, 0.0033565305363766258, 0.0033565385823505307, 0.003359360505309679, 0.003361310314827019, 0.0033618942051681865, 0.003363001314062438, 0.0033714960121669925, 0.0033725641632191224, 0.003373178972158059, 0.0033747335872836375, 0.0033753740513606245, 0.003385746032729578, 0.0033860674533341697, 0.0033894335628233373, 0.003399896028246442, 0.0033999534678430003, 0.0034002971218364715, 0.0034005351857250414, 0.0034008621416445686, 0.0034017720747015236, 0.003404355533451091, 0.0034043208945333235, 0.0034043181749261625, 0.003404302306138164, 0.0034043033587069795, 0.003404303286463738]\n",
      "runtime for all model:528.3158893585205 seconds\n",
      "Finish all\n",
      "Starting ind\n",
      "[0.001073436149245021, 0.001080920526562974, 0.0010811213057401606, 0.0011074052522178606, 0.0011301928767477236, 0.0011782470345891337, 0.0012579927452815503, 0.0028482771021654182, 0.00288113216003619, 0.00293578198461511, 0.0030325298599849955, 0.003238687426266074, 0.0028684471095626026, 0.002769634640089727, 0.0027699402860365645, 0.0027700052730700708, 0.002769812182009701, 0.002769573901196356, 0.002770133867902056, 0.00276982220213517, 0.002769756835758028, 0.0027696146444869474, 0.0027688460802003873, 0.0027686255891602738, 0.002768667679579201, 0.0027686812659485074, 0.002768682910716279]\n",
      "[0.0018618700678766982, 0.001982434507877412, 0.002383460117140271, 0.0024747016569600113, 0.002425892982588704, 0.002424944718762769, 0.002434090469336353, 0.00242666493427159, 0.002402419536304633, 0.0024300264288338548, 0.002416171267880975, 0.002425974827373992, 0.0024360514122766567, 0.0024323530528745545, 0.002434222115140214, 0.002443529578531476, 0.002443880230705498, 0.002444944708343658, 0.0024456605557337573, 0.002447221887482466, 0.0024546054683086582, 0.002474572127522812, 0.0024751533009445626, 0.002475755991806714, 0.0024774088520424812, 0.0024772610550235297, 0.0024775734853379923, 0.002477572636558261, 0.0024775016494886894, 0.0024765361823971986, 0.0024765238008418846, 0.002476553268301434, 0.002476571924597204, 0.002476612692300722, 0.002476325706949898, 0.0024766031647613764, 0.0024769192438183645, 0.002477456575887772, 0.00247747491312795, 0.0024768782002263776, 0.0024767090220377845, 0.002477290533870071, 0.002477957678509922, 0.0024808945644467463, 0.002480712808909847, 0.0024807116767923435]\n"
     ]
    },
    {
     "name": "stderr",
     "output_type": "stream",
     "text": [
      "\n",
      "Choose one progress bar: 7it [3:27:32, 1617.97s/it]\u001b[A"
     ]
    },
    {
     "name": "stdout",
     "output_type": "stream",
     "text": [
      "runtime for ind model:917.8898577690125 seconds\n",
      "Finish ind\n",
      "Starting all\n",
      "[0.002578793238829068, 0.0026465663832965177, 0.0028518253365761546, 0.003979291508296139, 0.005256036012782973, 0.005643184371958048, 0.0056530154685415805, 0.005662041653682561, 0.0056563782494683645, 0.005662625389905304, 0.00566270831060294, 0.005652307069922882, 0.005664497263718493, 0.005670935381636098, 0.0056727837216875385, 0.005674538538173501, 0.005680214079894083, 0.005681833061385966, 0.005682565603476711, 0.0056832916533176795, 0.005685054832354088, 0.005689728755185463, 0.005693633374201522, 0.005700166116460995, 0.005700944817895739, 0.0057016222778328626, 0.005701819655042495, 0.005701761045850233, 0.005701831002945915, 0.005702167505556087, 0.005702186928568008, 0.005703054677521633, 0.0057032751334926725, 0.0057034076497900835, 0.005705554034358729, 0.0057060087278020186, 0.0057061262110790325, 0.005706298971768555, 0.005706362603526403, 0.005706385986285454, 0.005706354743502501, 0.0057063597439522985, 0.005706373283920934, 0.005706408202515511, 0.00570658805645158, 0.0057066020071515865, 0.005706599143725022, 0.005706595701742121, 0.005706599900318918, 0.0057065974120388266, 0.005706597248051773]\n",
      "runtime for all model:741.5139231681824 seconds\n",
      "Finish all\n",
      "Starting ind\n",
      "[0.0010674487773393814, 0.001068503317887387, 0.0010952446058717785, 0.0011130580428467519, 0.0011404806633559172, 0.0011708303193546164, 0.0012308111001903582, 0.0013198629935024845, 0.0014807537658334717, 0.0017941551266342254, 0.003153183598281624, 0.003432526290374039, 0.0037187055150172898, 0.0037199800499950935, 0.0037200456386994934, 0.0037203018112336233, 0.003720533387722779, 0.003720595449926099, 0.00372104029168559, 0.0037214739871755283, 0.0037215111800945355, 0.0037215453202649783, 0.003721580687729621, 0.0037216999093511267, 0.0037216639653175182, 0.0037217206522153117, 0.003721805995430115, 0.0037218643764991843, 0.0037219805579601383, 0.003722000034128927, 0.0037219992954210515]\n",
      "[0.004329736021549518, 0.004303511836125274, 0.0043784845575589185, 0.005064551820847178, 0.005377262402501316, 0.005709990017371535, 0.005820216126941118, 0.00583364399404567, 0.00584045829825588, 0.005837738683435701, 0.005850098797392567, 0.0058484600744153365, 0.005859319773089573, 0.005873425091414451, 0.005877216985866469, 0.0058830374386362756, 0.005887969140177834, 0.005890683320805562, 0.005895260173686104, 0.005907758189928972, 0.005907997073738637, 0.005907678546629325, 0.005907965042156021, 0.00590745602553847, 0.005908221277718425, 0.005907907986606545, 0.00588536364962713, 0.005884756646343079, 0.005885350665273267, 0.0058860555702693095, 0.005886545929808733, 0.005887334431360596, 0.0058884176710092846, 0.00589014251001035, 0.005890631065177132, 0.005891375410024537, 0.005891264994505628, 0.005891276885130024, 0.005891421914740992, 0.005891525244012162, 0.005891633930682186, 0.0058917532820928955, 0.005891677444018371, 0.005892002308344581, 0.0058917780004357195, 0.005892864044469201, 0.005892943388404385, 0.0058929983271417035, 0.005893342557386935, 0.00589383161242911, 0.005894763485995443, 0.005903520131996963, 0.005908229261974695, 0.005908229261974695]\n"
     ]
    },
    {
     "name": "stderr",
     "output_type": "stream",
     "text": [
      "\n",
      "Choose one progress bar: 8it [3:59:27, 1712.50s/it]\u001b[A"
     ]
    },
    {
     "name": "stdout",
     "output_type": "stream",
     "text": [
      "runtime for ind model:1173.4123165607452 seconds\n",
      "Finish ind\n",
      "Starting all\n",
      "[0.002117021583075666, 0.002078973488967863, 0.0022798261100713813, 0.003204988832943055, 0.0032158137169841596, 0.003298128785502609, 0.0036602234235381787, 0.0036679505949283515, 0.0036943416032582227, 0.0036732032961100574, 0.003670022291864546, 0.0036732360325033714, 0.0036920731772833565, 0.0036995892229805274, 0.0037051752034377356, 0.003708210051136135, 0.0037234938750657803, 0.003729091816684341, 0.0037316593667381373, 0.003732567343871249, 0.00373392877327105, 0.003735402072342392, 0.003735938937425998, 0.0037363092326849366, 0.0037367853294906854, 0.0037378277538020616, 0.003737957045766586, 0.003738427595834751, 0.003738564734884788, 0.003738739275238351, 0.0037388581950521895, 0.0037389458125976502, 0.0037391036206360787, 0.003739219422112211, 0.0037393823374579126, 0.003739289819144088, 0.003739526806809096, 0.0037390699448338395, 0.0037393052841490117, 0.003739444658402274, 0.0037398451385742973, 0.0037400300424612247, 0.0037402323609274854, 0.0037399833850341214, 0.003739893838149167, 0.003739966077256453, 0.0037401617562965958, 0.0037403838848452916, 0.0037406147330694235, 0.0037407876307931514, 0.003740939069090693, 0.003741065340799011, 0.0037413419857751777, 0.003741632555391076, 0.003739960303505327, 0.0037401018370705557, 0.003740364927349421, 0.0037405642405014287, 0.0037412428948919315, 0.0037415251377202717, 0.003741119915573729, 0.0037413915545455737, 0.003741346565986721, 0.0037416171510531206, 0.003741645338804102, 0.0037419380052893256, 0.003742170310668983, 0.00374240736386348, 0.0037427645663924746, 0.0037431398511159446, 0.003743208462990607, 0.003743222725114533, 0.003743158715779919, 0.003743629363291398, 0.0037441215815261454, 0.003744096262863503, 0.0037444290031004627, 0.0037450051704704763, 0.003744822098353673, 0.003745240080288454, 0.003744678620670337, 0.0037433493452612614, 0.003743932605868969, 0.003744238836759949, 0.0037448754176864925, 0.003744077425931949, 0.003744692497280855, 0.0037377455093588067, 0.003737947231519374, 0.0037545745009117475, 0.0037524859943910472, 0.0037531973852257135, 0.0037536871730030905, 0.003755328942904414, 0.003755915144352323, 0.0037569839049022952, 0.0037565065694298073, 0.003756461000831637, 0.0037564195605998157, 0.0037566140515072773, 0.003756418334278719, 0.00375597704502119, 0.0037558465883097596, 0.003755889967578533, 0.003756280459190264, 0.003756418369632497, 0.0037564241415596264, 0.0037564206858081138, 0.003756463920744596, 0.0037564857941315365, 0.003756503162237329, 0.0037564985027597267, 0.0037564916943563773, 0.003756494425107282, 0.003756498286139756, 0.003756494954952988, 0.0037564863702257644, 0.003756488670361162, 0.0037564900705910355, 0.0037564918837336885, 0.0037564918837336885]\n",
      "runtime for all model:2148.592945098877 seconds\n",
      "Finish all\n",
      "Starting ind\n",
      "[0.0010669560179975015, 0.0010744807643435815, 0.0010763224706589777, 0.00109891819314799, 0.0011280192476845331, 0.0011652610125379164, 0.0012222826268022534, 0.0013090483582042871, 0.0014673045511560151, 0.0017822354409955665, 0.002538003202198022, 0.00317827272297563, 0.0044206310365212265, 0.00644294988099951, 0.006443345928760289, 0.006443460186059194, 0.006443516108439315, 0.006443648785871947, 0.00644367741669208, 0.006443750364941082, 0.006443498527048537, 0.006443689061689533, 0.0064431806627510925, 0.006443042303696083, 0.006443055910254137, 0.006443061478763272, 0.006443063279260563, 0.006443076420683247, 0.006443078838410105, 0.0064430840069545515, 0.0064431014513800285, 0.006443101594724146]\n",
      "[0.0032308331636468637, 0.0031599680975622673, 0.0031424239013595435, 0.0031551956319586676, 0.002786489647769233, 0.0028043028471269444, 0.0028210454508930975, 0.00310029147721026, 0.0030621964077811644, 0.0030186272024611575, 0.0030214050584408693, 0.003021657895777239, 0.003045513660849479, 0.0030556127720969247, 0.003058602354843772, 0.0030650503669948496, 0.003094218382164849, 0.003109186550020646, 0.003110797116280119, 0.0031229288633237394, 0.0031281949488978695, 0.0031332796289531145, 0.0031348526303562945, 0.0031374586354372845, 0.0031372556540326347, 0.003138761731186953, 0.0031400821920987572, 0.003145015409651864, 0.003145953795941997, 0.003145789893919676, 0.0031463297875960273, 0.00314680664318072, 0.003177841828423282, 0.00317844348166738, 0.003178560627037732, 0.0031788759083356093, 0.003179450887095039, 0.0031795861932648077, 0.0031797969956556017, 0.0031798418783172966, 0.0031798346168135268, 0.003180019691819091, 0.0031801453072495974, 0.0031802810505891866, 0.003180511225007823, 0.003180754102919306, 0.003189526090170108, 0.003194885026353798, 0.00319512994213344, 0.0031953392309812694, 0.0031956465723801423, 0.0031959510484714793, 0.0031956847453350192, 0.0031952962564259584, 0.0031948360121624823, 0.003195103547501503, 0.003194989382690197, 0.0031948653865123433, 0.0031951343713918405, 0.0031954404091382497, 0.0031956729753519026, 0.0031957507536162855, 0.0031961031177395773, 0.003196406125223121, 0.003196762955010434, 0.0031971718682250313, 0.0031976232615328745, 0.0031980475986750365, 0.0031985544870960572, 0.00319910361052153, 0.003199691715163706, 0.0032002525490675065, 0.003200905282924933, 0.0032016253162028005, 0.003202180341806782, 0.0032029991209758606, 0.0032028484458658745, 0.003203738116105653, 0.0032045702931956716, 0.003205597974828605, 0.0032062365844024616, 0.0032072623483215454, 0.003204116624868026, 0.003204395356898041, 0.003205464789333726, 0.0032062547326600515, 0.0032070705196079754, 0.0032083821333640664, 0.003209620427408949, 0.003210723087488816, 0.003212361190865449, 0.0032138018108604704, 0.0032138242452660003, 0.0032152855479558456, 0.003216940432209018, 0.0032195037008583933, 0.0032219510682911278, 0.0032248441087304727, 0.003228304590588124, 0.0032310687540909834, 0.003235371727975515, 0.0032390080717625024, 0.003242040533914247, 0.0032340972692550983, 0.003239494240710377, 0.0032443714779370088, 0.0032483291939628366, 0.0032558475924083464, 0.003250001894849602, 0.0032572706227880508, 0.003267736332625905, 0.003275533483439577, 0.003191472956861127, 0.003197482296161377, 0.0032005402770527622, 0.0032036178635296217, 0.0032042226196099532, 0.0032045963193446736, 0.003204898110045274, 0.0032048887929541567, 0.0032048887929541567]\n"
     ]
    },
    {
     "name": "stderr",
     "output_type": "stream",
     "text": [
      "\n",
      "Choose one progress bar: 9it [5:15:00, 2594.17s/it]\u001b[A"
     ]
    },
    {
     "name": "stdout",
     "output_type": "stream",
     "text": [
      "runtime for ind model:2384.20929980278 seconds\n",
      "Finish ind\n",
      "Starting all\n",
      "[0.0034656092928467912, 0.0034272173251275696, 0.0035302906710659937, 0.0036529438522501603, 0.0041306570078305, 0.005239428777956019, 0.005322616888613218, 0.005374625807287327, 0.005545582875492275, 0.005745762828915006, 0.005777786902728132, 0.005792526606265738, 0.005804778661621284, 0.005809805737715233, 0.005812267495294997, 0.0058115356335991086, 0.005811458637943677, 0.005814131612056848, 0.005815726372952148, 0.005816867679005348, 0.00581774568697617, 0.005818297449842615, 0.005818713842739324, 0.005820230287190944, 0.005823468073914581, 0.005836362157865467, 0.005837553767048114, 0.005837881859206912, 0.005838339624091013, 0.00583958745550974, 0.0058456701191363526, 0.005847856310874, 0.005848350885010577, 0.005848311416823504, 0.005848373855554999, 0.005848355778150189, 0.005848387521206866, 0.005848404046177441, 0.005848571367147941, 0.005848565429904216, 0.005848608938081923, 0.005846557832527926, 0.0058471057438646435, 0.005846685465417076, 0.0058465653978138545, 0.0058466178600427654, 0.0058466675880383175, 0.005846709143440593, 0.005846694030954379, 0.005846713825634746, 0.00584676374822002, 0.005846763184920693]\n",
      "runtime for all model:710.9687986373901 seconds\n",
      "Finish all\n",
      "Starting ind\n",
      "[0.0010514935268538844, 0.0010725506069685401, 0.001076860222704164, 0.0010946143564708468, 0.001116469764123189, 0.0011495774905016104, 0.0012066036557024102, 0.0012897288063023113, 0.0031176241921940288, 0.0033997605342287345, 0.004121465002505738, 0.007314490020068516, 0.009127173762135381, 0.009127312584494972, 0.009127969824169455, 0.00912820136769733, 0.009128221805478589, 0.009128290421646803, 0.009128488227853424, 0.009130037559936355, 0.00913010474626069, 0.009130107212707107, 0.009130130476954426, 0.009130132813741372, 0.009130143394005513, 0.009130154088751024, 0.009130157097825867, 0.009130159491670342, 0.009130198781734395, 0.009130198022232056]\n",
      "[0.006368787145879231, 0.005728780343788499, 0.005969410799153641, 0.006881494679845146, 0.006881839351657629, 0.006847894292993674, 0.00689521478857692, 0.006922191007298084, 0.006976573452883228, 0.007036238475638642, 0.007113783833689174, 0.0070158604663823915, 0.00699886394224566, 0.007018727326952709, 0.007026301323115147, 0.007028205199591089, 0.007029890905718622, 0.007034342221629275, 0.00702958979781179, 0.007027311097176757, 0.00702861990970634, 0.007027703471709399, 0.007027648716121246, 0.007028197396946273, 0.007029221165754498, 0.007030152340386814, 0.007030900926637393, 0.007030181159238165, 0.00703202858976854, 0.007044115474572346, 0.007044704485245012, 0.0070446963119639135, 0.007044602730560678, 0.007044712882687901, 0.007044504315479934, 0.007044909023440312, 0.0070473403193815785, 0.0070720809263835034, 0.0070716927943986745, 0.007071660003036934, 0.0070716593243603295]\n"
     ]
    },
    {
     "name": "stderr",
     "output_type": "stream",
     "text": [
      "\n",
      "Choose one progress bar: 10it [5:42:11, 2053.12s/it]\u001b[A"
     ]
    },
    {
     "name": "stdout",
     "output_type": "stream",
     "text": [
      "runtime for ind model:919.9720177650452 seconds\n",
      "Finish ind\n",
      "MSE all: 0.019412386412010124\n",
      "MSE ind: 0\n",
      "for ind was chosen\n"
     ]
    },
    {
     "name": "stderr",
     "output_type": "stream",
     "text": [
      "\n"
     ]
    },
    {
     "name": "stdout",
     "output_type": "stream",
     "text": [
      "[0.0009625410081683005, 0.0009668180532322448, 0.0009808642761100022, 0.0010042356576378457, 0.00103343889085683, 0.0010775495579343377, 0.002652073251954519, 0.0026882631861499537, 0.0027374577798777036, 0.0028253102452091136, 0.0029917049280331243, 0.0033507359397729336, 0.003548914571383817, 0.006618720967866335, 0.006618829571354103, 0.006619245950585351, 0.006619242249850392, 0.006619311628754686, 0.0066193409034653854, 0.0066193628383047955, 0.0066193752853156065, 0.006619387660108019, 0.006619394830454721, 0.006619397181980027, 0.0066194046105201325, 0.006619415396988957, 0.006619424326309036, 0.00661944445464554, 0.006619444803442597]\n",
      "[0.003163144384021855, 0.0031936056450194857, 0.003215123453122572, 0.005576325106086388, 0.005425971090710009, 0.005429138663798321, 0.0054221146565666695, 0.005457453629043098, 0.005481724822933865, 0.005501521869077935, 0.0055139925732266585, 0.005533196831266849, 0.005571995745096762, 0.0055818889750158685, 0.005593318384658004, 0.005600492023487795, 0.00561365505142188, 0.005614106679938699, 0.0056212962185677425, 0.005621579848444092, 0.005621538277427261, 0.005622814695761656, 0.005622244319787005, 0.0056226755234057135, 0.005623060212570728, 0.005623591343801026, 0.0056237775359207235, 0.005624001427131375, 0.0056284502869522746, 0.0056285754654440984, 0.005628737083747941, 0.005628749832832459, 0.005628881185218046, 0.005628971591459539, 0.005629232085588752, 0.005655464235835458, 0.005655494211947758, 0.005655490846764574, 0.0056554518302024005, 0.005655428614889961, 0.0056554657980359595, 0.0056555247910792476, 0.0056555913386705575, 0.005655500084080238, 0.005655517783738023, 0.005655489330364624, 0.0056554891242965675]\n"
     ]
    },
    {
     "name": "stderr",
     "output_type": "stream",
     "text": [
      "CV progress bar: 6it [35:26:28, 21395.04s/it]"
     ]
    },
    {
     "name": "stdout",
     "output_type": "stream",
     "text": [
      "runtime for ind model:1108.2971167564392 seconds\n",
      "runtime for choose one model:21639.539613962173 seconds\n",
      "starting choose one model\n"
     ]
    },
    {
     "name": "stderr",
     "output_type": "stream",
     "text": [
      "\n",
      "Choose one progress bar: 0it [00:00, ?it/s]\u001b[A"
     ]
    },
    {
     "name": "stdout",
     "output_type": "stream",
     "text": [
      "Starting all\n",
      "[0.001741712621511638, 0.001821582077258558, 0.0021053443025248982, 0.0025394083238366996, 0.002917172211897759, 0.003055963279079058, 0.0033864326274108915, 0.0037908390846471698, 0.0058703953902873186, 0.005881784987531907, 0.005898575483842703, 0.005898598727573921, 0.0059045771487250985, 0.0058758025927093645, 0.005887155082613443, 0.005887495098177056, 0.005885974637324043, 0.0058852863984699974, 0.005885566404970377, 0.005888838723766575, 0.00589026044563022, 0.005890502447009849, 0.005890724390442851, 0.005891286766135528, 0.005892485146626625, 0.005892865426634845, 0.005893575028359499, 0.005893553474491579, 0.0058947074305851326, 0.0058959183266896475, 0.005901155925121314, 0.005901640532427616, 0.005901652895012753, 0.005901687753746704, 0.005901686569845494, 0.005901685607030206]\n",
      "runtime for all model:437.2043082714081 seconds\n",
      "Finish all\n",
      "Starting ind\n",
      "[0.001063797692772821, 0.001082269365430429, 0.001087180990472094, 0.00112379131611099, 0.0011762981404964965, 0.0012416497983744178, 0.0022864940889551376, 0.002569595380392369, 0.0033672559448289672, 0.007462352809347396, 0.007463069683779156, 0.007459630770591444, 0.007460596085694807, 0.007461044419360083, 0.007461197874813158, 0.007461568143241738, 0.0074615297774160245, 0.007461578203167685, 0.007461517138913359, 0.007461547467612956, 0.00746139465700803, 0.007461543222790629, 0.007461743291658923, 0.007461914169012531, 0.007462044963958482, 0.007462122051711031, 0.007462096276161775, 0.007462098456409547, 0.007462100650859038, 0.007462102007690508, 0.007462103746545989, 0.007462114104711754, 0.007462117112349817, 0.007462116593395825, 0.00746211673566482]\n",
      "[0.002488763449951905, 0.0025173082350270735, 0.002758999409780647, 0.0032504091710214822, 0.003321466265359633, 0.0035952491282539877, 0.003833501656055699, 0.003794588087078301, 0.0038237880779771775, 0.0038298973038567927, 0.003829938848602827, 0.003825695780184963, 0.0038095034112096858, 0.0037407396663713143, 0.003751264474711161, 0.0037497229927884513, 0.003749528658373691, 0.003751802073136739, 0.0037547151354019987, 0.0037561406357728136, 0.0037566869680776284, 0.003756983244878151, 0.003756085097628519, 0.003758213246367774, 0.0037578907855614434, 0.003758054667700955, 0.0037585856742344314, 0.0037590038683882, 0.0037593644504664617, 0.0037597158131011652, 0.003759612639298364, 0.003759456329028942, 0.003759512520276811, 0.0037596192072865756, 0.003759460950927452, 0.0037595846828329628, 0.0037596294329921933, 0.003759761237925854, 0.0037595746637108774, 0.0037597122122684937, 0.0037596894558970173, 0.0037598670379930276, 0.003759855176840988, 0.0037601152225043683, 0.00375993488582911, 0.00375996493377063, 0.0037600637954751034, 0.0037602548505282544, 0.0037606898342988247, 0.0037613674497345593, 0.0037619564783289336, 0.003763455615563393, 0.0037664153289888834, 0.003766397755857362, 0.0037663892351757293, 0.003766392669829391, 0.0037663886818712, 0.003766387487755079]\n"
     ]
    },
    {
     "name": "stderr",
     "output_type": "stream",
     "text": [
      "\n",
      "Choose one progress bar: 1it [28:49, 1729.70s/it]\u001b[A"
     ]
    },
    {
     "name": "stdout",
     "output_type": "stream",
     "text": [
      "runtime for ind model:1292.4978475570679 seconds\n",
      "Finish ind\n",
      "Starting all\n",
      "[0.003128035881055369, 0.003463873110708347, 0.0034678469089398653, 0.0038578119389833404, 0.004096839193617313, 0.005107033125744794, 0.005245402422039937, 0.006082993093978497, 0.006822014385014839, 0.00687280952656401, 0.006919955586922264, 0.007032458389343186, 0.008207215067354046, 0.00821176133341003, 0.008216824697029673, 0.008223081805100774, 0.008224627989422209, 0.008223843025970765, 0.008227382009764788, 0.00822595436119761, 0.008227350174128584, 0.00823048497272116, 0.008231895590169767, 0.008232830520539035, 0.008233488185791874, 0.00823459370806139, 0.00823542396951685, 0.008236958216373446, 0.008237276330816895, 0.00823794780954681, 0.008242423213621803, 0.008243244426241308, 0.00825500828800905, 0.008255178207307376, 0.008255503948295082, 0.008255427866450029, 0.008255494200209643, 0.00825550555871254, 0.008255622715249034, 0.008255707667292955, 0.008255306942930977, 0.008255327087706292, 0.008255390088564015, 0.00825537946920789, 0.008255379299510441]\n",
      "runtime for all model:625.5665075778961 seconds\n",
      "Finish all\n",
      "Starting ind\n",
      "[0.0010958811129503287, 0.001414656984556908, 0.002029787392217639, 0.0020279571586726284, 0.002034067864517104, 0.0020476870572228266, 0.0020560660920273923, 0.0020711565627046786, 0.002094495388256333, 0.0021299214874087626, 0.0021870431262589617, 0.0022945405320897064, 0.0025243169122388764, 0.002937714452849805, 0.002938404886571427, 0.0029383218643498172, 0.0029385644324452067, 0.002938802161228902, 0.0029389023724951365, 0.00293901450035021, 0.0029392035530659733, 0.0029393353557383398, 0.002939389775229899, 0.0029394589210838488, 0.0029381469890463214, 0.002938165162102743, 0.002938157926667578, 0.0029381653561320114, 0.00293816347911834, 0.0029381680278548193, 0.002938169883138189, 0.0029381687930562033, 0.0029381689052719825]\n",
      "[0.005215627826531849, 0.006015440039224246, 0.006009118192468669, 0.005891429783175664, 0.006078402415328594, 0.006039061101835531, 0.0059609340057495686, 0.005987172160704611, 0.005997978605128561, 0.006004540994800806, 0.0059920135246057426, 0.006006665244749507, 0.0060248934466714445, 0.006035431868231011, 0.006051599711947693, 0.006079387153967933, 0.006072470457004047, 0.006067117111619315, 0.006076390176397361, 0.006079898534181731, 0.006079309060871498, 0.006079433807260092, 0.0060797471699583355, 0.00608861877953813, 0.006082796397813338, 0.006083297863039324, 0.0060841115258896935, 0.0060849391109017315, 0.006084708405386868, 0.006091289508670185, 0.006101173509737004, 0.006089292590738633, 0.006091522681772881, 0.006091935488484533, 0.006091600033083464, 0.0060930851582077505, 0.006094681455692387, 0.006094584965063465, 0.006094727174829606, 0.0060947150853672164, 0.006093782621926701, 0.006093930050335076, 0.006094002624631148, 0.006094000017208559, 0.006094000759575611]\n"
     ]
    },
    {
     "name": "stderr",
     "output_type": "stream",
     "text": [
      "\n",
      "Choose one progress bar: 2it [56:51, 1701.34s/it]\u001b[A"
     ]
    },
    {
     "name": "stdout",
     "output_type": "stream",
     "text": [
      "runtime for ind model:1055.9227197170258 seconds\n",
      "Finish ind\n",
      "Starting all\n",
      "[0.002815727180140517, 0.003262530858706152, 0.003370438984667579, 0.00343253376220215, 0.004341659748987184, 0.004215316505523917, 0.0042625848976849835, 0.004289809413702402, 0.004327176471165455, 0.0043675320474327525, 0.004347300815128815, 0.004383744058346065, 0.004392969005492117, 0.004401767361505213, 0.004395151727088679, 0.0043982367366070824, 0.004406395793772679, 0.004409713625308294, 0.004421547015659069, 0.004428771365304698, 0.0044375072762094896, 0.00440028030403749, 0.004400316872145923, 0.004400806215964367, 0.004400347693948251, 0.004400332329164973, 0.004400362958695637, 0.004400343062734078, 0.004400440082068852, 0.004401713967581238, 0.004401694025296618, 0.004401904722548462, 0.004402120045066937, 0.00440324974531259, 0.004403329714571266, 0.004403392463123994, 0.004403400073818929, 0.004405975140854121, 0.004406622778630305, 0.004406705654581806, 0.004406847775955876, 0.004407324599932091, 0.004407301616541759, 0.004407715210041888, 0.004408081796218129, 0.004408562997545397, 0.0044094228797901544, 0.004409981186125384, 0.004411062312831957, 0.004411424460156835, 0.004411943558248161, 0.004413073402287489, 0.004413317271894992, 0.004413272989974207, 0.004413212172128201, 0.004413177978883685, 0.0044131473855562936, 0.004413221614524962, 0.004413288742621758, 0.00441327746032461, 0.0044139355289436275, 0.004412593490636317, 0.004412766736062861, 0.004412715062493875, 0.00441279882292626, 0.0044126439836640365, 0.004412700070858518, 0.0044110639122968065, 0.004410981901009331, 0.004410915415308662, 0.004411312715085396, 0.0044109778858281885, 0.004410600278150077, 0.00441060879324217, 0.004410654623114196, 0.0044106593985014314, 0.004410545565401965, 0.004410719434787004, 0.0044111537999640005, 0.004411150172303547, 0.00441254246520316, 0.004427794945832669, 0.004427844283107762, 0.004427811995695123, 0.0044277829659188795, 0.00442779231197467, 0.004462842008483721, 0.00446303866826467, 0.0044627771849129316, 0.004462756012510151, 0.004462865073761833, 0.004462808468309773, 0.004462838775866303, 0.004462823717792298, 0.004462839024084736, 0.004463365716720238, 0.004463374983852321, 0.004463376337854628, 0.004463394906825241, 0.0044634176545680455, 0.0044633789025778905, 0.004463399745300722, 0.004463422581501541, 0.004463436516208225, 0.0044634579124111055, 0.004463493620170949, 0.00446349929395344, 0.004463542367736604, 0.00446356678275559, 0.004463621045689382, 0.00446854622304862, 0.004468584536349312, 0.004468741252011838, 0.004468798061468302, 0.0044703428052173125, 0.004470487876110498, 0.00447071053153561, 0.004470895189782258, 0.00447086166824952, 0.004470856832223561, 0.004470856157639396]\n",
      "runtime for all model:2210.8817055225372 seconds\n",
      "Finish all\n",
      "Starting ind\n",
      "[0.001097875704696985, 0.0011524396246968113, 0.0011509181351425596, 0.001159808555252517, 0.0011904077871759907, 0.0012166643635015356, 0.0047209925961106455, 0.00475824180456925, 0.0048099728061518745, 0.004890253910208823, 0.005024950488961436, 0.005799596686953254, 0.006567790287100718, 0.0066584165215656296, 0.006460969688840341, 0.006461675555796853, 0.006461521686496256, 0.006462862837297703, 0.006462701941443964, 0.00646285646614225, 0.006463169280690568, 0.006463222619867137, 0.006463221247754537]\n",
      "[0.004635290515445181, 0.004968134105782765, 0.005148064154694734, 0.005070770964823888, 0.005080814439703733, 0.005122946762285837, 0.005328437207382039, 0.005498673289580046, 0.005585516582047462, 0.0055922197110684765, 0.005579213744779783, 0.005572276284636105, 0.005605635722040573, 0.005592294889262064, 0.005563262303189582, 0.005570291387178643, 0.005576186424552194, 0.005586514274772731, 0.005592212723836537, 0.005612911878909691, 0.00563408635777444, 0.005560686465175415, 0.005561267935560475, 0.005555464857897777, 0.005598778008573077, 0.005605892073301236, 0.005602536831574867, 0.005619721417953369, 0.005619780593086175, 0.005619706018753556, 0.005619699137656296, 0.005620208272871932, 0.00562096344011156, 0.005620439777316216, 0.005620422114836073, 0.0056204133866910285, 0.005620346100743381, 0.005620346010060491]\n"
     ]
    },
    {
     "name": "stderr",
     "output_type": "stream",
     "text": [
      "\n",
      "Choose one progress bar: 3it [1:46:18, 2279.52s/it]\u001b[A"
     ]
    },
    {
     "name": "stdout",
     "output_type": "stream",
     "text": [
      "runtime for ind model:756.6623291969299 seconds\n",
      "Finish ind\n",
      "Starting all\n",
      "[0.0024054390070267686, 0.0025166796531656344, 0.002938804279553447, 0.003858762219866506, 0.0038759206605307934, 0.003758243609949488, 0.00379328654077891, 0.003810078451792183, 0.0038129042558374343, 0.0038184716151638707, 0.003830874971477595, 0.0038449695835897717, 0.0038507579731940555, 0.003855718520806025, 0.0038634561521093264, 0.0038709522433277217, 0.0038773682798295974, 0.00388153199600848, 0.0038867459092030952, 0.0038914191219981387, 0.003892388756203017, 0.0038931209620172965, 0.003896727155981516, 0.003897430588171771, 0.0038974020301956363, 0.0038974795394197993, 0.0038975099289468907, 0.0038975718969090725, 0.0038977130062064326, 0.003897855532538721, 0.003901609913971149, 0.003898985353255395, 0.003899389186086854, 0.003899444139080795, 0.0038995056348586354, 0.003899684212606366, 0.0038997738876463163, 0.003900105433796943, 0.003901334352193709, 0.0039007045923725647, 0.0039013837400955834, 0.0038989536383612967, 0.003900938094669131, 0.0039026609262672292, 0.0039035220391839473, 0.003903756531172886, 0.00390585043973741, 0.0039062077069535253, 0.003907209201549709, 0.003908816580734722, 0.003908981385027328, 0.003908936464749423, 0.003908964296375242, 0.003908958791942002, 0.003908960408447984, 0.003908960408447984]\n",
      "runtime for all model:810.6653680801392 seconds\n",
      "Finish all\n",
      "Starting ind\n",
      "[0.00110600740930747, 0.0011322946438648315, 0.0011275613726807964, 0.0011401892839381501, 0.0011644070864249268, 0.0012041930882434214, 0.006503903598149145, 0.0074205573158745, 0.0074416635488768895, 0.007472671388530363, 0.007518062864171118, 0.007608959754754013, 0.008394007052689263, 0.009197295657035887, 0.00919760933797722, 0.009197875136853249, 0.009198158850583109, 0.009198260407601555, 0.009198327964070874, 0.009198421475678002, 0.009198492369800259, 0.009198566604548705, 0.009198651451302876, 0.009198836305682611, 0.009198594663935085, 0.009198606818604458, 0.009198564213227707, 0.009198592289850632, 0.009198614953533723, 0.009198595299827637, 0.00919855566849132, 0.009198516685131657, 0.009198492840723275, 0.00919843282847916, 0.009198343954275847, 0.009198241347827759, 0.009198136060864327, 0.009197980437170352, 0.009197382597989894, 0.009197376541162292, 0.009197376330559538]\n",
      "[0.0037642647610350785, 0.004065117950150164, 0.003961449424569816, 0.003942941904231713, 0.0038578257670380603, 0.004047189915693523, 0.004002770752782477, 0.004039146629492962, 0.004071376515058891, 0.004114878881038535, 0.004147194173083039, 0.004165113185066039, 0.004166748612282814, 0.004171282001240133, 0.004174794314946303, 0.004171773442382019, 0.004174349413563706, 0.004175817867793613, 0.004179597639083571, 0.004155724831228331, 0.0041546376992890755, 0.0041533150841784, 0.00415386617771865, 0.004152420036086418, 0.004151292334992185, 0.004151644219535855, 0.004157670912183795, 0.004157706645286209, 0.004157794396849021, 0.004157892455416407, 0.00415787924022768, 0.004157886431117555, 0.004157890788024045, 0.004157880410798509, 0.004157867199921734, 0.004157870724536698, 0.004157872449648952, 0.0041578766385411865, 0.004158178291781138, 0.004158184927763453, 0.004158236652343696, 0.00415823628973817]\n"
     ]
    },
    {
     "name": "stderr",
     "output_type": "stream",
     "text": [
      "\n",
      "Choose one progress bar: 4it [2:19:01, 2154.38s/it]\u001b[A"
     ]
    },
    {
     "name": "stdout",
     "output_type": "stream",
     "text": [
      "runtime for ind model:1151.861500263214 seconds\n",
      "Finish ind\n",
      "Starting all\n",
      "[0.0033948381374446423, 0.003345729245771921, 0.0035117457480659795, 0.003986198885876946, 0.004019225797316503, 0.003871356838772959, 0.003959582463245256, 0.004308517419118687, 0.004295824875310389, 0.004275419973679388, 0.004298129835657268, 0.004295491662518444, 0.004296213559829881, 0.004295999561001367, 0.004300099928447035, 0.004301248302282268, 0.0043062825908715815, 0.00431078117367988, 0.004319035271430771, 0.004322278315083855, 0.004321454589868718, 0.004329734856635651, 0.004337409061676949, 0.004341103064238299, 0.004344338681002099, 0.0043452991013559214, 0.004344985008411319, 0.00434528079082897, 0.004345581582206577, 0.004346879127074457, 0.004351715993386176, 0.004352463447233276, 0.004353495364030362, 0.004353558454471374, 0.0043544631326761975, 0.004354387578266606, 0.004354506711694318, 0.0043547947057921916, 0.004354931616245809, 0.004355105927816199, 0.004355090172850708, 0.004355267620337078, 0.0043554180013210516, 0.004355599572594098, 0.004366451604643053, 0.004368302428304693, 0.004368374226647786, 0.004368482584589991, 0.00436840930988552, 0.0043683096859033, 0.00436828740181978, 0.004368329814431744, 0.004368270242435023, 0.004368302377433837, 0.004368445903174804, 0.0043690051070170936, 0.004431043003505989, 0.00442244420904528, 0.00442257533684832, 0.004422531179596079, 0.004422545335694385, 0.004422545335694385]\n",
      "runtime for all model:947.571293592453 seconds\n",
      "Finish all\n",
      "Starting ind\n",
      "[0.0011156223310876056, 0.0011449194944908854, 0.0011300893639587365, 0.0011660679756207344, 0.001194453870726309, 0.0028699102668665205, 0.002889452675147942, 0.00292474138689083, 0.002970827479571174, 0.0030479755161589503, 0.0031844900452083916, 0.005014010442219799, 0.005635380571331423, 0.0064915627687974955, 0.006491652841238908, 0.006491573173080907, 0.0064916393443989655, 0.006491701454311617, 0.006491761890085471, 0.006491701282931778, 0.0064917475632380525, 0.006491691700157417, 0.006491695129266483, 0.006491702149450861, 0.006491717835977602, 0.006491725589901012, 0.006491739557041407, 0.0064917771788096075, 0.006491801111209683, 0.006491821784676681, 0.006491826962058485, 0.0064918273433222, 0.006491863076182746, 0.006491896852868705, 0.006491951667600029, 0.006491965751738974, 0.006492052943647535, 0.0064941135571187246, 0.006494133239324169, 0.006494127702937777, 0.006494128207108334]\n",
      "[0.005744832555059413, 0.0057906377714134856, 0.005841661810729442, 0.005887807340272293, 0.005538135645448001, 0.005477418618097958, 0.005470286890550439, 0.005509793725612026, 0.005783335589360547, 0.005817781558091472, 0.005817380249704553, 0.005891387290480039, 0.005834377019247768, 0.005856017599660085, 0.005862596442282525, 0.005870151880743242, 0.005881290041805764, 0.005884934009545935, 0.005886524784480427, 0.0059063607737998205, 0.005907715142851489, 0.005907660706407096, 0.00590701884208835, 0.005906115411046976, 0.005906364132583013, 0.005910048447700385, 0.0059123638221468995, 0.005912699837178778, 0.005912982712283724, 0.005912948438809183, 0.0059129397044698434, 0.0059129625924850115, 0.005912890147806813, 0.005912938244002612, 0.005912846120778727, 0.005914012436050539, 0.005913959737613566, 0.005914152638199316, 0.005914623739881732, 0.005916275166028672, 0.00591623806529164, 0.00591625615229876, 0.005916257784683984, 0.0059162539094459125, 0.005916252295210976, 0.005916242900177573, 0.005916244429694215, 0.005916244636265915]\n"
     ]
    },
    {
     "name": "stderr",
     "output_type": "stream",
     "text": [
      "\n",
      "Choose one progress bar: 5it [2:56:12, 2182.07s/it]\u001b[A"
     ]
    },
    {
     "name": "stdout",
     "output_type": "stream",
     "text": [
      "runtime for ind model:1283.6114695072174 seconds\n",
      "Finish ind\n",
      "Starting all\n",
      "[0.003063311108002273, 0.002902654271227844, 0.0030855024115060896, 0.00408492366536307, 0.0043160357683651816, 0.004342117626178201, 0.004294004556665146, 0.004296304499024907, 0.0043169212557029515, 0.00428818437604514, 0.004315774758196061, 0.004327090846452162, 0.004333114481175217, 0.004346631226505284, 0.004353594317211896, 0.004358044134486147, 0.004359603253870499, 0.004361944549537667, 0.004361763473604094, 0.0043622332173728655, 0.004363445298974408, 0.004363498850262699, 0.004363317377517907, 0.004363880251017672, 0.00436446921634636, 0.004365803755352278, 0.004365762355748488, 0.004366798178934882, 0.004368633557767903, 0.004371391645664434, 0.0043719877031078175, 0.004366688771281423, 0.004366718064614066, 0.004366695352249779, 0.0043667783168706165, 0.004366780964357842, 0.00436679335906548, 0.0043667882579755445, 0.004366789005351427, 0.004366793568167439, 0.004366782392486586, 0.004366787742747798, 0.004366789736997336, 0.0043671201538587785, 0.004367106279787819, 0.004367742862295249, 0.004367738634007326, 0.004367735908973212, 0.0043677740015259075, 0.004367750630668196, 0.004367752836715122, 0.00436775069879264, 0.004367753492237384, 0.004367753670919806]\n",
      "runtime for all model:776.2725987434387 seconds\n",
      "Finish all\n",
      "Starting ind\n",
      "[0.0010947203130010888, 0.0011707882599713523, 0.0011721117671656656, 0.0011706076376434, 0.0012012039163476708, 0.0012373513462285986, 0.0030171036449926636, 0.003052654048107032, 0.0031091536954575044, 0.0032075361303009636, 0.0034038790709319373, 0.003912197822520809, 0.003955007182462009, 0.004091100019935541, 0.004778242233835647, 0.00477847582530834, 0.004778691582567524, 0.004778748722634098, 0.004778591555449855, 0.004779139053533466, 0.0047809249682493745, 0.00478010595022484, 0.004780709411253388, 0.004781158959393071, 0.004781123913452874, 0.0047811499867490585, 0.00478116398462156, 0.0047811939819461515, 0.00478120049790421, 0.004781200259447864]\n",
      "[0.005079931442294368, 0.004835391321914649, 0.004837469802202535, 0.0067084173749014766, 0.007091682632430566, 0.007133111484720053, 0.00714285628558807, 0.007146768355526705, 0.007168791869399016, 0.007170405314177693, 0.007168814792969815, 0.0071627278505832035, 0.007131151387554047, 0.007136532009933737, 0.007149705971936371, 0.007153713549136177, 0.0071643706839467775, 0.007169199308577479, 0.007172946655783706, 0.0071774064160277234, 0.007185251871055743, 0.0072083335511100854, 0.007221671928455328, 0.00722182066956079, 0.007222409465375057, 0.007222413776013027, 0.00722284710085995, 0.007226583681593349, 0.007232214973370496, 0.007233835126236268, 0.007233043246359131, 0.007233196758533416, 0.007233055359128868, 0.007234007230546393, 0.007233107982142481, 0.007232612248195341, 0.007235022081174306, 0.007235022081174306]\n"
     ]
    },
    {
     "name": "stderr",
     "output_type": "stream",
     "text": [
      "\n",
      "Choose one progress bar: 6it [3:23:28, 1996.32s/it]\u001b[A"
     ]
    },
    {
     "name": "stdout",
     "output_type": "stream",
     "text": [
      "runtime for ind model:859.467456817627 seconds\n",
      "Finish ind\n",
      "Starting all\n",
      "[0.0021423147479460994, 0.002529158711886457, 0.0025475596732782635, 0.0029131674576334805, 0.003292715953638694, 0.003327644102841231, 0.00324812907487579, 0.003294506810137367, 0.0033037661770328962, 0.003303272406433776, 0.0033050067928332857, 0.0033165840542070295, 0.0033204091269447024, 0.003326780081963997, 0.003328090601635479, 0.003339192618744622, 0.0033518761189654926, 0.0033501755150693244, 0.0033539836421822558, 0.003355128821525022, 0.0033574504666553985, 0.0033585072682600923, 0.003358779590791741, 0.0033590460994780214, 0.003359605286309855, 0.0033596627304502817, 0.003359986438572036, 0.0033595869834302044, 0.0033595533358125548, 0.003360108303920112, 0.0033603059216231615, 0.0033602820050553034, 0.003360287981113154, 0.003360227259078236, 0.0033601904619831183, 0.0033601577641380873, 0.0033601528660133244, 0.003360189331391955, 0.003360176345127143, 0.0033601074812723668, 0.0033600827189463334, 0.0033600461053770745, 0.003359953339653493, 0.0033605859824041595, 0.0033614213686398893, 0.0033621027817936884, 0.003362198403610332, 0.0033630998569092268, 0.0033632378692014355, 0.0033640591906701706, 0.00336413888490101, 0.0033641170464075985, 0.00336414500104764, 0.0033641339848033717, 0.003364114218579161, 0.0033641201614738442, 0.0033641346196422992, 0.0033641668145525257, 0.003364205352591211, 0.003364258698438354, 0.003364255794292407, 0.0033642768258768585, 0.0033642529743595313, 0.003364282601318576, 0.0033642504491985677, 0.003364231513830737, 0.0033642170456932943, 0.0033641630443180825, 0.0033641004584968777, 0.0033640625866152374, 0.003364145756444598, 0.0033640619860834235, 0.0033639473539958677, 0.0033638248244078793, 0.0033636855926276717, 0.0033672977631054126, 0.003367403840295121, 0.003367403840295121]\n",
      "runtime for all model:1193.9187154769897 seconds\n",
      "Finish all\n",
      "Starting ind\n",
      "[0.00017134953756574295, 0.0001546245537978798, 0.00015525085993423204, 0.0001626035127105538, 0.00017214554719559592, 0.00017341678463499833, 0.00017505781224338675, 0.0001744317819943757, 0.00017236082309945682, 0.000171490062293303, 0.00017173101670001978, 0.0001715357260700475, 0.00017143547812197474, 0.00017132893178284516, 0.0001714669285841763, 0.00017155152682902988, 0.00017164898099281174, 0.00017189690801493757, 0.0001722069105638774, 0.00017227116595595183, 0.00017236247650019684, 0.00017242094932783437, 0.000172421715029564, 0.0001724181201499065, 0.00017241597246439193, 0.0001723719553801756, 0.00017243603516046022, 0.0001724414901453064, 0.00017244230709224272]\n",
      "[0.004165477842785109, 0.005012878076265698, 0.004855047659221407, 0.0056160820183241925, 0.00697740649630835, 0.006980289556529238, 0.007008988169930177, 0.007041019270663492, 0.007077657973320448, 0.007096068751640638, 0.007112472176819616, 0.007128855856051215, 0.007144760979259023, 0.007184951249905791, 0.007147691236484156, 0.007148396622421069, 0.007149570274645527, 0.0071504748588276015, 0.00715142128576463, 0.007152940997176169, 0.007154424513261244, 0.007154494498174286, 0.00715458597982217, 0.007154270724205153, 0.00715373606565999, 0.007159686675998261, 0.007161395885489636, 0.007161158915173299, 0.007160712549948299, 0.007161281280214396, 0.007161216395375161, 0.007161330208633926, 0.007161314516757449, 0.00716132242256146, 0.007161334095356105, 0.0071613428993806336, 0.007161318295302113, 0.007161348010733063, 0.007161375228338056, 0.007161371566783694, 0.0071617049669326265, 0.007161791932212147, 0.007162312017768407, 0.007162234243708281, 0.007162889232307032, 0.007163889148880197, 0.0071639181412158385, 0.007163917100283121]\n"
     ]
    },
    {
     "name": "stderr",
     "output_type": "stream",
     "text": [
      "\n",
      "Choose one progress bar: 7it [4:00:18, 2066.12s/it]\u001b[A"
     ]
    },
    {
     "name": "stdout",
     "output_type": "stream",
     "text": [
      "runtime for ind model:1015.8912167549133 seconds\n",
      "Finish ind\n",
      "Starting all\n",
      "[0.002617839231194004, 0.0030900122566337746, 0.0033731129290812804, 0.004273810328014664, 0.0043590899548976965, 0.004370627384754215, 0.0044221444776675525, 0.004430824960218732, 0.00443089394900658, 0.0044539028509652055, 0.0044696312248661925, 0.004484500938918749, 0.00449401275689625, 0.004504922976317301, 0.004507680669094372, 0.004513897452022074, 0.004519057007288404, 0.004523431518654495, 0.00452611929189361, 0.004530272892146077, 0.0045325118589653515, 0.004535412412659838, 0.004536463869997802, 0.004535827596839228, 0.004537093399087795, 0.00453700258568161, 0.004537727624608164, 0.004538319199178251, 0.004537864061201461, 0.004537879917172397, 0.004538023773888325, 0.004537667854013406, 0.004498329908806177, 0.004498368745956993, 0.00449844167392301, 0.004498405897796277, 0.004498429203797489, 0.004498464183874921, 0.004498474702998373, 0.0044984911587456254, 0.004498496683607318, 0.004498497485384135, 0.004498497573158032]\n",
      "runtime for all model:579.6342942714691 seconds\n",
      "Finish all\n",
      "Starting ind\n",
      "[0.001101697714556373, 0.0011494154248102137, 0.0011703115800429029, 0.0011711659223159216, 0.0011875850280212324, 0.0012015160019298212, 0.0012282155640089593, 0.0012612857247646181, 0.002082497047863147, 0.0021228042650625464, 0.0021851413713214604, 0.002288583560288028, 0.003919122378280325, 0.003988922557431617, 0.004842128174889042, 0.004934556709263743, 0.004725253739273018, 0.004726421664590149, 0.004726433335458521, 0.004726514403730181, 0.0047264036291126505, 0.004726438741358425, 0.004726439240722561, 0.004726442738880033, 0.0047264453256963095, 0.004726446975185497]\n",
      "[0.00418989491606845, 0.005095710312160442, 0.005294479027027307, 0.006099256667380859, 0.006134006622065224, 0.005946285948876123, 0.005882437524124344, 0.005964828834658981, 0.005993441623298813, 0.006014223991937453, 0.006047208763276602, 0.006039766981910613, 0.006081152204841949, 0.0061112486795775215, 0.006119708216944582, 0.006148209209896448, 0.006162884157511649, 0.006163255362458502, 0.00618919427629968, 0.006190899117728682, 0.006191866409593525, 0.0061927115457604456, 0.006194085115579888, 0.006195187548523171, 0.006195385807975189, 0.00619923567507448, 0.006199362643870896, 0.0062004992358975055, 0.006200728520008454, 0.00620286522156181, 0.006202963620920002, 0.006203760755002546, 0.006203762651803979, 0.006203761414726514]\n"
     ]
    },
    {
     "name": "stderr",
     "output_type": "stream",
     "text": [
      "\n",
      "Choose one progress bar: 8it [4:21:59, 1822.69s/it]\u001b[A"
     ]
    },
    {
     "name": "stdout",
     "output_type": "stream",
     "text": [
      "runtime for ind model:721.8291530609131 seconds\n",
      "Finish ind\n",
      "Starting all\n",
      "[0.0021890046792618152, 0.002225496387481299, 0.002268187131708485, 0.002891528924146619, 0.0026215013558749762, 0.0027114808488088436, 0.0031451665940567365, 0.0032859499367999894, 0.0032741790254124355, 0.003249372018414122, 0.0032844121448898497, 0.0033067020254668516, 0.0033130324090293846, 0.003329749637807613, 0.003345148421376729, 0.0033575618919266838, 0.00336253807361941, 0.003366250966510316, 0.003368544619756333, 0.0033742860396297524, 0.003382724832069195, 0.0033869005382024123, 0.0033909153326409534, 0.003393881323419185, 0.0034034369094951846, 0.0034026726104548167, 0.003402386015529891, 0.003402392956870433, 0.0034023997556104956, 0.003402694704738695, 0.0034028583384465823, 0.0034031084410472818, 0.0034032715242235828, 0.00340342562706331, 0.003408864454996856, 0.003412920376799254, 0.0034129193091941754]\n",
      "runtime for all model:473.9524848461151 seconds\n",
      "Finish all\n",
      "Starting ind\n",
      "[0.001118918109427723, 0.001127651918204864, 0.0011567543497351133, 0.0011761033485977212, 0.0012162398835160462, 0.0012647567029348496, 0.001352763864259191, 0.002200483922799123, 0.002379966189155622, 0.0027559869772049274, 0.003781846067329226, 0.003804688557497956, 0.003743098418189416, 0.0037431447274828096, 0.003743680767484478, 0.003743728065106723, 0.003743894046905484, 0.003744036632931104, 0.003744122278250518, 0.0037441825859854732, 0.003744458150978426, 0.0037444813423748785, 0.003744507948081955, 0.0037444241022833264, 0.0037442625405288963, 0.0037442773968510644, 0.0037443058811091378, 0.003744312371582805, 0.003744329110026946, 0.00374438243549404, 0.003744320102334267, 0.00374432046526976]\n",
      "[0.0033441582622544008, 0.0033603200884964324, 0.0032682055754656067, 0.0033446497604524687, 0.0032470699992889532, 0.0033399343529140224, 0.0033525183655870906, 0.0033526584336365075, 0.00334453818128551, 0.003376705755598162, 0.003386471563770847, 0.0034112367998368662, 0.003436978555354628, 0.0035892811151887792, 0.0036159322686248494, 0.003632618479710875, 0.0036625393898895913, 0.0036656688289934043, 0.0036671801784128764, 0.0036684028702345535, 0.003667177818833762, 0.003667706906699685, 0.0036679274113807442, 0.003668201356155905, 0.003668331920374566, 0.0036679931888021116, 0.003668041684466516, 0.0036685320140970494, 0.0036685701844815627, 0.0036684819799992336, 0.0036683955942395027, 0.0036683471665247976, 0.003668287044834271, 0.00366841323492716, 0.0036685148357489634, 0.0036684753528401976, 0.003668440301312107, 0.003668393530997508, 0.0036683234952306193, 0.003668265283347237, 0.003668207562181549, 0.003668186787759814, 0.00366822298517002, 0.0036681832417146303, 0.0036681320777009418, 0.0036681680656654664, 0.003668157964800199, 0.0036680810548090246, 0.0036680423702175778, 0.0036680253014775787, 0.0036680678188513787, 0.0036679892165961078, 0.003667961304363437, 0.003667942189827194, 0.0036679641337116708, 0.0036679902940363203, 0.0036680603132837482, 0.0036742964330159613, 0.003674479912307662, 0.0036751632690222883, 0.003674655609793756, 0.003692340975558671, 0.0036940062784468998, 0.003694268875695754, 0.003695580101386433, 0.0036955764849438467, 0.0036955936712586438, 0.0036955894288131378, 0.003695579126538462, 0.003695567517068122, 0.0036955557703671317, 0.003695545895302778, 0.003695559238372753, 0.003695546902578134, 0.0036955493846434267, 0.0036955496806128467]\n"
     ]
    },
    {
     "name": "stderr",
     "output_type": "stream",
     "text": [
      "\n",
      "Choose one progress bar: 9it [4:56:57, 1908.87s/it]\u001b[A"
     ]
    },
    {
     "name": "stdout",
     "output_type": "stream",
     "text": [
      "runtime for ind model:1624.4051399230957 seconds\n",
      "Finish ind\n",
      "Starting all\n",
      "[0.002978080949682976, 0.003164929993944629, 0.003198877757613773, 0.003522203044922951, 0.003612102045647045, 0.004476008319916106, 0.004557439383243341, 0.004556816071383913, 0.004548918230132855, 0.004585689136602188, 0.004583529204122392, 0.004587068349160745, 0.004591943635917422, 0.004596685418670079, 0.004604749021664048, 0.004611574935062043, 0.004621556036256367, 0.004624040661252412, 0.004624904506841716, 0.004627579824521964, 0.004630960741802018, 0.004630278140857284, 0.004634853988415331, 0.004642021405031189, 0.004647098797223281, 0.004647233821674592, 0.004647385794965083, 0.004647276797591684, 0.004647152487308468, 0.004647241747816286, 0.004646893022694298, 0.004647817844976248, 0.004647713515745569, 0.004647788676451584, 0.004648211355523386, 0.004648553042129798, 0.004652974527444422, 0.004653155649105288, 0.004653479178846879, 0.004653913845861796, 0.004654613904802289, 0.004655424379999438, 0.004655667860338743, 0.0046591718490183055, 0.004665463938375849, 0.004664967774298376, 0.004664977442577925, 0.004664999636205392, 0.004665145678855476, 0.004665145678855476]\n",
      "runtime for all model:681.8559503555298 seconds\n",
      "Finish all\n",
      "Starting ind\n",
      "[0.001153709964224002, 0.001151814442220167, 0.0011629621951517663, 0.0011633379050590927, 0.0011814445479819214, 0.0011993792474451251, 0.0012251816932504424, 0.001264256711175938, 0.0013184190521006694, 0.001412728666937349, 0.0015782782336149672, 0.0019048156250772567, 0.004014875269840025, 0.004851804438887381, 0.004790117660693403, 0.004790312762474972, 0.004790334179105825, 0.004790455235524162, 0.004790375753150583, 0.0047904423682846985, 0.004790592968260538, 0.004790646938519133, 0.004790419861349307, 0.004790331477808691, 0.004790170230365215, 0.004790377336170495, 0.004791040520110595, 0.004791192591461687, 0.004791202929960669, 0.00479119705123556, 0.004791197934597836]\n",
      "[0.004905154215288952, 0.005256639970107183, 0.005211582798607465, 0.005106008428602339, 0.005189415998344505, 0.005100806229834526, 0.0051498669699669665, 0.005223572686837492, 0.0052834318427017225, 0.005298374905995944, 0.005317685774311724, 0.0053294528016148614, 0.005330700825477982, 0.005344197693287443, 0.005343262578784885, 0.005349419047977811, 0.005352852997410451, 0.00535455769986106, 0.0053581005151633046, 0.005363865764275588, 0.00536023000777717, 0.0053619187138768745, 0.00536312217575993, 0.00536446411824376, 0.0053662227218652, 0.00536741542450109, 0.005368057005843688, 0.005368888753950306, 0.005371791099054281, 0.00537687181862403, 0.005385795317138291, 0.005385828376880128, 0.0053857986253356156, 0.00538611959389432, 0.005386239119183171, 0.0053863955451000384, 0.0053866970949410465, 0.0053871694217622985, 0.005388065435024373, 0.005389463653755991, 0.005391083710341357, 0.0053915831190247164, 0.005398589173374891, 0.005411180413948729, 0.00541018162513994, 0.00541018162513994]\n"
     ]
    },
    {
     "name": "stderr",
     "output_type": "stream",
     "text": [
      "\n",
      "Choose one progress bar: 10it [5:24:44, 1948.48s/it]\u001b[A"
     ]
    },
    {
     "name": "stdout",
     "output_type": "stream",
     "text": [
      "runtime for ind model:985.1365234851837 seconds\n",
      "Finish ind\n",
      "MSE all: 0.0291564263087574\n",
      "MSE ind: 0\n",
      "for ind was chosen\n"
     ]
    },
    {
     "name": "stderr",
     "output_type": "stream",
     "text": [
      "\n"
     ]
    },
    {
     "name": "stdout",
     "output_type": "stream",
     "text": [
      "[0.0010403054731985433, 0.0010569410605670777, 0.002751078455274436, 0.0027596796590865624, 0.00279254817696606, 0.002828924722436616, 0.005873156437626478, 0.005876090716459956, 0.005882032123051469, 0.005888672778701219, 0.005897180551492345, 0.005910283922037022, 0.0059302545265700266, 0.0059626106891981995, 0.006023731862836667, 0.006152071535245834, 0.006691729356135619, 0.006693234083387402, 0.006693165272282063, 0.0066933249301843675, 0.0066934332407712505, 0.006693514926035519, 0.006693608019327596, 0.006693667051893564, 0.006693731804140781, 0.006693334778206267, 0.0066933365236220175, 0.006693341700369268, 0.006693346430001332, 0.0066933475145536285, 0.006693538742289831, 0.006693538871900144]\n",
      "[0.004058532922445901, 0.003952684026330114, 0.005455125946260257, 0.005354862205051362, 0.005261075951893348, 0.005357890425369195, 0.005360361331143892, 0.005416493186117284, 0.005417716103420099, 0.005383710010529138, 0.005365639195677978, 0.005413308560994472, 0.005452899268967264, 0.0054753724999288215, 0.005487178034444573, 0.005500100250933572, 0.00552021631829148, 0.005535397651567221, 0.005531166895084708, 0.005539309367036517, 0.005539976525131871, 0.005539752871083358, 0.005540285132722281, 0.00554033188096691, 0.0055403195240202475, 0.005540281866933897, 0.005540264213859951, 0.0055402562800233035, 0.005540725912590247, 0.005540722112948557, 0.00554072294381253]\n"
     ]
    },
    {
     "name": "stderr",
     "output_type": "stream",
     "text": [
      "CV progress bar: 7it [41:05:52, 21057.97s/it]"
     ]
    },
    {
     "name": "stdout",
     "output_type": "stream",
     "text": [
      "runtime for ind model:879.1501643657684 seconds\n",
      "runtime for choose one model:20364.00052022934 seconds\n",
      "starting choose one model\n"
     ]
    },
    {
     "name": "stderr",
     "output_type": "stream",
     "text": [
      "\n",
      "Choose one progress bar: 0it [00:00, ?it/s]\u001b[A"
     ]
    },
    {
     "name": "stdout",
     "output_type": "stream",
     "text": [
      "Starting all\n",
      "[0.0022108468141753346, 0.0022413687751212754, 0.0026194364942697954, 0.0032613681610582693, 0.0036774689096863607, 0.003595980686476722, 0.003600162682099262, 0.0036394236641659828, 0.003686752237123938, 0.0037586082876353314, 0.0036615412041900745, 0.0036271448948808393, 0.0036259300139487825, 0.0036348615316327453, 0.0036441393662628775, 0.0036582626497808786, 0.003701430442110564, 0.0037210434080692106, 0.00372319201849739, 0.0037242105973622646, 0.003731158428443678, 0.003731842976766151, 0.0037315674696787927, 0.0037317357132053684, 0.0037320353589666783, 0.0037315530687693542, 0.003731860873027329, 0.0037324366500155115, 0.0037428466713051605, 0.0037493466692096813, 0.0037495055392015144, 0.003749704366084958, 0.003749948494276764, 0.003749661699496326, 0.003749758846112938, 0.0037497783750687955, 0.003749827296114069, 0.0037499822300352064, 0.003750152792000186, 0.0037503704162479895, 0.003751943897446302, 0.0037505167865674177, 0.0037504612278349302, 0.003750612094805081, 0.0037506303900731717, 0.0037506588866504653, 0.0037506588866504653]\n",
      "runtime for all model:622.1889019012451 seconds\n",
      "Finish all\n",
      "Starting ind\n",
      "[0.001096265580596066, 0.001123579305211729, 0.0011353463583628242, 0.001168915431856316, 0.00380828542564588, 0.0038382436543077875, 0.0038761596118915367, 0.0048428634908099935, 0.004950286225452355, 0.004772231733668017, 0.005590038390873695, 0.005591266933291952, 0.005591663765087878, 0.005591945604126606, 0.0055926500528698225, 0.005592658080280042, 0.005592603487672513, 0.0055926560816208165, 0.005592931290652727, 0.00559286235392383, 0.005592904297120877, 0.005592804823725954, 0.005592807386866417, 0.005592827517966076, 0.0055928359014932915, 0.0055929356395996175, 0.005592993664569287, 0.005593035190501115, 0.00559301700784263, 0.0055930158166232775, 0.005593007634125486, 0.005592986726010826, 0.005592968301123237, 0.005592970992236335, 0.005592952443789293, 0.0055929641951115135, 0.005593005726179009, 0.005593016563306515, 0.0055930357423339145, 0.0055929909940641955, 0.005593012401148983, 0.005592994522511334, 0.005592953846655038, 0.005594489039532831, 0.0055944285552344385, 0.0055943381107961725, 0.005594283652522687, 0.005591381429913688, 0.005591382337118648]\n",
      "[0.003387620745325307, 0.0037720052153305886, 0.004144008974451125, 0.004106820309151242, 0.0049931015567173075, 0.005097760115572061, 0.005163904959136724, 0.005265361705435778, 0.005484619440979458, 0.005515895723558879, 0.005563674495548326, 0.005573422136064156, 0.005586218155585286, 0.005599392119674472, 0.0056071122819119955, 0.0056091864381087875, 0.005643683117263696, 0.005649029380177806, 0.0056524071775903816, 0.00565319913364957, 0.005654965280026557, 0.005655373500273941, 0.005656547527020867, 0.005656273983658384, 0.005656194354363007, 0.005656185483516309, 0.005656230430451688, 0.005656344478170474, 0.005656525759530274, 0.005656467297297509, 0.005656380442567404, 0.005656303078930449, 0.005656216203183162, 0.005656377546024282, 0.005656301877924397, 0.005656466494809951, 0.005656374200453017, 0.0056563636684742995, 0.005656340230948411, 0.005656267947122055, 0.005656532116893109, 0.005656468578341215, 0.005656884290443904, 0.005656735936535776, 0.005656686497257717, 0.005656531784811062, 0.0056568301331012955, 0.005656847792046454, 0.00565668164922441, 0.0056565168206349405, 0.00565650106326951, 0.00565701912099388, 0.005656810682854968, 0.005656663888230526, 0.005656470775993716, 0.005656384942163538, 0.005656149317676618, 0.0056559255493437025, 0.005655710824065324, 0.005655522398791953, 0.005655572841074714, 0.005655434626715469, 0.005655282081213059, 0.005655271958240475, 0.005655265074225355, 0.005655287229048698, 0.005655696967207169, 0.005667545976933107, 0.005667636652659958, 0.005667155859302063, 0.0056740666625997895, 0.005674067476981596, 0.005674068271506267]\n"
     ]
    },
    {
     "name": "stderr",
     "output_type": "stream",
     "text": [
      "\n",
      "Choose one progress bar: 1it [42:32, 2552.69s/it]\u001b[A"
     ]
    },
    {
     "name": "stdout",
     "output_type": "stream",
     "text": [
      "runtime for ind model:1930.4959647655487 seconds\n",
      "Finish ind\n",
      "Starting all\n",
      "[0.0021865715518292307, 0.0021733137904809607, 0.002427975928014973, 0.0026112613428231632, 0.0026202464013809473, 0.002656274231614436, 0.002639402766688906, 0.0026550371094213026, 0.0026326301694608737, 0.002634792157770965, 0.002645261876244158, 0.0026301983123863297, 0.0026400771019838933, 0.0026444154295297137, 0.0026468482251915076, 0.002657239774140065, 0.002671452678721596, 0.002671708220075419, 0.002672718082425609, 0.0026822984488972953, 0.0026841917973365863, 0.002689835893975905, 0.002689162760297576, 0.002689442920997014, 0.0026891859075966946, 0.002689199376584407, 0.002690119095528407, 0.002690230211800193, 0.0026901836696543078, 0.0026903812825570866, 0.002690435686733211, 0.002690495069085906, 0.002690446500230411, 0.0026904804369865215, 0.0026904764883977626, 0.0026905107903855826, 0.0026905725720191564, 0.0026906254798435476, 0.002690644848825378, 0.002692891790694391, 0.0026922526436792367, 0.002695241284315306, 0.0026958559239447346, 0.0027060641428024077, 0.00270735798408436, 0.002707354632751311, 0.0027073526032088753, 0.002707351091806621]\n",
      "runtime for all model:695.6717987060547 seconds\n",
      "Finish all\n",
      "Starting ind\n",
      "[0.001112740235652188, 0.0011273876559859672, 0.0011495108705775437, 0.0011755075605267482, 0.001235278938131366, 0.0013085637490076216, 0.0014401355364007207, 0.002227809818667602, 0.0024786890538985766, 0.002801631904229554, 0.002803873779844206, 0.0028027036917951816, 0.0028025627181521824, 0.0028026075112425703, 0.002802713747723934, 0.002802806018215108, 0.0028035887834677977, 0.002805325608850475, 0.0028055886819920105, 0.00280573326519053, 0.0028057171009488297, 0.0028057066772453074, 0.002805686850004708, 0.0028057040036826133, 0.0028058708037181092, 0.0028058840269084783, 0.0028058756629191686, 0.0028074368709152912, 0.002807433270423906, 0.002807440038537873, 0.0028074732755179787, 0.0028074674856678875, 0.002807469852683531, 0.002807468636596033, 0.002807468911600749]\n",
      "[0.003356615625645075, 0.003506101275945662, 0.0038050940637085673, 0.004051134300776335, 0.004041318033302791, 0.0041754965840718195, 0.004127520889234656, 0.004050495700593583, 0.004085284124466117, 0.004115971989377241, 0.004158693193758663, 0.004194403907323941, 0.004204689071749299, 0.004213959275700717, 0.004222381827897209, 0.004229364000821615, 0.0042310604767371324, 0.004234232461415321, 0.004231946308073403, 0.004233264642969348, 0.004235361542764154, 0.004236404601709565, 0.004237263426873631, 0.004237954714258885, 0.004254465703400159, 0.004278664386173499, 0.004281197571269659, 0.004284972562284649, 0.00429221133019142, 0.004292337183128966, 0.004292488604113208, 0.004292399124234683, 0.004292385151126413, 0.004292345244237096, 0.0042923810614583615, 0.00429240422471219, 0.00429241968181784, 0.004292415031944136, 0.004292442931875862, 0.004292488978563012, 0.004292553988215863, 0.004292609953693437, 0.0042927008297284725, 0.004292671406831721, 0.004292768178243532, 0.0042927712869740104, 0.0042928316611236484, 0.004293272977182835, 0.004293182833550531, 0.004293118088523444, 0.004293117344581948]\n"
     ]
    },
    {
     "name": "stderr",
     "output_type": "stream",
     "text": [
      "\n",
      "Choose one progress bar: 2it [1:13:38, 2148.57s/it]\u001b[A"
     ]
    },
    {
     "name": "stdout",
     "output_type": "stream",
     "text": [
      "runtime for ind model:1170.0212242603302 seconds\n",
      "Finish ind\n",
      "Starting all\n",
      "[0.002236122849349597, 0.002628061133237643, 0.0027721100157852958, 0.003192393919743708, 0.0032209934946192454, 0.0036164390597879952, 0.004003799234228558, 0.004020531896927656, 0.004037132880060808, 0.004010833251552409, 0.00402998599787487, 0.004037327192134533, 0.004040107227892645, 0.004055225987048985, 0.0040610436038410955, 0.004066106226953572, 0.004063599650650194, 0.004057279337665249, 0.0040606446010765605, 0.004064612256265592, 0.004065505161848409, 0.004066761685557707, 0.004064715159687456, 0.004063325776858422, 0.00406316721991023, 0.004063705818723223, 0.004063848839271392, 0.0040641803086316815, 0.004064989434383536, 0.0040649895638561594]\n",
      "runtime for all model:344.54549646377563 seconds\n",
      "Finish all\n",
      "Starting ind\n",
      "[0.0010744296857707648, 0.001148682729465532, 0.0011529724082603875, 0.0011718160223162049, 0.0011962425309229498, 0.0012362911196223375, 0.0012834769680854527, 0.0013651477253077136, 0.0015183491886024722, 0.0032335221641833292, 0.00413945223718362, 0.005693213287972858, 0.005634839999596328, 0.00563523339570228, 0.005635495808838869, 0.005635617886554275, 0.0056357162186602755, 0.0056357566165539785, 0.005635798250546844, 0.005635870481638284, 0.0056359072575150665, 0.005635856197551549, 0.005635724003662111, 0.005635943630480316, 0.0056360529424662265, 0.005636302227289515, 0.005636322232686753, 0.005636319864614986, 0.005636331314201835, 0.005636349042757456, 0.005636405535405451, 0.005636419012022111, 0.005636420863528969]\n",
      "[0.003440045511622001, 0.003998037450546861, 0.0040934190809112075, 0.004182593275495755, 0.004841620184674597, 0.005647635392054533, 0.005750026201333125, 0.005803068926525772, 0.005840563870583714, 0.00584292776652621, 0.005867549328364016, 0.005880251630295548, 0.0058924850392751745, 0.0059019675998835406, 0.005906336642186661, 0.005913518049758135, 0.005919355685647011, 0.005923227802198383, 0.005925817761050872, 0.005928944583494721, 0.005933444031334509, 0.005935251761358588, 0.005949073473059221, 0.005952169940464389, 0.005957602284023502, 0.005962307131123179, 0.005962738164151872, 0.005964728347346164, 0.005964173893487114, 0.0059726533059056034, 0.0059717250737531345, 0.005972150775209994, 0.005978526681674501, 0.0059804840513179745, 0.005981977880407865, 0.005980436555874401, 0.005979009222627488, 0.005978550488730361, 0.005982682120273678, 0.005983202356931509, 0.005984386382344751, 0.005986262944335351, 0.005986491819903234, 0.005986426641250787, 0.005986427876922345, 0.005986427138361448]\n"
     ]
    },
    {
     "name": "stderr",
     "output_type": "stream",
     "text": [
      "\n",
      "Choose one progress bar: 3it [1:37:34, 1823.26s/it]\u001b[A"
     ]
    },
    {
     "name": "stdout",
     "output_type": "stream",
     "text": [
      "runtime for ind model:1091.5900256633759 seconds\n",
      "Finish ind\n",
      "Starting all\n",
      "[0.002255100927693686, 0.0022894899782599657, 0.003034189636458409, 0.0030415969832370306, 0.00402489019578587, 0.004142564302592087, 0.004091229557105229, 0.004126017580055989, 0.004131292373162699, 0.004133162413454632, 0.004135350274228483, 0.004153178623597099, 0.004156444990065241, 0.004158853656596873, 0.004163331401780409, 0.004162814146773211, 0.004175226180364047, 0.004176046310816883, 0.004177402630006595, 0.004177950995398689, 0.0041789699837634225, 0.004179005921424784, 0.004179150989345119, 0.004179528521279096, 0.004178936356815414, 0.004182015077219293, 0.0041765924034149774, 0.004172947545404936, 0.00416857172439283, 0.004168637189441639, 0.004168959396084518, 0.004169487248396192, 0.004170296851795359, 0.004170317225302463, 0.004170311932453629, 0.004170311586851461]\n",
      "runtime for all model:446.0052082538605 seconds\n",
      "Finish all\n",
      "Starting ind\n",
      "[0.0010962852396685019, 0.001088894795851997, 0.001102732684638805, 0.001121371519177431, 0.0011526041328676418, 0.0011957508742159446, 0.0012707615721922812, 0.0013997051872304347, 0.001687264939168999, 0.002445986794688396, 0.005076408682220806, 0.004871201240526011, 0.00557786206637652, 0.005577797031808144, 0.0055778385168966885, 0.005577948132775259, 0.005578010055015802, 0.005578129218083094, 0.005578194977911061, 0.005578222993413491, 0.005578271792638708, 0.0055782760678881205, 0.005578409069734884, 0.005578531904837731, 0.00557853600045191, 0.005578545917802881, 0.005578566374905188, 0.005578557771583228, 0.005578566229438339, 0.0055785703883868, 0.00557856858345133, 0.005578571417450837, 0.005578570433398918, 0.005578571633046842, 0.005578572281236989]\n",
      "[0.0034381015905157984, 0.003495403062178007, 0.004511154236270324, 0.005676240641004319, 0.00570343833612659, 0.005683403714969245, 0.005631978365609375, 0.005666472265792796, 0.005694716341798266, 0.005722122807698436, 0.0057522756369242775, 0.00576328232989959, 0.005769536282322392, 0.00577717011016929, 0.005782967243669855, 0.005788111540887287, 0.0058179322451796765, 0.005822132885263255, 0.005825006595624989, 0.005826223812028653, 0.005825966084447758, 0.005825707775626693, 0.00582600439007948, 0.005826634710687677, 0.005826321504560332, 0.005826551162070903, 0.005826493417327902, 0.005826649249260748, 0.0058271090498930745, 0.00582837160898536, 0.005828232214175688, 0.005828563189365683, 0.005829117785087279, 0.005829950015214856, 0.005828599365469171, 0.005828348004324521, 0.005836541070614478, 0.005839084879818855, 0.005838483272809377, 0.005845848710501665, 0.005847338648858752, 0.005848162213278728, 0.0058489288884705035, 0.005847396720903208, 0.0058448502002225195, 0.005844884042403814, 0.005844883988844665]\n"
     ]
    },
    {
     "name": "stderr",
     "output_type": "stream",
     "text": [
      "\n",
      "Choose one progress bar: 4it [2:03:28, 1716.87s/it]\u001b[A"
     ]
    },
    {
     "name": "stdout",
     "output_type": "stream",
     "text": [
      "runtime for ind model:1107.7638561725616 seconds\n",
      "Finish ind\n",
      "Starting all\n",
      "[0.0018521215340772802, 0.0019017171950975026, 0.0037774905096206964, 0.00422216324749852, 0.004297209465728327, 0.004109903395854049, 0.0042395260556591565, 0.0050970062088996695, 0.005106899820876305, 0.0051151737737238565, 0.0051234398722228, 0.0051207484930423566, 0.005118027105308468, 0.005125889484788397, 0.005111613884619543, 0.0051160370427467084, 0.005117603143534583, 0.005118635849716939, 0.005110600639006609, 0.005112340562188029, 0.005112450921606412, 0.005114762071358617, 0.005116972467805639, 0.005117203455473745, 0.0051166587144094115, 0.005117148670912285, 0.00511760054784248, 0.005119614911898315, 0.005119601037704824, 0.005119793310713884, 0.005120401915530521, 0.005123713748269553, 0.00512378202743239, 0.005122693777136908, 0.005122737259556249, 0.005122756792891659, 0.005122803073231503, 0.005122801177754588, 0.005122849312290673, 0.005122647470766248, 0.005122718204956261, 0.0051227960272133746, 0.005122824670548389, 0.005122898131184271, 0.005122957132052115, 0.005122631467103195, 0.005122627354751075, 0.005122656489823513, 0.005122684921852242, 0.005122689653180815, 0.005122711387996793, 0.005122733292110224, 0.005122749683908615, 0.005122784810871943, 0.00512273544224158, 0.0051226724224858146, 0.005122694854418481, 0.005122696571144755, 0.005127889454368682, 0.005132182451579213, 0.005132194869398324, 0.005132991980654304, 0.005132982098724387, 0.005132980659339682, 0.005133003444209139, 0.005133038633304438, 0.005133046801389183, 0.005133053966192189, 0.005133058240309201, 0.005133081187491169, 0.005133099441084545, 0.0051331007649636304]\n",
      "runtime for all model:1119.0722751617432 seconds\n",
      "Finish all\n",
      "Starting ind\n",
      "[0.0010858649447376945, 0.0038843615703951424, 0.0038890395727863925, 0.003894788324063357, 0.003907604537804547, 0.003927045487705725, 0.0039582725557233715, 0.0039955540045900325, 0.004066170681918767, 0.004191377327157179, 0.004446183113825905, 0.005083432787440287, 0.004760329255546816, 0.004761946012139535, 0.004762175412541696, 0.004762250057423087, 0.004762314444143543, 0.004762540576127361, 0.004762522344991157, 0.0047625573856321605, 0.00476263442602345, 0.004762697512909131, 0.004762760995207436, 0.004762820930966345, 0.004762563990925126, 0.004762051382466695, 0.0047607252147482074, 0.004761173140200545, 0.004761175679971354, 0.004761168187558786, 0.004761171285090774, 0.004761172176574778]\n",
      "[0.002685317447754605, 0.0027639131979194415, 0.002712236222019197, 0.0025466079224578616, 0.0027705975840123286, 0.0026200928369865787, 0.002597131030516378, 0.0026917658000868917, 0.0027236626215475833, 0.002754496438588952, 0.0027647163412686413, 0.0027879560712312135, 0.0028147695122325523, 0.0028309627305769794, 0.0028371643077764216, 0.002845617038893143, 0.002847681681614512, 0.0028602821403545782, 0.0028843414956956576, 0.0028831273415860516, 0.00288877569629314, 0.002888816771113499, 0.002889203115932871, 0.002892926372069711, 0.0028960719455019645, 0.0028993264726999667, 0.002900146526880358, 0.002902328309919236, 0.0029028603279907697, 0.0029028682748449743, 0.002902793122604174, 0.002902643036552799, 0.0029024845894373118, 0.002903117557973544, 0.0029034087740075925, 0.0029032863516478486, 0.0029031345699660396, 0.0029030536190560842, 0.002902963061516649, 0.0029029093134497605, 0.0029031230839195047, 0.00290386890930024, 0.002904256220627901, 0.0029040710457701193, 0.0029039998939453973, 0.0029038872556548063, 0.002903889446892563, 0.0029040533549074777, 0.002903865204864869, 0.002903721091809043, 0.002903646440884574, 0.002903589680908551, 0.0029033751584681923, 0.002903208128969537, 0.002902987039441497, 0.0029032412282294978, 0.002903022585945222, 0.0029028821708761347, 0.002912967136540799, 0.002921403120327009, 0.002921399097963376, 0.002921099251464864, 0.0029207243513840937, 0.0029203266951488586, 0.0029202734920759344, 0.0029198135988523287, 0.0029193365269452884, 0.002919091462770786, 0.002920023944051533, 0.00291947087411942, 0.00291886932718229, 0.002940482425003366, 0.002905902923572494, 0.002906261274493989, 0.0029060378325559176, 0.002906030500081281, 0.0029060150416013193, 0.0029060154923741107]\n"
     ]
    },
    {
     "name": "stderr",
     "output_type": "stream",
     "text": [
      "\n",
      "Choose one progress bar: 5it [2:48:22, 2069.29s/it]\u001b[A"
     ]
    },
    {
     "name": "stdout",
     "output_type": "stream",
     "text": [
      "runtime for ind model:1575.0890879631042 seconds\n",
      "Finish ind\n",
      "Starting all\n",
      "[0.002144154308180791, 0.002245207097240222, 0.0025463490376151083, 0.0026269618650384755, 0.002543101111536017, 0.0026046178107443285, 0.0026060887316127898, 0.002616503831694929, 0.0026222342634555106, 0.0026694832030207715, 0.002666683737905715, 0.002685459402730443, 0.00270347306312368, 0.002705335327128415, 0.0027139311239904795, 0.002718989946888825, 0.0027205502368627824, 0.0027246767311608676, 0.0027269042075054664, 0.002727651709278114, 0.002729079702097189, 0.0027329813974244954, 0.0027332890955563674, 0.002733184522988169, 0.002733998842431436, 0.0027346203722, 0.0027349215089782658, 0.0027355741983192796, 0.0027367272647998366, 0.0027405831298746358, 0.002740333799399805, 0.0027405044633315796, 0.0027407396150240224, 0.0027408890305551997, 0.002740905065395681, 0.0027409571356086203, 0.0027409714034875065, 0.0027410646613038473, 0.0027409378544906594, 0.002740805153224714, 0.002740793629230277, 0.0027408598504025904, 0.0027409107301942645, 0.0027409224056436934, 0.0027410842295577565, 0.0027413142002664695, 0.0027416808758011246, 0.0027419361834478033, 0.002743243155833823, 0.002747127627569104, 0.0027445840500405416, 0.0027445840500405416]\n",
      "runtime for all model:709.6951398849487 seconds\n",
      "Finish all\n",
      "Starting ind\n",
      "[0.0001373217583163728, 0.00014028232923460023, 0.0001309131782021136, 0.0001383782886142003, 0.0001453569789278382, 0.00014729445461890916, 0.0001495577424758986, 0.00014969201597714977, 0.00015018918690698442, 0.00015133757192817992, 0.0001512447637240973, 0.0001514475858774878, 0.00015155131148037227, 0.00015165314849584235, 0.0001517843181374178, 0.00015190171295752938, 0.00015163008652843382, 0.00015176163133903662, 0.0001518255890717167, 0.00015197320099868418, 0.00015201775547643267, 0.00015206783238872168, 0.00015209427856007298, 0.00015210671310346581, 0.00015212015761025853, 0.00015216847226050872, 0.0001521802582403833, 0.00015224288283809963, 0.0001522430516104572, 0.0001522497914832843, 0.00015224533507570494, 0.00015224513066452137]\n",
      "[0.004220653240197006, 0.003945989870700318, 0.004194781030318346, 0.0044195108234492495, 0.004141492371616012, 0.004215131601746687, 0.004192109550089337, 0.004173978951588476, 0.004244490797314498, 0.004258431314893676, 0.004303628269196504, 0.004310520984040959, 0.004315015682269887, 0.00434450739726888, 0.004343199528638095, 0.004342985635595981, 0.0043484428864270785, 0.004350911096143121, 0.004352170071302572, 0.004354631813557839, 0.004362005403394633, 0.004363361112706207, 0.004365513041738159, 0.0043710579421214505, 0.004378880135481697, 0.004379773253577404, 0.004380357673483211, 0.004380929755319816, 0.004380342891280525, 0.004380510513252705, 0.00438058706931326, 0.004380728363489238, 0.004380365573014041, 0.004380725321578969, 0.004380775708264565, 0.004381027585760913, 0.004381193573352324, 0.004381486114026655, 0.004381849935143016, 0.004381624476533017, 0.004381618792196269, 0.004381787592163219, 0.0043819155762293265, 0.004381985672197328, 0.004382356499090827, 0.004382834010847025, 0.004383484582550156, 0.004383943752551826, 0.004386555156187997, 0.00439432263366826, 0.004389233813552065, 0.004389232313640719, 0.004389235777098119, 0.00438923477364513, 0.004389236612395387, 0.004389234875146018, 0.00438923331643125]\n"
     ]
    },
    {
     "name": "stderr",
     "output_type": "stream",
     "text": [
      "\n",
      "Choose one progress bar: 6it [3:20:45, 2026.25s/it]\u001b[A"
     ]
    },
    {
     "name": "stdout",
     "output_type": "stream",
     "text": [
      "runtime for ind model:1233.013917684555 seconds\n",
      "Finish ind\n",
      "Starting all\n",
      "[0.002241910430126063, 0.0023412097560973843, 0.002645533454738044, 0.004259583602491559, 0.0047523957340677644, 0.004968970085961611, 0.005042323188951759, 0.005047337103345588, 0.005043768678403071, 0.005051043918149821, 0.005076771559463902, 0.005094226850046827, 0.005087477068119367, 0.00510457243086338, 0.005111780802491498, 0.005117730526298883, 0.005121310384049404, 0.00512496693360647, 0.0051297673982296415, 0.005129742251098004, 0.0051314255591948035, 0.005131511383563683, 0.005131818152442425, 0.005132633822476229, 0.00513606732879795, 0.005149757095995107, 0.005157682251678438, 0.005157091392148821, 0.005163171157968946, 0.005163089082435148, 0.005164319789062226, 0.005164633005965711, 0.005164754926736093, 0.0051648342790596895, 0.005166520336246974, 0.005166435763954115, 0.005166626426191727, 0.005167169232109509, 0.00516730818999527, 0.005167248551242501, 0.0051673164546061955, 0.005167416750311027, 0.005167693907421598, 0.005167803919899573, 0.005167805825084657, 0.00516781130179964, 0.005167844672935658, 0.005167845061960472, 0.005167845061960472]\n",
      "runtime for all model:681.4166793823242 seconds\n",
      "Finish all\n",
      "Starting ind\n",
      "[0.0011278222871619883, 0.0012012832983042592, 0.001210922385446452, 0.001247094657058957, 0.001310649397457807, 0.0013983401389111845, 0.003126937549838265, 0.00322908459621912, 0.003429792200299834, 0.004072931720185209, 0.004779252208099449, 0.004779541921837456, 0.004779789754494598, 0.0047799652668278824, 0.004780077973270279, 0.004780333443746061, 0.0047804651435644375, 0.0047802483309937, 0.0047803764708683, 0.004780013152918513, 0.004780009156221, 0.004780060661135686, 0.0047797031817967215, 0.004779737172875586, 0.004779608143122696, 0.004778821844810727, 0.004779153877933825, 0.004779703131533985, 0.004779762314056819, 0.004779717024629553, 0.00477972318093625, 0.004779728297744956, 0.004779708534997195, 0.004779748359112574, 0.004779822281971814, 0.004779895287800565, 0.00478004747162028, 0.0047803322465302485, 0.004780339739657824, 0.004780370285006429, 0.004780343384304805, 0.004780325568859529, 0.004780323614127946, 0.004780323101864095]\n",
      "[0.0034600211749436496, 0.0035273771481573587, 0.003909162982062937, 0.004793647352466215, 0.004759498562291668, 0.004803811425340849, 0.0047779276311542464, 0.004721651507579152, 0.004710303460878717, 0.004725787093055418, 0.004764873442640876, 0.004781756982265384, 0.0048003278309027494, 0.004796451371505818, 0.004811072167688856, 0.004820029112763092, 0.004818388475542947, 0.00483063944552562, 0.0048258014207261685, 0.004831813680952082, 0.004833582602248525, 0.004833218095836753, 0.0048343657987517845, 0.0048547788424781, 0.00485315474797356, 0.004853876122671021, 0.004855130024992157, 0.004857757133834144, 0.004873727374631419, 0.004873912243045796, 0.004874222187764355, 0.004874353005496034, 0.004874463821797233, 0.0048745846801621345, 0.004874854512637498, 0.004875090099400192, 0.004875587510799558, 0.004876317092359913, 0.0048778344803644446, 0.004902561488885105, 0.004903025364598999, 0.004906607979294394, 0.004906605358671019, 0.0049066022253674, 0.004906599916503023, 0.004906669395059044, 0.00490666050515969, 0.004906643695096703, 0.004906637109926482, 0.00490675145081371, 0.004906805839710536, 0.0049068538064380015, 0.004906722114334282, 0.004906983805855813, 0.004907194557544127, 0.0049071640168151485, 0.004907150882278395, 0.00490722013162073, 0.004907220942979275]\n"
     ]
    },
    {
     "name": "stderr",
     "output_type": "stream",
     "text": [
      "\n",
      "Choose one progress bar: 7it [3:57:37, 2087.01s/it]\u001b[A"
     ]
    },
    {
     "name": "stdout",
     "output_type": "stream",
     "text": [
      "runtime for ind model:1530.6655623912811 seconds\n",
      "Finish ind\n",
      "Starting all\n",
      "[0.0021713351788358653, 0.002253874146394507, 0.002735987374242768, 0.0034590236373367987, 0.0034800552868889606, 0.0035042111041054353, 0.003507029559804669, 0.003512443690350838, 0.003538885357495142, 0.0035234467345019033, 0.0035346537464511748, 0.0035554968523275805, 0.0035617254649807756, 0.003559862321950343, 0.0035673388855215976, 0.003569026097816265, 0.0035693269249775644, 0.0035715749317848664, 0.0035729598120435727, 0.003574495141254473, 0.0035750727916854393, 0.003579771483826273, 0.0035794311567084085, 0.0035853499918634428, 0.0035853074099796273, 0.0035860027823623785, 0.0035866536681406318, 0.003586765519150557, 0.0035868506864399448, 0.0035883879432761666, 0.003588442586510673, 0.0035884871840612177, 0.0035883126063056513, 0.003588573725316646, 0.003589088168288754, 0.00358936547569531, 0.003589716529284563, 0.003590219356304511, 0.0035894883721150255, 0.0035895925898774606, 0.0035899422381475976, 0.003589136376580264, 0.0035897054813572374, 0.0035919663326987885, 0.0035921427049607894, 0.003591820573210995, 0.003592106452688618, 0.003592107076828375, 0.003592109120672214, 0.0035921150818552837, 0.003592135711706279, 0.0035921937882791603, 0.0035925665980829176, 0.0035925644986640262, 0.0035925643601314046]\n",
      "runtime for all model:740.6770951747894 seconds\n",
      "Finish all\n",
      "Starting ind\n",
      "[0.0010313480276987442, 0.0010268879531812136, 0.0010370272440792042, 0.0010545908940855116, 0.0010761555029266611, 0.001108523202519754, 0.0011602603194126352, 0.0012404181239274142, 0.0029522336846242022, 0.0030561526780245657, 0.004802900581450882, 0.004938919217236141, 0.005737761971027487, 0.005533811539406928, 0.005534517186805076, 0.005534551109610745, 0.005534563833726862, 0.005534645875893106, 0.005534691134470049, 0.0055348057157394645, 0.005534885210277987, 0.005534883998407946, 0.00553490213086216, 0.00553491966424235, 0.00553491555222514, 0.005534911834072441, 0.005534936916515375, 0.005534925615964884, 0.005534954455869378, 0.005534914630088627, 0.005534909882761776, 0.005534907224302228, 0.005534897333484742, 0.005534897221066076]\n",
      "[0.003353366589229368, 0.0035048752365860435, 0.003646276871163099, 0.004825303280035164, 0.004131009820402746, 0.004150000420572421, 0.004215022685443865, 0.0042357778151109835, 0.004302207400543957, 0.004333533825618073, 0.004348677844743359, 0.004332463710185925, 0.00434274534219496, 0.00436088902044855, 0.0043671340322043745, 0.004376865196308814, 0.0044070563542141, 0.00441030543034857, 0.004411233904479742, 0.004411903267251955, 0.004414912450014522, 0.0044216753780930386, 0.00442168438466204, 0.004421432174973643, 0.004421325206383329, 0.004421437700559464, 0.004421589512124969, 0.004421000756592433, 0.004422226487350994, 0.004422246137391045, 0.004422191724497029, 0.004422207416412768, 0.004422485455812399, 0.004422213961343871, 0.004422234796658828, 0.004422276923075762, 0.004422346909324217, 0.004422442517794797, 0.004422457336558485, 0.004422613846431939, 0.00442280646094498, 0.0044234637678773146, 0.004425391937540456, 0.004427127924346877, 0.004427126474608643, 0.004427127584701732, 0.004427125809992218, 0.004427123804273063, 0.00442712286721912, 0.004427123836101001, 0.004427124228307581]\n"
     ]
    },
    {
     "name": "stderr",
     "output_type": "stream",
     "text": [
      "\n",
      "Choose one progress bar: 8it [4:29:03, 2023.07s/it]\u001b[A"
     ]
    },
    {
     "name": "stdout",
     "output_type": "stream",
     "text": [
      "runtime for ind model:1145.5000171661377 seconds\n",
      "Finish ind\n",
      "Starting all\n",
      "[0.0016503718467009924, 0.0017260691227610752, 0.0019271709860242243, 0.0029044968961459685, 0.002903164618467151, 0.0033783012769467878, 0.0038256811111893837, 0.003809694306276977, 0.0038229266531188805, 0.0038499373071590555, 0.003852224673642504, 0.003856147332574507, 0.003860746568026608, 0.0038678065001413464, 0.0038788341016124245, 0.003898963784247783, 0.003906566588593809, 0.0039240281253307445, 0.003930176005162421, 0.003933459969244721, 0.0039352996268308795, 0.0039372825582907976, 0.003938410280052106, 0.0039385892237924994, 0.003941622965062939, 0.003942458857051559, 0.003943052203457012, 0.003942983398690212, 0.003942778615572562, 0.003943038624890684, 0.003945253683384229, 0.00394541989341841, 0.0039465882825973336, 0.0039477405100644, 0.003947787829675911, 0.003947865222297448, 0.00394785330309841, 0.003947897128966769, 0.0039482234190150725, 0.003948639311097226, 0.0039485653790615905, 0.003948545770231599, 0.003948739315112533, 0.0039490578795370514, 0.0039492877151057855, 0.003949278196087342, 0.0039494954080492965, 0.0039495443248494105, 0.003949538101323639, 0.00394954249175814, 0.003949574265905351, 0.003949649098199244, 0.003949664382415595, 0.00394968872246581, 0.003949781844251529, 0.003949872510250624, 0.003949950445429238, 0.003950009680585403, 0.003950041719270067, 0.003950112830070375, 0.003949932526497746, 0.003949676308874135, 0.003949749169092645, 0.003949807319082789, 0.003949918993926696, 0.003950148424278389, 0.003950383201478545, 0.003957104265598871, 0.003957141297978492, 0.003957140766520022, 0.00395716409200716, 0.003957154573062883, 0.00395714435143292, 0.003957128687217276, 0.003957164849415954, 0.003957146482731563, 0.003957133535671794, 0.0039571172297717064, 0.003957111950294152, 0.003957110707425901, 0.003957138800758652, 0.00395712332074564, 0.003957117409304363, 0.003957144992124466, 0.003957134223676239, 0.0039571202295330555, 0.003957112757065093, 0.004040659169831457, 0.004045067698442898, 0.004046432668830689, 0.004046901801882736, 0.004047388348399705, 0.004047476305474185, 0.004047155201564536, 0.004047394746825279, 0.004047381559785466, 0.004047381541567732]\n",
      "runtime for all model:1563.8731970787048 seconds\n",
      "Finish all\n",
      "Starting ind\n",
      "[0.0010947248741021718, 0.002990663592884341, 0.0029796666725123338, 0.002998896234376553, 0.0030312901647261982, 0.0030720266377424264, 0.0031490847695624714, 0.003281351160320459, 0.00471224054776432, 0.004725728242449559, 0.004748547477743075, 0.0046873442558430355, 0.004687577506459618, 0.004687738277572592, 0.0046878441167727564, 0.004688016557363001, 0.004688122527846559, 0.004688204508995547, 0.004688256418948969, 0.004688317769119595, 0.004688377443605332, 0.004688383873535517, 0.004688376089141524, 0.004688414778296471, 0.004688374684694574, 0.004688360454007034, 0.004688356062808928, 0.004688373698628722, 0.004688373030566244]\n",
      "[0.0023502617603074643, 0.002385436844524219, 0.00247708376085738, 0.002337825331356814, 0.0023416249362672613, 0.0024550988351987866, 0.002438961820281019, 0.0025821815605344967, 0.002620808575474994, 0.0026639488001094984, 0.002693877575696799, 0.0027168225825158912, 0.002711762510312829, 0.0027275826538587537, 0.00274219690243733, 0.0027383967215471707, 0.002744929235268757, 0.0027440246154016483, 0.0027433302268477385, 0.0027440089957939083, 0.0027538025450968297, 0.0027595090477796386, 0.00276068257861976, 0.0027647750646599663, 0.0027804016510882034, 0.002781567978125575, 0.0027812418206274872, 0.0027893587640484678, 0.002789790815844692, 0.002789731540682338, 0.0027906331031838294, 0.0027953258043061898, 0.0028051095520126947, 0.0028038017072642353, 0.002803491599820028, 0.0028032214902490972, 0.0028038722339231432, 0.002803462734790497, 0.0028035528070550196, 0.0028035672372166923, 0.0028042433513545237, 0.0028041472727353247, 0.002803977507627251, 0.0028041877728644687, 0.002804349714340954, 0.002804604222583319, 0.002804838669462648, 0.0028048556010071305, 0.002805453869999896, 0.0028061783060924243, 0.0028077745937616578, 0.0028103455120069365, 0.002814466384114387, 0.002824372313579839, 0.0028512807442212717, 0.0029591273751242574, 0.0029589515212546983, 0.002958848134124459, 0.0029587721146555716, 0.0029587020504650446, 0.002958636338945829, 0.0029585134723142, 0.0029584559767454376, 0.002958208322990171, 0.002958125940430448, 0.002958025842174955, 0.002966325875683387, 0.00296835689589492, 0.0029687181057557123, 0.002968784991062508, 0.002968772711982792, 0.002968773713600586, 0.002968758055744579, 0.002968744569081217, 0.002968732218916748, 0.002968730259329665, 0.002968755733132332, 0.0029688103332209696, 0.0029687965249651843, 0.002968812805891204, 0.0029688126726028375]\n"
     ]
    },
    {
     "name": "stderr",
     "output_type": "stream",
     "text": [
      "\n",
      "Choose one progress bar: 9it [5:24:13, 2425.39s/it]\u001b[A"
     ]
    },
    {
     "name": "stdout",
     "output_type": "stream",
     "text": [
      "runtime for ind model:1746.1359312534332 seconds\n",
      "Finish ind\n",
      "Starting all\n",
      "[0.001053560528774804, 0.0039140469399754985, 0.004299211397113633, 0.004301192456312647, 0.004327038533103947, 0.004767484631772041, 0.004777678317572786, 0.004787231196377041, 0.004802381867817231, 0.004811104396531216, 0.004823008645950693, 0.004836192844943792, 0.004843051053250158, 0.00487176378277032, 0.004874524328440773, 0.004883543429991704, 0.004889738677228973, 0.004897213487369397, 0.0048981403738080605, 0.004897860811888759, 0.004898945386132232, 0.004899276171372245, 0.004899824630375802, 0.004900022631795209, 0.00490019958776918, 0.004900907411859072, 0.004903267623913378, 0.00490428348628542, 0.004904478689155931, 0.004904508256292827, 0.004904773970169923, 0.004905529718745345, 0.0049072151179551824, 0.004907820534581574, 0.0049080082365191065, 0.004908240475807001, 0.0049085842118996425, 0.004908955757620387, 0.0049098657325116115, 0.004909705471833874, 0.004911594900043267, 0.004915337164574652, 0.004912894256591814, 0.004912884298729113, 0.004912941350331684, 0.004913366950630563, 0.004913374581215859, 0.004913380154346359, 0.004913397295331438, 0.004913454323032167, 0.004913397954783983, 0.004913428077512569, 0.004913428077512569]\n",
      "runtime for all model:740.3928580284119 seconds\n",
      "Finish all\n",
      "Starting ind\n",
      "[0.001127260795985918, 0.001171073444825021, 0.0011819035559569313, 0.0012086251981656285, 0.0012477278694375082, 0.0012938660051070906, 0.0013829440687311372, 0.0015488683764823647, 0.0018969497177334902, 0.002811595663042658, 0.006671783120040631, 0.006611924976879699, 0.006613628922946884, 0.0066142118884102655, 0.006615610138757183, 0.006615497515583993, 0.0066155830749620005, 0.0066156477598256404, 0.0066156179631156374, 0.006615658611857591, 0.006615610381622597, 0.006615643832619136, 0.0066159519747202925, 0.00661605670350138, 0.0066162067072224745, 0.006616278864355162, 0.006616307555405857, 0.006616320024112281, 0.006616333991306555, 0.0066164108217057664, 0.0066164142263407414, 0.006616426043438485, 0.006616431241609629, 0.006616436146757292, 0.006616443293008649, 0.006616445640911547, 0.006616452812189066, 0.006616460341946245, 0.006616466104226798, 0.006616425616411704, 0.006616429138043963, 0.006616383692322272, 0.006616427822191665, 0.006616533010484049, 0.006616533483432378]\n",
      "[0.0010616316536960124, 0.0010742423700395567, 0.0011711141210887948, 0.0012509721946407358, 0.001509667802581875, 0.0014852692685965235, 0.001483315130744172, 0.0015152557470304493, 0.0015486960292143334, 0.0015838936926104552, 0.0015886687017738813, 0.001627778933124636, 0.0016312941217116398, 0.001631840332265885, 0.0016379110799726506, 0.0016487663647572325, 0.0016558038133721378, 0.0016579916869659378, 0.0016601275646645698, 0.0016605619366495366, 0.0016608513985413899, 0.0016608065850860058, 0.001660905858715029, 0.001661419167107718, 0.0016633674918673648, 0.0016627724371097168, 0.0016627149420869417, 0.001662679137696355, 0.0016628316836718598, 0.0016629392856671431, 0.0016627655332914152, 0.0016622556029759182, 0.0016623249646663836, 0.001661645824899843, 0.0016617514985522812, 0.0016629967310634348, 0.0016646466407118175, 0.001665233953978064, 0.0016666552229213077, 0.0016705533604578222, 0.0016720352446495297, 0.0016748206733825978, 0.0016812858947345727, 0.0017151873862777899, 0.001742807552583756, 0.0017428146722821426, 0.0017428109163642972, 0.0017428253126032293, 0.001742833741681798, 0.0017428309888573965, 0.0017428270822402974, 0.0017428273374911446]\n"
     ]
    },
    {
     "name": "stderr",
     "output_type": "stream",
     "text": [
      "\n",
      "Choose one progress bar: 10it [5:59:36, 2157.70s/it]\u001b[A"
     ]
    },
    {
     "name": "stdout",
     "output_type": "stream",
     "text": [
      "runtime for ind model:1383.135201215744 seconds\n",
      "Finish ind\n",
      "MSE all: 0.02046941599505816\n",
      "MSE ind: 0\n",
      "for ind was chosen\n"
     ]
    },
    {
     "name": "stderr",
     "output_type": "stream",
     "text": [
      "\n"
     ]
    },
    {
     "name": "stdout",
     "output_type": "stream",
     "text": [
      "[0.0009916546577186636, 0.0010475369305719996, 0.001057195255152546, 0.0010691514648839132, 0.0010938455534246904, 0.001118583275647037, 0.0011586521491851686, 0.00123038262632916, 0.0013439207235925064, 0.001551279268291257, 0.001997018710804037, 0.006009460242599253, 0.0067262163704343665, 0.006726243256931282, 0.006726096113943936, 0.006726207000170434, 0.006726325835360304, 0.006726417970212502, 0.006727059415031583, 0.0067270858781533546, 0.006727174691656125, 0.006727052910884802, 0.006727154717605255, 0.0067271637967014405, 0.006727176475696958, 0.006727214098288104, 0.006727177791138385, 0.006727176531786401, 0.006727177218031689, 0.0067271791701587315, 0.0067271839452232585, 0.006727186589646554, 0.006727192991173398, 0.006727194775276337, 0.00672721138269147, 0.00672721121646533]\n",
      "[0.0031861038067013204, 0.00325489297186063, 0.0033665312413881945, 0.003998798048264513, 0.003908390077363273, 0.003896978339175165, 0.003952285848215037, 0.004076630405284243, 0.004119087005138588, 0.004134046909751917, 0.004152128516304785, 0.0041731067577278035, 0.004194935672789063, 0.004203989472933827, 0.004214954945736889, 0.0042191634818426835, 0.0042180366524131015, 0.004222301233465878, 0.004201616347589633, 0.00420113809789689, 0.0042020082711797385, 0.004218138445909893, 0.004219508452826632, 0.0042371253552826145, 0.004243996652467372, 0.004249440835946293, 0.0042498901494309625, 0.004250058796630832, 0.004250441200950706, 0.004250671869355326, 0.004250686765374436, 0.004250689349203993, 0.004250689759834341]\n"
     ]
    },
    {
     "name": "stderr",
     "output_type": "stream",
     "text": [
      "CV progress bar: 8it [47:22:07, 21541.18s/it]"
     ]
    },
    {
     "name": "stdout",
     "output_type": "stream",
     "text": [
      "runtime for ind model:998.8295426368713 seconds\n",
      "runtime for choose one model:22575.821484327316 seconds\n",
      "starting choose one model\n"
     ]
    },
    {
     "name": "stderr",
     "output_type": "stream",
     "text": [
      "\n",
      "Choose one progress bar: 0it [00:00, ?it/s]\u001b[A"
     ]
    },
    {
     "name": "stdout",
     "output_type": "stream",
     "text": [
      "Starting all\n",
      "[0.0017612457236564727, 0.0017770191814319343, 0.001906596937564213, 0.0018612839500250175, 0.0019678112691376886, 0.002058180502955288, 0.002079221258169086, 0.002097913829395668, 0.0021205067715853914, 0.002100542042242931, 0.0021332175864474034, 0.0021360219950014464, 0.002158617249337883, 0.0021601827309239313, 0.002164492878353281, 0.002162547128797869, 0.0021634431652101486, 0.002165382763000959, 0.002165727544139623, 0.0021619909225829284, 0.0021510510860917485, 0.0021271712184307346, 0.002128028676618549, 0.0021283556316351515, 0.002128552353326644, 0.0021288618694653774, 0.002128989319631856, 0.0021287294295977374, 0.002129273057940671, 0.002129763828968182, 0.0021302010371940412, 0.0021304284667155076, 0.002130556882690353, 0.002130714110399807, 0.0021308101045760027, 0.002131050405835503, 0.002131553199056073, 0.0021319728949153044, 0.0021325014321173785, 0.0021350762267506066, 0.0021341918718261787, 0.00213419204074503]\n",
      "runtime for all model:543.8369519710541 seconds\n",
      "Finish all\n",
      "Starting ind\n",
      "[9.329405506170905e-05, 9.357094587869576e-05, 8.815082087418289e-05, 8.897282186248807e-05, 8.80609460547846e-05, 8.93081682548137e-05, 8.917106741821412e-05, 8.909422786276445e-05, 9.119189968241852e-05, 9.266324687454749e-05, 9.238205301625679e-05, 9.293343243421867e-05, 9.289976830987443e-05, 9.298465828836394e-05, 9.289257031371564e-05, 9.293659796558763e-05, 9.297887289877165e-05, 9.30304806371605e-05, 9.307375052575588e-05, 9.31112271919318e-05, 9.307780653677728e-05, 9.308365105027808e-05, 9.311830430236861e-05, 9.31197104643035e-05, 9.311845365491622e-05, 9.318483009253846e-05, 9.31814402368402e-05, 9.317856222430418e-05, 9.317396246954561e-05, 9.317833320080502e-05, 9.31716831001841e-05, 9.316716209708338e-05, 9.316594729303673e-05, 9.31691216878878e-05, 9.317068328471619e-05]\n",
      "[0.0034168248264149054, 0.003467250917258966, 0.003860299545271012, 0.0038434890934900415, 0.004130282040404029, 0.0043670850272209474, 0.004427041827149399, 0.004416692551109434, 0.004475731389313999, 0.004473160358198427, 0.0045171432676769045, 0.004518653317136457, 0.004446366496898559, 0.004457851783464362, 0.004469302708014929, 0.004477519058313249, 0.004476942193874282, 0.004476094222690756, 0.004480527109926595, 0.004481734261314621, 0.004484273952450256, 0.004485345803624695, 0.004486114533570737, 0.0044861248944685845, 0.004486303188273182, 0.00448757697678995, 0.004487647315225033, 0.004487591520661906, 0.004487638923964974, 0.0044877756314372266, 0.004487939975290104, 0.0044880914658254585, 0.004488929903870923, 0.004488954748460176, 0.00448894501644114, 0.004488932486218735, 0.004488889249399771, 0.004488932013569362, 0.004488925200211364, 0.004488924875039151, 0.0044889236763526585]\n"
     ]
    },
    {
     "name": "stderr",
     "output_type": "stream",
     "text": [
      "\n",
      "Choose one progress bar: 1it [25:59, 1559.87s/it]\u001b[A"
     ]
    },
    {
     "name": "stdout",
     "output_type": "stream",
     "text": [
      "runtime for ind model:1016.033641576767 seconds\n",
      "Finish ind\n",
      "Starting all\n",
      "[0.0027339805075537772, 0.004075405263657917, 0.004294463575840081, 0.0043038168383942215, 0.005206145154033022, 0.005300159519648092, 0.005624159928396953, 0.005635912431413976, 0.00563559341292936, 0.0056527263460054615, 0.005667624011222692, 0.005684085464953239, 0.005692907294149878, 0.0056976085173047865, 0.005695646923563853, 0.005698979038704093, 0.005701424357900142, 0.005705561964458269, 0.005707618998868702, 0.005710381009171076, 0.005966753571405329, 0.006047902550076136, 0.006049206192715852, 0.006053879984816488, 0.006055515177894395, 0.0060550409001267555, 0.006055243052043436, 0.006055766367003776, 0.006056083001486487, 0.006056570564478787, 0.0060564395746205354, 0.0060562894504828544, 0.00605734568862566, 0.006058562962595301, 0.006057634559330954, 0.006057847753299631, 0.006057786993745931, 0.006057811151742547, 0.006057828554475441, 0.006057890531062163, 0.006057926185753984, 0.006057956592406646, 0.006057966501433363, 0.006057965599728629]\n",
      "runtime for all model:618.0418190956116 seconds\n",
      "Finish all\n",
      "Starting ind\n",
      "[0.0012088096849818943, 0.002059285432946215, 0.002046127166626054, 0.002102834064066355, 0.00212401259966267, 0.0029225986976013298, 0.002934703198061595, 0.0029562689833622408, 0.0030044166198157887, 0.00289847588724426, 0.0028998933912040272, 0.0028927993133902176, 0.00288654591553283, 0.0028866866502244943, 0.0028868915451370505, 0.0028868867207866153, 0.002886975243117196, 0.002886993383163886, 0.0028870246906897183, 0.002887461831302178, 0.0028875242609896845, 0.002887527151541216, 0.002887552555394546, 0.002887550317155936, 0.002887604411025189, 0.0028876273299307774, 0.0028876543811551967, 0.0028876595012648984, 0.0028876842577595222, 0.0028876891403471, 0.0028876917942152955, 0.0028876998504762078, 0.0028877039440670395, 0.0028877037985848304]\n",
      "[0.004436177267631012, 0.007088995603934801, 0.00666668375598133, 0.006460446525680373, 0.006291517692168673, 0.006335442363431497, 0.006443774282977063, 0.006496303333215464, 0.0064960402942769585, 0.006473142096484601, 0.0064625482143108965, 0.006478017006962086, 0.0064820980231167944, 0.006501454313314589, 0.006517490754097549, 0.006538543231325333, 0.0066934746491413314, 0.0066956541005121495, 0.0066967207392759605, 0.0066997403454854085, 0.006698825129621519, 0.006699702537017374, 0.006699903780324573, 0.006700337203663936, 0.00669981283347369, 0.006699929627345264, 0.006700486517115277, 0.006701361376457664, 0.006701399839530086, 0.006701891228573176, 0.006701829838918291, 0.006711145202506314, 0.006738284723441211, 0.006740526512195769, 0.006738772691316103, 0.006740838394926588, 0.006742809840959585, 0.006743040660959508, 0.0067477690598892635, 0.0067475693282654375, 0.006748557820156789, 0.006750791184606408, 0.0067514342464361585, 0.006751093844815247, 0.006751376006066406, 0.006751689649453857, 0.006751747339974359, 0.006751744359064104, 0.0067517903794149835, 0.006751846227365338, 0.006751834579338303, 0.006751961389699271, 0.00675280274610181, 0.006752741909068394, 0.006752790610006219, 0.006752794546981441, 0.006752794546981441]\n"
     ]
    },
    {
     "name": "stderr",
     "output_type": "stream",
     "text": [
      "\n",
      "Choose one progress bar: 2it [58:45, 1798.56s/it]\u001b[A"
     ]
    },
    {
     "name": "stdout",
     "output_type": "stream",
     "text": [
      "runtime for ind model:1347.5922057628632 seconds\n",
      "Finish ind\n",
      "Starting all\n",
      "[0.003558428771631295, 0.0034483308676096598, 0.003463078255126783, 0.005615175036943372, 0.005697423561156919, 0.005662515954672489, 0.005652642637269127, 0.005667242487624233, 0.005683581700194678, 0.005695014517814541, 0.005716759995720472, 0.005720927048109648, 0.005731612955820575, 0.005764829261207626, 0.005772121007064998, 0.005778110920121915, 0.005785695903263657, 0.005793277697434656, 0.005795371578505913, 0.005798326691504091, 0.005799381773277701, 0.005802204063736124, 0.005802787712090562, 0.005803657008242316, 0.0058040912865987195, 0.005804133230027908, 0.005804261671100541, 0.005804329185554825, 0.005804523257025826, 0.005804680696526692, 0.005804516828958143, 0.005803920863315493, 0.005804382743109159, 0.005813513658991093, 0.005814319666922881, 0.00581436078940731, 0.005814752125502645, 0.005811407812864594, 0.0058126553212872935, 0.005819121127923213, 0.005818093642107735, 0.0058157794405565896, 0.005815804296823516, 0.005815911760937923, 0.0058158911570523894, 0.005815928835340627, 0.005815903730157684, 0.0058158946495444255, 0.0058158946495444255]\n",
      "runtime for all model:691.2207968235016 seconds\n",
      "Finish all\n",
      "Starting ind\n",
      "[0.0011362608344313609, 0.0011437162006607813, 0.0011463109047805263, 0.0011709310186072482, 0.0011926856192865623, 0.0029614593409981226, 0.0029729134043849055, 0.002982041788963352, 0.0030019969636473566, 0.003863502142729443, 0.0038915230066340683, 0.0039426988603526916, 0.004050494550970875, 0.004732613599357759, 0.004732138208943677, 0.004732365479422841, 0.0047324219345738746, 0.0047325450887453786, 0.0047318653964531394, 0.004732376250506563, 0.0047327706220484465, 0.004732523322228233, 0.004732642460141464, 0.004732660737290992, 0.004732669358677664, 0.004732679882647481, 0.004732685543920424, 0.004732685938365936]\n",
      "[0.0060820418554856995, 0.005871422374961219, 0.006026709825625502, 0.007471457405015991, 0.007224550636147717, 0.007402203756164702, 0.007560252707237694, 0.00755378978110152, 0.007544730420459408, 0.007545172959236485, 0.007548487421877276, 0.007612108640009987, 0.007607569933196119, 0.007622639310265025, 0.007626115610327211, 0.007628911444559412, 0.0076309476097424014, 0.007633740532571105, 0.007634201101625588, 0.007638446407245333, 0.007639961053785327, 0.007639417047052938, 0.007640466852851309, 0.0076409808563955, 0.007642513783623249, 0.0076431899148825255, 0.007643525014780486, 0.007643647765716337, 0.007643903525448371, 0.007643918388994064, 0.007643995045110816, 0.007644202431581199, 0.007661305151154564, 0.00766136863247428, 0.007661393345077897, 0.007661435859684848, 0.007661549685882255, 0.007661739103391638, 0.007662616476017192, 0.007662616539386569]\n"
     ]
    },
    {
     "name": "stderr",
     "output_type": "stream",
     "text": [
      "\n",
      "Choose one progress bar: 3it [1:24:49, 1691.66s/it]\u001b[A"
     ]
    },
    {
     "name": "stdout",
     "output_type": "stream",
     "text": [
      "runtime for ind model:873.2235147953033 seconds\n",
      "Finish ind\n",
      "Starting all\n",
      "[0.0022284071041007844, 0.002232812780377458, 0.0021693382789515466, 0.0023337687565121662, 0.002778494975478499, 0.0033258265255711058, 0.0037801614276188563, 0.0044772829668172, 0.004491922901117209, 0.0044968590462201915, 0.004517828858603532, 0.004560372827830851, 0.004748379764289708, 0.004746569383525544, 0.004755707187376931, 0.004763660971968008, 0.004773150770793573, 0.004775151912757543, 0.004774973590199565, 0.004774018810854834, 0.004772811706908038, 0.004787439711270755, 0.0047882499712244755, 0.004789417462649119, 0.0047897711242006315, 0.004789932546360527, 0.004789892637113881, 0.004790115556636647, 0.004790162219790513, 0.004790301896836699, 0.004790418947143596, 0.004790970507052917, 0.004791071556275674, 0.004791083831673738, 0.004791093888759715, 0.004791105451672662, 0.004791126288248191, 0.004791165477303607, 0.0047911684193781955, 0.004791169767911948, 0.004791180325276296, 0.00479118872272693, 0.004791187958318005]\n",
      "runtime for all model:587.7092769145966 seconds\n",
      "Finish all\n",
      "Starting ind\n",
      "[0.0011037315665734537, 0.001138250002597174, 0.001149918038184185, 0.001173279349359737, 0.0011893199454850502, 0.0012137387596909389, 0.0030279377811083035, 0.00474904577346568, 0.004694373400076629, 0.0046966745117140996, 0.0047018381094957006, 0.0046961722281735774, 0.00469665752364889, 0.004696494508972101, 0.004696902873209298, 0.004697254899202192, 0.004697484574927404, 0.0046974232998607725, 0.004697567093229621, 0.0046976051447882835, 0.004699393276170093, 0.0046996116517636485, 0.004699761929017183, 0.004699536315665569, 0.004699468067717707, 0.0046994854561542765, 0.004699484519888692, 0.004699472037839207, 0.004699490079590057, 0.00469948890221069, 0.004699493646750241, 0.004699498588913421, 0.0046994974791855024]\n",
      "[0.0033962915044477016, 0.00319631922126282, 0.003210734973051249, 0.003346586733508712, 0.004022036693761903, 0.004178030905132772, 0.004316671971159279, 0.0044105333857834324, 0.004338459912631441, 0.004350562022542108, 0.0043443715130974635, 0.004367254705068303, 0.0043778203393426375, 0.004384340093815951, 0.004403561077282002, 0.004405244703221025, 0.004410868305860089, 0.004416896345510514, 0.004415512396058173, 0.004416456371612456, 0.004417993503285896, 0.004417473944513323, 0.004417530861650414, 0.004418303899970143, 0.0044183697410048245, 0.004419159115040033, 0.004419224093678653, 0.0044194347494282745, 0.0044211660224386645, 0.004421509980359133, 0.004423678857229231, 0.0044237417295500975, 0.004423750571978714, 0.004423772205760167, 0.0044238186989674425, 0.004424062707289109, 0.004424061595116291]\n"
     ]
    },
    {
     "name": "stderr",
     "output_type": "stream",
     "text": [
      "\n",
      "Choose one progress bar: 4it [1:49:56, 1618.53s/it]\u001b[A"
     ]
    },
    {
     "name": "stdout",
     "output_type": "stream",
     "text": [
      "runtime for ind model:918.710921049118 seconds\n",
      "Finish ind\n",
      "Starting all\n",
      "[0.0023343726567484437, 0.002123123702740476, 0.0023677502908170185, 0.002800823439942608, 0.0030312002262457673, 0.0030491256214377005, 0.0030271204314936085, 0.003052082367035747, 0.003063247618508799, 0.0030700366320223263, 0.003075813051767785, 0.003085585643359933, 0.0031021250255271046, 0.0031249950220186896, 0.0031335757511999083, 0.0031373362126679337, 0.0031438737186157625, 0.0031449319422660674, 0.0031488257136968447, 0.003149431029439849, 0.0031496548826330595, 0.0031532338935120014, 0.0031535778712798264, 0.0031545010537826373, 0.0031535549849841956, 0.003155512202058182, 0.0031557715660940366, 0.0031561043365835413, 0.003157695269613961, 0.003158602660534164, 0.0031583009952309547, 0.0031583503217382193, 0.0031586875197998085, 0.0031586981687092217, 0.003158850529549807, 0.003158872067921005, 0.003158866796554772, 0.003158847627469262, 0.0031588484043712887]\n",
      "runtime for all model:515.4648032188416 seconds\n",
      "Finish all\n",
      "Starting ind\n",
      "[0.0010641816516263202, 0.001102859145910382, 0.0011091633957129822, 0.0011070469196388607, 0.0011134662085359698, 0.0011183065521843353, 0.0011281237282501043, 0.0011444140697019064, 0.001168177154940545, 0.0012006815655387561, 0.001248707830222941, 0.001339655866839678, 0.0021542820782153188, 0.00206228987898362, 0.0020001824902096317, 0.002000440085407984, 0.0020004829868496554, 0.0020005630926859426, 0.0020006802209979824, 0.002000763410021461, 0.002000801381668, 0.0020008563240006805, 0.0020007733751542653, 0.0020008203332076277, 0.002000865758553153, 0.002000710794858391, 0.0020006389823267108, 0.002000589978494958, 0.0020006781113263775, 0.002000689004844755, 0.002000705303468094, 0.0020008098203775763, 0.002000720304558005, 0.0020011091418080168, 0.0020004851101207313, 0.002000495215834949, 0.002000512244092041, 0.002000532199983804, 0.002000552192686976, 0.002000580584493975, 0.0020005847382944877, 0.0020006131513277165, 0.002000567618730126, 0.0020011143098017338, 0.002001116580516752, 0.0020011116085382366, 0.002001125057006742, 0.0020011512306231387, 0.002001174444673105, 0.002001197935362641, 0.0020012320687671802, 0.002001277577984308, 0.0020013512921821597, 0.0020014534139863975, 0.002001590909088181, 0.0020017212999862274, 0.002002158112991699, 0.002009354608728438, 0.002009372840006654, 0.002009372048060824]\n",
      "[0.0036392508246947926, 0.003294090507182794, 0.003466570938049071, 0.003814630815973493, 0.00393586505938719, 0.003909462219908651, 0.004089774826491005, 0.004148546582764798, 0.004155474354499996, 0.004175994637168533, 0.004193018839112195, 0.004203283215216416, 0.004210087603985572, 0.004208401275536925, 0.004212620635109067, 0.004211439108879842, 0.004216711634258569, 0.004223441247908901, 0.004226795528078113, 0.004226543118743085, 0.004227359212569233, 0.004228452563528688, 0.0042289024599713185, 0.004229646016568893, 0.004229946340806722, 0.004230629789039088, 0.004231445055378444, 0.004232135561944081, 0.004234513532659951, 0.004267203180459557, 0.0042671846613098075, 0.004267494028748585, 0.004267632360369936, 0.004267639759912208, 0.00426763851553724, 0.004267639245871758, 0.00426763433851561, 0.00426764121205598, 0.004267676241031283, 0.004267770398762201, 0.004267946597284472, 0.004268212818684786, 0.004268429724132445, 0.004268463514551549, 0.004268463514551549]\n"
     ]
    },
    {
     "name": "stderr",
     "output_type": "stream",
     "text": [
      "\n",
      "Choose one progress bar: 5it [2:25:50, 1811.62s/it]\u001b[A"
     ]
    },
    {
     "name": "stdout",
     "output_type": "stream",
     "text": [
      "runtime for ind model:1638.5104966163635 seconds\n",
      "Finish ind\n",
      "Starting all\n",
      "[0.003272219125244681, 0.003921893229802109, 0.003891147243227714, 0.00399119121072692, 0.003925156508910409, 0.004468291182953233, 0.004534828282021093, 0.004679201881927675, 0.004748931784730183, 0.005054058755657982, 0.005039831520248882, 0.005045914167407372, 0.005053744968347353, 0.0050719335787828956, 0.005072773509360069, 0.005070550780295186, 0.005073589323389534, 0.0050721617606649975, 0.005074143356952713, 0.005074849673061819, 0.005075924055558524, 0.005076712345957801, 0.005077631447885852, 0.00507835848849701, 0.005078489928371626, 0.005078531648129903, 0.0050786716397387, 0.005078966250082441, 0.005079137317520301, 0.005079252657113467, 0.005079251546793737]\n",
      "runtime for all model:367.0698928833008 seconds\n",
      "Finish all\n",
      "Starting ind\n",
      "[0.0011067517101165784, 0.0011770059432350912, 0.001605880381967174, 0.0020763633248523203, 0.002087258166730655, 0.002102482724468055, 0.002120554667607566, 0.003933282951501023, 0.0039515835621839485, 0.003974856776246813, 0.003955634702436802, 0.004000786584153626, 0.004085577162151505, 0.0043522551957907085, 0.003872088967415462, 0.0038722709712402034, 0.003872467368321122, 0.0038724336316600253, 0.0038727970107607238, 0.0038732262091990695, 0.003873269515441173, 0.0038732911299163195, 0.0038732554507040105, 0.0038732793586994316, 0.003873324813346368, 0.0038733658863287683, 0.003873392392194927, 0.003873399262623764, 0.0038734119142103812, 0.0038734414407405513, 0.0038734452168949158, 0.0038734539443809985, 0.0038741765858490763, 0.0038742134302436415, 0.0038742340709021555, 0.003874220249130731, 0.003874226011918182, 0.0038742176254743382, 0.00387420189273871, 0.003874208726880695, 0.0038742229289373984, 0.0038742092552299595, 0.00387421550106654, 0.0038741906002484282, 0.003874183617762446, 0.003874180040697405, 0.003874183303952163, 0.0038741846051214618]\n",
      "[0.005508457072974723, 0.00680220116678191, 0.006802016038831947, 0.006811138727340469, 0.006806949383327973, 0.007511783402174564, 0.007596637603613253, 0.008078832236050867, 0.008022959767925551, 0.007972451675512682, 0.007977673321993617, 0.007979292569081762, 0.00799390240249345, 0.008000999851477642, 0.008025489154586278, 0.008031192874736389, 0.008033982205598878, 0.008045318083928308, 0.008048142600329619, 0.008049688057001115, 0.008052003240488834, 0.008053611210320276, 0.008055291899665033, 0.008055891338684779, 0.00805635455778465, 0.008056761009491407, 0.008057060109198154, 0.00805767818819226, 0.008057953536803924, 0.008057940985316859, 0.008057991441435392, 0.008057995907573634, 0.008057994255928642, 0.008057994904547824]\n"
     ]
    },
    {
     "name": "stderr",
     "output_type": "stream",
     "text": [
      "\n",
      "Choose one progress bar: 6it [2:51:55, 1727.98s/it]\u001b[A"
     ]
    },
    {
     "name": "stdout",
     "output_type": "stream",
     "text": [
      "runtime for ind model:1198.5483627319336 seconds\n",
      "Finish ind\n",
      "Starting all\n",
      "[0.0031934607271701153, 0.00407164056781997, 0.004096841931853947, 0.005293722232091573, 0.005573948317562763, 0.006963300193233664, 0.00693131988329689, 0.006967453469681991, 0.006965734027487641, 0.006968987295159898, 0.006973256234230792, 0.006977376255859966, 0.0069864386297295135, 0.006987844476010478, 0.007012324313649468, 0.0070294047643145105, 0.007030893960552789, 0.007031836183017401, 0.007037196660606171, 0.00703679446262877, 0.007037887720393821, 0.0070378963659378235, 0.007038184780446613, 0.007039575746580577, 0.0070401011881644285, 0.00704011251443014, 0.007040097510669026, 0.007040589363540605, 0.00704070485770391, 0.0070414381284985995, 0.007040725949563212, 0.007041797731176347, 0.007041783124087308, 0.007041783809220365]\n",
      "runtime for all model:424.10308861732483 seconds\n",
      "Finish all\n",
      "Starting ind\n",
      "[0.0011466413661152769, 0.0013755064954559253, 0.0020785355367403885, 0.0020893578543572672, 0.0021229342664135916, 0.0021610956749736816, 0.0030299902030928466, 0.0030554965450573478, 0.0030960021273871868, 0.0039701526698133795, 0.004029844845223608, 0.004160738028605374, 0.004800781504913522, 0.004800916955678711, 0.004800911783505324, 0.0048010625029533145, 0.004801181206724857, 0.004801122713903153, 0.004801220389871399, 0.004801254390551143, 0.004801431677723593, 0.004801547754954739, 0.004801662503653649, 0.0048025283805711114, 0.004802487834708396, 0.0048025050404756275, 0.004802513278640462, 0.004802485894447048, 0.004802479791586636, 0.004802476578497351, 0.004802480763317629, 0.004802511708057301, 0.004802533133337472, 0.004802561667665026, 0.004802648951942806, 0.004802652954946656, 0.0048026569981467595, 0.004802657947240911, 0.0048026587623259415]\n",
      "[0.005352213256457758, 0.0070547470470478536, 0.007012571885741989, 0.007076840789917232, 0.006847228670584132, 0.006923642597956882, 0.006902603429353772, 0.006854297411471089, 0.006828292824634095, 0.006867667374102636, 0.006884692211609085, 0.006918143399178835, 0.006915722117990753, 0.006947209919343814, 0.006956161405719867, 0.006963117586378928, 0.006963716329765961, 0.006965375648493001, 0.006967323645749775, 0.0069725272542266, 0.006970714534245781, 0.006976983673810865, 0.0069844786515936815, 0.0069846320092710025, 0.006975982303548951, 0.006975983524918561, 0.006976519349432905, 0.006976671057913777, 0.006978551304060656, 0.0069782542303134356, 0.00697873681744878, 0.006979049941528276, 0.006979567248269938, 0.0069796406882054254, 0.006979798191499448, 0.0069798481182865605, 0.00698008891262372, 0.006980094422616939, 0.006980128642181618, 0.006980834397252664, 0.006980350074428434, 0.0069802775063516325, 0.006980277472781066]\n"
     ]
    },
    {
     "name": "stderr",
     "output_type": "stream",
     "text": [
      "\n",
      "Choose one progress bar: 7it [3:18:56, 1693.00s/it]\u001b[A"
     ]
    },
    {
     "name": "stdout",
     "output_type": "stream",
     "text": [
      "runtime for ind model:1196.8684520721436 seconds\n",
      "Finish ind\n",
      "Starting all\n",
      "[0.003177562037305349, 0.0029963456622078186, 0.002844154344130898, 0.0029984072959411538, 0.00417958613315156, 0.004561550160260335, 0.005101905330754724, 0.005188990991000762, 0.005161920941356523, 0.005176245991285793, 0.005178206056668389, 0.005183030928004028, 0.005181934607963119, 0.005179666773553422, 0.005187513979040769, 0.005193308369322162, 0.005197142989182945, 0.005194381136700388, 0.005194098875291312, 0.005193941354526737, 0.005195624333695623, 0.005196301188108258, 0.005196914467132146, 0.005197802777091407, 0.0051983398616421775, 0.005199460552831479, 0.005200847218842343, 0.005201843921290181, 0.005201741965166994, 0.005201747753653122, 0.00520175241410406, 0.005201785818248641, 0.00520184582095452, 0.005201899395253975, 0.0052019001357559765]\n",
      "runtime for all model:435.9685125350952 seconds\n",
      "Finish all\n",
      "Starting ind\n",
      "[0.00105680172212034, 0.0011078641263046014, 0.001127016408213521, 0.0011785580422552502, 0.0030293678222628934, 0.002855662010549772, 0.004591931628959477, 0.0045927337505400736, 0.004593170583975695, 0.004593645737141056, 0.004593809319331695, 0.00459381199951913, 0.004594606030319364, 0.004595171904494046, 0.004595436579272768, 0.004595526282682205, 0.00459562956112689, 0.004595899518733861, 0.004596187341165875, 0.004596201275867473, 0.004596061050685983, 0.004596113181863745, 0.004596125924169935, 0.004596012626369773, 0.004596029385111499, 0.004596024445564169, 0.0045960174053180265, 0.00459601789719283]\n",
      "[0.005393251626663747, 0.005029880524945976, 0.005345798004674507, 0.0053491177142472816, 0.00691021943566574, 0.00689646513711952, 0.006963473998193312, 0.006980739078309638, 0.006997342604210551, 0.0070077507352649445, 0.0069976856090507526, 0.007026718642101482, 0.007023874081726997, 0.007018684349561759, 0.0070167063649075115, 0.007006639697462844, 0.007012355807587818, 0.0070118854814030475, 0.007013292348330686, 0.0070092632426805215, 0.007010645851688103, 0.007009725269783303, 0.00700981348578575, 0.007008595555004519, 0.007005954786115297, 0.007005825014652858, 0.007005812788801273, 0.007007072924563961, 0.007007878236595939, 0.007007896114314084, 0.007007886411043137, 0.007007893933284132, 0.007007911257785245, 0.00700792633049206, 0.007007954995516192, 0.007008406584350872, 0.007009079037922211, 0.007008331853763513, 0.007008350825475747, 0.007008308096970737, 0.007008331715564513, 0.00700831056071199, 0.00700831056071199]\n"
     ]
    },
    {
     "name": "stderr",
     "output_type": "stream",
     "text": [
      "\n",
      "Choose one progress bar: 8it [3:41:44, 1589.53s/it]\u001b[A"
     ]
    },
    {
     "name": "stdout",
     "output_type": "stream",
     "text": [
      "runtime for ind model:932.0321085453033 seconds\n",
      "Finish ind\n",
      "Starting all\n",
      "[0.004800128134169452, 0.0047767662461054685, 0.005737747220171833, 0.0059875972652071105, 0.006114501642533168, 0.0061898344282984175, 0.006516251270414006, 0.007977976543667605, 0.007975439105500819, 0.007967161769096398, 0.007960472706438387, 0.007977378469933386, 0.00797137437009231, 0.007983738917919972, 0.0079896245381062, 0.007991943190615223, 0.007996353373865311, 0.007999109811264164, 0.007988895717259251, 0.007994634647097803, 0.00799522474199144, 0.007995658189305822, 0.007996797744036584, 0.007996981335726665, 0.0079970344976072, 0.007997397967339264, 0.007997505428601764, 0.007997576105345919, 0.00799768434118511, 0.007997734814015792, 0.00799775484727928, 0.007997798603555923, 0.0079977976136629]\n",
      "runtime for all model:392.72920989990234 seconds\n",
      "Finish all\n",
      "Starting ind\n",
      "[0.001153373441110574, 0.0012024533785122346, 0.0029782939671663044, 0.0029887787207891004, 0.0030097098088690257, 0.003028678560069353, 0.0030577006378188333, 0.003093155179431877, 0.00397306957017299, 0.00563871866665765, 0.005674155376927758, 0.005762086071829228, 0.006018196515864866, 0.007388145613543855, 0.007388384636799283, 0.007388509413492629, 0.007388669877635892, 0.007388728302566131, 0.007388823175676075, 0.007388838926970972, 0.007388827265004197, 0.007388916253800265, 0.0073889147971230255, 0.007388935224255067, 0.007388950416824183, 0.007388961308672002, 0.007388985436182473, 0.0073889871085908694, 0.007388989585165859, 0.007388994165080286, 0.007389035568619846, 0.0073890473672240916, 0.007389044289075763, 0.007389052647899065, 0.00738905470980922, 0.00738905690482179, 0.007389056766148959]\n",
      "[0.00550463283318567, 0.005108990173697856, 0.005256511053141911, 0.005519715998807263, 0.005559207436037296, 0.005554720562396823, 0.005441863087627664, 0.00534855343119796, 0.005383467976902003, 0.0056074461915498934, 0.005357051052294267, 0.005360280757129314, 0.005372390484007524, 0.005369492210300272, 0.005383904039444564, 0.005387190431423613, 0.005392142472396596, 0.005396333125426171, 0.005398545330347299, 0.0054019147724587244, 0.00540604971773973, 0.005408861229954159, 0.005410832873072335, 0.0054119117824288614, 0.005412279673972238, 0.005414376071806955, 0.005416413101379452, 0.005421955636659574, 0.005436332474509459, 0.00542426684879827, 0.005424276945272454, 0.005424276746880334]\n"
     ]
    },
    {
     "name": "stderr",
     "output_type": "stream",
     "text": [
      "\n",
      "Choose one progress bar: 9it [4:03:39, 1503.64s/it]\u001b[A"
     ]
    },
    {
     "name": "stdout",
     "output_type": "stream",
     "text": [
      "runtime for ind model:922.0327010154724 seconds\n",
      "Finish ind\n",
      "Starting all\n",
      "[0.0027224649130239273, 0.0029433066628246057, 0.002908607112367908, 0.003149437489645289, 0.00360179969651985, 0.0040706693483790945, 0.004077704330324052, 0.0040674172650848545, 0.004055395757448078, 0.004072323236974022, 0.0040757863424249864, 0.004084721008940866, 0.0040988816134781125, 0.004117037212693905, 0.004116515775415346, 0.004122458397597622, 0.00412738885308331, 0.004130782053006607, 0.004129505276724548, 0.004129311849398418, 0.004129874406829053, 0.004131463406507638, 0.004132541505535782, 0.004133265149387275, 0.004134823404037802, 0.004134684899110535, 0.004134651505012953, 0.004134606169610323, 0.004135037476291872, 0.004135438525674402, 0.004135348872221752, 0.004135443002507378, 0.004135520451519254, 0.004135420374114155, 0.004136176785653223, 0.00413612419227594, 0.004136028993156147, 0.004136052943332211, 0.0041408816197227956, 0.004142450806148991, 0.0041427927698309795, 0.004142963670600098, 0.004142996505956909, 0.0041430349389712075, 0.0041432395890143355, 0.004143752333317071, 0.00414361415384306, 0.0041436143415552835]\n",
      "runtime for all model:684.9438257217407 seconds\n",
      "Finish all\n",
      "Starting ind\n",
      "[0.0011325345350292574, 0.0011557553040854518, 0.001167770803133858, 0.0012086744009352209, 0.0012366747651067242, 0.0012734247584694671, 0.0030307014625714735, 0.0030622783069520253, 0.0031046056770623835, 0.004942534072508588, 0.004909547197340977, 0.004975487395716453, 0.0057124152699482645, 0.005712940315385768, 0.005713300128682564, 0.005713414073482026, 0.00571370700776125, 0.005714299190291812, 0.0057147402173261435, 0.005714773659039394, 0.005714816529852159, 0.005714833351790065, 0.005714836142542162, 0.005714837685540904, 0.005714840856398147, 0.005714848409545625, 0.005714856410455278, 0.00571486123995725, 0.005714940042563919, 0.005714923890114936, 0.005714918988396438, 0.005714921525179271, 0.0057149256323824746, 0.00571492620606871]\n",
      "[0.00442101573251214, 0.0050988990297917034, 0.004935368687057086, 0.005193390861932935, 0.0056748090750097895, 0.005826767044211788, 0.005734963881562765, 0.0057707448433522174, 0.005832513922987265, 0.005926025192017096, 0.006281030627735824, 0.006320392483466786, 0.006329403549661311, 0.006337166743704876, 0.006371977332026603, 0.006380998411867364, 0.00638690060428129, 0.006389498396207572, 0.006392356873475913, 0.006393294208523958, 0.006394859951200753, 0.006396437480049299, 0.006396526401343898, 0.0063978995773811, 0.0063980340168375465, 0.0063980977124592055, 0.006398272541262275, 0.006398210969555578, 0.006398756832805258, 0.006398871884679053, 0.006398698610926293, 0.006398577797570057, 0.00639854012804815, 0.006398280748036294, 0.006399084935919901, 0.0063989508207135505, 0.006398716427396726, 0.006398793258328326, 0.006408459472691074, 0.006411598312774827, 0.00641228729762514, 0.0064126261099588175, 0.006412720984922561, 0.006412850691053415, 0.006414335020660871, 0.0064153444295895964, 0.00641507141726416, 0.006415072718782659]\n"
     ]
    },
    {
     "name": "stderr",
     "output_type": "stream",
     "text": [
      "\n",
      "Choose one progress bar: 10it [4:33:56, 1643.64s/it]\u001b[A"
     ]
    },
    {
     "name": "stdout",
     "output_type": "stream",
     "text": [
      "runtime for ind model:1131.7510015964508 seconds\n",
      "Finish ind\n",
      "MSE all: 0.027302409726913494\n",
      "MSE ind: 0\n",
      "for ind was chosen\n"
     ]
    },
    {
     "name": "stderr",
     "output_type": "stream",
     "text": [
      "\n"
     ]
    },
    {
     "name": "stdout",
     "output_type": "stream",
     "text": [
      "[0.0009960103872158476, 0.0010506622135526673, 0.0010564523992589885, 0.001080043844867624, 0.0010997671449996785, 0.0011377262096008652, 0.0011923074645261043, 0.002606764779792952, 0.004219292174748546, 0.004220228320594723, 0.0042210257725016935, 0.004221929494211357, 0.00422220186086592, 0.004222538648680563, 0.004222715643339001, 0.004223072197355274, 0.0042231960790270985, 0.004223343975517618, 0.004223437104180342, 0.0042234736089384285, 0.004223361664037959, 0.004223279200496527, 0.004223213677942383, 0.004223226235604273, 0.004223223276584576, 0.004223240214145978, 0.004223267633436173, 0.004223264270358795, 0.004223270850088844, 0.00422329779274263, 0.00422337529058349, 0.0042238088926279645, 0.004223809878285591, 0.0042238113614731084, 0.004223812701564205]\n",
      "[0.005383699961559145, 0.005106688750884016, 0.005076664044793974, 0.00588752213416109, 0.005859620883004431, 0.005983718223165807, 0.00608513854269366, 0.005962269395636232, 0.005965320088851964, 0.005986450924890878, 0.005994065583119487, 0.0060217939459726, 0.006036218084132472, 0.0060419864685101726, 0.006053991353323149, 0.0060497023251344356, 0.0060520467191661825, 0.006051164417986831, 0.0060543114635909275, 0.006059399738313599, 0.0060574213888534125, 0.006059539707635838, 0.006061223695023472, 0.0060613852319429205, 0.0060613683784396305, 0.00606125943844103, 0.006061331212573333, 0.00606146961270372, 0.006061433137623922, 0.006061324622534882, 0.0060613136200744445, 0.00606184088221169, 0.006062278044498427, 0.006062764862095636, 0.006062782111905106, 0.006062798514442619, 0.006061964718502416, 0.006062050541034139, 0.006062165134912704, 0.006062105616251109, 0.00606212904737486, 0.006062165607083523, 0.006062047729519815, 0.0060622582671248084, 0.0060623281515395965, 0.0060626831441965645, 0.006062481038930029, 0.006063429974710349, 0.006064264213109661, 0.00606422222885381, 0.006064349379381976, 0.00606589219971718, 0.006066324377591201, 0.006066543965460763, 0.006066720773034556, 0.006066922538139197, 0.006066834602820696, 0.006066825918463243, 0.006066819485435559, 0.006066814044256721, 0.0060668000510465895, 0.006066791617581438, 0.006066802991046086, 0.006066835469565589, 0.006066869428769464, 0.006066870766229079]\n"
     ]
    },
    {
     "name": "stderr",
     "output_type": "stream",
     "text": [
      "CV progress bar: 9it [52:24:58, 20487.62s/it]"
     ]
    },
    {
     "name": "stdout",
     "output_type": "stream",
     "text": [
      "runtime for ind model:1734.5917856693268 seconds\n",
      "runtime for choose one model:18171.02413582802 seconds\n",
      "starting choose one model\n"
     ]
    },
    {
     "name": "stderr",
     "output_type": "stream",
     "text": [
      "\n",
      "Choose one progress bar: 0it [00:00, ?it/s]\u001b[A"
     ]
    },
    {
     "name": "stdout",
     "output_type": "stream",
     "text": [
      "Starting all\n",
      "[0.0026575638399219705, 0.0026565609896977522, 0.002716966086947693, 0.003402771082574734, 0.0034042409787259737, 0.0039289387190330535, 0.003925221014015926, 0.003950379653933845, 0.003967831166910907, 0.0040403737025754526, 0.004393151682625114, 0.004371297668443177, 0.004363723478699771, 0.00435899844281857, 0.004363265675693361, 0.004367555394809254, 0.004366341637968707, 0.004369577842774508, 0.004369429648645818, 0.004370285759440864, 0.0043707170166486925, 0.004367138969195534, 0.004356857541456792, 0.004364054637783658, 0.004363749854752425, 0.004367814955715865, 0.004369765893521113, 0.004378226887436009, 0.004377470919606154, 0.004377904676071425, 0.004377809396108497, 0.00437771764233868, 0.004378157713245835, 0.004378060213198459, 0.004378160103163485, 0.004378398137417318, 0.004378478790426806, 0.004378436170710974, 0.004378456029783663, 0.004378442072405223, 0.004378440988932654, 0.0043784645437706686, 0.004378475642481382, 0.00437846946961227, 0.004378517824194262, 0.004378463471631297, 0.0043784414619245015, 0.004378473407876263, 0.0043785310900590225, 0.0043786174107356786, 0.00437874188179524, 0.004378878372071611, 0.004379096141890416, 0.0043801893400199085, 0.004380284498538311, 0.004380620098307999, 0.004380482887097326, 0.004381163731377064, 0.0043940395323948615, 0.004394137823844605, 0.004394105680071926, 0.004394129807655004, 0.004394128750491818, 0.004394122819313429, 0.004394125518193683, 0.004394117383855636, 0.004394110278550139, 0.004394115256009837, 0.004394107001110841, 0.0043941016351166425, 0.0043940974428084405, 0.00439409023860019, 0.004394084464853636, 0.004394075179652379, 0.004394068431542586, 0.004394083718867108, 0.004394074154680397, 0.004394069927784487, 0.004394061319149164, 0.004394052714073966, 0.00439404843512431, 0.004394039292456468, 0.00439403506224633, 0.0043940257961583625, 0.004394018502006268, 0.004394009309159454, 0.004394002238653731, 0.004393993915909929, 0.004393993819844586]\n",
      "runtime for all model:1456.3359069824219 seconds\n",
      "Finish all\n",
      "Starting ind\n",
      "[0.0010522692935537033, 0.0010421097830636077, 0.0010432234866707911, 0.0010697241945288615, 0.001084993853394687, 0.0011129064284508754, 0.0011547724290987356, 0.002943423809934422, 0.002939400931785542, 0.002842005933801687, 0.002842668705692461, 0.002842952495855369, 0.002843505500754911, 0.0028439339330943872, 0.0028441069630787017, 0.0028442556596888404, 0.002844158140063297, 0.0028442930649446264, 0.0028443795271249654, 0.002844469294545193, 0.0028444993324533725, 0.0028445681711226157, 0.002844576093974974, 0.0028445585430096265, 0.002844564371826579, 0.0028445604936388124, 0.002844560092814468]\n",
      "[0.004324087417306424, 0.003978765255205232, 0.004194763357015997, 0.005758269492639587, 0.007236816821960543, 0.007626012688887759, 0.007661645906339114, 0.0077362151150167525, 0.007747974601944221, 0.007755377004353424, 0.0077624980712798775, 0.007773389497119391, 0.007788678915780783, 0.00779410634929212, 0.00779589070861936, 0.007834648830526073, 0.007846188250844995, 0.007846281078042968, 0.007846726618721253, 0.007847168079760245, 0.007847716605962087, 0.007843280218937435, 0.00782186709949674, 0.007837083157042898, 0.00783620249969175, 0.007841539218887942, 0.007842807190368528, 0.007857477220852133, 0.007857094743841563, 0.008012198786203649, 0.008013625041899862, 0.008010719008457363, 0.008014968777498906, 0.00801475160444461, 0.008015084660646352, 0.008015480153104982, 0.008015317667391239, 0.008015344415277768, 0.008015338824526323, 0.008015326601831501, 0.008015322729517627, 0.008015334825065062, 0.0080153482919085, 0.008015350400874996, 0.00801533414984074, 0.008015128875576406, 0.008015141260902959, 0.00801517530768447, 0.008015218893689884, 0.008015221046229775, 0.008015308237363381, 0.008015573140859144, 0.008016568819375664, 0.008016568791986676]\n"
     ]
    },
    {
     "name": "stderr",
     "output_type": "stream",
     "text": [
      "\n",
      "Choose one progress bar: 1it [42:52, 2572.88s/it]\u001b[A"
     ]
    },
    {
     "name": "stdout",
     "output_type": "stream",
     "text": [
      "runtime for ind model:1116.5417993068695 seconds\n",
      "Finish ind\n",
      "Starting all\n",
      "[0.002532003020733832, 0.003027445857203221, 0.0032313665746296293, 0.0037297201720877964, 0.0038428512840529075, 0.004798912079339764, 0.004809705408615128, 0.005190824734694624, 0.00513256462280863, 0.0051484828399427, 0.005173038681009543, 0.005185521190784681, 0.005189926117518509, 0.005209424665916469, 0.005215313334348387, 0.005221942072091495, 0.005228740995046908, 0.005234286168608884, 0.005239659945818612, 0.005242586810060917, 0.005244519000296969, 0.005246615674714449, 0.005254662516438001, 0.0052550748993922865, 0.005255225194390961, 0.005256276538841341, 0.005258767960807792, 0.005259069753289802, 0.005260873160419316, 0.005261916028175346, 0.005262107975919924, 0.005262309818925704, 0.0052628235667012465, 0.005263033525821819, 0.005263434752773471, 0.005264330038900416, 0.005269189280992267, 0.005269196532949364, 0.0052691981893442765, 0.005269200997408208, 0.00526920116668167, 0.005269201278239525]\n",
      "runtime for all model:563.6979248523712 seconds\n",
      "Finish all\n",
      "Starting ind\n",
      "[0.0011170962084023396, 0.0011432643248043086, 0.001173124185053749, 0.001073952932059432, 0.0010839927456294531, 0.0011092039630718475, 0.003810609508979823, 0.0038192642459276894, 0.0038250792301623184, 0.0038317804775394454, 0.003837380380303732, 0.0038486455270434748, 0.0038795708993631163, 0.0038570808074788604, 0.0038986972054158944, 0.00403234094816267, 0.0037928826232455437, 0.003792912392462113, 0.0037928937495230242, 0.003792969984760026, 0.0037930636893515586, 0.0037932100338946137, 0.003795218697723603, 0.003795225357145099, 0.003795243693145201, 0.003795268083171548, 0.003795299622747965, 0.003795309349576827, 0.0037953001671787805, 0.0037953461615949182, 0.0037953613761282272, 0.003795369451172307, 0.0037953773442777534, 0.003795584012578334, 0.0037957082197423568, 0.0037970476696266263, 0.0037968916553199387, 0.0037969144882489215, 0.0037969779369300717, 0.0037970529484073977, 0.0037971420936865124, 0.0037971185286370763, 0.0037970975533349336, 0.0037971012638995756, 0.0037971051800451657, 0.003797112529681794, 0.003797169650448233, 0.003797181152393278, 0.0037971859745426053, 0.003797186256095633]\n",
      "[0.004019689711116693, 0.0050099745848387325, 0.005381229108956198, 0.006083212260018235, 0.008131484419117766, 0.00807755572756992, 0.008217215157245628, 0.00868171819746114, 0.008677752345932942, 0.008690126603462685, 0.00872533574828983, 0.008731726273741833, 0.00874490107511545, 0.008753402812552342, 0.008752431073663209, 0.008758528860027499, 0.008757969662691252, 0.008764103396497863, 0.008776077064299056, 0.008776770842467155, 0.0087766654454737, 0.008785869456110424, 0.008789860857473486, 0.00879143228093766, 0.008791857641308243, 0.008800206266892565, 0.008809160931325067, 0.0088186341631054, 0.008821385406514644, 0.008821469402356478, 0.008821407939381014, 0.008821315846381565, 0.0088212243335318, 0.008821367142915641, 0.00882095434047593, 0.008821072542445138, 0.008826673431475751, 0.008825774702351708, 0.00882577902065355, 0.00882576102337591, 0.008825762372393948]\n"
     ]
    },
    {
     "name": "stderr",
     "output_type": "stream",
     "text": [
      "\n",
      "Choose one progress bar: 2it [1:14:57, 2191.42s/it]\u001b[A"
     ]
    },
    {
     "name": "stdout",
     "output_type": "stream",
     "text": [
      "runtime for ind model:1360.6932604312897 seconds\n",
      "Finish ind\n",
      "Starting all\n",
      "[0.0025744432740879173, 0.0025861097114338568, 0.0026558137146723087, 0.0031970361449402637, 0.003279991791666941, 0.003739081099536145, 0.0039998983124893426, 0.004066496385588613, 0.004375027850043413, 0.004359518150984164, 0.004360028849611994, 0.004368866192098765, 0.004370665719705731, 0.00437677589560175, 0.0043816172114080915, 0.004383758517786985, 0.00438889690632054, 0.004390693216775559, 0.0043922236769958455, 0.004424156459243995, 0.004426970250213409, 0.00443007532932305, 0.004430355844712094, 0.004430657932669146, 0.004432025038356133, 0.004432880166466676, 0.004434644656322125, 0.0044397679219649235, 0.00444565870192429, 0.0044455584560155305, 0.004445541516059101, 0.004445392518902939, 0.004445399510617592, 0.004445453281270424, 0.004445475025079877, 0.004445467139994859, 0.004445446878365741, 0.004445477096327467, 0.004445480208323078, 0.004445463540657639, 0.004445751987640768, 0.004445885586340285, 0.0044459098889621925, 0.004445967816463742, 0.004446000740474366, 0.00444602230413212, 0.004446047409833008, 0.004446075820214708, 0.004446113493443317, 0.004446525487403463, 0.004446014274195257, 0.00444614809106717, 0.004446164454553455, 0.004446165712210401, 0.004446159644542558, 0.0044461598924291305]\n",
      "runtime for all model:792.8605082035065 seconds\n",
      "Finish all\n",
      "Starting ind\n",
      "[0.0011218002602381867, 0.0011850057036259481, 0.0012091111364952519, 0.001231104879654456, 0.001283661274808731, 0.001345300420498026, 0.002215047585178508, 0.0023445247051122175, 0.002984789229819024, 0.0030415412451195193, 0.0038745495216817192, 0.003922884915085314, 0.004742516769177138, 0.004742719455541833, 0.004742613698663997, 0.004743164091189625, 0.004744182118504114, 0.004744313920193152, 0.004744852912915768, 0.0047447805814874065, 0.004744852369162113, 0.004744655452567837, 0.00474464870309769, 0.0047446049787969605, 0.004744920640718971, 0.004744897905888506, 0.004744929494612082, 0.004744881200209753, 0.004744870963286523, 0.004744876937706416, 0.00474489040028094, 0.00474489938283288, 0.004744919088409804, 0.0047449548973362565, 0.004744989762381714, 0.004745024124830462, 0.004745073668071141, 0.004745064740250135, 0.004745124421741519, 0.004745467980509765, 0.004745402337709023, 0.004746169147866277, 0.004746198634061657, 0.004746206072679099, 0.0047462134392198705, 0.004746179197593486, 0.0047461855241784645, 0.0047461926726317365, 0.004746197622684878, 0.00474620828015276, 0.004746193174510282, 0.004746203450746906, 0.0047462217976336814, 0.004746248708109863, 0.004746291179355133, 0.0047469968453566, 0.004746994578472426, 0.004746993594816584]\n",
      "[0.004097344104666617, 0.004246054986201553, 0.004387612471959826, 0.004496309002174204, 0.005837438257651548, 0.0057812744189710275, 0.005799336000067315, 0.005826082222824926, 0.005895194330136534, 0.005900301653583915, 0.005907810802598198, 0.005925427134010251, 0.005947103225823498, 0.0059684617978101664, 0.005974044022918691, 0.006019445504807744, 0.005941726096686679, 0.00598011329851993, 0.005958199226202511, 0.005962769211865521, 0.005963874820031776, 0.0059658664544239, 0.005966610648941664, 0.0059687503748762204, 0.005968740513297557, 0.005971844330146546, 0.005976196642325254, 0.005981086541832457, 0.005981242463674695, 0.005982972725897699, 0.005985545869737288, 0.005981173490833784, 0.005981571813478611, 0.005982742269430082, 0.00598888820613107, 0.0059888556910932065, 0.005988847372587225, 0.005988847512940309]\n"
     ]
    },
    {
     "name": "stderr",
     "output_type": "stream",
     "text": [
      "\n",
      "Choose one progress bar: 3it [1:52:21, 2215.48s/it]\u001b[A"
     ]
    },
    {
     "name": "stdout",
     "output_type": "stream",
     "text": [
      "runtime for ind model:1451.25994348526 seconds\n",
      "Finish ind\n",
      "Starting all\n",
      "[0.002789742727142926, 0.0031596499748809013, 0.002900038231200255, 0.003185801203779782, 0.00324815514284975, 0.0033884872166486104, 0.0037961521035380086, 0.003850749315513108, 0.0038888768628597874, 0.004304311614023789, 0.004325497406103491, 0.004338765028870121, 0.004340898514703725, 0.00435869840902227, 0.00437952416945799, 0.004395717977447601, 0.00440326939464339, 0.004419044914168576, 0.004423093514652314, 0.004423695408031846, 0.004425853606930139, 0.004426815358601374, 0.004436248399682012, 0.004436454287950052, 0.004436369652655493, 0.004437125317019341, 0.004437156154062117, 0.004437198063021582, 0.004437253451153526, 0.004437202696146611, 0.0044370846117352345, 0.004436987394615121, 0.004436633286085211, 0.00443659649199007, 0.004436633178919272, 0.004439271740489659, 0.00443934064750023, 0.004439359343842762, 0.004439400035151779, 0.0044392204261684875, 0.004446774702252863, 0.004446788386788145, 0.0044468192753155875, 0.004446791450676511, 0.004446877920452471, 0.004447073301442953, 0.004447055659025398, 0.004447054738563937, 0.004447056175371114, 0.004447057433268506, 0.004447057479229058]\n",
      "runtime for all model:719.2692868709564 seconds\n",
      "Finish all\n",
      "Starting ind\n",
      "[0.0011154201803176618, 0.001114158809713371, 0.0011263813678143826, 0.0011469495953688037, 0.0011601335008717467, 0.0011745559565266206, 0.0011966248426936302, 0.0012320438571599614, 0.0012796420904019592, 0.0021319846192719046, 0.0022112166848564136, 0.002350540200959756, 0.0032656337168572927, 0.003884575812008116, 0.003931140825833362, 0.003827943607038398, 0.0038282275366353924, 0.0038284000531767478, 0.0038284833300721343, 0.00382871987016841, 0.0038287792819173263, 0.0038288879708347255, 0.0038290439469100997, 0.003829856051533262, 0.003829922863474243, 0.0038299827773780005, 0.003829974379748939, 0.003829974917320215]\n",
      "[0.00455103995112813, 0.004975085383542946, 0.004886560329329374, 0.005001435425579319, 0.004927523610061303, 0.005698285155723526, 0.005815292601697238, 0.005856766666882979, 0.005941191262329134, 0.005953514738239169, 0.005984628380771764, 0.006021684192357551, 0.006022719050565173, 0.006074970000674291, 0.006095023154590822, 0.0061173291463181385, 0.0061183952480154515, 0.006122591023415781, 0.006124502577020262, 0.006125622859548441, 0.0061262827483633975, 0.006126511063380142, 0.00612667542768087, 0.006126726936574305, 0.006126895430090147, 0.00612700786362146, 0.006127226922064005, 0.0061274055496501265, 0.006127700201658381, 0.006128335516663126, 0.006126946941777033, 0.006126925557800379, 0.00612692537208063]\n"
     ]
    },
    {
     "name": "stderr",
     "output_type": "stream",
     "text": [
      "\n",
      "Choose one progress bar: 4it [2:16:53, 1922.08s/it]\u001b[A"
     ]
    },
    {
     "name": "stdout",
     "output_type": "stream",
     "text": [
      "runtime for ind model:753.0291156768799 seconds\n",
      "Finish ind\n",
      "Starting all\n",
      "[0.001894772356004821, 0.0018926138527923194, 0.0019189698687718196, 0.001990738005832292, 0.0036307909577927484, 0.0037003580767407153, 0.0037952675381827824, 0.003800311369559539, 0.004013535895271215, 0.004370452247088945, 0.004372386552972517, 0.004380549300726236, 0.00439157467882034, 0.004399677481732154, 0.004405881797643864, 0.004413411654722371, 0.004418247060101005, 0.0044193546631159375, 0.004420991478235129, 0.004422367718889187, 0.004423564506861469, 0.00443225604166462, 0.004438433422616447, 0.004436314004532595, 0.004435776181623113, 0.004436449663379186, 0.004442227161250745, 0.004442236055627984, 0.004442338766529287, 0.004442650337274984, 0.004445640761714499, 0.004446620469666407, 0.004446588823687322, 0.004446505208580141, 0.004446778717281715, 0.004446916141322641, 0.004447052357967706, 0.004447425603131839, 0.004447396045823558, 0.004447396045823558]\n",
      "runtime for all model:514.3293735980988 seconds\n",
      "Finish all\n",
      "Starting ind\n",
      "[0.0011170555419787742, 0.0011223272449454873, 0.001136167159443035, 0.00115953402242143, 0.001193530908123607, 0.002977956750983019, 0.0030077848746761834, 0.0030544328216164022, 0.003127234475335176, 0.003253160119918077, 0.003511554541775959, 0.0047841841631942215, 0.004806205185279721, 0.004853182427255646, 0.004746941842274634, 0.004746946586783882, 0.0047471257944814915, 0.004747396858460606, 0.004747550408421418, 0.004747366125878764, 0.0047473897864424835, 0.004747414994409917, 0.004747426768402374, 0.004747420426646721, 0.004747431435899644, 0.004747417931765118, 0.004747411051945717, 0.0047474159327951255, 0.00474742125696448, 0.004747426927904288, 0.004747424039801107, 0.004747431311934752, 0.004747430738964985, 0.004747425432373309, 0.004747426028219024]\n",
      "[0.002747122281517046, 0.0027333069014239585, 0.002733641345373254, 0.00267988740972869, 0.0026153357253777708, 0.0026122388876190527, 0.0027094457842757077, 0.00274834014381352, 0.003102940888975658, 0.0031923943083365714, 0.003212092525896388, 0.0032297321919080363, 0.003235071450442149, 0.003248399604259773, 0.0032481438989178683, 0.0032576575489637006, 0.0032619727611174613, 0.0032624199577190884, 0.0032632648441852, 0.003264608247811623, 0.0032663858739480425, 0.003268518977229639, 0.003274894469824211, 0.0032722622599257573, 0.0032783051961742223, 0.0032872729236723395, 0.00329079327633854, 0.00329064972848602, 0.0032905130472634216, 0.0032908609235113876, 0.0032906881394846104, 0.0032907267415724036, 0.0032906117813817602, 0.0032911383838356185, 0.003291725210835815, 0.003291619901864621, 0.003293695004135299, 0.00329587340067126, 0.0032972793830753034, 0.0033030785524851545, 0.003304461862632232, 0.0032844054526698406, 0.0032801691487486058, 0.0032775860309462285, 0.0032803979486394435, 0.003280412757798095, 0.0032806955677514736, 0.003280963306018702, 0.0032814179003028245, 0.00328302247994694, 0.003283120633150254, 0.0032833470037550846, 0.0032833354333056198, 0.0032889168694202873, 0.0032887965148319606, 0.0032892216838528603, 0.0032896333297711433, 0.0032897780779332273, 0.003289973427795758, 0.0032899988480917823, 0.0032899988480917823]\n"
     ]
    },
    {
     "name": "stderr",
     "output_type": "stream",
     "text": [
      "\n",
      "Choose one progress bar: 5it [2:48:16, 1907.82s/it]\u001b[A"
     ]
    },
    {
     "name": "stdout",
     "output_type": "stream",
     "text": [
      "runtime for ind model:1368.2014031410217 seconds\n",
      "Finish ind\n",
      "Starting all\n",
      "[0.0021213020278438594, 0.0027725264990946337, 0.0027393355216894944, 0.0026711124530680473, 0.003189697427815602, 0.0032459999901203835, 0.0033312351569119063, 0.0033472106179331896, 0.00336453975168114, 0.003340560920007643, 0.0033347842265021334, 0.0033464190990238766, 0.0033460856523609265, 0.0033598034262223805, 0.0033658647630317646, 0.0033730510922933147, 0.003377987152210454, 0.0033797400457195046, 0.003379950850192396, 0.0033808883980132503, 0.0033809911046075334, 0.0033827185352203262, 0.003382922263001921, 0.003383231485982128, 0.0033831016542076563, 0.0033825520632053906, 0.00338234847327394, 0.0033824475144739116, 0.0033826588346595834, 0.0033836609871191435, 0.003384140975504228, 0.0033844992109278342, 0.0033849542697079243, 0.0033865063531800963, 0.0033919941678800672, 0.00341607220382622, 0.0034166266031052566, 0.003416588818431513, 0.0034166264887991425, 0.003416624810341641, 0.0034166229088589016, 0.0034166100614337115, 0.003416612271567734, 0.003416610625354972, 0.003416609004954797]\n",
      "runtime for all model:611.7839484214783 seconds\n",
      "Finish all\n",
      "Starting ind\n",
      "[0.0011268686524634952, 0.0011389287370498669, 0.0011406421533916558, 0.0011518482828913742, 0.0011817144207876464, 0.0012258739569092512, 0.0012842493876473082, 0.0013835548292605174, 0.002340598160345379, 0.002638679774634594, 0.0057237481129805735, 0.005819024357885755, 0.005600206231777072, 0.005601873565737827, 0.005601897420479884, 0.00560201389130154, 0.005602126758424264, 0.005602463388124512, 0.005602527429155589, 0.005602497113626481, 0.005602576903509543, 0.005602644940898083, 0.005602916824685278, 0.005603140410725946, 0.005603235918349594, 0.0056036160831674005, 0.005604245528574541, 0.0056043870547086054, 0.005604477695294098, 0.005604471294898989, 0.0056044796322419575, 0.005604491499496052, 0.005604494120492997, 0.005604538327942657, 0.0056045794193823415, 0.005604581238700066, 0.005604584470236656, 0.005604584324666481]\n",
      "[0.003196322029984727, 0.004431203155780254, 0.004167785110817845, 0.004099743636869782, 0.004281874317893365, 0.00430092311682743, 0.004340250157613122, 0.004404548662576434, 0.0043881029274330146, 0.004419304500053757, 0.004444447784515751, 0.004504250746161656, 0.004491183979141731, 0.004511460148289694, 0.004523584310432622, 0.004535634923602773, 0.0045330059398824354, 0.004535212380739543, 0.004536142558691331, 0.004538298287429696, 0.004539520536482435, 0.004537516260259889, 0.004539962518706971, 0.004541591674513247, 0.004544527012801988, 0.0045475687330270775, 0.004552660759839814, 0.004559091905017133, 0.0045635658223094865, 0.004574254714552834, 0.004588685664819188, 0.004600220944785986, 0.004581969728394177, 0.004756120014337533, 0.004779888784935719, 0.00479336284922747, 0.0047968992794520755, 0.004796701043708336, 0.004796722364353859, 0.0047967866889110896, 0.004796859538774659, 0.004796854030839373, 0.004797058196514178, 0.004797448709114931, 0.004798992861191081, 0.0048054671663675585, 0.0048058503287776826, 0.004805751462977103, 0.004806123021064792, 0.0048065652076653784, 0.0048067902379604, 0.004807134697070357, 0.004806943151169418, 0.004806968624144746, 0.004806970175742794, 0.004806979085354129, 0.004806981663854104, 0.004806983624047262, 0.004806983938019599]\n"
     ]
    },
    {
     "name": "stderr",
     "output_type": "stream",
     "text": [
      "\n",
      "Choose one progress bar: 6it [3:22:04, 1948.85s/it]\u001b[A"
     ]
    },
    {
     "name": "stdout",
     "output_type": "stream",
     "text": [
      "runtime for ind model:1416.6993689537048 seconds\n",
      "Finish ind\n",
      "Starting all\n",
      "[0.0020234745469353394, 0.002814776933951231, 0.0027898095764034288, 0.002843409947214432, 0.0035003709522496334, 0.0034814782112056707, 0.0035206453635145, 0.0035442988932887012, 0.0035743023727308433, 0.0035950959651160443, 0.0036032986600734217, 0.0036031361087546254, 0.0036107110123673536, 0.0036173822780669425, 0.003622680510398864, 0.003624947362887143, 0.0036258505103908276, 0.0036315320989777364, 0.0036308540301988913, 0.003632297214178002, 0.003633740677997842, 0.003640399181535495, 0.0036404773263022765, 0.0036394016303392105, 0.0036394837333987044, 0.003639539941180116, 0.003639925830260575, 0.003640289536654664, 0.0036402916747666067, 0.0036403590374455403, 0.003642750244357806, 0.0036422915641234634, 0.003646507467554869, 0.0036465869474600413, 0.0036466171990451324, 0.0036467128622036755, 0.003646835830487777, 0.0036468563606088704, 0.0036468442208450135, 0.003646875788020233, 0.0036472905366184624, 0.0036473801980858285, 0.003647517580151441, 0.003647545448482339, 0.0036478061853121623, 0.0036488776177265635, 0.0036487544313330263, 0.0036487544307184996]\n",
      "runtime for all model:653.5073711872101 seconds\n",
      "Finish all\n",
      "Starting ind\n",
      "[0.00010613162396440523, 0.00010655946183892005, 0.00010485917963155602, 9.854402832403264e-05, 0.00010209529949382838, 0.0001043392886673682, 0.00010577093472192519, 0.00010838778809359073, 0.00010863834176055352, 0.00010887386153648942, 0.00010931692922741047, 0.00010993418674422769, 0.00011094360023757629, 0.00011096455679817441, 0.00011114619856393226, 0.00011118299600062026, 0.00011133343213645078, 0.00011141376728993867, 0.00011155230362795956, 0.00011153661477919794, 0.00011158850006312484, 0.00011160700636586777, 0.00011163521465306302, 0.00011164492339918073, 0.00011165005591121117, 0.00011165704456373027, 0.00011166428077628305, 0.00011166715067403683, 0.00011166690240179498, 0.00011166188944848038, 0.00011165652603592298, 0.00011165642831079267]\n",
      "[0.003930048439091201, 0.005490501710568955, 0.0054670470087097205, 0.00552078817328087, 0.006813219852467409, 0.006876978020209194, 0.006986854186877158, 0.007077483030585906, 0.007101609836113738, 0.007142025687737932, 0.0071722697541215675, 0.007187406498304909, 0.0072156680250885325, 0.007250344223842091, 0.00728035940804406, 0.007292593926210791, 0.007287922079955114, 0.007292869332188798, 0.007293789168866841, 0.0072942770039024175, 0.0072995160506003996, 0.007300421050212979, 0.007304521009936957, 0.007306005659088654, 0.00730736004921969, 0.007307665622830031, 0.0073088662241429, 0.007309002148508459, 0.007309034962534268, 0.007309063893810798, 0.00730907748687849, 0.00730925414421413, 0.007309360503036664, 0.007309419421526689, 0.007309420164229556]\n"
     ]
    },
    {
     "name": "stderr",
     "output_type": "stream",
     "text": [
      "\n",
      "Choose one progress bar: 7it [3:47:21, 1807.57s/it]\u001b[A"
     ]
    },
    {
     "name": "stdout",
     "output_type": "stream",
     "text": [
      "runtime for ind model:863.1787016391754 seconds\n",
      "Finish ind\n",
      "Starting all\n",
      "[0.0025305049093022015, 0.0028708583590678553, 0.0025392961416734845, 0.0027444095249625996, 0.0029199782209340243, 0.00359308703380965, 0.0036027731099656677, 0.0036137899014867603, 0.003618928335248769, 0.0036379753587930026, 0.003653788359380755, 0.0036696607823214983, 0.003681462339462642, 0.0036923645406340424, 0.0037048465829979927, 0.0037188735003412174, 0.003725159006351566, 0.003742242940079463, 0.0037434958143402175, 0.003752084193108962, 0.003755639314302693, 0.0037585865179260874, 0.0037590833979709074, 0.0037600275000842314, 0.003761529255597138, 0.003762205117111544, 0.00376439743881775, 0.00376363631885583, 0.0037636122148436194, 0.003764591616746086, 0.003764894649269607, 0.0037652989946126724, 0.0037656582220002, 0.0037657150807205836, 0.0037659606361491703, 0.0037667286943356996, 0.0037713987669857896, 0.00377143584748678, 0.0037714303409860607, 0.003771430236002432]\n",
      "runtime for all model:526.5575044155121 seconds\n",
      "Finish all\n",
      "Starting ind\n",
      "[0.0011282537631038144, 0.0011384448094775878, 0.0011385351162945037, 0.001150339406082873, 0.0011679857512920258, 0.001191514414632802, 0.0012259041567033425, 0.0012762694326398558, 0.0013618348060617244, 0.0023471151806200856, 0.002627397916481329, 0.00421749904934346, 0.004911914542979059, 0.004693482369406756, 0.004694731860057472, 0.00469475530051422, 0.004694842718816565, 0.004694801216950355, 0.004694206715283983, 0.004694260620686087, 0.0046942079642531866, 0.004694172402222956, 0.0046942055401095785, 0.004694065692434963, 0.004694034591696329, 0.004693839391686888, 0.004693639077635187, 0.004693196174728891, 0.004691568978786001, 0.004691974234860993, 0.0046919791028155085, 0.004691978631500518, 0.004691977829622002]\n",
      "[0.004030513860721579, 0.004369252452325852, 0.004209830169941893, 0.00443984919161611, 0.00483451046383707, 0.005005793137653845, 0.005092021460467504, 0.0054871918862313416, 0.005512497601905959, 0.005577052479500462, 0.005592353299949911, 0.005616361437158074, 0.00561185739326416, 0.005616673194642916, 0.005617781814333556, 0.005621213368295088, 0.005621446315005022, 0.005622586034451408, 0.00562392275236003, 0.0056252416681647375, 0.005626896593627986, 0.005629859484323754, 0.005628571158435998, 0.005630063728800641, 0.005630447313591839, 0.0056294160363119985, 0.005629488647369324, 0.0056297817394511, 0.0056305919036131165, 0.005645141505946773, 0.005645542970732094, 0.0056462194982971675, 0.00564663603859384, 0.005665808443745956, 0.005665601591367332, 0.0056654989032264656, 0.005665712687106453, 0.0056658783159870135, 0.005665949551158461, 0.005666171562264696, 0.0056658384224671865, 0.0056658384224671865]\n"
     ]
    },
    {
     "name": "stderr",
     "output_type": "stream",
     "text": [
      "\n",
      "Choose one progress bar: 8it [4:12:51, 1719.20s/it]\u001b[A"
     ]
    },
    {
     "name": "stdout",
     "output_type": "stream",
     "text": [
      "runtime for ind model:1003.4369316101074 seconds\n",
      "Finish ind\n",
      "Starting all\n",
      "[0.001866651790158397, 0.001903966718476363, 0.0020772821219180435, 0.0028124042968253327, 0.003191773664627201, 0.003508650303403876, 0.004325726170961454, 0.004314410486318398, 0.004347529294502994, 0.00439933409082082, 0.004413119386502488, 0.004413077804276063, 0.004412462528179601, 0.004408216235742522, 0.0044120591295446505, 0.004416351072228901, 0.00442235647190424, 0.004422593458716202, 0.004422579238866979, 0.0044242221371508395, 0.004425494843325747, 0.004425966035544251, 0.004426442294681972, 0.00442660907862844, 0.004426332069656415, 0.004426630845477527, 0.004426723030852248, 0.004426707573578554, 0.004426798309515279, 0.004426873874883174, 0.004426870354755022, 0.0044269888729489195, 0.004427390292951638, 0.00442945771418995, 0.00442982230029845, 0.0044298157364018485, 0.004429811777088219, 0.004429810646211963, 0.004429842100375982, 0.004429849012324193, 0.00442986539105696, 0.004429851449174537, 0.004429854964772319, 0.004429856214816204, 0.004429855456508162]\n",
      "runtime for all model:596.9871780872345 seconds\n",
      "Finish all\n",
      "Starting ind\n",
      "[0.0011557796938198334, 0.0012312726386594138, 0.0012419035762201989, 0.006591261513285806, 0.006601918087621071, 0.006606732098976528, 0.0066213205918281785, 0.006646284500450883, 0.00668344075949307, 0.006752773862662731, 0.006895386580968031, 0.0075225352312411455, 0.007544794837787605, 0.007483248977037134, 0.007484302281424454, 0.0074843601157644195, 0.007484590973008558, 0.007484837762166028, 0.007485281036968138, 0.0074854303441029, 0.0074854969578354216, 0.0074860332796324106, 0.0074859594694574065, 0.007485960410192933]\n",
      "[0.002692470813177437, 0.0026334568535229066, 0.0028536548201916717, 0.002502542500680956, 0.0025681865471578395, 0.002868066461176562, 0.0028958738126313487, 0.002971126202586408, 0.0029799538673585917, 0.002953670985400003, 0.002975788791054822, 0.0029914462758857613, 0.003006054476782023, 0.003019601169295997, 0.0030224365854033793, 0.0030287119923681923, 0.0030293901685393694, 0.0030313987482416976, 0.003034610221261669, 0.003037142909641354, 0.0030356018932006868, 0.003036986085059313, 0.0030372075185291004, 0.0030372705851776675, 0.0030370911910819645, 0.0030374287447993273, 0.0030374157954767985, 0.0030368322286950106, 0.003036203275284764, 0.0030357184406586087, 0.0030361445643348715, 0.0030360293119694273, 0.0030360153386788753, 0.0030360306338305934, 0.0030360331539084667, 0.0030360349273866522]\n"
     ]
    },
    {
     "name": "stderr",
     "output_type": "stream",
     "text": [
      "\n",
      "Choose one progress bar: 9it [4:34:38, 1590.23s/it]\u001b[A"
     ]
    },
    {
     "name": "stdout",
     "output_type": "stream",
     "text": [
      "runtime for ind model:709.6691012382507 seconds\n",
      "Finish ind\n",
      "Starting all\n",
      "[0.0025375154734288362, 0.003095031119013913, 0.003422796373653019, 0.0032919262184545966, 0.0033303238979529594, 0.0037245675700983928, 0.004133502295303529, 0.004160206549355771, 0.00420079567069627, 0.004270944456003759, 0.0045686817968620935, 0.004530038740381234, 0.004531737981912395, 0.0045400531813768515, 0.004547359474711381, 0.004556310663715322, 0.004561483041340801, 0.004561948403872637, 0.004566064447012819, 0.004569891405631368, 0.004573208468376971, 0.00457483492198683, 0.004581142646520867, 0.004577544228251152, 0.004578570038125444, 0.004578750187853105, 0.0045788667708638485, 0.004579303034860271, 0.004583109994828467, 0.004583260867406512, 0.004583853885296354, 0.004584282776733741, 0.004593871506365336, 0.00460180152552263, 0.0046013295626408076, 0.004601332591497287, 0.004601341344019369, 0.004601332076078026, 0.0046013407781041625, 0.004601342720514106, 0.004601343556116954, 0.004601343874917746]\n",
      "runtime for all model:562.7015497684479 seconds\n",
      "Finish all\n",
      "Starting ind\n",
      "[0.0011265084280546133, 0.002084773313888676, 0.0020931566064413378, 0.002098487901681622, 0.002139306404401701, 0.002194635634025897, 0.002300720982571778, 0.0020877879409010127, 0.002155132768535331, 0.0022918852241788066, 0.0029141784490356046, 0.00291527098044591, 0.0029158262898549706, 0.0029159315796432337, 0.0029176349902697114, 0.002918052508260078, 0.0029177557826214136, 0.0029179864366143506, 0.0029177855010620265, 0.0029179634872389783, 0.0029179470713760793, 0.002917058815817735, 0.0029170692858983766, 0.0029170844662624075, 0.002917098982096578, 0.002917120076555596, 0.00291715032372881, 0.0029171614940913895, 0.0029171609462624887, 0.002917163961376413, 0.002917291876801396, 0.0029172953182906003, 0.0029172935571911518, 0.0029172900302812965, 0.002917292994888701, 0.002917358988581842, 0.002917356366938247, 0.0029173577175464387, 0.0029173592770436814, 0.002917360841770777]\n",
      "[0.004028291748379087, 0.004849580326370997, 0.00494227529412732, 0.004865211802764666, 0.004915237881501269, 0.005380189747423476, 0.005572611708350779, 0.005606487047352069, 0.005631789233121023, 0.0056496856687577885, 0.005657767916393734, 0.005681498280847605, 0.005693793940950914, 0.00570703654459411, 0.005699642539775275, 0.00571468737270134, 0.005719031681331007, 0.005721469568956044, 0.005724106005866229, 0.0057344357837188775, 0.005736299348340405, 0.005735303989258355, 0.005736958370017528, 0.005738187367838676, 0.005748429230695783, 0.0057479755660903185, 0.005751077756729858, 0.0057544335674620615, 0.005756590781123766, 0.0057630660236958065, 0.005767216852802678, 0.005771755153708593, 0.005782321392454458, 0.005797313714750992, 0.0057778587544215654, 0.005736290255717352, 0.005737898168873848, 0.005742008108802216, 0.00574228795008771, 0.005742317850614685, 0.005742326681288967, 0.005742340469928378, 0.00574235149033331, 0.0057423741573668545, 0.005742394997345762, 0.00574243954625076, 0.005742501436847074, 0.005742575721439781, 0.005742688525455005, 0.005742470710537878, 0.005742448465484612, 0.005742541982201986, 0.0057426206535953345, 0.0057427276243477736, 0.005742506003559137, 0.005742694682254382, 0.005743032986946996, 0.00574365156601826, 0.005744839188521758, 0.005746923610677407, 0.0057895047262163145, 0.005789608071363026, 0.005789608071363026]\n"
     ]
    },
    {
     "name": "stderr",
     "output_type": "stream",
     "text": [
      "\n",
      "Choose one progress bar: 10it [5:09:39, 1857.93s/it]\u001b[A"
     ]
    },
    {
     "name": "stdout",
     "output_type": "stream",
     "text": [
      "runtime for ind model:1538.4929180145264 seconds\n",
      "Finish ind\n",
      "MSE all: 0.03033981359710171\n",
      "MSE ind: 0\n",
      "for ind was chosen\n"
     ]
    },
    {
     "name": "stderr",
     "output_type": "stream",
     "text": [
      "\n"
     ]
    },
    {
     "name": "stdout",
     "output_type": "stream",
     "text": [
      "[0.0009879554402926892, 0.00103933814115476, 0.0010254079659963954, 0.0010264662314913265, 0.001051391009362301, 0.0010714027514607176, 0.0010995368474121608, 0.001146921990409123, 0.0019612318365345442, 0.0020725758838909215, 0.002677676607035705, 0.002722731472761382, 0.0027962458393254986, 0.002769247179897274, 0.0025762713510359683, 0.00257643923678731, 0.002576825227349802, 0.0025770742445343935, 0.002577107353817115, 0.0025772492213592133, 0.002577300992680759, 0.002577338809080453, 0.0025773460638990587, 0.0025773871963201953, 0.0025774811687239193, 0.002577495026214994, 0.0025773684587362343, 0.002577319010401442, 0.0025772721395205377, 0.0025773350496708764, 0.0025772907455406152, 0.002577248968161754, 0.0025777821005425333, 0.002577940046611703, 0.0025780100715978027, 0.0025779550291781515, 0.002577945849161516, 0.002577951604820259, 0.002577973813059178, 0.0025779862492996963, 0.002577995212508668, 0.002578003732446709, 0.0025780123498153353, 0.002577994855066915, 0.002578003767135511, 0.002578016022403041, 0.0025780507545670977, 0.002578057952745846, 0.002578067302974848, 0.0025780871311502267, 0.002578127266402927, 0.00257941283935463, 0.0025794151401441687, 0.0025794159069164437]\n",
      "[0.0032720368957308314, 0.005111150231953542, 0.005343305932448083, 0.005094670030180942, 0.005459294605904782, 0.005046005282774336, 0.005072051064228518, 0.005017997919643436, 0.004589627893456473, 0.0045951490034904325, 0.004603053926306331, 0.004646023504950735, 0.004692436260311597, 0.004687780515401153, 0.004694217729478018, 0.004700508854863348, 0.004706000137608595, 0.004719192954292793, 0.004718800894162278, 0.004723753294133293, 0.0047240988155630905, 0.004727482219634651, 0.004730691035717302, 0.004730949024130115, 0.0047334407277478865, 0.0047339107230078194, 0.0047364664796272354, 0.004736933953060192, 0.004737666396928302, 0.004742801784896859, 0.004745185338140892, 0.004745353739947268, 0.004745990900939316, 0.004751673850725064, 0.00475333320257633, 0.0047534681039287045, 0.004753428002741521, 0.004753388429565894, 0.0047534005385700675, 0.0047555283040541475, 0.004755553456370339, 0.004755528219959309, 0.00475545218581264, 0.004755427535543134, 0.004755420175340645, 0.004755347804954522, 0.004755268956438645, 0.004755200727219815, 0.004755133057544695, 0.004755072672707208, 0.004755306610446672, 0.004755425169061712, 0.004755348409665555, 0.0047553160253882825, 0.004755237060480951, 0.004755236253428698, 0.004755272031176143, 0.004755211336879407, 0.00475514565061078, 0.004755572352273268, 0.004755462419188819, 0.00475541365844251, 0.004755350891466895, 0.0047552717348209065, 0.004755205152111193, 0.004755170538311431, 0.004755295014310645, 0.004755276267311424, 0.00475523789554126, 0.004755204458401934, 0.0047551833269464635, 0.004755201018695883, 0.004755246915840811, 0.004755344248241115, 0.00475546335341807, 0.0047556069306582864, 0.004755672982041497, 0.004756056465889469, 0.00475675799366449, 0.004757974366140337, 0.0047599549098857495, 0.00476190581748735, 0.004804914571272594, 0.004804928760161853, 0.004804817930389188, 0.004804755440088701, 0.00480469662822241, 0.004804701081612373, 0.004804876041824485, 0.004804861991262352, 0.00480479255164868, 0.004804729782016713, 0.004804728311545233, 0.0048046678592157084, 0.004804618762420237, 0.004804588259429354, 0.004804563513635232, 0.0048045646196000534]\n"
     ]
    },
    {
     "name": "stderr",
     "output_type": "stream",
     "text": [
      "CV progress bar: 10it [58:23:05, 21018.60s/it]"
     ]
    },
    {
     "name": "stdout",
     "output_type": "stream",
     "text": [
      "runtime for ind model:2907.7391600608826 seconds\n",
      "runtime for choose one model:21487.01327896118 seconds\n",
      "MSE for all model:   nan\n",
      "MSE for ind model:   nan\n",
      "MSE LOO model:       nan\n",
      "MSE choose one model:0.00308201847447825\n",
      "stdev choose one model:0.002188168026972508\n",
      "Total runtime: 3503.099664405982 minutes\n"
     ]
    },
    {
     "name": "stderr",
     "output_type": "stream",
     "text": [
      "\n",
      "/home/yehudan/Desktop/DecisionTree/DecisionTree/datasets/mse_comparison.py:276: RuntimeWarning: Mean of empty slice.\n",
      "  print(f'MSE for all model:   {np.array(mse_all).mean()}')\n",
      "/data/anaconda3/lib/python3.9/site-packages/numpy/core/_methods.py:188: RuntimeWarning: invalid value encountered in double_scalars\n",
      "  ret = ret.dtype.type(ret / rcount)\n",
      "/home/yehudan/Desktop/DecisionTree/DecisionTree/datasets/mse_comparison.py:277: RuntimeWarning: Mean of empty slice.\n",
      "  print(f'MSE for ind model:   {np.array(mse_ind).mean()}')\n",
      "/home/yehudan/Desktop/DecisionTree/DecisionTree/datasets/mse_comparison.py:278: RuntimeWarning: Mean of empty slice.\n",
      "  print(f'MSE LOO model:       {np.array(mse_loo).mean()}')\n"
     ]
    }
   ],
   "source": [
    "_, _, _, mse_choose = mse_comparison.mse_comparison(path=None,\n",
    "                                                            df=final_df_scaled, n_features=14,n_splits=10,\n",
    "                                                             only_choose_one=True,\n",
    "                                  random_state=42)"
   ]
  },
  {
   "cell_type": "code",
   "execution_count": 20,
   "id": "9a94e799",
   "metadata": {
    "scrolled": true
   },
   "outputs": [
    {
     "name": "stdout",
     "output_type": "stream",
     "text": [
      "Cell execution time: 2023-04-18 22:33:27.981917\n"
     ]
    },
    {
     "name": "stderr",
     "output_type": "stream",
     "text": [
      "CV progress bar: 0it [00:00, ?it/s]"
     ]
    },
    {
     "name": "stdout",
     "output_type": "stream",
     "text": [
      "for all print:\n",
      "[0.002666940766369099, 0.002928405718788745, 0.0030353920338485416, 0.00391223207655577, 0.004778187157436952, 0.005132578813847604, 0.005173710223597512, 0.005091266997711267, 0.005112518583134361, 0.0051332566847115445, 0.005149099854163251, 0.005156390839462294, 0.0051868298406607645, 0.00519605571077031, 0.005198431985641975, 0.005207895901884616, 0.005214107674952833, 0.005214588119648126, 0.005214348879988399, 0.005218075087207871, 0.005218752240780298, 0.005220321109137576, 0.005221417619205813, 0.005225005734589708, 0.005227220050843102, 0.005231455090775232, 0.005231257253414378, 0.005231281171422454, 0.005231220817629151, 0.005231414009508563, 0.005231807272712197, 0.005231721933819998, 0.00523187353669847, 0.005231900846481325, 0.0052349910623261135, 0.005234920421766401, 0.005234943891895489, 0.005235402850046548, 0.005235501159504717, 0.0052354480950061195, 0.00523533640665854, 0.005235271088856091, 0.005235220071137426, 0.0052352681724227934, 0.005235270517384455, 0.0052352956279032884, 0.005235296738989895]\n",
      "Root\n",
      "depth=0| Split rule- x_i to split:10, value to split:296187.43\n",
      "   | Impurity of the node: 4.78\n",
      "   | Impurity of the best split: 3.99\n",
      "   | Count of observations in node: 1192\n",
      "depth=1   leaf node               | Count of observations in node: 1187\n",
      "                                  | Prediction of node: [0.003 0.012]\n",
      "                                  | Impurity of the node: 2.91\n",
      "Leaf id: 1\n",
      "depth=1   leaf node               | Count of observations in node: 5\n",
      "                                  | Prediction of node: [0.009 0.411]\n",
      "                                  | Impurity of the node: 1.08\n",
      "Leaf id: 2\n",
      "runtime for all model:712.634622335434 seconds\n",
      "for ind print:\n",
      "[0.0009459274555310784, 0.001032987921310628, 0.0011324575953978381, 0.001157068877643728, 0.0017916178936504777, 0.0018047933367526538, 0.0018198361074868732, 0.0018451029095951556, 0.00260203353490951, 0.0026150210101025485, 0.0026362890972187482, 0.0026752038046727817, 0.002567513154399295, 0.002568192177439437, 0.0025682297798414835, 0.0025684431598294944, 0.002568577502394638, 0.002568713041655281, 0.0025687665507140873, 0.002569031474002961, 0.0025691609779239246, 0.0025679409322216474, 0.0025679427393280442, 0.0025679476640746595, 0.002567951171294385, 0.0025679483816047487, 0.0025679511714620127, 0.0025679549831079266, 0.002567970690615287, 0.0025679888831031915, 0.002568025538306515, 0.0025680310667689026, 0.002568030759350354, 0.002568031157444545, 0.002568031763033875]\n",
      "print for target number: 0\n",
      "Root\n",
      "depth=0| Split rule- x_i to split:5, value to split:169030.9\n",
      "   | Impurity of the node: 1.07\n",
      "   | Impurity of the best split: 1.0\n",
      "   | Count of observations in node: 1192\n",
      "depth=1   leaf node               | Count of observations in node: 1173\n",
      "                                  | Prediction of node: [0.002]\n",
      "                                  | Impurity of the node: 0.07\n",
      "Leaf id: 1\n",
      "depth=1   leaf node               | Count of observations in node: 19\n",
      "                                  | Prediction of node: [0.062]\n",
      "                                  | Impurity of the node: 0.93\n",
      "Leaf id: 2\n",
      "[0.004440338182694932, 0.005062238233288389, 0.004990668652701168, 0.005344701875019035, 0.006267824150022213, 0.006091148365630529, 0.006145520517183331, 0.006089081376358403, 0.006149047843529462, 0.006119340346412979, 0.0061307017919794106, 0.006164944906553383, 0.006168929644323551, 0.006176949400170809, 0.006179917985693129, 0.0061861122794249655, 0.0061959159226986455, 0.006197653656292002, 0.006199827803418538, 0.006205950774741199, 0.006217444584353403, 0.006219632704380284, 0.006219146756761593, 0.006229254817498904, 0.006229799933261658, 0.006230233143433692, 0.006231577091877549, 0.0062315100555680025, 0.006231507439416091, 0.006231663540577111, 0.006231954857718862, 0.006232476050589866, 0.006232463816537726, 0.006232508846805772, 0.006232451916225713, 0.006232402465667313, 0.0062323955292482, 0.006232406609895814, 0.006232372994957912, 0.006232450259249375, 0.006232412180792281, 0.006232510020616677, 0.0062325336357850316, 0.006232604505119453, 0.006232739079046556, 0.006233081542072629, 0.00623361586393475, 0.006234562960349845, 0.006247298470818907, 0.006247403952675182, 0.006247338354385708, 0.0062472738692142624, 0.006247208471571914, 0.006247140147815651, 0.006247265834812621, 0.006247217070544679, 0.006247154983370637, 0.006247140290460506, 0.006234125350310775, 0.006249192146281298, 0.006257780254434546, 0.006269914823940484, 0.0062767032829467205, 0.006276938210749569, 0.006275562431364322, 0.006275628158653705, 0.006275613870953324, 0.0062756179215612854, 0.006275614947572078, 0.0062756112761553, 0.006275613569656305, 0.006275613569656305]\n",
      "print for target number: 1\n",
      "Root\n",
      "depth=0| Split rule- x_i to split:10, value to split:296187.43\n",
      "   | Impurity of the node: 3.72\n",
      "   | Impurity of the best split: 2.93\n",
      "   | Count of observations in node: 1192\n",
      "depth=1   leaf node               | Count of observations in node: 1187\n",
      "                                  | Prediction of node: [0.012]\n",
      "                                  | Impurity of the node: 1.84\n",
      "Leaf id: 1\n",
      "depth=1   leaf node               | Count of observations in node: 5\n",
      "                                  | Prediction of node: [0.411]\n",
      "                                  | Impurity of the node: 1.08\n",
      "Leaf id: 2\n",
      "runtime for ind model:1777.2120637893677 seconds\n",
      "LOO print:\n",
      "[0.002693132819113006, 0.0030012497910852933, 0.0029632420547569733, 0.0031365895949500796, 0.003173052077668698, 0.0030705683955323986, 0.0030847655601116183, 0.0031017903953187696, 0.0030988872273068225, 0.0030967738964805197, 0.0030954814882484466, 0.003096980141640087, 0.0030968087718182, 0.0030973766235569875, 0.0030973623470286747, 0.003097372719166068, 0.003097353312232725, 0.0030973256056923268, 0.003097296680574258, 0.003097277689607958, 0.0030974977567265333, 0.003097375407385225, 0.003097346604398546, 0.0030973853332083045, 0.003097357157004335, 0.003097329101997884, 0.0030973024351325443, 0.0030972752878811764, 0.0030972438868810083, 0.003097275461225405, 0.0030972470170844263, 0.003097360423364012, 0.0030973549455012013, 0.0030973772210904056, 0.0030973479743871576, 0.003097323657760523, 0.003097319102537454, 0.003097321067248947, 0.0030972974384738208, 0.0030973282047658396, 0.0030972960764599584, 0.0030973185454546085, 0.0030972941300632557, 0.0030972656556318067, 0.003097233042604122, 0.003097258807548272, 0.003097273724241094, 0.0030972526035271, 0.0030972197137423656, 0.0030972378414309055, 0.0030972266803493335, 0.0030971944377636102, 0.003097161738942437, 0.003097127577064304, 0.00309719042056279, 0.003097166038428819, 0.003097134994841798, 0.0030971276483867326, 0.0030906201783118662, 0.0030981219249410987, 0.0031024597196335833, 0.0031024597196335833]\n"
     ]
    },
    {
     "name": "stderr",
     "output_type": "stream",
     "text": [
      "CV progress bar: 1it [6:00:23, 21623.84s/it]"
     ]
    },
    {
     "name": "stdout",
     "output_type": "stream",
     "text": [
      "************************************************************sub tree number 0 ************************************************************\n",
      "Root\n",
      "depth=0| Split rule- x_i to split:5, value to split:169030.9\n",
      "   | Impurity of the node: 1.07\n",
      "   | Impurity of the best split: 1.0\n",
      "   | Count of observations in node: 1192\n",
      "   |LOO score: 1.0641167230402815\n",
      "depth=1   leaf node               | Count of observations in node: 1173\n",
      "                                  | Prediction of node: [0.002]\n",
      "                                  | Impurity of the node: 0.07\n",
      "Leaf id: 2\n",
      "                                  | Loo score: 0.06\n",
      "depth=1   leaf node               | Count of observations in node: 19\n",
      "                                  | Prediction of node: [0.062]\n",
      "                                  | Impurity of the node: 0.93\n",
      "Leaf id: 3\n",
      "                                  | Loo score: 0.996\n",
      "************************************************************sub tree number 1 ************************************************************\n",
      "Root\n",
      "depth=0| Split rule- x_i to split:10, value to split:296187.43\n",
      "   | Impurity of the node: 3.72\n",
      "   | Impurity of the best split: 2.93\n",
      "   | Count of observations in node: 1192\n",
      "   |LOO score: 3.591020680923603\n",
      "depth=1   leaf node               | Count of observations in node: 1187\n",
      "                                  | Prediction of node: [0.012]\n",
      "                                  | Impurity of the node: 1.84\n",
      "Leaf id: 7\n",
      "                                  | Loo score: 1.774\n",
      "depth=1   leaf node               | Count of observations in node: 5\n",
      "                                  | Prediction of node: [0.411]\n",
      "                                  | Impurity of the node: 1.08\n",
      "Leaf id: 8\n",
      "                                  | Loo score: 0.87\n",
      "runtime for LOO model:19133.99032998085 seconds\n",
      "Score for all:0.001641524592552216\n",
      "Score for ind:0.0016628908004081607\n",
      "Score for loo model:0.0016628908004081607\n",
      "****************************************************************************************************************************************************************\n",
      "for all print:\n",
      "[0.0032391270647182265, 0.0034514617356083766, 0.003442069688703993, 0.0035235950361164883, 0.0035577425884242312, 0.00436767114473908, 0.0048421157917773105, 0.0051158121422745385, 0.005440520648383446, 0.005356358745529135, 0.0053560019425666, 0.005353073911428511, 0.005375191923748818, 0.005380617720539695, 0.0053858257340386375, 0.005395148515799293, 0.0053996656238241144, 0.005401759566794025, 0.005406148509007327, 0.0054113540012431455, 0.005412950598839807, 0.005415430411269242, 0.005416980165341632, 0.005416757986494392, 0.0054176064736509814, 0.005416760790801614, 0.005416314495176372, 0.005416220482929369, 0.005416319072682624, 0.00541634667256203, 0.0054164356441837105, 0.005416838434883755, 0.005416612871414673, 0.00541664088850294, 0.0054167277145577815, 0.005416724168063544, 0.0054167607601393695, 0.005416798611653636, 0.005416831801294014, 0.005416849606026808, 0.005416842390712292, 0.005416867649159889, 0.005416851938134279, 0.005416848125691985, 0.005416868210802043, 0.0054168739299627604, 0.005416906550458947, 0.005416992461629939, 0.00541702671443804, 0.005418687342679108, 0.00541864584990987, 0.005418462379391082, 0.005418469255132107, 0.005418533376465638, 0.005418633841375286, 0.00541864771788256, 0.005418646734009516, 0.005418654800888477, 0.005418651388924793, 0.005418652428358969]\n",
      "Root\n",
      "depth=0| Split rule- x_i to split:10, value to split:296187.43\n",
      "   | Impurity of the node: 4.97\n",
      "   | Impurity of the best split: 4.26\n",
      "   | Count of observations in node: 1192\n",
      "depth=1   leaf node               | Count of observations in node: 1186\n",
      "                                  | Prediction of node: [0.003 0.012]\n",
      "                                  | Impurity of the node: 3.09\n",
      "Leaf id: 1\n",
      "depth=1   leaf node               | Count of observations in node: 6\n",
      "                                  | Prediction of node: [0.012 0.357]\n",
      "                                  | Impurity of the node: 1.17\n",
      "Leaf id: 2\n",
      "runtime for all model:1015.8170609474182 seconds\n",
      "for ind print:\n",
      "[0.0009938657851261774, 0.0010465277332912322, 0.0010388611847628555, 0.00104208727400566, 0.0010734047272577033, 0.001100710064008404, 0.00113240122829783, 0.001092389460012073, 0.0019074024341052369, 0.001943007486540323, 0.0018496443226392145, 0.0018589303483492984, 0.0018736609685054625, 0.0019120958173870627, 0.0018342253704769153, 0.0018348663157863802, 0.0018349366517941168, 0.0018349547954682876, 0.0018348220412232473, 0.001834853173167937, 0.0018349363259508203, 0.0018352694379279572, 0.0018353255894389443, 0.001835385168477515, 0.0018354084018907292, 0.0018354226590385572, 0.0018353662491437024, 0.0018353776006822184, 0.001835396123711347, 0.0018354014681286335, 0.0018353967410251453, 0.0018353973886540927, 0.0018354007008282093, 0.001835399348281979]\n",
      "print for target number: 0\n",
      "Root\n",
      "depth=0| Split rule- x_i to split:5, value to split:169030.9\n",
      "   | Impurity of the node: 1.12\n",
      "   | Impurity of the best split: 1.06\n",
      "   | Count of observations in node: 1192\n",
      "depth=1   leaf node               | Count of observations in node: 1173\n",
      "                                  | Prediction of node: [0.002]\n",
      "                                  | Impurity of the node: 0.12\n",
      "Leaf id: 1\n",
      "depth=1   leaf node               | Count of observations in node: 19\n",
      "                                  | Prediction of node: [0.062]\n",
      "                                  | Impurity of the node: 0.93\n",
      "Leaf id: 2\n",
      "[0.005531826649702157, 0.005921564073822326, 0.006074473378123739, 0.0068576384881430434, 0.007204816561008015, 0.007390537081741472, 0.007501683397486231, 0.008014147274204488, 0.008099524771307163, 0.008158773771974, 0.008142578348507838, 0.008175288111296777, 0.008196871093609013, 0.008232019249448183, 0.00824926754239311, 0.008260325527447526, 0.008270763973603278, 0.008284875701460562, 0.008291309938329923, 0.00830025162489203, 0.008302363476924188, 0.00830339303057738, 0.00830370960384691, 0.008304283816839, 0.008304209062942677, 0.008304745345671386, 0.008304927108825768, 0.008305196804553158, 0.008304962177034195, 0.008305112673023887, 0.008305449077706962, 0.008309787245353405, 0.008310115289618013, 0.00831055231054054, 0.008311545065468207, 0.008313916944477605, 0.008314125868292093, 0.008314118255700097, 0.008314309136527996, 0.008314298815339367, 0.008314294748907113, 0.008314295901675105, 0.008314295901675105]\n",
      "print for target number: 1\n",
      "Root\n",
      "depth=0| Split rule- x_i to split:10, value to split:296187.43\n",
      "   | Impurity of the node: 3.84\n",
      "   | Impurity of the best split: 3.13\n",
      "   | Count of observations in node: 1192\n",
      "depth=1   leaf node               | Count of observations in node: 1186\n",
      "                                  | Prediction of node: [0.012]\n",
      "                                  | Impurity of the node: 1.96\n",
      "Leaf id: 1\n",
      "depth=1   leaf node               | Count of observations in node: 6\n",
      "                                  | Prediction of node: [0.357]\n",
      "                                  | Impurity of the node: 1.17\n",
      "Leaf id: 2\n",
      "runtime for ind model:1182.1195032596588 seconds\n",
      "LOO print:\n",
      "[0.0028183277353799247, 0.0031490306581374574, 0.003419387654906502, 0.0034228864550305536, 0.003423660996291382, 0.0034116131563755236, 0.0033703983804164415, 0.003364136500590457, 0.0033555507270736098, 0.0033676469004501747, 0.0033671627585784786, 0.0033679176959102975, 0.003369286525951279, 0.0033696316262822475, 0.00337143092243479, 0.003371910562767528, 0.0033719216223780752, 0.0033718811434586852, 0.0033718206623599214, 0.0033718477343750316, 0.003372003057750777, 0.0033723327952315503, 0.003372367723116089, 0.0033724126129080793, 0.0033722912887909017, 0.0033723184074059636, 0.0033723437838438348, 0.003372386275452668, 0.0033724423734854516, 0.003372509812010272, 0.003372509879163813]\n"
     ]
    },
    {
     "name": "stderr",
     "output_type": "stream",
     "text": [
      "CV progress bar: 2it [9:16:38, 15830.17s/it]"
     ]
    },
    {
     "name": "stdout",
     "output_type": "stream",
     "text": [
      "************************************************************sub tree number 0 ************************************************************\n",
      "Root\n",
      "depth=0| Split rule- x_i to split:5, value to split:169030.9\n",
      "   | Impurity of the node: 1.12\n",
      "   | Impurity of the best split: 1.06\n",
      "   | Count of observations in node: 1192\n",
      "   |LOO score: 1.1215004803507358\n",
      "depth=1   leaf node               | Count of observations in node: 1173\n",
      "                                  | Prediction of node: [0.002]\n",
      "                                  | Impurity of the node: 0.12\n",
      "Leaf id: 2\n",
      "                                  | Loo score: 0.118\n",
      "depth=1   leaf node               | Count of observations in node: 19\n",
      "                                  | Prediction of node: [0.062]\n",
      "                                  | Impurity of the node: 0.93\n",
      "Leaf id: 3\n",
      "                                  | Loo score: 0.998\n",
      "************************************************************sub tree number 1 ************************************************************\n",
      "Root\n",
      "depth=0| Split rule- x_i to split:10, value to split:296187.43\n",
      "   | Impurity of the node: 3.84\n",
      "   | Impurity of the best split: 3.13\n",
      "   | Count of observations in node: 1192\n",
      "   |LOO score: 3.707770306367151\n",
      "depth=1   leaf node               | Count of observations in node: 1186\n",
      "                                  | Prediction of node: [0.012]\n",
      "                                  | Impurity of the node: 1.96\n",
      "Leaf id: 7\n",
      "                                  | Loo score: 1.885\n",
      "depth=1   leaf node               | Count of observations in node: 6\n",
      "                                  | Prediction of node: [0.357]\n",
      "                                  | Impurity of the node: 1.17\n",
      "Leaf id: 8\n",
      "                                  | Loo score: 0.919\n",
      "runtime for LOO model:9576.656259059906 seconds\n",
      "Score for all:0.000575996398080868\n",
      "Score for ind:0.0005915344497902234\n",
      "Score for loo model:0.0005915344497902234\n",
      "****************************************************************************************************************************************************************\n",
      "for all print:\n",
      "[0.0021581328212424084, 0.0028339045190161013, 0.0028536878237076153, 0.0030018226594401083, 0.003783377140365115, 0.0037625132905663604, 0.0037210211025615787, 0.003769481830577368, 0.0037781495901298397, 0.0037978136521108694, 0.003808775566768071, 0.0038442815512236142, 0.0037990573602613305, 0.0037974410150262497, 0.0038189736073141385, 0.0038343365678375646, 0.0038516110195304645, 0.0038527587195755593, 0.0038573791088777542, 0.003863694727000122, 0.003864154225954332, 0.003864891691139008, 0.003866528533670803, 0.0038714758004387757, 0.0038742347532847317, 0.0038746196943325586, 0.003874657581625714, 0.0038747670265018913, 0.0038752483275731253, 0.003875322124435512, 0.0038754002558242994, 0.0038754778464623607, 0.003875456357817105, 0.0038755659465090657, 0.0038756552245539262, 0.0038757402750697217, 0.0038758947377160865, 0.0038763683392366148, 0.003877509743978772, 0.0038775345711513976, 0.0038775245963499233, 0.003877518938763172, 0.0038776123085469323, 0.003877599580825573, 0.00387758601598423, 0.0038775611686651472, 0.0038779924990624153, 0.003878229621494441, 0.003878260525681282, 0.003878287927584577, 0.0038783009903434343, 0.0038783138420301413, 0.0038783125373108617, 0.0038783102937117635, 0.003878306559919837, 0.0038783213916130073, 0.0038783217818947587]\n",
      "Root\n",
      "depth=0| Split rule- x_i to split:10, value to split:586503.0\n",
      "   | Impurity of the node: 5.06\n",
      "   | Impurity of the best split: 4.17\n",
      "   | Count of observations in node: 1192\n",
      "depth=1   leaf node               | Count of observations in node: 1191\n",
      "                                  | Prediction of node: [0.003 0.014]\n",
      "                                  | Impurity of the node: 4.17\n",
      "Leaf id: 1\n",
      "depth=1   leaf node               | Count of observations in node: 1\n",
      "                                  | Prediction of node: [0.    0.961]\n",
      "                                  | Impurity of the node: 0.0\n",
      "Leaf id: 2\n",
      "runtime for all model:926.4223203659058 seconds\n",
      "for ind print:\n",
      "[0.001048779262883542, 0.0010598984343815731, 0.001062221217868701, 0.0010607136765383896, 0.0010769681708588151, 0.0011025539811613566, 0.001145782661916167, 0.0012008815784737828, 0.0012888005557429396, 0.0014346915259484524, 0.00167927515731662, 0.002921865237666411, 0.0031252146847929726, 0.0037017298531968968, 0.00670228180194294, 0.0067026330430163, 0.0067027862582258665, 0.0067028912831171555, 0.006702901163173615, 0.0067029722911228174, 0.006703096273493992, 0.006703171744514349, 0.00670304729577266, 0.006703119573595723, 0.006703228877884786, 0.006703262374706964, 0.006703134210575017, 0.006703193848241115, 0.00670323315769777, 0.006703391993533622, 0.00670353155663621, 0.006703619696933923, 0.00670429632855492, 0.006704397023900318, 0.006704606828272503, 0.006705026285973385, 0.0067049135567338975, 0.006705435687586592, 0.006705434925226633, 0.006705435157921089, 0.006705435193646576]\n",
      "print for target number: 0\n",
      "Root\n",
      "depth=0| Split rule- x_i to split:5, value to split:169030.9\n",
      "   | Impurity of the node: 1.12\n",
      "   | Impurity of the best split: 1.06\n",
      "   | Count of observations in node: 1192\n",
      "depth=1   leaf node               | Count of observations in node: 1172\n",
      "                                  | Prediction of node: [0.002]\n",
      "                                  | Impurity of the node: 0.12\n",
      "Leaf id: 1\n",
      "depth=1   leaf node               | Count of observations in node: 20\n",
      "                                  | Prediction of node: [0.061]\n",
      "                                  | Impurity of the node: 0.93\n",
      "Leaf id: 2\n",
      "[0.003365932301780264, 0.004726602169922461, 0.003932796286061968, 0.0044011670198921115, 0.004351752390617992, 0.004397349803660982, 0.0043519837696439035, 0.004385384992010887, 0.004413004622387693, 0.004525831995288698, 0.004552438823266687, 0.004549737662919676, 0.004552726289041929, 0.004584790212634478, 0.004603495708036301, 0.0046293081071886585, 0.004650509766328227, 0.004650025523239955, 0.004643722249543883, 0.0046513229335464834, 0.004658015532081965, 0.004675573480748337, 0.004676069203769185, 0.004677633991397012, 0.004680790913384758, 0.00469713431537067, 0.004699740078381628, 0.00470330354995369, 0.004703288825817975, 0.004703299271444047, 0.004703447903788094, 0.004703472426141463, 0.004703517377120237, 0.004703515163385729, 0.004702517764449474, 0.004702525556921155, 0.0047024924861425775, 0.00470246987861659, 0.004704961718413331, 0.004705301449362476, 0.004704961166399609, 0.0047051552052552546, 0.0047051216179050896, 0.004705133637794146, 0.004705152765980335, 0.004705132978352397, 0.004705175084816214, 0.004705241817264463, 0.004705224630154295, 0.004705215878254538, 0.004705221482095066, 0.004705222813247258]\n",
      "print for target number: 1\n",
      "Root\n",
      "depth=0| Split rule- x_i to split:10, value to split:586503.0\n",
      "   | Impurity of the node: 3.94\n",
      "   | Impurity of the best split: 3.04\n",
      "   | Count of observations in node: 1192\n",
      "depth=1   leaf node               | Count of observations in node: 1191\n",
      "                                  | Prediction of node: [0.014]\n",
      "                                  | Impurity of the node: 3.04\n",
      "Leaf id: 1\n",
      "depth=1   leaf node               | Count of observations in node: 1\n",
      "                                  | Prediction of node: [0.961]\n",
      "                                  | Impurity of the node: 0.0\n",
      "Leaf id: 2\n",
      "runtime for ind model:1513.480530500412 seconds\n",
      "LOO print:\n",
      "[0.002180914498593403, 0.0029699809673338204, 0.0029984730356716702, 0.003075170705658418, 0.003103782968461702, 0.0031187378707381217, 0.0031292256134826265, 0.003143043051961082, 0.0031427399427004024, 0.0031449617175291966, 0.0031460242700387295, 0.0031452851855570756, 0.003145436586133918, 0.003145772426604989, 0.0031458399037636252, 0.00314569719618882, 0.0031458908674857873, 0.003145925892682038, 0.0031460507203744355, 0.0031460979008260184, 0.003145552167085143, 0.003145686158175655, 0.003145833971972877, 0.0031460011554263886, 0.0031461748441537333, 0.0031452274966770276, 0.0031453895233195224, 0.0031451418348647656, 0.003145251930435877, 0.003145420043584797, 0.0031452404663018926, 0.0031451210435453044, 0.0031452554916506607, 0.0031454077052281704, 0.003145407919565893]\n"
     ]
    },
    {
     "name": "stderr",
     "output_type": "stream",
     "text": [
      "CV progress bar: 3it [12:57:53, 14663.42s/it]"
     ]
    },
    {
     "name": "stdout",
     "output_type": "stream",
     "text": [
      "************************************************************sub tree number 0 ************************************************************\n",
      "Root\n",
      "depth=0| Split rule- x_i to split:5, value to split:169030.9\n",
      "   | Impurity of the node: 1.12\n",
      "   | Impurity of the best split: 1.06\n",
      "   | Count of observations in node: 1192\n",
      "   |LOO score: 1.1237201637878225\n",
      "depth=1   leaf node               | Count of observations in node: 1172\n",
      "                                  | Prediction of node: [0.002]\n",
      "                                  | Impurity of the node: 0.12\n",
      "Leaf id: 2\n",
      "                                  | Loo score: 0.12\n",
      "depth=1   leaf node               | Count of observations in node: 20\n",
      "                                  | Prediction of node: [0.061]\n",
      "                                  | Impurity of the node: 0.93\n",
      "Leaf id: 3\n",
      "                                  | Loo score: 0.997\n",
      "************************************************************sub tree number 1 ************************************************************\n",
      "Root\n",
      "depth=0| Split rule- x_i to split:10, value to split:586503.0\n",
      "   | Impurity of the node: 3.94\n",
      "   | Impurity of the best split: 3.04\n",
      "   | Count of observations in node: 1192\n",
      "   |LOO score: 3.8401105148782877\n",
      "depth=1   leaf node               | Count of observations in node: 1191\n",
      "                                  | Prediction of node: [0.014]\n",
      "                                  | Impurity of the node: 3.04\n",
      "Leaf id: 7\n",
      "                                  | Loo score: 2.928\n",
      "depth=1   leaf node               | Count of observations in node: 1\n",
      "                                  | Prediction of node: [0.961]\n",
      "                                  | Impurity of the node: 0.0\n",
      "Leaf id: 8\n",
      "runtime for LOO model:10835.078581094742 seconds\n",
      "Score for all:0.0032430009670607845\n",
      "Score for ind:0.0032645140569826613\n",
      "Score for loo model:0.0032645140569826613\n",
      "****************************************************************************************************************************************************************\n",
      "for all print:\n",
      "[0.002390315125539928, 0.0019924795453773185, 0.0020632429876810106, 0.0023101634442565583, 0.002484923985822726, 0.0032367677102371805, 0.0033086264808317263, 0.0035205404467041285, 0.004514357343315497, 0.00452108535339379, 0.004549081852413493, 0.004552791879393152, 0.004554597264632384, 0.0045658187748034386, 0.004582233288854867, 0.004584527902846743, 0.004588380002364516, 0.00458987608937538, 0.004591938789014314, 0.004594614571710054, 0.004599306938068378, 0.004602364197799339, 0.0046047497336963086, 0.0046067669609126, 0.004612997866721533, 0.004619821120328989, 0.0046198823776466115, 0.004620125693732562, 0.004620203869212022, 0.004620266621078039, 0.004620013306472072, 0.004620199398149203, 0.004620516392961055, 0.0046311853369148505, 0.004630931378247774, 0.004630896685518283, 0.0046309119287660655, 0.00463165528367693, 0.004636863673848987, 0.004636903719713236, 0.004636890410378623, 0.004637005514216192, 0.00463719648005931, 0.0046381380813551535, 0.004638133392302226, 0.004638134615587873]\n",
      "Root\n",
      "depth=0| Split rule- x_i to split:10, value to split:296187.43\n",
      "   | Impurity of the node: 4.28\n",
      "   | Impurity of the best split: 3.56\n",
      "   | Count of observations in node: 1192\n",
      "depth=1|-------- Split rule- x_i to split:5, value to split:162908.255\n",
      "           | Impurity of the node: 2.39\n",
      "           | Impurity of the best split: 2.17\n",
      "           | Count of observations in node: 1186\n",
      "depth=2   leaf node                       | Count of observations in node: 1164\n",
      "                                          | Prediction of node: [0.002 0.01 ]\n",
      "                                          | Impurity of the node: 0.88\n",
      "Leaf id: 1\n",
      "depth=2   leaf node                       | Count of observations in node: 22\n",
      "                                          | Prediction of node: [0.055 0.096]\n",
      "                                          | Impurity of the node: 1.3\n",
      "Leaf id: 2\n",
      "depth=1|-------- Split rule- x_i to split:4, value to split:37350.0\n",
      "           | Impurity of the node: 1.17\n",
      "           | Impurity of the best split: 0.01\n",
      "           | Count of observations in node: 6\n",
      "depth=2   leaf node                       | Count of observations in node: 4\n",
      "                                          | Prediction of node: [0.009 0.046]\n",
      "                                          | Impurity of the node: 0.0\n",
      "Leaf id: 3\n",
      "depth=2   leaf node                       | Count of observations in node: 2\n",
      "                                          | Prediction of node: [0.017 0.981]\n",
      "                                          | Impurity of the node: 0.0\n",
      "Leaf id: 4\n",
      "runtime for all model:694.0852649211884 seconds\n",
      "for ind print:\n",
      "[0.0010033698353686892, 0.0010079659358672405, 0.0010172699412462501, 0.0010415373557062803, 0.001072145842268907, 0.0011016649312853535, 0.0011515705771941536, 0.0012273663995370425, 0.0013488218226878515, 0.0015605224338025299, 0.002512922859107227, 0.003390335567611082, 0.006861731227329876, 0.006927147144332747, 0.00709228144782872, 0.006722879944165716, 0.006723504852370786, 0.006723698852626921, 0.006723802434461417, 0.006723922588279287, 0.006723957653361032, 0.00672396786588276, 0.006723975453762046, 0.006724007944567581, 0.006724003915470433, 0.006724206162851053, 0.006724201611232228, 0.006724195475178445, 0.006724195564512703]\n",
      "print for target number: 0\n",
      "Root\n",
      "depth=0| Split rule- x_i to split:5, value to split:169030.9\n",
      "   | Impurity of the node: 1.11\n",
      "   | Impurity of the best split: 1.05\n",
      "   | Count of observations in node: 1192\n",
      "depth=1   leaf node               | Count of observations in node: 1170\n",
      "                                  | Prediction of node: [0.002]\n",
      "                                  | Impurity of the node: 0.11\n",
      "Leaf id: 1\n",
      "depth=1   leaf node               | Count of observations in node: 22\n",
      "                                  | Prediction of node: [0.056]\n",
      "                                  | Impurity of the node: 0.94\n",
      "Leaf id: 2\n",
      "[0.0038474303929632537, 0.0031423541382456397, 0.0032883236551205495, 0.0033056227287271292, 0.0034729528732238197, 0.0035622717170284515, 0.0036119340540801377, 0.003605696914421661, 0.003689577408599995, 0.003713879460033085, 0.003749696337361147, 0.0037499130010728403, 0.0037505338541126225, 0.0037684204297710896, 0.0038039007489924447, 0.003805590847184924, 0.0038083494941599455, 0.0038140818613159543, 0.003830496654316072, 0.003845518188884736, 0.0038493202443900484, 0.0038515969816737073, 0.00385212889905066, 0.0038573225289237284, 0.0038559339130095913, 0.0038573901892273456, 0.003858041194249868, 0.0038588743505766723, 0.0038590692149666093, 0.003859243134400599, 0.0038589149340243225, 0.003858910831258842, 0.0038588910663825346, 0.003859255429575882, 0.0038590227184306506, 0.00386070096917637, 0.00386120797640811, 0.0038611982577105306, 0.003861179925003371, 0.003861117312587504, 0.0038611365907682505, 0.003879535826067996, 0.003879522927626715, 0.0038795129676237987, 0.003879476577815005, 0.003879434163589082, 0.0038793963588424885, 0.0038793512186559623, 0.0038793295121127003, 0.003879461887660544, 0.0038794592395455297, 0.0038794584123467172, 0.0038799074107022254, 0.0038799286478376884, 0.0038800287294748874, 0.003880030153195958, 0.0038801854074062845, 0.003880281645478043, 0.0038804940854718904, 0.003882683256322896, 0.003882541613193519, 0.003882128377381029, 0.003882093739247478, 0.003882077070033995, 0.003882043386940047, 0.003882011064243853, 0.0038819677083788244, 0.0038819411878626814, 0.003881913288598707, 0.0038819261508007755, 0.0038819279118586653, 0.0038819619941588253, 0.0038819286406456925, 0.0038819523725666027, 0.0038819331090969634, 0.003881899787977023, 0.0038818824760465365, 0.0038818926331412435, 0.0038819345290927836, 0.0038819234653983507, 0.003881886147110901, 0.0038818694743488757, 0.003881869520527041]\n",
      "print for target number: 1\n",
      "Root\n",
      "depth=0| Split rule- x_i to split:10, value to split:296187.43\n",
      "   | Impurity of the node: 3.17\n",
      "   | Impurity of the best split: 2.46\n",
      "   | Count of observations in node: 1192\n",
      "depth=1|-------- Split rule- x_i to split:0, value to split:353815.725\n",
      "           | Impurity of the node: 1.28\n",
      "           | Impurity of the best split: 1.08\n",
      "           | Count of observations in node: 1186\n",
      "depth=2   leaf node                       | Count of observations in node: 1118\n",
      "                                          | Prediction of node: [0.009]\n",
      "                                          | Impurity of the node: 0.41\n",
      "Leaf id: 1\n",
      "depth=2   leaf node                       | Count of observations in node: 68\n",
      "                                          | Prediction of node: [0.065]\n",
      "                                          | Impurity of the node: 0.67\n",
      "Leaf id: 2\n",
      "depth=1|-------- Split rule- x_i to split:4, value to split:37350.0\n",
      "           | Impurity of the node: 1.17\n",
      "           | Impurity of the best split: 0.0\n",
      "           | Count of observations in node: 6\n",
      "depth=2   leaf node                       | Count of observations in node: 4\n",
      "                                          | Prediction of node: [0.046]\n",
      "                                          | Impurity of the node: 0.0\n",
      "Leaf id: 3\n",
      "depth=2   leaf node                       | Count of observations in node: 2\n",
      "                                          | Prediction of node: [0.981]\n",
      "                                          | Impurity of the node: 0.0\n",
      "Leaf id: 4\n",
      "runtime for ind model:1919.0091111660004 seconds\n",
      "LOO print:\n",
      "[0.002019802955382048, 0.001689138181473365, 0.0017158515332882551, 0.0017372804378259147, 0.0017554060792175975, 0.001722662969803094, 0.0017246964061386385, 0.0017023363655701389, 0.001703600695256932, 0.0017048206653700632, 0.0017066022976060101, 0.0017074289227189455, 0.0017085805490935657, 0.001709281343727225, 0.001709437102783786, 0.0017095023350400882, 0.0017095501795343537, 0.0017096350433922186, 0.0017099188980713505, 0.0017099780150044354, 0.0017099829961280302, 0.0017099829329810148]\n"
     ]
    },
    {
     "name": "stderr",
     "output_type": "stream",
     "text": [
      "CV progress bar: 4it [15:26:07, 12385.57s/it]"
     ]
    },
    {
     "name": "stdout",
     "output_type": "stream",
     "text": [
      "Root\n",
      "depth=0| Split rule- x_i to split:3, value to split:470702.375\n",
      "   | Impurity of the node: 4.28\n",
      "   | Impurity of the best split: 3.95\n",
      "   | Count of observations in node: 1192\n",
      "   |LOO score: 4.076429149431859\n",
      "************************************************************sub tree number 0 ************************************************************\n",
      "Root\n",
      "depth=0| Split rule- x_i to split:5, value to split:169030.9\n",
      "   | Impurity of the node: 1.03\n",
      "   | Impurity of the best split: 0.96\n",
      "   | Count of observations in node: 1160\n",
      "   |LOO score: 1.026952755814817\n",
      "depth=1   leaf node               | Count of observations in node: 1145\n",
      "                                  | Prediction of node: [0.002]\n",
      "                                  | Impurity of the node: 0.03\n",
      "Leaf id: 2\n",
      "                                  | Loo score: 0.028\n",
      "depth=1   leaf node               | Count of observations in node: 15\n",
      "                                  | Prediction of node: [0.071]\n",
      "                                  | Impurity of the node: 0.93\n",
      "Leaf id: 3\n",
      "                                  | Loo score: 0.995\n",
      "************************************************************sub tree number 1 ************************************************************\n",
      "Root\n",
      "depth=0| Split rule- x_i to split:10, value to split:586503.0\n",
      "   | Impurity of the node: 1.75\n",
      "   | Impurity of the best split: 0.85\n",
      "   | Count of observations in node: 1160\n",
      "   |LOO score: 1.7135701913880843\n",
      "depth=1   leaf node               | Count of observations in node: 1159\n",
      "                                  | Prediction of node: [0.01]\n",
      "                                  | Impurity of the node: 0.85\n",
      "Leaf id: 7\n",
      "                                  | Loo score: 0.816\n",
      "depth=1   leaf node               | Count of observations in node: 1\n",
      "                                  | Prediction of node: [0.961]\n",
      "                                  | Impurity of the node: 0.0\n",
      "Leaf id: 8\n",
      "************************************************************sub tree number 0 ************************************************************\n",
      "Root\n",
      "depth=0| Split rule- x_i to split:2, value to split:49.5\n",
      "   | Impurity of the node: 0.06\n",
      "   | Impurity of the best split: 0.02\n",
      "   | Count of observations in node: 32\n",
      "   |LOO score: 0.056837929370330664\n",
      "depth=1   leaf node               | Count of observations in node: 7\n",
      "                                  | Prediction of node: [0.053]\n",
      "                                  | Impurity of the node: 0.04\n",
      "Leaf id: 17\n",
      "                                  | Loo score: 0.044\n",
      "depth=1   leaf node               | Count of observations in node: 25\n",
      "                                  | Prediction of node: [0.023]\n",
      "                                  | Impurity of the node: 0.01\n",
      "Leaf id: 18\n",
      "                                  | Loo score: 0.012\n",
      "************************************************************sub tree number 1 ************************************************************\n",
      "Root\n",
      "depth=0| Split rule- x_i to split:5, value to split:516500.5\n",
      "   | Impurity of the node: 1.12\n",
      "   | Impurity of the best split: 0.3\n",
      "   | Count of observations in node: 32\n",
      "   |LOO score: 0.9188827633259257\n",
      "depth=1   leaf node               | Count of observations in node: 31\n",
      "                                  | Prediction of node: [0.08]\n",
      "                                  | Impurity of the node: 0.3\n",
      "Leaf id: 37\n",
      "                                  | Loo score: 0.273\n",
      "depth=1   leaf node               | Count of observations in node: 1\n",
      "                                  | Prediction of node: [1.]\n",
      "                                  | Impurity of the node: 0.0\n",
      "Leaf id: 38\n",
      "runtime for LOO model:6280.535947084427 seconds\n",
      "Score for all:0.0031903944043516794\n",
      "Score for ind:0.0032300436526370786\n",
      "Score for loo model:0.0032272694026776708\n",
      "****************************************************************************************************************************************************************\n",
      "for all print:\n",
      "[0.002886832797618686, 0.0031184308207920864, 0.0031760010413601665, 0.003576111064570546, 0.003937425968958353, 0.003945830621697887, 0.004671463051079816, 0.004711332269014465, 0.004715840785863016, 0.004718705368608737, 0.004708827647907633, 0.004729655418615969, 0.004749465812752676, 0.0047580794741126815, 0.004759121815409802, 0.004763823234576223, 0.004768880615613083, 0.004772609257051108, 0.004774559483714304, 0.004784294933351203, 0.004800637554663653, 0.004801900618819034, 0.004804288048206602, 0.0048062062161025095, 0.004807909283036098, 0.004814829034852103, 0.004822614813074182, 0.004822599719361141, 0.004822902350343898, 0.004823313179468656, 0.004824258635622669, 0.004825111743925916, 0.004825151326860201, 0.004825551339821521, 0.004826769186045652, 0.004826321731209427, 0.004827021733370513, 0.004827680180964628, 0.004828104905319008, 0.004834282780789949, 0.00485376862155616, 0.004853800515026046, 0.004854351541683901, 0.004854681264874549, 0.004854703170762796, 0.004854733012295235, 0.004854190458790389, 0.004854088326598114, 0.004853895677187748, 0.0048538223989598814, 0.004853839696200114, 0.00485383574274538, 0.004853818058182229, 0.004854045845689454, 0.004854213189475404, 0.00485427146616405, 0.004854297893287144, 0.004854357256572062, 0.0048543925249952356, 0.004854375696636056, 0.0048543818507663155, 0.0048543883713962005, 0.00485439027300348, 0.0048543909291217605]\n",
      "Root\n",
      "depth=0| Split rule- x_i to split:10, value to split:296187.43\n",
      "   | Impurity of the node: 5.05\n",
      "   | Impurity of the best split: 4.19\n",
      "   | Count of observations in node: 1192\n",
      "depth=1   leaf node               | Count of observations in node: 1187\n",
      "                                  | Prediction of node: [0.003 0.013]\n",
      "                                  | Impurity of the node: 3.17\n",
      "Leaf id: 1\n",
      "depth=1   leaf node               | Count of observations in node: 5\n",
      "                                  | Prediction of node: [0.014 0.428]\n",
      "                                  | Impurity of the node: 1.02\n",
      "Leaf id: 2\n",
      "runtime for all model:1115.276909828186 seconds\n",
      "for ind print:\n",
      "[0.001016054399771117, 0.0011268899460998843, 0.0027315586418716654, 0.0026289827055157753, 0.00264575162449946, 0.0026622636189122845, 0.002688367387163344, 0.003546278987193356, 0.00359754357522777, 0.0036980618871507802, 0.003910021864515399, 0.004256355017954089, 0.004258394851234315, 0.0042589715924145006, 0.004259041447772051, 0.0042590947380536075, 0.004259249331003059, 0.004259965364727526, 0.004260030540346222, 0.004260134742494046, 0.004260099943459725, 0.004260281013084239, 0.004260543395507814, 0.004260511985047762, 0.004260567165337367, 0.004260543262226068, 0.004260586331476824, 0.004260605524343752, 0.004260613065870677, 0.00426061264661059, 0.00426061225027966]\n",
      "print for target number: 0\n",
      "Root\n",
      "depth=0| Split rule- x_i to split:5, value to split:169030.9\n",
      "   | Impurity of the node: 1.13\n",
      "   | Impurity of the best split: 1.06\n",
      "   | Count of observations in node: 1192\n",
      "depth=1   leaf node               | Count of observations in node: 1172\n",
      "                                  | Prediction of node: [0.002]\n",
      "                                  | Impurity of the node: 0.13\n",
      "Leaf id: 1\n",
      "depth=1   leaf node               | Count of observations in node: 20\n",
      "                                  | Prediction of node: [0.062]\n",
      "                                  | Impurity of the node: 0.93\n",
      "Leaf id: 2\n",
      "[0.00482564822483254, 0.005445152737431409, 0.00528387130232606, 0.005709822016174629, 0.007326412817921726, 0.007348115160178692, 0.007387396966039924, 0.007411692642144875, 0.007430477971000699, 0.007472755752668189, 0.007523878157640475, 0.0075358547682207845, 0.007534534840916103, 0.007551719484771785, 0.007568064411168517, 0.007577077515816393, 0.007577987075944705, 0.0075792977973216605, 0.0075852432493170975, 0.007585354276926147, 0.007585893785976841, 0.00758656735364589, 0.007586857512007522, 0.007587600726656468, 0.007590199307129168, 0.0075927890644548555, 0.007598018269050928, 0.00760302304145073, 0.007603542012407349, 0.007603262722770075, 0.007603293643845478, 0.007603306896422068, 0.0076032668945893635, 0.007603270792213464, 0.007603238535545148, 0.00760325328037863, 0.007603293390507408, 0.007603387898545885, 0.00760344266667915, 0.007603541937100422, 0.007603633061445453, 0.007603805992537181, 0.007604111620286543, 0.00761669916241727, 0.0076178310901327565, 0.007617543079567722, 0.007617539356159187, 0.007617575772972107, 0.007617332290486095, 0.007617269632393936, 0.007617320425466767, 0.007617399009073681, 0.007617520463637631, 0.007617754849277658, 0.0076182181690758275, 0.0076191426250010325, 0.0076204488072107255, 0.007629502316757977, 0.007629502316757977]\n",
      "print for target number: 1\n",
      "Root\n",
      "depth=0| Split rule- x_i to split:10, value to split:296187.43\n",
      "   | Impurity of the node: 3.92\n",
      "   | Impurity of the best split: 3.06\n",
      "   | Count of observations in node: 1192\n",
      "depth=1   leaf node               | Count of observations in node: 1187\n",
      "                                  | Prediction of node: [0.013]\n",
      "                                  | Impurity of the node: 2.04\n",
      "Leaf id: 1\n",
      "depth=1   leaf node               | Count of observations in node: 5\n",
      "                                  | Prediction of node: [0.428]\n",
      "                                  | Impurity of the node: 1.02\n",
      "Leaf id: 2\n",
      "runtime for ind model:1376.1335608959198 seconds\n",
      "LOO print:\n",
      "[0.002623928738900057, 0.0035855943963293557, 0.0036244465549935185, 0.0037480257783936836, 0.0036783865510322893, 0.0037040090946619773, 0.0036911465747714103, 0.003694570839455491, 0.003695157544911111, 0.0036997655238223404, 0.0037022426912441874, 0.003701227207882613, 0.003700946829703143, 0.003700702961743841, 0.0037009381359512177, 0.003701178948988043, 0.0037006618829307177, 0.0037016120309352105, 0.0037017304403376534, 0.003701724492403019, 0.0037017242473059613]\n"
     ]
    },
    {
     "name": "stderr",
     "output_type": "stream",
     "text": [
      "CV progress bar: 5it [17:42:11, 10863.41s/it]"
     ]
    },
    {
     "name": "stdout",
     "output_type": "stream",
     "text": [
      "Root\n",
      "depth=0| Split rule- x_i to split:3, value to split:470702.375\n",
      "   | Impurity of the node: 5.05\n",
      "   | Impurity of the best split: 4.74\n",
      "   | Count of observations in node: 1192\n",
      "   |LOO score: 4.849565221046986\n",
      "************************************************************sub tree number 0 ************************************************************\n",
      "Root\n",
      "depth=0   leaf node       | Count of observations in node: 1157\n",
      "                          | Prediction of node: [0.003]\n",
      "                          | Impurity of the node: 1.03\n",
      "Leaf id: 2\n",
      "************************************************************sub tree number 1 ************************************************************\n",
      "Root\n",
      "depth=0   leaf node       | Count of observations in node: 1157\n",
      "                          | Prediction of node: [0.012]\n",
      "                          | Impurity of the node: 2.5\n",
      "Leaf id: 6\n",
      "************************************************************sub tree number 0 ************************************************************\n",
      "Root\n",
      "depth=0   leaf node       | Count of observations in node: 35\n",
      "                          | Prediction of node: [0.032]\n",
      "                          | Impurity of the node: 0.07\n",
      "Leaf id: 14\n",
      "************************************************************sub tree number 1 ************************************************************\n",
      "Root\n",
      "depth=0   leaf node       | Count of observations in node: 35\n",
      "                          | Prediction of node: [0.102]\n",
      "                          | Impurity of the node: 1.14\n",
      "Leaf id: 30\n",
      "runtime for LOO model:5673.058864116669 seconds\n",
      "Score for all:0.0009546195034862436\n",
      "Score for ind:0.0009805317978930639\n",
      "Score for loo model:0.00032336626891919974\n",
      "****************************************************************************************************************************************************************\n",
      "for all print:\n",
      "[0.003663957349237515, 0.0037713410469375707, 0.003976723712034571, 0.004668866108158221, 0.005549737712224475, 0.006780902860003013, 0.006832893070849213, 0.006834308267441744, 0.006844256989672485, 0.006827036063007471, 0.006827117325546537, 0.006832425749572953, 0.006836756350407598, 0.006839479329084683, 0.006844246117937114, 0.0068494935605122945, 0.006849009171440384, 0.0068540786558807755, 0.006858216088969466, 0.006858067320220898, 0.006858672986065714, 0.006858074720948154, 0.006857706439766803, 0.00685817859906168, 0.006859112675868352, 0.00685934344193658, 0.006859585935122413, 0.006859962647562194, 0.006859858745631461, 0.0068598804302373835, 0.006860742360963614, 0.00686083924775169, 0.006860927257400483, 0.006861016971359965, 0.006861024535142905, 0.006861049311325404, 0.006861094802270454, 0.006861107557801052, 0.006861120027028848, 0.006861133675173074, 0.006861123287956653, 0.006861100873435136, 0.00686122953983344, 0.00686151092704841, 0.006861516969602549, 0.006861528878620342, 0.006861525235672371, 0.006861543685836233, 0.00686151288396695, 0.006861523748369412, 0.006861544294352333, 0.006861566329398272, 0.006861566025614578]\n",
      "Root\n",
      "depth=0| Split rule- x_i to split:10, value to split:296187.43\n",
      "   | Impurity of the node: 5.04\n",
      "   | Impurity of the best split: 4.33\n",
      "   | Count of observations in node: 1193\n",
      "depth=1   leaf node               | Count of observations in node: 1187\n",
      "                                  | Prediction of node: [0.003 0.013]\n",
      "                                  | Impurity of the node: 3.16\n",
      "Leaf id: 1\n",
      "depth=1   leaf node               | Count of observations in node: 6\n",
      "                                  | Prediction of node: [0.012 0.357]\n",
      "                                  | Impurity of the node: 1.17\n",
      "Leaf id: 2\n",
      "runtime for all model:864.4580066204071 seconds\n",
      "for ind print:\n",
      "[0.001007909953688666, 0.0010624121335034834, 0.0010670313634273283, 0.0010780572677210102, 0.0010977092579636145, 0.001127179559533308, 0.0011705039781748027, 0.001231166817903477, 0.0013237240346558902, 0.001469399546236672, 0.0017367207355126059, 0.0028840945179486096, 0.0045661593580404655, 0.006666634606883779, 0.006666873644572156, 0.006666833922893503, 0.006666983186245622, 0.006667058129712075, 0.006667200243043986, 0.006667274616774019, 0.006666972134924398, 0.006667350315837099, 0.006667512317702804, 0.006667580361293395, 0.006667638508404422, 0.0066676682402062705, 0.00666766724764784]\n",
      "print for target number: 0\n",
      "Root\n",
      "depth=0| Split rule- x_i to split:5, value to split:169030.9\n",
      "   | Impurity of the node: 1.12\n",
      "   | Impurity of the best split: 1.06\n",
      "   | Count of observations in node: 1193\n",
      "depth=1   leaf node               | Count of observations in node: 1172\n",
      "                                  | Prediction of node: [0.002]\n",
      "                                  | Impurity of the node: 0.12\n",
      "Leaf id: 1\n",
      "depth=1   leaf node               | Count of observations in node: 21\n",
      "                                  | Prediction of node: [0.057]\n",
      "                                  | Impurity of the node: 0.94\n",
      "Leaf id: 2\n",
      "[0.006529967087971716, 0.0071562061085122365, 0.006824096526040727, 0.007550367518283511, 0.007854187550537664, 0.008090056615887277, 0.008188700333033674, 0.00814512392363197, 0.00815122056953975, 0.008164998202039506, 0.008120949716136413, 0.008117374289415795, 0.008164592160683385, 0.008184784318020076, 0.008179447549102863, 0.008190655415507373, 0.008198794284636199, 0.00820170480125722, 0.008203061066552218, 0.008207142914173252, 0.008211597636666451, 0.008212822826843953, 0.008228836995963672, 0.008230415681009096, 0.008231173736963086, 0.008231476532258041, 0.008231579647486562, 0.008231626041946037, 0.008231596364465221, 0.008231632081435295, 0.008231517227567278, 0.008231607672229876, 0.008231721226828081, 0.008232003472706586, 0.00823210918386492, 0.008235003689211436, 0.00823275599932557, 0.00823294685592172, 0.008232820933013767, 0.008232814676295813, 0.008232684989104616, 0.008232437326693126, 0.008232369838383172, 0.008232260605069801, 0.008232151586494332, 0.008232300562777808, 0.008232160797252313, 0.008232057456772053, 0.008231927380436013, 0.008231842715736992, 0.0082298418851703, 0.008229898959334092, 0.008229736394052427, 0.008229630750274986, 0.008229780160287557, 0.008229744196763807, 0.008230038464248376, 0.008230048581961186, 0.008229918962469756, 0.008229767082996007, 0.008229625918676015, 0.00822952466435859, 0.008229429038030022, 0.008229282770783034, 0.0082291755241805, 0.008229151764410001, 0.008229300599599717, 0.008229615492363142, 0.00822956391265649, 0.008229790218011995, 0.008231970457152333, 0.008241283892301604, 0.008256348881219672, 0.008256348881219672]\n",
      "print for target number: 1\n",
      "Root\n",
      "depth=0| Split rule- x_i to split:10, value to split:296187.43\n",
      "   | Impurity of the node: 3.93\n",
      "   | Impurity of the best split: 3.22\n",
      "   | Count of observations in node: 1193\n",
      "depth=1   leaf node               | Count of observations in node: 1187\n",
      "                                  | Prediction of node: [0.013]\n",
      "                                  | Impurity of the node: 2.05\n",
      "Leaf id: 1\n",
      "depth=1   leaf node               | Count of observations in node: 6\n",
      "                                  | Prediction of node: [0.357]\n",
      "                                  | Impurity of the node: 1.17\n",
      "Leaf id: 2\n",
      "runtime for ind model:1646.3779773712158 seconds\n",
      "LOO print:\n",
      "[0.003745696012750265, 0.003874351395174988, 0.0038529187617193095, 0.004227770653351988, 0.004209983525749407, 0.004250064998889769, 0.0042471738676021775, 0.004242776884973693, 0.004240187457409104, 0.004240037575379813, 0.004229771328856372, 0.004232184374276029, 0.004232280002205239, 0.004232155055084957, 0.004232113647784099, 0.004232068766192487, 0.004232086555253413, 0.004232088519548724, 0.004232088607975799]\n"
     ]
    },
    {
     "name": "stderr",
     "output_type": "stream",
     "text": [
      "CV progress bar: 6it [19:48:17, 9742.39s/it] "
     ]
    },
    {
     "name": "stdout",
     "output_type": "stream",
     "text": [
      "Root\n",
      "depth=0| Split rule- x_i to split:3, value to split:470702.375\n",
      "   | Impurity of the node: 5.04\n",
      "   | Impurity of the best split: 4.74\n",
      "   | Count of observations in node: 1193\n",
      "   |LOO score: 4.833569197182206\n",
      "************************************************************sub tree number 0 ************************************************************\n",
      "Root\n",
      "depth=0   leaf node       | Count of observations in node: 1159\n",
      "                          | Prediction of node: [0.002]\n",
      "                          | Impurity of the node: 1.02\n",
      "Leaf id: 2\n",
      "************************************************************sub tree number 1 ************************************************************\n",
      "Root\n",
      "depth=0   leaf node       | Count of observations in node: 1159\n",
      "                          | Prediction of node: [0.012]\n",
      "                          | Impurity of the node: 2.51\n",
      "Leaf id: 6\n",
      "************************************************************sub tree number 0 ************************************************************\n",
      "Root\n",
      "depth=0   leaf node       | Count of observations in node: 34\n",
      "                          | Prediction of node: [0.032]\n",
      "                          | Impurity of the node: 0.07\n",
      "Leaf id: 14\n",
      "************************************************************sub tree number 1 ************************************************************\n",
      "Root\n",
      "depth=0   leaf node       | Count of observations in node: 34\n",
      "                          | Prediction of node: [0.104]\n",
      "                          | Impurity of the node: 1.14\n",
      "Leaf id: 30\n",
      "runtime for LOO model:5055.448991537094 seconds\n",
      "Score for all:0.0002838864247334449\n",
      "Score for ind:0.00028006199703134183\n",
      "Score for loo model:0.0003418713937914389\n",
      "****************************************************************************************************************************************************************\n",
      "for all print:\n",
      "[0.00333858960744763, 0.0034910208815128172, 0.0034251280976799877, 0.003623336999894865, 0.004049116094994924, 0.004476478406141502, 0.004601004021704178, 0.005210467484258342, 0.0052175524301778745, 0.0052375572128139005, 0.005252002833343169, 0.005245311844111328, 0.005245832011670786, 0.005266136921315278, 0.0052842821021190445, 0.005289799436107655, 0.005289597459380139, 0.005294168406172381, 0.005296492148150401, 0.0052976068731490295, 0.005298298460868697, 0.005302450690462394, 0.00530407712296223, 0.00530452359827503, 0.005304673214222315, 0.005305083733935192, 0.005305779129518352, 0.005306677995030619, 0.005308695313887132, 0.005310463913884442, 0.005310946949885554, 0.005311426539027625, 0.00531207236240356, 0.005313508181484057, 0.005314526443801419, 0.005314780107207029, 0.005315121528272028, 0.005315898221383052, 0.00531600684899942, 0.005315990355180711, 0.0053159723424012015, 0.005315977977647779, 0.0053159533619737045, 0.005315923909564509, 0.005315898664023384, 0.005315877965461323, 0.005315997789376461, 0.005316042203326596, 0.0053160272071848865, 0.0053160272071848865]\n",
      "Root\n",
      "depth=0| Split rule- x_i to split:10, value to split:296187.43\n",
      "   | Impurity of the node: 4.97\n",
      "   | Impurity of the best split: 4.13\n",
      "   | Count of observations in node: 1193\n",
      "depth=1   leaf node               | Count of observations in node: 1188\n",
      "                                  | Prediction of node: [0.003 0.012]\n",
      "                                  | Impurity of the node: 3.08\n",
      "Leaf id: 1\n",
      "depth=1   leaf node               | Count of observations in node: 5\n",
      "                                  | Prediction of node: [0.014 0.423]\n",
      "                                  | Impurity of the node: 1.04\n",
      "Leaf id: 2\n",
      "runtime for all model:807.297755241394 seconds\n",
      "for ind print:\n",
      "[0.0010194102620265093, 0.001082759014897928, 0.001094415687945745, 0.0011135055364269114, 0.001145096856714328, 0.00347819713912263, 0.0051411842072771555, 0.005166114765218673, 0.005207679619049068, 0.005279789963033225, 0.005410612454636644, 0.005058869897611012, 0.005062405192194395, 0.005062722022765092, 0.005059905746452417, 0.005060012730039936, 0.005060011243713516]\n",
      "print for target number: 0\n",
      "Root\n",
      "depth=0| Split rule- x_i to split:5, value to split:169030.9\n",
      "   | Impurity of the node: 1.13\n",
      "   | Impurity of the best split: 1.05\n",
      "   | Count of observations in node: 1193\n",
      "depth=1   leaf node               | Count of observations in node: 1174\n",
      "                                  | Prediction of node: [0.002]\n",
      "                                  | Impurity of the node: 0.13\n",
      "Leaf id: 1\n",
      "depth=1   leaf node               | Count of observations in node: 19\n",
      "                                  | Prediction of node: [0.064]\n",
      "                                  | Impurity of the node: 0.93\n",
      "Leaf id: 2\n",
      "[0.0057326617324796715, 0.0058802040295069195, 0.0058035670924453265, 0.006318545096130451, 0.006460101016245385, 0.006526205330041758, 0.006692017418394728, 0.0071554552603259065, 0.007137059037803903, 0.007136814324297525, 0.00719500443399001, 0.0072086339506686, 0.007229238694917586, 0.007243418338698328, 0.007251188195641185, 0.0072529761495062324, 0.007258748872084256, 0.00726024138158155, 0.007261886978462882, 0.007264826475823882, 0.007265891314271839, 0.007266689887792034, 0.007267527884919164, 0.0072685888531012115, 0.007268913496064369, 0.007269481018560798, 0.00726926753526414, 0.007269220319104619, 0.0072698956139547535, 0.007270206329013545, 0.0072711412003426314, 0.007271277589909751, 0.007271402499019463, 0.007271570063562748, 0.007271648384880392, 0.0072716104844376935, 0.00727169071937496, 0.0072938544640733256, 0.007313649038171617, 0.0073131744511497785, 0.007313179382083514, 0.007313186085512582, 0.007313197898806053, 0.007313203269769565, 0.007313203269769565]\n",
      "print for target number: 1\n",
      "Root\n",
      "depth=0| Split rule- x_i to split:10, value to split:296187.43\n",
      "   | Impurity of the node: 3.84\n",
      "   | Impurity of the best split: 3.0\n",
      "   | Count of observations in node: 1193\n",
      "depth=1   leaf node               | Count of observations in node: 1188\n",
      "                                  | Prediction of node: [0.012]\n",
      "                                  | Impurity of the node: 1.96\n",
      "Leaf id: 1\n",
      "depth=1   leaf node               | Count of observations in node: 5\n",
      "                                  | Prediction of node: [0.423]\n",
      "                                  | Impurity of the node: 1.04\n",
      "Leaf id: 2\n",
      "runtime for ind model:850.9630773067474 seconds\n",
      "LOO print:\n",
      "[0.00265890529277111, 0.002459427585294321, 0.0024370257008992377, 0.0026982942256113312, 0.0026992865312880743, 0.0026969099165452663, 0.0027130871921749677, 0.002723737510878698, 0.002721201370622163, 0.0027228337181473316, 0.002722665180662461, 0.00272305044332159, 0.002723090791298984, 0.002723143755925077, 0.0027232383885828584, 0.002723058159890321, 0.0027230597932088037, 0.0027230631718527347, 0.0027230623792412626, 0.002723061577167426]\n"
     ]
    },
    {
     "name": "stderr",
     "output_type": "stream",
     "text": [
      "CV progress bar: 7it [21:47:48, 8901.52s/it]"
     ]
    },
    {
     "name": "stdout",
     "output_type": "stream",
     "text": [
      "Root\n",
      "depth=0| Split rule- x_i to split:5, value to split:613995.845\n",
      "   | Impurity of the node: 4.97\n",
      "   | Impurity of the best split: 4.35\n",
      "   | Count of observations in node: 1193\n",
      "   |LOO score: 4.784484953848084\n",
      "************************************************************sub tree number 0 ************************************************************\n",
      "Root\n",
      "depth=0| Split rule- x_i to split:5, value to split:169030.9\n",
      "   | Impurity of the node: 1.13\n",
      "   | Impurity of the best split: 1.05\n",
      "   | Count of observations in node: 1191\n",
      "   |LOO score: 1.123410046964248\n",
      "depth=1|-------- Split rule- x_i to split:3, value to split:1665092.615\n",
      "           | Impurity of the node: 0.13\n",
      "           | Impurity of the best split: 0.07\n",
      "           | Count of observations in node: 1174\n",
      "           |LOO score: 0.1217270250371242\n",
      "depth=2   leaf node                       | Count of observations in node: 1173\n",
      "                                          | Prediction of node: [0.002]\n",
      "                                          | Impurity of the node: 0.07\n",
      "Leaf id: 2\n",
      "                                          | Loo score: 0.065\n",
      "depth=2   leaf node                       | Count of observations in node: 1\n",
      "                                          | Prediction of node: [0.237]\n",
      "                                          | Impurity of the node: 0.0\n",
      "Leaf id: 3\n",
      "depth=1   leaf node               | Count of observations in node: 17\n",
      "                                  | Prediction of node: [0.07]\n",
      "                                  | Impurity of the node: 0.92\n",
      "Leaf id: 4\n",
      "                                  | Loo score: 0.991\n",
      "************************************************************sub tree number 1 ************************************************************\n",
      "Root\n",
      "depth=0| Split rule- x_i to split:10, value to split:586503.0\n",
      "   | Impurity of the node: 2.85\n",
      "   | Impurity of the best split: 2.35\n",
      "   | Count of observations in node: 1191\n",
      "   |LOO score: 2.7927084553842763\n",
      "depth=1|-------- Split rule- x_i to split:0, value to split:432241.3\n",
      "           | Impurity of the node: 1.95\n",
      "           | Impurity of the best split: 1.78\n",
      "           | Count of observations in node: 1189\n",
      "           |LOO score: 1.881191504960201\n",
      "depth=2   leaf node                       | Count of observations in node: 1143\n",
      "                                          | Prediction of node: [0.01]\n",
      "                                          | Impurity of the node: 1.24\n",
      "Leaf id: 8\n",
      "                                          | Loo score: 1.239\n",
      "depth=2   leaf node                       | Count of observations in node: 46\n",
      "                                          | Prediction of node: [0.072]\n",
      "                                          | Impurity of the node: 0.54\n",
      "Leaf id: 9\n",
      "                                          | Loo score: 0.54\n",
      "depth=1   leaf node               | Count of observations in node: 2\n",
      "                                  | Prediction of node: [0.512]\n",
      "                                  | Impurity of the node: 0.4\n",
      "Leaf id: 10\n",
      "                                  | Loo score: 1.614\n",
      "depth=1|-------- Split rule- x_i to split:0, value to split:225333.5\n",
      "           | Impurity of the node: 0.38\n",
      "           | Impurity of the best split: -0.0\n",
      "           | Count of observations in node: 2\n",
      "depth=2   leaf node                       | Count of observations in node: 1\n",
      "                                          | Prediction of node: [0.008 0.133]\n",
      "                                          | Impurity of the node: 0.0\n",
      "Leaf id: 19\n",
      "depth=2   leaf node                       | Count of observations in node: 1\n",
      "                                          | Prediction of node: [0.033 1.   ]\n",
      "                                          | Impurity of the node: 0.0\n",
      "Leaf id: 20\n",
      "runtime for LOO model:5512.063088655472 seconds\n",
      "Score for all:0.0011738024149584383\n",
      "Score for ind:0.0012110111318537585\n",
      "Score for loo model:0.0005942074756244272\n",
      "****************************************************************************************************************************************************************\n",
      "for all print:\n",
      "[0.002615842327686458, 0.002805990839342039, 0.0028112384853568977, 0.0037734202530540113, 0.004060668512386659, 0.004097834417543397, 0.0044433894873641775, 0.0044241370917708234, 0.004433246399727972, 0.004462470715155559, 0.00445054180274727, 0.004466122245098762, 0.004495304445834167, 0.004505443021857013, 0.004523218373507995, 0.004567201084402424, 0.004789617738229372, 0.004791615984558915, 0.0047930938441537105, 0.004794343010366997, 0.004796194842420603, 0.004797058154550903, 0.004796948333117339, 0.004797207883081141, 0.004797381536139054, 0.004797952656436751, 0.004799210491419205, 0.004806009440574869, 0.004806890145955064, 0.004807480696255092, 0.004806976570944285, 0.0048074889671096774, 0.004808973331704999, 0.004808946094118431, 0.004808904427716251, 0.004808887819596912, 0.004808848944267906, 0.004808837577307167, 0.004808795901959659, 0.004808746901988547, 0.004808706473559605, 0.0048121815793310515, 0.0048120847164804074, 0.004811945498241691, 0.004811721552651641, 0.004811688884188824, 0.004811688884188824]\n",
      "Root\n",
      "depth=0| Split rule- x_i to split:10, value to split:296187.43\n",
      "   | Impurity of the node: 5.06\n",
      "   | Impurity of the best split: 4.35\n",
      "   | Count of observations in node: 1193\n",
      "depth=1   leaf node               | Count of observations in node: 1187\n",
      "                                  | Prediction of node: [0.003 0.013]\n",
      "                                  | Impurity of the node: 3.18\n",
      "Leaf id: 1\n",
      "depth=1   leaf node               | Count of observations in node: 6\n",
      "                                  | Prediction of node: [0.012 0.357]\n",
      "                                  | Impurity of the node: 1.17\n",
      "Leaf id: 2\n",
      "runtime for all model:688.1339344978333 seconds\n",
      "for ind print:\n",
      "[0.0009908054069436443, 0.0010340317123971132, 0.001031780121223593, 0.001043032819735786, 0.0010475056800162716, 0.001079887506848057, 0.001108826028939489, 0.001158110955781892, 0.0012375299791997914, 0.0013689854732359436, 0.0016307829837707483, 0.001285321565160091, 0.0026376001518436435, 0.0026379955835734324, 0.0026378064911744287, 0.002637889219660106, 0.002638019339688928, 0.0026381251271186735, 0.002638252762242817, 0.00263835997436408, 0.0026383257010809983, 0.0026383615702240343, 0.002638414002550611, 0.0026383933307133254, 0.002638573874513121, 0.002638595755650952, 0.002638476641852375, 0.0026385187817665446, 0.0026385364245782882, 0.0026385898337309742, 0.002638604154945841, 0.002638617983487017, 0.0026386312475638087, 0.002638645699735164, 0.002638660109353702, 0.002638677369130282, 0.0026386769660804053, 0.0026386900695132996, 0.002638703317614543, 0.002638716621570271, 0.0026387301621014153, 0.0026387437095345355, 0.002638757196131275, 0.0026387674707388656, 0.0026387752337306354, 0.0026387887251264957, 0.002638803020619955, 0.0026388166111151997, 0.002638831086020936, 0.002638845890635373, 0.002638860669333442, 0.0026388758436459514, 0.0026388911698809136, 0.0026389067078982187, 0.0026389224108877506, 0.0026389379848240357, 0.002638954010243537, 0.0026389572620106245, 0.0026389732438351467, 0.0026389893739861897, 0.0026390017466582853, 0.0026390186295390016, 0.0026390355231474096, 0.002639052803919851, 0.0026390702348489726, 0.0026390879015811344, 0.002639105786543996, 0.0026391231396079885, 0.0026391414662093925, 0.00263915960359694, 0.002639178325549607, 0.002639197138477019, 0.002639216329891844, 0.0026392357872420677, 0.0026392553756441174, 0.0026392753020600453, 0.0026392801494665883, 0.0026392965218610866, 0.0026393169880065395, 0.0026393375321089652, 0.0026393581823283526, 0.0026393780956302506, 0.002639399381850636, 0.0026394211530621136, 0.002639440776996859, 0.0026394631317142527, 0.0026394832691012567, 0.002639505807747535, 0.002639528921933895, 0.0026395449359794755, 0.002639564050620639, 0.0026395880557193857, 0.002639606715127897, 0.002639630586855937, 0.0026396553382178898, 0.002639668654265146, 0.0026396921401999223, 0.0026397105497298393, 0.0026397357429829094, 0.0026397615206572474, 0.0026397880205535343, 0.0026398145895897723, 0.0026398114818803184, 0.0026398310169914916, 0.0026398588406395867, 0.002639884489461073, 0.002639912870554129, 0.0026399418774370677, 0.0026399631305414444, 0.0026399928332399144, 0.0026400228956221165, 0.0026400531788762305, 0.0026400841951369205, 0.002640095531862126, 0.0026401271881766305, 0.0026401559288851723, 0.0026401881107037824, 0.0026402210357360212, 0.00264025268899824, 0.0026402830339186676, 0.0026403135769774285, 0.0026403484917966583, 0.002640383152957786, 0.0026404189396844525, 0.0026404554494805755, 0.002640491443595441, 0.0026405275837392966, 0.002640550717197801, 0.0026405664194382545, 0.002640597090838387, 0.0026406246388743677, 0.002640663994244681, 0.002640704319319641, 0.0026405093386550247, 0.002640541619389025, 0.0026405810917096094, 0.0026405950697244774, 0.002640635372714137, 0.00264067615006226, 0.0026407170231345866, 0.0026407587074403294, 0.002640798647136373, 0.0026408427620909633, 0.0026408841549569644, 0.0026409238289652913, 0.002640954305499001, 0.002641001094450846, 0.002641048578992034, 0.00264109539411682, 0.002641130060137738, 0.0026411776625065607, 0.0026412283237830132, 0.002641279850606475, 0.002641307419025444, 0.0026413583004209753, 0.002641412219042611, 0.0026414670002752666, 0.0026415138560264744, 0.0026415705528089464, 0.0026416278359540487, 0.002641686535941627, 0.0026417202734101064, 0.00264178080732001, 0.002641841602899383, 0.002641899713940077, 0.0026419632807295206, 0.002642025554903717, 0.0026420240642042406, 0.0026420887134928316, 0.0026421561948454884, 0.0026422247823151045, 0.0026422798489297416, 0.0026423505821685962, 0.0026424232832922543, 0.0026424937684664967, 0.002642569253103665, 0.002642642870660247, 0.0026427213291258383, 0.0026428012105758755, 0.0026428828657602105, 0.0026429504877949006, 0.0026430353094073827, 0.0026431218478178524, 0.0026432093608596734, 0.0026432994603439067, 0.002643390954389321, 0.0026434833403337086, 0.0026435782724325745, 0.0026436565501792657, 0.0026436105904542005, 0.0026437074604292073, 0.0026438084509780428, 0.0026439009979348617, 0.002643976056402198, 0.0026440824276348636, 0.0026441866394433335, 0.0026442984497192347, 0.002644413495231656, 0.0026441985332236835, 0.002644296811213373, 0.0026444143607910566, 0.002644512036426492, 0.0026445755982865346, 0.0026447000362647055, 0.0026448270939315255, 0.0026445540419361207, 0.0026446801595796784, 0.002644810219256735, 0.0026449403562831763, 0.002645063616482212, 0.002645202949232481, 0.0026452836067459187, 0.002645410348334597, 0.0026455570447250186, 0.0026457054495096165, 0.002645861975966595, 0.0026460072457956856, 0.00264617045177678, 0.0026463300177451896, 0.002646503053891379, 0.0026466762320469122, 0.0026468578405842123, 0.0026470404531568144, 0.0026472308955394013, 0.0026474223433618866, 0.0026476236563249132, 0.002647831621810337, 0.0026480451254882937, 0.0026482654937487124, 0.0026484908226665736, 0.002648562248222356, 0.0026487993204718056, 0.002649043352587153, 0.0026492788973716793, 0.002649536768105248, 0.0026498002101277987, 0.0026500744476468095, 0.0026503262813762835, 0.0026505766516298165, 0.002650864839127923, 0.002651168949606852, 0.0026514878034712085, 0.0026517955443170578, 0.0026521335328816378, 0.002652438735324615, 0.0026527989136190776, 0.002653172021360979, 0.002653557929928445, 0.002653952806800446, 0.0026543667788562026, 0.002654794244550893, 0.002655235730476901, 0.002655672369798103, 0.002656149056354095, 0.0026566384060391643, 0.0026571513204545812, 0.0026576741793158084, 0.0026582269734756895, 0.0026587982228097203, 0.002659300901077191, 0.002659877929841328, 0.002660519622156237, 0.0026611869502232016, 0.0026535867670652727, 0.0026540538545899326, 0.002654563646395904, 0.0026550949863812347, 0.002655648716265408, 0.00265618327158881, 0.002656782550431279, 0.0026574157143718557, 0.0026580765427670016, 0.002658769482822446, 0.0026594859081218412, 0.002660249005250083, 0.002661028001042369, 0.0026618188952769383, 0.002662663495943166, 0.002663590877254753, 0.002664562042084656, 0.002665580431359421, 0.0026665493727513305, 0.0026676725546643616, 0.0026688760261661783, 0.002670152932076339, 0.002671505128134995, 0.002672908628861809, 0.002674288757043025, 0.0026759000432910523, 0.002677607604253284, 0.002679400350376711, 0.0026813407035491924, 0.002683421310559477, 0.0026856371807391305, 0.0026873441847191206, 0.002689870437411322, 0.002692583334270834, 0.002695498175196236, 0.0026918972900232168, 0.0026949361432844704, 0.0026982342094987117, 0.0027018027779553816, 0.002705456388440393, 0.0027095675963865807, 0.0027141650442315804, 0.00271920565377232, 0.002724773134318045, 0.0027300269087314395, 0.0027367559553869206, 0.0027441879044941544, 0.002752500737153001, 0.002761732739451951, 0.0027721877639067553, 0.0027816878779913213, 0.002791855986921539, 0.0028057961574894964, 0.0028223916795733755, 0.002841558477977997, 0.0028640922581335284, 0.0028904879899037234, 0.0029217835231332896, 0.0029591685767441874, 0.0030040340115090394, 0.0030591469398380837, 0.0031275615191933464, 0.0032136131762865493, 0.003323118247918473, 0.0034687989585624065, 0.0036659982906975816, 0.003909451773946586, 0.004296026068869608, 0.0048997645741011234, 0.005898984183261772, 0.007720058494291191, 0.011691876651826222, 0.023051732969184092, 0.05520595873269561, 0.05520595873269561]\n",
      "print for target number: 0\n",
      "Root\n",
      "depth=0| Split rule- x_i to split:5, value to split:169030.9\n",
      "   | Impurity of the node: 1.13\n",
      "   | Impurity of the best split: 1.06\n",
      "   | Count of observations in node: 1193\n",
      "depth=1   leaf node               | Count of observations in node: 1173\n",
      "                                  | Prediction of node: [0.002]\n",
      "                                  | Impurity of the node: 0.13\n",
      "Leaf id: 1\n",
      "depth=1   leaf node               | Count of observations in node: 20\n",
      "                                  | Prediction of node: [0.062]\n",
      "                                  | Impurity of the node: 0.93\n",
      "Leaf id: 2\n",
      "[0.004284826034105944, 0.0047827551644215646, 0.00467662892441348, 0.00547558193622925, 0.005605377422852414, 0.005522014378522904, 0.0055970537932653885, 0.00562240573444412, 0.005680858572942382, 0.005700554313990357, 0.005720759856621331, 0.005734550841107714, 0.005741796574599479, 0.0057586367870464, 0.0057697052727025185, 0.005774352372111604, 0.005775511704998045, 0.0057783258960985495, 0.005783910979433779, 0.005792272637678925, 0.005793559347799873, 0.0057949183819710984, 0.005795514689035353, 0.0058092890968912, 0.005809460621237483, 0.0058096293710036395, 0.005810353294797236, 0.005811962087110309, 0.005815250748410506, 0.005824005625627042, 0.005866830298838023, 0.005866905573560895, 0.005867229147910271, 0.005867697364891894, 0.005871083092047298, 0.00587233131497889, 0.005873747463390971, 0.0058750311177314645, 0.00587502505360094, 0.005875025043331655]\n",
      "print for target number: 1\n",
      "Root\n",
      "depth=0| Split rule- x_i to split:10, value to split:296187.43\n",
      "   | Impurity of the node: 3.93\n",
      "   | Impurity of the best split: 3.23\n",
      "   | Count of observations in node: 1193\n",
      "depth=1   leaf node               | Count of observations in node: 1187\n",
      "                                  | Prediction of node: [0.013]\n",
      "                                  | Impurity of the node: 2.05\n",
      "Leaf id: 1\n",
      "depth=1   leaf node               | Count of observations in node: 6\n",
      "                                  | Prediction of node: [0.357]\n",
      "                                  | Impurity of the node: 1.17\n",
      "Leaf id: 2\n",
      "runtime for ind model:9910.76080417633 seconds\n",
      "LOO print:\n",
      "[0.002062980041482132, 0.0023784103227419617, 0.002386895963478981, 0.002437678490047037, 0.0024496006121929753, 0.0024195686911012205, 0.0023991276906714437, 0.0023898766938119857, 0.002386143622687245, 0.0023895211566803036, 0.0023909807959347526, 0.002391163868632835, 0.0023912050306458305, 0.0023926275924498076, 0.002392611272020188, 0.0023925628663647655, 0.0023925335961494675, 0.0023925757202315537, 0.002392575729512087]\n"
     ]
    },
    {
     "name": "stderr",
     "output_type": "stream",
     "text": [
      "CV progress bar: 8it [26:16:51, 11207.10s/it]"
     ]
    },
    {
     "name": "stdout",
     "output_type": "stream",
     "text": [
      "Root\n",
      "depth=0| Split rule- x_i to split:3, value to split:470702.375\n",
      "   | Impurity of the node: 5.06\n",
      "   | Impurity of the best split: 4.75\n",
      "   | Count of observations in node: 1193\n",
      "   |LOO score: 4.840624618543401\n",
      "************************************************************sub tree number 0 ************************************************************\n",
      "Root\n",
      "depth=0   leaf node       | Count of observations in node: 1159\n",
      "                          | Prediction of node: [0.003]\n",
      "                          | Impurity of the node: 1.03\n",
      "Leaf id: 2\n",
      "************************************************************sub tree number 1 ************************************************************\n",
      "Root\n",
      "depth=0   leaf node       | Count of observations in node: 1159\n",
      "                          | Prediction of node: [0.012]\n",
      "                          | Impurity of the node: 2.52\n",
      "Leaf id: 6\n",
      "************************************************************sub tree number 0 ************************************************************\n",
      "Root\n",
      "depth=0   leaf node       | Count of observations in node: 34\n",
      "                          | Prediction of node: [0.033]\n",
      "                          | Impurity of the node: 0.07\n",
      "Leaf id: 14\n",
      "************************************************************sub tree number 1 ************************************************************\n",
      "Root\n",
      "depth=0   leaf node       | Count of observations in node: 34\n",
      "                          | Prediction of node: [0.104]\n",
      "                          | Impurity of the node: 1.14\n",
      "Leaf id: 30\n",
      "runtime for LOO model:5544.853100299835 seconds\n",
      "Score for all:0.00022172335966343248\n",
      "Score for ind:0.0002459032945284199\n",
      "Score for loo model:0.0002944825533291624\n",
      "****************************************************************************************************************************************************************\n",
      "for all print:\n",
      "[0.0012090782220040056, 0.0012158397455341913, 0.0012688183210671287, 0.0014533656825472287, 0.0016277421447712299, 0.0016148992776123298, 0.0031482041504253253, 0.003149667973501964, 0.0031612693682378803, 0.003193669767912895, 0.0032252809843020098, 0.0032636607673927932, 0.0033356693095087965, 0.0036163167591970894, 0.003631969933855026, 0.0036366533745075267, 0.0036397097651783444, 0.003643932746107365, 0.003647555216059238, 0.0036554491583456346, 0.0036602682172471187, 0.0036598058594490704, 0.003661796217374825, 0.0036670692816287535, 0.003669858668747708, 0.003676133505339146, 0.003700253722222738, 0.0037002774663108403, 0.003700269741172294, 0.003700269615486631]\n",
      "Root\n",
      "depth=0| Split rule- x_i to split:5, value to split:165477.155\n",
      "   | Impurity of the node: 2.85\n",
      "   | Impurity of the best split: 2.69\n",
      "   | Count of observations in node: 1193\n",
      "depth=1   leaf node               | Count of observations in node: 1173\n",
      "                                  | Prediction of node: [0.002 0.011]\n",
      "                                  | Impurity of the node: 1.6\n",
      "Leaf id: 1\n",
      "depth=1   leaf node               | Count of observations in node: 20\n",
      "                                  | Prediction of node: [0.06  0.079]\n",
      "                                  | Impurity of the node: 1.09\n",
      "Leaf id: 2\n",
      "runtime for all model:375.93470788002014 seconds\n",
      "for ind print:\n",
      "[0.0009969625539969287, 0.0010444893020833926, 0.0010706019379085794, 0.001092974756254075, 0.0011205344916110438, 0.001157222040301188, 0.004251458396089728, 0.004262248620497517, 0.004275384767684913, 0.004293322083528945, 0.004325862976466413, 0.004382683436082671, 0.004502451953134969, 0.005053476770074965, 0.005053829241088003, 0.00505411230670646, 0.005054288311407864, 0.005054354419205905, 0.005054395455481401, 0.005055743902107899, 0.005056037013571182, 0.005056633287466329, 0.005056567835729249, 0.005056504095187358, 0.005056551775892622, 0.005056510824329494, 0.005056355479888503, 0.005056348596783955, 0.005055928217940091, 0.005055115325027503, 0.005055129173480393, 0.0050551401500840915, 0.0050551874218398175, 0.005055196185453569, 0.005055213110178574, 0.005055240832299209, 0.005055177373370567, 0.005056450286508596, 0.0050565118721761565, 0.005056547718178715, 0.005056589866848525, 0.005056623010962554, 0.005056645132933804, 0.005056437805517028, 0.00505643984544744, 0.005056440905194238]\n",
      "print for target number: 0\n",
      "Root\n",
      "depth=0| Split rule- x_i to split:5, value to split:165477.155\n",
      "   | Impurity of the node: 1.11\n",
      "   | Impurity of the best split: 1.04\n",
      "   | Count of observations in node: 1193\n",
      "depth=1   leaf node               | Count of observations in node: 1173\n",
      "                                  | Prediction of node: [0.002]\n",
      "                                  | Impurity of the node: 0.11\n",
      "Leaf id: 1\n",
      "depth=1   leaf node               | Count of observations in node: 20\n",
      "                                  | Prediction of node: [0.06]\n",
      "                                  | Impurity of the node: 0.93\n",
      "Leaf id: 2\n",
      "[0.001483317716921682, 0.0014727048136529179, 0.0016089060339627794, 0.002065080059655964, 0.0020482004352333906, 0.0019802830754503914, 0.001973632572278978, 0.0019734813686922265, 0.0019048225205804028, 0.001929967282859199, 0.0019622470206484013, 0.0020134974247767805, 0.0020176347373471472, 0.0020309967424077023, 0.0020324272349181013, 0.002037438273803537, 0.0020413308125485814, 0.0020471073604614266, 0.0020486864640025795, 0.0020525012589624686, 0.0020548742588105172, 0.0020570752428051365, 0.0020567052954768104, 0.002057168889951268, 0.002058530045474423, 0.0020590270388002392, 0.0020595654028320734, 0.0020596407133187293, 0.0020596930527810933, 0.0020597526941220595, 0.0020601125705413076, 0.002060090064626335, 0.002060076883307417, 0.0020600698265525056, 0.002059890841354446, 0.002059950554490316, 0.00205998274686723, 0.0020599816323469246]\n",
      "print for target number: 1\n",
      "Root\n",
      "depth=0| Split rule- x_i to split:11, value to split:434084.09\n",
      "   | Impurity of the node: 1.74\n",
      "   | Impurity of the best split: 1.59\n",
      "   | Count of observations in node: 1193\n",
      "depth=1|-------- Split rule- x_i to split:4, value to split:14519.835\n",
      "           | Impurity of the node: 1.42\n",
      "           | Impurity of the best split: 1.3\n",
      "           | Count of observations in node: 1183\n",
      "depth=2   leaf node                       | Count of observations in node: 1092\n",
      "                                          | Prediction of node: [0.008]\n",
      "                                          | Impurity of the node: 0.31\n",
      "Leaf id: 1\n",
      "depth=2   leaf node                       | Count of observations in node: 91\n",
      "                                          | Prediction of node: [0.045]\n",
      "                                          | Impurity of the node: 0.99\n",
      "Leaf id: 2\n",
      "depth=1|-------- Split rule- x_i to split:9, value to split:650.0\n",
      "           | Impurity of the node: 0.17\n",
      "           | Impurity of the best split: 0.04\n",
      "           | Count of observations in node: 10\n",
      "depth=2   leaf node                       | Count of observations in node: 7\n",
      "                                          | Prediction of node: [0.149]\n",
      "                                          | Impurity of the node: 0.16\n",
      "Leaf id: 3\n",
      "depth=2   leaf node                       | Count of observations in node: 3\n",
      "                                          | Prediction of node: [0.101]\n",
      "                                          | Impurity of the node: 0.0\n",
      "Leaf id: 4\n",
      "runtime for ind model:1330.3222012519836 seconds\n",
      "LOO print:\n",
      "[0.0012389939957068048, 0.001314718770852348, 0.0015231878468731038, 0.001521276914249874, 0.0015176217523967248, 0.001516575816867826, 0.0015238194049458282, 0.0015155940503578976, 0.0015148555861351598, 0.001514246510473086, 0.0015131927453852865, 0.001513271988771934, 0.0015127937302616, 0.0015127583086421738, 0.0015127941099395833, 0.0015128108504702926, 0.0015128145177270643, 0.0015128119068085642, 0.0015128128340258467]\n"
     ]
    },
    {
     "name": "stderr",
     "output_type": "stream",
     "text": [
      "CV progress bar: 9it [28:14:16, 9905.79s/it] "
     ]
    },
    {
     "name": "stdout",
     "output_type": "stream",
     "text": [
      "************************************************************sub tree number 0 ************************************************************\n",
      "Root\n",
      "depth=0| Split rule- x_i to split:5, value to split:165477.155\n",
      "   | Impurity of the node: 1.11\n",
      "   | Impurity of the best split: 1.04\n",
      "   | Count of observations in node: 1193\n",
      "   |LOO score: 1.1089242443315837\n",
      "depth=1   leaf node               | Count of observations in node: 1173\n",
      "                                  | Prediction of node: [0.002]\n",
      "                                  | Impurity of the node: 0.11\n",
      "Leaf id: 2\n",
      "                                  | Loo score: 0.105\n",
      "depth=1   leaf node               | Count of observations in node: 20\n",
      "                                  | Prediction of node: [0.06]\n",
      "                                  | Impurity of the node: 0.93\n",
      "Leaf id: 3\n",
      "                                  | Loo score: 0.992\n",
      "************************************************************sub tree number 1 ************************************************************\n",
      "Root\n",
      "depth=0| Split rule- x_i to split:11, value to split:434084.09\n",
      "   | Impurity of the node: 1.74\n",
      "   | Impurity of the best split: 1.59\n",
      "   | Count of observations in node: 1193\n",
      "   |LOO score: 1.6774188910974863\n",
      "depth=1   leaf node               | Count of observations in node: 1183\n",
      "                                  | Prediction of node: [0.011]\n",
      "                                  | Impurity of the node: 1.42\n",
      "Leaf id: 7\n",
      "                                  | Loo score: 1.37\n",
      "depth=1   leaf node               | Count of observations in node: 10\n",
      "                                  | Prediction of node: [0.135]\n",
      "                                  | Impurity of the node: 0.17\n",
      "Leaf id: 8\n",
      "                                  | Loo score: 0.169\n",
      "runtime for LOO model:5338.168860673904 seconds\n",
      "Score for all:0.007949547064812568\n",
      "Score for ind:0.007587252878850474\n",
      "Score for loo model:0.007941844967619821\n",
      "****************************************************************************************************************************************************************\n",
      "for all print:\n",
      "[0.002525483488682026, 0.002818483988458417, 0.0028065807451229186, 0.002820295463487841, 0.0033920531628308854, 0.0032946238835836355, 0.0033732034936574846, 0.0033672773654550353, 0.0033827886063498005, 0.003400646665702284, 0.003418269185617645, 0.0034277623058226944, 0.003432240827293287, 0.0034331491364422034, 0.003448299170780188, 0.003450133957622251, 0.00345485154384675, 0.0034565736940536038, 0.0034582628440075246, 0.0034616002874838306, 0.0034604826877745595, 0.003461387171859913, 0.0034618262386394484, 0.0034627648268834256, 0.003462694374153249, 0.003462723136124396, 0.0034630038678454406, 0.00346335290354073, 0.0034634790207941414, 0.0034635311582037523, 0.003463565195342457, 0.0034648023395849473, 0.003464798987740378, 0.0034647913280656645, 0.0034650871617637967, 0.0034650028418089012, 0.003465024413794679, 0.0034653418012218, 0.0034652288798107415, 0.003465285500619017, 0.0034652220681897243, 0.003465228024437289, 0.003465240122748572, 0.0034655387054745475, 0.003465468943149167, 0.003465501407365032, 0.0034656195174153984, 0.0034670591164547944, 0.003467105116956837, 0.0034670496693496923, 0.00346713192204834, 0.0034675658549454457, 0.0034677043263469645, 0.0034688986098789635, 0.003467715348297017, 0.003467950391980972, 0.0034679252757812513, 0.0034678761645253555, 0.0034678642079257653, 0.00346781942421904, 0.0034677391341780646, 0.0034682547490345467, 0.003468112260576385, 0.0034679846729348375, 0.0034731060755513604, 0.0034732565393611517, 0.0034731531909718547, 0.0034735628878797267, 0.0034735699043400613, 0.003473576749169855, 0.0034735587007866933, 0.0034735713475528536, 0.003473574927852939, 0.00347357902198048, 0.0034735811597360463, 0.003473581796270702]\n",
      "Root\n",
      "depth=0| Split rule- x_i to split:5, value to split:597529.88\n",
      "   | Impurity of the node: 4.02\n",
      "   | Impurity of the best split: 3.05\n",
      "   | Count of observations in node: 1193\n",
      "depth=1   leaf node               | Count of observations in node: 1192\n",
      "                                  | Prediction of node: [0.003 0.013]\n",
      "                                  | Impurity of the node: 3.05\n",
      "Leaf id: 1\n",
      "depth=1   leaf node               | Count of observations in node: 1\n",
      "                                  | Prediction of node: [0.033 1.   ]\n",
      "                                  | Impurity of the node: 0.0\n",
      "Leaf id: 2\n",
      "runtime for all model:1366.4043493270874 seconds\n",
      "for ind print:\n",
      "[0.0001548865242663278, 0.00013987196833455917, 0.00013558050686586026, 0.00013705164374066788, 0.00015160119829990982, 0.0001529851160149209, 0.0001525274517700367, 0.0001535032255320131, 0.000153569349779188, 0.0001535034234181231, 0.0001537880834077841, 0.00015415414384176894, 0.00015526801034752613, 0.0001554361351587648, 0.0001556806781928564, 0.00015593097879871987, 0.00015594323590996257, 0.0001559826853968921, 0.00015608647589513205, 0.00015626590560810985, 0.00015625306785457864, 0.00015647389991389898, 0.00015668589733099366, 0.00015677658655247078, 0.00015681919883526888, 0.0001570366236230732, 0.00015700869988446151, 0.0001570162255530927, 0.00015702481459839036, 0.00015702270282004653, 0.0001570061386161213, 0.00015701034595734612, 0.00015701827251148997, 0.0001570036297405575, 0.00015701068963024957, 0.00015701414442384669, 0.0001570095615810961, 0.0001570158545305215, 0.0001570189735137433, 0.00015702350736056494, 0.00015702668730195043, 0.00015702923835712553, 0.00015709619487370405, 0.00015710381562454397, 0.00015710834550124536, 0.00015711252867433296, 0.00015711710368971469, 0.00015712131980927582, 0.00015712620133650313, 0.00015713145158489732, 0.0001571360366816357, 0.00015714161895896543, 0.0001571474352496431, 0.00015715255347025734, 0.00015714024062912026, 0.00015714578272828578, 0.0001571512469467846, 0.00015715606244574086, 0.00015714974332023754, 0.0001571558572935219, 0.000157162687820527, 0.00015716940356479847, 0.00015717350485830553, 0.00015724342860766848, 0.00015728487973712136, 0.000157290321970391, 0.00015728521116225411, 0.00015729222801616477, 0.00015729792513827784, 0.00015724850166174082, 0.00015725472607470715, 0.0001572613149476434, 0.00015726771037268155, 0.0001572747996374213, 0.00015728113726521105, 0.00015728738076732185, 0.0001572890504315051, 0.00015729442578542327, 0.00015730210201893058, 0.00015730987829627347, 0.00015731735289110818, 0.00015732601058033395, 0.00015733232335539898, 0.00015734095946241263, 0.00015735044598540676, 0.0001573598134511815, 0.0001573557179129504, 0.00015736595062453392, 0.00015737397837867748, 0.0001573794185680297, 0.00015739035402689106, 0.0001574018514516545, 0.00015741219534773674, 0.00015742265665653912, 0.00015743241370985212, 0.0001574386028212878, 0.00015735541793570061, 0.00015704920212078157, 0.00015723178336951127, 0.00015818089801749642, 0.00015822507143445737, 0.00015959928249356068, 0.00015956100630576978, 0.00015949995658307454, 0.00015950731595909702, 0.00015950759649948983]\n",
      "print for target number: 0\n",
      "Root\n",
      "depth=0| Split rule- x_i to split:3, value to split:1665092.615\n",
      "   | Impurity of the node: 0.13\n",
      "   | Impurity of the best split: 0.08\n",
      "   | Count of observations in node: 1193\n",
      "depth=1|-------- Split rule- x_i to split:3, value to split:441692.25\n",
      "           | Impurity of the node: 0.08\n",
      "           | Impurity of the best split: 0.05\n",
      "           | Count of observations in node: 1192\n",
      "depth=2|---------------- Split rule- x_i to split:2, value to split:2027210.0\n",
      "                   | Impurity of the node: 0.02\n",
      "                   | Impurity of the best split: 0.02\n",
      "                   | Count of observations in node: 1155\n",
      "depth=3   leaf node                               | Count of observations in node: 1154\n",
      "                                                  | Prediction of node: [0.002]\n",
      "                                                  | Impurity of the node: 0.02\n",
      "Leaf id: 1\n",
      "depth=3   leaf node                               | Count of observations in node: 1\n",
      "                                                  | Prediction of node: [0.087]\n",
      "                                                  | Impurity of the node: 0.0\n",
      "Leaf id: 2\n",
      "depth=2|---------------- Split rule- x_i to split:8, value to split:121072.0\n",
      "                   | Impurity of the node: 0.03\n",
      "                   | Impurity of the best split: 0.02\n",
      "                   | Count of observations in node: 37\n",
      "depth=3   leaf node                               | Count of observations in node: 36\n",
      "                                                  | Prediction of node: [0.025]\n",
      "                                                  | Impurity of the node: 0.02\n",
      "Leaf id: 3\n",
      "depth=3   leaf node                               | Count of observations in node: 1\n",
      "                                                  | Prediction of node: [0.118]\n",
      "                                                  | Impurity of the node: 0.0\n",
      "Leaf id: 4\n",
      "depth=1   leaf node               | Count of observations in node: 1\n",
      "                                  | Prediction of node: [0.237]\n",
      "                                  | Impurity of the node: 0.0\n",
      "Leaf id: 5\n",
      "[0.004939872880207826, 0.005664105807606067, 0.005527051732046865, 0.006079981555193718, 0.006644151958205847, 0.006631738576441356, 0.006633743099169305, 0.006598243771243189, 0.006627987808828761, 0.006654624628622726, 0.00667982221929273, 0.006684638489664061, 0.006689736863028928, 0.006723703202420826, 0.006719916703780758, 0.00673785261829879, 0.006743535324731818, 0.006747769256134972, 0.006752815872000354, 0.006752142525945753, 0.006760302457583268, 0.006759526931312235, 0.006760000496356183, 0.006762395168932513, 0.006761997951494467, 0.006762104323092039, 0.006762209356365037, 0.006762465183446614, 0.006763257140280886, 0.0067637882014293495, 0.006763692193834933, 0.006763692435580872]\n",
      "print for target number: 1\n",
      "Root\n",
      "depth=0| Split rule- x_i to split:5, value to split:597529.88\n",
      "   | Impurity of the node: 3.89\n",
      "   | Impurity of the best split: 2.92\n",
      "   | Count of observations in node: 1193\n",
      "depth=1   leaf node               | Count of observations in node: 1192\n",
      "                                  | Prediction of node: [0.013]\n",
      "                                  | Impurity of the node: 2.92\n",
      "Leaf id: 1\n",
      "depth=1   leaf node               | Count of observations in node: 1\n",
      "                                  | Prediction of node: [1.]\n",
      "                                  | Impurity of the node: 0.0\n",
      "Leaf id: 2\n",
      "runtime for ind model:2937.7031304836273 seconds\n",
      "LOO print:\n",
      "[0.002563095276515828, 0.002915788213461989, 0.0028608078572380105, 0.0028536436075499673, 0.0027885959671001296, 0.00283279672092799, 0.0028510459485965945, 0.002845075301707806, 0.0028453233185947785, 0.002845099641501722, 0.00284709426700923, 0.0028472081805876234, 0.0028480041114938614, 0.002848072151275906, 0.002848134638823702, 0.0028481382702171105, 0.0028481755928548803, 0.0028481834428617687, 0.0028481852541333624, 0.00284818657261311]\n"
     ]
    },
    {
     "name": "stderr",
     "output_type": "stream",
     "text": [
      "CV progress bar: 10it [31:01:17, 11167.75s/it]"
     ]
    },
    {
     "name": "stdout",
     "output_type": "stream",
     "text": [
      "************************************************************sub tree number 0 ************************************************************\n",
      "Root\n",
      "depth=0| Split rule- x_i to split:3, value to split:1665092.615\n",
      "   | Impurity of the node: 0.13\n",
      "   | Impurity of the best split: 0.08\n",
      "   | Count of observations in node: 1193\n",
      "   |LOO score: 0.1311327391908295\n",
      "depth=1   leaf node               | Count of observations in node: 1192\n",
      "                                  | Prediction of node: [0.002]\n",
      "                                  | Impurity of the node: 0.08\n",
      "Leaf id: 2\n",
      "                                  | Loo score: 0.076\n",
      "depth=1   leaf node               | Count of observations in node: 1\n",
      "                                  | Prediction of node: [0.237]\n",
      "                                  | Impurity of the node: 0.0\n",
      "Leaf id: 3\n",
      "************************************************************sub tree number 1 ************************************************************\n",
      "Root\n",
      "depth=0| Split rule- x_i to split:5, value to split:597529.88\n",
      "   | Impurity of the node: 3.89\n",
      "   | Impurity of the best split: 2.92\n",
      "   | Count of observations in node: 1193\n",
      "   |LOO score: 3.7655809453610134\n",
      "depth=1   leaf node               | Count of observations in node: 1192\n",
      "                                  | Prediction of node: [0.013]\n",
      "                                  | Impurity of the node: 2.92\n",
      "Leaf id: 7\n",
      "                                  | Loo score: 2.831\n",
      "depth=1   leaf node               | Count of observations in node: 1\n",
      "                                  | Prediction of node: [1.]\n",
      "                                  | Impurity of the node: 0.0\n",
      "Leaf id: 8\n",
      "runtime for LOO model:5717.094966411591 seconds\n",
      "Score for all:0.00694806595740247\n",
      "Score for ind:0.006954690304263298\n",
      "Score for loo model:0.006946940591458027\n",
      "****************************************************************************************************************************************************************\n",
      "MSE for all model:   0.0026182561087102147\n",
      "MSE for ind model:   0.002600843436423848\n",
      "MSE LOO model:       0.0025188921960600788\n",
      "Total runtime: 1861.292515428861 minutes\n"
     ]
    },
    {
     "name": "stderr",
     "output_type": "stream",
     "text": [
      "\n"
     ]
    }
   ],
   "source": [
    "mse_all, mse_ind, mse_loo, _ = mse_comparison.mse_comparison(path=None,\n",
    "                                                                    df=final_df_scaled, n_features=14,\n",
    "                                                                                              max_depth=np.inf,\n",
    "                        \n",
    "                              use_pruning_for_loo=True,\n",
    "                              use_pruning_2_models=True, n_splits=10,n_repeats=1,\n",
    "                                  random_state=0)"
   ]
  },
  {
   "cell_type": "code",
   "execution_count": 22,
   "id": "731cfde9",
   "metadata": {},
   "outputs": [
    {
     "name": "stdout",
     "output_type": "stream",
     "text": [
      "for all stdev 0.0027700617401563085\n",
      "for ind stdev 0.002688711054970641\n",
      "for loo stdev 0.0028427957493826045\n"
     ]
    }
   ],
   "source": [
    "import statistics\n",
    "print(f'for all stdev {statistics.stdev(mse_all)}')\n",
    "print(f'for ind stdev {statistics.stdev(mse_ind)}')\n",
    "print(f'for loo stdev {statistics.stdev(mse_loo)}')"
   ]
  },
  {
   "cell_type": "code",
   "execution_count": null,
   "id": "1f36211e",
   "metadata": {},
   "outputs": [],
   "source": []
  }
 ],
 "metadata": {
  "kernelspec": {
   "display_name": "Python 3 (ipykernel)",
   "language": "python",
   "name": "python3"
  },
  "language_info": {
   "codemirror_mode": {
    "name": "ipython",
    "version": 3
   },
   "file_extension": ".py",
   "mimetype": "text/x-python",
   "name": "python",
   "nbconvert_exporter": "python",
   "pygments_lexer": "ipython3",
   "version": "3.9.7"
  }
 },
 "nbformat": 4,
 "nbformat_minor": 5
}
