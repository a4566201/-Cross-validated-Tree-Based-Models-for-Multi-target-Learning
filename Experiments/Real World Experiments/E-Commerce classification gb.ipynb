{
 "cells": [
  {
   "cell_type": "code",
   "execution_count": 1,
   "id": "e9714068",
   "metadata": {},
   "outputs": [],
   "source": [
    "import os "
   ]
  },
  {
   "cell_type": "code",
   "execution_count": 2,
   "id": "2c33b048",
   "metadata": {},
   "outputs": [],
   "source": [
    "os.chdir('/home/yehudan/Desktop/DecisionTree/DecisionTree')"
   ]
  },
  {
   "cell_type": "code",
   "execution_count": 1,
   "id": "94563be1",
   "metadata": {},
   "outputs": [],
   "source": [
    "import time\n",
    "from datasets import mse_comparison \n",
    "from scipy.io.arff import loadarff\n",
    "import pandas as pd\n",
    "import numpy as np\n",
    "from sklearn.preprocessing import MinMaxScaler"
   ]
  },
  {
   "cell_type": "code",
   "execution_count": 4,
   "id": "fb9947b6",
   "metadata": {},
   "outputs": [
    {
     "name": "stderr",
     "output_type": "stream",
     "text": [
      "/data/anaconda3/lib/python3.9/site-packages/IPython/core/interactiveshell.py:3444: DtypeWarning: Columns (1,2,3,7,8,9,11,12,13,14,17,18,19) have mixed types.Specify dtype option on import or set low_memory=False.\n",
      "  exec(code_obj, self.user_global_ns, self.user_ns)\n"
     ]
    }
   ],
   "source": [
    "df = pd.read_csv('datasets/Pakistan_Largest_Ecommerce_Dataset.csv')"
   ]
  },
  {
   "cell_type": "code",
   "execution_count": 5,
   "id": "1ee79b40",
   "metadata": {},
   "outputs": [],
   "source": [
    "def move_columns_to_end(df,col1,col2=None):\n",
    "    cols = list(df.columns.values) #Make a list of all of the columns in the df\n",
    "    cols.pop(cols.index(col1)) #Remove col1 from list\n",
    "    if col2:\n",
    "        cols.pop(cols.index(col2)) #Remove col2 from list\n",
    "    if col2:\n",
    "        df = df[cols+[col1,col2]] #Create new dataframe with columns in the order you want\n",
    "    else:\n",
    "        df = df[cols+[col1]]\n",
    "    return df"
   ]
  },
  {
   "cell_type": "code",
   "execution_count": 6,
   "id": "c5896e0c",
   "metadata": {},
   "outputs": [],
   "source": [
    "def preprocessing(df):\n",
    "    df1= df.copy()\n",
    "    df1['Mobiles & Tablets'] = df['Mobiles & Tablets'].apply(lambda x: 0 if x<=df['Mobiles & Tablets'].median() else 1)\n",
    "    df1['Beauty & Grooming'] = df['Beauty & Grooming'].apply(lambda x: 0 if x<=df['Beauty & Grooming'].median() else 1)\n",
    "    return df1"
   ]
  },
  {
   "cell_type": "code",
   "execution_count": 7,
   "id": "abde5357",
   "metadata": {},
   "outputs": [],
   "source": [
    "pakistan_columns = ['grand_total', 'category_name_1', 'payment_method', 'Customer ID']\n",
    "pakistan_filtered = df[pakistan_columns]\n",
    "grouped_data = pakistan_filtered.groupby(by=['category_name_1', 'Customer ID'], as_index=False).agg({'grand_total': 'sum'})\n",
    "pivoted = grouped_data.pivot(index='Customer ID', columns='category_name_1', values='grand_total')\n",
    "pivoted = pivoted.reset_index().rename_axis(None, axis=1)\n",
    "# pivoted = pivoted.fillna(0)\n",
    "# final_df = pivoted.drop(['Customer ID'], axis='columns')\n",
    "# final_df.head(2)"
   ]
  },
  {
   "cell_type": "code",
   "execution_count": 9,
   "id": "0985cda4",
   "metadata": {},
   "outputs": [
    {
     "data": {
      "text/plain": [
       "(1325, 17)"
      ]
     },
     "execution_count": 9,
     "metadata": {},
     "output_type": "execute_result"
    }
   ],
   "source": [
    "pivoted[pivoted.notnull().sum(axis=1)>=9].shape"
   ]
  },
  {
   "cell_type": "code",
   "execution_count": 10,
   "id": "347dc47e",
   "metadata": {},
   "outputs": [
    {
     "data": {
      "text/plain": [
       "(1325, 16)"
      ]
     },
     "execution_count": 10,
     "metadata": {},
     "output_type": "execute_result"
    }
   ],
   "source": [
    "final_df = pivoted[pivoted.notnull().sum(axis=1)>=9]\n",
    "final_df = final_df.drop(['Customer ID'], axis='columns')\n",
    "final_df = final_df.fillna(0)\n",
    "final_df.shape"
   ]
  },
  {
   "cell_type": "code",
   "execution_count": 13,
   "id": "af71b1bc",
   "metadata": {},
   "outputs": [
    {
     "data": {
      "text/html": [
       "<div>\n",
       "<style scoped>\n",
       "    .dataframe tbody tr th:only-of-type {\n",
       "        vertical-align: middle;\n",
       "    }\n",
       "\n",
       "    .dataframe tbody tr th {\n",
       "        vertical-align: top;\n",
       "    }\n",
       "\n",
       "    .dataframe thead th {\n",
       "        text-align: right;\n",
       "    }\n",
       "</style>\n",
       "<table border=\"1\" class=\"dataframe\">\n",
       "  <thead>\n",
       "    <tr style=\"text-align: right;\">\n",
       "      <th></th>\n",
       "      <th>Appliances</th>\n",
       "      <th>Books</th>\n",
       "      <th>Computing</th>\n",
       "      <th>Entertainment</th>\n",
       "      <th>Health &amp; Sports</th>\n",
       "      <th>Home &amp; Living</th>\n",
       "      <th>Kids &amp; Baby</th>\n",
       "      <th>Men's Fashion</th>\n",
       "      <th>Others</th>\n",
       "      <th>School &amp; Education</th>\n",
       "      <th>Soghaat</th>\n",
       "      <th>Superstore</th>\n",
       "      <th>Women's Fashion</th>\n",
       "      <th>\\N</th>\n",
       "      <th>Mobiles &amp; Tablets</th>\n",
       "      <th>Beauty &amp; Grooming</th>\n",
       "    </tr>\n",
       "  </thead>\n",
       "  <tbody>\n",
       "    <tr>\n",
       "      <th>3</th>\n",
       "      <td>285592.7</td>\n",
       "      <td>0.0</td>\n",
       "      <td>99.00</td>\n",
       "      <td>593501.20</td>\n",
       "      <td>999.0</td>\n",
       "      <td>22185.0</td>\n",
       "      <td>2250.0</td>\n",
       "      <td>97804.55</td>\n",
       "      <td>1249.00</td>\n",
       "      <td>495.0</td>\n",
       "      <td>32990.0</td>\n",
       "      <td>94530.0</td>\n",
       "      <td>29158.50</td>\n",
       "      <td>115044.85</td>\n",
       "      <td>1257478.35</td>\n",
       "      <td>34219.30</td>\n",
       "    </tr>\n",
       "    <tr>\n",
       "      <th>12</th>\n",
       "      <td>207775.3</td>\n",
       "      <td>0.0</td>\n",
       "      <td>3230.00</td>\n",
       "      <td>53644.00</td>\n",
       "      <td>0.0</td>\n",
       "      <td>130560.0</td>\n",
       "      <td>3018.0</td>\n",
       "      <td>27770.00</td>\n",
       "      <td>0.00</td>\n",
       "      <td>720.0</td>\n",
       "      <td>38498.0</td>\n",
       "      <td>0.0</td>\n",
       "      <td>41868.00</td>\n",
       "      <td>12974.00</td>\n",
       "      <td>30886.00</td>\n",
       "      <td>66022.00</td>\n",
       "    </tr>\n",
       "    <tr>\n",
       "      <th>14</th>\n",
       "      <td>0.0</td>\n",
       "      <td>1730.0</td>\n",
       "      <td>1205.00</td>\n",
       "      <td>0.00</td>\n",
       "      <td>0.0</td>\n",
       "      <td>12171.0</td>\n",
       "      <td>1320.0</td>\n",
       "      <td>4721.00</td>\n",
       "      <td>125971.93</td>\n",
       "      <td>0.0</td>\n",
       "      <td>1065.0</td>\n",
       "      <td>2234.0</td>\n",
       "      <td>0.00</td>\n",
       "      <td>0.00</td>\n",
       "      <td>1205.00</td>\n",
       "      <td>0.00</td>\n",
       "    </tr>\n",
       "    <tr>\n",
       "      <th>15</th>\n",
       "      <td>0.0</td>\n",
       "      <td>6399.0</td>\n",
       "      <td>28345.11</td>\n",
       "      <td>0.00</td>\n",
       "      <td>3041.0</td>\n",
       "      <td>1475.0</td>\n",
       "      <td>15247.0</td>\n",
       "      <td>33108.60</td>\n",
       "      <td>4630.00</td>\n",
       "      <td>1863.0</td>\n",
       "      <td>9127.0</td>\n",
       "      <td>45546.0</td>\n",
       "      <td>1927773.13</td>\n",
       "      <td>994.00</td>\n",
       "      <td>185968.40</td>\n",
       "      <td>54005.22</td>\n",
       "    </tr>\n",
       "    <tr>\n",
       "      <th>19</th>\n",
       "      <td>1363251.0</td>\n",
       "      <td>0.0</td>\n",
       "      <td>360.00</td>\n",
       "      <td>1076207.68</td>\n",
       "      <td>13536.2</td>\n",
       "      <td>10230.0</td>\n",
       "      <td>1740.0</td>\n",
       "      <td>110845.40</td>\n",
       "      <td>0.00</td>\n",
       "      <td>0.0</td>\n",
       "      <td>21671.5</td>\n",
       "      <td>328188.0</td>\n",
       "      <td>48709.00</td>\n",
       "      <td>124325.25</td>\n",
       "      <td>1219169.35</td>\n",
       "      <td>37893.00</td>\n",
       "    </tr>\n",
       "  </tbody>\n",
       "</table>\n",
       "</div>"
      ],
      "text/plain": [
       "    Appliances   Books  Computing  Entertainment  Health & Sports  \\\n",
       "3     285592.7     0.0      99.00      593501.20            999.0   \n",
       "12    207775.3     0.0    3230.00       53644.00              0.0   \n",
       "14         0.0  1730.0    1205.00           0.00              0.0   \n",
       "15         0.0  6399.0   28345.11           0.00           3041.0   \n",
       "19   1363251.0     0.0     360.00     1076207.68          13536.2   \n",
       "\n",
       "    Home & Living  Kids & Baby  Men's Fashion     Others  School & Education  \\\n",
       "3         22185.0       2250.0       97804.55    1249.00               495.0   \n",
       "12       130560.0       3018.0       27770.00       0.00               720.0   \n",
       "14        12171.0       1320.0        4721.00  125971.93                 0.0   \n",
       "15         1475.0      15247.0       33108.60    4630.00              1863.0   \n",
       "19        10230.0       1740.0      110845.40       0.00                 0.0   \n",
       "\n",
       "    Soghaat  Superstore  Women's Fashion         \\N  Mobiles & Tablets  \\\n",
       "3   32990.0     94530.0         29158.50  115044.85         1257478.35   \n",
       "12  38498.0         0.0         41868.00   12974.00           30886.00   \n",
       "14   1065.0      2234.0             0.00       0.00            1205.00   \n",
       "15   9127.0     45546.0       1927773.13     994.00          185968.40   \n",
       "19  21671.5    328188.0         48709.00  124325.25         1219169.35   \n",
       "\n",
       "    Beauty & Grooming  \n",
       "3            34219.30  \n",
       "12           66022.00  \n",
       "14               0.00  \n",
       "15           54005.22  \n",
       "19           37893.00  "
      ]
     },
     "execution_count": 13,
     "metadata": {},
     "output_type": "execute_result"
    }
   ],
   "source": [
    "final_df = move_columns_to_end(final_df,'Mobiles & Tablets','Beauty & Grooming')\n",
    "final_df.head()"
   ]
  },
  {
   "cell_type": "code",
   "execution_count": 14,
   "id": "3f46a2d4",
   "metadata": {
    "scrolled": true
   },
   "outputs": [
    {
     "data": {
      "text/html": [
       "<div>\n",
       "<style scoped>\n",
       "    .dataframe tbody tr th:only-of-type {\n",
       "        vertical-align: middle;\n",
       "    }\n",
       "\n",
       "    .dataframe tbody tr th {\n",
       "        vertical-align: top;\n",
       "    }\n",
       "\n",
       "    .dataframe thead th {\n",
       "        text-align: right;\n",
       "    }\n",
       "</style>\n",
       "<table border=\"1\" class=\"dataframe\">\n",
       "  <thead>\n",
       "    <tr style=\"text-align: right;\">\n",
       "      <th></th>\n",
       "      <th>Appliances</th>\n",
       "      <th>Books</th>\n",
       "      <th>Computing</th>\n",
       "      <th>Entertainment</th>\n",
       "      <th>Health &amp; Sports</th>\n",
       "      <th>Home &amp; Living</th>\n",
       "      <th>Kids &amp; Baby</th>\n",
       "      <th>Men's Fashion</th>\n",
       "      <th>Others</th>\n",
       "      <th>School &amp; Education</th>\n",
       "      <th>Soghaat</th>\n",
       "      <th>Superstore</th>\n",
       "      <th>Women's Fashion</th>\n",
       "      <th>\\N</th>\n",
       "      <th>Mobiles &amp; Tablets</th>\n",
       "      <th>Beauty &amp; Grooming</th>\n",
       "    </tr>\n",
       "  </thead>\n",
       "  <tbody>\n",
       "    <tr>\n",
       "      <th>3</th>\n",
       "      <td>285592.7</td>\n",
       "      <td>0.0</td>\n",
       "      <td>99.00</td>\n",
       "      <td>593501.20</td>\n",
       "      <td>999.0</td>\n",
       "      <td>22185.0</td>\n",
       "      <td>2250.0</td>\n",
       "      <td>97804.55</td>\n",
       "      <td>1249.00</td>\n",
       "      <td>495.0</td>\n",
       "      <td>32990.0</td>\n",
       "      <td>94530.0</td>\n",
       "      <td>29158.50</td>\n",
       "      <td>115044.85</td>\n",
       "      <td>1</td>\n",
       "      <td>1</td>\n",
       "    </tr>\n",
       "    <tr>\n",
       "      <th>12</th>\n",
       "      <td>207775.3</td>\n",
       "      <td>0.0</td>\n",
       "      <td>3230.00</td>\n",
       "      <td>53644.00</td>\n",
       "      <td>0.0</td>\n",
       "      <td>130560.0</td>\n",
       "      <td>3018.0</td>\n",
       "      <td>27770.00</td>\n",
       "      <td>0.00</td>\n",
       "      <td>720.0</td>\n",
       "      <td>38498.0</td>\n",
       "      <td>0.0</td>\n",
       "      <td>41868.00</td>\n",
       "      <td>12974.00</td>\n",
       "      <td>1</td>\n",
       "      <td>1</td>\n",
       "    </tr>\n",
       "    <tr>\n",
       "      <th>14</th>\n",
       "      <td>0.0</td>\n",
       "      <td>1730.0</td>\n",
       "      <td>1205.00</td>\n",
       "      <td>0.00</td>\n",
       "      <td>0.0</td>\n",
       "      <td>12171.0</td>\n",
       "      <td>1320.0</td>\n",
       "      <td>4721.00</td>\n",
       "      <td>125971.93</td>\n",
       "      <td>0.0</td>\n",
       "      <td>1065.0</td>\n",
       "      <td>2234.0</td>\n",
       "      <td>0.00</td>\n",
       "      <td>0.00</td>\n",
       "      <td>0</td>\n",
       "      <td>0</td>\n",
       "    </tr>\n",
       "    <tr>\n",
       "      <th>15</th>\n",
       "      <td>0.0</td>\n",
       "      <td>6399.0</td>\n",
       "      <td>28345.11</td>\n",
       "      <td>0.00</td>\n",
       "      <td>3041.0</td>\n",
       "      <td>1475.0</td>\n",
       "      <td>15247.0</td>\n",
       "      <td>33108.60</td>\n",
       "      <td>4630.00</td>\n",
       "      <td>1863.0</td>\n",
       "      <td>9127.0</td>\n",
       "      <td>45546.0</td>\n",
       "      <td>1927773.13</td>\n",
       "      <td>994.00</td>\n",
       "      <td>1</td>\n",
       "      <td>1</td>\n",
       "    </tr>\n",
       "    <tr>\n",
       "      <th>19</th>\n",
       "      <td>1363251.0</td>\n",
       "      <td>0.0</td>\n",
       "      <td>360.00</td>\n",
       "      <td>1076207.68</td>\n",
       "      <td>13536.2</td>\n",
       "      <td>10230.0</td>\n",
       "      <td>1740.0</td>\n",
       "      <td>110845.40</td>\n",
       "      <td>0.00</td>\n",
       "      <td>0.0</td>\n",
       "      <td>21671.5</td>\n",
       "      <td>328188.0</td>\n",
       "      <td>48709.00</td>\n",
       "      <td>124325.25</td>\n",
       "      <td>1</td>\n",
       "      <td>1</td>\n",
       "    </tr>\n",
       "  </tbody>\n",
       "</table>\n",
       "</div>"
      ],
      "text/plain": [
       "    Appliances   Books  Computing  Entertainment  Health & Sports  \\\n",
       "3     285592.7     0.0      99.00      593501.20            999.0   \n",
       "12    207775.3     0.0    3230.00       53644.00              0.0   \n",
       "14         0.0  1730.0    1205.00           0.00              0.0   \n",
       "15         0.0  6399.0   28345.11           0.00           3041.0   \n",
       "19   1363251.0     0.0     360.00     1076207.68          13536.2   \n",
       "\n",
       "    Home & Living  Kids & Baby  Men's Fashion     Others  School & Education  \\\n",
       "3         22185.0       2250.0       97804.55    1249.00               495.0   \n",
       "12       130560.0       3018.0       27770.00       0.00               720.0   \n",
       "14        12171.0       1320.0        4721.00  125971.93                 0.0   \n",
       "15         1475.0      15247.0       33108.60    4630.00              1863.0   \n",
       "19        10230.0       1740.0      110845.40       0.00                 0.0   \n",
       "\n",
       "    Soghaat  Superstore  Women's Fashion         \\N  Mobiles & Tablets  \\\n",
       "3   32990.0     94530.0         29158.50  115044.85                  1   \n",
       "12  38498.0         0.0         41868.00   12974.00                  1   \n",
       "14   1065.0      2234.0             0.00       0.00                  0   \n",
       "15   9127.0     45546.0       1927773.13     994.00                  1   \n",
       "19  21671.5    328188.0         48709.00  124325.25                  1   \n",
       "\n",
       "    Beauty & Grooming  \n",
       "3                   1  \n",
       "12                  1  \n",
       "14                  0  \n",
       "15                  1  \n",
       "19                  1  "
      ]
     },
     "execution_count": 14,
     "metadata": {},
     "output_type": "execute_result"
    }
   ],
   "source": [
    "final_df_classifiction = preprocessing(final_df)\n",
    "final_df_classifiction.head()"
   ]
  },
  {
   "cell_type": "code",
   "execution_count": 15,
   "id": "d2863a7c",
   "metadata": {},
   "outputs": [
    {
     "data": {
      "text/plain": [
       "0    663\n",
       "1    662\n",
       "Name: Beauty & Grooming, dtype: int64"
      ]
     },
     "execution_count": 15,
     "metadata": {},
     "output_type": "execute_result"
    }
   ],
   "source": [
    "final_df_classifiction['Beauty & Grooming'].value_counts()"
   ]
  },
  {
   "cell_type": "markdown",
   "id": "6f043f1f",
   "metadata": {},
   "source": [
    "1325 rows (more than 9 not nulls)"
   ]
  },
  {
   "cell_type": "code",
   "execution_count": 13,
   "id": "92277b35",
   "metadata": {
    "scrolled": true
   },
   "outputs": [
    {
     "name": "stdout",
     "output_type": "stream",
     "text": [
      "Cell execution time: 2023-04-27 06:45:22.920839\n"
     ]
    },
    {
     "name": "stderr",
     "output_type": "stream",
     "text": [
      "CV progress bar: 0it [00:00, ?it/s]"
     ]
    },
    {
     "name": "stdout",
     "output_type": "stream",
     "text": [
      "starting choose one model\n"
     ]
    },
    {
     "name": "stderr",
     "output_type": "stream",
     "text": [
      "\n",
      "Choose one progress bar: 0it [00:00, ?it/s]\u001b[A"
     ]
    },
    {
     "name": "stdout",
     "output_type": "stream",
     "text": [
      "Starting all\n",
      "runtime for all model:41.68399500846863 seconds\n",
      "Finish all\n",
      "Starting ind\n"
     ]
    },
    {
     "name": "stderr",
     "output_type": "stream",
     "text": [
      "\n",
      "Choose one progress bar: 1it [02:10, 130.23s/it]\u001b[A"
     ]
    },
    {
     "name": "stdout",
     "output_type": "stream",
     "text": [
      "runtime for ind model:88.53945517539978 seconds\n",
      "Finish ind\n",
      "Starting all\n",
      "runtime for all model:41.30992245674133 seconds\n",
      "Finish all\n",
      "Starting ind\n"
     ]
    },
    {
     "name": "stderr",
     "output_type": "stream",
     "text": [
      "\n",
      "Choose one progress bar: 2it [04:21, 130.93s/it]\u001b[A"
     ]
    },
    {
     "name": "stdout",
     "output_type": "stream",
     "text": [
      "runtime for ind model:90.10945081710815 seconds\n",
      "Finish ind\n",
      "Starting all\n",
      "runtime for all model:42.364259004592896 seconds\n",
      "Finish all\n",
      "Starting ind\n"
     ]
    },
    {
     "name": "stderr",
     "output_type": "stream",
     "text": [
      "\n",
      "Choose one progress bar: 3it [06:33, 131.18s/it]\u001b[A"
     ]
    },
    {
     "name": "stdout",
     "output_type": "stream",
     "text": [
      "runtime for ind model:89.11287546157837 seconds\n",
      "Finish ind\n",
      "Starting all\n",
      "runtime for all model:41.522608280181885 seconds\n",
      "Finish all\n",
      "Starting ind\n"
     ]
    },
    {
     "name": "stderr",
     "output_type": "stream",
     "text": [
      "\n",
      "Choose one progress bar: 4it [08:40, 129.80s/it]\u001b[A"
     ]
    },
    {
     "name": "stdout",
     "output_type": "stream",
     "text": [
      "runtime for ind model:86.15172266960144 seconds\n",
      "Finish ind\n",
      "Starting all\n",
      "runtime for all model:41.39991641044617 seconds\n",
      "Finish all\n",
      "Starting ind\n"
     ]
    },
    {
     "name": "stderr",
     "output_type": "stream",
     "text": [
      "\n",
      "Choose one progress bar: 5it [10:52, 130.49s/it]\u001b[A"
     ]
    },
    {
     "name": "stdout",
     "output_type": "stream",
     "text": [
      "runtime for ind model:90.2942442893982 seconds\n",
      "Finish ind\n",
      "Starting all\n",
      "runtime for all model:41.171746015548706 seconds\n",
      "Finish all\n",
      "Starting ind\n"
     ]
    },
    {
     "name": "stderr",
     "output_type": "stream",
     "text": [
      "\n",
      "Choose one progress bar: 6it [13:01, 129.88s/it]\u001b[A"
     ]
    },
    {
     "name": "stdout",
     "output_type": "stream",
     "text": [
      "runtime for ind model:87.52492880821228 seconds\n",
      "Finish ind\n",
      "Starting all\n",
      "runtime for all model:41.72272086143494 seconds\n",
      "Finish all\n",
      "Starting ind\n"
     ]
    },
    {
     "name": "stderr",
     "output_type": "stream",
     "text": [
      "\n",
      "Choose one progress bar: 7it [15:12, 130.30s/it]\u001b[A"
     ]
    },
    {
     "name": "stdout",
     "output_type": "stream",
     "text": [
      "runtime for ind model:89.43982601165771 seconds\n",
      "Finish ind\n",
      "Starting all\n",
      "runtime for all model:41.343655586242676 seconds\n",
      "Finish all\n",
      "Starting ind\n"
     ]
    },
    {
     "name": "stderr",
     "output_type": "stream",
     "text": [
      "\n",
      "Choose one progress bar: 8it [17:20, 129.65s/it]\u001b[A"
     ]
    },
    {
     "name": "stdout",
     "output_type": "stream",
     "text": [
      "runtime for ind model:86.91485452651978 seconds\n",
      "Finish ind\n",
      "Starting all\n",
      "runtime for all model:42.08435010910034 seconds\n",
      "Finish all\n",
      "Starting ind\n"
     ]
    },
    {
     "name": "stderr",
     "output_type": "stream",
     "text": [
      "\n",
      "Choose one progress bar: 9it [19:32, 130.30s/it]\u001b[A"
     ]
    },
    {
     "name": "stdout",
     "output_type": "stream",
     "text": [
      "runtime for ind model:89.64092206954956 seconds\n",
      "Finish ind\n",
      "Starting all\n",
      "runtime for all model:42.17501521110535 seconds\n",
      "Finish all\n",
      "Starting ind\n"
     ]
    },
    {
     "name": "stderr",
     "output_type": "stream",
     "text": [
      "\n",
      "Choose one progress bar: 10it [21:45, 130.52s/it]\u001b[A"
     ]
    },
    {
     "name": "stdout",
     "output_type": "stream",
     "text": [
      "runtime for ind model:90.62896180152893 seconds\n",
      "Finish ind\n",
      "MSE all: 3.238165266106443\n",
      "MSE ind: 0\n",
      "for ind was chosen\n"
     ]
    },
    {
     "name": "stderr",
     "output_type": "stream",
     "text": [
      "\n",
      "CV progress bar: 1it [23:30, 1410.08s/it]"
     ]
    },
    {
     "name": "stdout",
     "output_type": "stream",
     "text": [
      "runtime for ind model:104.8763325214386 seconds\n",
      "runtime for choose one model:1410.0769836902618 seconds\n",
      "starting choose one model\n"
     ]
    },
    {
     "name": "stderr",
     "output_type": "stream",
     "text": [
      "\n",
      "Choose one progress bar: 0it [00:00, ?it/s]\u001b[A"
     ]
    },
    {
     "name": "stdout",
     "output_type": "stream",
     "text": [
      "Starting all\n",
      "runtime for all model:42.18757367134094 seconds\n",
      "Finish all\n",
      "Starting ind\n"
     ]
    },
    {
     "name": "stderr",
     "output_type": "stream",
     "text": [
      "\n",
      "Choose one progress bar: 1it [02:10, 130.47s/it]\u001b[A"
     ]
    },
    {
     "name": "stdout",
     "output_type": "stream",
     "text": [
      "runtime for ind model:88.28481221199036 seconds\n",
      "Finish ind\n",
      "Starting all\n",
      "runtime for all model:41.93236541748047 seconds\n",
      "Finish all\n",
      "Starting ind\n"
     ]
    },
    {
     "name": "stderr",
     "output_type": "stream",
     "text": [
      "\n",
      "Choose one progress bar: 2it [04:19, 129.90s/it]\u001b[A"
     ]
    },
    {
     "name": "stdout",
     "output_type": "stream",
     "text": [
      "runtime for ind model:87.55841612815857 seconds\n",
      "Finish ind\n",
      "Starting all\n",
      "runtime for all model:42.11368441581726 seconds\n",
      "Finish all\n",
      "Starting ind\n"
     ]
    },
    {
     "name": "stderr",
     "output_type": "stream",
     "text": [
      "\n",
      "Choose one progress bar: 3it [06:31, 130.58s/it]\u001b[A"
     ]
    },
    {
     "name": "stdout",
     "output_type": "stream",
     "text": [
      "runtime for ind model:89.27058410644531 seconds\n",
      "Finish ind\n",
      "Starting all\n",
      "runtime for all model:41.907110929489136 seconds\n",
      "Finish all\n",
      "Starting ind\n"
     ]
    },
    {
     "name": "stderr",
     "output_type": "stream",
     "text": [
      "\n",
      "Choose one progress bar: 4it [08:41, 130.41s/it]\u001b[A"
     ]
    },
    {
     "name": "stdout",
     "output_type": "stream",
     "text": [
      "runtime for ind model:88.22841453552246 seconds\n",
      "Finish ind\n",
      "Starting all\n",
      "runtime for all model:42.53284001350403 seconds\n",
      "Finish all\n",
      "Starting ind\n"
     ]
    },
    {
     "name": "stderr",
     "output_type": "stream",
     "text": [
      "\n",
      "Choose one progress bar: 5it [10:55, 131.70s/it]\u001b[A"
     ]
    },
    {
     "name": "stdout",
     "output_type": "stream",
     "text": [
      "runtime for ind model:91.46052646636963 seconds\n",
      "Finish ind\n",
      "Starting all\n",
      "runtime for all model:42.21754455566406 seconds\n",
      "Finish all\n",
      "Starting ind\n"
     ]
    },
    {
     "name": "stderr",
     "output_type": "stream",
     "text": [
      "\n",
      "Choose one progress bar: 6it [13:06, 131.46s/it]\u001b[A"
     ]
    },
    {
     "name": "stdout",
     "output_type": "stream",
     "text": [
      "runtime for ind model:88.75189638137817 seconds\n",
      "Finish ind\n",
      "Starting all\n",
      "runtime for all model:43.61715269088745 seconds\n",
      "Finish all\n",
      "Starting ind\n"
     ]
    },
    {
     "name": "stderr",
     "output_type": "stream",
     "text": [
      "\n",
      "Choose one progress bar: 7it [15:22, 132.98s/it]\u001b[A"
     ]
    },
    {
     "name": "stdout",
     "output_type": "stream",
     "text": [
      "runtime for ind model:92.48955798149109 seconds\n",
      "Finish ind\n",
      "Starting all\n",
      "runtime for all model:42.677178382873535 seconds\n",
      "Finish all\n",
      "Starting ind\n"
     ]
    },
    {
     "name": "stderr",
     "output_type": "stream",
     "text": [
      "\n",
      "Choose one progress bar: 8it [17:34, 132.73s/it]\u001b[A"
     ]
    },
    {
     "name": "stdout",
     "output_type": "stream",
     "text": [
      "runtime for ind model:89.512277841568 seconds\n",
      "Finish ind\n",
      "Starting all\n",
      "runtime for all model:41.13155651092529 seconds\n",
      "Finish all\n",
      "Starting ind\n"
     ]
    },
    {
     "name": "stderr",
     "output_type": "stream",
     "text": [
      "\n",
      "Choose one progress bar: 9it [19:44, 131.89s/it]\u001b[A"
     ]
    },
    {
     "name": "stdout",
     "output_type": "stream",
     "text": [
      "runtime for ind model:88.90468120574951 seconds\n",
      "Finish ind\n",
      "Starting all\n",
      "runtime for all model:41.645700454711914 seconds\n",
      "Finish all\n",
      "Starting ind\n"
     ]
    },
    {
     "name": "stderr",
     "output_type": "stream",
     "text": [
      "\n",
      "Choose one progress bar: 10it [21:56, 131.67s/it]\u001b[A"
     ]
    },
    {
     "name": "stdout",
     "output_type": "stream",
     "text": [
      "runtime for ind model:90.25410842895508 seconds\n",
      "Finish ind\n",
      "MSE all: 3.2338585434173677\n",
      "MSE ind: 0\n",
      "for ind was chosen\n"
     ]
    },
    {
     "name": "stderr",
     "output_type": "stream",
     "text": [
      "\n",
      "CV progress bar: 2it [47:12, 1417.36s/it]"
     ]
    },
    {
     "name": "stdout",
     "output_type": "stream",
     "text": [
      "runtime for ind model:105.71893692016602 seconds\n",
      "runtime for choose one model:1422.459533214569 seconds\n",
      "starting choose one model\n"
     ]
    },
    {
     "name": "stderr",
     "output_type": "stream",
     "text": [
      "\n",
      "Choose one progress bar: 0it [00:00, ?it/s]\u001b[A"
     ]
    },
    {
     "name": "stdout",
     "output_type": "stream",
     "text": [
      "Starting all\n",
      "runtime for all model:43.05687761306763 seconds\n",
      "Finish all\n",
      "Starting ind\n"
     ]
    },
    {
     "name": "stderr",
     "output_type": "stream",
     "text": [
      "\n",
      "Choose one progress bar: 1it [02:14, 134.47s/it]\u001b[A"
     ]
    },
    {
     "name": "stdout",
     "output_type": "stream",
     "text": [
      "runtime for ind model:91.41385841369629 seconds\n",
      "Finish ind\n",
      "Starting all\n",
      "runtime for all model:41.13785696029663 seconds\n",
      "Finish all\n",
      "Starting ind\n"
     ]
    },
    {
     "name": "stderr",
     "output_type": "stream",
     "text": [
      "\n",
      "Choose one progress bar: 2it [04:22, 130.79s/it]\u001b[A"
     ]
    },
    {
     "name": "stdout",
     "output_type": "stream",
     "text": [
      "runtime for ind model:87.06179761886597 seconds\n",
      "Finish ind\n",
      "Starting all\n",
      "runtime for all model:42.03135585784912 seconds\n",
      "Finish all\n",
      "Starting ind\n"
     ]
    },
    {
     "name": "stderr",
     "output_type": "stream",
     "text": [
      "\n",
      "Choose one progress bar: 3it [06:33, 130.62s/it]\u001b[A"
     ]
    },
    {
     "name": "stdout",
     "output_type": "stream",
     "text": [
      "runtime for ind model:88.39296579360962 seconds\n",
      "Finish ind\n",
      "Starting all\n",
      "runtime for all model:41.30422282218933 seconds\n",
      "Finish all\n",
      "Starting ind\n"
     ]
    },
    {
     "name": "stderr",
     "output_type": "stream",
     "text": [
      "\n",
      "Choose one progress bar: 4it [08:42, 130.24s/it]\u001b[A"
     ]
    },
    {
     "name": "stdout",
     "output_type": "stream",
     "text": [
      "runtime for ind model:88.34210300445557 seconds\n",
      "Finish ind\n",
      "Starting all\n",
      "runtime for all model:42.145997524261475 seconds\n",
      "Finish all\n",
      "Starting ind\n"
     ]
    },
    {
     "name": "stderr",
     "output_type": "stream",
     "text": [
      "\n",
      "Choose one progress bar: 5it [10:53, 130.50s/it]\u001b[A"
     ]
    },
    {
     "name": "stdout",
     "output_type": "stream",
     "text": [
      "runtime for ind model:88.80662870407104 seconds\n",
      "Finish ind\n",
      "Starting all\n",
      "runtime for all model:41.08077025413513 seconds\n",
      "Finish all\n",
      "Starting ind\n"
     ]
    },
    {
     "name": "stderr",
     "output_type": "stream",
     "text": [
      "\n",
      "Choose one progress bar: 6it [13:02, 129.81s/it]\u001b[A"
     ]
    },
    {
     "name": "stdout",
     "output_type": "stream",
     "text": [
      "runtime for ind model:87.39359736442566 seconds\n",
      "Finish ind\n",
      "Starting all\n",
      "runtime for all model:41.5834641456604 seconds\n",
      "Finish all\n",
      "Starting ind\n"
     ]
    },
    {
     "name": "stderr",
     "output_type": "stream",
     "text": [
      "\n",
      "Choose one progress bar: 7it [15:10, 129.37s/it]\u001b[A"
     ]
    },
    {
     "name": "stdout",
     "output_type": "stream",
     "text": [
      "runtime for ind model:86.8577332496643 seconds\n",
      "Finish ind\n",
      "Starting all\n",
      "runtime for all model:41.73478698730469 seconds\n",
      "Finish all\n",
      "Starting ind\n"
     ]
    },
    {
     "name": "stderr",
     "output_type": "stream",
     "text": [
      "\n",
      "Choose one progress bar: 8it [17:20, 129.62s/it]\u001b[A"
     ]
    },
    {
     "name": "stdout",
     "output_type": "stream",
     "text": [
      "runtime for ind model:88.43499994277954 seconds\n",
      "Finish ind\n",
      "Starting all\n",
      "runtime for all model:41.58436441421509 seconds\n",
      "Finish all\n",
      "Starting ind\n"
     ]
    },
    {
     "name": "stderr",
     "output_type": "stream",
     "text": [
      "\n",
      "Choose one progress bar: 9it [19:30, 129.72s/it]\u001b[A"
     ]
    },
    {
     "name": "stdout",
     "output_type": "stream",
     "text": [
      "runtime for ind model:88.34119296073914 seconds\n",
      "Finish ind\n",
      "Starting all\n",
      "runtime for all model:42.19254684448242 seconds\n",
      "Finish all\n",
      "Starting ind\n"
     ]
    },
    {
     "name": "stderr",
     "output_type": "stream",
     "text": [
      "\n",
      "Choose one progress bar: 10it [21:43, 130.32s/it]\u001b[A"
     ]
    },
    {
     "name": "stdout",
     "output_type": "stream",
     "text": [
      "runtime for ind model:90.25338768959045 seconds\n",
      "Finish ind\n",
      "MSE all: 3.2717436974789917\n",
      "MSE ind: 0\n",
      "for ind was chosen\n"
     ]
    },
    {
     "name": "stderr",
     "output_type": "stream",
     "text": [
      "\n",
      "CV progress bar: 3it [1:10:40, 1412.97s/it]"
     ]
    },
    {
     "name": "stdout",
     "output_type": "stream",
     "text": [
      "runtime for ind model:104.52635669708252 seconds\n",
      "runtime for choose one model:1407.7418632507324 seconds\n",
      "starting choose one model\n"
     ]
    },
    {
     "name": "stderr",
     "output_type": "stream",
     "text": [
      "\n",
      "Choose one progress bar: 0it [00:00, ?it/s]\u001b[A"
     ]
    },
    {
     "name": "stdout",
     "output_type": "stream",
     "text": [
      "Starting all\n",
      "runtime for all model:42.542187213897705 seconds\n",
      "Finish all\n",
      "Starting ind\n"
     ]
    },
    {
     "name": "stderr",
     "output_type": "stream",
     "text": [
      "\n",
      "Choose one progress bar: 1it [02:14, 134.99s/it]\u001b[A"
     ]
    },
    {
     "name": "stdout",
     "output_type": "stream",
     "text": [
      "runtime for ind model:92.445241689682 seconds\n",
      "Finish ind\n",
      "Starting all\n",
      "runtime for all model:41.49214053153992 seconds\n",
      "Finish all\n",
      "Starting ind\n"
     ]
    },
    {
     "name": "stderr",
     "output_type": "stream",
     "text": [
      "\n",
      "Choose one progress bar: 2it [04:26, 132.73s/it]\u001b[A"
     ]
    },
    {
     "name": "stdout",
     "output_type": "stream",
     "text": [
      "runtime for ind model:89.64586663246155 seconds\n",
      "Finish ind\n",
      "Starting all\n",
      "runtime for all model:42.541587591171265 seconds\n",
      "Finish all\n",
      "Starting ind\n"
     ]
    },
    {
     "name": "stderr",
     "output_type": "stream",
     "text": [
      "\n",
      "Choose one progress bar: 3it [06:40, 133.61s/it]\u001b[A"
     ]
    },
    {
     "name": "stdout",
     "output_type": "stream",
     "text": [
      "runtime for ind model:92.10967969894409 seconds\n",
      "Finish ind\n",
      "Starting all\n",
      "runtime for all model:43.01121187210083 seconds\n",
      "Finish all\n",
      "Starting ind\n"
     ]
    },
    {
     "name": "stderr",
     "output_type": "stream",
     "text": [
      "\n",
      "Choose one progress bar: 4it [08:55, 133.98s/it]\u001b[A"
     ]
    },
    {
     "name": "stdout",
     "output_type": "stream",
     "text": [
      "runtime for ind model:91.51998257637024 seconds\n",
      "Finish ind\n",
      "Starting all\n",
      "runtime for all model:42.223960399627686 seconds\n",
      "Finish all\n",
      "Starting ind\n"
     ]
    },
    {
     "name": "stderr",
     "output_type": "stream",
     "text": [
      "\n",
      "Choose one progress bar: 5it [11:08, 133.60s/it]\u001b[A"
     ]
    },
    {
     "name": "stdout",
     "output_type": "stream",
     "text": [
      "runtime for ind model:90.69805979728699 seconds\n",
      "Finish ind\n",
      "Starting all\n",
      "runtime for all model:42.267411947250366 seconds\n",
      "Finish all\n",
      "Starting ind\n"
     ]
    },
    {
     "name": "stderr",
     "output_type": "stream",
     "text": [
      "\n",
      "Choose one progress bar: 6it [13:20, 133.23s/it]\u001b[A"
     ]
    },
    {
     "name": "stdout",
     "output_type": "stream",
     "text": [
      "runtime for ind model:90.25482273101807 seconds\n",
      "Finish ind\n",
      "Starting all\n",
      "runtime for all model:42.70840883255005 seconds\n",
      "Finish all\n",
      "Starting ind\n"
     ]
    },
    {
     "name": "stderr",
     "output_type": "stream",
     "text": [
      "\n",
      "Choose one progress bar: 7it [15:33, 133.14s/it]\u001b[A"
     ]
    },
    {
     "name": "stdout",
     "output_type": "stream",
     "text": [
      "runtime for ind model:90.23230934143066 seconds\n",
      "Finish ind\n",
      "Starting all\n",
      "runtime for all model:42.5195255279541 seconds\n",
      "Finish all\n",
      "Starting ind\n"
     ]
    },
    {
     "name": "stderr",
     "output_type": "stream",
     "text": [
      "\n",
      "Choose one progress bar: 8it [17:46, 133.08s/it]\u001b[A"
     ]
    },
    {
     "name": "stdout",
     "output_type": "stream",
     "text": [
      "runtime for ind model:90.44114398956299 seconds\n",
      "Finish ind\n",
      "Starting all\n",
      "runtime for all model:40.85996389389038 seconds\n",
      "Finish all\n",
      "Starting ind\n"
     ]
    },
    {
     "name": "stderr",
     "output_type": "stream",
     "text": [
      "\n",
      "Choose one progress bar: 9it [19:56, 132.00s/it]\u001b[A"
     ]
    },
    {
     "name": "stdout",
     "output_type": "stream",
     "text": [
      "runtime for ind model:88.73852682113647 seconds\n",
      "Finish ind\n",
      "Starting all\n",
      "runtime for all model:41.79661417007446 seconds\n",
      "Finish all\n",
      "Starting ind\n"
     ]
    },
    {
     "name": "stderr",
     "output_type": "stream",
     "text": [
      "\n",
      "Choose one progress bar: 10it [22:07, 132.75s/it]\u001b[A"
     ]
    },
    {
     "name": "stdout",
     "output_type": "stream",
     "text": [
      "runtime for ind model:89.37351775169373 seconds\n",
      "Finish ind\n",
      "MSE all: 3.2973739495798324\n",
      "MSE ind: 0\n",
      "for ind was chosen\n"
     ]
    },
    {
     "name": "stderr",
     "output_type": "stream",
     "text": [
      "\n",
      "CV progress bar: 4it [1:34:35, 1421.78s/it]"
     ]
    },
    {
     "name": "stdout",
     "output_type": "stream",
     "text": [
      "runtime for ind model:107.79429078102112 seconds\n",
      "runtime for choose one model:1435.2798655033112 seconds\n",
      "starting choose one model\n"
     ]
    },
    {
     "name": "stderr",
     "output_type": "stream",
     "text": [
      "\n",
      "Choose one progress bar: 0it [00:00, ?it/s]\u001b[A"
     ]
    },
    {
     "name": "stdout",
     "output_type": "stream",
     "text": [
      "Starting all\n",
      "runtime for all model:41.80225491523743 seconds\n",
      "Finish all\n",
      "Starting ind\n"
     ]
    },
    {
     "name": "stderr",
     "output_type": "stream",
     "text": [
      "\n",
      "Choose one progress bar: 1it [02:11, 131.47s/it]\u001b[A"
     ]
    },
    {
     "name": "stdout",
     "output_type": "stream",
     "text": [
      "runtime for ind model:89.66115713119507 seconds\n",
      "Finish ind\n",
      "Starting all\n",
      "runtime for all model:42.469698905944824 seconds\n",
      "Finish all\n",
      "Starting ind\n"
     ]
    },
    {
     "name": "stderr",
     "output_type": "stream",
     "text": [
      "\n",
      "Choose one progress bar: 2it [04:23, 131.67s/it]\u001b[A"
     ]
    },
    {
     "name": "stdout",
     "output_type": "stream",
     "text": [
      "runtime for ind model:89.33771800994873 seconds\n",
      "Finish ind\n",
      "Starting all\n",
      "runtime for all model:42.198405265808105 seconds\n",
      "Finish all\n",
      "Starting ind\n"
     ]
    },
    {
     "name": "stderr",
     "output_type": "stream",
     "text": [
      "\n",
      "Choose one progress bar: 3it [06:34, 131.58s/it]\u001b[A"
     ]
    },
    {
     "name": "stdout",
     "output_type": "stream",
     "text": [
      "runtime for ind model:89.25864815711975 seconds\n",
      "Finish ind\n",
      "Starting all\n",
      "runtime for all model:41.33623766899109 seconds\n",
      "Finish all\n",
      "Starting ind\n"
     ]
    },
    {
     "name": "stderr",
     "output_type": "stream",
     "text": [
      "\n",
      "Choose one progress bar: 4it [08:44, 130.68s/it]\u001b[A"
     ]
    },
    {
     "name": "stdout",
     "output_type": "stream",
     "text": [
      "runtime for ind model:87.95277690887451 seconds\n",
      "Finish ind\n",
      "Starting all\n",
      "runtime for all model:41.547548055648804 seconds\n",
      "Finish all\n",
      "Starting ind\n"
     ]
    },
    {
     "name": "stderr",
     "output_type": "stream",
     "text": [
      "\n",
      "Choose one progress bar: 5it [10:54, 130.74s/it]\u001b[A"
     ]
    },
    {
     "name": "stdout",
     "output_type": "stream",
     "text": [
      "runtime for ind model:89.29616713523865 seconds\n",
      "Finish ind\n",
      "Starting all\n",
      "runtime for all model:41.47288370132446 seconds\n",
      "Finish all\n",
      "Starting ind\n"
     ]
    },
    {
     "name": "stderr",
     "output_type": "stream",
     "text": [
      "\n",
      "Choose one progress bar: 6it [13:04, 130.23s/it]\u001b[A"
     ]
    },
    {
     "name": "stdout",
     "output_type": "stream",
     "text": [
      "runtime for ind model:87.7624442577362 seconds\n",
      "Finish ind\n",
      "Starting all\n",
      "runtime for all model:41.06694960594177 seconds\n",
      "Finish all\n",
      "Starting ind\n"
     ]
    },
    {
     "name": "stderr",
     "output_type": "stream",
     "text": [
      "\n",
      "Choose one progress bar: 7it [15:13, 130.01s/it]\u001b[A"
     ]
    },
    {
     "name": "stdout",
     "output_type": "stream",
     "text": [
      "runtime for ind model:88.47857332229614 seconds\n",
      "Finish ind\n",
      "Starting all\n",
      "runtime for all model:41.63566064834595 seconds\n",
      "Finish all\n",
      "Starting ind\n"
     ]
    },
    {
     "name": "stderr",
     "output_type": "stream",
     "text": [
      "\n",
      "Choose one progress bar: 8it [17:23, 129.90s/it]\u001b[A"
     ]
    },
    {
     "name": "stdout",
     "output_type": "stream",
     "text": [
      "runtime for ind model:88.0408627986908 seconds\n",
      "Finish ind\n",
      "Starting all\n",
      "runtime for all model:41.99906349182129 seconds\n",
      "Finish all\n",
      "Starting ind\n"
     ]
    },
    {
     "name": "stderr",
     "output_type": "stream",
     "text": [
      "\n",
      "Choose one progress bar: 9it [19:34, 130.23s/it]\u001b[A"
     ]
    },
    {
     "name": "stdout",
     "output_type": "stream",
     "text": [
      "runtime for ind model:88.93154001235962 seconds\n",
      "Finish ind\n",
      "Starting all\n",
      "runtime for all model:41.83185315132141 seconds\n",
      "Finish all\n",
      "Starting ind\n"
     ]
    },
    {
     "name": "stderr",
     "output_type": "stream",
     "text": [
      "\n",
      "Choose one progress bar: 10it [21:44, 130.43s/it]\u001b[A"
     ]
    },
    {
     "name": "stdout",
     "output_type": "stream",
     "text": [
      "runtime for ind model:88.15388774871826 seconds\n",
      "Finish ind\n",
      "MSE all: 3.2209733893557426\n",
      "MSE ind: 0\n",
      "for ind was chosen\n"
     ]
    },
    {
     "name": "stderr",
     "output_type": "stream",
     "text": [
      "\n",
      "CV progress bar: 5it [1:58:04, 1417.04s/it]"
     ]
    },
    {
     "name": "stdout",
     "output_type": "stream",
     "text": [
      "runtime for ind model:104.33812475204468 seconds\n",
      "runtime for choose one model:1408.6386744976044 seconds\n",
      "starting choose one model\n"
     ]
    },
    {
     "name": "stderr",
     "output_type": "stream",
     "text": [
      "\n",
      "Choose one progress bar: 0it [00:00, ?it/s]\u001b[A"
     ]
    },
    {
     "name": "stdout",
     "output_type": "stream",
     "text": [
      "Starting all\n",
      "runtime for all model:41.49776911735535 seconds\n",
      "Finish all\n",
      "Starting ind\n"
     ]
    },
    {
     "name": "stderr",
     "output_type": "stream",
     "text": [
      "\n",
      "Choose one progress bar: 1it [02:11, 131.54s/it]\u001b[A"
     ]
    },
    {
     "name": "stdout",
     "output_type": "stream",
     "text": [
      "runtime for ind model:90.04428601264954 seconds\n",
      "Finish ind\n",
      "Starting all\n",
      "runtime for all model:41.42897129058838 seconds\n",
      "Finish all\n",
      "Starting ind\n"
     ]
    },
    {
     "name": "stderr",
     "output_type": "stream",
     "text": [
      "\n",
      "Choose one progress bar: 2it [04:22, 131.32s/it]\u001b[A"
     ]
    },
    {
     "name": "stdout",
     "output_type": "stream",
     "text": [
      "runtime for ind model:89.72974252700806 seconds\n",
      "Finish ind\n",
      "Starting all\n",
      "runtime for all model:42.255943775177 seconds\n",
      "Finish all\n",
      "Starting ind\n"
     ]
    },
    {
     "name": "stderr",
     "output_type": "stream",
     "text": [
      "\n",
      "Choose one progress bar: 3it [06:33, 130.91s/it]\u001b[A"
     ]
    },
    {
     "name": "stdout",
     "output_type": "stream",
     "text": [
      "runtime for ind model:88.15581846237183 seconds\n",
      "Finish ind\n",
      "Starting all\n",
      "runtime for all model:41.88975977897644 seconds\n",
      "Finish all\n",
      "Starting ind\n"
     ]
    },
    {
     "name": "stderr",
     "output_type": "stream",
     "text": [
      "\n",
      "Choose one progress bar: 4it [08:44, 131.15s/it]\u001b[A"
     ]
    },
    {
     "name": "stdout",
     "output_type": "stream",
     "text": [
      "runtime for ind model:89.63117790222168 seconds\n",
      "Finish ind\n",
      "Starting all\n",
      "runtime for all model:42.30793881416321 seconds\n",
      "Finish all\n",
      "Starting ind\n"
     ]
    },
    {
     "name": "stderr",
     "output_type": "stream",
     "text": [
      "\n",
      "Choose one progress bar: 5it [10:57, 131.91s/it]\u001b[A"
     ]
    },
    {
     "name": "stdout",
     "output_type": "stream",
     "text": [
      "runtime for ind model:90.92603993415833 seconds\n",
      "Finish ind\n",
      "Starting all\n",
      "runtime for all model:41.488617181777954 seconds\n",
      "Finish all\n",
      "Starting ind\n"
     ]
    },
    {
     "name": "stderr",
     "output_type": "stream",
     "text": [
      "\n",
      "Choose one progress bar: 6it [13:07, 131.17s/it]\u001b[A"
     ]
    },
    {
     "name": "stdout",
     "output_type": "stream",
     "text": [
      "runtime for ind model:88.25637745857239 seconds\n",
      "Finish ind\n",
      "Starting all\n",
      "runtime for all model:42.195998668670654 seconds\n",
      "Finish all\n",
      "Starting ind\n"
     ]
    },
    {
     "name": "stderr",
     "output_type": "stream",
     "text": [
      "\n",
      "Choose one progress bar: 7it [15:18, 131.08s/it]\u001b[A"
     ]
    },
    {
     "name": "stdout",
     "output_type": "stream",
     "text": [
      "runtime for ind model:88.67644333839417 seconds\n",
      "Finish ind\n",
      "Starting all\n",
      "runtime for all model:40.999311447143555 seconds\n",
      "Finish all\n",
      "Starting ind\n"
     ]
    },
    {
     "name": "stderr",
     "output_type": "stream",
     "text": [
      "\n",
      "Choose one progress bar: 8it [17:29, 131.05s/it]\u001b[A"
     ]
    },
    {
     "name": "stdout",
     "output_type": "stream",
     "text": [
      "runtime for ind model:89.97736024856567 seconds\n",
      "Finish ind\n",
      "Starting all\n",
      "runtime for all model:40.78524565696716 seconds\n",
      "Finish all\n",
      "Starting ind\n"
     ]
    },
    {
     "name": "stderr",
     "output_type": "stream",
     "text": [
      "\n",
      "Choose one progress bar: 9it [19:39, 130.84s/it]\u001b[A"
     ]
    },
    {
     "name": "stdout",
     "output_type": "stream",
     "text": [
      "runtime for ind model:89.59500789642334 seconds\n",
      "Finish ind\n",
      "Starting all\n",
      "runtime for all model:41.38964557647705 seconds\n",
      "Finish all\n",
      "Starting ind\n"
     ]
    },
    {
     "name": "stderr",
     "output_type": "stream",
     "text": [
      "\n",
      "Choose one progress bar: 10it [21:50, 131.02s/it]\u001b[A"
     ]
    },
    {
     "name": "stdout",
     "output_type": "stream",
     "text": [
      "runtime for ind model:88.86861252784729 seconds\n",
      "Finish ind\n",
      "MSE all: 3.286029411764706\n",
      "MSE ind: 0\n",
      "for ind was chosen\n"
     ]
    },
    {
     "name": "stderr",
     "output_type": "stream",
     "text": [
      "\n",
      "CV progress bar: 6it [2:21:39, 1416.42s/it]"
     ]
    },
    {
     "name": "stdout",
     "output_type": "stream",
     "text": [
      "runtime for ind model:105.05600643157959 seconds\n",
      "runtime for choose one model:1415.2172758579254 seconds\n",
      "starting choose one model\n"
     ]
    },
    {
     "name": "stderr",
     "output_type": "stream",
     "text": [
      "\n",
      "Choose one progress bar: 0it [00:00, ?it/s]\u001b[A"
     ]
    },
    {
     "name": "stdout",
     "output_type": "stream",
     "text": [
      "Starting all\n",
      "runtime for all model:41.91469621658325 seconds\n",
      "Finish all\n",
      "Starting ind\n"
     ]
    },
    {
     "name": "stderr",
     "output_type": "stream",
     "text": [
      "\n",
      "Choose one progress bar: 1it [02:11, 131.50s/it]\u001b[A"
     ]
    },
    {
     "name": "stdout",
     "output_type": "stream",
     "text": [
      "runtime for ind model:89.587153673172 seconds\n",
      "Finish ind\n",
      "Starting all\n",
      "runtime for all model:41.869970083236694 seconds\n",
      "Finish all\n",
      "Starting ind\n"
     ]
    },
    {
     "name": "stderr",
     "output_type": "stream",
     "text": [
      "\n",
      "Choose one progress bar: 2it [04:22, 131.05s/it]\u001b[A"
     ]
    },
    {
     "name": "stdout",
     "output_type": "stream",
     "text": [
      "runtime for ind model:88.84834432601929 seconds\n",
      "Finish ind\n",
      "Starting all\n",
      "runtime for all model:41.26943016052246 seconds\n",
      "Finish all\n",
      "Starting ind\n"
     ]
    },
    {
     "name": "stderr",
     "output_type": "stream",
     "text": [
      "\n",
      "Choose one progress bar: 3it [06:32, 130.84s/it]\u001b[A"
     ]
    },
    {
     "name": "stdout",
     "output_type": "stream",
     "text": [
      "runtime for ind model:89.3268346786499 seconds\n",
      "Finish ind\n",
      "Starting all\n",
      "runtime for all model:40.833521127700806 seconds\n",
      "Finish all\n",
      "Starting ind\n"
     ]
    },
    {
     "name": "stderr",
     "output_type": "stream",
     "text": [
      "\n",
      "Choose one progress bar: 4it [08:42, 130.36s/it]\u001b[A"
     ]
    },
    {
     "name": "stdout",
     "output_type": "stream",
     "text": [
      "runtime for ind model:88.77788710594177 seconds\n",
      "Finish ind\n",
      "Starting all\n",
      "runtime for all model:41.48419642448425 seconds\n",
      "Finish all\n",
      "Starting ind\n"
     ]
    },
    {
     "name": "stderr",
     "output_type": "stream",
     "text": [
      "\n",
      "Choose one progress bar: 5it [10:53, 130.64s/it]\u001b[A"
     ]
    },
    {
     "name": "stdout",
     "output_type": "stream",
     "text": [
      "runtime for ind model:89.63917565345764 seconds\n",
      "Finish ind\n",
      "Starting all\n",
      "runtime for all model:41.99998879432678 seconds\n",
      "Finish all\n",
      "Starting ind\n"
     ]
    },
    {
     "name": "stderr",
     "output_type": "stream",
     "text": [
      "\n",
      "Choose one progress bar: 6it [13:04, 130.66s/it]\u001b[A"
     ]
    },
    {
     "name": "stdout",
     "output_type": "stream",
     "text": [
      "runtime for ind model:88.71020746231079 seconds\n",
      "Finish ind\n",
      "Starting all\n",
      "runtime for all model:42.02459955215454 seconds\n",
      "Finish all\n",
      "Starting ind\n"
     ]
    },
    {
     "name": "stderr",
     "output_type": "stream",
     "text": [
      "\n",
      "Choose one progress bar: 7it [15:17, 131.65s/it]\u001b[A"
     ]
    },
    {
     "name": "stdout",
     "output_type": "stream",
     "text": [
      "runtime for ind model:91.6596736907959 seconds\n",
      "Finish ind\n",
      "Starting all\n",
      "runtime for all model:42.58503031730652 seconds\n",
      "Finish all\n",
      "Starting ind\n"
     ]
    },
    {
     "name": "stderr",
     "output_type": "stream",
     "text": [
      "\n",
      "Choose one progress bar: 8it [17:30, 132.01s/it]\u001b[A"
     ]
    },
    {
     "name": "stdout",
     "output_type": "stream",
     "text": [
      "runtime for ind model:90.19775438308716 seconds\n",
      "Finish ind\n",
      "Starting all\n",
      "runtime for all model:42.18288731575012 seconds\n",
      "Finish all\n",
      "Starting ind\n"
     ]
    },
    {
     "name": "stderr",
     "output_type": "stream",
     "text": [
      "\n",
      "Choose one progress bar: 9it [19:43, 132.23s/it]\u001b[A"
     ]
    },
    {
     "name": "stdout",
     "output_type": "stream",
     "text": [
      "runtime for ind model:90.50216555595398 seconds\n",
      "Finish ind\n",
      "Starting all\n",
      "runtime for all model:41.127394676208496 seconds\n",
      "Finish all\n",
      "Starting ind\n"
     ]
    },
    {
     "name": "stderr",
     "output_type": "stream",
     "text": [
      "\n",
      "Choose one progress bar: 10it [21:54, 131.41s/it]\u001b[A"
     ]
    },
    {
     "name": "stdout",
     "output_type": "stream",
     "text": [
      "runtime for ind model:89.47770285606384 seconds\n",
      "Finish ind\n",
      "MSE all: 3.2565126050420172\n",
      "MSE ind: 0\n",
      "for ind was chosen\n"
     ]
    },
    {
     "name": "stderr",
     "output_type": "stream",
     "text": [
      "\n",
      "CV progress bar: 7it [2:45:19, 1417.53s/it]"
     ]
    },
    {
     "name": "stdout",
     "output_type": "stream",
     "text": [
      "runtime for ind model:105.71082282066345 seconds\n",
      "runtime for choose one model:1419.7921528816223 seconds\n",
      "starting choose one model\n"
     ]
    },
    {
     "name": "stderr",
     "output_type": "stream",
     "text": [
      "\n",
      "Choose one progress bar: 0it [00:00, ?it/s]\u001b[A"
     ]
    },
    {
     "name": "stdout",
     "output_type": "stream",
     "text": [
      "Starting all\n",
      "runtime for all model:42.1940233707428 seconds\n",
      "Finish all\n",
      "Starting ind\n"
     ]
    },
    {
     "name": "stderr",
     "output_type": "stream",
     "text": [
      "\n",
      "Choose one progress bar: 1it [02:11, 131.11s/it]\u001b[A"
     ]
    },
    {
     "name": "stdout",
     "output_type": "stream",
     "text": [
      "runtime for ind model:88.9162347316742 seconds\n",
      "Finish ind\n",
      "Starting all\n",
      "runtime for all model:41.58898854255676 seconds\n",
      "Finish all\n",
      "Starting ind\n"
     ]
    },
    {
     "name": "stderr",
     "output_type": "stream",
     "text": [
      "\n",
      "Choose one progress bar: 2it [04:24, 132.64s/it]\u001b[A"
     ]
    },
    {
     "name": "stdout",
     "output_type": "stream",
     "text": [
      "runtime for ind model:92.11413502693176 seconds\n",
      "Finish ind\n",
      "Starting all\n",
      "runtime for all model:40.92282509803772 seconds\n",
      "Finish all\n",
      "Starting ind\n"
     ]
    },
    {
     "name": "stderr",
     "output_type": "stream",
     "text": [
      "\n",
      "Choose one progress bar: 3it [06:33, 130.78s/it]\u001b[A"
     ]
    },
    {
     "name": "stdout",
     "output_type": "stream",
     "text": [
      "runtime for ind model:87.6322271823883 seconds\n",
      "Finish ind\n",
      "Starting all\n",
      "runtime for all model:42.67177939414978 seconds\n",
      "Finish all\n",
      "Starting ind\n"
     ]
    },
    {
     "name": "stderr",
     "output_type": "stream",
     "text": [
      "\n",
      "Choose one progress bar: 4it [08:46, 131.75s/it]\u001b[A"
     ]
    },
    {
     "name": "stdout",
     "output_type": "stream",
     "text": [
      "runtime for ind model:90.56852626800537 seconds\n",
      "Finish ind\n",
      "Starting all\n",
      "runtime for all model:41.8883330821991 seconds\n",
      "Finish all\n",
      "Starting ind\n"
     ]
    },
    {
     "name": "stderr",
     "output_type": "stream",
     "text": [
      "\n",
      "Choose one progress bar: 5it [10:57, 131.37s/it]\u001b[A"
     ]
    },
    {
     "name": "stdout",
     "output_type": "stream",
     "text": [
      "runtime for ind model:88.78619861602783 seconds\n",
      "Finish ind\n",
      "Starting all\n",
      "runtime for all model:41.844465017318726 seconds\n",
      "Finish all\n",
      "Starting ind\n"
     ]
    },
    {
     "name": "stderr",
     "output_type": "stream",
     "text": [
      "\n",
      "Choose one progress bar: 6it [13:09, 131.62s/it]\u001b[A"
     ]
    },
    {
     "name": "stdout",
     "output_type": "stream",
     "text": [
      "runtime for ind model:90.26767611503601 seconds\n",
      "Finish ind\n",
      "Starting all\n",
      "runtime for all model:41.498229026794434 seconds\n",
      "Finish all\n",
      "Starting ind\n"
     ]
    },
    {
     "name": "stderr",
     "output_type": "stream",
     "text": [
      "\n",
      "Choose one progress bar: 7it [15:20, 131.32s/it]\u001b[A"
     ]
    },
    {
     "name": "stdout",
     "output_type": "stream",
     "text": [
      "runtime for ind model:89.18166494369507 seconds\n",
      "Finish ind\n",
      "Starting all\n",
      "runtime for all model:43.08545398712158 seconds\n",
      "Finish all\n",
      "Starting ind\n"
     ]
    },
    {
     "name": "stderr",
     "output_type": "stream",
     "text": [
      "\n",
      "Choose one progress bar: 8it [17:31, 131.42s/it]\u001b[A"
     ]
    },
    {
     "name": "stdout",
     "output_type": "stream",
     "text": [
      "runtime for ind model:88.54732370376587 seconds\n",
      "Finish ind\n",
      "Starting all\n",
      "runtime for all model:42.09541630744934 seconds\n",
      "Finish all\n",
      "Starting ind\n"
     ]
    },
    {
     "name": "stderr",
     "output_type": "stream",
     "text": [
      "\n",
      "Choose one progress bar: 9it [19:44, 131.70s/it]\u001b[A"
     ]
    },
    {
     "name": "stdout",
     "output_type": "stream",
     "text": [
      "runtime for ind model:90.20121192932129 seconds\n",
      "Finish ind\n",
      "Starting all\n",
      "runtime for all model:41.48026704788208 seconds\n",
      "Finish all\n",
      "Starting ind\n"
     ]
    },
    {
     "name": "stderr",
     "output_type": "stream",
     "text": [
      "\n",
      "Choose one progress bar: 10it [21:55, 131.59s/it]\u001b[A"
     ]
    },
    {
     "name": "stdout",
     "output_type": "stream",
     "text": [
      "runtime for ind model:90.35257768630981 seconds\n",
      "Finish ind\n",
      "MSE all: 3.1519257703081234\n",
      "MSE ind: 0\n",
      "for ind was chosen\n"
     ]
    },
    {
     "name": "stderr",
     "output_type": "stream",
     "text": [
      "\n",
      "CV progress bar: 8it [3:08:59, 1418.33s/it]"
     ]
    },
    {
     "name": "stdout",
     "output_type": "stream",
     "text": [
      "runtime for ind model:104.15524959564209 seconds\n",
      "runtime for choose one model:1420.0605340003967 seconds\n",
      "starting choose one model\n"
     ]
    },
    {
     "name": "stderr",
     "output_type": "stream",
     "text": [
      "\n",
      "Choose one progress bar: 0it [00:00, ?it/s]\u001b[A"
     ]
    },
    {
     "name": "stdout",
     "output_type": "stream",
     "text": [
      "Starting all\n",
      "runtime for all model:41.416934967041016 seconds\n",
      "Finish all\n",
      "Starting ind\n"
     ]
    },
    {
     "name": "stderr",
     "output_type": "stream",
     "text": [
      "\n",
      "Choose one progress bar: 1it [02:11, 131.84s/it]\u001b[A"
     ]
    },
    {
     "name": "stdout",
     "output_type": "stream",
     "text": [
      "runtime for ind model:90.41666603088379 seconds\n",
      "Finish ind\n",
      "Starting all\n",
      "runtime for all model:41.709444999694824 seconds\n",
      "Finish all\n",
      "Starting ind\n"
     ]
    },
    {
     "name": "stderr",
     "output_type": "stream",
     "text": [
      "\n",
      "Choose one progress bar: 2it [04:22, 131.41s/it]\u001b[A"
     ]
    },
    {
     "name": "stdout",
     "output_type": "stream",
     "text": [
      "runtime for ind model:89.38961863517761 seconds\n",
      "Finish ind\n",
      "Starting all\n",
      "runtime for all model:42.35257840156555 seconds\n",
      "Finish all\n",
      "Starting ind\n"
     ]
    },
    {
     "name": "stderr",
     "output_type": "stream",
     "text": [
      "\n",
      "Choose one progress bar: 3it [06:34, 131.26s/it]\u001b[A"
     ]
    },
    {
     "name": "stdout",
     "output_type": "stream",
     "text": [
      "runtime for ind model:88.71985101699829 seconds\n",
      "Finish ind\n",
      "Starting all\n",
      "runtime for all model:41.53108334541321 seconds\n",
      "Finish all\n",
      "Starting ind\n"
     ]
    },
    {
     "name": "stderr",
     "output_type": "stream",
     "text": [
      "\n",
      "Choose one progress bar: 4it [08:44, 130.81s/it]\u001b[A"
     ]
    },
    {
     "name": "stdout",
     "output_type": "stream",
     "text": [
      "runtime for ind model:88.57721424102783 seconds\n",
      "Finish ind\n",
      "Starting all\n",
      "runtime for all model:41.1966667175293 seconds\n",
      "Finish all\n",
      "Starting ind\n"
     ]
    },
    {
     "name": "stderr",
     "output_type": "stream",
     "text": [
      "\n",
      "Choose one progress bar: 5it [10:55, 131.19s/it]\u001b[A"
     ]
    },
    {
     "name": "stdout",
     "output_type": "stream",
     "text": [
      "runtime for ind model:90.65655827522278 seconds\n",
      "Finish ind\n",
      "Starting all\n",
      "runtime for all model:41.710973262786865 seconds\n",
      "Finish all\n",
      "Starting ind\n"
     ]
    },
    {
     "name": "stderr",
     "output_type": "stream",
     "text": [
      "\n",
      "Choose one progress bar: 6it [13:06, 130.95s/it]\u001b[A"
     ]
    },
    {
     "name": "stdout",
     "output_type": "stream",
     "text": [
      "runtime for ind model:88.7678542137146 seconds\n",
      "Finish ind\n",
      "Starting all\n",
      "runtime for all model:41.72680854797363 seconds\n",
      "Finish all\n",
      "Starting ind\n"
     ]
    },
    {
     "name": "stderr",
     "output_type": "stream",
     "text": [
      "\n",
      "Choose one progress bar: 7it [15:19, 131.58s/it]\u001b[A"
     ]
    },
    {
     "name": "stdout",
     "output_type": "stream",
     "text": [
      "runtime for ind model:91.16411972045898 seconds\n",
      "Finish ind\n",
      "Starting all\n",
      "runtime for all model:40.99825191497803 seconds\n",
      "Finish all\n",
      "Starting ind\n"
     ]
    },
    {
     "name": "stderr",
     "output_type": "stream",
     "text": [
      "\n",
      "Choose one progress bar: 8it [17:29, 131.25s/it]\u001b[A"
     ]
    },
    {
     "name": "stdout",
     "output_type": "stream",
     "text": [
      "runtime for ind model:89.5428638458252 seconds\n",
      "Finish ind\n",
      "Starting all\n",
      "runtime for all model:41.43872356414795 seconds\n",
      "Finish all\n",
      "Starting ind\n"
     ]
    },
    {
     "name": "stderr",
     "output_type": "stream",
     "text": [
      "\n",
      "Choose one progress bar: 9it [19:39, 130.74s/it]\u001b[A"
     ]
    },
    {
     "name": "stdout",
     "output_type": "stream",
     "text": [
      "runtime for ind model:88.1793053150177 seconds\n",
      "Finish ind\n",
      "Starting all\n",
      "runtime for all model:40.59366059303284 seconds\n",
      "Finish all\n",
      "Starting ind\n"
     ]
    },
    {
     "name": "stderr",
     "output_type": "stream",
     "text": [
      "\n",
      "Choose one progress bar: 10it [21:49, 130.99s/it]\u001b[A"
     ]
    },
    {
     "name": "stdout",
     "output_type": "stream",
     "text": [
      "runtime for ind model:89.79734015464783 seconds\n",
      "Finish ind\n",
      "MSE all: 3.3732492997198884\n",
      "MSE ind: 0\n",
      "for ind was chosen\n"
     ]
    },
    {
     "name": "stderr",
     "output_type": "stream",
     "text": [
      "\n",
      "CV progress bar: 9it [3:32:36, 1417.97s/it]"
     ]
    },
    {
     "name": "stdout",
     "output_type": "stream",
     "text": [
      "runtime for ind model:107.22876787185669 seconds\n",
      "runtime for choose one model:1417.178228855133 seconds\n",
      "starting choose one model\n"
     ]
    },
    {
     "name": "stderr",
     "output_type": "stream",
     "text": [
      "\n",
      "Choose one progress bar: 0it [00:00, ?it/s]\u001b[A"
     ]
    },
    {
     "name": "stdout",
     "output_type": "stream",
     "text": [
      "Starting all\n",
      "runtime for all model:41.156416177749634 seconds\n",
      "Finish all\n",
      "Starting ind\n"
     ]
    },
    {
     "name": "stderr",
     "output_type": "stream",
     "text": [
      "\n",
      "Choose one progress bar: 1it [02:09, 129.11s/it]\u001b[A"
     ]
    },
    {
     "name": "stdout",
     "output_type": "stream",
     "text": [
      "runtime for ind model:87.9544312953949 seconds\n",
      "Finish ind\n",
      "Starting all\n",
      "runtime for all model:42.096455097198486 seconds\n",
      "Finish all\n",
      "Starting ind\n"
     ]
    },
    {
     "name": "stderr",
     "output_type": "stream",
     "text": [
      "\n",
      "Choose one progress bar: 2it [04:21, 130.84s/it]\u001b[A"
     ]
    },
    {
     "name": "stdout",
     "output_type": "stream",
     "text": [
      "runtime for ind model:89.9437141418457 seconds\n",
      "Finish ind\n",
      "Starting all\n",
      "runtime for all model:41.39303636550903 seconds\n",
      "Finish all\n",
      "Starting ind\n"
     ]
    },
    {
     "name": "stderr",
     "output_type": "stream",
     "text": [
      "\n",
      "Choose one progress bar: 3it [06:32, 130.99s/it]\u001b[A"
     ]
    },
    {
     "name": "stdout",
     "output_type": "stream",
     "text": [
      "runtime for ind model:89.76936888694763 seconds\n",
      "Finish ind\n",
      "Starting all\n",
      "runtime for all model:41.515167236328125 seconds\n",
      "Finish all\n",
      "Starting ind\n"
     ]
    },
    {
     "name": "stderr",
     "output_type": "stream",
     "text": [
      "\n",
      "Choose one progress bar: 4it [08:43, 130.97s/it]\u001b[A"
     ]
    },
    {
     "name": "stdout",
     "output_type": "stream",
     "text": [
      "runtime for ind model:89.40752959251404 seconds\n",
      "Finish ind\n",
      "Starting all\n",
      "runtime for all model:41.01700496673584 seconds\n",
      "Finish all\n",
      "Starting ind\n"
     ]
    },
    {
     "name": "stderr",
     "output_type": "stream",
     "text": [
      "\n",
      "Choose one progress bar: 5it [10:53, 130.88s/it]\u001b[A"
     ]
    },
    {
     "name": "stdout",
     "output_type": "stream",
     "text": [
      "runtime for ind model:89.70312261581421 seconds\n",
      "Finish ind\n",
      "Starting all\n",
      "runtime for all model:41.316142082214355 seconds\n",
      "Finish all\n",
      "Starting ind\n"
     ]
    },
    {
     "name": "stderr",
     "output_type": "stream",
     "text": [
      "\n",
      "Choose one progress bar: 6it [13:03, 130.55s/it]\u001b[A"
     ]
    },
    {
     "name": "stdout",
     "output_type": "stream",
     "text": [
      "runtime for ind model:88.58131694793701 seconds\n",
      "Finish ind\n",
      "Starting all\n",
      "runtime for all model:41.38316774368286 seconds\n",
      "Finish all\n",
      "Starting ind\n"
     ]
    },
    {
     "name": "stderr",
     "output_type": "stream",
     "text": [
      "\n",
      "Choose one progress bar: 7it [15:15, 130.76s/it]\u001b[A"
     ]
    },
    {
     "name": "stdout",
     "output_type": "stream",
     "text": [
      "runtime for ind model:89.8201253414154 seconds\n",
      "Finish ind\n",
      "Starting all\n",
      "runtime for all model:41.446983337402344 seconds\n",
      "Finish all\n",
      "Starting ind\n"
     ]
    },
    {
     "name": "stderr",
     "output_type": "stream",
     "text": [
      "\n",
      "Choose one progress bar: 8it [17:25, 130.78s/it]\u001b[A"
     ]
    },
    {
     "name": "stdout",
     "output_type": "stream",
     "text": [
      "runtime for ind model:89.34861278533936 seconds\n",
      "Finish ind\n",
      "Starting all\n",
      "runtime for all model:41.48072361946106 seconds\n",
      "Finish all\n",
      "Starting ind\n"
     ]
    },
    {
     "name": "stderr",
     "output_type": "stream",
     "text": [
      "\n",
      "Choose one progress bar: 9it [19:38, 131.34s/it]\u001b[A"
     ]
    },
    {
     "name": "stdout",
     "output_type": "stream",
     "text": [
      "runtime for ind model:91.10810351371765 seconds\n",
      "Finish ind\n",
      "Starting all\n",
      "runtime for all model:41.90442681312561 seconds\n",
      "Finish all\n",
      "Starting ind\n"
     ]
    },
    {
     "name": "stderr",
     "output_type": "stream",
     "text": [
      "\n",
      "Choose one progress bar: 10it [21:50, 131.00s/it]\u001b[A"
     ]
    },
    {
     "name": "stdout",
     "output_type": "stream",
     "text": [
      "runtime for ind model:89.60092377662659 seconds\n",
      "Finish ind\n",
      "MSE all: 3.1771358543417367\n",
      "MSE ind: 0\n",
      "for ind was chosen\n"
     ]
    },
    {
     "name": "stderr",
     "output_type": "stream",
     "text": [
      "\n",
      "CV progress bar: 10it [3:56:11, 1417.14s/it]"
     ]
    },
    {
     "name": "stdout",
     "output_type": "stream",
     "text": [
      "runtime for ind model:104.85729026794434 seconds\n",
      "runtime for choose one model:1414.874113559723 seconds\n",
      "MSE for all model:   nan\n",
      "MSE for ind model:   nan\n",
      "MSE LOO model:       nan\n",
      "MSE choose one model:0.31962576896787426\n",
      "stdev choose one model:0.03929150973271142\n",
      "Total runtime: 236.18944395780562 minutes\n"
     ]
    },
    {
     "name": "stderr",
     "output_type": "stream",
     "text": [
      "\n",
      "/home/yehudan/Desktop/DecisionTree/DecisionTree/datasets/mse_comparison.py:276: RuntimeWarning: Mean of empty slice.\n",
      "  print(f'MSE for all model:   {np.array(mse_all).mean()}')\n",
      "/data/anaconda3/lib/python3.9/site-packages/numpy/core/_methods.py:188: RuntimeWarning: invalid value encountered in double_scalars\n",
      "  ret = ret.dtype.type(ret / rcount)\n",
      "/home/yehudan/Desktop/DecisionTree/DecisionTree/datasets/mse_comparison.py:277: RuntimeWarning: Mean of empty slice.\n",
      "  print(f'MSE for ind model:   {np.array(mse_ind).mean()}')\n",
      "/home/yehudan/Desktop/DecisionTree/DecisionTree/datasets/mse_comparison.py:278: RuntimeWarning: Mean of empty slice.\n",
      "  print(f'MSE LOO model:       {np.array(mse_loo).mean()}')\n"
     ]
    }
   ],
   "source": [
    "_, _, _, mse_choose = mse_comparison.mse_comparison(path=None,\n",
    "                                                                    df=final_df_classifiction, n_features=14,\n",
    "                                                                    max_depth=np.inf,\n",
    "                                                           min_samples_leaf=int(0.05*final_df_classifiction.shape[0]),\n",
    "                                                                    n_splits=10, model='gb', n_estimators=50,only_choose_one=True,\n",
    "                                                                    regression=False,\n",
    "                                                                    random_state=0)"
   ]
  },
  {
   "cell_type": "code",
   "execution_count": 15,
   "id": "937777e7",
   "metadata": {},
   "outputs": [
    {
     "name": "stdout",
     "output_type": "stream",
     "text": [
      "Cell execution time: 2023-04-30 09:10:33.976262\n"
     ]
    },
    {
     "name": "stderr",
     "output_type": "stream",
     "text": [
      "CV progress bar: 0it [00:00, ?it/s]"
     ]
    },
    {
     "name": "stdout",
     "output_type": "stream",
     "text": [
      "for all print:\n",
      "runtime for all model:55.160425424575806 seconds\n",
      "for ind print:\n",
      "print for target number: 0\n",
      "print for target number: 1\n",
      "runtime for ind model:109.94054555892944 seconds\n",
      "LOO print:\n"
     ]
    },
    {
     "name": "stderr",
     "output_type": "stream",
     "text": [
      "CV progress bar: 1it [30:21, 1821.90s/it]"
     ]
    },
    {
     "name": "stdout",
     "output_type": "stream",
     "text": [
      "runtime for LOO model:1656.7920179367065 seconds\n",
      "Score for all:0.32706766917293234\n",
      "Score for ind:0.33458646616541354\n",
      "Score for loo model:0.3007518796992481\n",
      "****************************************************************************************************************************************************************\n",
      "for all print:\n",
      "runtime for all model:52.30332851409912 seconds\n",
      "for ind print:\n",
      "print for target number: 0\n",
      "print for target number: 1\n",
      "runtime for ind model:112.7987654209137 seconds\n",
      "LOO print:\n"
     ]
    },
    {
     "name": "stderr",
     "output_type": "stream",
     "text": [
      "CV progress bar: 2it [1:00:59, 1830.94s/it]"
     ]
    },
    {
     "name": "stdout",
     "output_type": "stream",
     "text": [
      "runtime for LOO model:1672.1566314697266 seconds\n",
      "Score for all:0.37218045112781956\n",
      "Score for ind:0.37593984962406013\n",
      "Score for loo model:0.33458646616541354\n",
      "****************************************************************************************************************************************************************\n",
      "for all print:\n",
      "runtime for all model:51.52654409408569 seconds\n",
      "for ind print:\n",
      "print for target number: 0\n",
      "print for target number: 1\n",
      "runtime for ind model:111.91206049919128 seconds\n",
      "LOO print:\n"
     ]
    },
    {
     "name": "stderr",
     "output_type": "stream",
     "text": [
      "CV progress bar: 3it [1:29:48, 1784.41s/it]"
     ]
    },
    {
     "name": "stdout",
     "output_type": "stream",
     "text": [
      "runtime for LOO model:1565.5929527282715 seconds\n",
      "Score for all:0.31203007518796994\n",
      "Score for ind:0.31203007518796994\n",
      "Score for loo model:0.3233082706766917\n",
      "****************************************************************************************************************************************************************\n",
      "for all print:\n",
      "runtime for all model:52.06918287277222 seconds\n",
      "for ind print:\n",
      "print for target number: 0\n",
      "print for target number: 1\n",
      "runtime for ind model:113.1902871131897 seconds\n",
      "LOO print:\n"
     ]
    },
    {
     "name": "stderr",
     "output_type": "stream",
     "text": [
      "CV progress bar: 4it [1:59:24, 1781.21s/it]"
     ]
    },
    {
     "name": "stdout",
     "output_type": "stream",
     "text": [
      "runtime for LOO model:1611.0368778705597 seconds\n",
      "Score for all:0.2706766917293233\n",
      "Score for ind:0.2857142857142857\n",
      "Score for loo model:0.2781954887218045\n",
      "****************************************************************************************************************************************************************\n",
      "for all print:\n",
      "runtime for all model:57.359397649765015 seconds\n",
      "for ind print:\n",
      "print for target number: 0\n",
      "print for target number: 1\n",
      "runtime for ind model:109.23655557632446 seconds\n",
      "LOO print:\n"
     ]
    },
    {
     "name": "stderr",
     "output_type": "stream",
     "text": [
      "CV progress bar: 5it [2:28:17, 1763.71s/it]"
     ]
    },
    {
     "name": "stdout",
     "output_type": "stream",
     "text": [
      "runtime for LOO model:1566.0735485553741 seconds\n",
      "Score for all:0.2932330827067669\n",
      "Score for ind:0.2857142857142857\n",
      "Score for loo model:0.2894736842105263\n",
      "****************************************************************************************************************************************************************\n",
      "for all print:\n",
      "runtime for all model:52.382487773895264 seconds\n",
      "for ind print:\n",
      "print for target number: 0\n",
      "print for target number: 1\n",
      "runtime for ind model:111.17341947555542 seconds\n",
      "LOO print:\n"
     ]
    },
    {
     "name": "stderr",
     "output_type": "stream",
     "text": [
      "CV progress bar: 6it [2:58:04, 1771.89s/it]"
     ]
    },
    {
     "name": "stdout",
     "output_type": "stream",
     "text": [
      "runtime for LOO model:1624.2209630012512 seconds\n",
      "Score for all:0.3333333333333333\n",
      "Score for ind:0.30303030303030304\n",
      "Score for loo model:0.32575757575757575\n",
      "****************************************************************************************************************************************************************\n",
      "for all print:\n",
      "runtime for all model:50.87147378921509 seconds\n",
      "for ind print:\n",
      "print for target number: 0\n",
      "print for target number: 1\n",
      "runtime for ind model:110.84492468833923 seconds\n",
      "LOO print:\n"
     ]
    },
    {
     "name": "stderr",
     "output_type": "stream",
     "text": [
      "CV progress bar: 7it [3:28:27, 1788.52s/it]"
     ]
    },
    {
     "name": "stdout",
     "output_type": "stream",
     "text": [
      "runtime for LOO model:1661.0287773609161 seconds\n",
      "Score for all:0.3143939393939394\n",
      "Score for ind:0.29545454545454547\n",
      "Score for loo model:0.32575757575757575\n",
      "****************************************************************************************************************************************************************\n",
      "for all print:\n",
      "runtime for all model:53.43631601333618 seconds\n",
      "for ind print:\n",
      "print for target number: 0\n",
      "print for target number: 1\n",
      "runtime for ind model:113.86764764785767 seconds\n",
      "LOO print:\n"
     ]
    },
    {
     "name": "stderr",
     "output_type": "stream",
     "text": [
      "CV progress bar: 8it [3:58:54, 1800.84s/it]"
     ]
    },
    {
     "name": "stdout",
     "output_type": "stream",
     "text": [
      "runtime for LOO model:1659.9165861606598 seconds\n",
      "Score for all:0.38257575757575757\n",
      "Score for ind:0.38636363636363635\n",
      "Score for loo model:0.35984848484848486\n",
      "****************************************************************************************************************************************************************\n",
      "for all print:\n",
      "runtime for all model:57.44198417663574 seconds\n",
      "for ind print:\n",
      "print for target number: 0\n",
      "print for target number: 1\n",
      "runtime for ind model:121.45532703399658 seconds\n",
      "LOO print:\n"
     ]
    },
    {
     "name": "stderr",
     "output_type": "stream",
     "text": [
      "CV progress bar: 9it [4:29:37, 1813.78s/it]"
     ]
    },
    {
     "name": "stdout",
     "output_type": "stream",
     "text": [
      "runtime for LOO model:1663.3147764205933 seconds\n",
      "Score for all:0.2727272727272727\n",
      "Score for ind:0.2727272727272727\n",
      "Score for loo model:0.2689393939393939\n",
      "****************************************************************************************************************************************************************\n",
      "for all print:\n",
      "runtime for all model:52.59410262107849 seconds\n",
      "for ind print:\n",
      "print for target number: 0\n",
      "print for target number: 1\n",
      "runtime for ind model:111.14598751068115 seconds\n",
      "LOO print:\n"
     ]
    },
    {
     "name": "stderr",
     "output_type": "stream",
     "text": [
      "CV progress bar: 10it [4:58:41, 1792.12s/it]"
     ]
    },
    {
     "name": "stdout",
     "output_type": "stream",
     "text": [
      "runtime for LOO model:1580.3379695415497 seconds\n",
      "Score for all:0.3446969696969697\n",
      "Score for ind:0.3446969696969697\n",
      "Score for loo model:0.32575757575757575\n",
      "****************************************************************************************************************************************************************\n",
      "MSE for all model:   0.32229152426520846\n",
      "MSE for ind model:   0.31962576896787426\n",
      "MSE LOO model:       0.31323763955342904\n",
      "Total runtime: 298.6875813126564 minutes\n"
     ]
    },
    {
     "name": "stderr",
     "output_type": "stream",
     "text": [
      "\n"
     ]
    }
   ],
   "source": [
    "res_Kfold_all, res_Kfold_ind, res_Kfold_loo, res_Kfold_choose  = mse_comparison.mse_comparison(path=None,\n",
    "                                                                    df=final_df_classifiction, n_features=14,\n",
    "                                                                    max_depth=np.inf,\n",
    "                                                           min_samples_leaf=int(0.05*final_df_classifiction.shape[0]),\n",
    "                                                                    n_splits=10, model='gb', n_estimators=50,\n",
    "                                                                    regression=False,\n",
    "                                                                    random_state=0)"
   ]
  },
  {
   "cell_type": "code",
   "execution_count": 16,
   "id": "c003b2fd",
   "metadata": {},
   "outputs": [
    {
     "name": "stdout",
     "output_type": "stream",
     "text": [
      "Cell execution time: 2023-05-03 09:15:40.955472\n"
     ]
    },
    {
     "name": "stderr",
     "output_type": "stream",
     "text": [
      "CV progress bar: 0it [00:00, ?it/s]"
     ]
    },
    {
     "name": "stdout",
     "output_type": "stream",
     "text": [
      "for all print:\n",
      "runtime for all model:49.1641206741333 seconds\n",
      "for ind print:\n",
      "print for target number: 0\n",
      "print for target number: 1\n",
      "runtime for ind model:105.81240582466125 seconds\n",
      "LOO print:\n"
     ]
    },
    {
     "name": "stderr",
     "output_type": "stream",
     "text": [
      "CV progress bar: 1it [28:43, 1723.26s/it]"
     ]
    },
    {
     "name": "stdout",
     "output_type": "stream",
     "text": [
      "runtime for LOO model:1568.282131910324 seconds\n",
      "Score for all:0.32706766917293234\n",
      "Score for ind:0.33458646616541354\n",
      "Score for loo model:0.3007518796992481\n",
      "****************************************************************************************************************************************************************\n",
      "for all print:\n",
      "runtime for all model:49.75111484527588 seconds\n",
      "for ind print:\n",
      "print for target number: 0\n",
      "print for target number: 1\n",
      "runtime for ind model:105.30720043182373 seconds\n",
      "LOO print:\n"
     ]
    },
    {
     "name": "stderr",
     "output_type": "stream",
     "text": [
      "CV progress bar: 2it [57:51, 1738.12s/it]"
     ]
    },
    {
     "name": "stdout",
     "output_type": "stream",
     "text": [
      "runtime for LOO model:1593.454179763794 seconds\n",
      "Score for all:0.37218045112781956\n",
      "Score for ind:0.37593984962406013\n",
      "Score for loo model:0.33458646616541354\n",
      "****************************************************************************************************************************************************************\n",
      "for all print:\n",
      "runtime for all model:49.1803252696991 seconds\n",
      "for ind print:\n",
      "print for target number: 0\n",
      "print for target number: 1\n",
      "runtime for ind model:108.63077187538147 seconds\n",
      "LOO print:\n"
     ]
    },
    {
     "name": "stderr",
     "output_type": "stream",
     "text": [
      "CV progress bar: 3it [1:25:18, 1696.34s/it]"
     ]
    },
    {
     "name": "stdout",
     "output_type": "stream",
     "text": [
      "runtime for LOO model:1488.8009688854218 seconds\n",
      "Score for all:0.31203007518796994\n",
      "Score for ind:0.31203007518796994\n",
      "Score for loo model:0.3233082706766917\n",
      "****************************************************************************************************************************************************************\n",
      "for all print:\n",
      "runtime for all model:49.80447173118591 seconds\n",
      "for ind print:\n",
      "print for target number: 0\n",
      "print for target number: 1\n",
      "runtime for ind model:110.61234211921692 seconds\n",
      "LOO print:\n"
     ]
    },
    {
     "name": "stderr",
     "output_type": "stream",
     "text": [
      "CV progress bar: 4it [1:53:32, 1695.51s/it]"
     ]
    },
    {
     "name": "stdout",
     "output_type": "stream",
     "text": [
      "runtime for LOO model:1533.8167488574982 seconds\n",
      "Score for all:0.2706766917293233\n",
      "Score for ind:0.2857142857142857\n",
      "Score for loo model:0.2781954887218045\n",
      "****************************************************************************************************************************************************************\n",
      "for all print:\n",
      "runtime for all model:51.3837833404541 seconds\n",
      "for ind print:\n",
      "print for target number: 0\n",
      "print for target number: 1\n",
      "runtime for ind model:108.03426146507263 seconds\n",
      "LOO print:\n"
     ]
    },
    {
     "name": "stderr",
     "output_type": "stream",
     "text": [
      "CV progress bar: 5it [2:21:27, 1687.90s/it]"
     ]
    },
    {
     "name": "stdout",
     "output_type": "stream",
     "text": [
      "runtime for LOO model:1514.985538482666 seconds\n",
      "Score for all:0.2932330827067669\n",
      "Score for ind:0.2857142857142857\n",
      "Score for loo model:0.2894736842105263\n",
      "****************************************************************************************************************************************************************\n",
      "for all print:\n",
      "runtime for all model:48.4301540851593 seconds\n",
      "for ind print:\n",
      "print for target number: 0\n",
      "print for target number: 1\n",
      "runtime for ind model:106.79451942443848 seconds\n",
      "LOO print:\n"
     ]
    },
    {
     "name": "stderr",
     "output_type": "stream",
     "text": [
      "CV progress bar: 6it [2:50:17, 1702.38s/it]"
     ]
    },
    {
     "name": "stdout",
     "output_type": "stream",
     "text": [
      "runtime for LOO model:1575.2567069530487 seconds\n",
      "Score for all:0.3333333333333333\n",
      "Score for ind:0.30303030303030304\n",
      "Score for loo model:0.32575757575757575\n",
      "****************************************************************************************************************************************************************\n",
      "for all print:\n",
      "runtime for all model:49.4018337726593 seconds\n",
      "for ind print:\n",
      "print for target number: 0\n",
      "print for target number: 1\n",
      "runtime for ind model:106.65663933753967 seconds\n",
      "LOO print:\n"
     ]
    },
    {
     "name": "stderr",
     "output_type": "stream",
     "text": [
      "CV progress bar: 7it [3:19:10, 1712.40s/it]"
     ]
    },
    {
     "name": "stdout",
     "output_type": "stream",
     "text": [
      "runtime for LOO model:1576.9564046859741 seconds\n",
      "Score for all:0.3143939393939394\n",
      "Score for ind:0.29545454545454547\n",
      "Score for loo model:0.32575757575757575\n",
      "****************************************************************************************************************************************************************\n",
      "for all print:\n",
      "runtime for all model:49.4483380317688 seconds\n",
      "for ind print:\n",
      "print for target number: 0\n",
      "print for target number: 1\n",
      "runtime for ind model:104.9634358882904 seconds\n",
      "LOO print:\n"
     ]
    },
    {
     "name": "stderr",
     "output_type": "stream",
     "text": [
      "CV progress bar: 8it [3:48:00, 1718.05s/it]"
     ]
    },
    {
     "name": "stdout",
     "output_type": "stream",
     "text": [
      "runtime for LOO model:1575.7219092845917 seconds\n",
      "Score for all:0.38257575757575757\n",
      "Score for ind:0.38636363636363635\n",
      "Score for loo model:0.35984848484848486\n",
      "****************************************************************************************************************************************************************\n",
      "for all print:\n",
      "runtime for all model:50.757460594177246 seconds\n",
      "for ind print:\n",
      "print for target number: 0\n",
      "print for target number: 1\n",
      "runtime for ind model:108.12784814834595 seconds\n",
      "LOO print:\n"
     ]
    },
    {
     "name": "stderr",
     "output_type": "stream",
     "text": [
      "CV progress bar: 9it [4:17:17, 1730.27s/it]"
     ]
    },
    {
     "name": "stdout",
     "output_type": "stream",
     "text": [
      "runtime for LOO model:1598.2587015628815 seconds\n",
      "Score for all:0.2727272727272727\n",
      "Score for ind:0.2727272727272727\n",
      "Score for loo model:0.2689393939393939\n",
      "****************************************************************************************************************************************************************\n",
      "for all print:\n",
      "runtime for all model:49.4195499420166 seconds\n",
      "for ind print:\n",
      "print for target number: 0\n",
      "print for target number: 1\n",
      "runtime for ind model:106.77682995796204 seconds\n",
      "LOO print:\n"
     ]
    },
    {
     "name": "stderr",
     "output_type": "stream",
     "text": [
      "CV progress bar: 10it [4:45:07, 1710.75s/it]"
     ]
    },
    {
     "name": "stdout",
     "output_type": "stream",
     "text": [
      "runtime for LOO model:1513.479932308197 seconds\n",
      "Score for all:0.3446969696969697\n",
      "Score for ind:0.3446969696969697\n",
      "Score for loo model:0.32575757575757575\n",
      "****************************************************************************************************************************************************************\n",
      "MSE for all model:   0.32229152426520846\n",
      "MSE for ind model:   0.31962576896787426\n",
      "MSE LOO model:       0.31323763955342904\n",
      "Total runtime: 285.1257231235504 minutes\n"
     ]
    },
    {
     "name": "stderr",
     "output_type": "stream",
     "text": [
      "\n"
     ]
    }
   ],
   "source": [
    "res_Kfold_all, res_Kfold_ind, res_Kfold_loo, res_Kfold_choose  = mse_comparison.mse_comparison(path=None,\n",
    "                                                                    df=final_df_classifiction, n_features=14,\n",
    "                                                                    max_depth=np.inf,\n",
    "                                                           min_samples_leaf=int(0.05*final_df_classifiction.shape[0]),\n",
    "                                                                    n_splits=10, model='gb', n_estimators=50,\n",
    "                                                                    regression=False,\n",
    "                                                                    random_state=0)"
   ]
  },
  {
   "cell_type": "code",
   "execution_count": 17,
   "id": "7374ab89",
   "metadata": {},
   "outputs": [
    {
     "name": "stdout",
     "output_type": "stream",
     "text": [
      "for all stdev 0.037863202717161905\n",
      "for ind stdev 0.03929150973271142\n",
      "for loo stdev 0.02810874515516123\n"
     ]
    }
   ],
   "source": [
    "import statistics\n",
    "print(f'for all stdev {statistics.stdev(res_Kfold_all)}')\n",
    "print(f'for ind stdev {statistics.stdev(res_Kfold_ind)}')\n",
    "print(f'for loo stdev {statistics.stdev(res_Kfold_loo)}')"
   ]
  },
  {
   "cell_type": "code",
   "execution_count": null,
   "id": "28ee356b",
   "metadata": {},
   "outputs": [],
   "source": []
  }
 ],
 "metadata": {
  "kernelspec": {
   "display_name": "Python 3 (ipykernel)",
   "language": "python",
   "name": "python3"
  },
  "language_info": {
   "codemirror_mode": {
    "name": "ipython",
    "version": 3
   },
   "file_extension": ".py",
   "mimetype": "text/x-python",
   "name": "python",
   "nbconvert_exporter": "python",
   "pygments_lexer": "ipython3",
   "version": "3.9.7"
  }
 },
 "nbformat": 4,
 "nbformat_minor": 5
}
