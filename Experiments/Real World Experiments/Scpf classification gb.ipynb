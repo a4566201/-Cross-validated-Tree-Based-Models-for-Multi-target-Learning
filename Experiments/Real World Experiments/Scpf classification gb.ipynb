{
 "cells": [
  {
   "cell_type": "code",
   "execution_count": 1,
   "id": "e9714068",
   "metadata": {},
   "outputs": [],
   "source": [
    "import os "
   ]
  },
  {
   "cell_type": "code",
   "execution_count": 2,
   "id": "2c33b048",
   "metadata": {},
   "outputs": [],
   "source": [
    "os.chdir('/home/yehudan/Desktop/DecisionTree/DecisionTree')"
   ]
  },
  {
   "cell_type": "code",
   "execution_count": 1,
   "id": "94563be1",
   "metadata": {},
   "outputs": [],
   "source": [
    "import time\n",
    "from datasets import mse_comparison \n",
    "from scipy.io.arff import loadarff\n",
    "import pandas as pd\n",
    "import numpy as np"
   ]
  },
  {
   "cell_type": "code",
   "execution_count": 4,
   "id": "bd41cfdd",
   "metadata": {},
   "outputs": [
    {
     "data": {
      "text/plain": [
       "(1137, 26)"
      ]
     },
     "execution_count": 4,
     "metadata": {},
     "output_type": "execute_result"
    }
   ],
   "source": [
    "raw_data = loadarff('datasets/scpf.arff')\n",
    "df = pd.DataFrame(raw_data[0])\n",
    "df.shape"
   ]
  },
  {
   "cell_type": "code",
   "execution_count": 5,
   "id": "f084c116",
   "metadata": {},
   "outputs": [
    {
     "data": {
      "text/html": [
       "<div>\n",
       "<style scoped>\n",
       "    .dataframe tbody tr th:only-of-type {\n",
       "        vertical-align: middle;\n",
       "    }\n",
       "\n",
       "    .dataframe tbody tr th {\n",
       "        vertical-align: top;\n",
       "    }\n",
       "\n",
       "    .dataframe thead th {\n",
       "        text-align: right;\n",
       "    }\n",
       "</style>\n",
       "<table border=\"1\" class=\"dataframe\">\n",
       "  <thead>\n",
       "    <tr style=\"text-align: right;\">\n",
       "      <th></th>\n",
       "      <th>daysUntilLastIssue</th>\n",
       "      <th>source_city_initiated</th>\n",
       "      <th>source_android</th>\n",
       "      <th>source_remote_api_created</th>\n",
       "      <th>source_new_map_widget</th>\n",
       "      <th>source_iphone</th>\n",
       "      <th>tag_type_tree</th>\n",
       "      <th>tag_type_street_light</th>\n",
       "      <th>tag_type_graffiti</th>\n",
       "      <th>tag_type_pothole</th>\n",
       "      <th>...</th>\n",
       "      <th>latitude</th>\n",
       "      <th>longitude</th>\n",
       "      <th>city_Oakland</th>\n",
       "      <th>city_Chicago</th>\n",
       "      <th>city_NH</th>\n",
       "      <th>city_Richmond</th>\n",
       "      <th>distanceFromCenter</th>\n",
       "      <th>num_views</th>\n",
       "      <th>num_votes</th>\n",
       "      <th>num_comments</th>\n",
       "    </tr>\n",
       "  </thead>\n",
       "  <tbody>\n",
       "    <tr>\n",
       "      <th>count</th>\n",
       "      <td>1137.000000</td>\n",
       "      <td>874.000000</td>\n",
       "      <td>874.000000</td>\n",
       "      <td>874.000000</td>\n",
       "      <td>874.000000</td>\n",
       "      <td>874.00000</td>\n",
       "      <td>343.000000</td>\n",
       "      <td>343.00000</td>\n",
       "      <td>343.000000</td>\n",
       "      <td>343.000000</td>\n",
       "      <td>...</td>\n",
       "      <td>1137.000000</td>\n",
       "      <td>1137.000000</td>\n",
       "      <td>1137.000000</td>\n",
       "      <td>1137.000000</td>\n",
       "      <td>1137.000000</td>\n",
       "      <td>1137.000000</td>\n",
       "      <td>1137.000000</td>\n",
       "      <td>1137.000000</td>\n",
       "      <td>1137.000000</td>\n",
       "      <td>1137.000000</td>\n",
       "    </tr>\n",
       "    <tr>\n",
       "      <th>mean</th>\n",
       "      <td>349.966579</td>\n",
       "      <td>0.043478</td>\n",
       "      <td>0.025172</td>\n",
       "      <td>0.797483</td>\n",
       "      <td>0.046911</td>\n",
       "      <td>0.08238</td>\n",
       "      <td>0.186589</td>\n",
       "      <td>0.09621</td>\n",
       "      <td>0.049563</td>\n",
       "      <td>0.131195</td>\n",
       "      <td>...</td>\n",
       "      <td>40.330571</td>\n",
       "      <td>-88.028220</td>\n",
       "      <td>0.101143</td>\n",
       "      <td>0.607740</td>\n",
       "      <td>0.038698</td>\n",
       "      <td>0.252419</td>\n",
       "      <td>0.294861</td>\n",
       "      <td>12.656113</td>\n",
       "      <td>1.591029</td>\n",
       "      <td>0.104661</td>\n",
       "    </tr>\n",
       "    <tr>\n",
       "      <th>std</th>\n",
       "      <td>88.960590</td>\n",
       "      <td>0.204048</td>\n",
       "      <td>0.156736</td>\n",
       "      <td>0.402106</td>\n",
       "      <td>0.211569</td>\n",
       "      <td>0.27510</td>\n",
       "      <td>0.390150</td>\n",
       "      <td>0.29531</td>\n",
       "      <td>0.217357</td>\n",
       "      <td>0.338107</td>\n",
       "      <td>...</td>\n",
       "      <td>2.015765</td>\n",
       "      <td>12.476467</td>\n",
       "      <td>0.301651</td>\n",
       "      <td>0.488469</td>\n",
       "      <td>0.192960</td>\n",
       "      <td>0.434591</td>\n",
       "      <td>0.192724</td>\n",
       "      <td>37.764403</td>\n",
       "      <td>1.218558</td>\n",
       "      <td>0.787527</td>\n",
       "    </tr>\n",
       "    <tr>\n",
       "      <th>min</th>\n",
       "      <td>259.000000</td>\n",
       "      <td>0.000000</td>\n",
       "      <td>0.000000</td>\n",
       "      <td>0.000000</td>\n",
       "      <td>0.000000</td>\n",
       "      <td>0.00000</td>\n",
       "      <td>0.000000</td>\n",
       "      <td>0.00000</td>\n",
       "      <td>0.000000</td>\n",
       "      <td>0.000000</td>\n",
       "      <td>...</td>\n",
       "      <td>37.462115</td>\n",
       "      <td>-122.301062</td>\n",
       "      <td>0.000000</td>\n",
       "      <td>0.000000</td>\n",
       "      <td>0.000000</td>\n",
       "      <td>0.000000</td>\n",
       "      <td>0.003926</td>\n",
       "      <td>0.000000</td>\n",
       "      <td>1.000000</td>\n",
       "      <td>0.000000</td>\n",
       "    </tr>\n",
       "    <tr>\n",
       "      <th>25%</th>\n",
       "      <td>287.000000</td>\n",
       "      <td>0.000000</td>\n",
       "      <td>0.000000</td>\n",
       "      <td>1.000000</td>\n",
       "      <td>0.000000</td>\n",
       "      <td>0.00000</td>\n",
       "      <td>0.000000</td>\n",
       "      <td>0.00000</td>\n",
       "      <td>0.000000</td>\n",
       "      <td>0.000000</td>\n",
       "      <td>...</td>\n",
       "      <td>37.594639</td>\n",
       "      <td>-87.719467</td>\n",
       "      <td>0.000000</td>\n",
       "      <td>0.000000</td>\n",
       "      <td>0.000000</td>\n",
       "      <td>0.000000</td>\n",
       "      <td>0.133089</td>\n",
       "      <td>0.000000</td>\n",
       "      <td>1.000000</td>\n",
       "      <td>0.000000</td>\n",
       "    </tr>\n",
       "    <tr>\n",
       "      <th>50%</th>\n",
       "      <td>314.000000</td>\n",
       "      <td>0.000000</td>\n",
       "      <td>0.000000</td>\n",
       "      <td>1.000000</td>\n",
       "      <td>0.000000</td>\n",
       "      <td>0.00000</td>\n",
       "      <td>0.000000</td>\n",
       "      <td>0.00000</td>\n",
       "      <td>0.000000</td>\n",
       "      <td>0.000000</td>\n",
       "      <td>...</td>\n",
       "      <td>41.748126</td>\n",
       "      <td>-87.668350</td>\n",
       "      <td>0.000000</td>\n",
       "      <td>1.000000</td>\n",
       "      <td>0.000000</td>\n",
       "      <td>0.000000</td>\n",
       "      <td>0.273061</td>\n",
       "      <td>1.000000</td>\n",
       "      <td>1.000000</td>\n",
       "      <td>0.000000</td>\n",
       "    </tr>\n",
       "    <tr>\n",
       "      <th>75%</th>\n",
       "      <td>390.000000</td>\n",
       "      <td>0.000000</td>\n",
       "      <td>0.000000</td>\n",
       "      <td>1.000000</td>\n",
       "      <td>0.000000</td>\n",
       "      <td>0.00000</td>\n",
       "      <td>0.000000</td>\n",
       "      <td>0.00000</td>\n",
       "      <td>0.000000</td>\n",
       "      <td>0.000000</td>\n",
       "      <td>...</td>\n",
       "      <td>41.894196</td>\n",
       "      <td>-77.501002</td>\n",
       "      <td>0.000000</td>\n",
       "      <td>1.000000</td>\n",
       "      <td>0.000000</td>\n",
       "      <td>1.000000</td>\n",
       "      <td>0.413951</td>\n",
       "      <td>13.000000</td>\n",
       "      <td>2.000000</td>\n",
       "      <td>0.000000</td>\n",
       "    </tr>\n",
       "    <tr>\n",
       "      <th>max</th>\n",
       "      <td>623.000000</td>\n",
       "      <td>1.000000</td>\n",
       "      <td>1.000000</td>\n",
       "      <td>1.000000</td>\n",
       "      <td>1.000000</td>\n",
       "      <td>1.00000</td>\n",
       "      <td>1.000000</td>\n",
       "      <td>1.00000</td>\n",
       "      <td>1.000000</td>\n",
       "      <td>1.000000</td>\n",
       "      <td>...</td>\n",
       "      <td>42.020392</td>\n",
       "      <td>-72.866249</td>\n",
       "      <td>1.000000</td>\n",
       "      <td>1.000000</td>\n",
       "      <td>1.000000</td>\n",
       "      <td>1.000000</td>\n",
       "      <td>0.870937</td>\n",
       "      <td>938.000000</td>\n",
       "      <td>22.000000</td>\n",
       "      <td>20.000000</td>\n",
       "    </tr>\n",
       "  </tbody>\n",
       "</table>\n",
       "<p>8 rows × 26 columns</p>\n",
       "</div>"
      ],
      "text/plain": [
       "       daysUntilLastIssue  source_city_initiated  source_android  \\\n",
       "count         1137.000000             874.000000      874.000000   \n",
       "mean           349.966579               0.043478        0.025172   \n",
       "std             88.960590               0.204048        0.156736   \n",
       "min            259.000000               0.000000        0.000000   \n",
       "25%            287.000000               0.000000        0.000000   \n",
       "50%            314.000000               0.000000        0.000000   \n",
       "75%            390.000000               0.000000        0.000000   \n",
       "max            623.000000               1.000000        1.000000   \n",
       "\n",
       "       source_remote_api_created  source_new_map_widget  source_iphone  \\\n",
       "count                 874.000000             874.000000      874.00000   \n",
       "mean                    0.797483               0.046911        0.08238   \n",
       "std                     0.402106               0.211569        0.27510   \n",
       "min                     0.000000               0.000000        0.00000   \n",
       "25%                     1.000000               0.000000        0.00000   \n",
       "50%                     1.000000               0.000000        0.00000   \n",
       "75%                     1.000000               0.000000        0.00000   \n",
       "max                     1.000000               1.000000        1.00000   \n",
       "\n",
       "       tag_type_tree  tag_type_street_light  tag_type_graffiti  \\\n",
       "count     343.000000              343.00000         343.000000   \n",
       "mean        0.186589                0.09621           0.049563   \n",
       "std         0.390150                0.29531           0.217357   \n",
       "min         0.000000                0.00000           0.000000   \n",
       "25%         0.000000                0.00000           0.000000   \n",
       "50%         0.000000                0.00000           0.000000   \n",
       "75%         0.000000                0.00000           0.000000   \n",
       "max         1.000000                1.00000           1.000000   \n",
       "\n",
       "       tag_type_pothole  ...     latitude    longitude  city_Oakland  \\\n",
       "count        343.000000  ...  1137.000000  1137.000000   1137.000000   \n",
       "mean           0.131195  ...    40.330571   -88.028220      0.101143   \n",
       "std            0.338107  ...     2.015765    12.476467      0.301651   \n",
       "min            0.000000  ...    37.462115  -122.301062      0.000000   \n",
       "25%            0.000000  ...    37.594639   -87.719467      0.000000   \n",
       "50%            0.000000  ...    41.748126   -87.668350      0.000000   \n",
       "75%            0.000000  ...    41.894196   -77.501002      0.000000   \n",
       "max            1.000000  ...    42.020392   -72.866249      1.000000   \n",
       "\n",
       "       city_Chicago      city_NH  city_Richmond  distanceFromCenter  \\\n",
       "count   1137.000000  1137.000000    1137.000000         1137.000000   \n",
       "mean       0.607740     0.038698       0.252419            0.294861   \n",
       "std        0.488469     0.192960       0.434591            0.192724   \n",
       "min        0.000000     0.000000       0.000000            0.003926   \n",
       "25%        0.000000     0.000000       0.000000            0.133089   \n",
       "50%        1.000000     0.000000       0.000000            0.273061   \n",
       "75%        1.000000     0.000000       1.000000            0.413951   \n",
       "max        1.000000     1.000000       1.000000            0.870937   \n",
       "\n",
       "         num_views    num_votes  num_comments  \n",
       "count  1137.000000  1137.000000   1137.000000  \n",
       "mean     12.656113     1.591029      0.104661  \n",
       "std      37.764403     1.218558      0.787527  \n",
       "min       0.000000     1.000000      0.000000  \n",
       "25%       0.000000     1.000000      0.000000  \n",
       "50%       1.000000     1.000000      0.000000  \n",
       "75%      13.000000     2.000000      0.000000  \n",
       "max     938.000000    22.000000     20.000000  \n",
       "\n",
       "[8 rows x 26 columns]"
      ]
     },
     "execution_count": 5,
     "metadata": {},
     "output_type": "execute_result"
    }
   ],
   "source": [
    "df.describe()"
   ]
  },
  {
   "cell_type": "code",
   "execution_count": 6,
   "id": "a6fa46de",
   "metadata": {},
   "outputs": [
    {
     "data": {
      "text/html": [
       "<div>\n",
       "<style scoped>\n",
       "    .dataframe tbody tr th:only-of-type {\n",
       "        vertical-align: middle;\n",
       "    }\n",
       "\n",
       "    .dataframe tbody tr th {\n",
       "        vertical-align: top;\n",
       "    }\n",
       "\n",
       "    .dataframe thead th {\n",
       "        text-align: right;\n",
       "    }\n",
       "</style>\n",
       "<table border=\"1\" class=\"dataframe\">\n",
       "  <thead>\n",
       "    <tr style=\"text-align: right;\">\n",
       "      <th></th>\n",
       "      <th>num_views</th>\n",
       "      <th>num_votes</th>\n",
       "      <th>num_comments</th>\n",
       "    </tr>\n",
       "  </thead>\n",
       "  <tbody>\n",
       "    <tr>\n",
       "      <th>num_views</th>\n",
       "      <td>1.000000</td>\n",
       "      <td>0.736354</td>\n",
       "      <td>0.757549</td>\n",
       "    </tr>\n",
       "    <tr>\n",
       "      <th>num_votes</th>\n",
       "      <td>0.736354</td>\n",
       "      <td>1.000000</td>\n",
       "      <td>0.709683</td>\n",
       "    </tr>\n",
       "    <tr>\n",
       "      <th>num_comments</th>\n",
       "      <td>0.757549</td>\n",
       "      <td>0.709683</td>\n",
       "      <td>1.000000</td>\n",
       "    </tr>\n",
       "  </tbody>\n",
       "</table>\n",
       "</div>"
      ],
      "text/plain": [
       "              num_views  num_votes  num_comments\n",
       "num_views      1.000000   0.736354      0.757549\n",
       "num_votes      0.736354   1.000000      0.709683\n",
       "num_comments   0.757549   0.709683      1.000000"
      ]
     },
     "execution_count": 6,
     "metadata": {},
     "output_type": "execute_result"
    }
   ],
   "source": [
    "df.corr().iloc[-3:,-3:]"
   ]
  },
  {
   "cell_type": "code",
   "execution_count": 7,
   "id": "b7118d43",
   "metadata": {},
   "outputs": [],
   "source": [
    "def preprocessing(df):\n",
    "    df['num_views'] = df['num_views'].apply(lambda x: 0 if x<=1 else 1)\n",
    "    df['num_votes'] = df['num_votes'].apply(lambda x: 0 if x<=1 else 1)\n",
    "    df['num_comments'] = df['num_comments'].apply(lambda x: 0 if x<=0 else 1)\n",
    "    return df"
   ]
  },
  {
   "cell_type": "code",
   "execution_count": 8,
   "id": "26304500",
   "metadata": {},
   "outputs": [],
   "source": [
    "df_classification = preprocessing(df)"
   ]
  },
  {
   "cell_type": "code",
   "execution_count": 9,
   "id": "610c5f19",
   "metadata": {},
   "outputs": [],
   "source": [
    "# df_classification.head(2)"
   ]
  },
  {
   "cell_type": "code",
   "execution_count": 10,
   "id": "80494aed",
   "metadata": {},
   "outputs": [
    {
     "name": "stdout",
     "output_type": "stream",
     "text": [
      "0    0.524186\n",
      "1    0.475814\n",
      "Name: num_views, dtype: float64\n",
      "0    0.637643\n",
      "1    0.362357\n",
      "Name: num_votes, dtype: float64\n",
      "0    0.948109\n",
      "1    0.051891\n",
      "Name: num_comments, dtype: float64\n"
     ]
    }
   ],
   "source": [
    "for tar in ['num_views','num_votes','num_comments']:\n",
    "    print(df_classification[tar].value_counts(normalize=True))"
   ]
  },
  {
   "cell_type": "code",
   "execution_count": 11,
   "id": "9847cbfb",
   "metadata": {},
   "outputs": [],
   "source": [
    "df_classification_new  = df.fillna(df_classification.mode(axis=0).iloc[0])"
   ]
  },
  {
   "cell_type": "code",
   "execution_count": 12,
   "id": "3b343531",
   "metadata": {},
   "outputs": [
    {
     "data": {
      "text/plain": [
       "0"
      ]
     },
     "execution_count": 12,
     "metadata": {},
     "output_type": "execute_result"
    }
   ],
   "source": [
    "df_classification_new.isnull().sum().sum()"
   ]
  },
  {
   "cell_type": "markdown",
   "id": "f0f910f6",
   "metadata": {},
   "source": [
    "#  !!!!"
   ]
  },
  {
   "cell_type": "code",
   "execution_count": 13,
   "id": "421045b9",
   "metadata": {
    "scrolled": true
   },
   "outputs": [
    {
     "name": "stdout",
     "output_type": "stream",
     "text": [
      "Cell execution time: 2023-04-02 20:36:37.512282\n",
      "cc\n"
     ]
    },
    {
     "name": "stderr",
     "output_type": "stream",
     "text": [
      "CV progress bar: 0it [00:00, ?it/s]"
     ]
    },
    {
     "name": "stdout",
     "output_type": "stream",
     "text": [
      "for all print:\n",
      "runtime for all model:53.07202124595642 seconds\n",
      "for ind print:\n",
      "print for target number: 0\n",
      "print for target number: 1\n",
      "print for target number: 2\n",
      "runtime for ind model:183.1201629638672 seconds\n",
      "LOO print:\n"
     ]
    },
    {
     "name": "stderr",
     "output_type": "stream",
     "text": [
      "CV progress bar: 1it [40:53, 2453.31s/it]"
     ]
    },
    {
     "name": "stdout",
     "output_type": "stream",
     "text": [
      "runtime for LOO model:2217.108489751816 seconds\n",
      "Score for all:0.08771929824561403\n",
      "Score for ind:0.09064327485380116\n",
      "Score for loo model:0.08771929824561403\n",
      "****************************************************************************************************************************************************************\n",
      "for all print:\n",
      "runtime for all model:51.249568700790405 seconds\n",
      "for ind print:\n",
      "print for target number: 0\n",
      "print for target number: 1\n",
      "print for target number: 2\n",
      "runtime for ind model:183.68133759498596 seconds\n",
      "LOO print:\n"
     ]
    },
    {
     "name": "stderr",
     "output_type": "stream",
     "text": [
      "CV progress bar: 2it [1:21:05, 2428.93s/it]"
     ]
    },
    {
     "name": "stdout",
     "output_type": "stream",
     "text": [
      "runtime for LOO model:2176.932564973831 seconds\n",
      "Score for all:0.08771929824561403\n",
      "Score for ind:0.08187134502923976\n",
      "Score for loo model:0.0847953216374269\n",
      "****************************************************************************************************************************************************************\n",
      "for all print:\n",
      "runtime for all model:52.94674015045166 seconds\n",
      "for ind print:\n",
      "print for target number: 0\n",
      "print for target number: 1\n",
      "print for target number: 2\n",
      "runtime for ind model:186.63186287879944 seconds\n",
      "LOO print:\n"
     ]
    },
    {
     "name": "stderr",
     "output_type": "stream",
     "text": [
      "CV progress bar: 3it [2:01:45, 2434.11s/it]"
     ]
    },
    {
     "name": "stdout",
     "output_type": "stream",
     "text": [
      "runtime for LOO model:2200.6788079738617 seconds\n",
      "Score for all:0.07602339181286549\n",
      "Score for ind:0.07894736842105263\n",
      "Score for loo model:0.0847953216374269\n",
      "****************************************************************************************************************************************************************\n",
      "for all print:\n",
      "runtime for all model:54.45668053627014 seconds\n",
      "for ind print:\n",
      "print for target number: 0\n",
      "print for target number: 1\n",
      "print for target number: 2\n",
      "runtime for ind model:187.07687330245972 seconds\n",
      "LOO print:\n"
     ]
    },
    {
     "name": "stderr",
     "output_type": "stream",
     "text": [
      "CV progress bar: 4it [2:41:50, 2422.55s/it]"
     ]
    },
    {
     "name": "stdout",
     "output_type": "stream",
     "text": [
      "runtime for LOO model:2163.2998588085175 seconds\n",
      "Score for all:0.05555555555555555\n",
      "Score for ind:0.06432748538011696\n",
      "Score for loo model:0.05555555555555555\n",
      "****************************************************************************************************************************************************************\n",
      "for all print:\n",
      "runtime for all model:51.81011462211609 seconds\n",
      "for ind print:\n",
      "print for target number: 0\n",
      "print for target number: 1\n",
      "print for target number: 2\n",
      "runtime for ind model:186.28147625923157 seconds\n",
      "LOO print:\n"
     ]
    },
    {
     "name": "stderr",
     "output_type": "stream",
     "text": [
      "CV progress bar: 5it [3:21:53, 2415.50s/it]"
     ]
    },
    {
     "name": "stdout",
     "output_type": "stream",
     "text": [
      "runtime for LOO model:2164.9009125232697 seconds\n",
      "Score for all:0.06140350877192982\n",
      "Score for ind:0.07017543859649122\n",
      "Score for loo model:0.06432748538011696\n",
      "****************************************************************************************************************************************************************\n",
      "for all print:\n",
      "runtime for all model:52.27413725852966 seconds\n",
      "for ind print:\n",
      "print for target number: 0\n",
      "print for target number: 1\n",
      "print for target number: 2\n",
      "runtime for ind model:184.69524240493774 seconds\n",
      "LOO print:\n"
     ]
    },
    {
     "name": "stderr",
     "output_type": "stream",
     "text": [
      "CV progress bar: 6it [4:03:04, 2434.53s/it]"
     ]
    },
    {
     "name": "stdout",
     "output_type": "stream",
     "text": [
      "runtime for LOO model:2234.502741575241 seconds\n",
      "Score for all:0.0935672514619883\n",
      "Score for ind:0.09649122807017543\n",
      "Score for loo model:0.09649122807017543\n",
      "****************************************************************************************************************************************************************\n",
      "for all print:\n",
      "runtime for all model:52.196165561676025 seconds\n",
      "for ind print:\n",
      "print for target number: 0\n",
      "print for target number: 1\n",
      "print for target number: 2\n",
      "runtime for ind model:186.76001477241516 seconds\n",
      "LOO print:\n"
     ]
    },
    {
     "name": "stderr",
     "output_type": "stream",
     "text": [
      "CV progress bar: 7it [4:43:57, 2440.34s/it]"
     ]
    },
    {
     "name": "stdout",
     "output_type": "stream",
     "text": [
      "runtime for LOO model:2213.325535774231 seconds\n",
      "Score for all:0.0847953216374269\n",
      "Score for ind:0.09649122807017543\n",
      "Score for loo model:0.0847953216374269\n",
      "****************************************************************************************************************************************************************\n",
      "for all print:\n",
      "runtime for all model:52.26056933403015 seconds\n",
      "for ind print:\n",
      "print for target number: 0\n",
      "print for target number: 1\n",
      "print for target number: 2\n",
      "runtime for ind model:184.64192581176758 seconds\n",
      "LOO print:\n"
     ]
    },
    {
     "name": "stderr",
     "output_type": "stream",
     "text": [
      "CV progress bar: 8it [5:25:37, 2459.41s/it]"
     ]
    },
    {
     "name": "stdout",
     "output_type": "stream",
     "text": [
      "runtime for LOO model:2263.342918395996 seconds\n",
      "Score for all:0.10619469026548672\n",
      "Score for ind:0.10914454277286136\n",
      "Score for loo model:0.10619469026548672\n",
      "****************************************************************************************************************************************************************\n",
      "for all print:\n",
      "runtime for all model:50.735074520111084 seconds\n",
      "for ind print:\n",
      "print for target number: 0\n",
      "print for target number: 1\n",
      "print for target number: 2\n",
      "runtime for ind model:180.08021330833435 seconds\n",
      "LOO print:\n"
     ]
    },
    {
     "name": "stderr",
     "output_type": "stream",
     "text": [
      "CV progress bar: 9it [6:05:38, 2441.32s/it]"
     ]
    },
    {
     "name": "stdout",
     "output_type": "stream",
     "text": [
      "runtime for LOO model:2170.712341070175 seconds\n",
      "Score for all:0.058997050147492625\n",
      "Score for ind:0.06784660766961652\n",
      "Score for loo model:0.05604719764011799\n",
      "****************************************************************************************************************************************************************\n",
      "for all print:\n",
      "runtime for all model:52.6491641998291 seconds\n",
      "for ind print:\n",
      "print for target number: 0\n",
      "print for target number: 1\n",
      "print for target number: 2\n",
      "runtime for ind model:186.2021803855896 seconds\n",
      "LOO print:\n"
     ]
    },
    {
     "name": "stderr",
     "output_type": "stream",
     "text": [
      "CV progress bar: 10it [6:46:08, 2436.87s/it]"
     ]
    },
    {
     "name": "stdout",
     "output_type": "stream",
     "text": [
      "runtime for LOO model:2191.0099608898163 seconds\n",
      "Score for all:0.05604719764011799\n",
      "Score for ind:0.058997050147492625\n",
      "Score for loo model:0.05309734513274336\n",
      "****************************************************************************************************************************************************************\n",
      "MSE for all model:   0.07680225637840914\n",
      "MSE for ind model:   0.08149355690110231\n",
      "MSE LOO model:       0.07738187652020909\n",
      "Total runtime: 406.14506956736244 minutes\n",
      "Total runtime: 406.14507620334626 minutes\n"
     ]
    },
    {
     "name": "stderr",
     "output_type": "stream",
     "text": [
      "\n"
     ]
    }
   ],
   "source": [
    "start = time.time()\n",
    "mse_all, mse_ind, mse_loo, mse_choose = mse_comparison.mse_comparison(path=None,df=df_classification_new, n_features=23,\n",
    "                                                max_depth=np.inf,\n",
    "                              min_samples_leaf=int(0.05*df_classification_new.shape[0]),\n",
    "                               n_splits=10,model='gb',n_estimators=50,regression=False,\n",
    "                                  random_state=3)\n",
    "print(f'Total runtime: {(time.time()-start)/60} minutes')"
   ]
  },
  {
   "cell_type": "code",
   "execution_count": 14,
   "id": "454b6f3d",
   "metadata": {},
   "outputs": [
    {
     "name": "stdout",
     "output_type": "stream",
     "text": [
      "for all stdev 0.017901524188133407\n",
      "for ind stdev 0.016397446589141947\n",
      "for loo stdev 0.018734394242032607\n"
     ]
    }
   ],
   "source": [
    "import statistics\n",
    "print(f'for all stdev {statistics.stdev(mse_all)}')\n",
    "print(f'for ind stdev {statistics.stdev(mse_ind)}')\n",
    "print(f'for loo stdev {statistics.stdev(mse_loo)}')"
   ]
  },
  {
   "cell_type": "code",
   "execution_count": 15,
   "id": "633798c5",
   "metadata": {},
   "outputs": [
    {
     "name": "stdout",
     "output_type": "stream",
     "text": [
      "Cell execution time: 2023-04-03 03:22:46.230271\n",
      "cc\n"
     ]
    },
    {
     "name": "stderr",
     "output_type": "stream",
     "text": [
      "CV progress bar: 0it [00:00, ?it/s]"
     ]
    },
    {
     "name": "stdout",
     "output_type": "stream",
     "text": [
      "starting choose one model\n"
     ]
    },
    {
     "name": "stderr",
     "output_type": "stream",
     "text": [
      "\n",
      "Choose one progress bar: 0it [00:00, ?it/s]\u001b[A"
     ]
    },
    {
     "name": "stdout",
     "output_type": "stream",
     "text": [
      "Starting all\n",
      "runtime for all model:42.31754541397095 seconds\n",
      "Finish all\n",
      "Starting ind\n"
     ]
    },
    {
     "name": "stderr",
     "output_type": "stream",
     "text": [
      "\n",
      "Choose one progress bar: 1it [03:12, 192.65s/it]\u001b[A"
     ]
    },
    {
     "name": "stdout",
     "output_type": "stream",
     "text": [
      "runtime for ind model:150.33456444740295 seconds\n",
      "Finish ind\n",
      "Starting all\n",
      "runtime for all model:43.82452630996704 seconds\n",
      "Finish all\n",
      "Starting ind\n"
     ]
    },
    {
     "name": "stderr",
     "output_type": "stream",
     "text": [
      "\n",
      "Choose one progress bar: 2it [06:29, 195.29s/it]\u001b[A"
     ]
    },
    {
     "name": "stdout",
     "output_type": "stream",
     "text": [
      "runtime for ind model:153.29576468467712 seconds\n",
      "Finish ind\n",
      "Starting all\n",
      "runtime for all model:42.8954393863678 seconds\n",
      "Finish all\n",
      "Starting ind\n"
     ]
    },
    {
     "name": "stderr",
     "output_type": "stream",
     "text": [
      "\n",
      "Choose one progress bar: 3it [09:45, 195.61s/it]\u001b[A"
     ]
    },
    {
     "name": "stdout",
     "output_type": "stream",
     "text": [
      "runtime for ind model:153.10313892364502 seconds\n",
      "Finish ind\n",
      "Starting all\n",
      "runtime for all model:43.403940200805664 seconds\n",
      "Finish all\n",
      "Starting ind\n"
     ]
    },
    {
     "name": "stderr",
     "output_type": "stream",
     "text": [
      "\n",
      "Choose one progress bar: 4it [13:01, 195.79s/it]\u001b[A"
     ]
    },
    {
     "name": "stdout",
     "output_type": "stream",
     "text": [
      "runtime for ind model:152.65915274620056 seconds\n",
      "Finish ind\n",
      "Starting all\n",
      "runtime for all model:43.443719148635864 seconds\n",
      "Finish all\n",
      "Starting ind\n"
     ]
    },
    {
     "name": "stderr",
     "output_type": "stream",
     "text": [
      "\n",
      "Choose one progress bar: 5it [16:20, 196.65s/it]\u001b[A"
     ]
    },
    {
     "name": "stdout",
     "output_type": "stream",
     "text": [
      "runtime for ind model:154.7125096321106 seconds\n",
      "Finish ind\n",
      "Starting all\n",
      "runtime for all model:42.10772132873535 seconds\n",
      "Finish all\n",
      "Starting ind\n"
     ]
    },
    {
     "name": "stderr",
     "output_type": "stream",
     "text": [
      "\n",
      "Choose one progress bar: 6it [19:37, 196.97s/it]\u001b[A"
     ]
    },
    {
     "name": "stdout",
     "output_type": "stream",
     "text": [
      "runtime for ind model:155.4751217365265 seconds\n",
      "Finish ind\n",
      "Starting all\n",
      "runtime for all model:44.746737480163574 seconds\n",
      "Finish all\n",
      "Starting ind\n"
     ]
    },
    {
     "name": "stderr",
     "output_type": "stream",
     "text": [
      "\n",
      "Choose one progress bar: 7it [22:59, 198.59s/it]\u001b[A"
     ]
    },
    {
     "name": "stdout",
     "output_type": "stream",
     "text": [
      "runtime for ind model:157.18762803077698 seconds\n",
      "Finish ind\n",
      "Starting all\n",
      "runtime for all model:45.00430202484131 seconds\n",
      "Finish all\n",
      "Starting ind\n"
     ]
    },
    {
     "name": "stderr",
     "output_type": "stream",
     "text": [
      "\n",
      "Choose one progress bar: 8it [26:21, 199.65s/it]\u001b[A"
     ]
    },
    {
     "name": "stdout",
     "output_type": "stream",
     "text": [
      "runtime for ind model:156.9028160572052 seconds\n",
      "Finish ind\n",
      "Starting all\n",
      "runtime for all model:44.22893238067627 seconds\n",
      "Finish all\n",
      "Starting ind\n"
     ]
    },
    {
     "name": "stderr",
     "output_type": "stream",
     "text": [
      "\n",
      "Choose one progress bar: 9it [29:39, 199.11s/it]\u001b[A"
     ]
    },
    {
     "name": "stdout",
     "output_type": "stream",
     "text": [
      "runtime for ind model:153.6899220943451 seconds\n",
      "Finish ind\n",
      "Starting all\n",
      "runtime for all model:42.65081024169922 seconds\n",
      "Finish all\n",
      "Starting ind\n"
     ]
    },
    {
     "name": "stderr",
     "output_type": "stream",
     "text": [
      "\n",
      "Choose one progress bar: 10it [32:55, 197.60s/it]\u001b[A"
     ]
    },
    {
     "name": "stdout",
     "output_type": "stream",
     "text": [
      "runtime for ind model:153.94893884658813 seconds\n",
      "Finish ind\n",
      "MSE all: 0.7785392474141761\n",
      "MSE ind: 0\n",
      "for ind was chosen\n"
     ]
    },
    {
     "name": "stderr",
     "output_type": "stream",
     "text": [
      "\n",
      "CV progress bar: 1it [35:58, 2158.62s/it]"
     ]
    },
    {
     "name": "stdout",
     "output_type": "stream",
     "text": [
      "runtime for ind model:182.61873722076416 seconds\n",
      "runtime for choose one model:2158.6156952381134 seconds\n",
      "starting choose one model\n"
     ]
    },
    {
     "name": "stderr",
     "output_type": "stream",
     "text": [
      "\n",
      "Choose one progress bar: 0it [00:00, ?it/s]\u001b[A"
     ]
    },
    {
     "name": "stdout",
     "output_type": "stream",
     "text": [
      "Starting all\n",
      "runtime for all model:42.20306372642517 seconds\n",
      "Finish all\n",
      "Starting ind\n"
     ]
    },
    {
     "name": "stderr",
     "output_type": "stream",
     "text": [
      "\n",
      "Choose one progress bar: 1it [03:14, 194.79s/it]\u001b[A"
     ]
    },
    {
     "name": "stdout",
     "output_type": "stream",
     "text": [
      "runtime for ind model:152.58633303642273 seconds\n",
      "Finish ind\n",
      "Starting all\n",
      "runtime for all model:43.76103162765503 seconds\n",
      "Finish all\n",
      "Starting ind\n"
     ]
    },
    {
     "name": "stderr",
     "output_type": "stream",
     "text": [
      "\n",
      "Choose one progress bar: 2it [06:29, 194.82s/it]\u001b[A"
     ]
    },
    {
     "name": "stdout",
     "output_type": "stream",
     "text": [
      "runtime for ind model:151.08248472213745 seconds\n",
      "Finish ind\n",
      "Starting all\n",
      "runtime for all model:42.640127658843994 seconds\n",
      "Finish all\n",
      "Starting ind\n"
     ]
    },
    {
     "name": "stderr",
     "output_type": "stream",
     "text": [
      "\n",
      "Choose one progress bar: 3it [09:42, 194.13s/it]\u001b[A"
     ]
    },
    {
     "name": "stdout",
     "output_type": "stream",
     "text": [
      "runtime for ind model:150.64581298828125 seconds\n",
      "Finish ind\n",
      "Starting all\n",
      "runtime for all model:42.66935753822327 seconds\n",
      "Finish all\n",
      "Starting ind\n"
     ]
    },
    {
     "name": "stderr",
     "output_type": "stream",
     "text": [
      "\n",
      "Choose one progress bar: 4it [12:55, 193.55s/it]\u001b[A"
     ]
    },
    {
     "name": "stdout",
     "output_type": "stream",
     "text": [
      "runtime for ind model:149.98939514160156 seconds\n",
      "Finish ind\n",
      "Starting all\n",
      "runtime for all model:42.87188005447388 seconds\n",
      "Finish all\n",
      "Starting ind\n"
     ]
    },
    {
     "name": "stderr",
     "output_type": "stream",
     "text": [
      "\n",
      "Choose one progress bar: 5it [16:11, 194.32s/it]\u001b[A"
     ]
    },
    {
     "name": "stdout",
     "output_type": "stream",
     "text": [
      "runtime for ind model:152.8109872341156 seconds\n",
      "Finish ind\n",
      "Starting all\n",
      "runtime for all model:44.398404598236084 seconds\n",
      "Finish all\n",
      "Starting ind\n"
     ]
    },
    {
     "name": "stderr",
     "output_type": "stream",
     "text": [
      "\n",
      "Choose one progress bar: 6it [19:32, 196.66s/it]\u001b[A"
     ]
    },
    {
     "name": "stdout",
     "output_type": "stream",
     "text": [
      "runtime for ind model:156.79598355293274 seconds\n",
      "Finish ind\n",
      "Starting all\n",
      "runtime for all model:43.9622688293457 seconds\n",
      "Finish all\n",
      "Starting ind\n"
     ]
    },
    {
     "name": "stderr",
     "output_type": "stream",
     "text": [
      "\n",
      "Choose one progress bar: 7it [22:51, 197.33s/it]\u001b[A"
     ]
    },
    {
     "name": "stdout",
     "output_type": "stream",
     "text": [
      "runtime for ind model:154.75459742546082 seconds\n",
      "Finish ind\n",
      "Starting all\n",
      "runtime for all model:42.50387930870056 seconds\n",
      "Finish all\n",
      "Starting ind\n"
     ]
    },
    {
     "name": "stderr",
     "output_type": "stream",
     "text": [
      "\n",
      "Choose one progress bar: 8it [26:04, 196.14s/it]\u001b[A"
     ]
    },
    {
     "name": "stdout",
     "output_type": "stream",
     "text": [
      "runtime for ind model:151.06161308288574 seconds\n",
      "Finish ind\n",
      "Starting all\n",
      "runtime for all model:44.274266958236694 seconds\n",
      "Finish all\n",
      "Starting ind\n"
     ]
    },
    {
     "name": "stderr",
     "output_type": "stream",
     "text": [
      "\n",
      "Choose one progress bar: 9it [29:22, 196.54s/it]\u001b[A"
     ]
    },
    {
     "name": "stdout",
     "output_type": "stream",
     "text": [
      "runtime for ind model:153.15975952148438 seconds\n",
      "Finish ind\n",
      "Starting all\n",
      "runtime for all model:43.168681144714355 seconds\n",
      "Finish all\n",
      "Starting ind\n"
     ]
    },
    {
     "name": "stderr",
     "output_type": "stream",
     "text": [
      "\n",
      "Choose one progress bar: 10it [32:41, 196.12s/it]\u001b[A"
     ]
    },
    {
     "name": "stdout",
     "output_type": "stream",
     "text": [
      "runtime for ind model:155.84725308418274 seconds\n",
      "Finish ind\n",
      "MSE all: 0.7949108445967384\n",
      "MSE ind: 0\n",
      "for ind was chosen\n"
     ]
    },
    {
     "name": "stderr",
     "output_type": "stream",
     "text": [
      "\n",
      "CV progress bar: 2it [1:11:42, 2149.87s/it]"
     ]
    },
    {
     "name": "stdout",
     "output_type": "stream",
     "text": [
      "runtime for ind model:182.48957204818726 seconds\n",
      "runtime for choose one model:2143.742514371872 seconds\n",
      "starting choose one model\n"
     ]
    },
    {
     "name": "stderr",
     "output_type": "stream",
     "text": [
      "\n",
      "Choose one progress bar: 0it [00:00, ?it/s]\u001b[A"
     ]
    },
    {
     "name": "stdout",
     "output_type": "stream",
     "text": [
      "Starting all\n",
      "runtime for all model:43.194863080978394 seconds\n",
      "Finish all\n",
      "Starting ind\n"
     ]
    },
    {
     "name": "stderr",
     "output_type": "stream",
     "text": [
      "\n",
      "Choose one progress bar: 1it [03:18, 198.38s/it]\u001b[A"
     ]
    },
    {
     "name": "stdout",
     "output_type": "stream",
     "text": [
      "runtime for ind model:155.1848361492157 seconds\n",
      "Finish ind\n",
      "Starting all\n",
      "runtime for all model:44.28714609146118 seconds\n",
      "Finish all\n",
      "Starting ind\n"
     ]
    },
    {
     "name": "stderr",
     "output_type": "stream",
     "text": [
      "\n",
      "Choose one progress bar: 2it [06:36, 198.37s/it]\u001b[A"
     ]
    },
    {
     "name": "stdout",
     "output_type": "stream",
     "text": [
      "runtime for ind model:154.0627040863037 seconds\n",
      "Finish ind\n",
      "Starting all\n",
      "runtime for all model:45.837855100631714 seconds\n",
      "Finish all\n",
      "Starting ind\n"
     ]
    },
    {
     "name": "stderr",
     "output_type": "stream",
     "text": [
      "\n",
      "Choose one progress bar: 3it [09:57, 199.24s/it]\u001b[A"
     ]
    },
    {
     "name": "stdout",
     "output_type": "stream",
     "text": [
      "runtime for ind model:154.43248295783997 seconds\n",
      "Finish ind\n",
      "Starting all\n",
      "runtime for all model:44.61935234069824 seconds\n",
      "Finish all\n",
      "Starting ind\n"
     ]
    },
    {
     "name": "stderr",
     "output_type": "stream",
     "text": [
      "\n",
      "Choose one progress bar: 4it [13:16, 199.48s/it]\u001b[A"
     ]
    },
    {
     "name": "stdout",
     "output_type": "stream",
     "text": [
      "runtime for ind model:155.2319371700287 seconds\n",
      "Finish ind\n",
      "Starting all\n",
      "runtime for all model:45.27430868148804 seconds\n",
      "Finish all\n",
      "Starting ind\n"
     ]
    },
    {
     "name": "stderr",
     "output_type": "stream",
     "text": [
      "\n",
      "Choose one progress bar: 5it [16:36, 199.57s/it]\u001b[A"
     ]
    },
    {
     "name": "stdout",
     "output_type": "stream",
     "text": [
      "runtime for ind model:154.44418692588806 seconds\n",
      "Finish ind\n",
      "Starting all\n",
      "runtime for all model:43.46675181388855 seconds\n",
      "Finish all\n",
      "Starting ind\n"
     ]
    },
    {
     "name": "stderr",
     "output_type": "stream",
     "text": [
      "\n",
      "Choose one progress bar: 6it [19:53, 198.80s/it]\u001b[A"
     ]
    },
    {
     "name": "stdout",
     "output_type": "stream",
     "text": [
      "runtime for ind model:153.8389184474945 seconds\n",
      "Finish ind\n",
      "Starting all\n",
      "runtime for all model:44.157928228378296 seconds\n",
      "Finish all\n",
      "Starting ind\n"
     ]
    },
    {
     "name": "stderr",
     "output_type": "stream",
     "text": [
      "\n",
      "Choose one progress bar: 7it [23:13, 198.92s/it]\u001b[A"
     ]
    },
    {
     "name": "stdout",
     "output_type": "stream",
     "text": [
      "runtime for ind model:154.98406553268433 seconds\n",
      "Finish ind\n",
      "Starting all\n",
      "runtime for all model:44.32640552520752 seconds\n",
      "Finish all\n",
      "Starting ind\n"
     ]
    },
    {
     "name": "stderr",
     "output_type": "stream",
     "text": [
      "\n",
      "Choose one progress bar: 8it [26:29, 198.13s/it]\u001b[A"
     ]
    },
    {
     "name": "stdout",
     "output_type": "stream",
     "text": [
      "runtime for ind model:152.12674355506897 seconds\n",
      "Finish ind\n",
      "Starting all\n",
      "runtime for all model:43.051695823669434 seconds\n",
      "Finish all\n",
      "Starting ind\n"
     ]
    },
    {
     "name": "stderr",
     "output_type": "stream",
     "text": [
      "\n",
      "Choose one progress bar: 9it [29:48, 198.33s/it]\u001b[A"
     ]
    },
    {
     "name": "stdout",
     "output_type": "stream",
     "text": [
      "runtime for ind model:155.70802569389343 seconds\n",
      "Finish ind\n",
      "Starting all\n",
      "runtime for all model:43.198830127716064 seconds\n",
      "Finish all\n",
      "Starting ind\n"
     ]
    },
    {
     "name": "stderr",
     "output_type": "stream",
     "text": [
      "\n",
      "Choose one progress bar: 10it [33:03, 198.31s/it]\u001b[A"
     ]
    },
    {
     "name": "stdout",
     "output_type": "stream",
     "text": [
      "runtime for ind model:151.56564116477966 seconds\n",
      "Finish ind\n",
      "MSE all: 0.7562345326480108\n",
      "MSE ind: 0\n",
      "for ind was chosen\n"
     ]
    },
    {
     "name": "stderr",
     "output_type": "stream",
     "text": [
      "\n",
      "CV progress bar: 3it [1:47:47, 2157.05s/it]"
     ]
    },
    {
     "name": "stdout",
     "output_type": "stream",
     "text": [
      "runtime for ind model:182.5377435684204 seconds\n",
      "runtime for choose one model:2165.5986428260803 seconds\n",
      "starting choose one model\n"
     ]
    },
    {
     "name": "stderr",
     "output_type": "stream",
     "text": [
      "\n",
      "Choose one progress bar: 0it [00:00, ?it/s]\u001b[A"
     ]
    },
    {
     "name": "stdout",
     "output_type": "stream",
     "text": [
      "Starting all\n",
      "runtime for all model:43.40870952606201 seconds\n",
      "Finish all\n",
      "Starting ind\n"
     ]
    },
    {
     "name": "stderr",
     "output_type": "stream",
     "text": [
      "\n",
      "Choose one progress bar: 1it [03:17, 197.28s/it]\u001b[A"
     ]
    },
    {
     "name": "stdout",
     "output_type": "stream",
     "text": [
      "runtime for ind model:153.87030267715454 seconds\n",
      "Finish ind\n",
      "Starting all\n",
      "runtime for all model:42.12342143058777 seconds\n",
      "Finish all\n",
      "Starting ind\n"
     ]
    },
    {
     "name": "stderr",
     "output_type": "stream",
     "text": [
      "\n",
      "Choose one progress bar: 2it [06:32, 196.03s/it]\u001b[A"
     ]
    },
    {
     "name": "stdout",
     "output_type": "stream",
     "text": [
      "runtime for ind model:153.03308534622192 seconds\n",
      "Finish ind\n",
      "Starting all\n",
      "runtime for all model:42.90932631492615 seconds\n",
      "Finish all\n",
      "Starting ind\n"
     ]
    },
    {
     "name": "stderr",
     "output_type": "stream",
     "text": [
      "\n",
      "Choose one progress bar: 3it [09:47, 195.76s/it]\u001b[A"
     ]
    },
    {
     "name": "stdout",
     "output_type": "stream",
     "text": [
      "runtime for ind model:152.51302194595337 seconds\n",
      "Finish ind\n",
      "Starting all\n",
      "runtime for all model:43.91707921028137 seconds\n",
      "Finish all\n",
      "Starting ind\n"
     ]
    },
    {
     "name": "stderr",
     "output_type": "stream",
     "text": [
      "\n",
      "Choose one progress bar: 4it [13:04, 196.20s/it]\u001b[A"
     ]
    },
    {
     "name": "stdout",
     "output_type": "stream",
     "text": [
      "runtime for ind model:152.94747805595398 seconds\n",
      "Finish ind\n",
      "Starting all\n",
      "runtime for all model:41.956379890441895 seconds\n",
      "Finish all\n",
      "Starting ind\n"
     ]
    },
    {
     "name": "stderr",
     "output_type": "stream",
     "text": [
      "\n",
      "Choose one progress bar: 5it [16:15, 194.34s/it]\u001b[A"
     ]
    },
    {
     "name": "stdout",
     "output_type": "stream",
     "text": [
      "runtime for ind model:149.09224224090576 seconds\n",
      "Finish ind\n",
      "Starting all\n",
      "runtime for all model:45.17030668258667 seconds\n",
      "Finish all\n",
      "Starting ind\n"
     ]
    },
    {
     "name": "stderr",
     "output_type": "stream",
     "text": [
      "\n",
      "Choose one progress bar: 6it [19:33, 195.34s/it]\u001b[A"
     ]
    },
    {
     "name": "stdout",
     "output_type": "stream",
     "text": [
      "runtime for ind model:152.09255528450012 seconds\n",
      "Finish ind\n",
      "Starting all\n",
      "runtime for all model:43.73978900909424 seconds\n",
      "Finish all\n",
      "Starting ind\n"
     ]
    },
    {
     "name": "stderr",
     "output_type": "stream",
     "text": [
      "\n",
      "Choose one progress bar: 7it [22:52, 196.83s/it]\u001b[A"
     ]
    },
    {
     "name": "stdout",
     "output_type": "stream",
     "text": [
      "runtime for ind model:156.14740920066833 seconds\n",
      "Finish ind\n",
      "Starting all\n",
      "runtime for all model:44.26457452774048 seconds\n",
      "Finish all\n",
      "Starting ind\n"
     ]
    },
    {
     "name": "stderr",
     "output_type": "stream",
     "text": [
      "\n",
      "Choose one progress bar: 8it [26:07, 196.05s/it]\u001b[A"
     ]
    },
    {
     "name": "stdout",
     "output_type": "stream",
     "text": [
      "runtime for ind model:150.11990118026733 seconds\n",
      "Finish ind\n",
      "Starting all\n",
      "runtime for all model:43.626692056655884 seconds\n",
      "Finish all\n",
      "Starting ind\n"
     ]
    },
    {
     "name": "stderr",
     "output_type": "stream",
     "text": [
      "\n",
      "Choose one progress bar: 9it [29:26, 196.89s/it]\u001b[A"
     ]
    },
    {
     "name": "stdout",
     "output_type": "stream",
     "text": [
      "runtime for ind model:155.0916383266449 seconds\n",
      "Finish ind\n",
      "Starting all\n",
      "runtime for all model:41.8945255279541 seconds\n",
      "Finish all\n",
      "Starting ind\n"
     ]
    },
    {
     "name": "stderr",
     "output_type": "stream",
     "text": [
      "\n",
      "Choose one progress bar: 10it [32:34, 195.46s/it]\u001b[A"
     ]
    },
    {
     "name": "stdout",
     "output_type": "stream",
     "text": [
      "runtime for ind model:146.64803862571716 seconds\n",
      "Finish ind\n",
      "MSE all: 0.8014150644076401\n",
      "MSE ind: 0\n",
      "for ind was chosen\n"
     ]
    },
    {
     "name": "stderr",
     "output_type": "stream",
     "text": [
      "\n",
      "CV progress bar: 4it [2:23:27, 2149.99s/it]"
     ]
    },
    {
     "name": "stdout",
     "output_type": "stream",
     "text": [
      "runtime for ind model:184.51460814476013 seconds\n",
      "runtime for choose one model:2139.150175333023 seconds\n",
      "starting choose one model\n"
     ]
    },
    {
     "name": "stderr",
     "output_type": "stream",
     "text": [
      "\n",
      "Choose one progress bar: 0it [00:00, ?it/s]\u001b[A"
     ]
    },
    {
     "name": "stdout",
     "output_type": "stream",
     "text": [
      "Starting all\n",
      "runtime for all model:44.36696219444275 seconds\n",
      "Finish all\n",
      "Starting ind\n"
     ]
    },
    {
     "name": "stderr",
     "output_type": "stream",
     "text": [
      "\n",
      "Choose one progress bar: 1it [03:21, 201.67s/it]\u001b[A"
     ]
    },
    {
     "name": "stdout",
     "output_type": "stream",
     "text": [
      "runtime for ind model:157.30233192443848 seconds\n",
      "Finish ind\n",
      "Starting all\n",
      "runtime for all model:42.809728145599365 seconds\n",
      "Finish all\n",
      "Starting ind\n"
     ]
    },
    {
     "name": "stderr",
     "output_type": "stream",
     "text": [
      "\n",
      "Choose one progress bar: 2it [06:41, 200.73s/it]\u001b[A"
     ]
    },
    {
     "name": "stdout",
     "output_type": "stream",
     "text": [
      "runtime for ind model:157.25406765937805 seconds\n",
      "Finish ind\n",
      "Starting all\n",
      "runtime for all model:43.513312578201294 seconds\n",
      "Finish all\n",
      "Starting ind\n"
     ]
    },
    {
     "name": "stderr",
     "output_type": "stream",
     "text": [
      "\n",
      "Choose one progress bar: 3it [10:03, 201.19s/it]\u001b[A"
     ]
    },
    {
     "name": "stdout",
     "output_type": "stream",
     "text": [
      "runtime for ind model:158.21403574943542 seconds\n",
      "Finish ind\n",
      "Starting all\n",
      "runtime for all model:44.65818905830383 seconds\n",
      "Finish all\n",
      "Starting ind\n"
     ]
    },
    {
     "name": "stderr",
     "output_type": "stream",
     "text": [
      "\n",
      "Choose one progress bar: 4it [13:25, 201.59s/it]\u001b[A"
     ]
    },
    {
     "name": "stdout",
     "output_type": "stream",
     "text": [
      "runtime for ind model:157.54802012443542 seconds\n",
      "Finish ind\n",
      "Starting all\n",
      "runtime for all model:44.88839364051819 seconds\n",
      "Finish all\n",
      "Starting ind\n"
     ]
    },
    {
     "name": "stderr",
     "output_type": "stream",
     "text": [
      "\n",
      "Choose one progress bar: 5it [16:49, 202.28s/it]\u001b[A"
     ]
    },
    {
     "name": "stdout",
     "output_type": "stream",
     "text": [
      "runtime for ind model:158.6018693447113 seconds\n",
      "Finish ind\n",
      "Starting all\n",
      "runtime for all model:42.84245729446411 seconds\n",
      "Finish all\n",
      "Starting ind\n"
     ]
    },
    {
     "name": "stderr",
     "output_type": "stream",
     "text": [
      "\n",
      "Choose one progress bar: 6it [20:03, 199.41s/it]\u001b[A"
     ]
    },
    {
     "name": "stdout",
     "output_type": "stream",
     "text": [
      "runtime for ind model:150.98801493644714 seconds\n",
      "Finish ind\n",
      "Starting all\n",
      "runtime for all model:44.07383346557617 seconds\n",
      "Finish all\n",
      "Starting ind\n"
     ]
    },
    {
     "name": "stderr",
     "output_type": "stream",
     "text": [
      "\n",
      "Choose one progress bar: 7it [23:22, 199.32s/it]\u001b[A"
     ]
    },
    {
     "name": "stdout",
     "output_type": "stream",
     "text": [
      "runtime for ind model:155.05628752708435 seconds\n",
      "Finish ind\n",
      "Starting all\n",
      "runtime for all model:44.938896894454956 seconds\n",
      "Finish all\n",
      "Starting ind\n"
     ]
    },
    {
     "name": "stderr",
     "output_type": "stream",
     "text": [
      "\n",
      "Choose one progress bar: 8it [26:41, 199.30s/it]\u001b[A"
     ]
    },
    {
     "name": "stdout",
     "output_type": "stream",
     "text": [
      "runtime for ind model:154.3096034526825 seconds\n",
      "Finish ind\n",
      "Starting all\n",
      "runtime for all model:44.256083250045776 seconds\n",
      "Finish all\n",
      "Starting ind\n"
     ]
    },
    {
     "name": "stderr",
     "output_type": "stream",
     "text": [
      "\n",
      "Choose one progress bar: 9it [30:04, 200.52s/it]\u001b[A"
     ]
    },
    {
     "name": "stdout",
     "output_type": "stream",
     "text": [
      "runtime for ind model:158.9417164325714 seconds\n",
      "Finish ind\n",
      "Starting all\n",
      "runtime for all model:43.174338579177856 seconds\n",
      "Finish all\n",
      "Starting ind\n"
     ]
    },
    {
     "name": "stderr",
     "output_type": "stream",
     "text": [
      "\n",
      "Choose one progress bar: 10it [33:24, 200.44s/it]\u001b[A"
     ]
    },
    {
     "name": "stdout",
     "output_type": "stream",
     "text": [
      "runtime for ind model:156.60186338424683 seconds\n",
      "Finish ind\n",
      "MSE all: 0.7917380544450789\n",
      "MSE ind: 0\n",
      "for ind was chosen\n"
     ]
    },
    {
     "name": "stderr",
     "output_type": "stream",
     "text": [
      "\n",
      "CV progress bar: 5it [2:59:57, 2164.61s/it]"
     ]
    },
    {
     "name": "stdout",
     "output_type": "stream",
     "text": [
      "runtime for ind model:186.11898922920227 seconds\n",
      "runtime for choose one model:2190.5293316841125 seconds\n",
      "starting choose one model\n"
     ]
    },
    {
     "name": "stderr",
     "output_type": "stream",
     "text": [
      "\n",
      "Choose one progress bar: 0it [00:00, ?it/s]\u001b[A"
     ]
    },
    {
     "name": "stdout",
     "output_type": "stream",
     "text": [
      "Starting all\n",
      "runtime for all model:42.24721884727478 seconds\n",
      "Finish all\n",
      "Starting ind\n"
     ]
    },
    {
     "name": "stderr",
     "output_type": "stream",
     "text": [
      "\n",
      "Choose one progress bar: 1it [03:14, 194.87s/it]\u001b[A"
     ]
    },
    {
     "name": "stdout",
     "output_type": "stream",
     "text": [
      "runtime for ind model:152.61571288108826 seconds\n",
      "Finish ind\n",
      "Starting all\n",
      "runtime for all model:43.75008749961853 seconds\n",
      "Finish all\n",
      "Starting ind\n"
     ]
    },
    {
     "name": "stderr",
     "output_type": "stream",
     "text": [
      "\n",
      "Choose one progress bar: 2it [06:32, 196.32s/it]\u001b[A"
     ]
    },
    {
     "name": "stdout",
     "output_type": "stream",
     "text": [
      "runtime for ind model:153.58642387390137 seconds\n",
      "Finish ind\n",
      "Starting all\n",
      "runtime for all model:41.696943044662476 seconds\n",
      "Finish all\n",
      "Starting ind\n"
     ]
    },
    {
     "name": "stderr",
     "output_type": "stream",
     "text": [
      "\n",
      "Choose one progress bar: 3it [09:44, 194.70s/it]\u001b[A"
     ]
    },
    {
     "name": "stdout",
     "output_type": "stream",
     "text": [
      "runtime for ind model:151.06311464309692 seconds\n",
      "Finish ind\n",
      "Starting all\n",
      "runtime for all model:43.063108682632446 seconds\n",
      "Finish all\n",
      "Starting ind\n"
     ]
    },
    {
     "name": "stderr",
     "output_type": "stream",
     "text": [
      "\n",
      "Choose one progress bar: 4it [13:02, 195.70s/it]\u001b[A"
     ]
    },
    {
     "name": "stdout",
     "output_type": "stream",
     "text": [
      "runtime for ind model:154.17027020454407 seconds\n",
      "Finish ind\n",
      "Starting all\n",
      "runtime for all model:42.904866456985474 seconds\n",
      "Finish all\n",
      "Starting ind\n"
     ]
    },
    {
     "name": "stderr",
     "output_type": "stream",
     "text": [
      "\n",
      "Choose one progress bar: 5it [16:19, 196.23s/it]\u001b[A"
     ]
    },
    {
     "name": "stdout",
     "output_type": "stream",
     "text": [
      "runtime for ind model:154.2444190979004 seconds\n",
      "Finish ind\n",
      "Starting all\n",
      "runtime for all model:43.318541049957275 seconds\n",
      "Finish all\n",
      "Starting ind\n"
     ]
    },
    {
     "name": "stderr",
     "output_type": "stream",
     "text": [
      "\n",
      "Choose one progress bar: 6it [19:37, 196.96s/it]\u001b[A"
     ]
    },
    {
     "name": "stdout",
     "output_type": "stream",
     "text": [
      "runtime for ind model:155.05606889724731 seconds\n",
      "Finish ind\n",
      "Starting all\n",
      "runtime for all model:44.3459894657135 seconds\n",
      "Finish all\n",
      "Starting ind\n"
     ]
    },
    {
     "name": "stderr",
     "output_type": "stream",
     "text": [
      "\n",
      "Choose one progress bar: 7it [22:55, 197.35s/it]\u001b[A"
     ]
    },
    {
     "name": "stdout",
     "output_type": "stream",
     "text": [
      "runtime for ind model:153.7935085296631 seconds\n",
      "Finish ind\n",
      "Starting all\n",
      "runtime for all model:42.71026301383972 seconds\n",
      "Finish all\n",
      "Starting ind\n"
     ]
    },
    {
     "name": "stderr",
     "output_type": "stream",
     "text": [
      "\n",
      "Choose one progress bar: 8it [26:15, 198.10s/it]\u001b[A"
     ]
    },
    {
     "name": "stdout",
     "output_type": "stream",
     "text": [
      "runtime for ind model:156.99999618530273 seconds\n",
      "Finish ind\n",
      "Starting all\n",
      "runtime for all model:43.67109560966492 seconds\n",
      "Finish all\n",
      "Starting ind\n"
     ]
    },
    {
     "name": "stderr",
     "output_type": "stream",
     "text": [
      "\n",
      "Choose one progress bar: 9it [29:32, 197.69s/it]\u001b[A"
     ]
    },
    {
     "name": "stdout",
     "output_type": "stream",
     "text": [
      "runtime for ind model:153.12389016151428 seconds\n",
      "Finish ind\n",
      "Starting all\n",
      "runtime for all model:42.38739562034607 seconds\n",
      "Finish all\n",
      "Starting ind\n"
     ]
    },
    {
     "name": "stderr",
     "output_type": "stream",
     "text": [
      "\n",
      "Choose one progress bar: 10it [32:50, 197.00s/it]\u001b[A"
     ]
    },
    {
     "name": "stdout",
     "output_type": "stream",
     "text": [
      "runtime for ind model:155.22721433639526 seconds\n",
      "Finish ind\n",
      "MSE all: 0.7752712735579669\n",
      "MSE ind: 0\n",
      "for ind was chosen\n"
     ]
    },
    {
     "name": "stderr",
     "output_type": "stream",
     "text": [
      "\n",
      "CV progress bar: 6it [3:35:49, 2160.12s/it]"
     ]
    },
    {
     "name": "stdout",
     "output_type": "stream",
     "text": [
      "runtime for ind model:181.35988926887512 seconds\n",
      "runtime for choose one model:2151.3969926834106 seconds\n",
      "starting choose one model\n"
     ]
    },
    {
     "name": "stderr",
     "output_type": "stream",
     "text": [
      "\n",
      "Choose one progress bar: 0it [00:00, ?it/s]\u001b[A"
     ]
    },
    {
     "name": "stdout",
     "output_type": "stream",
     "text": [
      "Starting all\n",
      "runtime for all model:43.361534118652344 seconds\n",
      "Finish all\n",
      "Starting ind\n"
     ]
    },
    {
     "name": "stderr",
     "output_type": "stream",
     "text": [
      "\n",
      "Choose one progress bar: 1it [03:18, 198.68s/it]\u001b[A"
     ]
    },
    {
     "name": "stdout",
     "output_type": "stream",
     "text": [
      "runtime for ind model:155.31731867790222 seconds\n",
      "Finish ind\n",
      "Starting all\n",
      "runtime for all model:43.70699453353882 seconds\n",
      "Finish all\n",
      "Starting ind\n"
     ]
    },
    {
     "name": "stderr",
     "output_type": "stream",
     "text": [
      "\n",
      "Choose one progress bar: 2it [06:39, 200.03s/it]\u001b[A"
     ]
    },
    {
     "name": "stdout",
     "output_type": "stream",
     "text": [
      "runtime for ind model:157.2690613269806 seconds\n",
      "Finish ind\n",
      "Starting all\n",
      "runtime for all model:44.694934129714966 seconds\n",
      "Finish all\n",
      "Starting ind\n"
     ]
    },
    {
     "name": "stderr",
     "output_type": "stream",
     "text": [
      "\n",
      "Choose one progress bar: 3it [10:01, 200.79s/it]\u001b[A"
     ]
    },
    {
     "name": "stdout",
     "output_type": "stream",
     "text": [
      "runtime for ind model:156.98623991012573 seconds\n",
      "Finish ind\n",
      "Starting all\n",
      "runtime for all model:42.647045373916626 seconds\n",
      "Finish all\n",
      "Starting ind\n"
     ]
    },
    {
     "name": "stderr",
     "output_type": "stream",
     "text": [
      "\n",
      "Choose one progress bar: 4it [13:17, 198.81s/it]\u001b[A"
     ]
    },
    {
     "name": "stdout",
     "output_type": "stream",
     "text": [
      "runtime for ind model:153.13206386566162 seconds\n",
      "Finish ind\n",
      "Starting all\n",
      "runtime for all model:44.68956804275513 seconds\n",
      "Finish all\n",
      "Starting ind\n"
     ]
    },
    {
     "name": "stderr",
     "output_type": "stream",
     "text": [
      "\n",
      "Choose one progress bar: 5it [16:39, 200.06s/it]\u001b[A"
     ]
    },
    {
     "name": "stdout",
     "output_type": "stream",
     "text": [
      "runtime for ind model:157.57225632667542 seconds\n",
      "Finish ind\n",
      "Starting all\n",
      "runtime for all model:44.814600706100464 seconds\n",
      "Finish all\n",
      "Starting ind\n"
     ]
    },
    {
     "name": "stderr",
     "output_type": "stream",
     "text": [
      "\n",
      "Choose one progress bar: 6it [20:00, 200.32s/it]\u001b[A"
     ]
    },
    {
     "name": "stdout",
     "output_type": "stream",
     "text": [
      "runtime for ind model:155.99933624267578 seconds\n",
      "Finish ind\n",
      "Starting all\n",
      "runtime for all model:43.37910032272339 seconds\n",
      "Finish all\n",
      "Starting ind\n"
     ]
    },
    {
     "name": "stderr",
     "output_type": "stream",
     "text": [
      "\n",
      "Choose one progress bar: 7it [23:22, 201.05s/it]\u001b[A"
     ]
    },
    {
     "name": "stdout",
     "output_type": "stream",
     "text": [
      "runtime for ind model:159.15710926055908 seconds\n",
      "Finish ind\n",
      "Starting all\n",
      "runtime for all model:44.932801246643066 seconds\n",
      "Finish all\n",
      "Starting ind\n"
     ]
    },
    {
     "name": "stderr",
     "output_type": "stream",
     "text": [
      "\n",
      "Choose one progress bar: 8it [26:47, 202.20s/it]\u001b[A"
     ]
    },
    {
     "name": "stdout",
     "output_type": "stream",
     "text": [
      "runtime for ind model:159.73329305648804 seconds\n",
      "Finish ind\n",
      "Starting all\n",
      "runtime for all model:46.273128271102905 seconds\n",
      "Finish all\n",
      "Starting ind\n"
     ]
    },
    {
     "name": "stderr",
     "output_type": "stream",
     "text": [
      "\n",
      "Choose one progress bar: 9it [30:12, 202.97s/it]\u001b[A"
     ]
    },
    {
     "name": "stdout",
     "output_type": "stream",
     "text": [
      "runtime for ind model:158.3821370601654 seconds\n",
      "Finish ind\n",
      "Starting all\n",
      "runtime for all model:43.48513698577881 seconds\n",
      "Finish all\n",
      "Starting ind\n"
     ]
    },
    {
     "name": "stderr",
     "output_type": "stream",
     "text": [
      "\n",
      "Choose one progress bar: 10it [33:31, 201.15s/it]\u001b[A"
     ]
    },
    {
     "name": "stdout",
     "output_type": "stream",
     "text": [
      "runtime for ind model:155.93509936332703 seconds\n",
      "Finish ind\n",
      "MSE all: 0.7883114410812868\n",
      "MSE ind: 0\n",
      "for ind was chosen\n"
     ]
    },
    {
     "name": "stderr",
     "output_type": "stream",
     "text": [
      "\n",
      "CV progress bar: 7it [4:12:26, 2172.25s/it]"
     ]
    },
    {
     "name": "stdout",
     "output_type": "stream",
     "text": [
      "runtime for ind model:185.6892728805542 seconds\n",
      "runtime for choose one model:2197.226981639862 seconds\n",
      "starting choose one model\n"
     ]
    },
    {
     "name": "stderr",
     "output_type": "stream",
     "text": [
      "\n",
      "Choose one progress bar: 0it [00:00, ?it/s]\u001b[A"
     ]
    },
    {
     "name": "stdout",
     "output_type": "stream",
     "text": [
      "Starting all\n",
      "runtime for all model:43.85080695152283 seconds\n",
      "Finish all\n",
      "Starting ind\n"
     ]
    },
    {
     "name": "stderr",
     "output_type": "stream",
     "text": [
      "\n",
      "Choose one progress bar: 1it [03:16, 196.99s/it]\u001b[A"
     ]
    },
    {
     "name": "stdout",
     "output_type": "stream",
     "text": [
      "runtime for ind model:153.14079928398132 seconds\n",
      "Finish ind\n",
      "Starting all\n",
      "runtime for all model:43.037745237350464 seconds\n",
      "Finish all\n",
      "Starting ind\n"
     ]
    },
    {
     "name": "stderr",
     "output_type": "stream",
     "text": [
      "\n",
      "Choose one progress bar: 2it [06:34, 197.04s/it]\u001b[A"
     ]
    },
    {
     "name": "stdout",
     "output_type": "stream",
     "text": [
      "runtime for ind model:154.02558636665344 seconds\n",
      "Finish ind\n",
      "Starting all\n",
      "runtime for all model:43.377275228500366 seconds\n",
      "Finish all\n",
      "Starting ind\n"
     ]
    },
    {
     "name": "stderr",
     "output_type": "stream",
     "text": [
      "\n",
      "Choose one progress bar: 3it [09:50, 196.77s/it]\u001b[A"
     ]
    },
    {
     "name": "stdout",
     "output_type": "stream",
     "text": [
      "runtime for ind model:153.05973863601685 seconds\n",
      "Finish ind\n",
      "Starting all\n",
      "runtime for all model:43.426427125930786 seconds\n",
      "Finish all\n",
      "Starting ind\n"
     ]
    },
    {
     "name": "stderr",
     "output_type": "stream",
     "text": [
      "\n",
      "Choose one progress bar: 4it [13:05, 196.13s/it]\u001b[A"
     ]
    },
    {
     "name": "stdout",
     "output_type": "stream",
     "text": [
      "runtime for ind model:151.7204613685608 seconds\n",
      "Finish ind\n",
      "Starting all\n",
      "runtime for all model:43.19008803367615 seconds\n",
      "Finish all\n",
      "Starting ind\n"
     ]
    },
    {
     "name": "stderr",
     "output_type": "stream",
     "text": [
      "\n",
      "Choose one progress bar: 5it [16:23, 196.81s/it]\u001b[A"
     ]
    },
    {
     "name": "stdout",
     "output_type": "stream",
     "text": [
      "runtime for ind model:154.8177568912506 seconds\n",
      "Finish ind\n",
      "Starting all\n",
      "runtime for all model:43.14901065826416 seconds\n",
      "Finish all\n",
      "Starting ind\n"
     ]
    },
    {
     "name": "stderr",
     "output_type": "stream",
     "text": [
      "\n",
      "Choose one progress bar: 6it [19:39, 196.55s/it]\u001b[A"
     ]
    },
    {
     "name": "stdout",
     "output_type": "stream",
     "text": [
      "runtime for ind model:152.88404035568237 seconds\n",
      "Finish ind\n",
      "Starting all\n",
      "runtime for all model:44.66415023803711 seconds\n",
      "Finish all\n",
      "Starting ind\n"
     ]
    },
    {
     "name": "stderr",
     "output_type": "stream",
     "text": [
      "\n",
      "Choose one progress bar: 7it [22:57, 197.11s/it]\u001b[A"
     ]
    },
    {
     "name": "stdout",
     "output_type": "stream",
     "text": [
      "runtime for ind model:153.58589339256287 seconds\n",
      "Finish ind\n",
      "Starting all\n",
      "runtime for all model:42.12966752052307 seconds\n",
      "Finish all\n",
      "Starting ind\n"
     ]
    },
    {
     "name": "stderr",
     "output_type": "stream",
     "text": [
      "\n",
      "Choose one progress bar: 8it [26:13, 196.63s/it]\u001b[A"
     ]
    },
    {
     "name": "stdout",
     "output_type": "stream",
     "text": [
      "runtime for ind model:153.46738004684448 seconds\n",
      "Finish ind\n",
      "Starting all\n",
      "runtime for all model:43.223087787628174 seconds\n",
      "Finish all\n",
      "Starting ind\n"
     ]
    },
    {
     "name": "stderr",
     "output_type": "stream",
     "text": [
      "\n",
      "Choose one progress bar: 9it [29:32, 197.50s/it]\u001b[A"
     ]
    },
    {
     "name": "stdout",
     "output_type": "stream",
     "text": [
      "runtime for ind model:156.17559266090393 seconds\n",
      "Finish ind\n",
      "Starting all\n",
      "runtime for all model:42.347100257873535 seconds\n",
      "Finish all\n",
      "Starting ind\n"
     ]
    },
    {
     "name": "stderr",
     "output_type": "stream",
     "text": [
      "\n",
      "Choose one progress bar: 10it [32:46, 196.64s/it]\u001b[A"
     ]
    },
    {
     "name": "stdout",
     "output_type": "stream",
     "text": [
      "runtime for ind model:151.02192854881287 seconds\n",
      "Finish ind\n",
      "MSE all: 0.7523637286629863\n",
      "MSE ind: 0\n",
      "for ind was chosen\n"
     ]
    },
    {
     "name": "stderr",
     "output_type": "stream",
     "text": [
      "\n",
      "CV progress bar: 8it [4:48:18, 2165.91s/it]"
     ]
    },
    {
     "name": "stdout",
     "output_type": "stream",
     "text": [
      "runtime for ind model:185.94764757156372 seconds\n",
      "runtime for choose one model:2152.314736366272 seconds\n",
      "starting choose one model\n"
     ]
    },
    {
     "name": "stderr",
     "output_type": "stream",
     "text": [
      "\n",
      "Choose one progress bar: 0it [00:00, ?it/s]\u001b[A"
     ]
    },
    {
     "name": "stdout",
     "output_type": "stream",
     "text": [
      "Starting all\n",
      "runtime for all model:42.698970317840576 seconds\n",
      "Finish all\n",
      "Starting ind\n"
     ]
    },
    {
     "name": "stderr",
     "output_type": "stream",
     "text": [
      "\n",
      "Choose one progress bar: 1it [03:16, 196.92s/it]\u001b[A"
     ]
    },
    {
     "name": "stdout",
     "output_type": "stream",
     "text": [
      "runtime for ind model:154.2213373184204 seconds\n",
      "Finish ind\n",
      "Starting all\n",
      "runtime for all model:43.10502648353577 seconds\n",
      "Finish all\n",
      "Starting ind\n"
     ]
    },
    {
     "name": "stderr",
     "output_type": "stream",
     "text": [
      "\n",
      "Choose one progress bar: 2it [06:36, 198.60s/it]\u001b[A"
     ]
    },
    {
     "name": "stdout",
     "output_type": "stream",
     "text": [
      "runtime for ind model:156.6547737121582 seconds\n",
      "Finish ind\n",
      "Starting all\n",
      "runtime for all model:41.803799867630005 seconds\n",
      "Finish all\n",
      "Starting ind\n"
     ]
    },
    {
     "name": "stderr",
     "output_type": "stream",
     "text": [
      "\n",
      "Choose one progress bar: 3it [09:48, 195.69s/it]\u001b[A"
     ]
    },
    {
     "name": "stdout",
     "output_type": "stream",
     "text": [
      "runtime for ind model:150.42828464508057 seconds\n",
      "Finish ind\n",
      "Starting all\n",
      "runtime for all model:41.891130208969116 seconds\n",
      "Finish all\n",
      "Starting ind\n"
     ]
    },
    {
     "name": "stderr",
     "output_type": "stream",
     "text": [
      "\n",
      "Choose one progress bar: 4it [13:04, 195.65s/it]\u001b[A"
     ]
    },
    {
     "name": "stdout",
     "output_type": "stream",
     "text": [
      "runtime for ind model:153.69637656211853 seconds\n",
      "Finish ind\n",
      "Starting all\n",
      "runtime for all model:42.5457968711853 seconds\n",
      "Finish all\n",
      "Starting ind\n"
     ]
    },
    {
     "name": "stderr",
     "output_type": "stream",
     "text": [
      "\n",
      "Choose one progress bar: 5it [16:21, 196.26s/it]\u001b[A"
     ]
    },
    {
     "name": "stdout",
     "output_type": "stream",
     "text": [
      "runtime for ind model:154.7823235988617 seconds\n",
      "Finish ind\n",
      "Starting all\n",
      "runtime for all model:42.663170337677 seconds\n",
      "Finish all\n",
      "Starting ind\n"
     ]
    },
    {
     "name": "stderr",
     "output_type": "stream",
     "text": [
      "\n",
      "Choose one progress bar: 6it [19:36, 195.70s/it]\u001b[A"
     ]
    },
    {
     "name": "stdout",
     "output_type": "stream",
     "text": [
      "runtime for ind model:151.939936876297 seconds\n",
      "Finish ind\n",
      "Starting all\n",
      "runtime for all model:41.89125347137451 seconds\n",
      "Finish all\n",
      "Starting ind\n"
     ]
    },
    {
     "name": "stderr",
     "output_type": "stream",
     "text": [
      "\n",
      "Choose one progress bar: 7it [22:53, 196.29s/it]\u001b[A"
     ]
    },
    {
     "name": "stdout",
     "output_type": "stream",
     "text": [
      "runtime for ind model:155.6096706390381 seconds\n",
      "Finish ind\n",
      "Starting all\n",
      "runtime for all model:42.94434428215027 seconds\n",
      "Finish all\n",
      "Starting ind\n"
     ]
    },
    {
     "name": "stderr",
     "output_type": "stream",
     "text": [
      "\n",
      "Choose one progress bar: 8it [26:16, 198.30s/it]\u001b[A"
     ]
    },
    {
     "name": "stdout",
     "output_type": "stream",
     "text": [
      "runtime for ind model:159.6667070388794 seconds\n",
      "Finish ind\n",
      "Starting all\n",
      "runtime for all model:41.255472898483276 seconds\n",
      "Finish all\n",
      "Starting ind\n"
     ]
    },
    {
     "name": "stderr",
     "output_type": "stream",
     "text": [
      "\n",
      "Choose one progress bar: 9it [29:35, 198.38s/it]\u001b[A"
     ]
    },
    {
     "name": "stdout",
     "output_type": "stream",
     "text": [
      "runtime for ind model:157.2823143005371 seconds\n",
      "Finish ind\n",
      "Starting all\n",
      "runtime for all model:42.092373847961426 seconds\n",
      "Finish all\n",
      "Starting ind\n"
     ]
    },
    {
     "name": "stderr",
     "output_type": "stream",
     "text": [
      "\n",
      "Choose one progress bar: 10it [32:49, 196.97s/it]\u001b[A"
     ]
    },
    {
     "name": "stdout",
     "output_type": "stream",
     "text": [
      "runtime for ind model:152.41754150390625 seconds\n",
      "Finish ind\n",
      "MSE all: 0.7845992766038453\n",
      "MSE ind: 0\n",
      "for ind was chosen\n"
     ]
    },
    {
     "name": "stderr",
     "output_type": "stream",
     "text": [
      "\n",
      "CV progress bar: 9it [5:24:08, 2160.90s/it]"
     ]
    },
    {
     "name": "stdout",
     "output_type": "stream",
     "text": [
      "runtime for ind model:180.2295699119568 seconds\n",
      "runtime for choose one model:2149.885892868042 seconds\n",
      "starting choose one model\n"
     ]
    },
    {
     "name": "stderr",
     "output_type": "stream",
     "text": [
      "\n",
      "Choose one progress bar: 0it [00:00, ?it/s]\u001b[A"
     ]
    },
    {
     "name": "stdout",
     "output_type": "stream",
     "text": [
      "Starting all\n",
      "runtime for all model:45.47081661224365 seconds\n",
      "Finish all\n",
      "Starting ind\n"
     ]
    },
    {
     "name": "stderr",
     "output_type": "stream",
     "text": [
      "\n",
      "Choose one progress bar: 1it [03:25, 205.84s/it]\u001b[A"
     ]
    },
    {
     "name": "stdout",
     "output_type": "stream",
     "text": [
      "runtime for ind model:160.36712217330933 seconds\n",
      "Finish ind\n",
      "Starting all\n",
      "runtime for all model:44.89057517051697 seconds\n",
      "Finish all\n",
      "Starting ind\n"
     ]
    },
    {
     "name": "stderr",
     "output_type": "stream",
     "text": [
      "\n",
      "Choose one progress bar: 2it [06:49, 204.51s/it]\u001b[A"
     ]
    },
    {
     "name": "stdout",
     "output_type": "stream",
     "text": [
      "runtime for ind model:158.67635798454285 seconds\n",
      "Finish ind\n",
      "Starting all\n",
      "runtime for all model:43.85280632972717 seconds\n",
      "Finish all\n",
      "Starting ind\n"
     ]
    },
    {
     "name": "stderr",
     "output_type": "stream",
     "text": [
      "\n",
      "Choose one progress bar: 3it [10:13, 204.30s/it]\u001b[A"
     ]
    },
    {
     "name": "stdout",
     "output_type": "stream",
     "text": [
      "runtime for ind model:160.19691705703735 seconds\n",
      "Finish ind\n",
      "Starting all\n",
      "runtime for all model:44.429149866104126 seconds\n",
      "Finish all\n",
      "Starting ind\n"
     ]
    },
    {
     "name": "stderr",
     "output_type": "stream",
     "text": [
      "\n",
      "Choose one progress bar: 4it [13:34, 203.07s/it]\u001b[A"
     ]
    },
    {
     "name": "stdout",
     "output_type": "stream",
     "text": [
      "runtime for ind model:156.75176429748535 seconds\n",
      "Finish ind\n",
      "Starting all\n",
      "runtime for all model:44.10159420967102 seconds\n",
      "Finish all\n",
      "Starting ind\n"
     ]
    },
    {
     "name": "stderr",
     "output_type": "stream",
     "text": [
      "\n",
      "Choose one progress bar: 5it [16:56, 202.58s/it]\u001b[A"
     ]
    },
    {
     "name": "stdout",
     "output_type": "stream",
     "text": [
      "runtime for ind model:157.60267615318298 seconds\n",
      "Finish ind\n",
      "Starting all\n",
      "runtime for all model:45.264755725860596 seconds\n",
      "Finish all\n",
      "Starting ind\n"
     ]
    },
    {
     "name": "stderr",
     "output_type": "stream",
     "text": [
      "\n",
      "Choose one progress bar: 6it [20:22, 203.63s/it]\u001b[A"
     ]
    },
    {
     "name": "stdout",
     "output_type": "stream",
     "text": [
      "runtime for ind model:160.39896154403687 seconds\n",
      "Finish ind\n",
      "Starting all\n",
      "runtime for all model:44.224191665649414 seconds\n",
      "Finish all\n",
      "Starting ind\n"
     ]
    },
    {
     "name": "stderr",
     "output_type": "stream",
     "text": [
      "\n",
      "Choose one progress bar: 7it [23:44, 203.26s/it]\u001b[A"
     ]
    },
    {
     "name": "stdout",
     "output_type": "stream",
     "text": [
      "runtime for ind model:158.26916193962097 seconds\n",
      "Finish ind\n",
      "Starting all\n",
      "runtime for all model:43.111180543899536 seconds\n",
      "Finish all\n",
      "Starting ind\n"
     ]
    },
    {
     "name": "stderr",
     "output_type": "stream",
     "text": [
      "\n",
      "Choose one progress bar: 8it [27:04, 202.34s/it]\u001b[A"
     ]
    },
    {
     "name": "stdout",
     "output_type": "stream",
     "text": [
      "runtime for ind model:157.257395029068 seconds\n",
      "Finish ind\n",
      "Starting all\n",
      "runtime for all model:44.95009732246399 seconds\n",
      "Finish all\n",
      "Starting ind\n"
     ]
    },
    {
     "name": "stderr",
     "output_type": "stream",
     "text": [
      "\n",
      "Choose one progress bar: 9it [30:28, 202.80s/it]\u001b[A"
     ]
    },
    {
     "name": "stdout",
     "output_type": "stream",
     "text": [
      "runtime for ind model:158.86339926719666 seconds\n",
      "Finish ind\n",
      "Starting all\n",
      "runtime for all model:44.241618633270264 seconds\n",
      "Finish all\n",
      "Starting ind\n"
     ]
    },
    {
     "name": "stderr",
     "output_type": "stream",
     "text": [
      "\n",
      "Choose one progress bar: 10it [33:52, 203.25s/it]\u001b[A"
     ]
    },
    {
     "name": "stdout",
     "output_type": "stream",
     "text": [
      "runtime for ind model:159.51273798942566 seconds\n",
      "Finish ind\n",
      "MSE all: 0.8204200774160797\n",
      "MSE ind: 0\n",
      "for ind was chosen\n"
     ]
    },
    {
     "name": "stderr",
     "output_type": "stream",
     "text": [
      "\n",
      "CV progress bar: 10it [6:01:07, 2166.72s/it]"
     ]
    },
    {
     "name": "stdout",
     "output_type": "stream",
     "text": [
      "runtime for ind model:186.20442724227905 seconds\n",
      "runtime for choose one model:2218.7015273571014 seconds\n",
      "MSE for all model:   nan\n",
      "MSE for ind model:   nan\n",
      "MSE LOO model:       nan\n",
      "MSE choose one model:0.08149355690110231\n",
      "stdev choose one model:0.016397446589141947\n",
      "Total runtime: 361.120239341259 minutes\n",
      "Total runtime: 361.1202472925186 minutes\n"
     ]
    },
    {
     "name": "stderr",
     "output_type": "stream",
     "text": [
      "\n",
      "/home/yehudan/Desktop/DecisionTree/DecisionTree/datasets/mse_comparison.py:276: RuntimeWarning: Mean of empty slice.\n",
      "  print(f'MSE for all model:   {np.array(mse_all).mean()}')\n",
      "/data/anaconda3/lib/python3.9/site-packages/numpy/core/_methods.py:188: RuntimeWarning: invalid value encountered in double_scalars\n",
      "  ret = ret.dtype.type(ret / rcount)\n",
      "/home/yehudan/Desktop/DecisionTree/DecisionTree/datasets/mse_comparison.py:277: RuntimeWarning: Mean of empty slice.\n",
      "  print(f'MSE for ind model:   {np.array(mse_ind).mean()}')\n",
      "/home/yehudan/Desktop/DecisionTree/DecisionTree/datasets/mse_comparison.py:278: RuntimeWarning: Mean of empty slice.\n",
      "  print(f'MSE LOO model:       {np.array(mse_loo).mean()}')\n"
     ]
    }
   ],
   "source": [
    "start = time.time()\n",
    "mse_all, mse_ind, mse_loo, mse_choose = mse_comparison.mse_comparison(path=None,df=df_classification_new, n_features=23,\n",
    "                                                max_depth=np.inf,\n",
    "                              min_samples_leaf=int(0.05*df_classification_new.shape[0]),\n",
    "                               n_splits=10,model='gb',n_estimators=50,regression=False,only_choose_one=True,\n",
    "                                  random_state=3)\n",
    "print(f'Total runtime: {(time.time()-start)/60} minutes')"
   ]
  },
  {
   "cell_type": "code",
   "execution_count": null,
   "id": "a3e179bd",
   "metadata": {},
   "outputs": [],
   "source": []
  }
 ],
 "metadata": {
  "kernelspec": {
   "display_name": "Python 3 (ipykernel)",
   "language": "python",
   "name": "python3"
  },
  "language_info": {
   "codemirror_mode": {
    "name": "ipython",
    "version": 3
   },
   "file_extension": ".py",
   "mimetype": "text/x-python",
   "name": "python",
   "nbconvert_exporter": "python",
   "pygments_lexer": "ipython3",
   "version": "3.9.7"
  }
 },
 "nbformat": 4,
 "nbformat_minor": 5
}
